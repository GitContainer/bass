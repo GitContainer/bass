{
 "metadata": {
  "name": "",
  "signature": "sha256:b626e2984bd14dd0d90fb2e91090c2d1223673503404aaaea97b4676ecc247ef"
 },
 "nbformat": 3,
 "nbformat_minor": 0,
 "worksheets": [
  {
   "cells": [
    {
     "cell_type": "heading",
     "level": 1,
     "metadata": {},
     "source": [
      "Welcome to the Development Version of BASS"
     ]
    },
    {
     "cell_type": "markdown",
     "metadata": {},
     "source": [
      "This notebook is inteded for very advanced users, as there is almost no interactivity features. However, this notebook is all about speed. If you know exactly what you are doing, then this is the notebook for you."
     ]
    },
    {
     "cell_type": "markdown",
     "metadata": {},
     "source": [
      "    BASS: Biomedical Analysis Software Suite for event detection and signal processing.\n",
      "    Copyright (C) 2015  Abigail Dobyns\n",
      "\n",
      "    This program is free software: you can redistribute it and/or modify\n",
      "    it under the terms of the GNU General Public License as published by\n",
      "    the Free Software Foundation, either version 3 of the License, or\n",
      "    (at your option) any later version.\n",
      "\n",
      "    This program is distributed in the hope that it will be useful,\n",
      "    but WITHOUT ANY WARRANTY; without even the implied warranty of\n",
      "    MERCHANTABILITY or FITNESS FOR A PARTICULAR PURPOSE.  See the\n",
      "    GNU General Public License for more details.\n",
      "\n",
      "    You should have received a copy of the GNU General Public License\n",
      "    along with this program.  If not, see <http://www.gnu.org/licenses/>"
     ]
    },
    {
     "cell_type": "code",
     "collapsed": false,
     "input": [
      "from bass import *"
     ],
     "language": "python",
     "metadata": {},
     "outputs": [
      {
       "output_type": "stream",
       "stream": "stdout",
       "text": [
        "BASS ready!\n"
       ]
      }
     ],
     "prompt_number": 1
    },
    {
     "cell_type": "markdown",
     "metadata": {},
     "source": [
      "**WARNING** All strings should be raw, especially if in Windows.\n",
      "    \n",
      "    r'String!'"
     ]
    },
    {
     "cell_type": "code",
     "collapsed": false,
     "input": [
      "#initialize new file\n",
      "Data = {}\n",
      "Settings = {}\n",
      "Results ={}\n",
      "\n",
      "############################################################################################\n",
      "#manual Setting block\n",
      "Settings['folder']= r\"/Users/abigaildobyns/Desktop\"\n",
      "Settings['Label'] = r'rat34_ECG.txt'\n",
      "Settings['Output Folder'] = r\"/Users/abigaildobyns/Desktop/demo\"\n",
      "Settings['File Type'] = 'Plain' #'LCPro', 'ImageJ', 'SIMA', 'Plain', 'Morgan'\n",
      "Settings['Milliseconds'] = True\n",
      "\n",
      "#transformation Settings\n",
      "Settings['Absolute Value'] = True #Must be True if Savitzky-Golay is being used\n",
      "\n",
      "Settings['Bandpass Highcut'] = 'none'\n",
      "Settings['Bandpass Lowcut'] = 'none'\n",
      "Settings['Bandpass Polynomial'] = 'none'\n",
      "\n",
      "Settings['Linear Fit'] = False #between 0 and 1 on the whole time series\n",
      "Settings['Linear Fit-Rolling R'] = 0.75 #between 0 and 1\n",
      "Settings['Linear Fit-Rolling Window'] = 1000 #window for rolling mean for fit, unit is index\n",
      "Settings['Relative Baseline'] = 0 #default 0, unless data is normalized, then 1.0\n",
      "\n",
      "Settings['Savitzky-Golay Polynomial'] = 4 #intiger\n",
      "Settings['Savitzky-Golay Window Size'] = 251 #must be odd, index not time\n",
      "\n",
      "#Baseline Settings\n",
      "Settings['Baseline Type'] = 'static' #'linear', 'rolling', or 'static'\n",
      "Settings['Rolling Baseline Window'] = 'none' #leave as 'none' if linear or static\n",
      "\n",
      "#Peaks\n",
      "Settings['Delta'] = 0.2\n",
      "Settings['Peak Minimum'] = -(np.Inf) #amplitude value\n",
      "Settings['Peak Maximum'] = np.Inf #amplitude value\n",
      "\n",
      "#Bursts\n",
      "Settings['Burst Area'] = False #calculate burst area\n",
      "Settings['Exclude Edges'] = True #False to keep edges, True to discard them\n",
      "Settings['Inter-event interval minimum (seconds)'] = 0.010 #only for bursts, not for peaks\n",
      "Settings['Maximum Burst Duration (s)'] = 10 \n",
      "Settings['Minimum Burst Duration (s)'] = 0\n",
      "Settings['Minimum Peak Number'] = 1 #minimum number of peaks/burst, integer\n",
      "Settings['Threshold']= 0.15 #linear: proportion of baseline. \n",
      "                           #static: literal value.\n",
      "                           #rolling, linear ammount grater than rolling baseline at each time point.\n",
      "\n",
      "#Outputs\n",
      "Settings['Generate Graphs'] = False #create and save the fancy graph outputs\n",
      "Settings['Graph LCpro events'] = False \n",
      "############################################################################################"
     ],
     "language": "python",
     "metadata": {},
     "outputs": [],
     "prompt_number": 4
    },
    {
     "cell_type": "code",
     "collapsed": false,
     "input": [
      "#Load in a Settings File\n",
      "#initialize new file\n",
      "Data = {}\n",
      "Settings = {}\n",
      "Results ={}\n",
      "\n",
      "############################################################################################\n",
      "#manual Setting block\n",
      "Settings['folder']= \"/Users/abigaildobyns/Desktop/Neuron Modeling/morgan voltage data\"\n",
      "Settings['Label'] = 'voltage-TBModel-sec1320-eL-IP0_9.txt'\n",
      "Settings['Output Folder'] = \"/Users/abigaildobyns/Desktop/Neuron Modeling/morgan voltage data/IP0_9\"\n",
      "Settings['File Type'] = 'Morgan' #'LCPro', 'ImageJ', 'SIMA', 'Plain', 'Morgan'\n",
      "Settings['Milliseconds'] = True\n",
      "\n",
      "#Load a Settings file\n",
      "Settings['Settings File'] = '/Users/abigaildobyns/Desktop/Neuron Modeling/morgan voltage data/IP0_9/voltage-TBModel-sec1320-eL-IP0_9.txt_Settings.csv'\n",
      "Settings = load_settings(Settings)"
     ],
     "language": "python",
     "metadata": {},
     "outputs": []
    },
    {
     "cell_type": "code",
     "collapsed": false,
     "input": [
      "Data, Settings, Results = analyze(Data, Settings, Results)"
     ],
     "language": "python",
     "metadata": {},
     "outputs": [
      {
       "output_type": "stream",
       "stream": "stdout",
       "text": [
        "Made plots folder\n",
        "Data Loaded"
       ]
      },
      {
       "output_type": "stream",
       "stream": "stdout",
       "text": [
        "\n",
        "Transformation completed"
       ]
      },
      {
       "output_type": "stream",
       "stream": "stdout",
       "text": [
        "\n",
        "Baseline set completed\n",
        "Peak Detection completed"
       ]
      },
      {
       "output_type": "stream",
       "stream": "stdout",
       "text": [
        "\n",
        "Burst Detection completed"
       ]
      },
      {
       "output_type": "stream",
       "stream": "stdout",
       "text": [
        "\n",
        "Analysis Complete: "
       ]
      },
      {
       "output_type": "stream",
       "stream": "stdout",
       "text": [
        " 6.5382  Seconds\n",
        "\n",
        "--------------------------------------------\n",
        "Data Column Names/Keys\n",
        "-----\n",
        "Mean1\n",
        "\n",
        "--------------------------------------------\n",
        "Available Measurements from Peaks for further analysis:\n",
        "-----\n",
        "Peaks Amplitude\n",
        "Intervals\n",
        "\n",
        "--------------------------------------------\n",
        "Available Measurements from Bursts for further analysis:\n",
        "-----\n",
        "Burst Start\n",
        "Burst End\n",
        "Burst Duration\n",
        "Edge Event\n",
        "Interburst Interval\n",
        "Total Cycle Time\n",
        "Peaks per Burst\n",
        "Peak Amp\n",
        "Peak Time\n",
        "Attack\n",
        "Decay\n",
        "Intraburst Frequency\n",
        "\n",
        "---------------------------\n",
        "|Event Detection Complete!|\n",
        "---------------------------\n"
       ]
      }
     ],
     "prompt_number": 5
    },
    {
     "cell_type": "code",
     "collapsed": false,
     "input": [
      "#plot raw data\n",
      "plot_rawdata(Data)"
     ],
     "language": "python",
     "metadata": {},
     "outputs": []
    },
    {
     "cell_type": "code",
     "collapsed": false,
     "input": [
      "#grouped summary for peaks\n",
      "Results['Peaks-Master'].groupby(level=0).describe()"
     ],
     "language": "python",
     "metadata": {},
     "outputs": []
    },
    {
     "cell_type": "code",
     "collapsed": false,
     "input": [
      "#grouped summary for bursts\n",
      "Results['Bursts-Master'].groupby(level=0).describe()"
     ],
     "language": "python",
     "metadata": {},
     "outputs": []
    },
    {
     "cell_type": "code",
     "collapsed": false,
     "input": [
      "#Call one time series by Key\n",
      "key = 'Mean1'\n",
      "graph_detected_events_display(Data, Settings, Results, key)"
     ],
     "language": "python",
     "metadata": {},
     "outputs": []
    },
    {
     "cell_type": "code",
     "collapsed": false,
     "input": [
      "#raw and transformed event plot\n",
      "key = 'Mean1'\n",
      "start =100 #start time in seconds\n",
      "end= 101#end time in seconds\n",
      "results_timeseries_plot(key, start, end, Data, Settings, Results)"
     ],
     "language": "python",
     "metadata": {},
     "outputs": []
    },
    {
     "cell_type": "code",
     "collapsed": false,
     "input": [
      "#Frequency plot\n",
      "event_type = 'Peaks'\n",
      "meas = 'Intervals'\n",
      "key = 'Mean1' #'Mean1' default for single wave\n",
      "frequency_plot(event_type, meas, key, Data, Settings, Results)"
     ],
     "language": "python",
     "metadata": {},
     "outputs": []
    },
    {
     "cell_type": "code",
     "collapsed": false,
     "input": [
      "#Get average plots, display only\n",
      "event_type = 'peaks'\n",
      "meas = 'Peaks Amplitude'\n",
      "average_measurement_plot(event_type, meas,Results)"
     ],
     "language": "python",
     "metadata": {},
     "outputs": []
    },
    {
     "cell_type": "code",
     "collapsed": false,
     "input": [
      "#raster\n",
      "raster(Results)"
     ],
     "language": "python",
     "metadata": {},
     "outputs": []
    },
    {
     "cell_type": "code",
     "collapsed": false,
     "input": [
      "#quick poincare\n",
      "event_type = 'Peaks'\n",
      "meas = 'Intervals'\n",
      "key = 'Mean1'\n",
      "poincare_plot(Results[event_type][key][meas])"
     ],
     "language": "python",
     "metadata": {},
     "outputs": []
    },
    {
     "cell_type": "code",
     "collapsed": false,
     "input": [
      "#PSD of DES\n",
      "Settings['PSD-Event'] = Series(index = ['Hz','ULF', 'VLF', 'LF','HF','dx'])\n",
      "#Set PSD ranges for power in band\n",
      "\n",
      "Settings['PSD-Event']['hz'] = 4.0 #freqency that the interpolation and PSD are performed with.\n",
      "Settings['PSD-Event']['ULF'] = 0.03 #max of the range of the ultra low freq band. range is 0:ulf\n",
      "Settings['PSD-Event']['VLF'] = 0.05 #max of the range of the very low freq band. range is ulf:vlf\n",
      "Settings['PSD-Event']['LF'] = 0.15 #max of the range of the low freq band. range is vlf:lf\n",
      "Settings['PSD-Event']['HF'] = 0.4 #max of the range of the high freq band. range is lf:hf. hf can be no more than (hz/2)\n",
      "Settings['PSD-Event']['dx'] = 10 #segmentation for the area under the curve. \n",
      "\n",
      "event_type = 'Peaks'\n",
      "meas = 'Intervals'\n",
      "key = 'Mean1'\n",
      "scale = 'raw'\n",
      "Results = psd_event(event_type, meas, key, scale, Data, Settings, Results)\n",
      "Results['PSD-Event'][key]"
     ],
     "language": "python",
     "metadata": {},
     "outputs": [
      {
       "output_type": "stream",
       "stream": "stdout",
       "text": [
        "Could not calculate power in band.\n"
       ]
      },
      {
       "html": [
        "<div style=\"max-height:1000px;max-width:1500px;overflow:auto;\">\n",
        "<table border=\"1\" class=\"dataframe\">\n",
        "  <tbody>\n",
        "    <tr>\n",
        "      <td>Index([u'ULF', u'VLF', u'LF', u'HF', u'LF/HF', u'Scale'], dtype='object')</td>\n",
        "      <td>Empty DataFrame</td>\n",
        "    </tr>\n",
        "  </tbody>\n",
        "</table>\n",
        "<p>6 rows \u00d7 0 columns</p>\n",
        "</div>"
       ],
       "metadata": {},
       "output_type": "pyout",
       "prompt_number": 14,
       "text": [
        "Empty DataFrame\n",
        "Columns: []\n",
        "Index: [ULF, VLF, LF, HF, LF/HF, Scale]\n",
        "\n",
        "[6 rows x 0 columns]"
       ]
      }
     ],
     "prompt_number": 14
    },
    {
     "cell_type": "code",
     "collapsed": false,
     "input": [
      "#PSD of raw signal\n",
      "#optional\n",
      "Settings['PSD-Signal'] = Series(index = ['ULF', 'VLF', 'LF','HF','dx'])\n",
      "#Set PSD ranges for power in band\n",
      "\n",
      "Settings['PSD-Signal']['ULF'] = 100 #max of the range of the ultra low freq band. range is 0:ulf\n",
      "Settings['PSD-Signal']['VLF'] = 200 #max of the range of the very low freq band. range is ulf:vlf\n",
      "Settings['PSD-Signal']['LF'] = 300 #max of the range of the low freq band. range is vlf:lf\n",
      "Settings['PSD-Signal']['HF'] = 400 #max of the range of the high freq band. range is lf:hf. hf can be no more than (hz/2)\n",
      "Settings['PSD-Signal']['dx'] = 10 #segmentation for the area under the curve. \n",
      "\n",
      "scale = 'raw' #raw or db\n",
      "Results = psd_signal(version = 'original', key = 'Mean1', scale = scale, \n",
      "                     Data = Data, Settings = Settings, Results = Results)\n",
      "Results['PSD-Signal']"
     ],
     "language": "python",
     "metadata": {},
     "outputs": []
    },
    {
     "cell_type": "code",
     "collapsed": false,
     "input": [
      "#spectrogram\n",
      "version = 'original'\n",
      "key = 'Mean1'\n",
      "spectogram(version, key, Data, Settings, Results)"
     ],
     "language": "python",
     "metadata": {},
     "outputs": []
    },
    {
     "cell_type": "code",
     "collapsed": false,
     "input": [
      "#Moving Stats\n",
      "event_type = 'Peaks'\n",
      "meas = 'all'\n",
      "window = 60 #seconds\n",
      "Results = moving_statistics(event_type, meas, window, Data, Settings, Results)"
     ],
     "language": "python",
     "metadata": {},
     "outputs": []
    },
    {
     "cell_type": "code",
     "collapsed": false,
     "input": [
      "#Histogram Entropy-events\n",
      "event_type = 'Bursts'\n",
      "meas = 'all'\n",
      "Results = histent_wrapper(event_type, meas, Data, Settings, Results)\n",
      "Results['Histogram Entropy']"
     ],
     "language": "python",
     "metadata": {},
     "outputs": []
    },
    {
     "cell_type": "heading",
     "level": 2,
     "metadata": {},
     "source": [
      "pyEEG required for approximate and sample entropy"
     ]
    },
    {
     "cell_type": "code",
     "collapsed": false,
     "input": [
      "#Approximate Entropy-events\n",
      "event_type = 'Peaks'\n",
      "meas = 'all'\n",
      "Results = ap_entropy_wrapper(event_type, meas, Data, Settings, Results)\n",
      "Results['Approximate Entropy']"
     ],
     "language": "python",
     "metadata": {},
     "outputs": [
      {
       "output_type": "stream",
       "stream": "stdout",
       "text": [
        "All Peaks measurements analyzed.\n"
       ]
      },
      {
       "html": [
        "<div style=\"max-height:1000px;max-width:1500px;overflow:auto;\">\n",
        "<table border=\"1\" class=\"dataframe\">\n",
        "  <thead>\n",
        "    <tr style=\"text-align: right;\">\n",
        "      <th></th>\n",
        "      <th>Peaks Amplitude</th>\n",
        "      <th>Intervals</th>\n",
        "    </tr>\n",
        "  </thead>\n",
        "  <tbody>\n",
        "    <tr>\n",
        "      <th>Mean1</th>\n",
        "      <td>NaN</td>\n",
        "      <td>NaN</td>\n",
        "    </tr>\n",
        "  </tbody>\n",
        "</table>\n",
        "<p>1 rows \u00d7 2 columns</p>\n",
        "</div>"
       ],
       "metadata": {},
       "output_type": "pyout",
       "prompt_number": 9,
       "text": [
        "       Peaks Amplitude  Intervals\n",
        "Mean1              NaN        NaN\n",
        "\n",
        "[1 rows x 2 columns]"
       ]
      }
     ],
     "prompt_number": 9
    },
    {
     "cell_type": "code",
     "collapsed": false,
     "input": [
      "#Sample Entropy-events\n",
      "event_type = 'Peaks'\n",
      "meas = 'all'\n",
      "Results = samp_entropy_wrapper(event_type, meas, Data, Settings, Results)\n",
      "Results['Sample Entropy']"
     ],
     "language": "python",
     "metadata": {},
     "outputs": [
      {
       "output_type": "stream",
       "stream": "stdout",
       "text": [
        "All Peaks measurements analyzed.\n"
       ]
      },
      {
       "html": [
        "<div style=\"max-height:1000px;max-width:1500px;overflow:auto;\">\n",
        "<table border=\"1\" class=\"dataframe\">\n",
        "  <thead>\n",
        "    <tr style=\"text-align: right;\">\n",
        "      <th></th>\n",
        "      <th>Burst Start</th>\n",
        "      <th>Burst End</th>\n",
        "      <th>Burst Duration</th>\n",
        "      <th>Edge Event</th>\n",
        "      <th>Interburst Interval</th>\n",
        "      <th>Total Cycle Time</th>\n",
        "      <th>Peaks per Burst</th>\n",
        "      <th>Peak Amp</th>\n",
        "      <th>Peak Time</th>\n",
        "      <th>Attack</th>\n",
        "      <th>Decay</th>\n",
        "      <th>Intraburst Frequency</th>\n",
        "      <th>Intervals</th>\n",
        "      <th>Peaks Amplitude</th>\n",
        "    </tr>\n",
        "  </thead>\n",
        "  <tbody>\n",
        "    <tr>\n",
        "      <th>Mean1</th>\n",
        "      <td>NaN</td>\n",
        "      <td>NaN</td>\n",
        "      <td>NaN</td>\n",
        "      <td>NaN</td>\n",
        "      <td>NaN</td>\n",
        "      <td>NaN</td>\n",
        "      <td>NaN</td>\n",
        "      <td>NaN</td>\n",
        "      <td>NaN</td>\n",
        "      <td>NaN</td>\n",
        "      <td>NaN</td>\n",
        "      <td>NaN</td>\n",
        "      <td>NaN</td>\n",
        "      <td>NaN</td>\n",
        "    </tr>\n",
        "  </tbody>\n",
        "</table>\n",
        "<p>1 rows \u00d7 14 columns</p>\n",
        "</div>"
       ],
       "metadata": {},
       "output_type": "pyout",
       "prompt_number": 17,
       "text": [
        "       Burst Start  Burst End  Burst Duration  Edge Event  \\\n",
        "Mean1          NaN        NaN             NaN         NaN   \n",
        "\n",
        "       Interburst Interval  Total Cycle Time  Peaks per Burst  Peak Amp  \\\n",
        "Mean1                  NaN               NaN              NaN       NaN   \n",
        "\n",
        "       Peak Time  Attack  Decay  Intraburst Frequency  Intervals  \\\n",
        "Mean1        NaN     NaN    NaN                   NaN        NaN   \n",
        "\n",
        "       Peaks Amplitude  \n",
        "Mean1              NaN  \n",
        "\n",
        "[1 rows x 14 columns]"
       ]
      }
     ],
     "prompt_number": 17
    },
    {
     "cell_type": "code",
     "collapsed": false,
     "input": [
      "#Approximate Entropy on raw signal\n",
      "#takes a VERY long time\n",
      "from pyeeg import ap_entropy\n",
      "\n",
      "version = 'original' #original, trans, shift, or rolling\n",
      "key = 'Mean1' #Mean1 default key for one time series\n",
      "start = 0 #seconds, where you want the slice to begin\n",
      "end = 1 #seconds, where you want the slice to end. The absolute end is -1\n",
      "\n",
      "ap_entropy(Data[version][key][start:end].tolist(), 2, (0.2*np.std(Data[version][key][start:end])))"
     ],
     "language": "python",
     "metadata": {},
     "outputs": []
    },
    {
     "cell_type": "code",
     "collapsed": false,
     "input": [
      "#Sample Entropy on raw signal\n",
      "#takes a VERY long time\n",
      "from pyeeg import samp_entropy\n",
      "\n",
      "version = 'original' #original, trans, shift, or rolling\n",
      "key = 'Mean1' #Mean1 default key for one time series\n",
      "start = 0 #seconds, where you want the slice to begin\n",
      "end = 1 #seconds, where you want the slice to end. The absolute end is -1\n",
      "\n",
      "samp_entropy(Data[version][key][start:end].tolist(), 2, (0.2*np.std(Data[version][key][start:end])))"
     ],
     "language": "python",
     "metadata": {},
     "outputs": [
      {
       "metadata": {},
       "output_type": "pyout",
       "prompt_number": 18,
       "text": [
        "0.082608812071657059"
       ]
      }
     ],
     "prompt_number": 18
    },
    {
     "cell_type": "heading",
     "level": 2,
     "metadata": {},
     "source": [
      "Need help?"
     ]
    },
    {
     "cell_type": "markdown",
     "metadata": {},
     "source": [
      "Try checking the docstring of a function you are struggling with.\n",
      "    \n",
      "    moving_statistics?\n",
      "    help(moving_statistics)"
     ]
    },
    {
     "cell_type": "code",
     "collapsed": false,
     "input": [
      "moving_statistics?"
     ],
     "language": "python",
     "metadata": {},
     "outputs": []
    },
    {
     "cell_type": "code",
     "collapsed": false,
     "input": [
      "import pyeeg"
     ],
     "language": "python",
     "metadata": {},
     "outputs": [],
     "prompt_number": 10
    },
    {
     "cell_type": "code",
     "collapsed": false,
     "input": [
      "pyeeg.samp_entropy?"
     ],
     "language": "python",
     "metadata": {},
     "outputs": [],
     "prompt_number": 11
    },
    {
     "cell_type": "code",
     "collapsed": false,
     "input": [],
     "language": "python",
     "metadata": {},
     "outputs": []
    }
   ],
   "metadata": {}
  }
 ]
}