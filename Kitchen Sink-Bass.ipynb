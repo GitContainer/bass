{
 "metadata": {
  "name": "",
  "signature": "sha256:9d54ef7f73592bc51a6860705c8c296c74d6f18a3664fdba3e68576eb3dadab2"
 },
 "nbformat": 3,
 "nbformat_minor": 0,
 "worksheets": [
  {
   "cells": [
    {
     "cell_type": "code",
     "collapsed": false,
     "input": [
      "from bass import *"
     ],
     "language": "python",
     "metadata": {},
     "outputs": []
    },
    {
     "cell_type": "code",
     "collapsed": false,
     "input": [
      "#initialize new file\n",
      "Data = {}\n",
      "Settings = {}\n",
      "Results ={}\n",
      "\n",
      "############################################################################################\n",
      "#manual Setting block\n",
      "Settings['folder']= \"/Users/abigaildobyns/Desktop/Neuron Modeling/morgan voltage data\"\n",
      "Settings['Label'] = 'voltage-TBModel-sec1320-eL-IP0_9.txt'\n",
      "Settings['Output Folder'] = \"/Users/abigaildobyns/Desktop/Neuron Modeling/morgan voltage data/IP0_9\"\n",
      "Settings['File Type'] = 'Morgan' #'LCPro', 'ImageJ', 'SIMA', 'Plain', 'Morgan'\n",
      "Settings['Milliseconds'] = True\n",
      "\n",
      "#transformation Settings\n",
      "Settings['Absolute Value'] = False #Must be True if Savitzky-Golay is being used\n",
      "\n",
      "Settings['Bandpass Highcut'] = 'none'\n",
      "Settings['Bandpass Lowcut'] = 'none'\n",
      "Settings['Bandpass Polynomial'] = 'none'\n",
      "\n",
      "Settings['Linear Fit'] = False #between 0 and 1 on the whole time series\n",
      "Settings['Linear Fit-Rolling R'] = 0.75 #between 0 and 1\n",
      "Settings['Linear Fit-Rolling Window'] = 1000 #window for rolling mean for fit, unit is index\n",
      "Settings['Relative Baseline'] = 0 #default 0, unless data is normalized, then 1.0\n",
      "\n",
      "Settings['Savitzky-Golay Polynomial'] = 'none' #intiger\n",
      "Settings['Savitzky-Golay Window Size'] = 'none' #must be odd, index not time\n",
      "\n",
      "#Baseline Settings\n",
      "Settings['Baseline Type'] = 'static' #'linear', 'rolling', or 'static'\n",
      "Settings['Rolling Baseline Window'] = 'none' #leave as 'none' if linear or static\n",
      "\n",
      "#Peaks\n",
      "Settings['Delta'] = 10\n",
      "Settings['Peak Minimum'] = -(np.Inf) #amplitude value\n",
      "Settings['Peak Maximum'] = np.Inf #amplitude value\n",
      "\n",
      "#Bursts\n",
      "Settings['Burst Area'] = False #calculate burst area\n",
      "Settings['Exclude Edges'] = True #False to keep edges, True to discard them\n",
      "Settings['Inter-event interval minimum (seconds)'] = 0.700 #only for bursts, not for peaks\n",
      "Settings['Maximum Burst Duration (s)'] = 10 \n",
      "Settings['Minimum Burst Duration (s)'] = 0\n",
      "Settings['Minimum Peak Number'] = 1 #minimum number of peaks/burst, integer\n",
      "Settings['Threshold']= -40 #linear: proportion of baseline. \n",
      "                           #static: literal value.\n",
      "                           #rolling, linear ammount grater than rolling baseline at each time point.\n",
      "\n",
      "#Outputs\n",
      "Settings['Generate Graphs'] = False #create and save the fancy graph outputs\n",
      "Settings['Graph LCpro events'] = False \n",
      "############################################################################################"
     ],
     "language": "python",
     "metadata": {},
     "outputs": []
    },
    {
     "cell_type": "code",
     "collapsed": false,
     "input": [
      "#Load in a Settings File\n",
      "#initialize new file\n",
      "Data = {}\n",
      "Settings = {}\n",
      "Results ={}\n",
      "\n",
      "############################################################################################\n",
      "#manual Setting block\n",
      "Settings['folder']= \"/Users/abigaildobyns/Desktop/Neuron Modeling/morgan voltage data\"\n",
      "Settings['Label'] = 'voltage-TBModel-sec1320-eL-IP0_9.txt'\n",
      "Settings['Output Folder'] = \"/Users/abigaildobyns/Desktop/Neuron Modeling/morgan voltage data/IP0_9\"\n",
      "Settings['File Type'] = 'Morgan' #'LCPro', 'ImageJ', 'SIMA', 'Plain', 'Morgan'\n",
      "Settings['Milliseconds'] = True\n",
      "\n",
      "#Load a Settings file\n",
      "Settings['Settings File'] = '/Users/abigaildobyns/Desktop/Neuron Modeling/morgan voltage data/IP0_9/voltage-TBModel-sec1320-eL-IP0_9.txt_Settings.csv'\n",
      "Settings = load_settings(Settings)"
     ],
     "language": "python",
     "metadata": {},
     "outputs": []
    },
    {
     "cell_type": "code",
     "collapsed": false,
     "input": [
      "Data, Settings, Results = analyze(Data, Settings, Results)"
     ],
     "language": "python",
     "metadata": {},
     "outputs": []
    },
    {
     "cell_type": "code",
     "collapsed": false,
     "input": [
      "display_settings(Settings)"
     ],
     "language": "python",
     "metadata": {},
     "outputs": []
    },
    {
     "cell_type": "code",
     "collapsed": false,
     "input": [
      "#grouped summary for peaks\n",
      "Results['Peaks-Master'].groupby(level=0).describe()"
     ],
     "language": "python",
     "metadata": {},
     "outputs": []
    },
    {
     "cell_type": "code",
     "collapsed": false,
     "input": [
      "#grouped summary for bursts\n",
      "Results['Bursts-Master'].groupby(level=0).describe()"
     ],
     "language": "python",
     "metadata": {},
     "outputs": []
    },
    {
     "cell_type": "code",
     "collapsed": false,
     "input": [
      "#Call one time series by Key\n",
      "roi = '-55'\n",
      "graph_detected_events_display(Data, Settings, Results, roi)"
     ],
     "language": "python",
     "metadata": {},
     "outputs": []
    },
    {
     "cell_type": "code",
     "collapsed": false,
     "input": [
      "#Get average plots, display only\n",
      "event_type = 'peaks'\n",
      "meas = 'Peaks Amplitude'\n",
      "average_measurement_plot(event_type, meas,Results)"
     ],
     "language": "python",
     "metadata": {},
     "outputs": []
    },
    {
     "cell_type": "code",
     "collapsed": false,
     "input": [
      "#raster\n",
      "raster(Results)"
     ],
     "language": "python",
     "metadata": {},
     "outputs": []
    },
    {
     "cell_type": "code",
     "collapsed": false,
     "input": [
      "#Histogram Entropy\n",
      "event_type = 'Bursts'\n",
      "meas = 'all'\n",
      "Results = histent_wrapper(event_type, meas, Data, Settings, Results)\n",
      "Results['Histogram Entropy']"
     ],
     "language": "python",
     "metadata": {},
     "outputs": []
    },
    {
     "cell_type": "code",
     "collapsed": false,
     "input": [
      "#Moving Stats\n",
      "event_type = 'Peaks'\n",
      "meas = 'all'\n",
      "window = 60 #seconds\n",
      "Results = moving_statistics(event_type, meas, window, Data, Settings, Results)"
     ],
     "language": "python",
     "metadata": {},
     "outputs": []
    },
    {
     "cell_type": "code",
     "collapsed": false,
     "input": [
      "moving_statistics?"
     ],
     "language": "python",
     "metadata": {},
     "outputs": []
    },
    {
     "cell_type": "code",
     "collapsed": false,
     "input": [],
     "language": "python",
     "metadata": {},
     "outputs": []
    }
   ],
   "metadata": {}
  }
 ]
}