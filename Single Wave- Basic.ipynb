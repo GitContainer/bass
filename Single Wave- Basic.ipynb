{
 "metadata": {
  "name": "",
  "signature": "sha256:7a4067ca86f2d583b296f171bf17a89e16ea59a193bf656cc83e57dab96d81eb"
 },
 "nbformat": 3,
 "nbformat_minor": 0,
 "worksheets": [
  {
   "cells": [
    {
     "cell_type": "heading",
     "level": 1,
     "metadata": {},
     "source": [
      "Welcome to BASS!"
     ]
    },
    {
     "cell_type": "markdown",
     "metadata": {},
     "source": [
      "Single Wave Analysis Notebook. This is the basic version."
     ]
    },
    {
     "cell_type": "markdown",
     "metadata": {},
     "source": [
      "    BASS: Biomedical Analysis Software Suite for event detection and signal processing.\n",
      "    Copyright (C) 2015  Abigail Dobyns\n",
      "\n",
      "    This program is free software: you can redistribute it and/or modify\n",
      "    it under the terms of the GNU General Public License as published by\n",
      "    the Free Software Foundation, either version 3 of the License, or\n",
      "    (at your option) any later version.\n",
      "\n",
      "    This program is distributed in the hope that it will be useful,\n",
      "    but WITHOUT ANY WARRANTY; without even the implied warranty of\n",
      "    MERCHANTABILITY or FITNESS FOR A PARTICULAR PURPOSE.  See the\n",
      "    GNU General Public License for more details.\n",
      "\n",
      "    You should have received a copy of the GNU General Public License\n",
      "    along with this program.  If not, see <http://www.gnu.org/licenses/>"
     ]
    },
    {
     "cell_type": "heading",
     "level": 2,
     "metadata": {},
     "source": [
      "Initalize"
     ]
    },
    {
     "cell_type": "markdown",
     "metadata": {},
     "source": [
      "Run the following code block to intialize the program."
     ]
    },
    {
     "cell_type": "code",
     "collapsed": false,
     "input": [
      "from bass import *"
     ],
     "language": "python",
     "metadata": {},
     "outputs": []
    },
    {
     "cell_type": "heading",
     "level": 1,
     "metadata": {},
     "source": [
      "Begin User Input"
     ]
    },
    {
     "cell_type": "markdown",
     "metadata": {},
     "source": [
      "For help, check out the wiki: https://github.com/drcgw/bass/wiki/Tutorial\n",
      "\n",
      "Or the video tutorial: Coming Soon!"
     ]
    },
    {
     "cell_type": "heading",
     "level": 1,
     "metadata": {},
     "source": [
      "Settings"
     ]
    },
    {
     "cell_type": "markdown",
     "metadata": {},
     "source": [
      "**WARNING** All text input should be raw, especially if in Windows.\n",
      "    \n",
      "    r'string!'\n",
      "    r\"string!\""
     ]
    },
    {
     "cell_type": "heading",
     "level": 2,
     "metadata": {},
     "source": [
      "Load Data"
     ]
    },
    {
     "cell_type": "markdown",
     "metadata": {},
     "source": [
      "Use the following block to change your settings. You **must** use this block or load settings from a previous file. \n",
      "\n",
      "Here are some helpful information about the loading settings:\n",
      "\n",
      "**Settings['folder']= Full File Path for data input:**\n",
      "Designate the path to your file to load. It can also be the relative path to the folder where this notebook is stored. This does not include the file itself.\n",
      "\n",
      "    Mac OSX Example: '/Users/MYNAME/Documents/bass'\n",
      "    Microsoft Example: 'C:\\\\Users\\MYNAME\\Documents\\bass'\n",
      "    \n",
      "\n",
      "**Settings['Label']= File name:**\n",
      "This is the name of your data file. It should include the file type. This file should NOT have a header and the first column must be time in seconds. Note: This file name will also appear as part of the output files names.\n",
      "\n",
      "    'rat34_ECG.txt' \n",
      "\n",
      "**Full File Path for data output:**Designate the location of the folder where you would like the folder containing your results to go. A plots folder, called 'plots' will be created inside this folder for you if it does not already exsist. \n",
      "\n",
      "    Mac OSX Example: '/Users/MYNAME/Documents/output'\n",
      "    Microsoft Example: 'C:\\\\Users\\MYNAME\\Documents\\output' \n",
      "\n",
      "https://github.com/drcgw/SWAN/wiki/Tutorial#load"
     ]
    },
    {
     "cell_type": "heading",
     "level": 2,
     "metadata": {},
     "source": [
      "Other Settings"
     ]
    },
    {
     "cell_type": "markdown",
     "metadata": {},
     "source": [
      "For more information about other settings, go to: \n",
      "\n",
      "https://github.com/drcgw/SWAN/wiki/Tutorial#transform-data\n",
      "\n",
      "https://github.com/drcgw/SWAN/wiki/Transformation-Settings"
     ]
    },
    {
     "cell_type": "code",
     "collapsed": false,
     "input": [
      "#initialize new file\n",
      "Data = {}\n",
      "Settings = {}\n",
      "Results ={}\n",
      "\n",
      "############################################################################################\n",
      "#manual Setting block\n",
      "Settings['folder']= r\"/Users/abigaildobyns/Desktop\"\n",
      "Settings['Label'] = r'rat34_ECG.txt'\n",
      "Settings['Output Folder'] = r\"/Users/abigaildobyns/Desktop/demo\"\n",
      "\n",
      "#transformation Settings\n",
      "Settings['Absolute Value'] = True #Must be True if Savitzky-Golay is being used\n",
      "\n",
      "Settings['Bandpass Highcut'] = r'none' #in Hz\n",
      "Settings['Bandpass Lowcut'] = r'none' #in Hz\n",
      "Settings['Bandpass Polynomial'] = r'none' #integer\n",
      "\n",
      "Settings['Linear Fit'] = False #between 0 and 1 on the whole time series\n",
      "Settings['Linear Fit-Rolling R'] = 0.75 #between 0 and 1\n",
      "Settings['Linear Fit-Rolling Window'] = 1000 #window for rolling mean for fit, unit is index not time\n",
      "Settings['Relative Baseline'] = 0 #default 0, unless data is normalized, then 1.0. Can be any float\n",
      "\n",
      "Settings['Savitzky-Golay Polynomial'] = 4 #integer\n",
      "Settings['Savitzky-Golay Window Size'] = 251 #must be odd. units are index not time\n",
      "\n",
      "#Baseline Settings\n",
      "Settings['Baseline Type'] = r'static' #'linear', 'rolling', or 'static'\n",
      "Settings['Rolling Baseline Window'] = r'none' #leave as 'none' if linear or static\n",
      "\n",
      "#Peaks\n",
      "Settings['Delta'] = 0.25\n",
      "Settings['Peak Minimum'] = -(np.Inf) #amplitude value\n",
      "Settings['Peak Maximum'] = np.Inf #amplitude value\n",
      "\n",
      "#Bursts\n",
      "Settings['Burst Area'] = False #calculate burst area\n",
      "Settings['Exclude Edges'] = True #False to keep edges, True to discard them\n",
      "Settings['Inter-event interval minimum (seconds)'] = 0.0100 #only for bursts, not for peaks\n",
      "Settings['Maximum Burst Duration (s)'] = 10 \n",
      "Settings['Minimum Burst Duration (s)'] = 0\n",
      "Settings['Minimum Peak Number'] = 1 #minimum number of peaks/burst, integer\n",
      "Settings['Threshold']= 0.15 #linear: proportion of baseline. \n",
      "                           #static: literal value.\n",
      "                           #rolling, linear ammount grater than rolling baseline at each time point.\n",
      "\n",
      "#Outputs\n",
      "Settings['Generate Graphs'] = False #create and save the fancy graph outputs\n",
      "\n",
      "\n",
      "#Settings that you should not change unless you are a super advanced user:\n",
      "#These are settings that are still in development\n",
      "Settings['Graph LCpro events'] = False\n",
      "Settings['File Type'] = r'Plain' #'LCPro', 'ImageJ', 'SIMA', 'Plain', 'Morgan'\n",
      "Settings['Milliseconds'] = False\n",
      "############################################################################################"
     ],
     "language": "python",
     "metadata": {},
     "outputs": []
    },
    {
     "cell_type": "heading",
     "level": 2,
     "metadata": {},
     "source": [
      "Load Settings from previous analysis"
     ]
    },
    {
     "cell_type": "markdown",
     "metadata": {},
     "source": [
      "Must be a previously outputed BASS settings file, although the name can be changed. Expected format is '.csv'. Enter the full file path and name.\n",
      "\n",
      "    Mac OSX Example: '/Users/MYNAME/Documents/bass_settings.csv'\n",
      "    Microsoft Example: 'C:\\\\Users\\MYNAME\\Documents\\bass_settings.csv'\n",
      "    \n",
      "See above instructions for how to load your data file."
     ]
    },
    {
     "cell_type": "code",
     "collapsed": false,
     "input": [
      "#Load in a Settings File\n",
      "#initialize new file\n",
      "Data = {}\n",
      "Settings = {}\n",
      "Results ={}\n",
      "\n",
      "############################################################################################\n",
      "#manual Setting block\n",
      "Settings['folder']= r\"/Users/abigaildobyns/Desktop\"\n",
      "Settings['Label'] = r'rat34_ECG.txt'\n",
      "Settings['Output Folder'] = r\"/Users/abigaildobyns/Desktop/demo\"\n",
      "\n",
      "#Load a Settings file\n",
      "Settings['Settings File'] = r'/Users/abigaildobyns/Desktop/rat34_Settings.csv'\n",
      "\n",
      "##Settings that you should not change unless you are a super advanced user:\n",
      "#These are settings that are still in development\n",
      "Settings['File Type'] = r'Plain' #'LCPro', 'ImageJ', 'SIMA', 'Plain', 'Morgan'\n",
      "Settings['Milliseconds'] = False\n",
      "\n",
      "Settings = load_settings(Settings)"
     ],
     "language": "python",
     "metadata": {},
     "outputs": []
    },
    {
     "cell_type": "code",
     "collapsed": false,
     "input": [
      "Data, Settings, Results = analyze(Data, Settings, Results)"
     ],
     "language": "python",
     "metadata": {},
     "outputs": []
    },
    {
     "cell_type": "heading",
     "level": 2,
     "metadata": {},
     "source": [
      "Display Event Detection Tables"
     ]
    },
    {
     "cell_type": "heading",
     "level": 4,
     "metadata": {},
     "source": [
      "Display Settings used for analysis"
     ]
    },
    {
     "cell_type": "code",
     "collapsed": false,
     "input": [
      "display_settings(Settings)"
     ],
     "language": "python",
     "metadata": {},
     "outputs": []
    },
    {
     "cell_type": "heading",
     "level": 4,
     "metadata": {},
     "source": [
      "Display Summary Results for Peaks"
     ]
    },
    {
     "cell_type": "code",
     "collapsed": false,
     "input": [
      "#grouped summary for peaks\n",
      "Results['Peaks-Master'].groupby(level=0).describe()"
     ],
     "language": "python",
     "metadata": {},
     "outputs": []
    },
    {
     "cell_type": "heading",
     "level": 4,
     "metadata": {},
     "source": [
      "Display Summary Results for Bursts"
     ]
    },
    {
     "cell_type": "code",
     "collapsed": false,
     "input": [
      "#grouped summary for bursts\n",
      "Results['Bursts-Master'].groupby(level=0).describe()"
     ],
     "language": "python",
     "metadata": {},
     "outputs": []
    },
    {
     "cell_type": "heading",
     "level": 1,
     "metadata": {},
     "source": [
      "Interactive Graphs"
     ]
    },
    {
     "cell_type": "heading",
     "level": 2,
     "metadata": {},
     "source": [
      "Line Graphs"
     ]
    },
    {
     "cell_type": "markdown",
     "metadata": {},
     "source": [
      "Plot one time series by calling it's name"
     ]
    },
    {
     "cell_type": "code",
     "collapsed": false,
     "input": [
      "#Interactive, single time series by Key\n",
      "key = 'Mean1'\n",
      "graph_detected_events_display(Data, Settings, Results, key)"
     ],
     "language": "python",
     "metadata": {},
     "outputs": []
    },
    {
     "cell_type": "markdown",
     "metadata": {},
     "source": [
      "Create line plots of the raw data as well as the data analysis. \n",
      "\n",
      "Plots are saved by clicking the save button in the pop-up window with your graph.\n",
      "\n",
      "    key = 'Mean1'\n",
      "    start =100 \n",
      "    end= 101\n",
      "\n",
      "https://github.com/drcgw/SWAN/wiki/Tutorial#line-plots"
     ]
    },
    {
     "cell_type": "code",
     "collapsed": false,
     "input": [
      "key = 'Mean1'\n",
      "start =100 #start time in seconds\n",
      "end= 101#end time in seconds\n",
      "results_timeseries_plot(key, start, end, Data, Settings, Results)"
     ],
     "language": "python",
     "metadata": {},
     "outputs": []
    },
    {
     "cell_type": "heading",
     "level": 2,
     "metadata": {},
     "source": [
      "Autocorrelation"
     ]
    },
    {
     "cell_type": "markdown",
     "metadata": {},
     "source": [
      "Display the Autocorrelation plot of your transformed data.\n",
      "\n",
      "Choose the start and end time in seconds. to capture whole time series, use end = -1. May be slow\n",
      "\n",
      "    key = 'Mean1'\n",
      "    start = 0 \n",
      "    end = 10"
     ]
    },
    {
     "cell_type": "code",
     "collapsed": false,
     "input": [
      "#autocorrelation\n",
      "key = 'Mean1'\n",
      "start = 0 #seconds, where you want the slice to begin\n",
      "end = 1 #seconds, where you want the slice to end. The absolute end is -1\n",
      "autocorrelation_plot(Data['trans'][key][start:end])\n",
      "plt.show()"
     ],
     "language": "python",
     "metadata": {},
     "outputs": []
    },
    {
     "cell_type": "heading",
     "level": 2,
     "metadata": {},
     "source": [
      "Raster Plot"
     ]
    },
    {
     "cell_type": "markdown",
     "metadata": {},
     "source": [
      "Shows the temporal relationship of peaks in each column. Auto scales. Display only. Intended for more than one column of data"
     ]
    },
    {
     "cell_type": "code",
     "collapsed": false,
     "input": [
      "#raster\n",
      "raster(Results)"
     ],
     "language": "python",
     "metadata": {},
     "outputs": []
    },
    {
     "cell_type": "heading",
     "level": 2,
     "metadata": {},
     "source": [
      "Frequency Plot"
     ]
    },
    {
     "cell_type": "markdown",
     "metadata": {},
     "source": [
      "Use this block to plot changes of any measurement over time. Example:\n",
      "\n",
      "    event_type = 'Peaks'\n",
      "    meas = 'Intervals'\n",
      "    key = 'Mean1'\n",
      "    \n",
      "https://github.com/drcgw/SWAN/wiki/Tutorial#frequency-plot"
     ]
    },
    {
     "cell_type": "code",
     "collapsed": false,
     "input": [
      "event_type = 'Peaks'\n",
      "meas = 'Intervals'\n",
      "key = 'Mean1' #'Mean1' default for single wave\n",
      "frequency_plot(event_type, meas, key, Data, Settings, Results)"
     ],
     "language": "python",
     "metadata": {},
     "outputs": []
    },
    {
     "cell_type": "heading",
     "level": 2,
     "metadata": {},
     "source": [
      "Analyze Events by Measurement"
     ]
    },
    {
     "cell_type": "markdown",
     "metadata": {},
     "source": [
      "Generates a line plot with error bars for a given event measurement. X axis is the names of each time series. Display Only."
     ]
    },
    {
     "cell_type": "code",
     "collapsed": false,
     "input": [
      "#Get average plots, display only\n",
      "event_type = 'peaks'\n",
      "meas = 'Peaks Amplitude'\n",
      "average_measurement_plot(event_type, meas,Results)"
     ],
     "language": "python",
     "metadata": {},
     "outputs": []
    },
    {
     "cell_type": "heading",
     "level": 2,
     "metadata": {},
     "source": [
      "Poincare Plots"
     ]
    },
    {
     "cell_type": "markdown",
     "metadata": {},
     "source": [
      "Create a Poincare Plot of your favorite varible. Choose an event type (Peaks or Bursts), measurement type, and key. Make sure that whichever varible you chose is only composed of numbers (No NaN or missing values). Calling meas = 'All' not currently supported.\n",
      "\n",
      "Plots are saved by clicking the save button in the pop-up window with your graph. SD1 and SD2 values are not saved automatically.\n",
      "\n",
      "Example:\n",
      "\n",
      "    event_type = 'Bursts'\n",
      "    meas = 'Peaks per Burst'\n",
      "    key = 'Mean1'\n",
      "\n",
      "https://github.com/drcgw/SWAN/wiki/Tutorial#poincare-plots"
     ]
    },
    {
     "cell_type": "code",
     "collapsed": false,
     "input": [
      "#quick\n",
      "event_type = 'Bursts'\n",
      "meas = 'Burst Duration'\n",
      "key = 'Mean1'\n",
      "poincare_plot(Results[event_type][key][meas])"
     ],
     "language": "python",
     "metadata": {},
     "outputs": []
    },
    {
     "cell_type": "heading",
     "level": 2,
     "metadata": {},
     "source": [
      "Power Spectral Density"
     ]
    },
    {
     "cell_type": "markdown",
     "metadata": {},
     "source": [
      "The following blocks allows you to asses the power of event measuments in the frequency domain. While you can call this block on any event measurement, it is intended to be used on interval data (or at least data with units in seconds). Reccomended:\n",
      "\n",
      "    event_type = 'Bursts'\n",
      "    meas = 'Total Cycle Time'\n",
      "    key = 'Mean1'\n",
      "    \n",
      "    event_type = 'Peaks'\n",
      "    meas = 'Intervals'\n",
      "    key = 'Mean1'\n",
      "\n",
      "Because this data is in the frequency domain, we must interpolate it in order to perform a FFT on it.\n",
      "https://github.com/drcgw/SWAN/wiki/Tutorial#power-spectral-density"
     ]
    },
    {
     "cell_type": "heading",
     "level": 3,
     "metadata": {},
     "source": [
      "Events"
     ]
    },
    {
     "cell_type": "markdown",
     "metadata": {},
     "source": [
      "Use the code block below to specify your settings for event measurment PSD."
     ]
    },
    {
     "cell_type": "code",
     "collapsed": false,
     "input": [
      "Settings['PSD-Event'] = Series(index = ['Hz','ULF', 'VLF', 'LF','HF','dx'])\n",
      "#Set PSD ranges for power in band\n",
      "\n",
      "Settings['PSD-Event']['hz'] = 4.0 #freqency that the interpolation and PSD are performed with.\n",
      "Settings['PSD-Event']['ULF'] = 0.03 #max of the range of the ultra low freq band. range is 0:ulf\n",
      "Settings['PSD-Event']['VLF'] = 0.05 #max of the range of the very low freq band. range is ulf:vlf\n",
      "Settings['PSD-Event']['LF'] = 0.15 #max of the range of the low freq band. range is vlf:lf\n",
      "Settings['PSD-Event']['HF'] = 0.4 #max of the range of the high freq band. range is lf:hf. hf can be no more than (hz/2)\n",
      "Settings['PSD-Event']['dx'] = 10 #segmentation for the area under the curve. "
     ],
     "language": "python",
     "metadata": {},
     "outputs": []
    },
    {
     "cell_type": "code",
     "collapsed": false,
     "input": [
      "event_type = 'Peaks'\n",
      "meas = 'Intervals'\n",
      "key = 'Mean1'\n",
      "scale = 'raw'\n",
      "Results = psd_event(event_type, meas, key, scale, Data, Settings, Results)\n",
      "Results['PSD-Event'][key]"
     ],
     "language": "python",
     "metadata": {},
     "outputs": []
    },
    {
     "cell_type": "heading",
     "level": 3,
     "metadata": {},
     "source": [
      "Time Series"
     ]
    },
    {
     "cell_type": "markdown",
     "metadata": {},
     "source": [
      "Use the settings code block to set your frequency bands to calculate area under the curve. This block is not required. band output is always in raw power, even if the graph scale is dB/Hz."
     ]
    },
    {
     "cell_type": "code",
     "collapsed": false,
     "input": [
      "#optional\n",
      "Settings['PSD-Signal'] = Series(index = ['ULF', 'VLF', 'LF','HF','dx'])\n",
      "#Set PSD ranges for power in band\n",
      "\n",
      "Settings['PSD-Signal']['ULF'] = 100 #max of the range of the ultra low freq band. range is 0:ulf\n",
      "Settings['PSD-Signal']['VLF'] = 200 #max of the range of the very low freq band. range is ulf:vlf\n",
      "Settings['PSD-Signal']['LF'] = 300 #max of the range of the low freq band. range is vlf:lf\n",
      "Settings['PSD-Signal']['HF'] = 400 #max of the range of the high freq band. range is lf:hf. hf can be no more than (hz/2)\n",
      "Settings['PSD-Signal']['dx'] = 10 #segmentation for the area under the curve. "
     ],
     "language": "python",
     "metadata": {},
     "outputs": []
    },
    {
     "cell_type": "markdown",
     "metadata": {},
     "source": [
      "Use the block below to generate the PSD graph and power in bands results (if selected). scale toggles which units to use for the graph:\n",
      "    \n",
      "    raw = s^2/Hz\n",
      "    db = dB/Hz = 10*log10(s^2/Hz)"
     ]
    },
    {
     "cell_type": "code",
     "collapsed": false,
     "input": [
      "scale = 'raw' #raw or db\n",
      "Results = psd_signal(version = 'original', key = 'Mean1', scale = scale, \n",
      "                     Data = Data, Settings = Settings, Results = Results)\n",
      "Results['PSD-Signal']"
     ],
     "language": "python",
     "metadata": {},
     "outputs": []
    },
    {
     "cell_type": "heading",
     "level": 3,
     "metadata": {},
     "source": [
      "Spectrogram"
     ]
    },
    {
     "cell_type": "markdown",
     "metadata": {},
     "source": [
      "Use the block below to get the spectrogram of the signal. The frequency (y-axis) scales automatically to only show 'active' frequencies. This can take some time to run.\n",
      "\n",
      "    version = 'original'\n",
      "    key = 'Mean1'"
     ]
    },
    {
     "cell_type": "code",
     "collapsed": false,
     "input": [
      "version = 'original'\n",
      "key = 'Mean1'\n",
      "spectogram(version, key, Data, Settings, Results)"
     ],
     "language": "python",
     "metadata": {},
     "outputs": []
    },
    {
     "cell_type": "heading",
     "level": 2,
     "metadata": {},
     "source": [
      "Descriptive Statistics"
     ]
    },
    {
     "cell_type": "heading",
     "level": 4,
     "metadata": {},
     "source": [
      "Moving/Sliding Averages, Standard Deviation, and Count"
     ]
    },
    {
     "cell_type": "markdown",
     "metadata": {},
     "source": [
      "Generates the moving **mean**, **standard deviation**, and **count** for a given measurement across all columns of the Data in the form of a DataFrame (displayed as a table).\n",
      "Saves out the dataframes of these three results automatically with the window size in the name as a .csv.\n",
      "If **meas == 'All'**, then the function will loop and produce these tables for all measurements.\n",
      "\n",
      "    event_type = 'Peaks'\n",
      "    meas = 'all'\n",
      "    window = 30"
     ]
    },
    {
     "cell_type": "code",
     "collapsed": false,
     "input": [
      "#Moving Stats\n",
      "event_type = 'Peaks'\n",
      "meas = 'all'\n",
      "window = 30 #seconds\n",
      "Results = moving_statistics(event_type, meas, window, Data, Settings, Results)"
     ],
     "language": "python",
     "metadata": {},
     "outputs": []
    },
    {
     "cell_type": "heading",
     "level": 2,
     "metadata": {},
     "source": [
      "Entropy"
     ]
    },
    {
     "cell_type": "heading",
     "level": 4,
     "metadata": {},
     "source": [
      "Histogram"
     ]
    },
    {
     "cell_type": "markdown",
     "metadata": {},
     "source": [
      "Calculates the histogram entropy of a measurement for each column of data. Also saves the histogram of each. If meas is set to 'all', then all available measurements from the event_type chosen will be calculated iteratevely. \n",
      "\n",
      "If all of the samples fall in one bin regardless of the bin size, it means we have the most predictable sitution and the entropy is 0. If we have uniformly dist function, the max entropy will be 1\n",
      "\n",
      "    event_type = 'Bursts'\n",
      "    meas = 'all'\n",
      "\n",
      "https://github.com/drcgw/SWAN/wiki/Tutorial#histentropy"
     ]
    },
    {
     "cell_type": "code",
     "collapsed": false,
     "input": [
      "#Histogram Entropy\n",
      "event_type = 'Bursts'\n",
      "meas = 'all'\n",
      "Results = histent_wrapper(event_type, meas, Data, Settings, Results)\n",
      "Results['Histogram Entropy']"
     ],
     "language": "python",
     "metadata": {},
     "outputs": []
    },
    {
     "cell_type": "heading",
     "level": 1,
     "metadata": {},
     "source": [
      "Helpful Stuff"
     ]
    },
    {
     "cell_type": "markdown",
     "metadata": {},
     "source": [
      "While not completely up to date with some of the new changes, the Wiki can be useful if you have questions about some of the settings: https://github.com/drcgw/SWAN/wiki/Tutorial"
     ]
    },
    {
     "cell_type": "heading",
     "level": 1,
     "metadata": {},
     "source": [
      "More Help?"
     ]
    },
    {
     "cell_type": "markdown",
     "metadata": {},
     "source": [
      "Stuck on a particular step or function?\n",
      "Try typing the function name followed by two ??. This will pop up the docstring and source code.\n",
      "You can also call help() to have the notebook print the doc string.\n",
      "\n",
      "    Example:\n",
      "    analyze??\n",
      "    help(analyze)"
     ]
    },
    {
     "cell_type": "code",
     "collapsed": false,
     "input": [
      "help(moving_statistics)"
     ],
     "language": "python",
     "metadata": {},
     "outputs": []
    },
    {
     "cell_type": "code",
     "collapsed": false,
     "input": [
      "moving_statistics??"
     ],
     "language": "python",
     "metadata": {},
     "outputs": []
    }
   ],
   "metadata": {}
  }
 ]
}