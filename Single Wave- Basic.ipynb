{
 "metadata": {
  "name": "",
  "signature": "sha256:8894f17ad17ea8a2a3956fa1504eab4b40150d6d0de48cb2043f084cd3ed64b7"
 },
 "nbformat": 3,
 "nbformat_minor": 0,
 "worksheets": [
  {
   "cells": [
    {
     "cell_type": "heading",
     "level": 1,
     "metadata": {},
     "source": [
      "Welcome to BASS!"
     ]
    },
    {
     "cell_type": "markdown",
     "metadata": {},
     "source": [
      "Single Wave Analysis Notebook. This is the basic version."
     ]
    },
    {
     "cell_type": "markdown",
     "metadata": {},
     "source": [
      "    SWAN: Single Wave Analysis Notebook for event detection and signal processing.\n",
      "    Copyright (C) 2014  Abigail Dobyns\n",
      "\n",
      "    This program is free software: you can redistribute it and/or modify\n",
      "    it under the terms of the GNU General Public License as published by\n",
      "    the Free Software Foundation, either version 3 of the License, or\n",
      "    (at your option) any later version.\n",
      "\n",
      "    This program is distributed in the hope that it will be useful,\n",
      "    but WITHOUT ANY WARRANTY; without even the implied warranty of\n",
      "    MERCHANTABILITY or FITNESS FOR A PARTICULAR PURPOSE.  See the\n",
      "    GNU General Public License for more details.\n",
      "\n",
      "    You should have received a copy of the GNU General Public License\n",
      "    along with this program.  If not, see <http://www.gnu.org/licenses/>"
     ]
    },
    {
     "cell_type": "heading",
     "level": 2,
     "metadata": {},
     "source": [
      "Initalize"
     ]
    },
    {
     "cell_type": "markdown",
     "metadata": {},
     "source": [
      "Run the following code block to intialize the program."
     ]
    },
    {
     "cell_type": "code",
     "collapsed": false,
     "input": [
      "from bass import *"
     ],
     "language": "python",
     "metadata": {},
     "outputs": [
      {
       "output_type": "stream",
       "stream": "stdout",
       "text": [
        "BASS ready!\n"
       ]
      }
     ],
     "prompt_number": 2
    },
    {
     "cell_type": "heading",
     "level": 1,
     "metadata": {},
     "source": [
      "Settings"
     ]
    },
    {
     "cell_type": "heading",
     "level": 2,
     "metadata": {},
     "source": [
      "Specify Settings"
     ]
    },
    {
     "cell_type": "markdown",
     "metadata": {},
     "source": [
      "Use the following block to change your settings. You **must** use this block or load settings from a previous file. \n",
      "\n",
      "Here are some helpful information about the loading settings:\n",
      "\n",
      "**Settings['folder']= Full File Path for data input:**\n",
      "Designate the path to your file to load. It can also be the relative path to the folder where this notebook is stored. This does not include the file itself.\n",
      "\n",
      "    Mac OSX Example: '/Users/MYNAME/Documents/bass'\n",
      "    Microsoft Example: 'C:\\\\Users\\MYNAME\\Documents\\bass'\n",
      "    \n",
      "\n",
      "**Settings['Label']= File name:**\n",
      "This is the name of your data file. It should include the file type. This file should NOT have a header and the first column must be time in seconds. Note: This file name will also appear as part of the output files names.\n",
      "\n",
      "    'rat34_ECG.txt' \n",
      "\n",
      "**Full File Path for data output:**Designate the location of the folder where you would like the folder containing your results to go. A plots folder, called 'plots' will be created inside this folder for you if it does not already exsist. \n",
      "\n",
      "    Mac OSX Example: '/Users/MYNAME/Documents/output'\n",
      "    Microsoft Example: 'C:\\\\Users\\MYNAME\\Documents\\output' \n",
      "\n",
      "https://github.com/drcgw/SWAN/wiki/Tutorial#load"
     ]
    },
    {
     "cell_type": "markdown",
     "metadata": {},
     "source": [
      "For more information about other settings, go to: \n",
      "\n",
      "https://github.com/drcgw/SWAN/wiki/Tutorial#transform-data\n",
      "\n",
      "https://github.com/drcgw/SWAN/wiki/Transformation-Settings"
     ]
    },
    {
     "cell_type": "code",
     "collapsed": false,
     "input": [
      "#initialize new file\n",
      "Data = {}\n",
      "Settings = {}\n",
      "Results ={}\n",
      "\n",
      "############################################################################################\n",
      "#manual Setting block\n",
      "Settings['folder']= \"/Users/abigaildobyns/Desktop\"\n",
      "Settings['Label'] = 'rat34_ECG.txt'\n",
      "Settings['Output Folder'] = \"/Users/abigaildobyns/Desktop/demo\"\n",
      "\n",
      "#transformation Settings\n",
      "Settings['Absolute Value'] = True #Must be True if Savitzky-Golay is being used\n",
      "\n",
      "Settings['Bandpass Highcut'] = 'none' #in Hz\n",
      "Settings['Bandpass Lowcut'] = 'none' #in Hz\n",
      "Settings['Bandpass Polynomial'] = 'none' #integer\n",
      "\n",
      "Settings['Linear Fit'] = False #between 0 and 1 on the whole time series\n",
      "Settings['Linear Fit-Rolling R'] = 0.75 #between 0 and 1\n",
      "Settings['Linear Fit-Rolling Window'] = 1000 #window for rolling mean for fit, unit is index not time\n",
      "Settings['Relative Baseline'] = 0 #default 0, unless data is normalized, then 1.0. Can be any float\n",
      "\n",
      "Settings['Savitzky-Golay Polynomial'] = 4 #integer\n",
      "Settings['Savitzky-Golay Window Size'] = 251 #must be odd. units are index not time\n",
      "\n",
      "#Baseline Settings\n",
      "Settings['Baseline Type'] = 'static' #'linear', 'rolling', or 'static'\n",
      "Settings['Rolling Baseline Window'] = 'none' #leave as 'none' if linear or static\n",
      "\n",
      "#Peaks\n",
      "Settings['Delta'] = 0.25\n",
      "Settings['Peak Minimum'] = -(np.Inf) #amplitude value\n",
      "Settings['Peak Maximum'] = np.Inf #amplitude value\n",
      "\n",
      "#Bursts\n",
      "Settings['Burst Area'] = False #calculate burst area\n",
      "Settings['Exclude Edges'] = True #False to keep edges, True to discard them\n",
      "Settings['Inter-event interval minimum (seconds)'] = 0.0100 #only for bursts, not for peaks\n",
      "Settings['Maximum Burst Duration (s)'] = 10 \n",
      "Settings['Minimum Burst Duration (s)'] = 0\n",
      "Settings['Minimum Peak Number'] = 1 #minimum number of peaks/burst, integer\n",
      "Settings['Threshold']= 0.15 #linear: proportion of baseline. \n",
      "                           #static: literal value.\n",
      "                           #rolling, linear ammount grater than rolling baseline at each time point.\n",
      "\n",
      "#Outputs\n",
      "Settings['Generate Graphs'] = False #create and save the fancy graph outputs\n",
      "\n",
      "\n",
      "#Settings that you should not change unless you are a super advanced user:\n",
      "#These are settings that are still in development\n",
      "Settings['Graph LCpro events'] = False\n",
      "Settings['File Type'] = 'Plain' #'LCPro', 'ImageJ', 'SIMA', 'Plain', 'Morgan'\n",
      "Settings['Milliseconds'] = False\n",
      "############################################################################################"
     ],
     "language": "python",
     "metadata": {},
     "outputs": [],
     "prompt_number": 3
    },
    {
     "cell_type": "heading",
     "level": 2,
     "metadata": {},
     "source": [
      "Load Settings from previous analysis"
     ]
    },
    {
     "cell_type": "markdown",
     "metadata": {},
     "source": [
      "Must be a previously outputed BASS settings file, although the name can be changed. Expected format is '.csv'. Enter the full file path and name.\n",
      "\n",
      "    Mac OSX Example: '/Users/MYNAME/Documents/bass_settings.csv'\n",
      "    Microsoft Example: 'C:\\\\Users\\MYNAME\\Documents\\bass_settings.csv'\n",
      "    \n",
      "See above instructions for how to load your data file."
     ]
    },
    {
     "cell_type": "code",
     "collapsed": false,
     "input": [
      "#Load in a Settings File\n",
      "#initialize new file\n",
      "Data = {}\n",
      "Settings = {}\n",
      "Results ={}\n",
      "\n",
      "############################################################################################\n",
      "#manual Setting block\n",
      "Settings['folder']= \"/Users/abigaildobyns/Desktop/Neuron Modeling/morgan voltage data\"\n",
      "Settings['Label'] = 'voltage-TBModel-sec1320-eL-IP0_9.txt'\n",
      "Settings['Output Folder'] = \"/Users/abigaildobyns/Desktop/demo\"\n",
      "\n",
      "#Load a Settings file\n",
      "Settings['Settings File'] = '/Users/abigaildobyns/Desktop/Neuron Modeling/morgan voltage data/IP0_9/voltage-TBModel-sec1320-eL-IP0_9.txt_Settings.csv'\n",
      "\n",
      "##Settings that you should not change unless you are a super advanced user:\n",
      "#These are settings that are still in development\n",
      "Settings['File Type'] = 'Morgan' #'LCPro', 'ImageJ', 'SIMA', 'Plain', 'Morgan'\n",
      "Settings['Milliseconds'] = True\n",
      "\n",
      "Settings = load_settings(Settings)"
     ],
     "language": "python",
     "metadata": {},
     "outputs": [],
     "prompt_number": 14
    },
    {
     "cell_type": "code",
     "collapsed": false,
     "input": [
      "Data, Settings, Results = analyze(Data, Settings, Results)"
     ],
     "language": "python",
     "metadata": {},
     "outputs": [
      {
       "output_type": "stream",
       "stream": "stdout",
       "text": [
        "Made plots folder\n",
        "Data Loaded"
       ]
      },
      {
       "output_type": "stream",
       "stream": "stdout",
       "text": [
        "\n",
        "Transformation completed"
       ]
      },
      {
       "output_type": "stream",
       "stream": "stdout",
       "text": [
        "\n",
        "Baseline set completed\n",
        "Peak Detection completed"
       ]
      },
      {
       "output_type": "stream",
       "stream": "stdout",
       "text": [
        "\n",
        "Burst Detection completed"
       ]
      },
      {
       "output_type": "stream",
       "stream": "stdout",
       "text": [
        "\n",
        "Analysis Complete: "
       ]
      },
      {
       "output_type": "stream",
       "stream": "stdout",
       "text": [
        " 6.5656  Seconds\n",
        "\n",
        "--------------------------------------------\n",
        "Data Column Names/Keys\n",
        "-----\n",
        "Mean1\n",
        "\n",
        "--------------------------------------------\n",
        "Available Measurements from Peaks for further analysis:\n",
        "-----\n",
        "Peaks Amplitude\n",
        "Intervals\n",
        "\n",
        "--------------------------------------------\n",
        "Available Measurements from Bursts for further analysis:\n",
        "-----\n",
        "Burst Start\n",
        "Burst End\n",
        "Burst Duration\n",
        "Edge Event\n",
        "Interburst Interval\n",
        "Total Cycle Time\n",
        "Peaks per Burst\n",
        "Peak Amp\n",
        "Peak Time\n",
        "Attack\n",
        "Decay\n",
        "Intraburst Frequency\n",
        "\n",
        "---------------------------\n",
        "|Event Detection Complete!|\n",
        "---------------------------\n"
       ]
      }
     ],
     "prompt_number": 4
    },
    {
     "cell_type": "heading",
     "level": 2,
     "metadata": {},
     "source": [
      "Display Event Detection Tables"
     ]
    },
    {
     "cell_type": "heading",
     "level": 4,
     "metadata": {},
     "source": [
      "Display Settings used for analysis"
     ]
    },
    {
     "cell_type": "code",
     "collapsed": false,
     "input": [
      "display_settings(Settings)"
     ],
     "language": "python",
     "metadata": {},
     "outputs": []
    },
    {
     "cell_type": "heading",
     "level": 4,
     "metadata": {},
     "source": [
      "Display Summary Results for Peaks"
     ]
    },
    {
     "cell_type": "code",
     "collapsed": false,
     "input": [
      "#grouped summary for peaks\n",
      "Results['Peaks-Master'].groupby(level=0).describe()"
     ],
     "language": "python",
     "metadata": {},
     "outputs": [
      {
       "html": [
        "<div style=\"max-height:1000px;max-width:1500px;overflow:auto;\">\n",
        "<table border=\"1\" class=\"dataframe\">\n",
        "  <thead>\n",
        "    <tr style=\"text-align: right;\">\n",
        "      <th></th>\n",
        "      <th></th>\n",
        "      <th>Peaks Amplitude</th>\n",
        "      <th>Intervals</th>\n",
        "    </tr>\n",
        "  </thead>\n",
        "  <tbody>\n",
        "    <tr>\n",
        "      <th rowspan=\"8\" valign=\"top\">Mean1</th>\n",
        "      <th>count</th>\n",
        "      <td> 3224.000000</td>\n",
        "      <td> 3223.000000</td>\n",
        "    </tr>\n",
        "    <tr>\n",
        "      <th>mean</th>\n",
        "      <td>    0.514326</td>\n",
        "      <td>    0.188253</td>\n",
        "    </tr>\n",
        "    <tr>\n",
        "      <th>std</th>\n",
        "      <td>    0.047384</td>\n",
        "      <td>    0.007427</td>\n",
        "    </tr>\n",
        "    <tr>\n",
        "      <th>min</th>\n",
        "      <td>    0.403260</td>\n",
        "      <td>    0.170000</td>\n",
        "    </tr>\n",
        "    <tr>\n",
        "      <th>25%</th>\n",
        "      <td>    0.468488</td>\n",
        "      <td>    0.183250</td>\n",
        "    </tr>\n",
        "    <tr>\n",
        "      <th>50%</th>\n",
        "      <td>    0.526320</td>\n",
        "      <td>    0.188500</td>\n",
        "    </tr>\n",
        "    <tr>\n",
        "      <th>75%</th>\n",
        "      <td>    0.550066</td>\n",
        "      <td>    0.194250</td>\n",
        "    </tr>\n",
        "    <tr>\n",
        "      <th>max</th>\n",
        "      <td>    0.633748</td>\n",
        "      <td>    0.202500</td>\n",
        "    </tr>\n",
        "  </tbody>\n",
        "</table>\n",
        "<p>8 rows \u00d7 2 columns</p>\n",
        "</div>"
       ],
       "metadata": {},
       "output_type": "pyout",
       "prompt_number": 4,
       "text": [
        "             Peaks Amplitude    Intervals\n",
        "Mean1 count      3224.000000  3223.000000\n",
        "      mean          0.514326     0.188253\n",
        "      std           0.047384     0.007427\n",
        "      min           0.403260     0.170000\n",
        "      25%           0.468488     0.183250\n",
        "      50%           0.526320     0.188500\n",
        "      75%           0.550066     0.194250\n",
        "      max           0.633748     0.202500\n",
        "\n",
        "[8 rows x 2 columns]"
       ]
      }
     ],
     "prompt_number": 4
    },
    {
     "cell_type": "heading",
     "level": 4,
     "metadata": {},
     "source": [
      "Display Summary Results for Bursts"
     ]
    },
    {
     "cell_type": "code",
     "collapsed": false,
     "input": [
      "#grouped summary for bursts\n",
      "Results['Bursts-Master'].groupby(level=0).describe()"
     ],
     "language": "python",
     "metadata": {},
     "outputs": [
      {
       "html": [
        "<div style=\"max-height:1000px;max-width:1500px;overflow:auto;\">\n",
        "<table border=\"1\" class=\"dataframe\">\n",
        "  <thead>\n",
        "    <tr style=\"text-align: right;\">\n",
        "      <th></th>\n",
        "      <th></th>\n",
        "      <th>Burst Start</th>\n",
        "      <th>Burst End</th>\n",
        "      <th>Burst Duration</th>\n",
        "      <th>Edge Event</th>\n",
        "      <th>Interburst Interval</th>\n",
        "      <th>Total Cycle Time</th>\n",
        "      <th>Peaks per Burst</th>\n",
        "      <th>Peak Amp</th>\n",
        "      <th>Peak Time</th>\n",
        "      <th>Attack</th>\n",
        "      <th>Decay</th>\n",
        "      <th>Intraburst Frequency</th>\n",
        "    </tr>\n",
        "  </thead>\n",
        "  <tbody>\n",
        "    <tr>\n",
        "      <th rowspan=\"8\" valign=\"top\">Mean1</th>\n",
        "      <th>count</th>\n",
        "      <td> 3224.000000</td>\n",
        "      <td> 3224.000000</td>\n",
        "      <td> 3224.000000</td>\n",
        "      <td>  3224</td>\n",
        "      <td> 3223.000000</td>\n",
        "      <td> 3223.000000</td>\n",
        "      <td> 3224</td>\n",
        "      <td> 3224.000000</td>\n",
        "      <td> 3224.000000</td>\n",
        "      <td> 3224.000000</td>\n",
        "      <td> 3224.000000</td>\n",
        "      <td> 3224.000000</td>\n",
        "    </tr>\n",
        "    <tr>\n",
        "      <th>mean</th>\n",
        "      <td>  297.234606</td>\n",
        "      <td>  297.264828</td>\n",
        "      <td>    0.030222</td>\n",
        "      <td>     0</td>\n",
        "      <td>    0.158032</td>\n",
        "      <td>    0.188253</td>\n",
        "      <td>    1</td>\n",
        "      <td>    0.514326</td>\n",
        "      <td>  297.249564</td>\n",
        "      <td>    0.014957</td>\n",
        "      <td>    0.015265</td>\n",
        "      <td>   33.165306</td>\n",
        "    </tr>\n",
        "    <tr>\n",
        "      <th>std</th>\n",
        "      <td>  176.070115</td>\n",
        "      <td>  176.070941</td>\n",
        "      <td>    0.001450</td>\n",
        "      <td>     0</td>\n",
        "      <td>    0.006746</td>\n",
        "      <td>    0.007453</td>\n",
        "      <td>    0</td>\n",
        "      <td>    0.047384</td>\n",
        "      <td>  176.070538</td>\n",
        "      <td>    0.000890</td>\n",
        "      <td>    0.000722</td>\n",
        "      <td>    1.604423</td>\n",
        "    </tr>\n",
        "    <tr>\n",
        "      <th>min</th>\n",
        "      <td>    0.120250</td>\n",
        "      <td>    0.148250</td>\n",
        "      <td>    0.026500</td>\n",
        "      <td> False</td>\n",
        "      <td>    0.142000</td>\n",
        "      <td>    0.170000</td>\n",
        "      <td>    1</td>\n",
        "      <td>    0.403260</td>\n",
        "      <td>    0.134250</td>\n",
        "      <td>    0.013250</td>\n",
        "      <td>    0.013250</td>\n",
        "      <td>   29.850746</td>\n",
        "    </tr>\n",
        "    <tr>\n",
        "      <th>25%</th>\n",
        "      <td>  143.869000</td>\n",
        "      <td>  143.897875</td>\n",
        "      <td>    0.029250</td>\n",
        "      <td>     0</td>\n",
        "      <td>    0.154000</td>\n",
        "      <td>    0.183000</td>\n",
        "      <td>    1</td>\n",
        "      <td>    0.468488</td>\n",
        "      <td>  143.883188</td>\n",
        "      <td>    0.014250</td>\n",
        "      <td>    0.014750</td>\n",
        "      <td>   32.000000</td>\n",
        "    </tr>\n",
        "    <tr>\n",
        "      <th>50%</th>\n",
        "      <td>  293.386625</td>\n",
        "      <td>  293.416750</td>\n",
        "      <td>    0.030250</td>\n",
        "      <td>     0</td>\n",
        "      <td>    0.157750</td>\n",
        "      <td>    0.188500</td>\n",
        "      <td>    1</td>\n",
        "      <td>    0.526320</td>\n",
        "      <td>  293.401375</td>\n",
        "      <td>    0.014750</td>\n",
        "      <td>    0.015250</td>\n",
        "      <td>   33.057851</td>\n",
        "    </tr>\n",
        "    <tr>\n",
        "      <th>75%</th>\n",
        "      <td>  449.120875</td>\n",
        "      <td>  449.153063</td>\n",
        "      <td>    0.031250</td>\n",
        "      <td>     0</td>\n",
        "      <td>    0.162750</td>\n",
        "      <td>    0.194250</td>\n",
        "      <td>    1</td>\n",
        "      <td>    0.550066</td>\n",
        "      <td>  449.137188</td>\n",
        "      <td>    0.015500</td>\n",
        "      <td>    0.015750</td>\n",
        "      <td>   34.188034</td>\n",
        "    </tr>\n",
        "    <tr>\n",
        "      <th>max</th>\n",
        "      <td>  606.860500</td>\n",
        "      <td>  606.893000</td>\n",
        "      <td>    0.033500</td>\n",
        "      <td> False</td>\n",
        "      <td>    0.171750</td>\n",
        "      <td>    0.202000</td>\n",
        "      <td>    1</td>\n",
        "      <td>    0.633748</td>\n",
        "      <td>  606.875000</td>\n",
        "      <td>    0.017250</td>\n",
        "      <td>    0.018000</td>\n",
        "      <td>   37.735849</td>\n",
        "    </tr>\n",
        "  </tbody>\n",
        "</table>\n",
        "<p>8 rows \u00d7 12 columns</p>\n",
        "</div>"
       ],
       "metadata": {},
       "output_type": "pyout",
       "prompt_number": 5,
       "text": [
        "             Burst Start    Burst End  Burst Duration Edge Event  \\\n",
        "Mean1 count  3224.000000  3224.000000     3224.000000       3224   \n",
        "      mean    297.234606   297.264828        0.030222          0   \n",
        "      std     176.070115   176.070941        0.001450          0   \n",
        "      min       0.120250     0.148250        0.026500      False   \n",
        "      25%     143.869000   143.897875        0.029250          0   \n",
        "      50%     293.386625   293.416750        0.030250          0   \n",
        "      75%     449.120875   449.153063        0.031250          0   \n",
        "      max     606.860500   606.893000        0.033500      False   \n",
        "\n",
        "             Interburst Interval  Total Cycle Time  Peaks per Burst  \\\n",
        "Mean1 count          3223.000000       3223.000000             3224   \n",
        "      mean              0.158032          0.188253                1   \n",
        "      std               0.006746          0.007453                0   \n",
        "      min               0.142000          0.170000                1   \n",
        "      25%               0.154000          0.183000                1   \n",
        "      50%               0.157750          0.188500                1   \n",
        "      75%               0.162750          0.194250                1   \n",
        "      max               0.171750          0.202000                1   \n",
        "\n",
        "                Peak Amp    Peak Time       Attack        Decay  \\\n",
        "Mean1 count  3224.000000  3224.000000  3224.000000  3224.000000   \n",
        "      mean      0.514326   297.249564     0.014957     0.015265   \n",
        "      std       0.047384   176.070538     0.000890     0.000722   \n",
        "      min       0.403260     0.134250     0.013250     0.013250   \n",
        "      25%       0.468488   143.883188     0.014250     0.014750   \n",
        "      50%       0.526320   293.401375     0.014750     0.015250   \n",
        "      75%       0.550066   449.137188     0.015500     0.015750   \n",
        "      max       0.633748   606.875000     0.017250     0.018000   \n",
        "\n",
        "             Intraburst Frequency  \n",
        "Mean1 count           3224.000000  \n",
        "      mean              33.165306  \n",
        "      std                1.604423  \n",
        "      min               29.850746  \n",
        "      25%               32.000000  \n",
        "      50%               33.057851  \n",
        "      75%               34.188034  \n",
        "      max               37.735849  \n",
        "\n",
        "[8 rows x 12 columns]"
       ]
      }
     ],
     "prompt_number": 5
    },
    {
     "cell_type": "heading",
     "level": 1,
     "metadata": {},
     "source": [
      "Interactive Graphs"
     ]
    },
    {
     "cell_type": "heading",
     "level": 2,
     "metadata": {},
     "source": [
      "Line Graphs"
     ]
    },
    {
     "cell_type": "markdown",
     "metadata": {},
     "source": [
      "Plot one time series by calling it's name"
     ]
    },
    {
     "cell_type": "code",
     "collapsed": false,
     "input": [
      "#Interactive, single time series by Key\n",
      "key = 'Mean1'\n",
      "graph_detected_events_display(Data, Settings, Results, key)"
     ],
     "language": "python",
     "metadata": {},
     "outputs": [],
     "prompt_number": 6
    },
    {
     "cell_type": "markdown",
     "metadata": {},
     "source": [
      "Create line plots of the raw data as well as the data analysis. \n",
      "\n",
      "Plots are saved by clicking the save button in the pop-up window with your graph.\n",
      "\n",
      "https://github.com/drcgw/SWAN/wiki/Tutorial#line-plots"
     ]
    },
    {
     "cell_type": "code",
     "collapsed": false,
     "input": [
      "key = 'Mean1'\n",
      "start =100 #start time in seconds\n",
      "end= 101#end time in seconds\n",
      "results_timeseries_plot(key, start, end, Data, Settings, Results)"
     ],
     "language": "python",
     "metadata": {},
     "outputs": [],
     "prompt_number": 7
    },
    {
     "cell_type": "heading",
     "level": 2,
     "metadata": {},
     "source": [
      "Autocorrelation"
     ]
    },
    {
     "cell_type": "markdown",
     "metadata": {},
     "source": [
      "Display the Autocorrelation plot of your transformed data.\n",
      "\n",
      "Choose the start and end time in seconds. to capture whole time series, use end = -1. May be slow"
     ]
    },
    {
     "cell_type": "code",
     "collapsed": false,
     "input": [
      "#autocorrelation\n",
      "key = 'Mean1'\n",
      "start = 0 #seconds, where you want the slice to begin\n",
      "end = 1 #seconds, where you want the slice to end. The absolute end is -1\n",
      "autocorrelation_plot(Data['trans'][key][start:end])\n",
      "plt.show()"
     ],
     "language": "python",
     "metadata": {},
     "outputs": []
    },
    {
     "cell_type": "heading",
     "level": 2,
     "metadata": {},
     "source": [
      "Raster Plot"
     ]
    },
    {
     "cell_type": "markdown",
     "metadata": {},
     "source": [
      "Shows the temporal relationship of peaks in each column. Auto scales. Display only"
     ]
    },
    {
     "cell_type": "code",
     "collapsed": false,
     "input": [
      "#raster\n",
      "raster(Results)"
     ],
     "language": "python",
     "metadata": {},
     "outputs": [],
     "prompt_number": 8
    },
    {
     "cell_type": "heading",
     "level": 2,
     "metadata": {},
     "source": [
      "Frequency Plot"
     ]
    },
    {
     "cell_type": "markdown",
     "metadata": {},
     "source": [
      "Use this block to plot changes of any measurement over time. Example:\n",
      "\n",
      "    event_type = 'Peaks'\n",
      "    meas = 'Intervals'\n",
      "    key = 'Mean1'\n",
      "    \n",
      "https://github.com/drcgw/SWAN/wiki/Tutorial#frequency-plot"
     ]
    },
    {
     "cell_type": "code",
     "collapsed": false,
     "input": [
      "event_type = 'Peaks'\n",
      "meas = 'Intervals'\n",
      "key = 'Mean1' #'Mean1' default for single wave\n",
      "frequency_plot(event_type, meas, key, Data, Settings, Results)"
     ],
     "language": "python",
     "metadata": {},
     "outputs": [],
     "prompt_number": 12
    },
    {
     "cell_type": "heading",
     "level": 2,
     "metadata": {},
     "source": [
      "Analyze Events by Measurement"
     ]
    },
    {
     "cell_type": "markdown",
     "metadata": {},
     "source": [
      "Generates a line plot with error bars for a given event measurement. X axis is the names of each time series. Display Only."
     ]
    },
    {
     "cell_type": "code",
     "collapsed": false,
     "input": [
      "#Get average plots, display only\n",
      "event_type = 'peaks'\n",
      "meas = 'Peaks Amplitude'\n",
      "average_measurement_plot(event_type, meas,Results)"
     ],
     "language": "python",
     "metadata": {},
     "outputs": [],
     "prompt_number": 8
    },
    {
     "cell_type": "heading",
     "level": 2,
     "metadata": {},
     "source": [
      "Poincare Plots"
     ]
    },
    {
     "cell_type": "markdown",
     "metadata": {},
     "source": [
      "Create a Poincare Plot of your favorite varible. Choose an event type (Peaks or Bursts), measurement type, and key. Make sure that whichever varible you chose is only composed of numbers (No NaN or missing values). Calling meas = 'All' not currently supported.\n",
      "\n",
      "Plots are saved by clicking the save button in the pop-up window with your graph. SD1 and SD2 values are not saved automatically.\n",
      "\n",
      "Example:\n",
      "\n",
      "    event_type = 'Bursts'\n",
      "    meas = 'Peaks per Burst'\n",
      "    key = 'Mean1'\n",
      "\n",
      "https://github.com/drcgw/SWAN/wiki/Tutorial#poincare-plots"
     ]
    },
    {
     "cell_type": "code",
     "collapsed": false,
     "input": [
      "#quick\n",
      "event_type = 'Bursts'\n",
      "meas = 'Burst Duration'\n",
      "key = 'Mean1'\n",
      "poincare_plot(Results[event_type][key][meas])"
     ],
     "language": "python",
     "metadata": {},
     "outputs": []
    },
    {
     "cell_type": "heading",
     "level": 2,
     "metadata": {},
     "source": [
      "Power Spectral Density"
     ]
    },
    {
     "cell_type": "markdown",
     "metadata": {},
     "source": [
      "Use block below to return the PSD plot, as well as the power in the bands defined by the settings. the actual call being used is:\n",
      "\n",
      "        Fxx, Pxx = scipy.signal.welch(freq_x, fs = Settings['PSD-Event']['hz'], window=\"hanning\", \n",
      "                                  nperseg=256, noverlap=128, detrend=\"linear\")"
     ]
    },
    {
     "cell_type": "code",
     "collapsed": false,
     "input": [
      "Settings['PSD-Event'] = Series(index = ['Hz','ULF', 'VLF', 'LF','HF','dx'])\n",
      "#Set PSD ranges for power in band\n",
      "\n",
      "Settings['PSD-Event']['hz'] = 4.0 #freqency that the interpolation and PSD are performed with.\n",
      "Settings['PSD-Event']['ULF'] = 0.03 #max of the range of the ultra low freq band. range is 0:ulf\n",
      "Settings['PSD-Event']['VLF'] = 0.05 #max of the range of the very low freq band. range is ulf:vlf\n",
      "Settings['PSD-Event']['LF'] = 0.15 #max of the range of the low freq band. range is vlf:lf\n",
      "Settings['PSD-Event']['HF'] = 0.4 #max of the range of the high freq band. range is lf:hf. hf can be no more than (hz/2)\n",
      "Settings['PSD-Event']['dx'] = 10 #segmentation for the area under the curve. "
     ],
     "language": "python",
     "metadata": {},
     "outputs": [
      {
       "ename": "NameError",
       "evalue": "name 'Series' is not defined",
       "output_type": "pyerr",
       "traceback": [
        "\u001b[0;31m---------------------------------------------------------------------------\u001b[0m\n\u001b[0;31mNameError\u001b[0m                                 Traceback (most recent call last)",
        "\u001b[0;32m<ipython-input-1-c3d634f5a87f>\u001b[0m in \u001b[0;36m<module>\u001b[0;34m()\u001b[0m\n\u001b[0;32m----> 1\u001b[0;31m \u001b[0mSettings\u001b[0m\u001b[0;34m[\u001b[0m\u001b[0;34m'PSD-Event'\u001b[0m\u001b[0;34m]\u001b[0m \u001b[0;34m=\u001b[0m \u001b[0mSeries\u001b[0m\u001b[0;34m(\u001b[0m\u001b[0mindex\u001b[0m \u001b[0;34m=\u001b[0m \u001b[0;34m[\u001b[0m\u001b[0;34m'Hz'\u001b[0m\u001b[0;34m,\u001b[0m\u001b[0;34m'ULF'\u001b[0m\u001b[0;34m,\u001b[0m \u001b[0;34m'VLF'\u001b[0m\u001b[0;34m,\u001b[0m \u001b[0;34m'LF'\u001b[0m\u001b[0;34m,\u001b[0m\u001b[0;34m'HF'\u001b[0m\u001b[0;34m,\u001b[0m\u001b[0;34m'dx'\u001b[0m\u001b[0;34m]\u001b[0m\u001b[0;34m)\u001b[0m\u001b[0;34m\u001b[0m\u001b[0m\n\u001b[0m\u001b[1;32m      2\u001b[0m \u001b[0;31m#Set PSD ranges for power in band\u001b[0m\u001b[0;34m\u001b[0m\u001b[0;34m\u001b[0m\u001b[0m\n\u001b[1;32m      3\u001b[0m \u001b[0;34m\u001b[0m\u001b[0m\n\u001b[1;32m      4\u001b[0m \u001b[0mSettings\u001b[0m\u001b[0;34m[\u001b[0m\u001b[0;34m'PSD-Event'\u001b[0m\u001b[0;34m]\u001b[0m\u001b[0;34m[\u001b[0m\u001b[0;34m'hz'\u001b[0m\u001b[0;34m]\u001b[0m \u001b[0;34m=\u001b[0m \u001b[0;36m4.0\u001b[0m \u001b[0;31m#freqency that the interpolation and PSD are performed with.\u001b[0m\u001b[0;34m\u001b[0m\u001b[0m\n\u001b[1;32m      5\u001b[0m \u001b[0mSettings\u001b[0m\u001b[0;34m[\u001b[0m\u001b[0;34m'PSD-Event'\u001b[0m\u001b[0;34m]\u001b[0m\u001b[0;34m[\u001b[0m\u001b[0;34m'ULF'\u001b[0m\u001b[0;34m]\u001b[0m \u001b[0;34m=\u001b[0m \u001b[0;36m0.03\u001b[0m \u001b[0;31m#max of the range of the ultra low freq band. range is 0:ulf\u001b[0m\u001b[0;34m\u001b[0m\u001b[0m\n",
        "\u001b[0;31mNameError\u001b[0m: name 'Series' is not defined"
       ]
      }
     ],
     "prompt_number": 1
    },
    {
     "cell_type": "code",
     "collapsed": false,
     "input": [
      "event_type = 'Peaks'\n",
      "meas = 'Intervals'\n",
      "key = 'Mean1'\n",
      "Results = psd_event(event_type, meas, key, Data, Settings, Results)\n",
      "Results['PSD-Event'][key]"
     ],
     "language": "python",
     "metadata": {},
     "outputs": [
      {
       "html": [
        "<div style=\"max-height:1000px;max-width:1500px;overflow:auto;\">\n",
        "<table border=\"1\" class=\"dataframe\">\n",
        "  <thead>\n",
        "    <tr style=\"text-align: right;\">\n",
        "      <th></th>\n",
        "      <th>Intervals</th>\n",
        "    </tr>\n",
        "  </thead>\n",
        "  <tbody>\n",
        "    <tr>\n",
        "      <th>ULF</th>\n",
        "      <td> 0.000000e+00</td>\n",
        "    </tr>\n",
        "    <tr>\n",
        "      <th>VLF</th>\n",
        "      <td> 0.000000e+00</td>\n",
        "    </tr>\n",
        "    <tr>\n",
        "      <th>LF</th>\n",
        "      <td> 3.796730e-09</td>\n",
        "    </tr>\n",
        "    <tr>\n",
        "      <th>HF</th>\n",
        "      <td> 1.363065e-08</td>\n",
        "    </tr>\n",
        "    <tr>\n",
        "      <th>LF/HF</th>\n",
        "      <td> 2.785437e-01</td>\n",
        "    </tr>\n",
        "  </tbody>\n",
        "</table>\n",
        "<p>5 rows \u00d7 1 columns</p>\n",
        "</div>"
       ],
       "metadata": {},
       "output_type": "pyout",
       "prompt_number": 23,
       "text": [
        "          Intervals\n",
        "ULF    0.000000e+00\n",
        "VLF    0.000000e+00\n",
        "LF     3.796730e-09\n",
        "HF     1.363065e-08\n",
        "LF/HF  2.785437e-01\n",
        "\n",
        "[5 rows x 1 columns]"
       ]
      }
     ],
     "prompt_number": 23
    },
    {
     "cell_type": "heading",
     "level": 2,
     "metadata": {},
     "source": [
      "Descriptive Statistics"
     ]
    },
    {
     "cell_type": "heading",
     "level": 4,
     "metadata": {},
     "source": [
      "Moving/Sliding Averages, Standard Deviation, and Count"
     ]
    },
    {
     "cell_type": "markdown",
     "metadata": {},
     "source": [
      "Generates the moving **mean**, **standard deviation**, and **count** for a given measurement across all columns of the Data in the form of a DataFrame (displayed as a table).\n",
      "Saves out the dataframes of these three results automatically with the window size in the name as a .csv.\n",
      "If **meas == 'All'**, then the function will loop and produce these tables for all measurements."
     ]
    },
    {
     "cell_type": "code",
     "collapsed": false,
     "input": [
      "#Moving Stats\n",
      "event_type = 'Peaks'\n",
      "meas = 'all'\n",
      "window = 30 #seconds\n",
      "Results = moving_statistics(event_type, meas, window, Data, Settings, Results)"
     ],
     "language": "python",
     "metadata": {},
     "outputs": [
      {
       "output_type": "stream",
       "stream": "stdout",
       "text": [
        "Peaks Amplitude Count\n",
        "     Mean1\n",
        "0      172\n",
        "30     170\n",
        "60     168\n",
        "90     165\n",
        "120    165\n",
        "150    162\n",
        "180    163\n",
        "210    162\n",
        "240    160\n",
        "270    160\n",
        "300    158\n",
        "330    156\n",
        "360    155\n",
        "390    154\n",
        "420    152\n",
        "450    151\n",
        "480    150\n",
        "510    153\n",
        "540    156\n",
        "570    156\n",
        "\n",
        "[20 rows x 1 columns]\n",
        "Peaks Amplitude Mean\n",
        "        Mean1\n",
        "0    0.454495\n",
        "30   0.461981\n",
        "60   0.467706\n",
        "90   0.472734\n",
        "120  0.472625\n",
        "150  0.439019\n",
        "180  0.465523\n",
        "210  0.479896\n",
        "240  0.533320\n",
        "270  0.536957\n",
        "300  0.540319\n",
        "330  0.541817\n",
        "360  0.539320\n",
        "390  0.543817\n",
        "420  0.543434\n",
        "450  0.539151\n",
        "480  0.544342\n",
        "510  0.561793\n",
        "540  0.577626\n",
        "570  0.582751\n",
        "\n",
        "[20 rows x 1 columns]\n",
        "Peaks Amplitude Std\n",
        "        Mean1\n",
        "0    0.012401\n",
        "30   0.013277\n",
        "60   0.012555\n",
        "90   0.012190\n",
        "120  0.013453\n",
        "150  0.019170\n",
        "180  0.012736\n",
        "210  0.033349\n",
        "240  0.014349\n",
        "270  0.013711\n",
        "300  0.015149\n",
        "330  0.015570\n",
        "360  0.016730\n",
        "390  0.016482\n",
        "420  0.016418\n",
        "450  0.015894\n",
        "480  0.017980\n",
        "510  0.016099\n",
        "540  0.016338\n",
        "570  0.017113\n",
        "\n",
        "[20 rows x 1 columns]\n",
        "Intervals Count\n",
        "     Mean1\n",
        "0      172\n",
        "30     170\n",
        "60     168\n",
        "90     165\n",
        "120    165\n",
        "150    162\n",
        "180    163\n",
        "210    162\n",
        "240    160\n",
        "270    160\n",
        "300    158\n",
        "330    156\n",
        "360    155\n",
        "390    154\n",
        "420    152\n",
        "450    151\n",
        "480    150\n",
        "510    153\n",
        "540    156\n",
        "570    156\n",
        "\n",
        "[20 rows x 1 columns]\n",
        "Intervals Mean\n",
        "        Mean1\n",
        "0    0.174321\n",
        "30   0.176628\n",
        "60   0.178769\n",
        "90   0.181071\n",
        "120  0.182465\n",
        "150  0.184519\n",
        "180  0.184462\n",
        "210  0.185549\n",
        "240  0.186553\n",
        "270  0.188005\n",
        "300  0.189924\n",
        "330  0.191732\n",
        "360  0.193385\n",
        "390  0.195140\n",
        "420  0.197551\n",
        "450  0.199411\n",
        "480  0.199803\n",
        "510  0.195095\n",
        "540  0.192989\n",
        "570  0.192426\n",
        "\n",
        "[20 rows x 1 columns]\n",
        "Intervals Std\n",
        "        Mean1\n",
        "0    0.002096\n",
        "30   0.001952\n",
        "60   0.001863\n",
        "90   0.001001\n",
        "120  0.000742\n",
        "150  0.000770\n",
        "180  0.000510\n",
        "210  0.000916\n",
        "240  0.001358\n",
        "270  0.001388\n",
        "300  0.001693\n",
        "330  0.001579\n",
        "360  0.001674\n",
        "390  0.001427\n",
        "420  0.000993\n",
        "450  0.000678\n",
        "480  0.001307\n",
        "510  0.001575\n",
        "540  0.001526\n",
        "570  0.001434\n",
        "\n",
        "[20 rows x 1 columns]\n",
        "All Peaks measurements analyzed.\n"
       ]
      }
     ],
     "prompt_number": 11
    },
    {
     "cell_type": "heading",
     "level": 2,
     "metadata": {},
     "source": [
      "Entropy"
     ]
    },
    {
     "cell_type": "heading",
     "level": 4,
     "metadata": {},
     "source": [
      "Histogram"
     ]
    },
    {
     "cell_type": "markdown",
     "metadata": {},
     "source": [
      "Calculates the histogram entropy of a measurement for each column of data. Also saves the histogram of each. If meas is set to 'all', then all available measurements from the event_type chosen will be calculated iteratevely. \n",
      "\n",
      "If all of the samples fall in one bin regardless of the bin size, it means we have the most predictable sitution and the entropy is 0. If we have uniformly dist function, the max entropy will be 1"
     ]
    },
    {
     "cell_type": "code",
     "collapsed": false,
     "input": [
      "#Histogram Entropy\n",
      "event_type = 'Bursts'\n",
      "meas = 'all'\n",
      "Results = histent_wrapper(event_type, meas, Data, Settings, Results)\n",
      "Results['Histogram Entropy']"
     ],
     "language": "python",
     "metadata": {},
     "outputs": [
      {
       "output_type": "stream",
       "stream": "stdout",
       "text": [
        "All Bursts measurements analyzed.\n"
       ]
      },
      {
       "html": [
        "<div style=\"max-height:1000px;max-width:1500px;overflow:auto;\">\n",
        "<table border=\"1\" class=\"dataframe\">\n",
        "  <thead>\n",
        "    <tr style=\"text-align: right;\">\n",
        "      <th></th>\n",
        "      <th>Burst Start</th>\n",
        "      <th>Burst End</th>\n",
        "      <th>Burst Duration</th>\n",
        "      <th>Edge Event</th>\n",
        "      <th>Interburst Interval</th>\n",
        "      <th>Total Cycle Time</th>\n",
        "      <th>Peaks per Burst</th>\n",
        "      <th>Peak Amp</th>\n",
        "      <th>Peak Time</th>\n",
        "      <th>Attack</th>\n",
        "      <th>Decay</th>\n",
        "      <th>Intraburst Frequency</th>\n",
        "    </tr>\n",
        "  </thead>\n",
        "  <tbody>\n",
        "    <tr>\n",
        "      <th>Mean1</th>\n",
        "      <td> 0.985577</td>\n",
        "      <td> 0.985577</td>\n",
        "      <td> 0.903706</td>\n",
        "      <td> 0</td>\n",
        "      <td> 0.941905</td>\n",
        "      <td> 0.942772</td>\n",
        "      <td> 0</td>\n",
        "      <td> 0.862453</td>\n",
        "      <td> 0.985577</td>\n",
        "      <td> 0.822277</td>\n",
        "      <td> 0.775136</td>\n",
        "      <td> 0.886988</td>\n",
        "    </tr>\n",
        "  </tbody>\n",
        "</table>\n",
        "<p>1 rows \u00d7 12 columns</p>\n",
        "</div>"
       ],
       "metadata": {},
       "output_type": "pyout",
       "prompt_number": 10,
       "text": [
        "       Burst Start  Burst End  Burst Duration  Edge Event  \\\n",
        "Mean1     0.985577   0.985577        0.903706           0   \n",
        "\n",
        "       Interburst Interval  Total Cycle Time  Peaks per Burst  Peak Amp  \\\n",
        "Mean1             0.941905          0.942772                0  0.862453   \n",
        "\n",
        "       Peak Time    Attack     Decay  Intraburst Frequency  \n",
        "Mean1   0.985577  0.822277  0.775136              0.886988  \n",
        "\n",
        "[1 rows x 12 columns]"
       ]
      }
     ],
     "prompt_number": 10
    },
    {
     "cell_type": "heading",
     "level": 2,
     "metadata": {},
     "source": [
      "Correlation"
     ]
    },
    {
     "cell_type": "heading",
     "level": 1,
     "metadata": {},
     "source": [
      "Helpful Stuff"
     ]
    },
    {
     "cell_type": "markdown",
     "metadata": {},
     "source": [
      "While not completely up to date with some of the new changes, the Wiki can be useful if you have questions about some of the settings: https://github.com/drcgw/SWAN/wiki/Tutorial"
     ]
    },
    {
     "cell_type": "heading",
     "level": 1,
     "metadata": {},
     "source": [
      "More Help?"
     ]
    },
    {
     "cell_type": "markdown",
     "metadata": {},
     "source": [
      "Stuck on a particular step or function?\n",
      "Try typing the function name followed by two ??. This will pop up the docstring and source code.\n",
      "You can also call help() to have the notebook print the doc string.\n",
      "\n",
      "    Example:\n",
      "    analyze??\n",
      "    help(analyze)"
     ]
    },
    {
     "cell_type": "code",
     "collapsed": false,
     "input": [
      "help(moving_statistics)"
     ],
     "language": "python",
     "metadata": {},
     "outputs": []
    },
    {
     "cell_type": "code",
     "collapsed": false,
     "input": [
      "moving_statistics??"
     ],
     "language": "python",
     "metadata": {},
     "outputs": []
    },
    {
     "cell_type": "code",
     "collapsed": false,
     "input": [
      "from matplotlib import mlab"
     ],
     "language": "python",
     "metadata": {},
     "outputs": [],
     "prompt_number": 5
    },
    {
     "cell_type": "code",
     "collapsed": false,
     "input": [
      "hertz = 2/Settings['Sample Rate (s/frame)']\n",
      "plt.psd(Data['original']['Mean1'], NFFT= 256, Fs = hertz, noverlap=128, detrend=mlab.detrend_linear)\n",
      "plt.show()"
     ],
     "language": "python",
     "metadata": {},
     "outputs": [],
     "prompt_number": 6
    },
    {
     "cell_type": "code",
     "collapsed": false,
     "input": [
      "hertz = 2/Settings['Sample Rate (s/frame)']\n",
      "f,pspec = scipy.signal.welch(Data['original']['Mean1'], fs=hertz, window='hanning', \n",
      "                          nperseg=256, noverlap=128,\n",
      "                          detrend='linear', return_onesided=True)\n",
      "\n",
      "#plt.plot(f, pspec)\n",
      "plt.plot(f,np.log10(pspec))\n",
      "#Any frequencies with >150 Hz are going to be noise in ECoG data.\n",
      "plt.ylabel('Power')\n",
      "plt.xlabel('Frequency (Hz)')\n",
      "plt.title(\"Welch's PSD of ECoG signal\")\n",
      "plt.show()"
     ],
     "language": "python",
     "metadata": {},
     "outputs": [],
     "prompt_number": 8
    },
    {
     "cell_type": "code",
     "collapsed": false,
     "input": [
      "hertz = 2/Settings['Sample Rate (s/frame)']\n",
      "f, Pxx_den = scipy.signal.periodogram(Data['original']['Mean1'], nfft= 2*hertz, fs= hertz)\n",
      "plt.semilogy(f, Pxx_den)\n",
      "plt.xlabel('frequency [Hz]')\n",
      "plt.ylabel('PSD [V**2/Hz]')\n",
      "plt.show()"
     ],
     "language": "python",
     "metadata": {},
     "outputs": [],
     "prompt_number": 16
    },
    {
     "cell_type": "code",
     "collapsed": false,
     "input": [
      "scipy.signal.periodogram?"
     ],
     "language": "python",
     "metadata": {},
     "outputs": [],
     "prompt_number": 15
    },
    {
     "cell_type": "code",
     "collapsed": false,
     "input": [],
     "language": "python",
     "metadata": {},
     "outputs": []
    }
   ],
   "metadata": {}
  }
 ]
}