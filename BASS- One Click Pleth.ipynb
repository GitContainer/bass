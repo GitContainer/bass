{
 "cells": [
  {
   "cell_type": "markdown",
   "metadata": {},
   "source": [
    "# Welcome to BASS!"
   ]
  },
  {
   "cell_type": "markdown",
   "metadata": {},
   "source": [
    "One Click HRV\n",
    "\n",
    "This notebok was custom designed by Abigail Dobyns for Dr. Curras-Collazo's lab."
   ]
  },
  {
   "cell_type": "markdown",
   "metadata": {},
   "source": [
    "    BASS: Biomedical Analysis Software Suite for event detection and signal processing.\n",
    "    Copyright (C) 2015  Abigail Dobyns\n",
    "\n",
    "    This program is free software: you can redistribute it and/or modify\n",
    "    it under the terms of the GNU General Public License as published by\n",
    "    the Free Software Foundation, either version 3 of the License, or\n",
    "    (at your option) any later version.\n",
    "\n",
    "    This program is distributed in the hope that it will be useful,\n",
    "    but WITHOUT ANY WARRANTY; without even the implied warranty of\n",
    "    MERCHANTABILITY or FITNESS FOR A PARTICULAR PURPOSE.  See the\n",
    "    GNU General Public License for more details.\n",
    "\n",
    "    You should have received a copy of the GNU General Public License\n",
    "    along with this program.  If not, see <http://www.gnu.org/licenses/>"
   ]
  },
  {
   "cell_type": "markdown",
   "metadata": {},
   "source": [
    "## Initalize"
   ]
  },
  {
   "cell_type": "markdown",
   "metadata": {},
   "source": [
    "Run the following code block to intialize the program.\n",
    "\n",
    "*run this block* **one** *time*"
   ]
  },
  {
   "cell_type": "code",
   "execution_count": 1,
   "metadata": {
    "collapsed": false
   },
   "outputs": [
    {
     "name": "stdout",
     "output_type": "stream",
     "text": [
      "BASS ready!\n"
     ]
    }
   ],
   "source": [
    "from bass import *"
   ]
  },
  {
   "cell_type": "markdown",
   "metadata": {},
   "source": [
    "# Begin User Input\n",
    "\n",
    "For help, check out the wiki: [Protocol](https://github.com/drcgw/bass/wiki/Single-Wave-Interactive-Protocol)\n",
    "\n",
    "Or the video tutorial: Coming Soon!\n",
    "\n",
    "## Load Data File\n",
    "Use the following block to change your settings. You **must** use this block.\n",
    "\n",
    "Here are some helpful information about the loading settings:\n",
    "\n",
    "**Settings['folder']= Full File Path for data input:**\n",
    "Designate the path to your file to load. It can also be the relative path to the folder where this notebook is stored. This does not include the file itself.\n",
    "\n",
    "    Mac OSX Example: '/Users/MYNAME/Documents/bass'\n",
    "    Microsoft Example: r'C:\\\\Users\\MYNAME\\Documents\\bass'\n",
    "    \n",
    "\n",
    "**Settings['Label']= File name:**\n",
    "This is the name of your data file. It should include the file type. This file should NOT have a header and the first column must be time in seconds. Note: This file name will also appear as part of the output files names.\n",
    "\n",
    "    'rat34_ECG.txt' \n",
    "\n",
    "**Settings['Output Folder'] = Full File Path for data output:** Designate the location of the folder where you would like the folder containing your results to go. If the folder does not exist, then it will be created. A plots folder, called 'plots' will be created inside this folder for you if it does not already exist. \n",
    "\n",
    "    Mac OSX Example: '/Users/MYNAME/Documents/output'\n",
    "    Microsoft Example: r'C:\\\\Users\\MYNAME\\Documents\\output' \n",
    "\n",
    "[Loading a file](https://github.com/drcgw/bass/wiki/Single-Wave-Interactive-Protocol#load)\n",
    "\n",
    "**WARNING** All text input should be raw, especially if in Windows.\n",
    "    \n",
    "    r'string!'\n",
    "    r\"string!\"\n",
    "    \n",
    "## Other Settings\n",
    "\n",
    "For more information about other settings, go to: \n",
    "\n",
    "[Transforming Data](https://github.com/drcgw/bass/wiki/Single-Wave-Interactive-Protocol#enter-your-settings-for-data-transformation)\n",
    "\n",
    "[Baseline Settings](https://github.com/drcgw/bass/wiki/Single-Wave-Interactive-Protocol#set-baseline-for-thresholding)\n",
    "\n",
    "[Peak Detection Settings](https://github.com/drcgw/bass/wiki/Single-Wave-Interactive-Protocol#peak-detection-settings)\n",
    "\n",
    "[Burst Detection Settings](https://github.com/drcgw/bass/wiki/Single-Wave-Interactive-Protocol#enter-burst-settings)"
   ]
  },
  {
   "cell_type": "code",
   "execution_count": 94,
   "metadata": {
    "collapsed": false,
    "scrolled": true
   },
   "outputs": [
    {
     "name": "stdout",
     "output_type": "stream",
     "text": [
      "Made plots folder\n",
      "Data Loaded\n",
      "Rounded Sampling Rate (s/frame): 0.00025\n",
      "pleth.txt is 330.0 seconds long.\n",
      "Rounded Sampling Rate (s/frame): 0.00025\n",
      "Transformation completed\n",
      "Baseline set completed\n",
      "Peak Detection completed\n",
      "Burst Detection completed\n",
      "Analysis Complete:  56.3853  Seconds\n",
      "\n",
      "--------------------------------------------\n",
      "Data Column Names/Keys\n",
      "-----\n",
      "pleth.txt\n",
      "\n",
      "--------------------------------------------\n",
      "Available Measurements from Peaks for further analysis:\n",
      "-----\n",
      "Peaks Amplitude\n",
      "Intervals\n",
      "\n",
      "--------------------------------------------\n",
      "Available Measurements from Bursts for further analysis:\n",
      "-----\n",
      "Burst Start\n",
      "Burst End\n",
      "Burst Duration\n",
      "Burst Start Amplitude\n",
      "Burst End Amplitude\n",
      "Edge Event\n",
      "Interburst Interval\n",
      "Total Cycle Time\n",
      "Peaks per Burst\n",
      "Peak Amp\n",
      "Peak Time\n",
      "Attack\n",
      "Decay\n",
      "Intraburst Frequency\n",
      "Burst Area\n",
      "\n",
      "---------------------------\n",
      "|Event Detection Complete!|\n",
      "---------------------------\n",
      "\n",
      "All Bursts measurements analyzed.\n",
      "Total Cycle Time Count\n",
      "     pleth.txt\n",
      "0            0\n",
      "30           0\n",
      "60           0\n",
      "90           0\n",
      "120          0\n",
      "150          0\n",
      "180          0\n",
      "210          0\n",
      "240          0\n",
      "270          0\n",
      "300          0\n",
      "330          0\n",
      "360          0\n",
      "390          0\n",
      "420          0\n",
      "450          0\n",
      "480          0\n",
      "510          0\n",
      "540        119\n",
      "570        166\n",
      "600        119\n",
      "630         99\n",
      "660        128\n",
      "690        146\n",
      "720        208\n",
      "750        122\n",
      "780        116\n",
      "810        114\n",
      "840        170\n",
      "Total Cycle Time Mean\n",
      "     pleth.txt\n",
      "0     0.000000\n",
      "30    0.000000\n",
      "60    0.000000\n",
      "90    0.000000\n",
      "120   0.000000\n",
      "150   0.000000\n",
      "180   0.000000\n",
      "210   0.000000\n",
      "240   0.000000\n",
      "270   0.000000\n",
      "300   0.000000\n",
      "330   0.000000\n",
      "360   0.000000\n",
      "390   0.000000\n",
      "420   0.000000\n",
      "450   0.000000\n",
      "480   0.000000\n",
      "510   0.000000\n",
      "540   0.140704\n",
      "570   0.149724\n",
      "600   0.217416\n",
      "630   0.229639\n",
      "660   0.201664\n",
      "690   0.163940\n",
      "720   0.133573\n",
      "750   0.184018\n",
      "780   0.170933\n",
      "810   0.159822\n",
      "840   0.155459\n",
      "Total Cycle Time Std\n",
      "     pleth.txt\n",
      "0     0.000000\n",
      "30    0.000000\n",
      "60    0.000000\n",
      "90    0.000000\n",
      "120   0.000000\n",
      "150   0.000000\n",
      "180   0.000000\n",
      "210   0.000000\n",
      "240   0.000000\n",
      "270   0.000000\n",
      "300   0.000000\n",
      "330   0.000000\n",
      "360   0.000000\n",
      "390   0.000000\n",
      "420   0.000000\n",
      "450   0.000000\n",
      "480   0.000000\n",
      "510   0.000000\n",
      "540   0.082745\n",
      "570   0.112751\n",
      "600   0.187068\n",
      "630   0.200834\n",
      "660   0.201966\n",
      "690   0.067585\n",
      "720   0.082877\n",
      "750   0.104436\n",
      "780   0.084920\n",
      "810   0.076713\n",
      "840   0.120919\n",
      "Heart Rate Varibility Analysis Complete: 9.8022 sec\n"
     ]
    },
    {
     "data": {
      "text/html": [
       "<div style=\"max-height:1000px;max-width:1500px;overflow:auto;\">\n",
       "<table border=\"1\" class=\"dataframe\">\n",
       "  <thead>\n",
       "    <tr style=\"text-align: right;\">\n",
       "      <th></th>\n",
       "      <th>Breaths</th>\n",
       "      <th>Recording Length (s)</th>\n",
       "      <th>Mean Breath Rate</th>\n",
       "      <th>AUC</th>\n",
       "      <th>AUC STD</th>\n",
       "      <th>Insp Time mean</th>\n",
       "      <th>Insp Time std</th>\n",
       "      <th>Exp Time mean</th>\n",
       "      <th>Exp Time mean</th>\n",
       "      <th>TTotal mean</th>\n",
       "      <th>TTotal std</th>\n",
       "      <th>Apnea Count</th>\n",
       "      <th>TI Samp Ent</th>\n",
       "      <th>TE Samp Ent</th>\n",
       "      <th>TTot Samp Ent</th>\n",
       "      <th>TI Hist Ent</th>\n",
       "      <th>TE Hist Ent</th>\n",
       "      <th>TTot Hist Ent</th>\n",
       "    </tr>\n",
       "  </thead>\n",
       "  <tbody>\n",
       "    <tr>\n",
       "      <th>pleth.txt</th>\n",
       "      <td>1546</td>\n",
       "      <td>330</td>\n",
       "      <td>281.0909</td>\n",
       "      <td>1.003672</td>\n",
       "      <td>0.2587953</td>\n",
       "      <td>0.02200194</td>\n",
       "      <td>0.007623179</td>\n",
       "      <td>0.02095893</td>\n",
       "      <td>0.02095893</td>\n",
       "      <td>0.1699049</td>\n",
       "      <td>0.1300218</td>\n",
       "      <td>1527</td>\n",
       "      <td>1.694886</td>\n",
       "      <td>1.770121</td>\n",
       "      <td>0.7968959</td>\n",
       "      <td>0.6714096</td>\n",
       "      <td>0.5358827</td>\n",
       "      <td>0.5206133</td>\n",
       "    </tr>\n",
       "  </tbody>\n",
       "</table>\n",
       "</div>"
      ],
      "text/plain": [
       "          Breaths Recording Length (s) Mean Breath Rate       AUC    AUC STD  \\\n",
       "pleth.txt    1546                  330         281.0909  1.003672  0.2587953   \n",
       "\n",
       "          Insp Time mean Insp Time std Exp Time mean Exp Time mean  \\\n",
       "pleth.txt     0.02200194   0.007623179    0.02095893    0.02095893   \n",
       "\n",
       "          TTotal mean TTotal std Apnea Count TI Samp Ent TE Samp Ent  \\\n",
       "pleth.txt   0.1699049  0.1300218        1527    1.694886    1.770121   \n",
       "\n",
       "          TTot Samp Ent TI Hist Ent TE Hist Ent TTot Hist Ent  \n",
       "pleth.txt     0.7968959   0.6714096   0.5358827     0.5206133  "
      ]
     },
     "execution_count": 94,
     "metadata": {},
     "output_type": "execute_result"
    }
   ],
   "source": [
    "#initialize new file\n",
    "Data = {}\n",
    "Settings = {}\n",
    "Results ={}\n",
    "\n",
    "############################################################################################\n",
    "#manual Setting block\n",
    "Settings['folder']= r\"/Users/abigaildobyns/Desktop\"\n",
    "Settings['Label'] = r'pleth.txt'\n",
    "Settings['Output Folder'] = r\"/Users/abigaildobyns/Dropbox/Wilson_lab_papers/Abby/Pleth Analysis/Demo\"\n",
    "\n",
    "#transformation Settings\n",
    "Settings['Absolute Value'] = True #Must be True if Savitzky-Golay is being used\n",
    "\n",
    "Settings['Bandpass Highcut'] = False #in Hz\n",
    "Settings['Bandpass Lowcut'] = False #in Hz\n",
    "Settings['Bandpass Polynomial'] = False #integer\n",
    "\n",
    "Settings['Linear Fit'] = False #between 0 and 1 on the whole time series\n",
    "Settings['Linear Fit-Rolling R'] = 0.75 #between 0 and 1\n",
    "Settings['Linear Fit-Rolling Window'] = 1000 #window for rolling mean for fit, unit is index not time\n",
    "Settings['Relative Baseline'] = 0 #default 0, unless data is normalized, then 1.0. Can be any float\n",
    "\n",
    "Settings['Savitzky-Golay Polynomial'] = 4 #integer\n",
    "Settings['Savitzky-Golay Window Size'] = 25 #must be odd. units are index not time\n",
    "\n",
    "#Baseline Settings\n",
    "Settings['Baseline Type'] = r'rolling' #'linear', 'rolling', or 'static'\n",
    "#For Linear\n",
    "Settings['Baseline Start'] = 0.0 #start time in seconds\n",
    "Settings['Baseline Stop'] = 1.0 #end time in seconds\n",
    "#For Rolling\n",
    "Settings['Rolling Baseline Window'] = 0.15 #leave as 'none' if linear or static\n",
    "\n",
    "#Peaks\n",
    "Settings['Delta'] = 2\n",
    "Settings['Peak Minimum'] = 10 #amplitude value\n",
    "Settings['Peak Maximum'] = 35  #amplitude value\n",
    "\n",
    "#Bursts\n",
    "Settings['Apnea Factor'] = 2 #factor to define apneas as a function of expiration\n",
    "Settings['Burst Area'] = True #calculate burst area\n",
    "Settings['Exclude Edges'] = True #False to keep edges, True to discard them\n",
    "Settings['Inter-event interval minimum (seconds)'] = 0.0200 #only for bursts, not for peaks\n",
    "Settings['Maximum Burst Duration (s)'] = 0.25 \n",
    "Settings['Minimum Burst Duration (s)'] = 0.01\n",
    "Settings['Minimum Peak Number'] = 1 #minimum number of peaks/burst, integer\n",
    "Settings['Threshold']= 0.3 #linear: proportion of baseline. \n",
    "                           #static: literal value.\n",
    "                           #rolling, linear ammount grater than rolling baseline at each time point.\n",
    "\n",
    "#Outputs\n",
    "Settings['Generate Graphs'] = False #create and save the fancy graph outputs\n",
    "\n",
    "\n",
    "#Settings that you should not change unless you are a super advanced user:\n",
    "#These are settings that are still in development\n",
    "Settings['Graph LCpro events'] = False\n",
    "Settings['File Type'] = r'Plain' #'LCPro', 'ImageJ', 'SIMA', 'Plain', 'Morgan'\n",
    "Settings['Milliseconds'] = False\n",
    "############################################################################################\n",
    "##DO NOT TYPE BELOW THIS LINE\n",
    "############################################################################################\n",
    "\n",
    "def analyze(Data, Settings, Results):\n",
    "    \"\"\"\n",
    "    The pipeline for event detection. Follows the strict '3 arguments in, 3 arguments out'\n",
    "    rule. These dictionaries must be intalized before this, as well as all of the Settings values.\n",
    "    Detects bursts and peaks for the data file that is uploaded.\n",
    "    Settings used are saved out automatically with a time stamp as a receipt of each analysis performed.\n",
    "    This version of analyze was made specifically for the UCSD HRV group.\n",
    "\n",
    "    Parameters\n",
    "    ----------\n",
    "    Data: dictionary\n",
    "        an empty dictionary named Data.\n",
    "    Settings: dictionary\n",
    "        dictionary that contains the user's settings.\n",
    "    Results: dictionary\n",
    "        an empty dictionary named Results.\n",
    "    \n",
    "    Returns\n",
    "    -------\n",
    "    Data: dictionary\n",
    "        Contains the DataFrames with the time series data. Keys define which version of the data it is.\n",
    "    Settings: dictionary\n",
    "        dictionary that contains the user's settings.\n",
    "    Results: dictionary\n",
    "        Contains the following objects:\n",
    "            Peaks: dictionary\n",
    "                keys are the column names from the Data DataFrames. objects are DataFrames that contain information about each peak detected, indexed by peak time.\n",
    "            Peaks-Master: DataFrame\n",
    "                multi-indexed DataFrame, created by concatenating all Peaks DataFrames. Column names and peak time are the two indexes. Automatically saved in the Settings['output folder'] location.\n",
    "            Bursts: dictionary\n",
    "                keys are the column names from the Data DataFrames. objects are DataFrames that contain information about each burst detected. has an arbitrary index, which can be roughly thought of as burst number.\n",
    "            Bursts-Master: DataFrame\n",
    "                multi-indexed DataFrame, created by concatenating all Bursts DataFrames. Column names and burst number are the two indexes. Automatically saved in the Settings['output folder'] location.\n",
    "            \n",
    "\n",
    "    Notes\n",
    "    -----\n",
    "    This function is the top level function of the bass pipeline. \n",
    "    It has a few handy printed outputs, such as how long an analysis took, which step was just completed, lists of which objects contained no peaks or bursts. it also prints a list of key names and analysis measurements, which can be used in further analysis steps.\n",
    "    \n",
    "    \"\"\"\n",
    "    start = t.clock()\n",
    "    #Load\n",
    "    Data, Settings = load_wrapper(Data, Settings)\n",
    "    \n",
    "    Data['original'].columns = [Settings['Label']]\n",
    "    \n",
    "    #For this data set, we know the frame rate\n",
    "    frames = np.round(1/Settings['Sample Rate (s/frame)'])\n",
    "    Settings['Sample Rate (s/frame)'] = 1/float(frames)\n",
    "    print \"Rounded Sampling Rate (s/frame): %s\" %Settings['Sample Rate (s/frame)']\n",
    "\n",
    "    #transform data\n",
    "    Data, Settings = transform_wrapper(Data, Settings)\n",
    "    print 'Transformation completed'\n",
    "\n",
    "    #set baseline\n",
    "    Data, Settings, Results = baseline_wrapper(Data, Settings, Results)\n",
    "    print 'Baseline set completed'\n",
    "\n",
    "    #run peak detection\n",
    "    Results = event_peakdet_wrapper(Data, Settings, Results)\n",
    "    print 'Peak Detection completed'\n",
    "\n",
    "    #run burst detection\n",
    "    Results = event_burstdet_wrapper(Data, Settings, Results)\n",
    "    print 'Burst Detection completed'\n",
    "\n",
    "    #Save all the graphs\n",
    "    if Settings['Generate Graphs'] == True:\n",
    "        for label, col in Data['original'].iteritems():\n",
    "            graph_detected_events_save(Data, Settings, Results, \n",
    "                                  roi = label, lcpro = Settings['Graph LCpro events'])\n",
    "        print \"Graphs Saved\"\n",
    "\n",
    "    #Save master files \n",
    "    Results['Peaks-Master'].to_csv(r'%s/%s_Peak_Results.csv'\n",
    "                                   %(Settings['Output Folder'], Settings['Label']))\n",
    "    Results['Bursts-Master'].to_csv(r'%s/%s_Bursts_Results.csv'\n",
    "                                    %(Settings['Output Folder'], Settings['Label']))\n",
    "\n",
    "    #Save Master Summary Files\n",
    "    burst_grouped = Results['Bursts-Master'].groupby(level=0)\n",
    "    burst_grouped = burst_grouped.describe()\n",
    "    burst_grouped.to_csv(r'%s/%s_Bursts_Results_Summary.csv'\n",
    "                                           %(Settings['Output Folder'], Settings['Label']))\n",
    "    \n",
    "    peak_grouped = Results['Peaks-Master'].groupby(level=0)\n",
    "    peak_grouped= peak_grouped.describe()\n",
    "    peak_grouped.to_csv(r'%s/%s_Peaks_Results_Summary.csv'\n",
    "                                           %(Settings['Output Folder'], Settings['Label']))\n",
    "\n",
    "    #save settings\n",
    "    Settings_panda = DataFrame.from_dict(Settings, orient='index')\n",
    "    now = datetime.datetime.now()\n",
    "    colname = 'Settings: ' + str(now)\n",
    "    Settings_panda.columns = [colname]\n",
    "    Settings_panda = Settings_panda.sort()\n",
    "    Settings_panda.to_csv(r\"%s/%s_Settings_%s.csv\"%(Settings['Output Folder'], \n",
    "                                                 Settings['Label'], \n",
    "                                                 now.strftime('%Y_%m_%d__%H_%M_%S')))\n",
    "\n",
    "    end = t.clock()\n",
    "    run_time = end-start\n",
    "    print \"Analysis Complete: \", np.round(run_time,4), \" Seconds\"\n",
    "    \n",
    "    print \"\\n--------------------------------------------\"\n",
    "\n",
    "    print \"Data Column Names/Keys\"\n",
    "    print \"-----\"\n",
    "    for name in Data['original']:\n",
    "        print name\n",
    "    print \"\\n--------------------------------------------\"\n",
    "    print \"Available Measurements from Peaks for further analysis:\"\n",
    "    print \"-----\"\n",
    "    for label, col in Results['Peaks-Master'].iteritems():\n",
    "        print label\n",
    "    print \"\\n--------------------------------------------\"\n",
    "    print \"Available Measurements from Bursts for further analysis:\"\n",
    "    print \"-----\"\n",
    "    for label, col in Results['Bursts-Master'].iteritems():\n",
    "        print label\n",
    "    \n",
    "    print \"\\n---------------------------\"\n",
    "    print '|Event Detection Complete!|'\n",
    "    print \"---------------------------\\n\"\n",
    "    return Data, Settings, Results\n",
    "\n",
    "pd.options.display.max_columns = 25\n",
    "\n",
    "#Run detection\n",
    "Data, Settings, Results = analyze(Data, Settings, Results)\n",
    "\n",
    "#New pleth stuff\n",
    "\n",
    "key = Settings['Label']\n",
    "start_time = t.clock()\n",
    "#create results table\n",
    "pleth = pd.DataFrame(columns=['Breaths', 'Recording Length (s)','Mean Breath Rate', \n",
    "                              'AUC', 'AUC STD', 'Insp Time mean', 'Insp Time std',\n",
    "                              'Exp Time mean', 'Exp Time mean', 'TTotal mean', 'TTotal std',\n",
    "                              'Apnea Count', 'TI Samp Ent', 'TE Samp Ent', 'TTot Samp Ent',\n",
    "                             'TI Hist Ent', 'TE Hist Ent', 'TTot Hist Ent'],\n",
    "                  index = [key])\n",
    "key = Settings['Label']\n",
    "event_type = 'Bursts'\n",
    "#total number of breaths\n",
    "try:\n",
    "    pleth.ix[key]['Breaths'] = Results['Bursts'][key]['Burst Duration'].count()\n",
    "    \n",
    "except:\n",
    "    pleth.ix[key]['Breaths'] = NaN\n",
    "\n",
    "#length    \n",
    "try:\n",
    "    t_sec = Data['trans'].index[-1]-Data['trans'].index[0]\n",
    "    pleth.ix[key]['Recording Length (s)'] = t_sec\n",
    "except:\n",
    "    pleth.ix[key]['Recording Length (s)'] = NaN\n",
    "#breath rate   \n",
    "try:\n",
    "    t_min = t_sec/60\n",
    "    pleth.ix[key]['Mean Breath Rate'] = pleth.ix[key]['Breaths']/t_min\n",
    "except:\n",
    "    pleth.ix[key]['Mean Breath Rate'] = NaN\n",
    "#Area under the curve\n",
    "try:\n",
    "    pleth.ix[key]['AUC'] = Results['Bursts'][key]['Burst Area'].mean()\n",
    "    pleth.ix[key]['AUC STD'] = Results['Bursts'][key]['Burst Area'].std()\n",
    "except:\n",
    "    pleth.ix[key]['AUC'] = NaN\n",
    "    pleth.ix[key]['AUC'] = NaN\n",
    "#inspiration    \n",
    "try:\n",
    "    pleth.ix[key]['Insp Time mean'] = Results['Bursts'][key]['Attack'].mean()\n",
    "    pleth.ix[key]['Insp Time std'] = Results['Bursts'][key]['Attack'].std()\n",
    "except:\n",
    "    pleth.ix[key]['Insp Time mean'] = NaN\n",
    "    pleth.ix[key]['Insp Time std'] = NaN\n",
    "#Expiration\n",
    "try:\n",
    "    pleth.ix[key]['Exp Time mean'] = Results['Bursts'][key]['Decay'].mean()\n",
    "    pleth.ix[key]['Exp Time std'] = Results['Bursts'][key]['Decay'].std()\n",
    "except:\n",
    "    pleth.ix[key]['Exp Time mean'] = NaN\n",
    "    pleth.ix[key]['Exp Time std'] = NaN\n",
    "#TTOTAL\n",
    "try:\n",
    "    pleth.ix[key]['TTotal mean'] = Results['Bursts'][key]['Total Cycle Time'].mean()\n",
    "    pleth.ix[key]['TTotal std'] = Results['Bursts'][key]['Total Cycle Time'].std()\n",
    "except:\n",
    "    pleth.ix[key]['TTotal mean'] = NaN\n",
    "    pleth.ix[key]['TTotal std'] = NaN\n",
    "\n",
    "#apnea\n",
    "try:\n",
    "    apnea = Settings['Apnea Factor']*(Results['Bursts'][key]['Decay'].mean())\n",
    "    temp = Results['Bursts'][key]['Interburst Interval']\n",
    "    apnea_count = float(temp[temp>apnea].count())\n",
    "    pleth.ix[key]['Apnea Count'] = apnea_count\n",
    "except:\n",
    "    pleth.ix[key]['Apnea Count'] = NaN\n",
    "\n",
    "#Shannon Entropy\n",
    "try:\n",
    "    meas = 'Attack'\n",
    "    Results = samp_entropy_wrapper(event_type, meas, Data, Settings, Results)\n",
    "    pleth.ix[key]['TI Samp Ent'] = float(Results['Sample Entropy'][meas])\n",
    "except:\n",
    "    pleth.ix[key]['TI Samp Ent'] = NaN\n",
    "\n",
    "try:\n",
    "    meas = 'Decay'\n",
    "    Results = samp_entropy_wrapper(event_type, meas, Data, Settings, Results)\n",
    "    pleth.ix[key]['TE Samp Ent'] = float(Results['Sample Entropy'][meas])\n",
    "except:\n",
    "    pleth.ix[key]['TE Samp Ent'] = NaN\n",
    "    \n",
    "try:\n",
    "    meas = 'Total Cycle Time'\n",
    "    Results = samp_entropy_wrapper(event_type, meas, Data, Settings, Results)\n",
    "    pleth.ix[key]['TTot Samp Ent'] = float(Results['Sample Entropy'][meas])\n",
    "except:\n",
    "    pleth.ix[key]['TTot Samp Ent'] = NaN\n",
    "\n",
    "#poincare\n",
    "try:\n",
    "    meas = 'Total Cycle Time'\n",
    "    Results = poincare_batch(event_type, meas, Data, Settings, Results)\n",
    "    meas = 'Attack'\n",
    "    Results = poincare_batch(event_type, meas, Data, Settings, Results)\n",
    "    meas = 'Decay'\n",
    "    Results = poincare_batch(event_type, meas, Data, Settings, Results)\n",
    "except:\n",
    "    print \"Poincare Failed\"\n",
    "\n",
    "#Hist Ent\n",
    "try:\n",
    "    meas = 'all'\n",
    "    Results = histent_wrapper(event_type, meas, Data, Settings, Results)\n",
    "    pleth.ix[key]['TI Hist Ent'] = float(Results['Histogram Entropy']['Attack'])\n",
    "    pleth.ix[key]['TE Hist Ent'] = float(Results['Histogram Entropy']['Decay'])\n",
    "    pleth.ix[key]['TTot Hist Ent'] = float(Results['Histogram Entropy']['Total Cycle Time'])\n",
    "    \n",
    "except:\n",
    "    print \"Histogram Entropy Failed\"\n",
    "    pleth.ix[key]['TI Hist Ent'] = NaN\n",
    "    pleth.ix[key]['TE Hist Ent'] = NaN\n",
    "    pleth.ix[key]['TTot Hist Ent'] = NaN\n",
    "\n",
    "try:\n",
    "    #Moving Stats\n",
    "    event_type = 'Bursts'\n",
    "    meas = 'Total Cycle Time'\n",
    "    window = 30 #seconds\n",
    "    Results = moving_statistics(event_type, meas, window, Data, Settings, Results)\n",
    "except:\n",
    "    pass\n",
    "\n",
    "pleth.to_csv(r\"%s/%s_Pleth.csv\"%(Settings['Output Folder'],Settings['Label']))\n",
    "end_time = t.clock()\n",
    "\n",
    "print 'Heart Rate Varibility Analysis Complete: %s sec' %np.round((end_time- start_time), 4)\n",
    "pleth"
   ]
  },
  {
   "cell_type": "markdown",
   "metadata": {},
   "source": [
    "#OPTIONAL GRAPHS AND ANALYSIS\n",
    "\n",
    "The following blocks are optional calls to other figures and analysis"
   ]
  },
  {
   "cell_type": "markdown",
   "metadata": {},
   "source": [
    "## Display Event Detection Tables\n",
    "#### Display Settings used for analysis"
   ]
  },
  {
   "cell_type": "code",
   "execution_count": null,
   "metadata": {
    "collapsed": false
   },
   "outputs": [],
   "source": [
    "display_settings(Settings)"
   ]
  },
  {
   "cell_type": "markdown",
   "metadata": {},
   "source": [
    "#### Display Summary Results for Peaks"
   ]
  },
  {
   "cell_type": "code",
   "execution_count": 3,
   "metadata": {
    "collapsed": false
   },
   "outputs": [
    {
     "data": {
      "text/html": [
       "<div style=\"max-height:1000px;max-width:1500px;overflow:auto;\">\n",
       "<table border=\"1\" class=\"dataframe\">\n",
       "  <thead>\n",
       "    <tr style=\"text-align: right;\">\n",
       "      <th></th>\n",
       "      <th></th>\n",
       "      <th>Peaks Amplitude</th>\n",
       "      <th>Intervals</th>\n",
       "    </tr>\n",
       "  </thead>\n",
       "  <tbody>\n",
       "    <tr>\n",
       "      <th rowspan=\"8\" valign=\"top\">pleth.txt</th>\n",
       "      <th>count</th>\n",
       "      <td>1547.000000</td>\n",
       "      <td>1546.000000</td>\n",
       "    </tr>\n",
       "    <tr>\n",
       "      <th>mean</th>\n",
       "      <td>24.302622</td>\n",
       "      <td>0.212610</td>\n",
       "    </tr>\n",
       "    <tr>\n",
       "      <th>std</th>\n",
       "      <td>2.397677</td>\n",
       "      <td>0.184269</td>\n",
       "    </tr>\n",
       "    <tr>\n",
       "      <th>min</th>\n",
       "      <td>17.652616</td>\n",
       "      <td>0.067500</td>\n",
       "    </tr>\n",
       "    <tr>\n",
       "      <th>25%</th>\n",
       "      <td>22.553240</td>\n",
       "      <td>0.105000</td>\n",
       "    </tr>\n",
       "    <tr>\n",
       "      <th>50%</th>\n",
       "      <td>24.256364</td>\n",
       "      <td>0.145000</td>\n",
       "    </tr>\n",
       "    <tr>\n",
       "      <th>75%</th>\n",
       "      <td>25.861566</td>\n",
       "      <td>0.247687</td>\n",
       "    </tr>\n",
       "    <tr>\n",
       "      <th>max</th>\n",
       "      <td>33.351401</td>\n",
       "      <td>1.433500</td>\n",
       "    </tr>\n",
       "  </tbody>\n",
       "</table>\n",
       "</div>"
      ],
      "text/plain": [
       "                 Peaks Amplitude    Intervals\n",
       "pleth.txt count      1547.000000  1546.000000\n",
       "          mean         24.302622     0.212610\n",
       "          std           2.397677     0.184269\n",
       "          min          17.652616     0.067500\n",
       "          25%          22.553240     0.105000\n",
       "          50%          24.256364     0.145000\n",
       "          75%          25.861566     0.247687\n",
       "          max          33.351401     1.433500"
      ]
     },
     "execution_count": 3,
     "metadata": {},
     "output_type": "execute_result"
    }
   ],
   "source": [
    "#grouped summary for peaks\n",
    "Results['Peaks-Master'].groupby(level=0).describe()"
   ]
  },
  {
   "cell_type": "markdown",
   "metadata": {},
   "source": [
    "#### Display Summary Results for Bursts"
   ]
  },
  {
   "cell_type": "code",
   "execution_count": 4,
   "metadata": {
    "collapsed": false
   },
   "outputs": [
    {
     "data": {
      "text/html": [
       "<div style=\"max-height:1000px;max-width:1500px;overflow:auto;\">\n",
       "<table border=\"1\" class=\"dataframe\">\n",
       "  <thead>\n",
       "    <tr style=\"text-align: right;\">\n",
       "      <th></th>\n",
       "      <th></th>\n",
       "      <th>Burst Start</th>\n",
       "      <th>Burst End</th>\n",
       "      <th>Burst Duration</th>\n",
       "      <th>Burst Start Amplitude</th>\n",
       "      <th>Burst End Amplitude</th>\n",
       "      <th>Edge Event</th>\n",
       "      <th>Interburst Interval</th>\n",
       "      <th>Total Cycle Time</th>\n",
       "      <th>Peaks per Burst</th>\n",
       "      <th>Peak Amp</th>\n",
       "      <th>Peak Time</th>\n",
       "      <th>Attack</th>\n",
       "      <th>Decay</th>\n",
       "      <th>Intraburst Frequency</th>\n",
       "      <th>Burst Area</th>\n",
       "    </tr>\n",
       "  </thead>\n",
       "  <tbody>\n",
       "    <tr>\n",
       "      <th rowspan=\"8\" valign=\"top\">pleth.txt</th>\n",
       "      <th>count</th>\n",
       "      <td>1546.000000</td>\n",
       "      <td>1546.000000</td>\n",
       "      <td>1546.000000</td>\n",
       "      <td>1546.000000</td>\n",
       "      <td>1546.000000</td>\n",
       "      <td>1546</td>\n",
       "      <td>1546.000000</td>\n",
       "      <td>1546.000000</td>\n",
       "      <td>1546</td>\n",
       "      <td>1546.000000</td>\n",
       "      <td>1546.000000</td>\n",
       "      <td>1546.000000</td>\n",
       "      <td>1546.000000</td>\n",
       "      <td>1546.000000</td>\n",
       "      <td>1546.000000</td>\n",
       "    </tr>\n",
       "    <tr>\n",
       "      <th>mean</th>\n",
       "      <td>712.718100</td>\n",
       "      <td>712.761061</td>\n",
       "      <td>0.042961</td>\n",
       "      <td>22.206638</td>\n",
       "      <td>22.265840</td>\n",
       "      <td>0</td>\n",
       "      <td>0.126944</td>\n",
       "      <td>0.169905</td>\n",
       "      <td>1</td>\n",
       "      <td>24.300733</td>\n",
       "      <td>712.740102</td>\n",
       "      <td>0.022002</td>\n",
       "      <td>0.020959</td>\n",
       "      <td>24.318109</td>\n",
       "      <td>1.003672</td>\n",
       "    </tr>\n",
       "    <tr>\n",
       "      <th>std</th>\n",
       "      <td>96.529026</td>\n",
       "      <td>96.529403</td>\n",
       "      <td>0.009837</td>\n",
       "      <td>2.261431</td>\n",
       "      <td>2.263390</td>\n",
       "      <td>0</td>\n",
       "      <td>0.127611</td>\n",
       "      <td>0.130022</td>\n",
       "      <td>0</td>\n",
       "      <td>2.397302</td>\n",
       "      <td>96.529548</td>\n",
       "      <td>0.007623</td>\n",
       "      <td>0.006380</td>\n",
       "      <td>4.887472</td>\n",
       "      <td>0.258795</td>\n",
       "    </tr>\n",
       "    <tr>\n",
       "      <th>min</th>\n",
       "      <td>550.158500</td>\n",
       "      <td>550.189500</td>\n",
       "      <td>0.024250</td>\n",
       "      <td>16.187657</td>\n",
       "      <td>16.193442</td>\n",
       "      <td>False</td>\n",
       "      <td>0.026500</td>\n",
       "      <td>0.065750</td>\n",
       "      <td>1</td>\n",
       "      <td>17.652616</td>\n",
       "      <td>550.172750</td>\n",
       "      <td>0.004250</td>\n",
       "      <td>0.007750</td>\n",
       "      <td>7.042254</td>\n",
       "      <td>0.468373</td>\n",
       "    </tr>\n",
       "    <tr>\n",
       "      <th>25%</th>\n",
       "      <td>625.359438</td>\n",
       "      <td>625.402875</td>\n",
       "      <td>0.036250</td>\n",
       "      <td>20.480524</td>\n",
       "      <td>20.513925</td>\n",
       "      <td>0</td>\n",
       "      <td>0.062500</td>\n",
       "      <td>0.102500</td>\n",
       "      <td>1</td>\n",
       "      <td>22.551873</td>\n",
       "      <td>625.378375</td>\n",
       "      <td>0.016750</td>\n",
       "      <td>0.017250</td>\n",
       "      <td>20.860602</td>\n",
       "      <td>0.834109</td>\n",
       "    </tr>\n",
       "    <tr>\n",
       "      <th>50%</th>\n",
       "      <td>718.922625</td>\n",
       "      <td>718.965250</td>\n",
       "      <td>0.041750</td>\n",
       "      <td>22.152867</td>\n",
       "      <td>22.191023</td>\n",
       "      <td>0</td>\n",
       "      <td>0.082625</td>\n",
       "      <td>0.128000</td>\n",
       "      <td>1</td>\n",
       "      <td>24.255340</td>\n",
       "      <td>718.945875</td>\n",
       "      <td>0.020750</td>\n",
       "      <td>0.020250</td>\n",
       "      <td>23.952096</td>\n",
       "      <td>0.977661</td>\n",
       "    </tr>\n",
       "    <tr>\n",
       "      <th>75%</th>\n",
       "      <td>793.834625</td>\n",
       "      <td>793.892063</td>\n",
       "      <td>0.047937</td>\n",
       "      <td>23.923696</td>\n",
       "      <td>23.988946</td>\n",
       "      <td>0</td>\n",
       "      <td>0.135750</td>\n",
       "      <td>0.181000</td>\n",
       "      <td>1</td>\n",
       "      <td>25.861106</td>\n",
       "      <td>793.866688</td>\n",
       "      <td>0.025500</td>\n",
       "      <td>0.023750</td>\n",
       "      <td>27.586207</td>\n",
       "      <td>1.123621</td>\n",
       "    </tr>\n",
       "    <tr>\n",
       "      <th>max</th>\n",
       "      <td>878.754750</td>\n",
       "      <td>878.801750</td>\n",
       "      <td>0.142000</td>\n",
       "      <td>29.559500</td>\n",
       "      <td>29.884656</td>\n",
       "      <td>False</td>\n",
       "      <td>1.097500</td>\n",
       "      <td>1.140750</td>\n",
       "      <td>1</td>\n",
       "      <td>33.351401</td>\n",
       "      <td>878.784000</td>\n",
       "      <td>0.077750</td>\n",
       "      <td>0.091250</td>\n",
       "      <td>41.237113</td>\n",
       "      <td>3.236941</td>\n",
       "    </tr>\n",
       "  </tbody>\n",
       "</table>\n",
       "</div>"
      ],
      "text/plain": [
       "                 Burst Start    Burst End  Burst Duration  \\\n",
       "pleth.txt count  1546.000000  1546.000000     1546.000000   \n",
       "          mean    712.718100   712.761061        0.042961   \n",
       "          std      96.529026    96.529403        0.009837   \n",
       "          min     550.158500   550.189500        0.024250   \n",
       "          25%     625.359438   625.402875        0.036250   \n",
       "          50%     718.922625   718.965250        0.041750   \n",
       "          75%     793.834625   793.892063        0.047937   \n",
       "          max     878.754750   878.801750        0.142000   \n",
       "\n",
       "                 Burst Start Amplitude  Burst End Amplitude Edge Event  \\\n",
       "pleth.txt count            1546.000000          1546.000000       1546   \n",
       "          mean               22.206638            22.265840          0   \n",
       "          std                 2.261431             2.263390          0   \n",
       "          min                16.187657            16.193442      False   \n",
       "          25%                20.480524            20.513925          0   \n",
       "          50%                22.152867            22.191023          0   \n",
       "          75%                23.923696            23.988946          0   \n",
       "          max                29.559500            29.884656      False   \n",
       "\n",
       "                 Interburst Interval  Total Cycle Time  Peaks per Burst  \\\n",
       "pleth.txt count          1546.000000       1546.000000             1546   \n",
       "          mean              0.126944          0.169905                1   \n",
       "          std               0.127611          0.130022                0   \n",
       "          min               0.026500          0.065750                1   \n",
       "          25%               0.062500          0.102500                1   \n",
       "          50%               0.082625          0.128000                1   \n",
       "          75%               0.135750          0.181000                1   \n",
       "          max               1.097500          1.140750                1   \n",
       "\n",
       "                    Peak Amp    Peak Time       Attack        Decay  \\\n",
       "pleth.txt count  1546.000000  1546.000000  1546.000000  1546.000000   \n",
       "          mean     24.300733   712.740102     0.022002     0.020959   \n",
       "          std       2.397302    96.529548     0.007623     0.006380   \n",
       "          min      17.652616   550.172750     0.004250     0.007750   \n",
       "          25%      22.551873   625.378375     0.016750     0.017250   \n",
       "          50%      24.255340   718.945875     0.020750     0.020250   \n",
       "          75%      25.861106   793.866688     0.025500     0.023750   \n",
       "          max      33.351401   878.784000     0.077750     0.091250   \n",
       "\n",
       "                 Intraburst Frequency   Burst Area  \n",
       "pleth.txt count           1546.000000  1546.000000  \n",
       "          mean              24.318109     1.003672  \n",
       "          std                4.887472     0.258795  \n",
       "          min                7.042254     0.468373  \n",
       "          25%               20.860602     0.834109  \n",
       "          50%               23.952096     0.977661  \n",
       "          75%               27.586207     1.123621  \n",
       "          max               41.237113     3.236941  "
      ]
     },
     "execution_count": 4,
     "metadata": {},
     "output_type": "execute_result"
    }
   ],
   "source": [
    "#grouped summary for bursts\n",
    "Results['Bursts-Master'].groupby(level=0).describe()"
   ]
  },
  {
   "cell_type": "markdown",
   "metadata": {},
   "source": [
    "# Interactive Graphs\n",
    "## Line Graphs\n",
    "####One pannel, detected events\n",
    "Plot one time series by calling it's name"
   ]
  },
  {
   "cell_type": "code",
   "execution_count": 5,
   "metadata": {
    "collapsed": false
   },
   "outputs": [],
   "source": [
    "#Interactive, single time series by Key\n",
    "key = Settings['Label']\n",
    "graph_ts(Data, Settings, Results, key)"
   ]
  },
  {
   "cell_type": "markdown",
   "metadata": {},
   "source": [
    "####Two pannel\n",
    "Create line plots of the raw data as well as the data analysis. \n",
    "\n",
    "Plots are saved by clicking the save button in the pop-up window with your graph.\n",
    "\n",
    "    key = 'Mean1'\n",
    "    start =100 \n",
    "    end= 101\n",
    "\n",
    "[Results Line Plot](https://github.com/drcgw/bass/wiki/Single-Wave-Interactive-Protocol#line-plots)"
   ]
  },
  {
   "cell_type": "code",
   "execution_count": 5,
   "metadata": {
    "collapsed": false
   },
   "outputs": [],
   "source": [
    "key = Settings['Label']\n",
    "start =100 #start time in seconds\n",
    "end= 101#end time in seconds\n",
    "results_timeseries_plot(key, start, end, Data, Settings, Results)"
   ]
  },
  {
   "cell_type": "markdown",
   "metadata": {},
   "source": [
    "## Autocorrelation"
   ]
  },
  {
   "cell_type": "markdown",
   "metadata": {},
   "source": [
    "Display the Autocorrelation plot of your transformed data.\n",
    "\n",
    "Choose the start and end time in seconds. to capture whole time series, use end = -1. May be slow\n",
    "\n",
    "    key = 'Mean1'\n",
    "    start = 0 \n",
    "    end = 10\n",
    "    \n",
    "[Autocorrelation Plot](https://github.com/drcgw/bass/wiki/Single-Wave-Interactive-Protocol#autocorrelation)"
   ]
  },
  {
   "cell_type": "code",
   "execution_count": null,
   "metadata": {
    "collapsed": false
   },
   "outputs": [],
   "source": [
    "#autocorrelation\n",
    "key = Settings['Label']\n",
    "start = 0 #seconds, where you want the slice to begin\n",
    "end = 1 #seconds, where you want the slice to end.\n",
    "autocorrelation_plot(Data['trans'][key][start:end])\n",
    "plt.show()"
   ]
  },
  {
   "cell_type": "markdown",
   "metadata": {},
   "source": [
    "## Raster Plot"
   ]
  },
  {
   "cell_type": "markdown",
   "metadata": {},
   "source": [
    "Shows the temporal relationship of peaks in each column. Auto scales. Display only. Intended for more than one column of data"
   ]
  },
  {
   "cell_type": "code",
   "execution_count": null,
   "metadata": {
    "collapsed": false
   },
   "outputs": [],
   "source": [
    "#raster\n",
    "raster(Data, Results)"
   ]
  },
  {
   "cell_type": "markdown",
   "metadata": {},
   "source": [
    "## Frequency Plot\n",
    "Use this block to plot changes of any measurement over time. Does not support 'all'. Example:\n",
    "\n",
    "    event_type = 'Peaks'\n",
    "    meas = 'Intervals'\n",
    "    key = 'Mean1'\n",
    "\n",
    "[Frequency Plot](https://github.com/drcgw/bass/wiki/Single-Wave-Interactive-Protocol#frequency-plot)"
   ]
  },
  {
   "cell_type": "code",
   "execution_count": 5,
   "metadata": {
    "collapsed": false
   },
   "outputs": [],
   "source": [
    "event_type = 'Peaks'\n",
    "meas = 'Intervals'\n",
    "key = Settings['Label']\n",
    "frequency_plot(event_type, meas, key, Data, Settings, Results)"
   ]
  },
  {
   "cell_type": "markdown",
   "metadata": {},
   "source": [
    "## Analyze Events by Measurement\n",
    "Generates a line plot with error bars for a given event measurement. X axis is the names of each time series. Display Only. Intended for more than one column of data. This is not a box and whiskers plot.\n",
    "\n",
    "    event_type = 'peaks'\n",
    "    meas = 'Peaks Amplitude'\n",
    "    \n",
    "[Analyze Events by Measurement](https://github.com/drcgw/bass/wiki/Single-Wave-Interactive-Protocol#analyze-events-by-measurement)"
   ]
  },
  {
   "cell_type": "code",
   "execution_count": null,
   "metadata": {
    "collapsed": false
   },
   "outputs": [],
   "source": [
    "#Get average plots, display only\n",
    "event_type = 'Peaks'\n",
    "meas = 'Intervals'\n",
    "average_measurement_plot(event_type, meas,Results)"
   ]
  },
  {
   "cell_type": "markdown",
   "metadata": {},
   "source": [
    "## Poincare Plots\n",
    "\n",
    "Create a Poincare Plot of your favorite varible. Choose an event type (Peaks or Bursts), measurement type. Calling meas = 'All' is supported.\n",
    "\n",
    "Plots and tables are saved automatically\n",
    "\n",
    "Example:\n",
    "\n",
    "    event_type = 'Bursts'\n",
    "    meas = 'Burst Duration'\n",
    "\n",
    "[More on Poincare Plots](https://github.com/drcgw/bass/wiki/Single-Wave-Interactive-Protocol#poincare-plots)\n",
    "\n",
    "####Batch Poincare\n",
    "\n",
    "[Batch Poincare](https://github.com/drcgw/bass/wiki/Single-Wave-Interactive-Protocol#batch-poincare)"
   ]
  },
  {
   "cell_type": "code",
   "execution_count": 81,
   "metadata": {
    "collapsed": false
   },
   "outputs": [
    {
     "data": {
      "text/html": [
       "<div style=\"max-height:1000px;max-width:1500px;overflow:auto;\">\n",
       "<table border=\"1\" class=\"dataframe\">\n",
       "  <thead>\n",
       "    <tr style=\"text-align: right;\">\n",
       "      <th></th>\n",
       "      <th></th>\n",
       "      <th>Attack</th>\n",
       "      <th>Decay</th>\n",
       "      <th>Total Cycle Time</th>\n",
       "    </tr>\n",
       "  </thead>\n",
       "  <tbody>\n",
       "    <tr>\n",
       "      <th>SD1</th>\n",
       "      <th>pleth.txt</th>\n",
       "      <td>0.005717</td>\n",
       "      <td>0.005968</td>\n",
       "      <td>0.117689</td>\n",
       "    </tr>\n",
       "    <tr>\n",
       "      <th>SD2</th>\n",
       "      <th>pleth.txt</th>\n",
       "      <td>0.009136</td>\n",
       "      <td>0.006769</td>\n",
       "      <td>0.140370</td>\n",
       "    </tr>\n",
       "  </tbody>\n",
       "</table>\n",
       "</div>"
      ],
      "text/plain": [
       "                 Attack     Decay  Total Cycle Time\n",
       "SD1 pleth.txt  0.005717  0.005968          0.117689\n",
       "SD2 pleth.txt  0.009136  0.006769          0.140370"
      ]
     },
     "execution_count": 81,
     "metadata": {},
     "output_type": "execute_result"
    }
   ],
   "source": [
    "#Batch\n",
    "event_type = 'Bursts'\n",
    "meas = 'Total Cycle Time'\n",
    "Results = poincare_batch(event_type, meas, Data, Settings, Results)\n",
    "pd.concat({'SD1':Results['Poincare SD1'],'SD2':Results['Poincare SD2']})"
   ]
  },
  {
   "cell_type": "markdown",
   "metadata": {},
   "source": [
    "####Quick Poincare Plot\n",
    "\n",
    "Quickly call one poincare plot for display. Plot and Table are not saved automatically. Choose an event type (Peaks or Bursts), measurement type, and key. Calling meas = 'All' is not supported.\n",
    "\n",
    "[Quick Poincare](https://github.com/drcgw/bass/wiki/Single-Wave-Interactive-Protocol#quick-poincare-plots)"
   ]
  },
  {
   "cell_type": "code",
   "execution_count": 77,
   "metadata": {
    "collapsed": false
   },
   "outputs": [
    {
     "name": "stdout",
     "output_type": "stream",
     "text": [
      "Attack results:\n",
      "SD1 = 0.0057 s\n",
      "SD2 = 0.0091 s\n"
     ]
    }
   ],
   "source": [
    "#quick\n",
    "event_type = 'Bursts'\n",
    "meas = 'Attack'\n",
    "key = Settings['Label']\n",
    "poincare_plot(Results[event_type][key][meas])"
   ]
  },
  {
   "cell_type": "markdown",
   "metadata": {},
   "source": [
    "## Power Spectral Density\n",
    "The following blocks allows you to asses the power of event measuments in the frequency domain. While you can call this block on any event measurement, it is intended to be used on interval data (or at least data with units in seconds). Reccomended:\n",
    "\n",
    "    event_type = 'Bursts'\n",
    "    meas = 'Total Cycle Time'\n",
    "    key = 'Mean1'\n",
    "    scale = 'raw'\n",
    "    \n",
    "    event_type = 'Peaks'\n",
    "    meas = 'Intervals'\n",
    "    key = 'Mean1'\n",
    "    scale = 'raw'\n",
    "\n",
    "Because this data is in the frequency domain, we must interpolate it in order to perform a FFT on it. Does not support 'all'.\n",
    "\n",
    "[Power Spectral Density: Events](https://github.com/drcgw/bass/wiki/Single-Wave-Interactive-Protocol#power-spectral-density)"
   ]
  },
  {
   "cell_type": "markdown",
   "metadata": {},
   "source": [
    "### Events"
   ]
  },
  {
   "cell_type": "markdown",
   "metadata": {},
   "source": [
    "Use the code block below to specify your settings for event measurment PSD."
   ]
  },
  {
   "cell_type": "code",
   "execution_count": null,
   "metadata": {
    "collapsed": false
   },
   "outputs": [],
   "source": [
    "Settings['PSD-Event'] = Series(index = ['Hz','ULF', 'VLF', 'LF','HF','dx'])\n",
    "#Set PSD ranges for power in band\n",
    "\n",
    "Settings['PSD-Event']['hz'] = 4.0 #freqency that the interpolation and PSD are performed with.\n",
    "Settings['PSD-Event']['ULF'] = 0.03 #max of the range of the ultra low freq band. range is 0:ulf\n",
    "Settings['PSD-Event']['VLF'] = 0.05 #max of the range of the very low freq band. range is ulf:vlf\n",
    "Settings['PSD-Event']['LF'] = 0.15 #max of the range of the low freq band. range is vlf:lf\n",
    "Settings['PSD-Event']['HF'] = 0.4 #max of the range of the high freq band. range is lf:hf. hf can be no more than (hz/2)\n",
    "Settings['PSD-Event']['dx'] = 10 #segmentation for the area under the curve. "
   ]
  },
  {
   "cell_type": "code",
   "execution_count": null,
   "metadata": {
    "collapsed": false
   },
   "outputs": [],
   "source": [
    "event_type = 'Peaks'\n",
    "meas = 'Intervals'\n",
    "key = Settings['Label']\n",
    "scale = 'raw'\n",
    "Results = psd_event(event_type, meas, key, scale, Data, Settings, Results)\n",
    "Results['PSD-Event'][key]"
   ]
  },
  {
   "cell_type": "markdown",
   "metadata": {},
   "source": [
    "### Time Series"
   ]
  },
  {
   "cell_type": "markdown",
   "metadata": {},
   "source": [
    "Use the settings code block to set your frequency bands to calculate area under the curve. This block is not required. band output is always in raw power, even if the graph scale is dB/Hz.\n",
    "\n",
    "[Power Spectral Density: Signal](https://github.com/drcgw/bass/wiki/Single-Wave-Interactive-Protocol#power-spectral-density-optional)"
   ]
  },
  {
   "cell_type": "code",
   "execution_count": null,
   "metadata": {
    "collapsed": false
   },
   "outputs": [],
   "source": [
    "#optional\n",
    "Settings['PSD-Signal'] = Series(index = ['ULF', 'VLF', 'LF','HF','dx'])\n",
    "\n",
    "#Set PSD ranges for power in band\n",
    "Settings['PSD-Signal']['ULF'] = 25 #max of the range of the ultra low freq band. range is 0:ulf\n",
    "Settings['PSD-Signal']['VLF'] = 75 #max of the range of the very low freq band. range is ulf:vlf\n",
    "Settings['PSD-Signal']['LF'] = 150 #max of the range of the low freq band. range is vlf:lf\n",
    "Settings['PSD-Signal']['HF'] = 300 #max of the range of the high freq band. range is lf:hf. hf can be no more than (hz/2) where hz is the sampling frequency\n",
    "Settings['PSD-Signal']['dx'] = 2 #segmentation for integration of the area under the curve. "
   ]
  },
  {
   "cell_type": "markdown",
   "metadata": {},
   "source": [
    "Use the block below to generate the PSD graph and power in bands results (if selected). scale toggles which units to use for the graph:\n",
    "    \n",
    "    raw = s^2/Hz\n",
    "    db = dB/Hz = 10*log10(s^2/Hz)\n",
    "    \n",
    "Graph and table are automatically saved in the `PSD-Signal` subfolder."
   ]
  },
  {
   "cell_type": "code",
   "execution_count": null,
   "metadata": {
    "collapsed": false
   },
   "outputs": [],
   "source": [
    "scale = 'raw' #raw or db\n",
    "Results = psd_signal(version = 'original', key = 'Mean1', scale = scale, \n",
    "                     Data = Data, Settings = Settings, Results = Results)\n",
    "Results['PSD-Signal']"
   ]
  },
  {
   "cell_type": "markdown",
   "metadata": {},
   "source": [
    "### Spectrogram"
   ]
  },
  {
   "cell_type": "markdown",
   "metadata": {},
   "source": [
    "Use the block below to get the spectrogram of the signal. The frequency (y-axis) scales automatically to only show 'active' frequencies. This can take some time to run. \n",
    "\n",
    "    version = 'original'\n",
    "    key = 'Mean1'\n",
    "\n",
    "After transformation is run, you can call version = 'trans'. This graph is not automatically saved.\n",
    "\n",
    "[Spectrogram](https://github.com/drcgw/bass/wiki/Single-Wave-Interactive-Protocol#spectrogram)"
   ]
  },
  {
   "cell_type": "code",
   "execution_count": null,
   "metadata": {
    "collapsed": false
   },
   "outputs": [],
   "source": [
    "version = 'original'\n",
    "key = Settings['Label']\n",
    "spectogram(version, key, Data, Settings, Results)"
   ]
  },
  {
   "cell_type": "markdown",
   "metadata": {},
   "source": [
    "## Descriptive Statistics"
   ]
  },
  {
   "cell_type": "markdown",
   "metadata": {},
   "source": [
    "#### Moving/Sliding Averages, Standard Deviation, and Count\n",
    "Generates the moving **mean**, **standard deviation**, and **count** for a given measurement across all columns of the Data in the form of a DataFrame (displayed as a table).\n",
    "Saves out the dataframes of these three results automatically with the window size in the name as a .csv.\n",
    "If **meas == 'All'**, then the function will loop and produce these tables for all measurements.\n",
    "\n",
    "    event_type = 'Peaks'\n",
    "    meas = 'all'\n",
    "    window = 30\n",
    "    \n",
    "[Moving Stats](https://github.com/drcgw/bass/wiki/Single-Wave-Interactive-Protocol#analyze-events-by-measurement)"
   ]
  },
  {
   "cell_type": "code",
   "execution_count": 93,
   "metadata": {
    "collapsed": false,
    "scrolled": false
   },
   "outputs": [
    {
     "name": "stdout",
     "output_type": "stream",
     "text": [
      "Total Cycle Time Count\n",
      "     pleth.txt\n",
      "0            0\n",
      "30           0\n",
      "60           0\n",
      "90           0\n",
      "120          0\n",
      "150          0\n",
      "180          0\n",
      "210          0\n",
      "240          0\n",
      "270          0\n",
      "300          0\n",
      "330          0\n",
      "360          0\n",
      "390          0\n",
      "420          0\n",
      "450          0\n",
      "480          0\n",
      "510          0\n",
      "540        119\n",
      "570        166\n",
      "600        119\n",
      "630         99\n",
      "660        128\n",
      "690        146\n",
      "720        208\n",
      "750        122\n",
      "780        116\n",
      "810        114\n",
      "840        170\n",
      "Total Cycle Time Mean\n",
      "     pleth.txt\n",
      "0     0.000000\n",
      "30    0.000000\n",
      "60    0.000000\n",
      "90    0.000000\n",
      "120   0.000000\n",
      "150   0.000000\n",
      "180   0.000000\n",
      "210   0.000000\n",
      "240   0.000000\n",
      "270   0.000000\n",
      "300   0.000000\n",
      "330   0.000000\n",
      "360   0.000000\n",
      "390   0.000000\n",
      "420   0.000000\n",
      "450   0.000000\n",
      "480   0.000000\n",
      "510   0.000000\n",
      "540   0.140704\n",
      "570   0.149724\n",
      "600   0.217416\n",
      "630   0.229639\n",
      "660   0.201664\n",
      "690   0.163940\n",
      "720   0.133573\n",
      "750   0.184018\n",
      "780   0.170933\n",
      "810   0.159822\n",
      "840   0.155459\n",
      "Total Cycle Time Std\n",
      "     pleth.txt\n",
      "0     0.000000\n",
      "30    0.000000\n",
      "60    0.000000\n",
      "90    0.000000\n",
      "120   0.000000\n",
      "150   0.000000\n",
      "180   0.000000\n",
      "210   0.000000\n",
      "240   0.000000\n",
      "270   0.000000\n",
      "300   0.000000\n",
      "330   0.000000\n",
      "360   0.000000\n",
      "390   0.000000\n",
      "420   0.000000\n",
      "450   0.000000\n",
      "480   0.000000\n",
      "510   0.000000\n",
      "540   0.082745\n",
      "570   0.112751\n",
      "600   0.187068\n",
      "630   0.200834\n",
      "660   0.201966\n",
      "690   0.067585\n",
      "720   0.082877\n",
      "750   0.104436\n",
      "780   0.084920\n",
      "810   0.076713\n",
      "840   0.120919\n"
     ]
    }
   ],
   "source": [
    "#Moving Stats\n",
    "event_type = 'Bursts'\n",
    "meas = 'Total Cycle Time'\n",
    "window = 30 #seconds\n",
    "Results = moving_statistics(event_type, meas, window, Data, Settings, Results)"
   ]
  },
  {
   "cell_type": "markdown",
   "metadata": {},
   "source": [
    "## Entropy"
   ]
  },
  {
   "cell_type": "markdown",
   "metadata": {},
   "source": [
    "### Histogram Entropy\n",
    "Calculates the histogram entropy of a measurement for each column of data. Also saves the histogram of each. If meas is set to 'all', then all available measurements from the event_type chosen will be calculated iteratevely. \n",
    "\n",
    "If all of the samples fall in one bin regardless of the bin size, it means we have the most predictable sitution and the entropy is 0. If we have uniformly dist function, the max entropy will be 1\n",
    "\n",
    "    event_type = 'Bursts'\n",
    "    meas = 'all'\n",
    "\n",
    "[Histogram Entropy](https://github.com/drcgw/bass/wiki/Single-Wave-Interactive-Protocol#histentropy)"
   ]
  },
  {
   "cell_type": "code",
   "execution_count": 82,
   "metadata": {
    "collapsed": false
   },
   "outputs": [
    {
     "name": "stdout",
     "output_type": "stream",
     "text": [
      "All Bursts measurements analyzed.\n"
     ]
    },
    {
     "data": {
      "text/html": [
       "<div style=\"max-height:1000px;max-width:1500px;overflow:auto;\">\n",
       "<table border=\"1\" class=\"dataframe\">\n",
       "  <thead>\n",
       "    <tr style=\"text-align: right;\">\n",
       "      <th></th>\n",
       "      <th>Burst Start</th>\n",
       "      <th>Burst End</th>\n",
       "      <th>Burst Duration</th>\n",
       "      <th>Burst Start Amplitude</th>\n",
       "      <th>Burst End Amplitude</th>\n",
       "      <th>Edge Event</th>\n",
       "      <th>Interburst Interval</th>\n",
       "      <th>Total Cycle Time</th>\n",
       "      <th>Peaks per Burst</th>\n",
       "      <th>Peak Amp</th>\n",
       "      <th>Peak Time</th>\n",
       "      <th>Attack</th>\n",
       "      <th>Decay</th>\n",
       "      <th>Intraburst Frequency</th>\n",
       "      <th>Burst Area</th>\n",
       "    </tr>\n",
       "  </thead>\n",
       "  <tbody>\n",
       "    <tr>\n",
       "      <th>pleth.txt</th>\n",
       "      <td>0.973718</td>\n",
       "      <td>0.973718</td>\n",
       "      <td>0.590168</td>\n",
       "      <td>0.858843</td>\n",
       "      <td>0.850922</td>\n",
       "      <td>0</td>\n",
       "      <td>0.505385</td>\n",
       "      <td>0.520613</td>\n",
       "      <td>0</td>\n",
       "      <td>0.827021</td>\n",
       "      <td>0.973718</td>\n",
       "      <td>0.67141</td>\n",
       "      <td>0.535883</td>\n",
       "      <td>0.805133</td>\n",
       "      <td>0.630351</td>\n",
       "    </tr>\n",
       "  </tbody>\n",
       "</table>\n",
       "</div>"
      ],
      "text/plain": [
       "           Burst Start  Burst End  Burst Duration  Burst Start Amplitude  \\\n",
       "pleth.txt     0.973718   0.973718        0.590168               0.858843   \n",
       "\n",
       "           Burst End Amplitude  Edge Event  Interburst Interval  \\\n",
       "pleth.txt             0.850922           0             0.505385   \n",
       "\n",
       "           Total Cycle Time  Peaks per Burst  Peak Amp  Peak Time   Attack  \\\n",
       "pleth.txt          0.520613                0  0.827021   0.973718  0.67141   \n",
       "\n",
       "              Decay  Intraburst Frequency  Burst Area  \n",
       "pleth.txt  0.535883              0.805133    0.630351  "
      ]
     },
     "execution_count": 82,
     "metadata": {},
     "output_type": "execute_result"
    }
   ],
   "source": [
    "#Histogram Entropy\n",
    "event_type = 'Bursts'\n",
    "meas = 'all'\n",
    "Results = histent_wrapper(event_type, meas, Data, Settings, Results)\n",
    "Results['Histogram Entropy']"
   ]
  },
  {
   "cell_type": "markdown",
   "metadata": {},
   "source": [
    "## Approximate entropy\n",
    "this only runs if you have pyeeg.py in the same folder as this notebook and bass.py. **WARNING: THIS FUNCTION RUNS SLOWLY**\n",
    "\n",
    "run the below code to get the approximate entropy of any measurement or raw signal. Returns the entropy of the entire results array (no windowing). I am using the following M and R values:\n",
    "\n",
    "    M = 2  \n",
    "    R = 0.2*std(measurement)\n",
    "    \n",
    "these values can be modified in the source code. alternatively, you can call ap_entropy directly. supports 'all'\n",
    "\n",
    "**Interpretation**: A time series containing many repetitive patterns has a relatively small ApEn; a less predictable process has a higher ApEn.\n",
    "\n",
    "[Approximate Entropy in BASS](https://github.com/drcgw/bass/wiki/Single-Wave-Interactive-Protocol#approximate-entropy)\n",
    "\n",
    "[Aproximate Entropy Source](http://pyeeg.sourceforge.net/)\n",
    "\n",
    "###Events"
   ]
  },
  {
   "cell_type": "code",
   "execution_count": null,
   "metadata": {
    "collapsed": true
   },
   "outputs": [],
   "source": [
    "#Approximate Entropy\n",
    "event_type = 'Peaks'\n",
    "meas = 'Intervals'\n",
    "Results = ap_entropy_wrapper(event_type, meas, Data, Settings, Results)\n",
    "Results['Approximate Entropy']"
   ]
  },
  {
   "cell_type": "markdown",
   "metadata": {},
   "source": [
    "###Time Series"
   ]
  },
  {
   "cell_type": "code",
   "execution_count": null,
   "metadata": {
    "collapsed": true
   },
   "outputs": [],
   "source": [
    "#Approximate Entropy on raw signal\n",
    "#takes a VERY long time\n",
    "from pyeeg import ap_entropy\n",
    "\n",
    "version = 'original' #original, trans, shift, or rolling\n",
    "key = Settings['Label'] #Mean1 default key for one time series\n",
    "start = 0 #seconds, where you want the slice to begin\n",
    "end = 1 #seconds, where you want the slice to end. The absolute end is -1\n",
    "\n",
    "ap_entropy(Data[version][key][start:end].tolist(), 2, (0.2*np.std(Data[version][key][start:end])))"
   ]
  },
  {
   "cell_type": "markdown",
   "metadata": {},
   "source": [
    "### Sample Entropy\n",
    "this only runs if you have pyeeg.py in the same folder as this notebook and bass.py. **WARNING: THIS FUNCTION RUNS SLOWLY**\n",
    "\n",
    "run the below code to get the sample entropy of any measurement. Returns the entropy of the entire results array (no windowing). I am using the following M and R values:\n",
    "\n",
    "    M = 2  \n",
    "    R = 0.2*std(measurement)\n",
    "    \n",
    "these values can be modified in the source code. alternatively, you can call samp_entropy directly. \n",
    "Supports 'all'\n",
    "\n",
    "[Sample Entropy in BASS](https://github.com/drcgw/bass/wiki/Single-Wave-Interactive-Protocol#sample-entropy)\n",
    "\n",
    "[Sample Entropy Source](http://pyeeg.sourceforge.net/)\n",
    "\n",
    "###Events"
   ]
  },
  {
   "cell_type": "code",
   "execution_count": 73,
   "metadata": {
    "collapsed": false
   },
   "outputs": [
    {
     "data": {
      "text/html": [
       "<div style=\"max-height:1000px;max-width:1500px;overflow:auto;\">\n",
       "<table border=\"1\" class=\"dataframe\">\n",
       "  <thead>\n",
       "    <tr style=\"text-align: right;\">\n",
       "      <th></th>\n",
       "      <th>Attack</th>\n",
       "      <th>Decay</th>\n",
       "      <th>Total Cycle Time</th>\n",
       "    </tr>\n",
       "  </thead>\n",
       "  <tbody>\n",
       "    <tr>\n",
       "      <th>pleth.txt</th>\n",
       "      <td>1.694886</td>\n",
       "      <td>1.770121</td>\n",
       "      <td>0.796896</td>\n",
       "    </tr>\n",
       "  </tbody>\n",
       "</table>\n",
       "</div>"
      ],
      "text/plain": [
       "             Attack     Decay  Total Cycle Time\n",
       "pleth.txt  1.694886  1.770121          0.796896"
      ]
     },
     "execution_count": 73,
     "metadata": {},
     "output_type": "execute_result"
    }
   ],
   "source": [
    "#Sample Entropy\n",
    "event_type = 'Bursts'\n",
    "meas = 'Total Cycle Time'\n",
    "Results = samp_entropy_wrapper(event_type, meas, Data, Settings, Results)\n",
    "Results['Sample Entropy']"
   ]
  },
  {
   "cell_type": "code",
   "execution_count": 74,
   "metadata": {
    "collapsed": false
   },
   "outputs": [
    {
     "data": {
      "text/plain": [
       "pleth.txt    1.694886\n",
       "Name: Attack, dtype: float64"
      ]
     },
     "execution_count": 74,
     "metadata": {},
     "output_type": "execute_result"
    }
   ],
   "source": [
    "Results['Sample Entropy']['Attack']"
   ]
  },
  {
   "cell_type": "markdown",
   "metadata": {},
   "source": [
    "###Time Series"
   ]
  },
  {
   "cell_type": "code",
   "execution_count": null,
   "metadata": {
    "collapsed": true
   },
   "outputs": [],
   "source": [
    "#on raw signal\n",
    "#takes a VERY long time\n",
    "version = 'original' #original, trans, shift, or rolling\n",
    "key = Settings['Label']\n",
    "start = 0 #seconds, where you want the slice to begin\n",
    "end = 1 #seconds, where you want the slice to end. The absolute end is -1\n",
    "\n",
    "samp_entropy(Data[version][key][start:end].tolist(), 2, (0.2*np.std(Data[version][key][start:end])))"
   ]
  },
  {
   "cell_type": "markdown",
   "metadata": {},
   "source": [
    "# Helpful Stuff"
   ]
  },
  {
   "cell_type": "markdown",
   "metadata": {},
   "source": [
    "While not completely up to date with some of the new changes, the Wiki can be useful if you have questions about some of the settings: https://github.com/drcgw/SWAN/wiki/Tutorial"
   ]
  },
  {
   "cell_type": "markdown",
   "metadata": {},
   "source": [
    "# More Help?"
   ]
  },
  {
   "cell_type": "markdown",
   "metadata": {},
   "source": [
    "Stuck on a particular step or function?\n",
    "Try typing the function name followed by two ??. This will pop up the docstring and source code.\n",
    "You can also call help() to have the notebook print the doc string.\n",
    "\n",
    "    Example:\n",
    "    analyze??\n",
    "    help(analyze)"
   ]
  },
  {
   "cell_type": "code",
   "execution_count": null,
   "metadata": {
    "collapsed": false
   },
   "outputs": [],
   "source": [
    "help(moving_statistics)"
   ]
  },
  {
   "cell_type": "code",
   "execution_count": null,
   "metadata": {
    "collapsed": false
   },
   "outputs": [],
   "source": [
    "moving_statistics??"
   ]
  },
  {
   "cell_type": "markdown",
   "metadata": {},
   "source": [
    "##Blank Code Block\n",
    "you're still here, reading? you must be a dedicated super user!\n",
    "\n",
    "If that is the case, then you must know how to code in Python. Use this space to get crazy with your own advanced analysis and stuff.\n",
    "\n",
    "[Blank Code Block](https://github.com/drcgw/bass/wiki/Single-Wave-Interactive-Protocol#blank-code-block)"
   ]
  },
  {
   "cell_type": "code",
   "execution_count": null,
   "metadata": {
    "collapsed": true
   },
   "outputs": [],
   "source": []
  }
 ],
 "metadata": {
  "kernelspec": {
   "display_name": "Python 2",
   "language": "python",
   "name": "python2"
  },
  "language_info": {
   "codemirror_mode": {
    "name": "ipython",
    "version": 2
   },
   "file_extension": ".py",
   "mimetype": "text/x-python",
   "name": "python",
   "nbconvert_exporter": "python",
   "pygments_lexer": "ipython2",
   "version": "2.7.6"
  }
 },
 "nbformat": 4,
 "nbformat_minor": 0
}
