{
 "metadata": {
  "name": "",
  "signature": "sha256:56edf19d6658b07ee02a5e66eb145d2aefdba53af6ce071e42b1e5c28bc849a0"
 },
 "nbformat": 3,
 "nbformat_minor": 0,
 "worksheets": [
  {
   "cells": [
    {
     "cell_type": "heading",
     "level": 1,
     "metadata": {},
     "source": [
      "Welcome to BASS!"
     ]
    },
    {
     "cell_type": "markdown",
     "metadata": {},
     "source": [
      "Single Wave Analysis Notebook."
     ]
    },
    {
     "cell_type": "markdown",
     "metadata": {},
     "source": [
      "    SWAN: Single Wave Analysis Notebook for event detection and signal processing.\n",
      "    Copyright (C) 2014  Abigail Dobyns\n",
      "\n",
      "    This program is free software: you can redistribute it and/or modify\n",
      "    it under the terms of the GNU General Public License as published by\n",
      "    the Free Software Foundation, either version 3 of the License, or\n",
      "    (at your option) any later version.\n",
      "\n",
      "    This program is distributed in the hope that it will be useful,\n",
      "    but WITHOUT ANY WARRANTY; without even the implied warranty of\n",
      "    MERCHANTABILITY or FITNESS FOR A PARTICULAR PURPOSE.  See the\n",
      "    GNU General Public License for more details.\n",
      "\n",
      "    You should have received a copy of the GNU General Public License\n",
      "    along with this program.  If not, see <http://www.gnu.org/licenses/>"
     ]
    },
    {
     "cell_type": "heading",
     "level": 2,
     "metadata": {},
     "source": [
      "Initalize"
     ]
    },
    {
     "cell_type": "markdown",
     "metadata": {},
     "source": [
      "Run the following code block to intialize the program."
     ]
    },
    {
     "cell_type": "code",
     "collapsed": false,
     "input": [
      "from bass import *"
     ],
     "language": "python",
     "metadata": {},
     "outputs": [
      {
       "output_type": "stream",
       "stream": "stdout",
       "text": [
        "BASS ready!\n"
       ]
      }
     ],
     "prompt_number": 1
    },
    {
     "cell_type": "heading",
     "level": 1,
     "metadata": {},
     "source": [
      "Begin User Input"
     ]
    },
    {
     "cell_type": "markdown",
     "metadata": {},
     "source": [
      "For help, check out the wiki: https://github.com/drcgw/bass/wiki/Tutorial\n",
      "\n",
      "Or the video tutorial: https://www.youtube.com/watch?v=9ztWIjXN-3k"
     ]
    },
    {
     "cell_type": "heading",
     "level": 2,
     "metadata": {},
     "source": [
      "Load Data File"
     ]
    },
    {
     "cell_type": "markdown",
     "metadata": {},
     "source": [
      "Use the following block to change your settings. You **must** use this block or load settings from a previous file. \n",
      "\n",
      "Here are some helpful information about the loading settings:\n",
      "\n",
      "**Settings['folder']= Full File Path for data input:**\n",
      "Designate the path to your file to load. It can also be the relative path to the folder where this notebook is stored. This does not include the file itself.\n",
      "\n",
      "    Mac OSX Example: '/Users/MYNAME/Documents/bass'\n",
      "    Microsoft Example: 'C:\\\\Users\\MYNAME\\Documents\\bass'\n",
      "    \n",
      "\n",
      "**Settings['Label']= File name:**\n",
      "This is the name of your data file. It should include the file type. This file should NOT have a header and the first column must be time in seconds. Note: This file name will also appear as part of the output files names.\n",
      "\n",
      "    'rat34_ECG.txt' \n",
      "\n",
      "**Full File Path for data output:**Designate the location of the folder where you would like the folder containing your results to go. A plots folder, called 'plots' will be created inside this folder for you if it does not already exsist. \n",
      "\n",
      "    Mac OSX Example: '/Users/MYNAME/Documents/output'\n",
      "    Microsoft Example: 'C:\\\\Users\\MYNAME\\Documents\\output' \n",
      "\n",
      "https://github.com/drcgw/SWAN/wiki/Tutorial#load"
     ]
    },
    {
     "cell_type": "code",
     "collapsed": false,
     "input": [
      "Data, Settings, Results = load_interact()"
     ],
     "language": "python",
     "metadata": {},
     "outputs": []
    },
    {
     "cell_type": "heading",
     "level": 3,
     "metadata": {},
     "source": [
      "Graph Data"
     ]
    },
    {
     "cell_type": "markdown",
     "metadata": {},
     "source": [
      "Use this block to check any slicing you need to do to cut out problematic data from the head or tail. You can click on any point in the wave to get the (x,y) location of that point. Clipping inside this notebook is not supported at this time.\n",
      "\n",
      "https://github.com/drcgw/SWAN/wiki/Tutorial#graph-data"
     ]
    },
    {
     "cell_type": "code",
     "collapsed": false,
     "input": [
      "plot_rawdata(Data)"
     ],
     "language": "python",
     "metadata": {},
     "outputs": []
    },
    {
     "cell_type": "heading",
     "level": 2,
     "metadata": {},
     "source": [
      "Transform Data"
     ]
    },
    {
     "cell_type": "markdown",
     "metadata": {},
     "source": [
      "Must be done for each new uploaded data file.\n",
      "\n",
      "**WARNING:** If you do not load a settings file OR enter your own settings, the analysis will not run. There are no defaults. This section is not optional.\n",
      "\n",
      "https://github.com/drcgw/SWAN/wiki/Tutorial#transform-data"
     ]
    },
    {
     "cell_type": "heading",
     "level": 3,
     "metadata": {},
     "source": [
      "Load settings from a file"
     ]
    },
    {
     "cell_type": "markdown",
     "metadata": {},
     "source": [
      "Must be a previously outputed BASS settings file, although the name can be changed. Expected format is '.csv'. Enter the full file path and name.\n",
      "\n",
      "    Mac OSX Example: '/Users/MYNAME/Documents/bass_settings.csv'\n",
      "    Microsoft Example: 'C:\\\\Users\\MYNAME\\Documents\\bass_settings.csv'\n",
      "    \n",
      "See above instructions for how to load your data file.\n",
      "\n",
      "**Warning!!** You must load a settings file or specify your settings below. There are no defaults"
     ]
    },
    {
     "cell_type": "code",
     "collapsed": false,
     "input": [
      "Settings = load_settings_interact(Settings)\n",
      "Settings_display = display_settings(Settings)\n",
      "Settings_display"
     ],
     "language": "python",
     "metadata": {},
     "outputs": []
    },
    {
     "cell_type": "heading",
     "level": 3,
     "metadata": {},
     "source": [
      "Enter your settings for data transformation"
     ]
    },
    {
     "cell_type": "markdown",
     "metadata": {},
     "source": [
      "**WARNING:** If you do not load a settings file OR enter your own settings, the analysis will not run. There are no defaults. This section is not optional.\n",
      "\n",
      "Enter the parameters of the functions you would like to use to transform your data. \n",
      "If you do not want to use a function, enter 'none'\n",
      "\n",
      "For more help on settings:\n",
      "\n",
      "https://github.com/drcgw/SWAN/wiki/Tutorial#transform-data\n",
      "\n",
      "https://github.com/drcgw/SWAN/wiki/Transformation-Settings"
     ]
    },
    {
     "cell_type": "code",
     "collapsed": false,
     "input": [
      "Settings = user_input_trans(Settings)"
     ],
     "language": "python",
     "metadata": {},
     "outputs": []
    },
    {
     "cell_type": "heading",
     "level": 3,
     "metadata": {},
     "source": [
      "Run data transformation"
     ]
    },
    {
     "cell_type": "code",
     "collapsed": false,
     "input": [
      "Data, Settings = transform_wrapper(Data, Settings)\n",
      "graph_trans(Data)"
     ],
     "language": "python",
     "metadata": {},
     "outputs": []
    },
    {
     "cell_type": "heading",
     "level": 2,
     "metadata": {},
     "source": [
      "Set Baseline for Thresholding"
     ]
    },
    {
     "cell_type": "markdown",
     "metadata": {},
     "source": [
      "**WARNING** If you do not load a settings file OR enter your own settings, the analysis will not run. There are no defaults. This section is not optional.\n",
      "\n",
      "https://github.com/drcgw/SWAN/wiki/Tutorial#set-baseline-for-thresholding"
     ]
    },
    {
     "cell_type": "heading",
     "level": 3,
     "metadata": {},
     "source": [
      "Choose either linear or rolling baseline."
     ]
    },
    {
     "cell_type": "markdown",
     "metadata": {},
     "source": [
      "**Linear** - assumes that the first 0.1 seconds is a good representation of baseline. If the superstructure is linear but has a slope, use linear fit in the transformation to still use linear. Linear automatically shifts your data by the ammount of your baseline\n",
      "\n",
      "**Static** - Allows you to choose an arbitrary y value for threshold. No Shift in the data.\n",
      "\n",
      "**Rolling** - rolling mean using a window. User provides the window size in miliseconds. there is no shift in the data with this method."
     ]
    },
    {
     "cell_type": "code",
     "collapsed": false,
     "input": [
      "Settings = user_input_base(Settings)"
     ],
     "language": "python",
     "metadata": {},
     "outputs": []
    },
    {
     "cell_type": "heading",
     "level": 3,
     "metadata": {},
     "source": [
      "Run baseline"
     ]
    },
    {
     "cell_type": "code",
     "collapsed": false,
     "input": [
      "Data, Settings, Results = baseline_wrapper(Data, Settings, Results)\n",
      "graph_baseline(Data, Settings, Results)"
     ],
     "language": "python",
     "metadata": {},
     "outputs": []
    },
    {
     "cell_type": "heading",
     "level": 2,
     "metadata": {},
     "source": [
      "Display Settings"
     ]
    },
    {
     "cell_type": "markdown",
     "metadata": {},
     "source": [
      "Optional block. Run this at any time to check what your settings are. If it does not appear, it has not been set yet.\n",
      "\n",
      "https://github.com/drcgw/SWAN/wiki/Tutorial#display-settings"
     ]
    },
    {
     "cell_type": "code",
     "collapsed": false,
     "input": [
      "Settings_display = display_settings(Settings)\n",
      "Settings_display"
     ],
     "language": "python",
     "metadata": {},
     "outputs": []
    },
    {
     "cell_type": "heading",
     "level": 1,
     "metadata": {},
     "source": [
      "Event Detection"
     ]
    },
    {
     "cell_type": "heading",
     "level": 2,
     "metadata": {},
     "source": [
      "Peaks"
     ]
    },
    {
     "cell_type": "markdown",
     "metadata": {},
     "source": [
      "https://github.com/drcgw/SWAN/wiki/Tutorial#peaks"
     ]
    },
    {
     "cell_type": "heading",
     "level": 3,
     "metadata": {},
     "source": [
      "Enter Delta value"
     ]
    },
    {
     "cell_type": "markdown",
     "metadata": {},
     "source": [
      "Choose a delta value (if not already specified) for peak detection. \n",
      "Delta is a 'top-down' threshold for peaks, where a point is considered a peak if there are points lower that it by delta.\n",
      "A larger delta will result in fewer, more selective peaks."
     ]
    },
    {
     "cell_type": "code",
     "collapsed": false,
     "input": [
      "Settings = event_peakdet_settings(Data, Settings)"
     ],
     "language": "python",
     "metadata": {},
     "outputs": []
    },
    {
     "cell_type": "heading",
     "level": 3,
     "metadata": {},
     "source": [
      "Run Event Peak Detection"
     ]
    },
    {
     "cell_type": "markdown",
     "metadata": {},
     "source": [
      "Run block of code below to run peak deteaction. This block will display a plot of the detected events. It will also print a summary table of the peak amplitude and RR intervals."
     ]
    },
    {
     "cell_type": "code",
     "collapsed": false,
     "input": [
      "Results = event_peakdet_wrapper(Data, Settings, Results)\n",
      "Results['Peaks-Master'].groupby(level=0).describe()"
     ],
     "language": "python",
     "metadata": {},
     "outputs": []
    },
    {
     "cell_type": "heading",
     "level": 3,
     "metadata": {},
     "source": [
      "Plot Events"
     ]
    },
    {
     "cell_type": "markdown",
     "metadata": {},
     "source": [
      "Call a column of data by its key (column name). Default name for one column of data is 'Mean1'"
     ]
    },
    {
     "cell_type": "code",
     "collapsed": false,
     "input": [
      "roi = 'Mean1'\n",
      "graph_detected_events_display(Data, Settings, Results, roi)"
     ],
     "language": "python",
     "metadata": {},
     "outputs": []
    },
    {
     "cell_type": "heading",
     "level": 2,
     "metadata": {},
     "source": [
      "Bursts"
     ]
    },
    {
     "cell_type": "markdown",
     "metadata": {},
     "source": [
      "https://github.com/drcgw/SWAN/wiki/Tutorial#bursts"
     ]
    },
    {
     "cell_type": "heading",
     "level": 3,
     "metadata": {},
     "source": [
      "Enter Threshold and Cluster time values"
     ]
    },
    {
     "cell_type": "markdown",
     "metadata": {},
     "source": [
      "Change the threshperc to adjust the threshold line relative to baseline and cluster_time to adjust how close together bursts can be before the are considered the same event. This is optional if the settings are already set."
     ]
    },
    {
     "cell_type": "code",
     "collapsed": false,
     "input": [
      "Settings = event_burstdet_settings(Data, Settings)"
     ],
     "language": "python",
     "metadata": {},
     "outputs": []
    },
    {
     "cell_type": "heading",
     "level": 3,
     "metadata": {},
     "source": [
      "Run Event Burst Detection"
     ]
    },
    {
     "cell_type": "markdown",
     "metadata": {},
     "source": [
      "Run block of code below to run burst deteaction. \n",
      "\n",
      "This block will display a plot of the detected events. \n",
      "\n",
      "It will also print a summary table of start and end times for each event, event duration, interburst interval, and total cycle time."
     ]
    },
    {
     "cell_type": "code",
     "collapsed": false,
     "input": [
      "Results = event_burstdet_wrapper(Data, Settings, Results)\n",
      "Results['Bursts-Master'].groupby(level=0).describe()"
     ],
     "language": "python",
     "metadata": {},
     "outputs": []
    },
    {
     "cell_type": "heading",
     "level": 3,
     "metadata": {},
     "source": [
      "Plot Events"
     ]
    },
    {
     "cell_type": "markdown",
     "metadata": {},
     "source": [
      "Call a column of data by its key (column name). Default name for one column of data is 'Mean1'"
     ]
    },
    {
     "cell_type": "code",
     "collapsed": false,
     "input": [
      "roi = 'Mean1'\n",
      "graph_detected_events_display(Data, Settings, Results, roi)"
     ],
     "language": "python",
     "metadata": {},
     "outputs": []
    },
    {
     "cell_type": "heading",
     "level": 2,
     "metadata": {},
     "source": [
      "Save all files and settings"
     ]
    },
    {
     "cell_type": "markdown",
     "metadata": {},
     "source": [
      "https://github.com/drcgw/SWAN/wiki/Tutorial#save-all-files-and-settings"
     ]
    },
    {
     "cell_type": "code",
     "collapsed": false,
     "input": [
      "Save_Results(Data, Settings, Results)"
     ],
     "language": "python",
     "metadata": {},
     "outputs": []
    },
    {
     "cell_type": "heading",
     "level": 2,
     "metadata": {},
     "source": [
      "Results Plots"
     ]
    },
    {
     "cell_type": "heading",
     "level": 3,
     "metadata": {},
     "source": [
      "Poincare Plots"
     ]
    },
    {
     "cell_type": "markdown",
     "metadata": {},
     "source": [
      "Create a Poincare Plot of your favorite varible. Choose an event type (Peaks or Bursts), measurement type, and key. Make sure that whichever varible you chose is only composed of numbers (No NaN or missing values). Calling meas = 'All' not currently supported.\n",
      "\n",
      "Plots are saved by clicking the save button in the pop-up window with your graph. SD1 and SD2 values are not saved automatically.\n",
      "\n",
      "Example:\n",
      "\n",
      "    event_type = 'Bursts'\n",
      "    meas = 'Peaks per Burst'\n",
      "    key = 'Mean1'\n",
      "\n",
      "https://github.com/drcgw/SWAN/wiki/Tutorial#poincare-plots"
     ]
    },
    {
     "cell_type": "code",
     "collapsed": false,
     "input": [
      "#quick\n",
      "event_type = 'Bursts'\n",
      "meas = 'Burst Duration'\n",
      "key = 'Mean1'\n",
      "poincare_plot(Results[event_type][key][meas])"
     ],
     "language": "python",
     "metadata": {},
     "outputs": []
    },
    {
     "cell_type": "heading",
     "level": 3,
     "metadata": {},
     "source": [
      "Poincare SD values-Batch"
     ]
    },
    {
     "cell_type": "code",
     "collapsed": false,
     "input": [],
     "language": "python",
     "metadata": {},
     "outputs": []
    },
    {
     "cell_type": "heading",
     "level": 3,
     "metadata": {},
     "source": [
      "Line Plots"
     ]
    },
    {
     "cell_type": "markdown",
     "metadata": {},
     "source": [
      "Create line plots of the raw data as well as the data analysis. \n",
      "\n",
      "Plots are saved by clicking the save button in the pop-up window with your graph.\n",
      "\n",
      "https://github.com/drcgw/SWAN/wiki/Tutorial#line-plots"
     ]
    },
    {
     "cell_type": "code",
     "collapsed": false,
     "input": [
      "key = 'Mean1'\n",
      "start =100 #start time in seconds\n",
      "end= 101#end time in seconds\n",
      "results_timeseries_plot(key, start, end, Data, Settings, Results)"
     ],
     "language": "python",
     "metadata": {},
     "outputs": []
    },
    {
     "cell_type": "heading",
     "level": 3,
     "metadata": {},
     "source": [
      "Frequency Plot"
     ]
    },
    {
     "cell_type": "markdown",
     "metadata": {},
     "source": [
      "Use this block to plot changes of any measurement over time. Example:\n",
      "\n",
      "    event_type = 'Peaks'\n",
      "    meas = 'Intervals'\n",
      "    key = 'Mean1'\n",
      "https://github.com/drcgw/SWAN/wiki/Tutorial#frequency-plot"
     ]
    },
    {
     "cell_type": "code",
     "collapsed": false,
     "input": [
      "event_type = 'Peaks'\n",
      "meas = 'Intervals'\n",
      "key = 'Mean1' #'Mean1' default for single wave\n",
      "frequency_plot(event_type, meas, key, Data, Settings, Results)"
     ],
     "language": "python",
     "metadata": {},
     "outputs": []
    },
    {
     "cell_type": "heading",
     "level": 1,
     "metadata": {},
     "source": [
      "Power Spectral Density"
     ]
    },
    {
     "cell_type": "markdown",
     "metadata": {},
     "source": [
      "The following blocks allows you to asses the power of event measuments in the frequency domain. While you can call this block on any event measurement, it is intended to be used on interval data (or at least data with units in seconds). Reccomended:\n",
      "\n",
      "    event_type = 'Bursts'\n",
      "    meas = 'Total Cycle Time'\n",
      "    key = 'Mean1'\n",
      "    \n",
      "    event_type = 'Peaks'\n",
      "    meas = 'Intervals'\n",
      "    key = 'Mean1'\n",
      "\n",
      "Because this data is in the frequency domain, we must interpolate it in order to perform a FFT on it.\n",
      "https://github.com/drcgw/SWAN/wiki/Tutorial#power-spectral-density"
     ]
    },
    {
     "cell_type": "heading",
     "level": 2,
     "metadata": {},
     "source": [
      "Settings"
     ]
    },
    {
     "cell_type": "markdown",
     "metadata": {},
     "source": [
      "Use the code block below to specify your settings for event measurment PSD."
     ]
    },
    {
     "cell_type": "code",
     "collapsed": false,
     "input": [
      "Settings['PSD-Event'] = Series(index = ['Hz','ULF', 'VLF', 'LF','HF','dx'])\n",
      "#Set PSD ranges for power in band\n",
      "\n",
      "Settings['PSD-Event']['hz'] = 4.0 #freqency that the interpolation and PSD are performed with.\n",
      "Settings['PSD-Event']['ULF'] = 0.03 #max of the range of the ultra low freq band. range is 0:ulf\n",
      "Settings['PSD-Event']['VLF'] = 0.05 #max of the range of the very low freq band. range is ulf:vlf\n",
      "Settings['PSD-Event']['LF'] = 0.15 #max of the range of the low freq band. range is vlf:lf\n",
      "Settings['PSD-Event']['HF'] = 0.4 #max of the range of the high freq band. range is lf:hf. hf can be no more than (hz/2)\n",
      "Settings['PSD-Event']['dx'] = 10 #segmentation for the area under the curve. "
     ],
     "language": "python",
     "metadata": {},
     "outputs": []
    },
    {
     "cell_type": "heading",
     "level": 2,
     "metadata": {},
     "source": [
      "PSD"
     ]
    },
    {
     "cell_type": "heading",
     "level": 4,
     "metadata": {},
     "source": [
      "Peaks"
     ]
    },
    {
     "cell_type": "markdown",
     "metadata": {},
     "source": [
      "Use block below to return the PSD plot, as well as the power in the bands defined by the settings above."
     ]
    },
    {
     "cell_type": "code",
     "collapsed": false,
     "input": [
      "event_type = 'Bursts'\n",
      "meas = 'Burst Duration'\n",
      "key = 'Mean1'\n",
      "Results = psd_event(event_type, meas, key, Data, Settings, Results)\n",
      "Results['PSD-Event'][key]"
     ],
     "language": "python",
     "metadata": {},
     "outputs": []
    },
    {
     "cell_type": "heading",
     "level": 2,
     "metadata": {},
     "source": [
      "HistEntropy"
     ]
    },
    {
     "cell_type": "markdown",
     "metadata": {},
     "source": [
      "Calculates the histogram entropy of a measurement for each column of data. Also saves the histogram of each. If meas is set to 'all', then all available measurements from the event_type chosen will be calculated iteratevely. \n",
      "\n",
      "If all of the samples fall in one bin regardless of the bin size, it means we have the most predictable sitution and the entropy is 0. If we have uniformly dist function, the max entropy will be 1\n",
      "\n",
      "https://github.com/drcgw/SWAN/wiki/Tutorial#histentropy"
     ]
    },
    {
     "cell_type": "code",
     "collapsed": false,
     "input": [
      "#Histogram Entropy\n",
      "event_type = 'Bursts'\n",
      "meas = 'all'\n",
      "Results = histent_wrapper(event_type, meas, Data, Settings, Results)\n",
      "Results['Histogram Entropy']"
     ],
     "language": "python",
     "metadata": {},
     "outputs": []
    },
    {
     "cell_type": "heading",
     "level": 1,
     "metadata": {},
     "source": [
      "STOP HERE"
     ]
    },
    {
     "cell_type": "markdown",
     "metadata": {},
     "source": [
      "You can run another file be going back the the **Begin User Input** section and chose another file path."
     ]
    },
    {
     "cell_type": "heading",
     "level": 1,
     "metadata": {},
     "source": [
      "Advanced user options"
     ]
    },
    {
     "cell_type": "heading",
     "level": 3,
     "metadata": {},
     "source": [
      "Approximate entropy"
     ]
    },
    {
     "cell_type": "markdown",
     "metadata": {},
     "source": [
      "this only runs if you have pyEEG installed. **WARNING: THIS FUNCTION RUNS SLOWLY**\n",
      "\n",
      "run the below code to get the approximate entropy of any measurement. Returns the entropy of the entire results array (no windowing). I am using the following M and R values:\n",
      "\n",
      "    M = 2  \n",
      "    R = 0.2*std(measurement)\n",
      "    \n",
      "these values can be modified in the source code. alternatively, you can call ap_entropy directly. \n",
      "\n",
      "**Interpretation**: A time series containing many repetitive patterns has a relatively small ApEn; a less predictable process has a higher ApEn.\n",
      "\n",
      "https://github.com/drcgw/SWAN/wiki/Tutorial#approximate-entropy"
     ]
    },
    {
     "cell_type": "code",
     "collapsed": false,
     "input": [
      "#Approximate Entropy\n",
      "event_type = 'Bursts'\n",
      "meas = 'all'\n",
      "Results = ap_entropy_wrapper(event_type, meas, Data, Settings, Results)\n",
      "Results['Approximate Entropy']"
     ],
     "language": "python",
     "metadata": {},
     "outputs": []
    },
    {
     "cell_type": "heading",
     "level": 3,
     "metadata": {},
     "source": [
      "Sample Entropy"
     ]
    },
    {
     "cell_type": "markdown",
     "metadata": {},
     "source": [
      "this only runs if you have pyEEG installed. **WARNING: THIS FUNCTION RUNS SLOWLY**\n",
      "\n",
      "run the below code to get the sample entropy of any measurement. Returns the entropy of the entire results array (no windowing). I am using the following M and R values:\n",
      "\n",
      "    M = 2  \n",
      "    R = 0.2*std(measurement)\n",
      "    \n",
      "these values can be modified in the source code. alternatively, you can call samp_entropy directly. "
     ]
    },
    {
     "cell_type": "code",
     "collapsed": false,
     "input": [
      "#Sample Entropy\n",
      "event_type = 'Bursts'\n",
      "meas = 'all'\n",
      "Results = samp_entropy_wrapper(event_type, meas, Data, Settings, Results)\n",
      "Results['Sample Entropy']"
     ],
     "language": "python",
     "metadata": {},
     "outputs": []
    },
    {
     "cell_type": "heading",
     "level": 1,
     "metadata": {},
     "source": [
      "Raw Signal analysis"
     ]
    },
    {
     "cell_type": "markdown",
     "metadata": {},
     "source": [
      "Sometimes you want analysis on the time series, not just the events. cool! I'm into that."
     ]
    },
    {
     "cell_type": "heading",
     "level": 2,
     "metadata": {},
     "source": [
      "PSD"
     ]
    },
    {
     "cell_type": "markdown",
     "metadata": {},
     "source": [
      "Use the code block below to set your frequency bands"
     ]
    },
    {
     "cell_type": "code",
     "collapsed": false,
     "input": [
      "Settings['PSD-Signal'] = Series(index = ['ULF', 'VLF', 'LF','HF','dx'])\n",
      "#Set PSD ranges for power in band\n",
      "\n",
      "Settings['PSD-Signal']['ULF'] = 100 #max of the range of the ultra low freq band. range is 0:ulf\n",
      "Settings['PSD-Signal']['VLF'] = 200 #max of the range of the very low freq band. range is ulf:vlf\n",
      "Settings['PSD-Signal']['LF'] = 300 #max of the range of the low freq band. range is vlf:lf\n",
      "Settings['PSD-Signal']['HF'] = 400 #max of the range of the high freq band. range is lf:hf. hf can be no more than (hz/2)\n",
      "Settings['PSD-Signal']['dx'] = 10 #segmentation for the area under the curve. "
     ],
     "language": "python",
     "metadata": {},
     "outputs": []
    },
    {
     "cell_type": "markdown",
     "metadata": {},
     "source": [
      "Use the block below to generate the PSD graph and power in bands results. Version is which version of the data to use. This can be 'original', 'trans', 'shift', or 'rolling'. Key is which column of data to run. this function does not support using 'all' for keys."
     ]
    },
    {
     "cell_type": "code",
     "collapsed": false,
     "input": [
      "version = 'original'\n",
      "key = 'Mean1'\n",
      "Results = psd_signal(version, key, Data, Settings, Results)\n",
      "Results['PSD-Signal']"
     ],
     "language": "python",
     "metadata": {},
     "outputs": []
    },
    {
     "cell_type": "heading",
     "level": 2,
     "metadata": {},
     "source": [
      "Approximate Entropy"
     ]
    },
    {
     "cell_type": "code",
     "collapsed": false,
     "input": [
      "#on raw signal\n",
      "#takes a VERY long time\n",
      "version = 'original' #original, trans, shift, or rolling\n",
      "key = 'Mean1' #Mean1 default key for one time series\n",
      "start = 0 #seconds, where you want the slice to begin\n",
      "end = 1 #seconds, where you want the slice to end. The absolute end is -1\n",
      "\n",
      "ap_entropy(Data[version][key][start:end].tolist(), 2, (0.2*np.std(Data[version][key][start:end])))"
     ],
     "language": "python",
     "metadata": {},
     "outputs": []
    },
    {
     "cell_type": "heading",
     "level": 2,
     "metadata": {},
     "source": [
      "Sample Entropy"
     ]
    },
    {
     "cell_type": "code",
     "collapsed": false,
     "input": [
      "#on raw signal\n",
      "#takes a VERY long time\n",
      "version = 'original' #original, trans, shift, or rolling\n",
      "key = 'Mean1' #Mean1 default key for one time series\n",
      "start = 0 #seconds, where you want the slice to begin\n",
      "end = 1 #seconds, where you want the slice to end. The absolute end is -1\n",
      "\n",
      "samp_entropy(Data[version][key][start:end].tolist(), 2, (0.2*np.std(Data[version][key][start:end])))"
     ],
     "language": "python",
     "metadata": {},
     "outputs": []
    },
    {
     "cell_type": "heading",
     "level": 1,
     "metadata": {},
     "source": [
      "Blank Code block"
     ]
    },
    {
     "cell_type": "markdown",
     "metadata": {},
     "source": [
      "you're still here, reading? you must be a dedicated super user!\n",
      "\n",
      "If that is the case, then you must know how to code in Python. Use this space to get crazy with your own advanced analysis and stuff."
     ]
    },
    {
     "cell_type": "code",
     "collapsed": false,
     "input": [
      "scipy.signal.periodogram(Data['original']['Mean1'], NFFT= 256, Fs = (2/Settings['Sample Rate (s/frame)']), noverlap=128, detrend=mlab.detrend_linear)\n",
      "plt.show()"
     ],
     "language": "python",
     "metadata": {},
     "outputs": []
    },
    {
     "cell_type": "code",
     "collapsed": false,
     "input": [
      "from matplotlib import mlab"
     ],
     "language": "python",
     "metadata": {},
     "outputs": []
    },
    {
     "cell_type": "code",
     "collapsed": false,
     "input": [
      "2/Settings['Sample Rate (s/frame)']"
     ],
     "language": "python",
     "metadata": {},
     "outputs": []
    },
    {
     "cell_type": "code",
     "collapsed": false,
     "input": [
      "plt.psd(Data['original']['Mean1'], NFFT= 256, Fs = (2/Settings['Sample Rate (s/frame)']), noverlap=128, detrend=mlab.detrend_linear)\n",
      "plt.show()"
     ],
     "language": "python",
     "metadata": {},
     "outputs": []
    },
    {
     "cell_type": "code",
     "collapsed": false,
     "input": [
      "version = 'original'\n",
      "key = 'Mean1'\n",
      "Results = psd_signal(version, key, Data, Settings, Results)\n",
      "Results['PSD-Signal']"
     ],
     "language": "python",
     "metadata": {},
     "outputs": []
    },
    {
     "cell_type": "code",
     "collapsed": false,
     "input": [
      "hertz = 2/Settings['Sample Rate (s/frame)']\n",
      "f,pspec = scipy.signal.welch(Data['original']['Mean1'], fs=hertz, window='hanning', \n",
      "                          nperseg=2*hertz, noverlap=hertz/2, nfft=2*hertz, \n",
      "                          detrend='linear', return_onesided=True, scaling='density')\n",
      "#Try to figure out what the paramaters above are doing. What happens if you change them?\n",
      "\n",
      "plt.plot(f, pspec)\n",
      "#plt.plot(f,np.log10(pspec))\n",
      "#Any frequencies with >150 Hz are going to be noise in ECoG data.\n",
      "plt.ylabel('Power')\n",
      "plt.xlabel('Frequency (Hz)')\n",
      "plt.title(\"Welch's PSD of ECoG signal\")\n",
      "plt.show()"
     ],
     "language": "python",
     "metadata": {},
     "outputs": []
    },
    {
     "cell_type": "code",
     "collapsed": false,
     "input": [],
     "language": "python",
     "metadata": {},
     "outputs": []
    }
   ],
   "metadata": {}
  }
 ]
}