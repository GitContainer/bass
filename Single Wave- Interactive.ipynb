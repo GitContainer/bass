{
 "metadata": {
  "name": "",
  "signature": "sha256:d695aef9ac1408ee73ad77cb45abdbac463e34b62e5a182a751bcd792aff8454"
 },
 "nbformat": 3,
 "nbformat_minor": 0,
 "worksheets": [
  {
   "cells": [
    {
     "cell_type": "heading",
     "level": 1,
     "metadata": {},
     "source": [
      "Welcome to BASS!"
     ]
    },
    {
     "cell_type": "markdown",
     "metadata": {},
     "source": [
      "Single Wave Analysis Notebook."
     ]
    },
    {
     "cell_type": "markdown",
     "metadata": {},
     "source": [
      "    SWAN: Single Wave Analysis Notebook for event detection and signal processing.\n",
      "    Copyright (C) 2014  Abigail Dobyns\n",
      "\n",
      "    This program is free software: you can redistribute it and/or modify\n",
      "    it under the terms of the GNU General Public License as published by\n",
      "    the Free Software Foundation, either version 3 of the License, or\n",
      "    (at your option) any later version.\n",
      "\n",
      "    This program is distributed in the hope that it will be useful,\n",
      "    but WITHOUT ANY WARRANTY; without even the implied warranty of\n",
      "    MERCHANTABILITY or FITNESS FOR A PARTICULAR PURPOSE.  See the\n",
      "    GNU General Public License for more details.\n",
      "\n",
      "    You should have received a copy of the GNU General Public License\n",
      "    along with this program.  If not, see <http://www.gnu.org/licenses/>"
     ]
    },
    {
     "cell_type": "heading",
     "level": 2,
     "metadata": {},
     "source": [
      "Initalize"
     ]
    },
    {
     "cell_type": "markdown",
     "metadata": {},
     "source": [
      "Run the following code block to intialize the program."
     ]
    },
    {
     "cell_type": "code",
     "collapsed": false,
     "input": [
      "from bass import *"
     ],
     "language": "python",
     "metadata": {},
     "outputs": [
      {
       "output_type": "stream",
       "stream": "stdout",
       "text": [
        "BASS ready!\n"
       ]
      }
     ],
     "prompt_number": 1
    },
    {
     "cell_type": "heading",
     "level": 1,
     "metadata": {},
     "source": [
      "Begin User Input"
     ]
    },
    {
     "cell_type": "markdown",
     "metadata": {},
     "source": [
      "For help, check out the wiki: https://github.com/drcgw/bass/wiki/Tutorial\n",
      "\n",
      "Or the video tutorial: https://www.youtube.com/watch?v=9ztWIjXN-3k"
     ]
    },
    {
     "cell_type": "heading",
     "level": 2,
     "metadata": {},
     "source": [
      "Load Data File"
     ]
    },
    {
     "cell_type": "markdown",
     "metadata": {},
     "source": [
      "Use the following block to change your settings. You **must** use this block or load settings from a previous file. \n",
      "\n",
      "Here are some helpful information about the loading settings:\n",
      "\n",
      "**Settings['folder']= Full File Path for data input:**\n",
      "Designate the path to your file to load. It can also be the relative path to the folder where this notebook is stored. This does not include the file itself.\n",
      "\n",
      "    Mac OSX Example: '/Users/MYNAME/Documents/bass'\n",
      "    Microsoft Example: 'C:\\\\Users\\MYNAME\\Documents\\bass'\n",
      "    \n",
      "\n",
      "**Settings['Label']= File name:**\n",
      "This is the name of your data file. It should include the file type. This file should NOT have a header and the first column must be time in seconds. Note: This file name will also appear as part of the output files names.\n",
      "\n",
      "    'rat34_ECG.txt' \n",
      "\n",
      "**Full File Path for data output:**Designate the location of the folder where you would like the folder containing your results to go. A plots folder, called 'plots' will be created inside this folder for you if it does not already exsist. \n",
      "\n",
      "    Mac OSX Example: '/Users/MYNAME/Documents/output'\n",
      "    Microsoft Example: 'C:\\\\Users\\MYNAME\\Documents\\output' \n",
      "\n",
      "https://github.com/drcgw/SWAN/wiki/Tutorial#load"
     ]
    },
    {
     "cell_type": "code",
     "collapsed": false,
     "input": [
      "Data, Settings, Results = load_interact()"
     ],
     "language": "python",
     "metadata": {},
     "outputs": [
      {
       "name": "stdout",
       "output_type": "stream",
       "stream": "stdout",
       "text": [
        "Full File Path to Folder containing file: /Users/abigaildobyns/Desktop\n"
       ]
      },
      {
       "name": "stdout",
       "output_type": "stream",
       "stream": "stdout",
       "text": [
        "File Name: rat34_ECG.txt\n"
       ]
      },
      {
       "name": "stdout",
       "output_type": "stream",
       "stream": "stdout",
       "text": [
        "Full File Path to Output Folder: /Users/abigaildobyns/Desktop/test\n"
       ]
      },
      {
       "output_type": "stream",
       "stream": "stdout",
       "text": [
        "Made plots folder\n",
        "Data Loaded"
       ]
      },
      {
       "output_type": "stream",
       "stream": "stdout",
       "text": [
        "\n"
       ]
      }
     ],
     "prompt_number": 2
    },
    {
     "cell_type": "heading",
     "level": 3,
     "metadata": {},
     "source": [
      "Graph Data"
     ]
    },
    {
     "cell_type": "markdown",
     "metadata": {},
     "source": [
      "Use this block to check any slicing you need to do to cut out problematic data from the head or tail. You can click on any point in the wave to get the (x,y) location of that point. Clipping inside this notebook is not supported at this time.\n",
      "\n",
      "https://github.com/drcgw/SWAN/wiki/Tutorial#graph-data"
     ]
    },
    {
     "cell_type": "code",
     "collapsed": false,
     "input": [
      "plot_rawdata(Data)"
     ],
     "language": "python",
     "metadata": {},
     "outputs": [],
     "prompt_number": 3
    },
    {
     "cell_type": "heading",
     "level": 2,
     "metadata": {},
     "source": [
      "Transform Data"
     ]
    },
    {
     "cell_type": "markdown",
     "metadata": {},
     "source": [
      "Must be done for each new uploaded data file.\n",
      "\n",
      "**WARNING:** If you do not load a settings file OR enter your own settings, the analysis will not run. There are no defaults. This section is not optional.\n",
      "\n",
      "https://github.com/drcgw/SWAN/wiki/Tutorial#transform-data"
     ]
    },
    {
     "cell_type": "heading",
     "level": 3,
     "metadata": {},
     "source": [
      "Load settings from a file"
     ]
    },
    {
     "cell_type": "markdown",
     "metadata": {},
     "source": [
      "Must be a previously outputed BASS settings file, although the name can be changed. Expected format is '.csv'. Enter the full file path and name.\n",
      "\n",
      "    Mac OSX Example: '/Users/MYNAME/Documents/bass_settings.csv'\n",
      "    Microsoft Example: 'C:\\\\Users\\MYNAME\\Documents\\bass_settings.csv'\n",
      "    \n",
      "See above instructions for how to load your data file.\n",
      "\n",
      "**Warning!!** You must load a settings file or specify your settings below. There are no defaults"
     ]
    },
    {
     "cell_type": "code",
     "collapsed": false,
     "input": [
      "Settings = load_settings_interact(Settings)\n",
      "Settings_display = display_settings(Settings)\n",
      "Settings_display"
     ],
     "language": "python",
     "metadata": {},
     "outputs": [
      {
       "name": "stdout",
       "output_type": "stream",
       "stream": "stdout",
       "text": [
        "Full File path and file for the settings file: /Users/abigaildobyns/Desktop/rat34_Settings.csv\n"
       ]
      },
      {
       "html": [
        "<div style=\"max-height:1000px;max-width:1500px;overflow:auto;\">\n",
        "<table border=\"1\" class=\"dataframe\">\n",
        "  <thead>\n",
        "    <tr style=\"text-align: right;\">\n",
        "      <th></th>\n",
        "      <th>Value</th>\n",
        "    </tr>\n",
        "  </thead>\n",
        "  <tbody>\n",
        "    <tr>\n",
        "      <th>Absolute Value</th>\n",
        "      <td>                                            True</td>\n",
        "    </tr>\n",
        "    <tr>\n",
        "      <th>Bandpass Highcut</th>\n",
        "      <td>                                            none</td>\n",
        "    </tr>\n",
        "    <tr>\n",
        "      <th>Bandpass Lowcut</th>\n",
        "      <td>                                            none</td>\n",
        "    </tr>\n",
        "    <tr>\n",
        "      <th>Bandpass Polynomial</th>\n",
        "      <td>                                            none</td>\n",
        "    </tr>\n",
        "    <tr>\n",
        "      <th>Baseline Type</th>\n",
        "      <td>                                          static</td>\n",
        "    </tr>\n",
        "    <tr>\n",
        "      <th>Burst Area</th>\n",
        "      <td>                                           False</td>\n",
        "    </tr>\n",
        "    <tr>\n",
        "      <th>Delta</th>\n",
        "      <td>                                            0.25</td>\n",
        "    </tr>\n",
        "    <tr>\n",
        "      <th>Exclude Edges</th>\n",
        "      <td>                                            True</td>\n",
        "    </tr>\n",
        "    <tr>\n",
        "      <th>File Type</th>\n",
        "      <td>                                           Plain</td>\n",
        "    </tr>\n",
        "    <tr>\n",
        "      <th>Generate Graphs</th>\n",
        "      <td>                                           False</td>\n",
        "    </tr>\n",
        "    <tr>\n",
        "      <th>Graph LCpro events</th>\n",
        "      <td>                                           False</td>\n",
        "    </tr>\n",
        "    <tr>\n",
        "      <th>Inter-event interval minimum (seconds)</th>\n",
        "      <td>                                            0.01</td>\n",
        "    </tr>\n",
        "    <tr>\n",
        "      <th>Label</th>\n",
        "      <td>                                   rat34_ECG.txt</td>\n",
        "    </tr>\n",
        "    <tr>\n",
        "      <th>Linear Fit</th>\n",
        "      <td>                                           False</td>\n",
        "    </tr>\n",
        "    <tr>\n",
        "      <th>Linear Fit-Rolling R</th>\n",
        "      <td>                                            0.75</td>\n",
        "    </tr>\n",
        "    <tr>\n",
        "      <th>Linear Fit-Rolling Window</th>\n",
        "      <td>                                            1000</td>\n",
        "    </tr>\n",
        "    <tr>\n",
        "      <th>Maximum Burst Duration (s)</th>\n",
        "      <td>                                              10</td>\n",
        "    </tr>\n",
        "    <tr>\n",
        "      <th>Milliseconds</th>\n",
        "      <td>                                           False</td>\n",
        "    </tr>\n",
        "    <tr>\n",
        "      <th>Minimum Burst Duration (s)</th>\n",
        "      <td>                                               0</td>\n",
        "    </tr>\n",
        "    <tr>\n",
        "      <th>Minimum Peak Number</th>\n",
        "      <td>                                               1</td>\n",
        "    </tr>\n",
        "    <tr>\n",
        "      <th>Output Folder</th>\n",
        "      <td>               /Users/abigaildobyns/Desktop/test</td>\n",
        "    </tr>\n",
        "    <tr>\n",
        "      <th>Peak Maximum</th>\n",
        "      <td>                                             inf</td>\n",
        "    </tr>\n",
        "    <tr>\n",
        "      <th>Peak Minimum</th>\n",
        "      <td>                                            -inf</td>\n",
        "    </tr>\n",
        "    <tr>\n",
        "      <th>Relative Baseline</th>\n",
        "      <td>                                               0</td>\n",
        "    </tr>\n",
        "    <tr>\n",
        "      <th>Rolling Baseline Window</th>\n",
        "      <td>                                            none</td>\n",
        "    </tr>\n",
        "    <tr>\n",
        "      <th>Sample Rate (s/frame)</th>\n",
        "      <td>                                         0.00025</td>\n",
        "    </tr>\n",
        "    <tr>\n",
        "      <th>Savitzky-Golay Polynomial</th>\n",
        "      <td>                                               4</td>\n",
        "    </tr>\n",
        "    <tr>\n",
        "      <th>Savitzky-Golay Window Size</th>\n",
        "      <td>                                             251</td>\n",
        "    </tr>\n",
        "    <tr>\n",
        "      <th>Settings File</th>\n",
        "      <td> /Users/abigaildobyns/Desktop/rat34_Settings.csv</td>\n",
        "    </tr>\n",
        "    <tr>\n",
        "      <th>Threshold</th>\n",
        "      <td>                                            0.15</td>\n",
        "    </tr>\n",
        "    <tr>\n",
        "      <th>folder</th>\n",
        "      <td>                    /Users/abigaildobyns/Desktop</td>\n",
        "    </tr>\n",
        "    <tr>\n",
        "      <th>plots folder</th>\n",
        "      <td>         /Users/abigaildobyns/Desktop/test/plots</td>\n",
        "    </tr>\n",
        "  </tbody>\n",
        "</table>\n",
        "<p>32 rows \u00d7 1 columns</p>\n",
        "</div>"
       ],
       "metadata": {},
       "output_type": "pyout",
       "prompt_number": 5,
       "text": [
        "                                                                                  Value\n",
        "Absolute Value                                                                     True\n",
        "Bandpass Highcut                                                                   none\n",
        "Bandpass Lowcut                                                                    none\n",
        "Bandpass Polynomial                                                                none\n",
        "Baseline Type                                                                    static\n",
        "Burst Area                                                                        False\n",
        "Delta                                                                              0.25\n",
        "Exclude Edges                                                                      True\n",
        "File Type                                                                         Plain\n",
        "Generate Graphs                                                                   False\n",
        "Graph LCpro events                                                                False\n",
        "Inter-event interval minimum (seconds)                                             0.01\n",
        "Label                                                                     rat34_ECG.txt\n",
        "Linear Fit                                                                        False\n",
        "Linear Fit-Rolling R                                                               0.75\n",
        "Linear Fit-Rolling Window                                                          1000\n",
        "Maximum Burst Duration (s)                                                           10\n",
        "Milliseconds                                                                      False\n",
        "Minimum Burst Duration (s)                                                            0\n",
        "Minimum Peak Number                                                                   1\n",
        "Output Folder                                         /Users/abigaildobyns/Desktop/test\n",
        "Peak Maximum                                                                        inf\n",
        "Peak Minimum                                                                       -inf\n",
        "Relative Baseline                                                                     0\n",
        "Rolling Baseline Window                                                            none\n",
        "Sample Rate (s/frame)                                                           0.00025\n",
        "Savitzky-Golay Polynomial                                                             4\n",
        "Savitzky-Golay Window Size                                                          251\n",
        "Settings File                           /Users/abigaildobyns/Desktop/rat34_Settings.csv\n",
        "Threshold                                                                          0.15\n",
        "folder                                                     /Users/abigaildobyns/Desktop\n",
        "plots folder                                    /Users/abigaildobyns/Desktop/test/plots\n",
        "\n",
        "[32 rows x 1 columns]"
       ]
      }
     ],
     "prompt_number": 5
    },
    {
     "cell_type": "heading",
     "level": 3,
     "metadata": {},
     "source": [
      "Enter your settings for data transformation"
     ]
    },
    {
     "cell_type": "markdown",
     "metadata": {},
     "source": [
      "**WARNING:** If you do not load a settings file OR enter your own settings, the analysis will not run. There are no defaults. This section is not optional.\n",
      "\n",
      "Enter the parameters of the functions you would like to use to transform your data. \n",
      "If you do not want to use a function, enter 'none'\n",
      "\n",
      "For more help on settings:\n",
      "\n",
      "https://github.com/drcgw/SWAN/wiki/Tutorial#transform-data\n",
      "\n",
      "https://github.com/drcgw/SWAN/wiki/Transformation-Settings"
     ]
    },
    {
     "cell_type": "code",
     "collapsed": false,
     "input": [
      "Settings = user_input_trans(Settings)"
     ],
     "language": "python",
     "metadata": {},
     "outputs": [
      {
       "output_type": "stream",
       "stream": "stdout",
       "text": [
        "Previous Linear Fit R setting: False\n",
        "Enter True or False to turn on or off the linear fit.\n"
       ]
      },
      {
       "name": "stdout",
       "output_type": "stream",
       "stream": "stdout",
       "text": [
        "Linear Fit (True/False): false\n"
       ]
      },
      {
       "output_type": "stream",
       "stream": "stdout",
       "text": [
        "Previous Bandpass setting: none, none, none\n",
        "Enter the butterworth bandpass settings seperated by a comma. cuts are in hertz and poly should be an interger.\n"
       ]
      },
      {
       "name": "stdout",
       "output_type": "stream",
       "stream": "stdout",
       "text": [
        "Bandpass Settings (lowcut, highcut,polynomial): false\n"
       ]
      },
      {
       "output_type": "stream",
       "stream": "stdout",
       "text": [
        "Previous Savitzky-Golay setting: 1001, 4\n",
        "Enter the Savitzky Golay filter settings seperated by a comma. Window size must be odd.\n"
       ]
      },
      {
       "name": "stdout",
       "output_type": "stream",
       "stream": "stdout",
       "text": [
        "Savitzky Golay Settings (window, polynomial): 251, 4\n"
       ]
      },
      {
       "output_type": "stream",
       "stream": "stdout",
       "text": [
        "Settings Saved\n"
       ]
      }
     ],
     "prompt_number": 13
    },
    {
     "cell_type": "heading",
     "level": 3,
     "metadata": {},
     "source": [
      "Run data transformation"
     ]
    },
    {
     "cell_type": "code",
     "collapsed": false,
     "input": [
      "Data, Settings = transform_wrapper(Data, Settings)\n",
      "graph_trans(Data)"
     ],
     "language": "python",
     "metadata": {},
     "outputs": [],
     "prompt_number": 6
    },
    {
     "cell_type": "heading",
     "level": 2,
     "metadata": {},
     "source": [
      "Set Baseline for Thresholding"
     ]
    },
    {
     "cell_type": "markdown",
     "metadata": {},
     "source": [
      "**WARNING** If you do not load a settings file OR enter your own settings, the analysis will not run. There are no defaults. This section is not optional.\n",
      "\n",
      "https://github.com/drcgw/SWAN/wiki/Tutorial#set-baseline-for-thresholding"
     ]
    },
    {
     "cell_type": "heading",
     "level": 3,
     "metadata": {},
     "source": [
      "Choose either linear or rolling baseline."
     ]
    },
    {
     "cell_type": "markdown",
     "metadata": {},
     "source": [
      "**Linear** - assumes that the first 0.1 seconds is a good representation of baseline. If the superstructure is linear but has a slope, use linear fit in the transformation to still use linear. Linear automatically shifts your data by the ammount of your baseline\n",
      "\n",
      "**Static** - Allows you to choose an arbitrary y value for threshold. No Shift in the data.\n",
      "\n",
      "**Rolling** - rolling mean using a window. User provides the window size in miliseconds. there is no shift in the data with this method."
     ]
    },
    {
     "cell_type": "code",
     "collapsed": false,
     "input": [
      "Settings = user_input_base(Settings)"
     ],
     "language": "python",
     "metadata": {},
     "outputs": [
      {
       "output_type": "stream",
       "stream": "stdout",
       "text": [
        "Previous Baseline Type: static\n"
       ]
      },
      {
       "name": "stdout",
       "output_type": "stream",
       "stream": "stdout",
       "text": [
        "Enter Linear, Rolling, or Static: rolling\n"
       ]
      },
      {
       "output_type": "stream",
       "stream": "stdout",
       "text": [
        "Previous Rolling Baseline Window: none\n",
        "Enter the window size of the rolling baseline in seconds.\n"
       ]
      },
      {
       "name": "stdout",
       "output_type": "stream",
       "stream": "stdout",
       "text": [
        "Window size in seconds: 3\n"
       ]
      }
     ],
     "prompt_number": 6
    },
    {
     "cell_type": "heading",
     "level": 3,
     "metadata": {},
     "source": [
      "Run baseline"
     ]
    },
    {
     "cell_type": "code",
     "collapsed": false,
     "input": [
      "Data, Settings, Results = baseline_wrapper(Data, Settings, Results)\n",
      "graph_baseline(Data, Settings, Results)"
     ],
     "language": "python",
     "metadata": {},
     "outputs": [],
     "prompt_number": 7
    },
    {
     "cell_type": "heading",
     "level": 2,
     "metadata": {},
     "source": [
      "Display Settings"
     ]
    },
    {
     "cell_type": "markdown",
     "metadata": {},
     "source": [
      "Optional block. Run this at any time to check what your settings are. If it does not appear, it has not been set yet.\n",
      "\n",
      "https://github.com/drcgw/SWAN/wiki/Tutorial#display-settings"
     ]
    },
    {
     "cell_type": "code",
     "collapsed": false,
     "input": [
      "Settings_display = display_settings(Settings)\n",
      "Settings_display"
     ],
     "language": "python",
     "metadata": {},
     "outputs": []
    },
    {
     "cell_type": "heading",
     "level": 1,
     "metadata": {},
     "source": [
      "Event Detection"
     ]
    },
    {
     "cell_type": "heading",
     "level": 2,
     "metadata": {},
     "source": [
      "Peaks"
     ]
    },
    {
     "cell_type": "markdown",
     "metadata": {},
     "source": [
      "https://github.com/drcgw/SWAN/wiki/Tutorial#peaks"
     ]
    },
    {
     "cell_type": "heading",
     "level": 3,
     "metadata": {},
     "source": [
      "Enter Delta value"
     ]
    },
    {
     "cell_type": "markdown",
     "metadata": {},
     "source": [
      "Choose a delta value (if not already specified) for peak detection. \n",
      "Delta is a 'top-down' threshold for peaks, where a point is considered a peak if there are points lower that it by delta.\n",
      "A larger delta will result in fewer, more selective peaks."
     ]
    },
    {
     "cell_type": "code",
     "collapsed": false,
     "input": [
      "Settings = event_peakdet_settings(Data, Settings)"
     ],
     "language": "python",
     "metadata": {},
     "outputs": [
      {
       "output_type": "stream",
       "stream": "stdout",
       "text": [
        "Previous delta value: 0.25\n"
       ]
      },
      {
       "name": "stdout",
       "output_type": "stream",
       "stream": "stdout",
       "text": [
        "Enter delta value between 0 and 0.698: 0.25\n"
       ]
      },
      {
       "output_type": "stream",
       "stream": "stdout",
       "text": [
        "Previous Peak minimum value: -inf\n"
       ]
      },
      {
       "name": "stdout",
       "output_type": "stream",
       "stream": "stdout",
       "text": [
        "Enter Peak Minimum value between -0.0642 and 0.6337: 0.1\n"
       ]
      },
      {
       "output_type": "stream",
       "stream": "stdout",
       "text": [
        "Previous Peak Maximum value: inf\n"
       ]
      },
      {
       "name": "stdout",
       "output_type": "stream",
       "stream": "stdout",
       "text": [
        "Enter Peak Maximum value between 0.1 and 0.6337: 0.7\n"
       ]
      }
     ],
     "prompt_number": 9
    },
    {
     "cell_type": "heading",
     "level": 3,
     "metadata": {},
     "source": [
      "Run Event Peak Detection"
     ]
    },
    {
     "cell_type": "markdown",
     "metadata": {},
     "source": [
      "Run block of code below to run peak deteaction. This block will display a plot of the detected events. It will also print a summary table of the peak amplitude and RR intervals."
     ]
    },
    {
     "cell_type": "code",
     "collapsed": false,
     "input": [
      "Results = event_peakdet_wrapper(Data, Settings, Results)\n",
      "Results['Peaks-Master'].groupby(level=0).describe()"
     ],
     "language": "python",
     "metadata": {},
     "outputs": [
      {
       "html": [
        "<div style=\"max-height:1000px;max-width:1500px;overflow:auto;\">\n",
        "<table border=\"1\" class=\"dataframe\">\n",
        "  <thead>\n",
        "    <tr style=\"text-align: right;\">\n",
        "      <th></th>\n",
        "      <th></th>\n",
        "      <th>Peaks Amplitude</th>\n",
        "      <th>Intervals</th>\n",
        "    </tr>\n",
        "  </thead>\n",
        "  <tbody>\n",
        "    <tr>\n",
        "      <th rowspan=\"8\" valign=\"top\">Mean1</th>\n",
        "      <th>count</th>\n",
        "      <td> 3224.000000</td>\n",
        "      <td> 3223.000000</td>\n",
        "    </tr>\n",
        "    <tr>\n",
        "      <th>mean</th>\n",
        "      <td>    0.514326</td>\n",
        "      <td>    0.188253</td>\n",
        "    </tr>\n",
        "    <tr>\n",
        "      <th>std</th>\n",
        "      <td>    0.047384</td>\n",
        "      <td>    0.007427</td>\n",
        "    </tr>\n",
        "    <tr>\n",
        "      <th>min</th>\n",
        "      <td>    0.403260</td>\n",
        "      <td>    0.170000</td>\n",
        "    </tr>\n",
        "    <tr>\n",
        "      <th>25%</th>\n",
        "      <td>    0.468488</td>\n",
        "      <td>    0.183250</td>\n",
        "    </tr>\n",
        "    <tr>\n",
        "      <th>50%</th>\n",
        "      <td>    0.526320</td>\n",
        "      <td>    0.188500</td>\n",
        "    </tr>\n",
        "    <tr>\n",
        "      <th>75%</th>\n",
        "      <td>    0.550066</td>\n",
        "      <td>    0.194250</td>\n",
        "    </tr>\n",
        "    <tr>\n",
        "      <th>max</th>\n",
        "      <td>    0.633748</td>\n",
        "      <td>    0.202500</td>\n",
        "    </tr>\n",
        "  </tbody>\n",
        "</table>\n",
        "<p>8 rows \u00d7 2 columns</p>\n",
        "</div>"
       ],
       "metadata": {},
       "output_type": "pyout",
       "prompt_number": 8,
       "text": [
        "             Peaks Amplitude    Intervals\n",
        "Mean1 count      3224.000000  3223.000000\n",
        "      mean          0.514326     0.188253\n",
        "      std           0.047384     0.007427\n",
        "      min           0.403260     0.170000\n",
        "      25%           0.468488     0.183250\n",
        "      50%           0.526320     0.188500\n",
        "      75%           0.550066     0.194250\n",
        "      max           0.633748     0.202500\n",
        "\n",
        "[8 rows x 2 columns]"
       ]
      }
     ],
     "prompt_number": 8
    },
    {
     "cell_type": "heading",
     "level": 3,
     "metadata": {},
     "source": [
      "Plot Events"
     ]
    },
    {
     "cell_type": "markdown",
     "metadata": {},
     "source": [
      "Call a column of data by its key (column name). Default name for one column of data is 'Mean1'"
     ]
    },
    {
     "cell_type": "code",
     "collapsed": false,
     "input": [
      "roi = 'Mean1'\n",
      "graph_detected_events_display(Data, Settings, Results, roi)"
     ],
     "language": "python",
     "metadata": {},
     "outputs": [],
     "prompt_number": 15
    },
    {
     "cell_type": "heading",
     "level": 2,
     "metadata": {},
     "source": [
      "Bursts"
     ]
    },
    {
     "cell_type": "markdown",
     "metadata": {},
     "source": [
      "https://github.com/drcgw/SWAN/wiki/Tutorial#bursts"
     ]
    },
    {
     "cell_type": "heading",
     "level": 3,
     "metadata": {},
     "source": [
      "Enter Threshold and Cluster time values"
     ]
    },
    {
     "cell_type": "markdown",
     "metadata": {},
     "source": [
      "Change the threshperc to adjust the threshold line relative to baseline and cluster_time to adjust how close together bursts can be before the are considered the same event. This is optional if the settings are already set."
     ]
    },
    {
     "cell_type": "code",
     "collapsed": false,
     "input": [
      "Settings = event_burstdet_settings(Settings)"
     ],
     "language": "python",
     "metadata": {},
     "outputs": []
    },
    {
     "cell_type": "heading",
     "level": 3,
     "metadata": {},
     "source": [
      "Run Event Burst Detection"
     ]
    },
    {
     "cell_type": "markdown",
     "metadata": {},
     "source": [
      "Run block of code below to run burst deteaction. \n",
      "\n",
      "This block will display a plot of the detected events. \n",
      "\n",
      "It will also print a summary table of start and end times for each event, event duration, interburst interval, and total cycle time."
     ]
    },
    {
     "cell_type": "code",
     "collapsed": false,
     "input": [
      "Results = event_burstdet_wrapper(Data, Settings, Results)\n",
      "Results['Bursts-Master'].groupby(level=0).describe()"
     ],
     "language": "python",
     "metadata": {},
     "outputs": [
      {
       "html": [
        "<div style=\"max-height:1000px;max-width:1500px;overflow:auto;\">\n",
        "<table border=\"1\" class=\"dataframe\">\n",
        "  <thead>\n",
        "    <tr style=\"text-align: right;\">\n",
        "      <th></th>\n",
        "      <th></th>\n",
        "      <th>Burst Start</th>\n",
        "      <th>Burst End</th>\n",
        "      <th>Burst Duration</th>\n",
        "      <th>Edge Event</th>\n",
        "      <th>Interburst Interval</th>\n",
        "      <th>Total Cycle Time</th>\n",
        "      <th>Peaks per Burst</th>\n",
        "      <th>Peak Amp</th>\n",
        "      <th>Peak Time</th>\n",
        "      <th>Attack</th>\n",
        "      <th>Decay</th>\n",
        "      <th>Intraburst Frequency</th>\n",
        "    </tr>\n",
        "  </thead>\n",
        "  <tbody>\n",
        "    <tr>\n",
        "      <th rowspan=\"8\" valign=\"top\">Mean1</th>\n",
        "      <th>count</th>\n",
        "      <td> 3224.000000</td>\n",
        "      <td> 3224.000000</td>\n",
        "      <td> 3224.000000</td>\n",
        "      <td>  3224</td>\n",
        "      <td> 3223.000000</td>\n",
        "      <td> 3223.000000</td>\n",
        "      <td> 3224</td>\n",
        "      <td> 3224.000000</td>\n",
        "      <td> 3224.000000</td>\n",
        "      <td> 3224.000000</td>\n",
        "      <td> 3224.000000</td>\n",
        "      <td> 3224.000000</td>\n",
        "    </tr>\n",
        "    <tr>\n",
        "      <th>mean</th>\n",
        "      <td>  297.234606</td>\n",
        "      <td>  297.264828</td>\n",
        "      <td>    0.030222</td>\n",
        "      <td>     0</td>\n",
        "      <td>    0.158032</td>\n",
        "      <td>    0.188253</td>\n",
        "      <td>    1</td>\n",
        "      <td>    0.514326</td>\n",
        "      <td>  297.249564</td>\n",
        "      <td>    0.014957</td>\n",
        "      <td>    0.015265</td>\n",
        "      <td>   33.165306</td>\n",
        "    </tr>\n",
        "    <tr>\n",
        "      <th>std</th>\n",
        "      <td>  176.070115</td>\n",
        "      <td>  176.070941</td>\n",
        "      <td>    0.001450</td>\n",
        "      <td>     0</td>\n",
        "      <td>    0.006746</td>\n",
        "      <td>    0.007453</td>\n",
        "      <td>    0</td>\n",
        "      <td>    0.047384</td>\n",
        "      <td>  176.070538</td>\n",
        "      <td>    0.000890</td>\n",
        "      <td>    0.000722</td>\n",
        "      <td>    1.604423</td>\n",
        "    </tr>\n",
        "    <tr>\n",
        "      <th>min</th>\n",
        "      <td>    0.120250</td>\n",
        "      <td>    0.148250</td>\n",
        "      <td>    0.026500</td>\n",
        "      <td> False</td>\n",
        "      <td>    0.142000</td>\n",
        "      <td>    0.170000</td>\n",
        "      <td>    1</td>\n",
        "      <td>    0.403260</td>\n",
        "      <td>    0.134250</td>\n",
        "      <td>    0.013250</td>\n",
        "      <td>    0.013250</td>\n",
        "      <td>   29.850746</td>\n",
        "    </tr>\n",
        "    <tr>\n",
        "      <th>25%</th>\n",
        "      <td>  143.869000</td>\n",
        "      <td>  143.897875</td>\n",
        "      <td>    0.029250</td>\n",
        "      <td>     0</td>\n",
        "      <td>    0.154000</td>\n",
        "      <td>    0.183000</td>\n",
        "      <td>    1</td>\n",
        "      <td>    0.468488</td>\n",
        "      <td>  143.883188</td>\n",
        "      <td>    0.014250</td>\n",
        "      <td>    0.014750</td>\n",
        "      <td>   32.000000</td>\n",
        "    </tr>\n",
        "    <tr>\n",
        "      <th>50%</th>\n",
        "      <td>  293.386625</td>\n",
        "      <td>  293.416750</td>\n",
        "      <td>    0.030250</td>\n",
        "      <td>     0</td>\n",
        "      <td>    0.157750</td>\n",
        "      <td>    0.188500</td>\n",
        "      <td>    1</td>\n",
        "      <td>    0.526320</td>\n",
        "      <td>  293.401375</td>\n",
        "      <td>    0.014750</td>\n",
        "      <td>    0.015250</td>\n",
        "      <td>   33.057851</td>\n",
        "    </tr>\n",
        "    <tr>\n",
        "      <th>75%</th>\n",
        "      <td>  449.120875</td>\n",
        "      <td>  449.153063</td>\n",
        "      <td>    0.031250</td>\n",
        "      <td>     0</td>\n",
        "      <td>    0.162750</td>\n",
        "      <td>    0.194250</td>\n",
        "      <td>    1</td>\n",
        "      <td>    0.550066</td>\n",
        "      <td>  449.137188</td>\n",
        "      <td>    0.015500</td>\n",
        "      <td>    0.015750</td>\n",
        "      <td>   34.188034</td>\n",
        "    </tr>\n",
        "    <tr>\n",
        "      <th>max</th>\n",
        "      <td>  606.860500</td>\n",
        "      <td>  606.893000</td>\n",
        "      <td>    0.033500</td>\n",
        "      <td> False</td>\n",
        "      <td>    0.171750</td>\n",
        "      <td>    0.202000</td>\n",
        "      <td>    1</td>\n",
        "      <td>    0.633748</td>\n",
        "      <td>  606.875000</td>\n",
        "      <td>    0.017250</td>\n",
        "      <td>    0.018000</td>\n",
        "      <td>   37.735849</td>\n",
        "    </tr>\n",
        "  </tbody>\n",
        "</table>\n",
        "<p>8 rows \u00d7 12 columns</p>\n",
        "</div>"
       ],
       "metadata": {},
       "output_type": "pyout",
       "prompt_number": 9,
       "text": [
        "             Burst Start    Burst End  Burst Duration Edge Event  \\\n",
        "Mean1 count  3224.000000  3224.000000     3224.000000       3224   \n",
        "      mean    297.234606   297.264828        0.030222          0   \n",
        "      std     176.070115   176.070941        0.001450          0   \n",
        "      min       0.120250     0.148250        0.026500      False   \n",
        "      25%     143.869000   143.897875        0.029250          0   \n",
        "      50%     293.386625   293.416750        0.030250          0   \n",
        "      75%     449.120875   449.153063        0.031250          0   \n",
        "      max     606.860500   606.893000        0.033500      False   \n",
        "\n",
        "             Interburst Interval  Total Cycle Time  Peaks per Burst  \\\n",
        "Mean1 count          3223.000000       3223.000000             3224   \n",
        "      mean              0.158032          0.188253                1   \n",
        "      std               0.006746          0.007453                0   \n",
        "      min               0.142000          0.170000                1   \n",
        "      25%               0.154000          0.183000                1   \n",
        "      50%               0.157750          0.188500                1   \n",
        "      75%               0.162750          0.194250                1   \n",
        "      max               0.171750          0.202000                1   \n",
        "\n",
        "                Peak Amp    Peak Time       Attack        Decay  \\\n",
        "Mean1 count  3224.000000  3224.000000  3224.000000  3224.000000   \n",
        "      mean      0.514326   297.249564     0.014957     0.015265   \n",
        "      std       0.047384   176.070538     0.000890     0.000722   \n",
        "      min       0.403260     0.134250     0.013250     0.013250   \n",
        "      25%       0.468488   143.883188     0.014250     0.014750   \n",
        "      50%       0.526320   293.401375     0.014750     0.015250   \n",
        "      75%       0.550066   449.137188     0.015500     0.015750   \n",
        "      max       0.633748   606.875000     0.017250     0.018000   \n",
        "\n",
        "             Intraburst Frequency  \n",
        "Mean1 count           3224.000000  \n",
        "      mean              33.165306  \n",
        "      std                1.604423  \n",
        "      min               29.850746  \n",
        "      25%               32.000000  \n",
        "      50%               33.057851  \n",
        "      75%               34.188034  \n",
        "      max               37.735849  \n",
        "\n",
        "[8 rows x 12 columns]"
       ]
      }
     ],
     "prompt_number": 9
    },
    {
     "cell_type": "heading",
     "level": 3,
     "metadata": {},
     "source": [
      "Plot Events"
     ]
    },
    {
     "cell_type": "markdown",
     "metadata": {},
     "source": [
      "Call a column of data by its key (column name). Default name for one column of data is 'Mean1'"
     ]
    },
    {
     "cell_type": "code",
     "collapsed": false,
     "input": [
      "roi = 'Mean1'\n",
      "graph_detected_events_display(Data, Settings, Results, roi)"
     ],
     "language": "python",
     "metadata": {},
     "outputs": [],
     "prompt_number": 10
    },
    {
     "cell_type": "heading",
     "level": 2,
     "metadata": {},
     "source": [
      "Save all files and settings"
     ]
    },
    {
     "cell_type": "markdown",
     "metadata": {},
     "source": [
      "https://github.com/drcgw/SWAN/wiki/Tutorial#save-all-files-and-settings"
     ]
    },
    {
     "cell_type": "code",
     "collapsed": false,
     "input": [
      "Save_Results(Settings, Results)"
     ],
     "language": "python",
     "metadata": {},
     "outputs": [
      {
       "output_type": "stream",
       "stream": "stdout",
       "text": [
        "All results saved to"
       ]
      },
      {
       "ename": "NameError",
       "evalue": "global name 'path' is not defined",
       "output_type": "pyerr",
       "traceback": [
        "\u001b[0;31m---------------------------------------------------------------------------\u001b[0m\n\u001b[0;31mNameError\u001b[0m                                 Traceback (most recent call last)",
        "\u001b[0;32m<ipython-input-8-124d604607a0>\u001b[0m in \u001b[0;36m<module>\u001b[0;34m()\u001b[0m\n\u001b[0;32m----> 1\u001b[0;31m \u001b[0mSave_Results\u001b[0m\u001b[0;34m(\u001b[0m\u001b[0mSettings\u001b[0m\u001b[0;34m,\u001b[0m \u001b[0mResults\u001b[0m\u001b[0;34m)\u001b[0m\u001b[0;34m\u001b[0m\u001b[0m\n\u001b[0m",
        "\u001b[0;32m/Users/abigaildobyns/Documents/bass/bass.py\u001b[0m in \u001b[0;36mSave_Results\u001b[0;34m(Settings, Results)\u001b[0m\n\u001b[1;32m   1868\u001b[0m                                                  now.strftime('%Y_%m_%d__%H_%M_%S')))\n\u001b[1;32m   1869\u001b[0m \u001b[0;34m\u001b[0m\u001b[0m\n\u001b[0;32m-> 1870\u001b[0;31m     \u001b[0;32mprint\u001b[0m \u001b[0;34m\"All results saved to\"\u001b[0m\u001b[0;34m,\u001b[0m \u001b[0mpath\u001b[0m\u001b[0;34m+\u001b[0m\u001b[0;34m'/'\u001b[0m\u001b[0;34m+\u001b[0m\u001b[0mfolder\u001b[0m\u001b[0;34m\u001b[0m\u001b[0m\n\u001b[0m\u001b[1;32m   1871\u001b[0m     \u001b[0;32mprint\u001b[0m \u001b[0;34m\"Thank you for chosing BASS.py for all your basic analysis needs. Proceed for graphs and advanced analysis.\"\u001b[0m\u001b[0;34m\u001b[0m\u001b[0m\n\u001b[1;32m   1872\u001b[0m \u001b[0;34m\u001b[0m\u001b[0m\n",
        "\u001b[0;31mNameError\u001b[0m: global name 'path' is not defined"
       ]
      }
     ],
     "prompt_number": 8
    },
    {
     "cell_type": "heading",
     "level": 2,
     "metadata": {},
     "source": [
      "Results Plots"
     ]
    },
    {
     "cell_type": "heading",
     "level": 3,
     "metadata": {},
     "source": [
      "Poincare Plots"
     ]
    },
    {
     "cell_type": "markdown",
     "metadata": {},
     "source": [
      "Create a Poincare Plot of your favorite varible. Choose an event type (Peaks or Bursts), measurement type, and key. Make sure that whichever varible you chose is only composed of numbers (No NaN or missing values). Calling meas = 'All' not currently supported.\n",
      "\n",
      "Plots are saved by clicking the save button in the pop-up window with your graph. SD1 and SD2 values are not saved automatically.\n",
      "\n",
      "Example:\n",
      "\n",
      "    event_type = 'Bursts'\n",
      "    meas = 'Peaks per Burst'\n",
      "    key = 'Mean1'\n",
      "\n",
      "https://github.com/drcgw/SWAN/wiki/Tutorial#poincare-plots"
     ]
    },
    {
     "cell_type": "code",
     "collapsed": false,
     "input": [
      "event_type = 'Bursts'\n",
      "meas = 'Burst Duration'\n",
      "key = 'Mean1'\n",
      "poincare_plot(Results[event_type][key][meas])"
     ],
     "language": "python",
     "metadata": {},
     "outputs": [
      {
       "output_type": "stream",
       "stream": "stdout",
       "text": [
        "Burst Duration results:\n",
        "SD1 = 0.0011 s\n",
        "SD2 = 0.0017 s\n"
       ]
      }
     ],
     "prompt_number": 22
    },
    {
     "cell_type": "heading",
     "level": 3,
     "metadata": {},
     "source": [
      "Poincare SD values-Batch"
     ]
    },
    {
     "cell_type": "code",
     "collapsed": false,
     "input": [],
     "language": "python",
     "metadata": {},
     "outputs": []
    },
    {
     "cell_type": "heading",
     "level": 3,
     "metadata": {},
     "source": [
      "Line Plots"
     ]
    },
    {
     "cell_type": "markdown",
     "metadata": {},
     "source": [
      "Create line plots of the raw data as well as the data analysis. \n",
      "\n",
      "Plots are saved by clicking the save button in the pop-up window with your graph.\n",
      "\n",
      "https://github.com/drcgw/SWAN/wiki/Tutorial#line-plots"
     ]
    },
    {
     "cell_type": "code",
     "collapsed": false,
     "input": [
      "Data['original'].ix[:,0].name"
     ],
     "language": "python",
     "metadata": {},
     "outputs": [
      {
       "metadata": {},
       "output_type": "pyout",
       "prompt_number": 33,
       "text": [
        "'Mean1'"
       ]
      }
     ],
     "prompt_number": 33
    },
    {
     "cell_type": "code",
     "collapsed": false,
     "input": [
      "key = 'Mean1'\n",
      "results_timeseries_plot(Data, Settings, Results, key)"
     ],
     "language": "python",
     "metadata": {},
     "outputs": [
      {
       "ename": "AttributeError",
       "evalue": "'AxesSubplot' object has no attribute 'ylim'",
       "output_type": "pyerr",
       "traceback": [
        "\u001b[0;31m---------------------------------------------------------------------------\u001b[0m\n\u001b[0;31mAttributeError\u001b[0m                            Traceback (most recent call last)",
        "\u001b[0;32m<ipython-input-10-ecd8f61fc1a0>\u001b[0m in \u001b[0;36m<module>\u001b[0;34m()\u001b[0m\n\u001b[1;32m      1\u001b[0m \u001b[0mkey\u001b[0m \u001b[0;34m=\u001b[0m \u001b[0;34m'Mean1'\u001b[0m\u001b[0;34m\u001b[0m\u001b[0m\n\u001b[0;32m----> 2\u001b[0;31m \u001b[0mresults_timeseries_plot\u001b[0m\u001b[0;34m(\u001b[0m\u001b[0mData\u001b[0m\u001b[0;34m,\u001b[0m \u001b[0mSettings\u001b[0m\u001b[0;34m,\u001b[0m \u001b[0mResults\u001b[0m\u001b[0;34m,\u001b[0m \u001b[0mkey\u001b[0m\u001b[0;34m)\u001b[0m\u001b[0;34m\u001b[0m\u001b[0m\n\u001b[0m",
        "\u001b[0;32m/Users/abigaildobyns/Documents/bass/bass.py\u001b[0m in \u001b[0;36mresults_timeseries_plot\u001b[0;34m(Data, Settings, Results, roi)\u001b[0m\n\u001b[1;32m   1932\u001b[0m \u001b[0;34m\u001b[0m\u001b[0m\n\u001b[1;32m   1933\u001b[0m     \u001b[0max\u001b[0m\u001b[0;34m[\u001b[0m\u001b[0;36m1\u001b[0m\u001b[0;34m]\u001b[0m\u001b[0;34m.\u001b[0m\u001b[0mplot\u001b[0m\u001b[0;34m(\u001b[0m\u001b[0mdata_temp\u001b[0m\u001b[0;34m.\u001b[0m\u001b[0mindex\u001b[0m\u001b[0;34m,\u001b[0m \u001b[0mdata_temp\u001b[0m\u001b[0;34m[\u001b[0m\u001b[0mroi\u001b[0m\u001b[0;34m]\u001b[0m\u001b[0;34m,\u001b[0m \u001b[0mcolor\u001b[0m \u001b[0;34m=\u001b[0m \u001b[0;34m'k'\u001b[0m\u001b[0;34m,\u001b[0m \u001b[0mlabel\u001b[0m\u001b[0;34m=\u001b[0m \u001b[0;34m'Time Series'\u001b[0m\u001b[0;34m)\u001b[0m \u001b[0;31m#plot time series\u001b[0m\u001b[0;34m\u001b[0m\u001b[0m\n\u001b[0;32m-> 1934\u001b[0;31m     \u001b[0max\u001b[0m\u001b[0;34m[\u001b[0m\u001b[0;36m1\u001b[0m\u001b[0;34m]\u001b[0m\u001b[0;34m.\u001b[0m\u001b[0mylim\u001b[0m\u001b[0;34m(\u001b[0m\u001b[0mymin\u001b[0m\u001b[0;34m=\u001b[0m \u001b[0mmin\u001b[0m\u001b[0;34m(\u001b[0m\u001b[0mdata_temp\u001b[0m\u001b[0;34m.\u001b[0m\u001b[0mmin\u001b[0m\u001b[0;34m(\u001b[0m\u001b[0;34m)\u001b[0m\u001b[0;34m)\u001b[0m\u001b[0;34m,\u001b[0m \u001b[0mymax\u001b[0m \u001b[0;34m=\u001b[0m\u001b[0mmax\u001b[0m\u001b[0;34m(\u001b[0m\u001b[0mdata_temp\u001b[0m\u001b[0;34m.\u001b[0m\u001b[0mmax\u001b[0m\u001b[0;34m(\u001b[0m\u001b[0;34m)\u001b[0m\u001b[0;34m)\u001b[0m\u001b[0;34m)\u001b[0m\u001b[0;34m\u001b[0m\u001b[0m\n\u001b[0m\u001b[1;32m   1935\u001b[0m     \u001b[0max\u001b[0m\u001b[0;34m[\u001b[0m\u001b[0;36m1\u001b[0m\u001b[0;34m]\u001b[0m\u001b[0;34m.\u001b[0m\u001b[0mxlim\u001b[0m\u001b[0;34m(\u001b[0m\u001b[0mxmin\u001b[0m \u001b[0;34m=\u001b[0m \u001b[0;34m-\u001b[0m\u001b[0;36m1\u001b[0m\u001b[0;34m)\u001b[0m\u001b[0;34m\u001b[0m\u001b[0m\n\u001b[1;32m   1936\u001b[0m     \u001b[0max\u001b[0m\u001b[0;34m[\u001b[0m\u001b[0;36m1\u001b[0m\u001b[0;34m]\u001b[0m\u001b[0;34m.\u001b[0m\u001b[0mtitle\u001b[0m\u001b[0;34m(\u001b[0m\u001b[0mroi\u001b[0m\u001b[0;34m+\u001b[0m\u001b[0;34m' Events'\u001b[0m\u001b[0;34m)\u001b[0m\u001b[0;34m\u001b[0m\u001b[0m\n",
        "\u001b[0;31mAttributeError\u001b[0m: 'AxesSubplot' object has no attribute 'ylim'"
       ]
      }
     ],
     "prompt_number": 10
    },
    {
     "cell_type": "heading",
     "level": 3,
     "metadata": {},
     "source": [
      "Frequency Plot"
     ]
    },
    {
     "cell_type": "markdown",
     "metadata": {},
     "source": [
      "https://github.com/drcgw/SWAN/wiki/Tutorial#frequency-plot\n",
      "\n",
      "Use the block below to plot the **peak** interval data over time in peaks/min."
     ]
    },
    {
     "cell_type": "code",
     "collapsed": false,
     "input": [
      "frequency_plot_peaks(Results)"
     ],
     "language": "python",
     "metadata": {},
     "outputs": [
      {
       "ename": "KeyError",
       "evalue": "'Intervals'",
       "output_type": "pyerr",
       "traceback": [
        "\u001b[0;31m---------------------------------------------------------------------------\u001b[0m\n\u001b[0;31mKeyError\u001b[0m                                  Traceback (most recent call last)",
        "\u001b[0;32m<ipython-input-23-254d833ce4d6>\u001b[0m in \u001b[0;36m<module>\u001b[0;34m()\u001b[0m\n\u001b[0;32m----> 1\u001b[0;31m \u001b[0mfrequency_plot_peaks\u001b[0m\u001b[0;34m(\u001b[0m\u001b[0mResults\u001b[0m\u001b[0;34m)\u001b[0m\u001b[0;34m\u001b[0m\u001b[0m\n\u001b[0m",
        "\u001b[0;32m/Users/abigaildobyns/Documents/bass/bass.py\u001b[0m in \u001b[0;36mfrequency_plot_peaks\u001b[0;34m(Results)\u001b[0m\n\u001b[1;32m   2253\u001b[0m         \u001b[0;32mtry\u001b[0m\u001b[0;34m:\u001b[0m\u001b[0;34m\u001b[0m\u001b[0m\n\u001b[1;32m   2254\u001b[0m             \u001b[0mkey\u001b[0m \u001b[0;34m=\u001b[0m \u001b[0mfloat\u001b[0m\u001b[0;34m(\u001b[0m\u001b[0mkey\u001b[0m\u001b[0;34m)\u001b[0m\u001b[0;34m\u001b[0m\u001b[0m\n\u001b[0;32m-> 2255\u001b[0;31m         \u001b[0;32mexcept\u001b[0m\u001b[0;34m:\u001b[0m\u001b[0;34m\u001b[0m\u001b[0m\n\u001b[0m\u001b[1;32m   2256\u001b[0m             \u001b[0mlegend\u001b[0m \u001b[0;34m=\u001b[0m \u001b[0mkey\u001b[0m\u001b[0;34m\u001b[0m\u001b[0m\n\u001b[1;32m   2257\u001b[0m             \u001b[0mkey\u001b[0m \u001b[0;34m=\u001b[0m \u001b[0mn\u001b[0m\u001b[0;34m\u001b[0m\u001b[0m\n",
        "\u001b[0;31mKeyError\u001b[0m: 'Intervals'"
       ]
      }
     ],
     "prompt_number": 23
    },
    {
     "cell_type": "markdown",
     "metadata": {},
     "source": [
      "Use the block below to plot the **burst** interval data over time"
     ]
    },
    {
     "cell_type": "code",
     "collapsed": false,
     "input": [
      "frequency_plot_bursts(Results)"
     ],
     "language": "python",
     "metadata": {},
     "outputs": []
    },
    {
     "cell_type": "heading",
     "level": 1,
     "metadata": {},
     "source": [
      "Power Spectral Density"
     ]
    },
    {
     "cell_type": "markdown",
     "metadata": {},
     "source": [
      "The following blocks allows you to asses the power of **peaks** and **bursts** intervals. there are two seperate sets of the same commands to run this for each. You can do both, one, or neither. it is completely optional.\n",
      "\n",
      "https://github.com/drcgw/SWAN/wiki/Tutorial#power-spectral-density"
     ]
    },
    {
     "cell_type": "heading",
     "level": 2,
     "metadata": {},
     "source": [
      "Settings"
     ]
    },
    {
     "cell_type": "markdown",
     "metadata": {},
     "source": [
      "use code below to get LF/HF  for rr or ttot interval data sets"
     ]
    },
    {
     "cell_type": "code",
     "collapsed": false,
     "input": [
      "hz = 4.0 #freqency that the interpolation and PSD are performed with. \n",
      "ulf = 0.03 #max of the range of the ultra low freq band. range is 0:ulf\n",
      "vlf = 0.05 #max of the range of the very low freq band. range is ulf:vlf\n",
      "lf = 0.15 #max of the range of the low freq band. range is vlf:lf\n",
      "hf = 0.4 #max of the range of the high freq band. range is lf:hf. hf can be no more than (hz/2)\n",
      "dx = 10 #segmentation for the area under the curve. \n",
      "\n",
      "results_PSD = DataFrame(index = ['ULF', 'VLF', 'LF','HF','LF/HF'])\n",
      "Settings_PSD = Series(index = ['Hz','ULF', 'VLF', 'LF','HF','dx'], \n",
      "                      data=[hz, ulf, vlf, lf, hf, dx])\n",
      "Settings_PSD"
     ],
     "language": "python",
     "metadata": {},
     "outputs": []
    },
    {
     "cell_type": "heading",
     "level": 2,
     "metadata": {},
     "source": [
      "PSD"
     ]
    },
    {
     "cell_type": "heading",
     "level": 4,
     "metadata": {},
     "source": [
      "Peaks"
     ]
    },
    {
     "cell_type": "markdown",
     "metadata": {},
     "source": [
      "Use block below to return the PSD plot, as well as the power in the bands defined by the settings above."
     ]
    },
    {
     "cell_type": "code",
     "collapsed": false,
     "input": [
      "PSD_Peaks(Results, results_PSD, Settings_PSD)\n",
      "results_PSD"
     ],
     "language": "python",
     "metadata": {},
     "outputs": []
    },
    {
     "cell_type": "heading",
     "level": 4,
     "metadata": {},
     "source": [
      "Bursts"
     ]
    },
    {
     "cell_type": "markdown",
     "metadata": {},
     "source": [
      "Use block below to return the PSD plot, as well as the power in the bands defined by the settings above."
     ]
    },
    {
     "cell_type": "code",
     "collapsed": false,
     "input": [
      "PSD_bursts(Results, results_PSD, Settings_PSD)\n",
      "results_PSD"
     ],
     "language": "python",
     "metadata": {},
     "outputs": []
    },
    {
     "cell_type": "heading",
     "level": 3,
     "metadata": {},
     "source": [
      "Save PSD results and settings"
     ]
    },
    {
     "cell_type": "code",
     "collapsed": false,
     "input": [
      "results_PSD.to_csv(r'%s/%s/%s_PSD_results.csv'%(Settings['Save Location'],\n",
      "                                                Settings['Unique Identifier'],\n",
      "                                                Settings['Unique Identifier']))\n",
      "Settings_PSD.to_csv(r'%s/%s/%s_PSD_settings_%s.csv'%(Settings['Save Location'],\n",
      "                                                     Settings['Unique Identifier'],\n",
      "                                                     Settings['Unique Identifier'],\n",
      "                                                     datetime.datetime.now()))"
     ],
     "language": "python",
     "metadata": {},
     "outputs": []
    },
    {
     "cell_type": "heading",
     "level": 2,
     "metadata": {},
     "source": [
      "HistEntropy"
     ]
    },
    {
     "cell_type": "markdown",
     "metadata": {},
     "source": [
      "Hisogram Entropy on peak-peak intervals\n",
      "\n",
      "https://github.com/drcgw/SWAN/wiki/Tutorial#histentropy"
     ]
    },
    {
     "cell_type": "code",
     "collapsed": false,
     "input": [
      "Results = histent_peaks(Results)\n",
      "Results['Histogram Entropy']"
     ],
     "language": "python",
     "metadata": {},
     "outputs": []
    },
    {
     "cell_type": "markdown",
     "metadata": {},
     "source": [
      "Hisogram Entropy on burst intervals"
     ]
    },
    {
     "cell_type": "code",
     "collapsed": false,
     "input": [
      "Results = histent_bursts(Results)\n",
      "Results['Histogram Entropy']"
     ],
     "language": "python",
     "metadata": {},
     "outputs": []
    },
    {
     "cell_type": "heading",
     "level": 3,
     "metadata": {},
     "source": [
      "Save HistEntropy Results"
     ]
    },
    {
     "cell_type": "code",
     "collapsed": false,
     "input": [
      "Results['Histogram Entropy'].to_csv(r'%s/%s/%s_Histogram_Entropy.csv'%(Settings['Save Location'],Settings['Sample Folder'], \n",
      "                                                      Settings['Sample Folder']))"
     ],
     "language": "python",
     "metadata": {},
     "outputs": []
    },
    {
     "cell_type": "heading",
     "level": 1,
     "metadata": {},
     "source": [
      "STOP HERE"
     ]
    },
    {
     "cell_type": "markdown",
     "metadata": {},
     "source": [
      "You can run another file be going back the the **Begin User Input** section and chose another file path."
     ]
    },
    {
     "cell_type": "heading",
     "level": 1,
     "metadata": {},
     "source": [
      "Advanced user options"
     ]
    },
    {
     "cell_type": "heading",
     "level": 3,
     "metadata": {},
     "source": [
      "Approximate entropy"
     ]
    },
    {
     "cell_type": "markdown",
     "metadata": {},
     "source": [
      "run the below code to get the approximate entropy of the RR and Ttot results. Returns the entropy of the entire array (no windowing). I assume you want to do this on the RR interval or Ttotal arrays, so i have included an example of code I wrote than runs. Your settings may be different.\n",
      "\n",
      "this only runs if you have pyEEG installed.\n",
      "\n",
      "https://github.com/drcgw/SWAN/wiki/Tutorial#approximate-entropy"
     ]
    },
    {
     "cell_type": "code",
     "collapsed": false,
     "input": [
      "try:\n",
      "    from pyeeg import *\n",
      "\n",
      "    RR = Results['Peaks']['Intervals'].tolist()\n",
      "    tot = Results['Bursts']['Total Cycle Time'].tolist()\n",
      "\n",
      "    rr_ap_ent = ap_entropy(RR[:-1], 2, (0.2*np.std(RR[:-1])))\n",
      "    ttot_ap_ent = ap_entropy(tot[:-1], 2, (0.2*np.std(tot[:-1])))\n",
      "\n",
      "    print \"RR approximate entropy =\", np.round(rr_ap_ent,3)\n",
      "    print \"T Total approximate entropy =\", np.round(ttot_ap_ent,3)\n",
      "except ImportError:\n",
      "    print \"You do not have the pyeeg module and cannot use this code.\""
     ],
     "language": "python",
     "metadata": {},
     "outputs": []
    },
    {
     "cell_type": "heading",
     "level": 1,
     "metadata": {},
     "source": [
      "Blank Code block"
     ]
    },
    {
     "cell_type": "markdown",
     "metadata": {},
     "source": [
      "you're still here, reading? you must be a dedicated super user!\n",
      "\n",
      "If that is the case, then you must know how to code in Python. Use this space to get crazy with your own advanced analysis and stuff."
     ]
    },
    {
     "cell_type": "code",
     "collapsed": false,
     "input": [],
     "language": "python",
     "metadata": {},
     "outputs": []
    }
   ],
   "metadata": {}
  }
 ]
}