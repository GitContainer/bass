{
 "cells": [
  {
   "cell_type": "markdown",
   "metadata": {},
   "source": [
    "# Welcome to BASS!"
   ]
  },
  {
   "cell_type": "markdown",
   "metadata": {},
   "source": [
    "Version: Single Wave- Interactive Notebook."
   ]
  },
  {
   "cell_type": "markdown",
   "metadata": {},
   "source": [
    "    BASS: Biomedical Analysis Software Suite for event detection and signal processing.\n",
    "    Copyright (C) 2015  Abigail Dobyns\n",
    "\n",
    "    This program is free software: you can redistribute it and/or modify\n",
    "    it under the terms of the GNU General Public License as published by\n",
    "    the Free Software Foundation, either version 3 of the License, or\n",
    "    (at your option) any later version.\n",
    "\n",
    "    This program is distributed in the hope that it will be useful,\n",
    "    but WITHOUT ANY WARRANTY; without even the implied warranty of\n",
    "    MERCHANTABILITY or FITNESS FOR A PARTICULAR PURPOSE.  See the\n",
    "    GNU General Public License for more details.\n",
    "\n",
    "    You should have received a copy of the GNU General Public License\n",
    "    along with this program.  If not, see <http://www.gnu.org/licenses/>"
   ]
  },
  {
   "cell_type": "markdown",
   "metadata": {},
   "source": [
    "## Initalize"
   ]
  },
  {
   "cell_type": "markdown",
   "metadata": {},
   "source": [
    "Run the following code block to intialize the program. This notebook and bass.py file **must** be in the same folder."
   ]
  },
  {
   "cell_type": "code",
   "execution_count": null,
   "metadata": {
    "collapsed": false
   },
   "outputs": [],
   "source": [
    "from bass import *"
   ]
  },
  {
   "cell_type": "markdown",
   "metadata": {},
   "source": [
    "# Begin User Input"
   ]
  },
  {
   "cell_type": "markdown",
   "metadata": {},
   "source": [
    "For help, check out the wiki: https://github.com/drcgw/bass/wiki/Tutorial\n",
    "\n",
    "Or the video tutorial: Coming Soon!"
   ]
  },
  {
   "cell_type": "markdown",
   "metadata": {},
   "source": [
    "## Load Data File"
   ]
  },
  {
   "cell_type": "markdown",
   "metadata": {},
   "source": [
    "Use the following block to change your settings. You **must** use this block.\n",
    "\n",
    "Here are some helpful information about the loading settings:\n",
    "\n",
    "**Full File Path to Folder containing file:**\n",
    "Designate the path to your file to load. It can also be the relative path to the folder where this notebook is stored. This does not include the file itself.\n",
    "\n",
    "    Mac OSX Example: '/Users/MYNAME/Documents/bass'\n",
    "    Microsoft Example: 'C:\\\\Users\\MYNAME\\Documents\\bass'\n",
    "    \n",
    "\n",
    "**File name:**\n",
    "This is the name of your data file. It should include the file type. This file should NOT have a header and the first column must be time in seconds. Note: This file name will also appear as part of the output files names.\n",
    "\n",
    "    'rat34_ECG.txt' \n",
    "\n",
    "**Full File Path for data output:** Designate the location of the folder where you would like the folder containing your results to go. If the folder does not exist, then it will be created. A plots folder, called 'plots' will be created inside this folder for you if it does not already exist. \n",
    "\n",
    "    Mac OSX Example: '/Users/MYNAME/Documents/output'\n",
    "    Microsoft Example: 'C:\\\\Users\\MYNAME\\Documents\\output' \n",
    "\n",
    "https://github.com/drcgw/SWAN/wiki/Tutorial#load"
   ]
  },
  {
   "cell_type": "code",
   "execution_count": 9,
   "metadata": {
    "collapsed": false
   },
   "outputs": [
    {
     "name": "stdout",
     "output_type": "stream",
     "text": [
      "Full File Path to Folder containing file: /Users/abigaildobyns/Desktop\n",
      "File Name: rat34_ECG.txt\n",
      "Full File Path to Output Folder: /Users/abigaildobyns/Desktop/demo\n",
      "Made plots folder\n",
      "Data Loaded\n",
      "Sampling Rate= 0.00025 (sec/frame)\n",
      "rat34_ECG.txt is 606.94975 seconds long.\n"
     ]
    }
   ],
   "source": [
    "Data, Settings, Results = load_interact()"
   ]
  },
  {
   "cell_type": "markdown",
   "metadata": {},
   "source": [
    "### Graph Data (Optional)"
   ]
  },
  {
   "cell_type": "markdown",
   "metadata": {},
   "source": [
    "Use this block to check any slicing you need to do to cut out problematic data from the head or tail. You can click on any point in the wave to get the (x,y) location of that point. Clipping inside this notebook is not supported at this time.\n",
    "\n",
    "https://github.com/drcgw/SWAN/wiki/Tutorial#graph-data"
   ]
  },
  {
   "cell_type": "code",
   "execution_count": null,
   "metadata": {
    "collapsed": false
   },
   "outputs": [],
   "source": [
    "plot_rawdata(Data)"
   ]
  },
  {
   "cell_type": "markdown",
   "metadata": {},
   "source": [
    "### Power Spectral Density (Optional)"
   ]
  },
  {
   "cell_type": "markdown",
   "metadata": {},
   "source": [
    "Use the settings code block to set your frequency bands to calculate area under the curve. This block is not required. band output is always in raw power, even if the graph scale is dB/Hz."
   ]
  },
  {
   "cell_type": "code",
   "execution_count": null,
   "metadata": {
    "collapsed": false
   },
   "outputs": [],
   "source": [
    "#optional\n",
    "Settings['PSD-Signal'] = Series(index = ['ULF', 'VLF', 'LF','HF','dx'])\n",
    "#Set PSD ranges for power in band\n",
    "\n",
    "Settings['PSD-Signal']['ULF'] = 25 #max of the range of the ultra low freq band. range is 0:ulf\n",
    "Settings['PSD-Signal']['VLF'] = 75 #max of the range of the very low freq band. range is ulf:vlf\n",
    "Settings['PSD-Signal']['LF'] = 150 #max of the range of the low freq band. range is vlf:lf\n",
    "Settings['PSD-Signal']['HF'] = 300 #max of the range of the high freq band. range is lf:hf. hf can be no more than (hz/2)\n",
    "Settings['PSD-Signal']['dx'] = 2 #segmentation for the area under the curve. "
   ]
  },
  {
   "cell_type": "markdown",
   "metadata": {},
   "source": [
    "Use the block below to generate the PSD graph and power in bands results (if selected). scale toggles which units to use for the graph:\n",
    "    \n",
    "    raw = s^2/Hz\n",
    "    db = dB/Hz = 10*log10(s^2/Hz)"
   ]
  },
  {
   "cell_type": "code",
   "execution_count": null,
   "metadata": {
    "collapsed": false
   },
   "outputs": [],
   "source": [
    "scale = 'raw' #raw or db\n",
    "Results = psd_signal(version = 'original', key = 'Mean1', scale = scale, \n",
    "                     Data = Data, Settings = Settings, Results = Results)\n",
    "Results['PSD-Signal']"
   ]
  },
  {
   "cell_type": "markdown",
   "metadata": {},
   "source": [
    "### Spectrogram (Optional)"
   ]
  },
  {
   "cell_type": "markdown",
   "metadata": {},
   "source": [
    "Use the block below to get the spectrogram of the signal. The frequency (y-axis) scales automatically to only show 'active' frequencies. This can take some time to run. \n",
    "\n",
    "    version = 'original'\n",
    "    key = 'Mean1'\n",
    "\n",
    "After transformation is run, you can call version = 'trans'."
   ]
  },
  {
   "cell_type": "code",
   "execution_count": null,
   "metadata": {
    "collapsed": false
   },
   "outputs": [],
   "source": [
    "version = 'original'\n",
    "key = 'Mean1'\n",
    "spectogram(version, key, Data, Settings, Results)"
   ]
  },
  {
   "cell_type": "markdown",
   "metadata": {},
   "source": [
    "## Transforming Data"
   ]
  },
  {
   "cell_type": "markdown",
   "metadata": {},
   "source": [
    "Must be done for each new uploaded data file.\n",
    "\n",
    "**WARNING:** If you do not load a settings file OR enter your own settings, the analysis will not run. There are no defaults. This section is not optional.\n",
    "\n",
    "https://github.com/drcgw/SWAN/wiki/Tutorial#transform-data"
   ]
  },
  {
   "cell_type": "markdown",
   "metadata": {},
   "source": [
    "### Load settings from a file"
   ]
  },
  {
   "cell_type": "markdown",
   "metadata": {},
   "source": [
    "Must be a previously outputed BASS settings file, although the name can be changed. Expected format is '.csv'. Enter the full file path and name.\n",
    "\n",
    "    Mac OSX Example: '/Users/MYNAME/Documents/rat34_Settings.csv'\n",
    "    Microsoft Example: 'C:\\\\Users\\MYNAME\\Documents\\rat34_Settings.csv'\n",
    "    \n",
    "See above instructions for how to load your data file.\n",
    "\n",
    "**Warning!!** You must load a settings file or specify your settings below. There are no defaults"
   ]
  },
  {
   "cell_type": "code",
   "execution_count": 10,
   "metadata": {
    "collapsed": false,
    "scrolled": true
   },
   "outputs": [
    {
     "name": "stdout",
     "output_type": "stream",
     "text": [
      "Full File path and file for the settings file: /Users/abigaildobyns/Desktop/rat34_Settings.csv\n"
     ]
    },
    {
     "data": {
      "text/html": [
       "<div style=\"max-height:1000px;max-width:1500px;overflow:auto;\">\n",
       "<table border=\"1\" class=\"dataframe\">\n",
       "  <thead>\n",
       "    <tr style=\"text-align: right;\">\n",
       "      <th></th>\n",
       "      <th>Value</th>\n",
       "    </tr>\n",
       "  </thead>\n",
       "  <tbody>\n",
       "    <tr>\n",
       "      <th>Absolute Value</th>\n",
       "      <td>True</td>\n",
       "    </tr>\n",
       "    <tr>\n",
       "      <th>Bandpass Highcut</th>\n",
       "      <td>none</td>\n",
       "    </tr>\n",
       "    <tr>\n",
       "      <th>Bandpass Lowcut</th>\n",
       "      <td>none</td>\n",
       "    </tr>\n",
       "    <tr>\n",
       "      <th>Bandpass Polynomial</th>\n",
       "      <td>none</td>\n",
       "    </tr>\n",
       "    <tr>\n",
       "      <th>Baseline Type</th>\n",
       "      <td>static</td>\n",
       "    </tr>\n",
       "    <tr>\n",
       "      <th>Burst Area</th>\n",
       "      <td>False</td>\n",
       "    </tr>\n",
       "    <tr>\n",
       "      <th>Delta</th>\n",
       "      <td>0.25</td>\n",
       "    </tr>\n",
       "    <tr>\n",
       "      <th>Exclude Edges</th>\n",
       "      <td>True</td>\n",
       "    </tr>\n",
       "    <tr>\n",
       "      <th>File Type</th>\n",
       "      <td>Plain</td>\n",
       "    </tr>\n",
       "    <tr>\n",
       "      <th>Generate Graphs</th>\n",
       "      <td>False</td>\n",
       "    </tr>\n",
       "    <tr>\n",
       "      <th>Graph LCpro events</th>\n",
       "      <td>False</td>\n",
       "    </tr>\n",
       "    <tr>\n",
       "      <th>Inter-event interval minimum (seconds)</th>\n",
       "      <td>0.01</td>\n",
       "    </tr>\n",
       "    <tr>\n",
       "      <th>Label</th>\n",
       "      <td>rat34_ECG.txt</td>\n",
       "    </tr>\n",
       "    <tr>\n",
       "      <th>Linear Fit</th>\n",
       "      <td>False</td>\n",
       "    </tr>\n",
       "    <tr>\n",
       "      <th>Linear Fit-Rolling R</th>\n",
       "      <td>0.75</td>\n",
       "    </tr>\n",
       "    <tr>\n",
       "      <th>Linear Fit-Rolling Window</th>\n",
       "      <td>1000</td>\n",
       "    </tr>\n",
       "    <tr>\n",
       "      <th>Maximum Burst Duration (s)</th>\n",
       "      <td>10</td>\n",
       "    </tr>\n",
       "    <tr>\n",
       "      <th>Milliseconds</th>\n",
       "      <td>False</td>\n",
       "    </tr>\n",
       "    <tr>\n",
       "      <th>Minimum Burst Duration (s)</th>\n",
       "      <td>0</td>\n",
       "    </tr>\n",
       "    <tr>\n",
       "      <th>Minimum Peak Number</th>\n",
       "      <td>1</td>\n",
       "    </tr>\n",
       "    <tr>\n",
       "      <th>Output Folder</th>\n",
       "      <td>/Users/abigaildobyns/Desktop/demo</td>\n",
       "    </tr>\n",
       "    <tr>\n",
       "      <th>Peak Maximum</th>\n",
       "      <td>inf</td>\n",
       "    </tr>\n",
       "    <tr>\n",
       "      <th>Peak Minimum</th>\n",
       "      <td>-inf</td>\n",
       "    </tr>\n",
       "    <tr>\n",
       "      <th>Relative Baseline</th>\n",
       "      <td>0</td>\n",
       "    </tr>\n",
       "    <tr>\n",
       "      <th>Rolling Baseline Window</th>\n",
       "      <td>none</td>\n",
       "    </tr>\n",
       "    <tr>\n",
       "      <th>Sample Rate (s/frame)</th>\n",
       "      <td>0.00025</td>\n",
       "    </tr>\n",
       "    <tr>\n",
       "      <th>Savitzky-Golay Polynomial</th>\n",
       "      <td>4</td>\n",
       "    </tr>\n",
       "    <tr>\n",
       "      <th>Savitzky-Golay Window Size</th>\n",
       "      <td>251</td>\n",
       "    </tr>\n",
       "    <tr>\n",
       "      <th>Settings File</th>\n",
       "      <td>/Users/abigaildobyns/Desktop/rat34_Settings.csv</td>\n",
       "    </tr>\n",
       "    <tr>\n",
       "      <th>Threshold</th>\n",
       "      <td>0.15</td>\n",
       "    </tr>\n",
       "    <tr>\n",
       "      <th>folder</th>\n",
       "      <td>/Users/abigaildobyns/Desktop</td>\n",
       "    </tr>\n",
       "    <tr>\n",
       "      <th>plots folder</th>\n",
       "      <td>/Users/abigaildobyns/Desktop/demo/plots</td>\n",
       "    </tr>\n",
       "  </tbody>\n",
       "</table>\n",
       "</div>"
      ],
      "text/plain": [
       "                                                                                  Value\n",
       "Absolute Value                                                                     True\n",
       "Bandpass Highcut                                                                   none\n",
       "Bandpass Lowcut                                                                    none\n",
       "Bandpass Polynomial                                                                none\n",
       "Baseline Type                                                                    static\n",
       "Burst Area                                                                        False\n",
       "Delta                                                                              0.25\n",
       "Exclude Edges                                                                      True\n",
       "File Type                                                                         Plain\n",
       "Generate Graphs                                                                   False\n",
       "Graph LCpro events                                                                False\n",
       "Inter-event interval minimum (seconds)                                             0.01\n",
       "Label                                                                     rat34_ECG.txt\n",
       "Linear Fit                                                                        False\n",
       "Linear Fit-Rolling R                                                               0.75\n",
       "Linear Fit-Rolling Window                                                          1000\n",
       "Maximum Burst Duration (s)                                                           10\n",
       "Milliseconds                                                                      False\n",
       "Minimum Burst Duration (s)                                                            0\n",
       "Minimum Peak Number                                                                   1\n",
       "Output Folder                                         /Users/abigaildobyns/Desktop/demo\n",
       "Peak Maximum                                                                        inf\n",
       "Peak Minimum                                                                       -inf\n",
       "Relative Baseline                                                                     0\n",
       "Rolling Baseline Window                                                            none\n",
       "Sample Rate (s/frame)                                                           0.00025\n",
       "Savitzky-Golay Polynomial                                                             4\n",
       "Savitzky-Golay Window Size                                                          251\n",
       "Settings File                           /Users/abigaildobyns/Desktop/rat34_Settings.csv\n",
       "Threshold                                                                          0.15\n",
       "folder                                                     /Users/abigaildobyns/Desktop\n",
       "plots folder                                    /Users/abigaildobyns/Desktop/demo/plots"
      ]
     },
     "execution_count": 10,
     "metadata": {},
     "output_type": "execute_result"
    }
   ],
   "source": [
    "Settings = load_settings_interact(Settings)\n",
    "Settings_display = display_settings(Settings)\n",
    "Settings_display"
   ]
  },
  {
   "cell_type": "markdown",
   "metadata": {},
   "source": [
    "### Enter your settings for data transformation"
   ]
  },
  {
   "cell_type": "markdown",
   "metadata": {},
   "source": [
    "**WARNING:** If you do not load a settings file OR enter your own settings, the analysis will not run. There are no defaults. This section is not optional.\n",
    "\n",
    "Enter the parameters of the functions you would like to use to transform your data. \n",
    "If you do not want to use a function, enter 'none'\n",
    "\n",
    "For more help on settings:\n",
    "\n",
    "https://github.com/drcgw/SWAN/wiki/Tutorial#transform-data\n",
    "\n",
    "https://github.com/drcgw/SWAN/wiki/Transformation-Settings"
   ]
  },
  {
   "cell_type": "code",
   "execution_count": null,
   "metadata": {
    "collapsed": false
   },
   "outputs": [],
   "source": [
    "Settings = user_input_trans(Settings)"
   ]
  },
  {
   "cell_type": "markdown",
   "metadata": {},
   "source": [
    "### Run data transformation"
   ]
  },
  {
   "cell_type": "code",
   "execution_count": 11,
   "metadata": {
    "collapsed": false
   },
   "outputs": [],
   "source": [
    "Data, Settings = transform_wrapper(Data, Settings)\n",
    "graph_ts(Data, Settings, Results)"
   ]
  },
  {
   "cell_type": "markdown",
   "metadata": {},
   "source": [
    "## Set Baseline for Thresholding"
   ]
  },
  {
   "cell_type": "markdown",
   "metadata": {},
   "source": [
    "**WARNING** If you do not load a settings file OR enter your own settings, the analysis will not run. There are no defaults. This section is not optional.\n",
    "\n",
    "https://github.com/drcgw/SWAN/wiki/Tutorial#set-baseline-for-thresholding"
   ]
  },
  {
   "cell_type": "markdown",
   "metadata": {},
   "source": [
    "### Choose either linear or rolling baseline."
   ]
  },
  {
   "cell_type": "markdown",
   "metadata": {},
   "source": [
    "**Linear** - takes a user specified time segment as a good representation of baseline. If the superstructure is linear but has a slope, use linear fit in the transformation to still use linear. Linear automatically shifts your data by the ammount of your baseline normalize the baseline to zero.\n",
    "\n",
    "**Rolling** - rolling mean of the data is generated based on a moving window. User provides the window size in miliseconds. there is no shift in the data with this method.\n",
    "\n",
    "**Static** - Skips baseline generatoin and allows you to choose an arbitrary y value for threshold. No Shift in the data."
   ]
  },
  {
   "cell_type": "code",
   "execution_count": null,
   "metadata": {
    "collapsed": false
   },
   "outputs": [],
   "source": [
    "Settings = user_input_base(Settings)"
   ]
  },
  {
   "cell_type": "markdown",
   "metadata": {},
   "source": [
    "### Run baseline"
   ]
  },
  {
   "cell_type": "code",
   "execution_count": 12,
   "metadata": {
    "collapsed": false
   },
   "outputs": [],
   "source": [
    "Data, Settings, Results = baseline_wrapper(Data, Settings, Results)\n",
    "graph_ts(Data, Settings, Results)"
   ]
  },
  {
   "cell_type": "markdown",
   "metadata": {},
   "source": [
    "## Display Settings (Optional)"
   ]
  },
  {
   "cell_type": "markdown",
   "metadata": {},
   "source": [
    "Optional block. Run this at any time to check what your settings are. If it does not appear, it has not been set yet.\n",
    "\n",
    "https://github.com/drcgw/SWAN/wiki/Tutorial#display-settings"
   ]
  },
  {
   "cell_type": "code",
   "execution_count": null,
   "metadata": {
    "collapsed": false
   },
   "outputs": [],
   "source": [
    "Settings_display = display_settings(Settings)\n",
    "Settings_display"
   ]
  },
  {
   "cell_type": "markdown",
   "metadata": {},
   "source": [
    "# Event Detection"
   ]
  },
  {
   "cell_type": "markdown",
   "metadata": {},
   "source": [
    "## Peaks"
   ]
  },
  {
   "cell_type": "markdown",
   "metadata": {},
   "source": [
    "https://github.com/drcgw/SWAN/wiki/Tutorial#peaks"
   ]
  },
  {
   "cell_type": "markdown",
   "metadata": {},
   "source": [
    "### Enter Delta value"
   ]
  },
  {
   "cell_type": "markdown",
   "metadata": {},
   "source": [
    "Run the Following Block of code to enter or change peak detection settings. If you have loaded settings from a previous file, you do not need to run this block."
   ]
  },
  {
   "cell_type": "code",
   "execution_count": null,
   "metadata": {
    "collapsed": false
   },
   "outputs": [],
   "source": [
    "Settings = event_peakdet_settings(Data, Settings)"
   ]
  },
  {
   "cell_type": "markdown",
   "metadata": {},
   "source": [
    "### Run Event Peak Detection"
   ]
  },
  {
   "cell_type": "markdown",
   "metadata": {},
   "source": [
    "Run block of code below to run peak deteaction. This block will print a summary table of the all available peak measurments. "
   ]
  },
  {
   "cell_type": "code",
   "execution_count": 13,
   "metadata": {
    "collapsed": false
   },
   "outputs": [
    {
     "data": {
      "text/html": [
       "<div style=\"max-height:1000px;max-width:1500px;overflow:auto;\">\n",
       "<table border=\"1\" class=\"dataframe\">\n",
       "  <thead>\n",
       "    <tr style=\"text-align: right;\">\n",
       "      <th></th>\n",
       "      <th></th>\n",
       "      <th>Peaks Amplitude</th>\n",
       "      <th>Intervals</th>\n",
       "    </tr>\n",
       "  </thead>\n",
       "  <tbody>\n",
       "    <tr>\n",
       "      <th rowspan=\"8\" valign=\"top\">Mean1</th>\n",
       "      <th>count</th>\n",
       "      <td>3224.000000</td>\n",
       "      <td>3223.000000</td>\n",
       "    </tr>\n",
       "    <tr>\n",
       "      <th>mean</th>\n",
       "      <td>0.514326</td>\n",
       "      <td>0.188253</td>\n",
       "    </tr>\n",
       "    <tr>\n",
       "      <th>std</th>\n",
       "      <td>0.047384</td>\n",
       "      <td>0.007427</td>\n",
       "    </tr>\n",
       "    <tr>\n",
       "      <th>min</th>\n",
       "      <td>0.403260</td>\n",
       "      <td>0.170000</td>\n",
       "    </tr>\n",
       "    <tr>\n",
       "      <th>25%</th>\n",
       "      <td>0.468488</td>\n",
       "      <td>0.183250</td>\n",
       "    </tr>\n",
       "    <tr>\n",
       "      <th>50%</th>\n",
       "      <td>0.526320</td>\n",
       "      <td>0.188500</td>\n",
       "    </tr>\n",
       "    <tr>\n",
       "      <th>75%</th>\n",
       "      <td>0.550066</td>\n",
       "      <td>0.194250</td>\n",
       "    </tr>\n",
       "    <tr>\n",
       "      <th>max</th>\n",
       "      <td>0.633748</td>\n",
       "      <td>0.202500</td>\n",
       "    </tr>\n",
       "  </tbody>\n",
       "</table>\n",
       "</div>"
      ],
      "text/plain": [
       "             Peaks Amplitude    Intervals\n",
       "Mean1 count      3224.000000  3223.000000\n",
       "      mean          0.514326     0.188253\n",
       "      std           0.047384     0.007427\n",
       "      min           0.403260     0.170000\n",
       "      25%           0.468488     0.183250\n",
       "      50%           0.526320     0.188500\n",
       "      75%           0.550066     0.194250\n",
       "      max           0.633748     0.202500"
      ]
     },
     "execution_count": 13,
     "metadata": {},
     "output_type": "execute_result"
    }
   ],
   "source": [
    "Results = event_peakdet_wrapper(Data, Settings, Results)\n",
    "Results['Peaks-Master'].groupby(level=0).describe()"
   ]
  },
  {
   "cell_type": "markdown",
   "metadata": {},
   "source": [
    "### Plot Events (Optional)"
   ]
  },
  {
   "cell_type": "markdown",
   "metadata": {},
   "source": [
    "Use the block below to visualize event detection. Peaks are blue triangles. Valleys are pink triangles."
   ]
  },
  {
   "cell_type": "code",
   "execution_count": null,
   "metadata": {
    "collapsed": false
   },
   "outputs": [],
   "source": [
    "graph_ts(Data, Settings, Results)"
   ]
  },
  {
   "cell_type": "markdown",
   "metadata": {},
   "source": [
    "## Bursts"
   ]
  },
  {
   "cell_type": "markdown",
   "metadata": {},
   "source": [
    "https://github.com/drcgw/SWAN/wiki/Tutorial#bursts"
   ]
  },
  {
   "cell_type": "markdown",
   "metadata": {},
   "source": [
    "### Enter Burst Settings"
   ]
  },
  {
   "cell_type": "markdown",
   "metadata": {},
   "source": [
    "Run the Following Block of code to enter or change burst detection settings. If you have loaded settings from a previous file, you do not need to run this block."
   ]
  },
  {
   "cell_type": "code",
   "execution_count": null,
   "metadata": {
    "collapsed": false
   },
   "outputs": [],
   "source": [
    "Settings = event_burstdet_settings(Data, Settings, Results)"
   ]
  },
  {
   "cell_type": "markdown",
   "metadata": {},
   "source": [
    "### Run Event Burst Detection"
   ]
  },
  {
   "cell_type": "markdown",
   "metadata": {},
   "source": [
    "Run block of code below to run burst deteaction. \n",
    "\n",
    "This block will print a summary table of all available burst measurements."
   ]
  },
  {
   "cell_type": "code",
   "execution_count": 14,
   "metadata": {
    "collapsed": false
   },
   "outputs": [
    {
     "data": {
      "text/html": [
       "<div style=\"max-height:1000px;max-width:1500px;overflow:auto;\">\n",
       "<table border=\"1\" class=\"dataframe\">\n",
       "  <thead>\n",
       "    <tr style=\"text-align: right;\">\n",
       "      <th></th>\n",
       "      <th></th>\n",
       "      <th>Burst Start</th>\n",
       "      <th>Burst End</th>\n",
       "      <th>Burst Duration</th>\n",
       "      <th>Edge Event</th>\n",
       "      <th>Interburst Interval</th>\n",
       "      <th>Total Cycle Time</th>\n",
       "      <th>Peaks per Burst</th>\n",
       "      <th>Peak Amp</th>\n",
       "      <th>Peak Time</th>\n",
       "      <th>Attack</th>\n",
       "      <th>Decay</th>\n",
       "      <th>Intraburst Frequency</th>\n",
       "    </tr>\n",
       "  </thead>\n",
       "  <tbody>\n",
       "    <tr>\n",
       "      <th rowspan=\"8\" valign=\"top\">Mean1</th>\n",
       "      <th>count</th>\n",
       "      <td>3224.000000</td>\n",
       "      <td>3224.000000</td>\n",
       "      <td>3224.000000</td>\n",
       "      <td>3224</td>\n",
       "      <td>3223.000000</td>\n",
       "      <td>3223.000000</td>\n",
       "      <td>3224</td>\n",
       "      <td>3224.000000</td>\n",
       "      <td>3224.000000</td>\n",
       "      <td>3224.000000</td>\n",
       "      <td>3224.000000</td>\n",
       "      <td>3224.000000</td>\n",
       "    </tr>\n",
       "    <tr>\n",
       "      <th>mean</th>\n",
       "      <td>297.234606</td>\n",
       "      <td>297.264828</td>\n",
       "      <td>0.030222</td>\n",
       "      <td>0</td>\n",
       "      <td>0.158032</td>\n",
       "      <td>0.188253</td>\n",
       "      <td>1</td>\n",
       "      <td>0.514326</td>\n",
       "      <td>297.249564</td>\n",
       "      <td>0.014957</td>\n",
       "      <td>0.015265</td>\n",
       "      <td>33.165306</td>\n",
       "    </tr>\n",
       "    <tr>\n",
       "      <th>std</th>\n",
       "      <td>176.070115</td>\n",
       "      <td>176.070941</td>\n",
       "      <td>0.001450</td>\n",
       "      <td>0</td>\n",
       "      <td>0.006746</td>\n",
       "      <td>0.007453</td>\n",
       "      <td>0</td>\n",
       "      <td>0.047384</td>\n",
       "      <td>176.070538</td>\n",
       "      <td>0.000890</td>\n",
       "      <td>0.000722</td>\n",
       "      <td>1.604423</td>\n",
       "    </tr>\n",
       "    <tr>\n",
       "      <th>min</th>\n",
       "      <td>0.120250</td>\n",
       "      <td>0.148250</td>\n",
       "      <td>0.026500</td>\n",
       "      <td>False</td>\n",
       "      <td>0.142000</td>\n",
       "      <td>0.170000</td>\n",
       "      <td>1</td>\n",
       "      <td>0.403260</td>\n",
       "      <td>0.134250</td>\n",
       "      <td>0.013250</td>\n",
       "      <td>0.013250</td>\n",
       "      <td>29.850746</td>\n",
       "    </tr>\n",
       "    <tr>\n",
       "      <th>25%</th>\n",
       "      <td>143.869000</td>\n",
       "      <td>143.897875</td>\n",
       "      <td>0.029250</td>\n",
       "      <td>0</td>\n",
       "      <td>0.154000</td>\n",
       "      <td>0.183000</td>\n",
       "      <td>1</td>\n",
       "      <td>0.468488</td>\n",
       "      <td>143.883188</td>\n",
       "      <td>0.014250</td>\n",
       "      <td>0.014750</td>\n",
       "      <td>32.000000</td>\n",
       "    </tr>\n",
       "    <tr>\n",
       "      <th>50%</th>\n",
       "      <td>293.386625</td>\n",
       "      <td>293.416750</td>\n",
       "      <td>0.030250</td>\n",
       "      <td>0</td>\n",
       "      <td>0.157750</td>\n",
       "      <td>0.188500</td>\n",
       "      <td>1</td>\n",
       "      <td>0.526320</td>\n",
       "      <td>293.401375</td>\n",
       "      <td>0.014750</td>\n",
       "      <td>0.015250</td>\n",
       "      <td>33.057851</td>\n",
       "    </tr>\n",
       "    <tr>\n",
       "      <th>75%</th>\n",
       "      <td>449.120875</td>\n",
       "      <td>449.153063</td>\n",
       "      <td>0.031250</td>\n",
       "      <td>0</td>\n",
       "      <td>0.162750</td>\n",
       "      <td>0.194250</td>\n",
       "      <td>1</td>\n",
       "      <td>0.550066</td>\n",
       "      <td>449.137187</td>\n",
       "      <td>0.015500</td>\n",
       "      <td>0.015750</td>\n",
       "      <td>34.188034</td>\n",
       "    </tr>\n",
       "    <tr>\n",
       "      <th>max</th>\n",
       "      <td>606.860500</td>\n",
       "      <td>606.893000</td>\n",
       "      <td>0.033500</td>\n",
       "      <td>False</td>\n",
       "      <td>0.171750</td>\n",
       "      <td>0.202000</td>\n",
       "      <td>1</td>\n",
       "      <td>0.633748</td>\n",
       "      <td>606.875000</td>\n",
       "      <td>0.017250</td>\n",
       "      <td>0.018000</td>\n",
       "      <td>37.735849</td>\n",
       "    </tr>\n",
       "  </tbody>\n",
       "</table>\n",
       "</div>"
      ],
      "text/plain": [
       "             Burst Start    Burst End  Burst Duration Edge Event  \\\n",
       "Mean1 count  3224.000000  3224.000000     3224.000000       3224   \n",
       "      mean    297.234606   297.264828        0.030222          0   \n",
       "      std     176.070115   176.070941        0.001450          0   \n",
       "      min       0.120250     0.148250        0.026500      False   \n",
       "      25%     143.869000   143.897875        0.029250          0   \n",
       "      50%     293.386625   293.416750        0.030250          0   \n",
       "      75%     449.120875   449.153063        0.031250          0   \n",
       "      max     606.860500   606.893000        0.033500      False   \n",
       "\n",
       "             Interburst Interval  Total Cycle Time  Peaks per Burst  \\\n",
       "Mean1 count          3223.000000       3223.000000             3224   \n",
       "      mean              0.158032          0.188253                1   \n",
       "      std               0.006746          0.007453                0   \n",
       "      min               0.142000          0.170000                1   \n",
       "      25%               0.154000          0.183000                1   \n",
       "      50%               0.157750          0.188500                1   \n",
       "      75%               0.162750          0.194250                1   \n",
       "      max               0.171750          0.202000                1   \n",
       "\n",
       "                Peak Amp    Peak Time       Attack        Decay  \\\n",
       "Mean1 count  3224.000000  3224.000000  3224.000000  3224.000000   \n",
       "      mean      0.514326   297.249564     0.014957     0.015265   \n",
       "      std       0.047384   176.070538     0.000890     0.000722   \n",
       "      min       0.403260     0.134250     0.013250     0.013250   \n",
       "      25%       0.468488   143.883188     0.014250     0.014750   \n",
       "      50%       0.526320   293.401375     0.014750     0.015250   \n",
       "      75%       0.550066   449.137187     0.015500     0.015750   \n",
       "      max       0.633748   606.875000     0.017250     0.018000   \n",
       "\n",
       "             Intraburst Frequency  \n",
       "Mean1 count           3224.000000  \n",
       "      mean              33.165306  \n",
       "      std                1.604423  \n",
       "      min               29.850746  \n",
       "      25%               32.000000  \n",
       "      50%               33.057851  \n",
       "      75%               34.188034  \n",
       "      max               37.735849  "
      ]
     },
     "execution_count": 14,
     "metadata": {},
     "output_type": "execute_result"
    }
   ],
   "source": [
    "Results = event_burstdet_wrapper(Data, Settings, Results)\n",
    "Results['Bursts-Master'].groupby(level=0).describe()"
   ]
  },
  {
   "cell_type": "markdown",
   "metadata": {},
   "source": [
    "### Plot Events (Optional)"
   ]
  },
  {
   "cell_type": "markdown",
   "metadata": {},
   "source": [
    "Call a column of data by its key (column name). Default name for one column of data is 'Mean1'"
   ]
  },
  {
   "cell_type": "code",
   "execution_count": null,
   "metadata": {
    "collapsed": false
   },
   "outputs": [],
   "source": [
    "roi = 'Mean1'\n",
    "graph_ts(Data, Settings, Results, roi)"
   ]
  },
  {
   "cell_type": "markdown",
   "metadata": {},
   "source": [
    "## Save all files and settings"
   ]
  },
  {
   "cell_type": "markdown",
   "metadata": {},
   "source": [
    "https://github.com/drcgw/SWAN/wiki/Tutorial#save-all-files-and-settings"
   ]
  },
  {
   "cell_type": "code",
   "execution_count": 15,
   "metadata": {
    "collapsed": false
   },
   "outputs": [
    {
     "name": "stdout",
     "output_type": "stream",
     "text": [
      "All results saved to:  /Users/abigaildobyns/Desktop/demo\n",
      "Thank you for chosing BASS.py for all your basic analysis needs. Proceed for graphs and advanced analysis.\n",
      "Analysis Complete\n",
      "\n",
      "--------------------------------------------\n",
      "Data Column Names/Keys\n",
      "-----\n",
      "Mean1\n",
      "\n",
      "--------------------------------------------\n",
      "Available Measurements from Peaks for further analysis:\n",
      "-----\n",
      "Peaks Amplitude\n",
      "Intervals\n",
      "\n",
      "--------------------------------------------\n",
      "Available Measurements from Bursts for further analysis:\n",
      "-----\n",
      "Burst Start\n",
      "Burst End\n",
      "Burst Duration\n",
      "Edge Event\n",
      "Interburst Interval\n",
      "Total Cycle Time\n",
      "Peaks per Burst\n",
      "Peak Amp\n",
      "Peak Time\n",
      "Attack\n",
      "Decay\n",
      "Intraburst Frequency\n",
      "\n",
      "---------------------------\n",
      "|Event Detection Complete!|\n",
      "---------------------------\n"
     ]
    }
   ],
   "source": [
    "Save_Results(Data, Settings, Results)"
   ]
  },
  {
   "cell_type": "markdown",
   "metadata": {},
   "source": [
    "# Event Analysis"
   ]
  },
  {
   "cell_type": "markdown",
   "metadata": {},
   "source": [
    "Now that events are detected, you can analyze them using any of the optional blocks below. "
   ]
  },
  {
   "cell_type": "markdown",
   "metadata": {},
   "source": [
    "# Display Tables"
   ]
  },
  {
   "cell_type": "markdown",
   "metadata": {},
   "source": [
    "### Display Summary Results for Peaks"
   ]
  },
  {
   "cell_type": "code",
   "execution_count": null,
   "metadata": {
    "collapsed": false
   },
   "outputs": [],
   "source": [
    "#grouped summary for peaks\n",
    "Results['Peaks-Master'].groupby(level=0).describe()"
   ]
  },
  {
   "cell_type": "markdown",
   "metadata": {},
   "source": [
    "### Display Summary Results for Peaks"
   ]
  },
  {
   "cell_type": "code",
   "execution_count": null,
   "metadata": {
    "collapsed": false
   },
   "outputs": [],
   "source": [
    "#grouped summary for bursts\n",
    "Results['Bursts-Master'].groupby(level=0).describe()"
   ]
  },
  {
   "cell_type": "markdown",
   "metadata": {},
   "source": [
    "## Results Plots"
   ]
  },
  {
   "cell_type": "markdown",
   "metadata": {},
   "source": [
    "### Poincare Plots"
   ]
  },
  {
   "cell_type": "markdown",
   "metadata": {},
   "source": [
    "Create a Poincare Plot of your favorite varible. Choose an event type (Peaks or Bursts), measurement type, and key. Make sure that whichever varible you chose is only composed of numbers (No NaN or missing values). Calling meas = 'All' not currently supported.\n",
    "\n",
    "Plots are saved by clicking the save button in the pop-up window with your graph. SD1 and SD2 values are not saved automatically.\n",
    "\n",
    "Example:\n",
    "\n",
    "    event_type = 'Bursts'\n",
    "    meas = 'Burst Duration'\n",
    "    key = 'Mean1'\n",
    "\n",
    "https://github.com/drcgw/SWAN/wiki/Tutorial#poincare-plots"
   ]
  },
  {
   "cell_type": "code",
   "execution_count": null,
   "metadata": {
    "collapsed": false
   },
   "outputs": [],
   "source": [
    "#quick\n",
    "event_type = 'Bursts'\n",
    "meas = 'Burst Duration'\n",
    "key = 'Mean1'\n",
    "poincare_plot(Results[event_type][key][meas])"
   ]
  },
  {
   "cell_type": "markdown",
   "metadata": {},
   "source": [
    "### Line Plots"
   ]
  },
  {
   "cell_type": "markdown",
   "metadata": {},
   "source": [
    "Create line plots of the raw data as well as the data analysis. \n",
    "\n",
    "Plots are saved by clicking the save button in the pop-up window with your graph.\n",
    "\n",
    "    key = 'Mean1'\n",
    "    start =100 \n",
    "    end= 101\n",
    "\n",
    "https://github.com/drcgw/SWAN/wiki/Tutorial#line-plots"
   ]
  },
  {
   "cell_type": "code",
   "execution_count": null,
   "metadata": {
    "collapsed": false
   },
   "outputs": [],
   "source": [
    "key = 'Mean1'\n",
    "start =100 #start time in seconds\n",
    "end= 101#end time in seconds\n",
    "results_timeseries_plot(key, start, end, Data, Settings, Results)"
   ]
  },
  {
   "cell_type": "markdown",
   "metadata": {},
   "source": [
    "### Autocorrelation Plot"
   ]
  },
  {
   "cell_type": "markdown",
   "metadata": {},
   "source": [
    "Display the Autocorrelation plot of your transformed data.\n",
    "\n",
    "Choose the start and end time in seconds. May be slow\n",
    "\n",
    "    key = 'Mean1'\n",
    "    start = 0 \n",
    "    end = 10"
   ]
  },
  {
   "cell_type": "code",
   "execution_count": null,
   "metadata": {
    "collapsed": false
   },
   "outputs": [],
   "source": [
    "#autocorrelation\n",
    "key = 'Mean1'\n",
    "start = 0 #seconds, where you want the slice to begin\n",
    "end = 10 #seconds, where you want the slice to end. The absolute end is -1\n",
    "autocorrelation_plot(Data['trans'][key][start:end])\n",
    "plt.show()"
   ]
  },
  {
   "cell_type": "markdown",
   "metadata": {},
   "source": [
    "### Frequency Plot"
   ]
  },
  {
   "cell_type": "markdown",
   "metadata": {},
   "source": [
    "Use this block to plot changes of any measurement over time. Does not support 'all'. Example:\n",
    "\n",
    "    event_type = 'Peaks'\n",
    "    meas = 'Intervals'\n",
    "    key = 'Mean1'\n",
    "https://github.com/drcgw/SWAN/wiki/Tutorial#frequency-plot"
   ]
  },
  {
   "cell_type": "code",
   "execution_count": null,
   "metadata": {
    "collapsed": false
   },
   "outputs": [],
   "source": [
    "event_type = 'Peaks'\n",
    "meas = 'Intervals'\n",
    "key = 'Mean1' #'Mean1' default for single wave\n",
    "frequency_plot(event_type, meas, key, Data, Settings, Results)"
   ]
  },
  {
   "cell_type": "markdown",
   "metadata": {},
   "source": [
    "# Power Spectral Density"
   ]
  },
  {
   "cell_type": "markdown",
   "metadata": {},
   "source": [
    "The following blocks allows you to asses the power of event measuments in the frequency domain. While you can call this block on any event measurement, it is intended to be used on interval data (or at least data with units in seconds). Reccomended:\n",
    "\n",
    "    event_type = 'Bursts'\n",
    "    meas = 'Total Cycle Time'\n",
    "    key = 'Mean1'\n",
    "    \n",
    "    event_type = 'Peaks'\n",
    "    meas = 'Intervals'\n",
    "    key = 'Mean1'\n",
    "\n",
    "Because this data is in the frequency domain, we must interpolate it in order to perform a FFT on it. Does not support 'all'.\n",
    "https://github.com/drcgw/SWAN/wiki/Tutorial#power-spectral-density"
   ]
  },
  {
   "cell_type": "markdown",
   "metadata": {},
   "source": [
    "## Settings"
   ]
  },
  {
   "cell_type": "markdown",
   "metadata": {},
   "source": [
    "Use the code block below to specify your settings for event measurment PSD."
   ]
  },
  {
   "cell_type": "code",
   "execution_count": 16,
   "metadata": {
    "collapsed": false
   },
   "outputs": [],
   "source": [
    "Settings['PSD-Event'] = Series(index = ['Hz','ULF', 'VLF', 'LF','HF','dx'])\n",
    "#Set PSD ranges for power in band\n",
    "\n",
    "Settings['PSD-Event']['hz'] = 4.0 #freqency that the interpolation and PSD are performed with.\n",
    "Settings['PSD-Event']['ULF'] = 0.03 #max of the range of the ultra low freq band. range is 0:ulf\n",
    "Settings['PSD-Event']['VLF'] = 0.05 #max of the range of the very low freq band. range is ulf:vlf\n",
    "Settings['PSD-Event']['LF'] = 0.15 #max of the range of the low freq band. range is vlf:lf\n",
    "Settings['PSD-Event']['HF'] = 0.4 #max of the range of the high freq band. range is lf:hf. hf can be no more than (hz/2)\n",
    "Settings['PSD-Event']['dx'] = 10 #segmentation for the area under the curve. "
   ]
  },
  {
   "cell_type": "markdown",
   "metadata": {},
   "source": [
    "## Event PSD"
   ]
  },
  {
   "cell_type": "markdown",
   "metadata": {},
   "source": [
    "Use block below to return the PSD plot, as well as the power in the bands defined by the settings above."
   ]
  },
  {
   "cell_type": "code",
   "execution_count": 18,
   "metadata": {
    "collapsed": false
   },
   "outputs": [
    {
     "data": {
      "text/html": [
       "<div style=\"max-height:1000px;max-width:1500px;overflow:auto;\">\n",
       "<table border=\"1\" class=\"dataframe\">\n",
       "  <thead>\n",
       "    <tr style=\"text-align: right;\">\n",
       "      <th></th>\n",
       "      <th>Total Cycle Time</th>\n",
       "    </tr>\n",
       "  </thead>\n",
       "  <tbody>\n",
       "    <tr>\n",
       "      <th>ULF</th>\n",
       "      <td>5.956173e-08</td>\n",
       "    </tr>\n",
       "    <tr>\n",
       "      <th>VLF</th>\n",
       "      <td>3.223922e-08</td>\n",
       "    </tr>\n",
       "    <tr>\n",
       "      <th>LF</th>\n",
       "      <td>4.801727e-09</td>\n",
       "    </tr>\n",
       "    <tr>\n",
       "      <th>HF</th>\n",
       "      <td>1.908242e-08</td>\n",
       "    </tr>\n",
       "    <tr>\n",
       "      <th>LF/HF</th>\n",
       "      <td>0.2516309</td>\n",
       "    </tr>\n",
       "    <tr>\n",
       "      <th>Scale</th>\n",
       "      <td>s^2/Hz</td>\n",
       "    </tr>\n",
       "  </tbody>\n",
       "</table>\n",
       "</div>"
      ],
      "text/plain": [
       "      Total Cycle Time\n",
       "ULF       5.956173e-08\n",
       "VLF       3.223922e-08\n",
       "LF        4.801727e-09\n",
       "HF        1.908242e-08\n",
       "LF/HF        0.2516309\n",
       "Scale           s^2/Hz"
      ]
     },
     "execution_count": 18,
     "metadata": {},
     "output_type": "execute_result"
    }
   ],
   "source": [
    "event_type = 'Bursts'\n",
    "meas = 'Total Cycle Time'\n",
    "key = 'Mean1'\n",
    "scale = 'raw'\n",
    "Results = psd_event(event_type, meas, key, scale, Data, Settings, Results)\n",
    "Results['PSD-Event'][key]"
   ]
  },
  {
   "cell_type": "markdown",
   "metadata": {},
   "source": [
    "## Analyze Events by Measurement"
   ]
  },
  {
   "cell_type": "markdown",
   "metadata": {},
   "source": [
    "Generates a line plot with error bars for a given event measurement. X axis is the names of each time series. Display Only. Intended for more than one column of data.\n",
    "\n",
    "    event_type = 'peaks'\n",
    "    meas = 'Peaks Amplitude'"
   ]
  },
  {
   "cell_type": "code",
   "execution_count": null,
   "metadata": {
    "collapsed": false
   },
   "outputs": [],
   "source": [
    "#Get average plots, display only\n",
    "event_type = 'peaks'\n",
    "meas = 'Peaks Amplitude'\n",
    "average_measurement_plot(event_type, meas,Results)"
   ]
  },
  {
   "cell_type": "markdown",
   "metadata": {},
   "source": [
    "## Moving/Sliding Averages, Standard Deviation, and Count"
   ]
  },
  {
   "cell_type": "markdown",
   "metadata": {},
   "source": [
    "Generates the moving **mean**, **standard deviation**, and **count** for a given measurement across all columns of the Data in the form of a DataFrame (displayed as a table).\n",
    "Saves out the dataframes of these three results automatically with the window size in the name as a .csv.\n",
    "If **meas == 'All'**, then the function will loop and produce these tables for all measurements.\n",
    "\n",
    "    event_type = 'Peaks'\n",
    "    meas = 'all'\n",
    "    window = 30"
   ]
  },
  {
   "cell_type": "code",
   "execution_count": null,
   "metadata": {
    "collapsed": false
   },
   "outputs": [],
   "source": [
    "#Moving Stats\n",
    "event_type = 'Peaks'\n",
    "meas = 'all'\n",
    "window = 30 #seconds\n",
    "Results = moving_statistics(event_type, meas, window, Data, Settings, Results)"
   ]
  },
  {
   "cell_type": "markdown",
   "metadata": {},
   "source": [
    "# HistEntropy"
   ]
  },
  {
   "cell_type": "markdown",
   "metadata": {},
   "source": [
    "Calculates the histogram entropy of a measurement for each column of data. Also saves the histogram of each. If meas is set to 'all', then all available measurements from the event_type chosen will be calculated iteratevely. \n",
    "\n",
    "If all of the samples fall in one bin regardless of the bin size, it means we have the most predictable sitution and the entropy is 0. If we have uniformly dist function, the max entropy will be 1\n",
    "\n",
    "    event_type = 'Bursts'\n",
    "    meas = 'all'\n",
    "\n",
    "https://github.com/drcgw/SWAN/wiki/Tutorial#histentropy"
   ]
  },
  {
   "cell_type": "code",
   "execution_count": null,
   "metadata": {
    "collapsed": false
   },
   "outputs": [],
   "source": [
    "#Histogram Entropy\n",
    "event_type = 'Bursts'\n",
    "meas = 'all'\n",
    "Results = histent_wrapper(event_type, meas, Data, Settings, Results)\n",
    "Results['Histogram Entropy']"
   ]
  },
  {
   "cell_type": "markdown",
   "metadata": {},
   "source": [
    "# STOP HERE"
   ]
  },
  {
   "cell_type": "markdown",
   "metadata": {},
   "source": [
    "You can run another file be going back the the **Begin User Input** section and chose another file path."
   ]
  },
  {
   "cell_type": "markdown",
   "metadata": {},
   "source": [
    "# Advanced user options"
   ]
  },
  {
   "cell_type": "markdown",
   "metadata": {},
   "source": [
    "## Approximate entropy"
   ]
  },
  {
   "cell_type": "markdown",
   "metadata": {},
   "source": [
    "this only runs if you have pyeeg.py in the same folder as this notebook and bass.py. **WARNING: THIS FUNCTION RUNS SLOWLY**\n",
    "\n",
    "run the below code to get the approximate entropy of any measurement or raw signal. Returns the entropy of the entire results array (no windowing). I am using the following M and R values:\n",
    "\n",
    "    M = 2  \n",
    "    R = 0.2*std(measurement)\n",
    "    \n",
    "these values can be modified in the source code. alternatively, you can call ap_entropy directly. supports 'all'\n",
    "\n",
    "**Interpretation**: A time series containing many repetitive patterns has a relatively small ApEn; a less predictable process has a higher ApEn.\n",
    "\n",
    "https://github.com/drcgw/SWAN/wiki/Tutorial#approximate-entropy"
   ]
  },
  {
   "cell_type": "markdown",
   "metadata": {},
   "source": [
    "### Events"
   ]
  },
  {
   "cell_type": "code",
   "execution_count": null,
   "metadata": {
    "collapsed": false
   },
   "outputs": [],
   "source": [
    "#Approximate Entropy\n",
    "event_type = 'Peaks'\n",
    "meas = 'all'\n",
    "Results = ap_entropy_wrapper(event_type, meas, Data, Settings, Results)\n",
    "Results['Approximate Entropy']"
   ]
  },
  {
   "cell_type": "markdown",
   "metadata": {},
   "source": [
    "### Time Series"
   ]
  },
  {
   "cell_type": "code",
   "execution_count": null,
   "metadata": {
    "collapsed": false
   },
   "outputs": [],
   "source": [
    "#Approximate Entropy on raw signal\n",
    "#takes a VERY long time\n",
    "from pyeeg import ap_entropy\n",
    "\n",
    "version = 'original' #original, trans, shift, or rolling\n",
    "key = 'Mean1' #Mean1 default key for one time series\n",
    "start = 0 #seconds, where you want the slice to begin\n",
    "end = 1 #seconds, where you want the slice to end. The absolute end is -1\n",
    "\n",
    "ap_entropy(Data[version][key][start:end].tolist(), 2, (0.2*np.std(Data[version][key][start:end])))"
   ]
  },
  {
   "cell_type": "markdown",
   "metadata": {},
   "source": [
    "### Sample Entropy"
   ]
  },
  {
   "cell_type": "markdown",
   "metadata": {},
   "source": [
    "this only runs if you have pyeeg.py in the same folder as this notebook and bass.py. **WARNING: THIS FUNCTION RUNS SLOWLY**\n",
    "\n",
    "run the below code to get the sample entropy of any measurement. Returns the entropy of the entire results array (no windowing). I am using the following M and R values:\n",
    "\n",
    "    M = 2  \n",
    "    R = 0.2*std(measurement)\n",
    "    \n",
    "these values can be modified in the source code. alternatively, you can call samp_entropy directly. \n",
    "Supports 'all'"
   ]
  },
  {
   "cell_type": "markdown",
   "metadata": {},
   "source": [
    "### Events"
   ]
  },
  {
   "cell_type": "code",
   "execution_count": 19,
   "metadata": {
    "collapsed": false
   },
   "outputs": [
    {
     "name": "stdout",
     "output_type": "stream",
     "text": [
      "All Peaks measurements analyzed.\n"
     ]
    },
    {
     "data": {
      "text/html": [
       "<div style=\"max-height:1000px;max-width:1500px;overflow:auto;\">\n",
       "<table border=\"1\" class=\"dataframe\">\n",
       "  <thead>\n",
       "    <tr style=\"text-align: right;\">\n",
       "      <th></th>\n",
       "      <th>Peaks Amplitude</th>\n",
       "      <th>Intervals</th>\n",
       "    </tr>\n",
       "  </thead>\n",
       "  <tbody>\n",
       "    <tr>\n",
       "      <th>Mean1</th>\n",
       "      <td>0.986362</td>\n",
       "      <td>0.353698</td>\n",
       "    </tr>\n",
       "  </tbody>\n",
       "</table>\n",
       "</div>"
      ],
      "text/plain": [
       "       Peaks Amplitude  Intervals\n",
       "Mean1         0.986362   0.353698"
      ]
     },
     "execution_count": 19,
     "metadata": {},
     "output_type": "execute_result"
    }
   ],
   "source": [
    "#Sample Entropy\n",
    "event_type = 'Peaks'\n",
    "meas = 'all'\n",
    "Results = samp_entropy_wrapper(event_type, meas, Data, Settings, Results)\n",
    "Results['Sample Entropy']"
   ]
  },
  {
   "cell_type": "markdown",
   "metadata": {},
   "source": [
    "### Time Series"
   ]
  },
  {
   "cell_type": "code",
   "execution_count": null,
   "metadata": {
    "collapsed": false
   },
   "outputs": [],
   "source": [
    "#on raw signal\n",
    "#takes a VERY long time\n",
    "version = 'original' #original, trans, shift, or rolling\n",
    "key = 'Mean1' #Mean1 default key for one time series\n",
    "start = 0 #seconds, where you want the slice to begin\n",
    "end = 1 #seconds, where you want the slice to end. The absolute end is -1\n",
    "\n",
    "samp_entropy(Data[version][key][start:end].tolist(), 2, (0.2*np.std(Data[version][key][start:end])))"
   ]
  },
  {
   "cell_type": "markdown",
   "metadata": {},
   "source": [
    "# Blank Code block"
   ]
  },
  {
   "cell_type": "markdown",
   "metadata": {},
   "source": [
    "you're still here, reading? you must be a dedicated super user!\n",
    "\n",
    "If that is the case, then you must know how to code in Python. Use this space to get crazy with your own advanced analysis and stuff."
   ]
  },
  {
   "cell_type": "code",
   "execution_count": null,
   "metadata": {
    "collapsed": false
   },
   "outputs": [],
   "source": []
  }
 ],
 "metadata": {
  "kernelspec": {
   "display_name": "Python 2",
   "language": "python",
   "name": "python2"
  },
  "language_info": {
   "codemirror_mode": {
    "name": "ipython",
    "version": 2
   },
   "file_extension": ".py",
   "mimetype": "text/x-python",
   "name": "python",
   "nbconvert_exporter": "python",
   "pygments_lexer": "ipython2",
   "version": "2.7.6"
  }
 },
 "nbformat": 4,
 "nbformat_minor": 0
}
