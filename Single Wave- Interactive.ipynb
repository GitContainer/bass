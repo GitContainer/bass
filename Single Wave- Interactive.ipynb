{
 "cells": [
  {
   "cell_type": "markdown",
   "metadata": {},
   "source": [
    "# Welcome to BASS!"
   ]
  },
  {
   "cell_type": "markdown",
   "metadata": {},
   "source": [
    "Version: Single Wave- Interactive Notebook."
   ]
  },
  {
   "cell_type": "markdown",
   "metadata": {},
   "source": [
    "    BASS: Biomedical Analysis Software Suite for event detection and signal processing.\n",
    "    Copyright (C) 2015  Abigail Dobyns\n",
    "\n",
    "    This program is free software: you can redistribute it and/or modify\n",
    "    it under the terms of the GNU General Public License as published by\n",
    "    the Free Software Foundation, either version 3 of the License, or\n",
    "    (at your option) any later version.\n",
    "\n",
    "    This program is distributed in the hope that it will be useful,\n",
    "    but WITHOUT ANY WARRANTY; without even the implied warranty of\n",
    "    MERCHANTABILITY or FITNESS FOR A PARTICULAR PURPOSE.  See the\n",
    "    GNU General Public License for more details.\n",
    "\n",
    "    You should have received a copy of the GNU General Public License\n",
    "    along with this program.  If not, see <http://www.gnu.org/licenses/>"
   ]
  },
  {
   "cell_type": "markdown",
   "metadata": {},
   "source": [
    "## Initalize"
   ]
  },
  {
   "cell_type": "markdown",
   "metadata": {},
   "source": [
    "Run the following code block to intialize the program. This notebook and bass.py file **must** be in the same folder."
   ]
  },
  {
   "cell_type": "code",
   "execution_count": 1,
   "metadata": {
    "collapsed": false
   },
   "outputs": [
    {
     "name": "stdout",
     "output_type": "stream",
     "text": [
      "BASS ready!\n"
     ]
    }
   ],
   "source": [
    "from bass import *"
   ]
  },
  {
   "cell_type": "markdown",
   "metadata": {},
   "source": [
    "# Begin User Input"
   ]
  },
  {
   "cell_type": "markdown",
   "metadata": {},
   "source": [
    "For help, check out the wiki: https://github.com/drcgw/bass/wiki/Tutorial\n",
    "\n",
    "Or the video tutorial: Coming Soon!"
   ]
  },
  {
   "cell_type": "markdown",
   "metadata": {},
   "source": [
    "## Load Data File"
   ]
  },
  {
   "cell_type": "markdown",
   "metadata": {},
   "source": [
    "Use the following block to change your settings. You **must** use this block.\n",
    "\n",
    "Here are some helpful information about the loading settings:\n",
    "\n",
    "**Full File Path to Folder containing file:**\n",
    "Designate the path to your file to load. It can also be the relative path to the folder where this notebook is stored. This does not include the file itself.\n",
    "\n",
    "    Mac OSX Example: '/Users/MYNAME/Documents/bass'\n",
    "    Microsoft Example: 'C:\\\\Users\\MYNAME\\Documents\\bass'\n",
    "    \n",
    "\n",
    "**File name:**\n",
    "This is the name of your data file. It should include the file type. This file should NOT have a header and the first column must be time in seconds. Note: This file name will also appear as part of the output files names.\n",
    "\n",
    "    'rat34_ECG.txt' \n",
    "\n",
    "**Full File Path for data output:** Designate the location of the folder where you would like the folder containing your results to go. If the folder does not exist, then it will be created. A plots folder, called 'plots' will be created inside this folder for you if it does not already exist. \n",
    "\n",
    "    Mac OSX Example: '/Users/MYNAME/Documents/output'\n",
    "    Microsoft Example: 'C:\\\\Users\\MYNAME\\Documents\\output' \n",
    "\n",
    "https://github.com/drcgw/SWAN/wiki/Tutorial#load"
   ]
  },
  {
   "cell_type": "code",
   "execution_count": 2,
   "metadata": {
    "collapsed": false
   },
   "outputs": [
    {
     "name": "stdout",
     "output_type": "stream",
     "text": [
      "Full File Path to Folder containing file: /Users/abigaildobyns/Desktop\n",
      "File Name: rat34_ECG.txt\n",
      "Full File Path to Output Folder: /Users/abigaildobyns/Desktop/demo\n",
      "Made plots folder\n",
      "Data Loaded\n"
     ]
    }
   ],
   "source": [
    "Data, Settings, Results = load_interact()"
   ]
  },
  {
   "cell_type": "markdown",
   "metadata": {},
   "source": [
    "### Graph Data (Optional)"
   ]
  },
  {
   "cell_type": "markdown",
   "metadata": {},
   "source": [
    "Use this block to check any slicing you need to do to cut out problematic data from the head or tail. You can click on any point in the wave to get the (x,y) location of that point. Clipping inside this notebook is not supported at this time.\n",
    "\n",
    "https://github.com/drcgw/SWAN/wiki/Tutorial#graph-data"
   ]
  },
  {
   "cell_type": "code",
   "execution_count": 3,
   "metadata": {
    "collapsed": false
   },
   "outputs": [],
   "source": [
    "plot_rawdata(Data)"
   ]
  },
  {
   "cell_type": "code",
   "execution_count": 3,
   "metadata": {
    "collapsed": false
   },
   "outputs": [],
   "source": [
    "graph_ts(Data, Settings, Results)"
   ]
  },
  {
   "cell_type": "markdown",
   "metadata": {},
   "source": [
    "### Power Spectral Density (Optional)"
   ]
  },
  {
   "cell_type": "markdown",
   "metadata": {},
   "source": [
    "Use the settings code block to set your frequency bands to calculate area under the curve. This block is not required. band output is always in raw power, even if the graph scale is dB/Hz."
   ]
  },
  {
   "cell_type": "code",
   "execution_count": 23,
   "metadata": {
    "collapsed": false
   },
   "outputs": [],
   "source": [
    "#optional\n",
    "Settings['PSD-Signal'] = Series(index = ['ULF', 'VLF', 'LF','HF','dx'])\n",
    "#Set PSD ranges for power in band\n",
    "\n",
    "Settings['PSD-Signal']['ULF'] = 100 #max of the range of the ultra low freq band. range is 0:ulf\n",
    "Settings['PSD-Signal']['VLF'] = 200 #max of the range of the very low freq band. range is ulf:vlf\n",
    "Settings['PSD-Signal']['LF'] = 300 #max of the range of the low freq band. range is vlf:lf\n",
    "Settings['PSD-Signal']['HF'] = 400 #max of the range of the high freq band. range is lf:hf. hf can be no more than (hz/2)\n",
    "Settings['PSD-Signal']['dx'] = 10 #segmentation for the area under the curve. "
   ]
  },
  {
   "cell_type": "markdown",
   "metadata": {},
   "source": [
    "Use the block below to generate the PSD graph and power in bands results (if selected). scale toggles which units to use for the graph:\n",
    "    \n",
    "    raw = s^2/Hz\n",
    "    db = dB/Hz = 10*log10(s^2/Hz)"
   ]
  },
  {
   "cell_type": "code",
   "execution_count": 6,
   "metadata": {
    "collapsed": false
   },
   "outputs": [
    {
     "name": "stdout",
     "output_type": "stream",
     "text": [
      "Could not calculate area in bands.\n"
     ]
    },
    {
     "data": {
      "text/html": [
       "<div style=\"max-height:1000px;max-width:1500px;overflow:auto;\">\n",
       "<table border=\"1\" class=\"dataframe\">\n",
       "  <thead>\n",
       "    <tr style=\"text-align: right;\">\n",
       "      <th></th>\n",
       "    </tr>\n",
       "  </thead>\n",
       "  <tbody>\n",
       "    <tr>\n",
       "      <th>ULF</th>\n",
       "    </tr>\n",
       "    <tr>\n",
       "      <th>VLF</th>\n",
       "    </tr>\n",
       "    <tr>\n",
       "      <th>LF</th>\n",
       "    </tr>\n",
       "    <tr>\n",
       "      <th>HF</th>\n",
       "    </tr>\n",
       "    <tr>\n",
       "      <th>LF/HF</th>\n",
       "    </tr>\n",
       "    <tr>\n",
       "      <th>Scale</th>\n",
       "    </tr>\n",
       "  </tbody>\n",
       "</table>\n",
       "</div>"
      ],
      "text/plain": [
       "Empty DataFrame\n",
       "Columns: []\n",
       "Index: [ULF, VLF, LF, HF, LF/HF, Scale]"
      ]
     },
     "execution_count": 6,
     "metadata": {},
     "output_type": "execute_result"
    }
   ],
   "source": [
    "scale = 'raw' #raw or db\n",
    "Results = psd_signal(version = 'original', key = 'Mean1', scale = scale, \n",
    "                     Data = Data, Settings = Settings, Results = Results)\n",
    "Results['PSD-Signal']"
   ]
  },
  {
   "cell_type": "code",
   "execution_count": 35,
   "metadata": {
    "collapsed": false,
    "scrolled": true
   },
   "outputs": [
    {
     "data": {
      "text/plain": [
       "0       1.089407e-07\n",
       "1       1.850597e-07\n",
       "2       6.456725e-09\n",
       "3       4.587023e-10\n",
       "4       1.089729e-10\n",
       "5       5.553860e-11\n",
       "6       4.728741e-11\n",
       "7       4.656378e-11\n",
       "8       4.199157e-11\n",
       "9       1.258173e-10\n",
       "10      9.263317e-10\n",
       "11      1.050929e-09\n",
       "12      2.382794e-10\n",
       "13      4.672270e-11\n",
       "14      4.249299e-11\n",
       "15      4.397005e-11\n",
       "16      4.203848e-11\n",
       "17      4.469125e-11\n",
       "18      4.757747e-11\n",
       "19      6.598750e-11\n",
       "20      2.109989e-10\n",
       "21      2.725922e-10\n",
       "22      1.608454e-10\n",
       "23      7.201972e-11\n",
       "24      3.967659e-11\n",
       "25      4.118384e-11\n",
       "26      4.417218e-11\n",
       "27      4.218644e-11\n",
       "28      4.084873e-11\n",
       "29      4.486987e-11\n",
       "            ...     \n",
       "3971    4.377918e-11\n",
       "3972    4.229905e-11\n",
       "3973    4.247855e-11\n",
       "3974    4.102055e-11\n",
       "3975    3.949615e-11\n",
       "3976    3.893065e-11\n",
       "3977    4.088004e-11\n",
       "3978    4.291905e-11\n",
       "3979    3.941524e-11\n",
       "3980    3.932730e-11\n",
       "3981    4.020895e-11\n",
       "3982    4.068548e-11\n",
       "3983    4.099701e-11\n",
       "3984    4.018573e-11\n",
       "3985    4.066344e-11\n",
       "3986    4.351346e-11\n",
       "3987    4.418683e-11\n",
       "3988    4.058290e-11\n",
       "3989    4.078670e-11\n",
       "3990    4.118476e-11\n",
       "3991    4.255158e-11\n",
       "3992    4.036516e-11\n",
       "3993    3.908308e-11\n",
       "3994    4.195977e-11\n",
       "3995    4.101530e-11\n",
       "3996    3.895625e-11\n",
       "3997    3.988564e-11\n",
       "3998    4.140394e-11\n",
       "3999    3.884115e-11\n",
       "4000    1.925800e-11\n",
       "dtype: float64"
      ]
     },
     "execution_count": 35,
     "metadata": {},
     "output_type": "execute_result"
    }
   ],
   "source": [
    "sig = Data['original']['Mean1'].tolist()\n",
    "hertz = int(1/Settings['Sample Rate (s/frame)']) #must be int to protect welch\n",
    "Fxx, Pxx = scipy.signal.welch(sig, fs = hertz, window=\"hanning\", nperseg=2*hertz, noverlap=hertz/2, nfft=2*hertz, detrend='linear', return_onesided=True, scaling='density')\n",
    "\n",
    "results_psd = Series(index = ['ULF', 'VLF', 'LF','HF','LF/HF', 'Scale'])\n",
    "\n",
    "FXX = Series(Fxx)\n",
    "PXX = Series(Pxx)\n",
    "PXX"
   ]
  },
  {
   "cell_type": "code",
   "execution_count": 44,
   "metadata": {
    "collapsed": false,
    "scrolled": true
   },
   "outputs": [
    {
     "data": {
      "text/html": [
       "<div style=\"max-height:1000px;max-width:1500px;overflow:auto;\">\n",
       "<table border=\"1\" class=\"dataframe\">\n",
       "  <thead>\n",
       "    <tr style=\"text-align: right;\">\n",
       "      <th></th>\n",
       "      <th>Power</th>\n",
       "    </tr>\n",
       "  </thead>\n",
       "  <tbody>\n",
       "    <tr>\n",
       "      <th>0.0</th>\n",
       "      <td>1.089407e-07</td>\n",
       "    </tr>\n",
       "    <tr>\n",
       "      <th>0.5</th>\n",
       "      <td>1.850597e-07</td>\n",
       "    </tr>\n",
       "    <tr>\n",
       "      <th>1.0</th>\n",
       "      <td>6.456725e-09</td>\n",
       "    </tr>\n",
       "    <tr>\n",
       "      <th>1.5</th>\n",
       "      <td>4.587023e-10</td>\n",
       "    </tr>\n",
       "    <tr>\n",
       "      <th>2.0</th>\n",
       "      <td>1.089729e-10</td>\n",
       "    </tr>\n",
       "    <tr>\n",
       "      <th>2.5</th>\n",
       "      <td>5.553860e-11</td>\n",
       "    </tr>\n",
       "    <tr>\n",
       "      <th>3.0</th>\n",
       "      <td>4.728741e-11</td>\n",
       "    </tr>\n",
       "    <tr>\n",
       "      <th>3.5</th>\n",
       "      <td>4.656378e-11</td>\n",
       "    </tr>\n",
       "    <tr>\n",
       "      <th>4.0</th>\n",
       "      <td>4.199157e-11</td>\n",
       "    </tr>\n",
       "    <tr>\n",
       "      <th>4.5</th>\n",
       "      <td>1.258173e-10</td>\n",
       "    </tr>\n",
       "    <tr>\n",
       "      <th>5.0</th>\n",
       "      <td>9.263317e-10</td>\n",
       "    </tr>\n",
       "    <tr>\n",
       "      <th>5.5</th>\n",
       "      <td>1.050929e-09</td>\n",
       "    </tr>\n",
       "    <tr>\n",
       "      <th>6.0</th>\n",
       "      <td>2.382794e-10</td>\n",
       "    </tr>\n",
       "    <tr>\n",
       "      <th>6.5</th>\n",
       "      <td>4.672270e-11</td>\n",
       "    </tr>\n",
       "    <tr>\n",
       "      <th>7.0</th>\n",
       "      <td>4.249299e-11</td>\n",
       "    </tr>\n",
       "    <tr>\n",
       "      <th>7.5</th>\n",
       "      <td>4.397005e-11</td>\n",
       "    </tr>\n",
       "    <tr>\n",
       "      <th>8.0</th>\n",
       "      <td>4.203848e-11</td>\n",
       "    </tr>\n",
       "    <tr>\n",
       "      <th>8.5</th>\n",
       "      <td>4.469125e-11</td>\n",
       "    </tr>\n",
       "    <tr>\n",
       "      <th>9.0</th>\n",
       "      <td>4.757747e-11</td>\n",
       "    </tr>\n",
       "    <tr>\n",
       "      <th>9.5</th>\n",
       "      <td>6.598750e-11</td>\n",
       "    </tr>\n",
       "    <tr>\n",
       "      <th>10.0</th>\n",
       "      <td>2.109989e-10</td>\n",
       "    </tr>\n",
       "    <tr>\n",
       "      <th>10.5</th>\n",
       "      <td>2.725922e-10</td>\n",
       "    </tr>\n",
       "    <tr>\n",
       "      <th>11.0</th>\n",
       "      <td>1.608454e-10</td>\n",
       "    </tr>\n",
       "    <tr>\n",
       "      <th>11.5</th>\n",
       "      <td>7.201972e-11</td>\n",
       "    </tr>\n",
       "    <tr>\n",
       "      <th>12.0</th>\n",
       "      <td>3.967659e-11</td>\n",
       "    </tr>\n",
       "    <tr>\n",
       "      <th>12.5</th>\n",
       "      <td>4.118384e-11</td>\n",
       "    </tr>\n",
       "    <tr>\n",
       "      <th>13.0</th>\n",
       "      <td>4.417218e-11</td>\n",
       "    </tr>\n",
       "    <tr>\n",
       "      <th>13.5</th>\n",
       "      <td>4.218644e-11</td>\n",
       "    </tr>\n",
       "    <tr>\n",
       "      <th>14.0</th>\n",
       "      <td>4.084873e-11</td>\n",
       "    </tr>\n",
       "    <tr>\n",
       "      <th>14.5</th>\n",
       "      <td>4.486987e-11</td>\n",
       "    </tr>\n",
       "    <tr>\n",
       "      <th>...</th>\n",
       "      <td>...</td>\n",
       "    </tr>\n",
       "    <tr>\n",
       "      <th>1985.5</th>\n",
       "      <td>4.377918e-11</td>\n",
       "    </tr>\n",
       "    <tr>\n",
       "      <th>1986.0</th>\n",
       "      <td>4.229905e-11</td>\n",
       "    </tr>\n",
       "    <tr>\n",
       "      <th>1986.5</th>\n",
       "      <td>4.247855e-11</td>\n",
       "    </tr>\n",
       "    <tr>\n",
       "      <th>1987.0</th>\n",
       "      <td>4.102055e-11</td>\n",
       "    </tr>\n",
       "    <tr>\n",
       "      <th>1987.5</th>\n",
       "      <td>3.949615e-11</td>\n",
       "    </tr>\n",
       "    <tr>\n",
       "      <th>1988.0</th>\n",
       "      <td>3.893065e-11</td>\n",
       "    </tr>\n",
       "    <tr>\n",
       "      <th>1988.5</th>\n",
       "      <td>4.088004e-11</td>\n",
       "    </tr>\n",
       "    <tr>\n",
       "      <th>1989.0</th>\n",
       "      <td>4.291905e-11</td>\n",
       "    </tr>\n",
       "    <tr>\n",
       "      <th>1989.5</th>\n",
       "      <td>3.941524e-11</td>\n",
       "    </tr>\n",
       "    <tr>\n",
       "      <th>1990.0</th>\n",
       "      <td>3.932730e-11</td>\n",
       "    </tr>\n",
       "    <tr>\n",
       "      <th>1990.5</th>\n",
       "      <td>4.020895e-11</td>\n",
       "    </tr>\n",
       "    <tr>\n",
       "      <th>1991.0</th>\n",
       "      <td>4.068548e-11</td>\n",
       "    </tr>\n",
       "    <tr>\n",
       "      <th>1991.5</th>\n",
       "      <td>4.099701e-11</td>\n",
       "    </tr>\n",
       "    <tr>\n",
       "      <th>1992.0</th>\n",
       "      <td>4.018573e-11</td>\n",
       "    </tr>\n",
       "    <tr>\n",
       "      <th>1992.5</th>\n",
       "      <td>4.066344e-11</td>\n",
       "    </tr>\n",
       "    <tr>\n",
       "      <th>1993.0</th>\n",
       "      <td>4.351346e-11</td>\n",
       "    </tr>\n",
       "    <tr>\n",
       "      <th>1993.5</th>\n",
       "      <td>4.418683e-11</td>\n",
       "    </tr>\n",
       "    <tr>\n",
       "      <th>1994.0</th>\n",
       "      <td>4.058290e-11</td>\n",
       "    </tr>\n",
       "    <tr>\n",
       "      <th>1994.5</th>\n",
       "      <td>4.078670e-11</td>\n",
       "    </tr>\n",
       "    <tr>\n",
       "      <th>1995.0</th>\n",
       "      <td>4.118476e-11</td>\n",
       "    </tr>\n",
       "    <tr>\n",
       "      <th>1995.5</th>\n",
       "      <td>4.255158e-11</td>\n",
       "    </tr>\n",
       "    <tr>\n",
       "      <th>1996.0</th>\n",
       "      <td>4.036516e-11</td>\n",
       "    </tr>\n",
       "    <tr>\n",
       "      <th>1996.5</th>\n",
       "      <td>3.908308e-11</td>\n",
       "    </tr>\n",
       "    <tr>\n",
       "      <th>1997.0</th>\n",
       "      <td>4.195977e-11</td>\n",
       "    </tr>\n",
       "    <tr>\n",
       "      <th>1997.5</th>\n",
       "      <td>4.101530e-11</td>\n",
       "    </tr>\n",
       "    <tr>\n",
       "      <th>1998.0</th>\n",
       "      <td>3.895625e-11</td>\n",
       "    </tr>\n",
       "    <tr>\n",
       "      <th>1998.5</th>\n",
       "      <td>3.988564e-11</td>\n",
       "    </tr>\n",
       "    <tr>\n",
       "      <th>1999.0</th>\n",
       "      <td>4.140394e-11</td>\n",
       "    </tr>\n",
       "    <tr>\n",
       "      <th>1999.5</th>\n",
       "      <td>3.884115e-11</td>\n",
       "    </tr>\n",
       "    <tr>\n",
       "      <th>2000.0</th>\n",
       "      <td>1.925800e-11</td>\n",
       "    </tr>\n",
       "  </tbody>\n",
       "</table>\n",
       "<p>4001 rows × 1 columns</p>\n",
       "</div>"
      ],
      "text/plain": [
       "               Power\n",
       "0.0     1.089407e-07\n",
       "0.5     1.850597e-07\n",
       "1.0     6.456725e-09\n",
       "1.5     4.587023e-10\n",
       "2.0     1.089729e-10\n",
       "2.5     5.553860e-11\n",
       "3.0     4.728741e-11\n",
       "3.5     4.656378e-11\n",
       "4.0     4.199157e-11\n",
       "4.5     1.258173e-10\n",
       "5.0     9.263317e-10\n",
       "5.5     1.050929e-09\n",
       "6.0     2.382794e-10\n",
       "6.5     4.672270e-11\n",
       "7.0     4.249299e-11\n",
       "7.5     4.397005e-11\n",
       "8.0     4.203848e-11\n",
       "8.5     4.469125e-11\n",
       "9.0     4.757747e-11\n",
       "9.5     6.598750e-11\n",
       "10.0    2.109989e-10\n",
       "10.5    2.725922e-10\n",
       "11.0    1.608454e-10\n",
       "11.5    7.201972e-11\n",
       "12.0    3.967659e-11\n",
       "12.5    4.118384e-11\n",
       "13.0    4.417218e-11\n",
       "13.5    4.218644e-11\n",
       "14.0    4.084873e-11\n",
       "14.5    4.486987e-11\n",
       "...              ...\n",
       "1985.5  4.377918e-11\n",
       "1986.0  4.229905e-11\n",
       "1986.5  4.247855e-11\n",
       "1987.0  4.102055e-11\n",
       "1987.5  3.949615e-11\n",
       "1988.0  3.893065e-11\n",
       "1988.5  4.088004e-11\n",
       "1989.0  4.291905e-11\n",
       "1989.5  3.941524e-11\n",
       "1990.0  3.932730e-11\n",
       "1990.5  4.020895e-11\n",
       "1991.0  4.068548e-11\n",
       "1991.5  4.099701e-11\n",
       "1992.0  4.018573e-11\n",
       "1992.5  4.066344e-11\n",
       "1993.0  4.351346e-11\n",
       "1993.5  4.418683e-11\n",
       "1994.0  4.058290e-11\n",
       "1994.5  4.078670e-11\n",
       "1995.0  4.118476e-11\n",
       "1995.5  4.255158e-11\n",
       "1996.0  4.036516e-11\n",
       "1996.5  3.908308e-11\n",
       "1997.0  4.195977e-11\n",
       "1997.5  4.101530e-11\n",
       "1998.0  3.895625e-11\n",
       "1998.5  3.988564e-11\n",
       "1999.0  4.140394e-11\n",
       "1999.5  3.884115e-11\n",
       "2000.0  1.925800e-11\n",
       "\n",
       "[4001 rows x 1 columns]"
      ]
     },
     "execution_count": 44,
     "metadata": {},
     "output_type": "execute_result"
    }
   ],
   "source": [
    "df_power = DataFrame( index = Fxx, data = Pxx)\n",
    "df_power.columns = ['Power']\n",
    "df_power"
   ]
  },
  {
   "cell_type": "code",
   "execution_count": 46,
   "metadata": {
    "collapsed": false
   },
   "outputs": [
    {
     "data": {
      "text/plain": [
       "[0.0,\n",
       " 0.5,\n",
       " 1.0,\n",
       " 1.5,\n",
       " 2.0,\n",
       " 2.5,\n",
       " 3.0,\n",
       " 3.5,\n",
       " 4.0,\n",
       " 4.5,\n",
       " 5.0,\n",
       " 5.5,\n",
       " 6.0,\n",
       " 6.5,\n",
       " 7.0,\n",
       " 7.5,\n",
       " 8.0,\n",
       " 8.5,\n",
       " 9.0,\n",
       " 9.5,\n",
       " 10.0,\n",
       " 10.5,\n",
       " 11.0,\n",
       " 11.5,\n",
       " 12.0,\n",
       " 12.5,\n",
       " 13.0,\n",
       " 13.5,\n",
       " 14.0,\n",
       " 14.5,\n",
       " 15.0,\n",
       " 15.5,\n",
       " 16.0,\n",
       " 16.5,\n",
       " 17.0,\n",
       " 17.5,\n",
       " 18.0,\n",
       " 18.5,\n",
       " 19.0,\n",
       " 19.5,\n",
       " 20.0,\n",
       " 20.5,\n",
       " 21.0,\n",
       " 21.5,\n",
       " 22.0,\n",
       " 22.5,\n",
       " 23.0,\n",
       " 23.5,\n",
       " 24.0,\n",
       " 24.5,\n",
       " 25.0,\n",
       " 25.5,\n",
       " 26.0,\n",
       " 26.5,\n",
       " 27.0,\n",
       " 27.5,\n",
       " 28.0,\n",
       " 28.5,\n",
       " 29.0,\n",
       " 29.5,\n",
       " 30.0,\n",
       " 30.5,\n",
       " 31.0,\n",
       " 31.5,\n",
       " 32.0,\n",
       " 32.5,\n",
       " 33.0,\n",
       " 33.5,\n",
       " 34.0,\n",
       " 34.5,\n",
       " 35.0,\n",
       " 35.5,\n",
       " 36.0,\n",
       " 36.5,\n",
       " 37.0,\n",
       " 37.5,\n",
       " 38.0,\n",
       " 38.5,\n",
       " 39.0,\n",
       " 39.5,\n",
       " 40.0,\n",
       " 40.5,\n",
       " 41.0,\n",
       " 41.5,\n",
       " 42.0,\n",
       " 42.5,\n",
       " 43.0,\n",
       " 43.5,\n",
       " 44.0,\n",
       " 44.5,\n",
       " 45.0,\n",
       " 45.5,\n",
       " 46.0,\n",
       " 46.5,\n",
       " 47.0,\n",
       " 47.5,\n",
       " 48.0,\n",
       " 48.5,\n",
       " 49.0,\n",
       " 49.5,\n",
       " 50.0,\n",
       " 50.5,\n",
       " 51.0,\n",
       " 51.5,\n",
       " 52.0,\n",
       " 52.5,\n",
       " 53.0,\n",
       " 53.5,\n",
       " 54.0,\n",
       " 54.5,\n",
       " 55.0,\n",
       " 55.5,\n",
       " 56.0,\n",
       " 56.5,\n",
       " 57.0,\n",
       " 57.5,\n",
       " 58.0,\n",
       " 58.5,\n",
       " 59.0,\n",
       " 59.5,\n",
       " 60.0,\n",
       " 60.5,\n",
       " 61.0,\n",
       " 61.5,\n",
       " 62.0,\n",
       " 62.5,\n",
       " 63.0,\n",
       " 63.5,\n",
       " 64.0,\n",
       " 64.5,\n",
       " 65.0,\n",
       " 65.5,\n",
       " 66.0,\n",
       " 66.5,\n",
       " 67.0,\n",
       " 67.5,\n",
       " 68.0,\n",
       " 68.5,\n",
       " 69.0,\n",
       " 69.5,\n",
       " 70.0,\n",
       " 70.5,\n",
       " 71.0,\n",
       " 71.5,\n",
       " 72.0,\n",
       " 72.5,\n",
       " 73.0,\n",
       " 73.5,\n",
       " 74.0,\n",
       " 74.5,\n",
       " 75.0,\n",
       " 75.5,\n",
       " 76.0,\n",
       " 76.5,\n",
       " 77.0,\n",
       " 77.5,\n",
       " 78.0,\n",
       " 78.5,\n",
       " 79.0,\n",
       " 79.5,\n",
       " 80.0,\n",
       " 80.5,\n",
       " 81.0,\n",
       " 81.5,\n",
       " 82.0,\n",
       " 82.5,\n",
       " 83.0,\n",
       " 83.5,\n",
       " 84.0,\n",
       " 84.5,\n",
       " 85.0,\n",
       " 85.5,\n",
       " 86.0,\n",
       " 86.5,\n",
       " 87.0,\n",
       " 87.5,\n",
       " 88.0,\n",
       " 88.5,\n",
       " 89.0,\n",
       " 89.5,\n",
       " 90.0,\n",
       " 90.5,\n",
       " 91.0,\n",
       " 91.5,\n",
       " 92.0,\n",
       " 92.5,\n",
       " 93.0,\n",
       " 93.5,\n",
       " 94.0,\n",
       " 94.5,\n",
       " 95.0,\n",
       " 95.5,\n",
       " 96.0,\n",
       " 96.5,\n",
       " 97.0,\n",
       " 97.5,\n",
       " 98.0,\n",
       " 98.5,\n",
       " 99.0,\n",
       " 99.5]"
      ]
     },
     "execution_count": 46,
     "metadata": {},
     "output_type": "execute_result"
    }
   ],
   "source": [
    "df_ulf = df_power[df_power.index<Settings['PSD-Signal']['ULF']]\n",
    "df_ulf.index.tolist()"
   ]
  },
  {
   "cell_type": "code",
   "execution_count": 49,
   "metadata": {
    "collapsed": false
   },
   "outputs": [
    {
     "data": {
      "text/plain": [
       "0.026821989570022672"
      ]
     },
     "execution_count": 49,
     "metadata": {},
     "output_type": "execute_result"
    }
   ],
   "source": [
    "scipy.integrate.simps(df_ulf['Power'], df_ulf.index, dx =)"
   ]
  },
  {
   "cell_type": "code",
   "execution_count": null,
   "metadata": {
    "collapsed": true
   },
   "outputs": [],
   "source": [
    "results_psd['ULF'] = scipy.integrate.simps(PXX[FXX<Settings['PSD-Signal']['ULF']].tolist(), \n",
    "                           FXX[FXX<Settings['PSD-Signal']['ULF']].tolist(), \n",
    "                           dx =Settings['PSD-Signal']['dx'])\n",
    "results_psd['VLF'] = scipy.integrate.simps(PXX[(Settings['PSD-Signal']['ULF']<FXX) & (FXX<=Settings['PSD-Signal']['VLF'])].tolist(),\n",
    "                           FXX[(Settings['PSD-Signal']['ULF']<FXX) & (FXX<=Settings['PSD-Signal']['VLF'])].tolist(), \n",
    "                           dx= Settings['PSD-Signal']['dx'])\n",
    "results_psd['LF'] = scipy.integrate.simps(PXX[(Settings['PSD-Signal']['VLF']<FXX) & (FXX<=Settings['PSD-Signal']['LF'])].tolist(),\n",
    "                          FXX[(Settings['PSD-Signal']['VLF']<FXX) & (FXX<=Settings['PSD-Signal']['LF'])].tolist(), \n",
    "                          dx= Settings['PSD-Signal']['dx'])\n",
    "results_psd['HF'] = scipy.integrate.simps(PXX[(Settings['PSD-Signal']['LF']<FXX) & (FXX<=Settings['PSD-Signal']['HF'])].tolist(),\n",
    "                          FXX[(Settings['PSD-Signal']['LF']<FXX) & (FXX<=Settings['PSD-Signal']['HF'])].tolist(), \n",
    "                          dx= Settings['PSD-Signal']['dx'])\n",
    "results_psd['LF/HF'] = results_psd['LF']/results_psd['HF']\n",
    "\n",
    "results_psd"
   ]
  },
  {
   "cell_type": "markdown",
   "metadata": {},
   "source": [
    "### Spectrogram (Optional)"
   ]
  },
  {
   "cell_type": "markdown",
   "metadata": {},
   "source": [
    "Use the block below to get the spectrogram of the signal. The frequency (y-axis) scales automatically to only show 'active' frequencies. This can take some time to run.\n",
    "\n",
    "    version = 'original'\n",
    "    key = 'Mean1'"
   ]
  },
  {
   "cell_type": "code",
   "execution_count": null,
   "metadata": {
    "collapsed": false
   },
   "outputs": [],
   "source": [
    "version = 'original'\n",
    "key = 'Mean1'\n",
    "spectogram(version, key, Data, Settings, Results)"
   ]
  },
  {
   "cell_type": "markdown",
   "metadata": {},
   "source": [
    "## Transforming Data"
   ]
  },
  {
   "cell_type": "markdown",
   "metadata": {},
   "source": [
    "Must be done for each new uploaded data file.\n",
    "\n",
    "**WARNING:** If you do not load a settings file OR enter your own settings, the analysis will not run. There are no defaults. This section is not optional.\n",
    "\n",
    "https://github.com/drcgw/SWAN/wiki/Tutorial#transform-data"
   ]
  },
  {
   "cell_type": "markdown",
   "metadata": {},
   "source": [
    "### Load settings from a file"
   ]
  },
  {
   "cell_type": "markdown",
   "metadata": {},
   "source": [
    "Must be a previously outputed BASS settings file, although the name can be changed. Expected format is '.csv'. Enter the full file path and name.\n",
    "\n",
    "    Mac OSX Example: '/Users/MYNAME/Documents/rat34_Settings.csv'\n",
    "    Microsoft Example: 'C:\\\\Users\\MYNAME\\Documents\\rat34_Settings.csv'\n",
    "    \n",
    "See above instructions for how to load your data file.\n",
    "\n",
    "**Warning!!** You must load a settings file or specify your settings below. There are no defaults"
   ]
  },
  {
   "cell_type": "code",
   "execution_count": 27,
   "metadata": {
    "collapsed": false
   },
   "outputs": [
    {
     "name": "stdout",
     "output_type": "stream",
     "text": [
      "Full File path and file for the settings file: /Users/abigaildobyns/Desktop/rat34_Settings.csv\n"
     ]
    },
    {
     "data": {
      "text/html": [
       "<div style=\"max-height:1000px;max-width:1500px;overflow:auto;\">\n",
       "<table border=\"1\" class=\"dataframe\">\n",
       "  <thead>\n",
       "    <tr style=\"text-align: right;\">\n",
       "      <th></th>\n",
       "      <th>Value</th>\n",
       "    </tr>\n",
       "  </thead>\n",
       "  <tbody>\n",
       "    <tr>\n",
       "      <th>Absolute Value</th>\n",
       "      <td>True</td>\n",
       "    </tr>\n",
       "    <tr>\n",
       "      <th>Bandpass Highcut</th>\n",
       "      <td>none</td>\n",
       "    </tr>\n",
       "    <tr>\n",
       "      <th>Bandpass Lowcut</th>\n",
       "      <td>none</td>\n",
       "    </tr>\n",
       "    <tr>\n",
       "      <th>Bandpass Polynomial</th>\n",
       "      <td>none</td>\n",
       "    </tr>\n",
       "    <tr>\n",
       "      <th>Baseline Start</th>\n",
       "      <td>0</td>\n",
       "    </tr>\n",
       "    <tr>\n",
       "      <th>Baseline Stop</th>\n",
       "      <td>5</td>\n",
       "    </tr>\n",
       "    <tr>\n",
       "      <th>Baseline Type</th>\n",
       "      <td>static</td>\n",
       "    </tr>\n",
       "    <tr>\n",
       "      <th>Burst Area</th>\n",
       "      <td>False</td>\n",
       "    </tr>\n",
       "    <tr>\n",
       "      <th>Delta</th>\n",
       "      <td>0.25</td>\n",
       "    </tr>\n",
       "    <tr>\n",
       "      <th>Exclude Edges</th>\n",
       "      <td>True</td>\n",
       "    </tr>\n",
       "    <tr>\n",
       "      <th>File Type</th>\n",
       "      <td>Plain</td>\n",
       "    </tr>\n",
       "    <tr>\n",
       "      <th>Generate Graphs</th>\n",
       "      <td>False</td>\n",
       "    </tr>\n",
       "    <tr>\n",
       "      <th>Graph LCpro events</th>\n",
       "      <td>False</td>\n",
       "    </tr>\n",
       "    <tr>\n",
       "      <th>Inter-event interval minimum (seconds)</th>\n",
       "      <td>0.01</td>\n",
       "    </tr>\n",
       "    <tr>\n",
       "      <th>Label</th>\n",
       "      <td>rat34_ECG.txt</td>\n",
       "    </tr>\n",
       "    <tr>\n",
       "      <th>Linear Fit</th>\n",
       "      <td>False</td>\n",
       "    </tr>\n",
       "    <tr>\n",
       "      <th>Linear Fit-Rolling R</th>\n",
       "      <td>0.75</td>\n",
       "    </tr>\n",
       "    <tr>\n",
       "      <th>Linear Fit-Rolling Window</th>\n",
       "      <td>1000</td>\n",
       "    </tr>\n",
       "    <tr>\n",
       "      <th>Maximum Burst Duration (s)</th>\n",
       "      <td>10</td>\n",
       "    </tr>\n",
       "    <tr>\n",
       "      <th>Milliseconds</th>\n",
       "      <td>False</td>\n",
       "    </tr>\n",
       "    <tr>\n",
       "      <th>Minimum Burst Duration (s)</th>\n",
       "      <td>0</td>\n",
       "    </tr>\n",
       "    <tr>\n",
       "      <th>Minimum Peak Number</th>\n",
       "      <td>1</td>\n",
       "    </tr>\n",
       "    <tr>\n",
       "      <th>Output Folder</th>\n",
       "      <td>/Users/abigaildobyns/Desktop/demo</td>\n",
       "    </tr>\n",
       "    <tr>\n",
       "      <th>PSD-Signal</th>\n",
       "      <td>ULF    100\n",
       "VLF    200\n",
       "LF     300\n",
       "HF     400\n",
       "dx...</td>\n",
       "    </tr>\n",
       "    <tr>\n",
       "      <th>Peak Maximum</th>\n",
       "      <td>inf</td>\n",
       "    </tr>\n",
       "    <tr>\n",
       "      <th>Peak Minimum</th>\n",
       "      <td>-inf</td>\n",
       "    </tr>\n",
       "    <tr>\n",
       "      <th>Relative Baseline</th>\n",
       "      <td>0</td>\n",
       "    </tr>\n",
       "    <tr>\n",
       "      <th>Rolling Baseline Window</th>\n",
       "      <td>none</td>\n",
       "    </tr>\n",
       "    <tr>\n",
       "      <th>Sample Rate (s/frame)</th>\n",
       "      <td>0.00025</td>\n",
       "    </tr>\n",
       "    <tr>\n",
       "      <th>Savitzky-Golay Polynomial</th>\n",
       "      <td>4</td>\n",
       "    </tr>\n",
       "    <tr>\n",
       "      <th>Savitzky-Golay Window Size</th>\n",
       "      <td>251</td>\n",
       "    </tr>\n",
       "    <tr>\n",
       "      <th>Settings File</th>\n",
       "      <td>/Users/abigaildobyns/Desktop/rat34_Settings.csv</td>\n",
       "    </tr>\n",
       "    <tr>\n",
       "      <th>Threshold</th>\n",
       "      <td>0.15</td>\n",
       "    </tr>\n",
       "    <tr>\n",
       "      <th>folder</th>\n",
       "      <td>/Users/abigaildobyns/Desktop</td>\n",
       "    </tr>\n",
       "    <tr>\n",
       "      <th>plots folder</th>\n",
       "      <td>/Users/abigaildobyns/Desktop/demo/plots</td>\n",
       "    </tr>\n",
       "  </tbody>\n",
       "</table>\n",
       "</div>"
      ],
      "text/plain": [
       "                                                                                    Value\n",
       "Absolute Value                                                                       True\n",
       "Bandpass Highcut                                                                     none\n",
       "Bandpass Lowcut                                                                      none\n",
       "Bandpass Polynomial                                                                  none\n",
       "Baseline Start                                                                          0\n",
       "Baseline Stop                                                                           5\n",
       "Baseline Type                                                                      static\n",
       "Burst Area                                                                          False\n",
       "Delta                                                                                0.25\n",
       "Exclude Edges                                                                        True\n",
       "File Type                                                                           Plain\n",
       "Generate Graphs                                                                     False\n",
       "Graph LCpro events                                                                  False\n",
       "Inter-event interval minimum (seconds)                                               0.01\n",
       "Label                                                                       rat34_ECG.txt\n",
       "Linear Fit                                                                          False\n",
       "Linear Fit-Rolling R                                                                 0.75\n",
       "Linear Fit-Rolling Window                                                            1000\n",
       "Maximum Burst Duration (s)                                                             10\n",
       "Milliseconds                                                                        False\n",
       "Minimum Burst Duration (s)                                                              0\n",
       "Minimum Peak Number                                                                     1\n",
       "Output Folder                                           /Users/abigaildobyns/Desktop/demo\n",
       "PSD-Signal                              ULF    100\n",
       "VLF    200\n",
       "LF     300\n",
       "HF     400\n",
       "dx...\n",
       "Peak Maximum                                                                          inf\n",
       "Peak Minimum                                                                         -inf\n",
       "Relative Baseline                                                                       0\n",
       "Rolling Baseline Window                                                              none\n",
       "Sample Rate (s/frame)                                                             0.00025\n",
       "Savitzky-Golay Polynomial                                                               4\n",
       "Savitzky-Golay Window Size                                                            251\n",
       "Settings File                             /Users/abigaildobyns/Desktop/rat34_Settings.csv\n",
       "Threshold                                                                            0.15\n",
       "folder                                                       /Users/abigaildobyns/Desktop\n",
       "plots folder                                      /Users/abigaildobyns/Desktop/demo/plots"
      ]
     },
     "execution_count": 27,
     "metadata": {},
     "output_type": "execute_result"
    }
   ],
   "source": [
    "Settings = load_settings_interact(Settings)\n",
    "Settings_display = display_settings(Settings)\n",
    "Settings_display"
   ]
  },
  {
   "cell_type": "markdown",
   "metadata": {},
   "source": [
    "### Enter your settings for data transformation"
   ]
  },
  {
   "cell_type": "markdown",
   "metadata": {},
   "source": [
    "**WARNING:** If you do not load a settings file OR enter your own settings, the analysis will not run. There are no defaults. This section is not optional.\n",
    "\n",
    "Enter the parameters of the functions you would like to use to transform your data. \n",
    "If you do not want to use a function, enter 'none'\n",
    "\n",
    "For more help on settings:\n",
    "\n",
    "https://github.com/drcgw/SWAN/wiki/Tutorial#transform-data\n",
    "\n",
    "https://github.com/drcgw/SWAN/wiki/Transformation-Settings"
   ]
  },
  {
   "cell_type": "code",
   "execution_count": 4,
   "metadata": {
    "collapsed": false
   },
   "outputs": [
    {
     "name": "stdout",
     "output_type": "stream",
     "text": [
      "Enter True or False to turn on or off the linear fit.\n",
      "Linear Fit (True/False): False\n",
      "Enter the butterworth bandpass settings seperated by a comma. cuts are in hertz and poly should be an interger.\n",
      "Bandpass Settings (lowcut, highcut,polynomial): none\n",
      "Enter the Savitzky Golay filter settings seperated by a comma. Window size must be odd.\n",
      "Savitzky Golay Settings (window, polynomial): 251, 4\n",
      "Settings Saved\n"
     ]
    }
   ],
   "source": [
    "Settings = user_input_trans(Settings)"
   ]
  },
  {
   "cell_type": "markdown",
   "metadata": {},
   "source": [
    "### Run data transformation"
   ]
  },
  {
   "cell_type": "code",
   "execution_count": 28,
   "metadata": {
    "collapsed": false
   },
   "outputs": [],
   "source": [
    "Data, Settings = transform_wrapper(Data, Settings)\n",
    "graph_ts(Data, Settings, Results)"
   ]
  },
  {
   "cell_type": "markdown",
   "metadata": {},
   "source": [
    "## Set Baseline for Thresholding"
   ]
  },
  {
   "cell_type": "markdown",
   "metadata": {},
   "source": [
    "**WARNING** If you do not load a settings file OR enter your own settings, the analysis will not run. There are no defaults. This section is not optional.\n",
    "\n",
    "https://github.com/drcgw/SWAN/wiki/Tutorial#set-baseline-for-thresholding"
   ]
  },
  {
   "cell_type": "markdown",
   "metadata": {},
   "source": [
    "### Choose either linear or rolling baseline."
   ]
  },
  {
   "cell_type": "markdown",
   "metadata": {},
   "source": [
    "**Linear** - assumes that the first 0.1 seconds is a good representation of baseline. If the superstructure is linear but has a slope, use linear fit in the transformation to still use linear. Linear automatically shifts your data by the ammount of your baseline\n",
    "\n",
    "**Static** - Allows you to choose an arbitrary y value for threshold. No Shift in the data.\n",
    "\n",
    "**Rolling** - rolling mean using a window. User provides the window size in miliseconds. there is no shift in the data with this method."
   ]
  },
  {
   "cell_type": "code",
   "execution_count": 13,
   "metadata": {
    "collapsed": false
   },
   "outputs": [
    {
     "name": "stdout",
     "output_type": "stream",
     "text": [
      "Previous Baseline Type: rolling\n",
      "Enter Linear, Rolling, or Static: static\n"
     ]
    }
   ],
   "source": [
    "Settings = user_input_base(Settings)"
   ]
  },
  {
   "cell_type": "markdown",
   "metadata": {},
   "source": [
    "### Run baseline"
   ]
  },
  {
   "cell_type": "code",
   "execution_count": 29,
   "metadata": {
    "collapsed": false
   },
   "outputs": [],
   "source": [
    "Data, Settings, Results = baseline_wrapper(Data, Settings, Results)\n",
    "graph_ts(Data, Settings, Results)"
   ]
  },
  {
   "cell_type": "markdown",
   "metadata": {},
   "source": [
    "## Display Settings (Optional)"
   ]
  },
  {
   "cell_type": "markdown",
   "metadata": {},
   "source": [
    "Optional block. Run this at any time to check what your settings are. If it does not appear, it has not been set yet.\n",
    "\n",
    "https://github.com/drcgw/SWAN/wiki/Tutorial#display-settings"
   ]
  },
  {
   "cell_type": "code",
   "execution_count": null,
   "metadata": {
    "collapsed": false
   },
   "outputs": [],
   "source": [
    "Settings_display = display_settings(Settings)\n",
    "Settings_display"
   ]
  },
  {
   "cell_type": "markdown",
   "metadata": {},
   "source": [
    "# Event Detection"
   ]
  },
  {
   "cell_type": "markdown",
   "metadata": {},
   "source": [
    "## Peaks"
   ]
  },
  {
   "cell_type": "markdown",
   "metadata": {},
   "source": [
    "https://github.com/drcgw/SWAN/wiki/Tutorial#peaks"
   ]
  },
  {
   "cell_type": "markdown",
   "metadata": {},
   "source": [
    "### Enter Delta value"
   ]
  },
  {
   "cell_type": "markdown",
   "metadata": {},
   "source": [
    "Choose a delta value (if not already specified) for peak detection. \n",
    "Delta is a 'top-down' threshold for peaks, where a point is considered a peak if there are points lower that it by delta.\n",
    "A larger delta will result in fewer, more selective peaks."
   ]
  },
  {
   "cell_type": "code",
   "execution_count": 15,
   "metadata": {
    "collapsed": false
   },
   "outputs": [
    {
     "name": "stdout",
     "output_type": "stream",
     "text": [
      "Enter delta value between 0 and 0.698: 0.2\n",
      "Enter Peak Minimum value between -0.0642 and 0.6337: -1\n",
      "Enter Peak Maximum value between -1.0 and 0.6337: 1\n"
     ]
    }
   ],
   "source": [
    "Settings = event_peakdet_settings(Data, Settings)"
   ]
  },
  {
   "cell_type": "markdown",
   "metadata": {},
   "source": [
    "### Run Event Peak Detection"
   ]
  },
  {
   "cell_type": "markdown",
   "metadata": {},
   "source": [
    "Run block of code below to run peak deteaction. This block will display a plot of the detected events. It will also print a summary table of the peak amplitude and RR intervals."
   ]
  },
  {
   "cell_type": "code",
   "execution_count": 30,
   "metadata": {
    "collapsed": false
   },
   "outputs": [
    {
     "data": {
      "text/html": [
       "<div style=\"max-height:1000px;max-width:1500px;overflow:auto;\">\n",
       "<table border=\"1\" class=\"dataframe\">\n",
       "  <thead>\n",
       "    <tr style=\"text-align: right;\">\n",
       "      <th></th>\n",
       "      <th></th>\n",
       "      <th>Peaks Amplitude</th>\n",
       "      <th>Intervals</th>\n",
       "    </tr>\n",
       "  </thead>\n",
       "  <tbody>\n",
       "    <tr>\n",
       "      <th rowspan=\"8\" valign=\"top\">Mean1</th>\n",
       "      <th>count</th>\n",
       "      <td>3224.000000</td>\n",
       "      <td>3223.000000</td>\n",
       "    </tr>\n",
       "    <tr>\n",
       "      <th>mean</th>\n",
       "      <td>0.514326</td>\n",
       "      <td>0.188253</td>\n",
       "    </tr>\n",
       "    <tr>\n",
       "      <th>std</th>\n",
       "      <td>0.047384</td>\n",
       "      <td>0.007427</td>\n",
       "    </tr>\n",
       "    <tr>\n",
       "      <th>min</th>\n",
       "      <td>0.403260</td>\n",
       "      <td>0.170000</td>\n",
       "    </tr>\n",
       "    <tr>\n",
       "      <th>25%</th>\n",
       "      <td>0.468488</td>\n",
       "      <td>0.183250</td>\n",
       "    </tr>\n",
       "    <tr>\n",
       "      <th>50%</th>\n",
       "      <td>0.526320</td>\n",
       "      <td>0.188500</td>\n",
       "    </tr>\n",
       "    <tr>\n",
       "      <th>75%</th>\n",
       "      <td>0.550066</td>\n",
       "      <td>0.194250</td>\n",
       "    </tr>\n",
       "    <tr>\n",
       "      <th>max</th>\n",
       "      <td>0.633748</td>\n",
       "      <td>0.202500</td>\n",
       "    </tr>\n",
       "  </tbody>\n",
       "</table>\n",
       "</div>"
      ],
      "text/plain": [
       "             Peaks Amplitude    Intervals\n",
       "Mean1 count      3224.000000  3223.000000\n",
       "      mean          0.514326     0.188253\n",
       "      std           0.047384     0.007427\n",
       "      min           0.403260     0.170000\n",
       "      25%           0.468488     0.183250\n",
       "      50%           0.526320     0.188500\n",
       "      75%           0.550066     0.194250\n",
       "      max           0.633748     0.202500"
      ]
     },
     "execution_count": 30,
     "metadata": {},
     "output_type": "execute_result"
    }
   ],
   "source": [
    "Results = event_peakdet_wrapper(Data, Settings, Results)\n",
    "Results['Peaks-Master'].groupby(level=0).describe()"
   ]
  },
  {
   "cell_type": "markdown",
   "metadata": {},
   "source": [
    "### Plot Events (Optional)"
   ]
  },
  {
   "cell_type": "markdown",
   "metadata": {},
   "source": [
    "Call a column of data by its key (column name). Default name for one column of data is 'Mean1'"
   ]
  },
  {
   "cell_type": "code",
   "execution_count": 17,
   "metadata": {
    "collapsed": false
   },
   "outputs": [],
   "source": [
    "roi = 'Mean1'\n",
    "graph_ts(Data, Settings, Results, roi)"
   ]
  },
  {
   "cell_type": "markdown",
   "metadata": {},
   "source": [
    "## Bursts"
   ]
  },
  {
   "cell_type": "markdown",
   "metadata": {},
   "source": [
    "https://github.com/drcgw/SWAN/wiki/Tutorial#bursts"
   ]
  },
  {
   "cell_type": "markdown",
   "metadata": {},
   "source": [
    "### Enter Threshold and Cluster time values"
   ]
  },
  {
   "cell_type": "markdown",
   "metadata": {},
   "source": [
    "Change the threshperc to adjust the threshold line relative to baseline and cluster_time to adjust how close together bursts can be before the are considered the same event. This is optional if the settings are already set."
   ]
  },
  {
   "cell_type": "code",
   "execution_count": 25,
   "metadata": {
    "collapsed": false
   },
   "outputs": [
    {
     "name": "stdout",
     "output_type": "stream",
     "text": [
      "Previous threshold value: 0.15\n",
      "Enter a threshold value between -0.0642 and 0.6337: 0.13\n",
      "Previous interval value: 0.01\n",
      "Enter the minimum inter-event interval in seconds:0.01\n",
      "Previous Minimum Burst Duration value: 2.0\n",
      "Enter the minimum burst duration in seconds:0\n",
      "Previous Maximum Burst Duration value: 1.0\n",
      "Enter the maximum burst duration in seconds:5\n",
      "Previous Minimum Peaks per Burst number: 1\n",
      "Enter the minimum number of peaks per burst:1\n",
      "Previous Burst Area setting: True\n",
      "Do you want to calculate Burst Area? (True/False):Flase\n",
      "Previous Exclude Edges setting: True\n",
      "Do you want to Exclude Edges? (True/False):False\n"
     ]
    }
   ],
   "source": [
    "Settings = event_burstdet_settings(Data, Settings)"
   ]
  },
  {
   "cell_type": "markdown",
   "metadata": {},
   "source": [
    "### Run Event Burst Detection"
   ]
  },
  {
   "cell_type": "markdown",
   "metadata": {},
   "source": [
    "Run block of code below to run burst deteaction. \n",
    "\n",
    "This block will display a plot of the detected events. \n",
    "\n",
    "It will also print a summary table of start and end times for each event, event duration, interburst interval, and total cycle time."
   ]
  },
  {
   "cell_type": "code",
   "execution_count": 31,
   "metadata": {
    "collapsed": false
   },
   "outputs": [
    {
     "data": {
      "text/html": [
       "<div style=\"max-height:1000px;max-width:1500px;overflow:auto;\">\n",
       "<table border=\"1\" class=\"dataframe\">\n",
       "  <thead>\n",
       "    <tr style=\"text-align: right;\">\n",
       "      <th></th>\n",
       "      <th></th>\n",
       "      <th>Burst Start</th>\n",
       "      <th>Burst End</th>\n",
       "      <th>Burst Duration</th>\n",
       "      <th>Edge Event</th>\n",
       "      <th>Interburst Interval</th>\n",
       "      <th>Total Cycle Time</th>\n",
       "      <th>Peaks per Burst</th>\n",
       "      <th>Peak Amp</th>\n",
       "      <th>Peak Time</th>\n",
       "      <th>Attack</th>\n",
       "      <th>Decay</th>\n",
       "      <th>Intraburst Frequency</th>\n",
       "    </tr>\n",
       "  </thead>\n",
       "  <tbody>\n",
       "    <tr>\n",
       "      <th rowspan=\"8\" valign=\"top\">Mean1</th>\n",
       "      <th>count</th>\n",
       "      <td>3224.000000</td>\n",
       "      <td>3224.000000</td>\n",
       "      <td>3224.000000</td>\n",
       "      <td>3224</td>\n",
       "      <td>3223.000000</td>\n",
       "      <td>3223.000000</td>\n",
       "      <td>3224</td>\n",
       "      <td>3224.000000</td>\n",
       "      <td>3224.000000</td>\n",
       "      <td>3224.000000</td>\n",
       "      <td>3224.000000</td>\n",
       "      <td>3224.000000</td>\n",
       "    </tr>\n",
       "    <tr>\n",
       "      <th>mean</th>\n",
       "      <td>297.234606</td>\n",
       "      <td>297.264828</td>\n",
       "      <td>0.030222</td>\n",
       "      <td>0</td>\n",
       "      <td>0.158032</td>\n",
       "      <td>0.188253</td>\n",
       "      <td>1</td>\n",
       "      <td>0.514326</td>\n",
       "      <td>297.249564</td>\n",
       "      <td>0.014957</td>\n",
       "      <td>0.015265</td>\n",
       "      <td>33.165306</td>\n",
       "    </tr>\n",
       "    <tr>\n",
       "      <th>std</th>\n",
       "      <td>176.070115</td>\n",
       "      <td>176.070941</td>\n",
       "      <td>0.001450</td>\n",
       "      <td>0</td>\n",
       "      <td>0.006746</td>\n",
       "      <td>0.007453</td>\n",
       "      <td>0</td>\n",
       "      <td>0.047384</td>\n",
       "      <td>176.070538</td>\n",
       "      <td>0.000890</td>\n",
       "      <td>0.000722</td>\n",
       "      <td>1.604423</td>\n",
       "    </tr>\n",
       "    <tr>\n",
       "      <th>min</th>\n",
       "      <td>0.120250</td>\n",
       "      <td>0.148250</td>\n",
       "      <td>0.026500</td>\n",
       "      <td>False</td>\n",
       "      <td>0.142000</td>\n",
       "      <td>0.170000</td>\n",
       "      <td>1</td>\n",
       "      <td>0.403260</td>\n",
       "      <td>0.134250</td>\n",
       "      <td>0.013250</td>\n",
       "      <td>0.013250</td>\n",
       "      <td>29.850746</td>\n",
       "    </tr>\n",
       "    <tr>\n",
       "      <th>25%</th>\n",
       "      <td>143.869000</td>\n",
       "      <td>143.897875</td>\n",
       "      <td>0.029250</td>\n",
       "      <td>0</td>\n",
       "      <td>0.154000</td>\n",
       "      <td>0.183000</td>\n",
       "      <td>1</td>\n",
       "      <td>0.468488</td>\n",
       "      <td>143.883188</td>\n",
       "      <td>0.014250</td>\n",
       "      <td>0.014750</td>\n",
       "      <td>32.000000</td>\n",
       "    </tr>\n",
       "    <tr>\n",
       "      <th>50%</th>\n",
       "      <td>293.386625</td>\n",
       "      <td>293.416750</td>\n",
       "      <td>0.030250</td>\n",
       "      <td>0</td>\n",
       "      <td>0.157750</td>\n",
       "      <td>0.188500</td>\n",
       "      <td>1</td>\n",
       "      <td>0.526320</td>\n",
       "      <td>293.401375</td>\n",
       "      <td>0.014750</td>\n",
       "      <td>0.015250</td>\n",
       "      <td>33.057851</td>\n",
       "    </tr>\n",
       "    <tr>\n",
       "      <th>75%</th>\n",
       "      <td>449.120875</td>\n",
       "      <td>449.153063</td>\n",
       "      <td>0.031250</td>\n",
       "      <td>0</td>\n",
       "      <td>0.162750</td>\n",
       "      <td>0.194250</td>\n",
       "      <td>1</td>\n",
       "      <td>0.550066</td>\n",
       "      <td>449.137187</td>\n",
       "      <td>0.015500</td>\n",
       "      <td>0.015750</td>\n",
       "      <td>34.188034</td>\n",
       "    </tr>\n",
       "    <tr>\n",
       "      <th>max</th>\n",
       "      <td>606.860500</td>\n",
       "      <td>606.893000</td>\n",
       "      <td>0.033500</td>\n",
       "      <td>False</td>\n",
       "      <td>0.171750</td>\n",
       "      <td>0.202000</td>\n",
       "      <td>1</td>\n",
       "      <td>0.633748</td>\n",
       "      <td>606.875000</td>\n",
       "      <td>0.017250</td>\n",
       "      <td>0.018000</td>\n",
       "      <td>37.735849</td>\n",
       "    </tr>\n",
       "  </tbody>\n",
       "</table>\n",
       "</div>"
      ],
      "text/plain": [
       "             Burst Start    Burst End  Burst Duration Edge Event  \\\n",
       "Mean1 count  3224.000000  3224.000000     3224.000000       3224   \n",
       "      mean    297.234606   297.264828        0.030222          0   \n",
       "      std     176.070115   176.070941        0.001450          0   \n",
       "      min       0.120250     0.148250        0.026500      False   \n",
       "      25%     143.869000   143.897875        0.029250          0   \n",
       "      50%     293.386625   293.416750        0.030250          0   \n",
       "      75%     449.120875   449.153063        0.031250          0   \n",
       "      max     606.860500   606.893000        0.033500      False   \n",
       "\n",
       "             Interburst Interval  Total Cycle Time  Peaks per Burst  \\\n",
       "Mean1 count          3223.000000       3223.000000             3224   \n",
       "      mean              0.158032          0.188253                1   \n",
       "      std               0.006746          0.007453                0   \n",
       "      min               0.142000          0.170000                1   \n",
       "      25%               0.154000          0.183000                1   \n",
       "      50%               0.157750          0.188500                1   \n",
       "      75%               0.162750          0.194250                1   \n",
       "      max               0.171750          0.202000                1   \n",
       "\n",
       "                Peak Amp    Peak Time       Attack        Decay  \\\n",
       "Mean1 count  3224.000000  3224.000000  3224.000000  3224.000000   \n",
       "      mean      0.514326   297.249564     0.014957     0.015265   \n",
       "      std       0.047384   176.070538     0.000890     0.000722   \n",
       "      min       0.403260     0.134250     0.013250     0.013250   \n",
       "      25%       0.468488   143.883188     0.014250     0.014750   \n",
       "      50%       0.526320   293.401375     0.014750     0.015250   \n",
       "      75%       0.550066   449.137187     0.015500     0.015750   \n",
       "      max       0.633748   606.875000     0.017250     0.018000   \n",
       "\n",
       "             Intraburst Frequency  \n",
       "Mean1 count           3224.000000  \n",
       "      mean              33.165306  \n",
       "      std                1.604423  \n",
       "      min               29.850746  \n",
       "      25%               32.000000  \n",
       "      50%               33.057851  \n",
       "      75%               34.188034  \n",
       "      max               37.735849  "
      ]
     },
     "execution_count": 31,
     "metadata": {},
     "output_type": "execute_result"
    }
   ],
   "source": [
    "Results = event_burstdet_wrapper(Data, Settings, Results)\n",
    "Results['Bursts-Master'].groupby(level=0).describe()"
   ]
  },
  {
   "cell_type": "markdown",
   "metadata": {},
   "source": [
    "### Plot Events (Optional)"
   ]
  },
  {
   "cell_type": "markdown",
   "metadata": {},
   "source": [
    "Call a column of data by its key (column name). Default name for one column of data is 'Mean1'"
   ]
  },
  {
   "cell_type": "code",
   "execution_count": 32,
   "metadata": {
    "collapsed": false
   },
   "outputs": [],
   "source": [
    "roi = 'Mean1'\n",
    "graph_ts(Data, Settings, Results, roi)"
   ]
  },
  {
   "cell_type": "markdown",
   "metadata": {},
   "source": [
    "## Save all files and settings"
   ]
  },
  {
   "cell_type": "markdown",
   "metadata": {},
   "source": [
    "https://github.com/drcgw/SWAN/wiki/Tutorial#save-all-files-and-settings"
   ]
  },
  {
   "cell_type": "code",
   "execution_count": null,
   "metadata": {
    "collapsed": false
   },
   "outputs": [],
   "source": [
    "Save_Results(Data, Settings, Results)"
   ]
  },
  {
   "cell_type": "markdown",
   "metadata": {},
   "source": [
    "# Event Analysis"
   ]
  },
  {
   "cell_type": "markdown",
   "metadata": {},
   "source": [
    "Now that events are detected, you can analyze them using any of the optional blocks below. "
   ]
  },
  {
   "cell_type": "markdown",
   "metadata": {},
   "source": [
    "# Display Tables"
   ]
  },
  {
   "cell_type": "markdown",
   "metadata": {},
   "source": [
    "### Display Summary Results for Peaks"
   ]
  },
  {
   "cell_type": "code",
   "execution_count": null,
   "metadata": {
    "collapsed": false
   },
   "outputs": [],
   "source": [
    "#grouped summary for peaks\n",
    "Results['Peaks-Master'].groupby(level=0).describe()"
   ]
  },
  {
   "cell_type": "markdown",
   "metadata": {},
   "source": [
    "### Display Summary Results for Peaks"
   ]
  },
  {
   "cell_type": "code",
   "execution_count": null,
   "metadata": {
    "collapsed": false
   },
   "outputs": [],
   "source": [
    "#grouped summary for bursts\n",
    "Results['Bursts-Master'].groupby(level=0).describe()"
   ]
  },
  {
   "cell_type": "markdown",
   "metadata": {},
   "source": [
    "## Results Plots"
   ]
  },
  {
   "cell_type": "markdown",
   "metadata": {},
   "source": [
    "### Poincare Plots"
   ]
  },
  {
   "cell_type": "markdown",
   "metadata": {},
   "source": [
    "Create a Poincare Plot of your favorite varible. Choose an event type (Peaks or Bursts), measurement type, and key. Make sure that whichever varible you chose is only composed of numbers (No NaN or missing values). Calling meas = 'All' not currently supported.\n",
    "\n",
    "Plots are saved by clicking the save button in the pop-up window with your graph. SD1 and SD2 values are not saved automatically.\n",
    "\n",
    "Example:\n",
    "\n",
    "    event_type = 'Bursts'\n",
    "    meas = 'Peaks per Burst'\n",
    "    key = 'Mean1'\n",
    "\n",
    "https://github.com/drcgw/SWAN/wiki/Tutorial#poincare-plots"
   ]
  },
  {
   "cell_type": "code",
   "execution_count": null,
   "metadata": {
    "collapsed": false
   },
   "outputs": [],
   "source": [
    "#quick\n",
    "event_type = 'Bursts'\n",
    "meas = 'Burst Duration'\n",
    "key = 'Mean1'\n",
    "poincare_plot(Results[event_type][key][meas])"
   ]
  },
  {
   "cell_type": "markdown",
   "metadata": {},
   "source": [
    "### Line Plots"
   ]
  },
  {
   "cell_type": "markdown",
   "metadata": {},
   "source": [
    "Create line plots of the raw data as well as the data analysis. \n",
    "\n",
    "Plots are saved by clicking the save button in the pop-up window with your graph.\n",
    "\n",
    "    key = 'Mean1'\n",
    "    start =100 \n",
    "    end= 101\n",
    "\n",
    "https://github.com/drcgw/SWAN/wiki/Tutorial#line-plots"
   ]
  },
  {
   "cell_type": "code",
   "execution_count": null,
   "metadata": {
    "collapsed": false
   },
   "outputs": [],
   "source": [
    "key = 'Mean1'\n",
    "start =100 #start time in seconds\n",
    "end= 101#end time in seconds\n",
    "results_timeseries_plot(key, start, end, Data, Settings, Results)"
   ]
  },
  {
   "cell_type": "markdown",
   "metadata": {},
   "source": [
    "### Autocorrelation Plot"
   ]
  },
  {
   "cell_type": "markdown",
   "metadata": {},
   "source": [
    "Display the Autocorrelation plot of your transformed data.\n",
    "\n",
    "Choose the start and end time in seconds. May be slow\n",
    "\n",
    "    key = 'Mean1'\n",
    "    start = 0 \n",
    "    end = 10"
   ]
  },
  {
   "cell_type": "code",
   "execution_count": null,
   "metadata": {
    "collapsed": false
   },
   "outputs": [],
   "source": [
    "#autocorrelation\n",
    "key = 'Mean1'\n",
    "start = 0 #seconds, where you want the slice to begin\n",
    "end = 10 #seconds, where you want the slice to end. The absolute end is -1\n",
    "autocorrelation_plot(Data['trans'][key][start:end])\n",
    "plt.show()"
   ]
  },
  {
   "cell_type": "markdown",
   "metadata": {},
   "source": [
    "### Frequency Plot"
   ]
  },
  {
   "cell_type": "markdown",
   "metadata": {},
   "source": [
    "Use this block to plot changes of any measurement over time. Does not support 'all'. Example:\n",
    "\n",
    "    event_type = 'Peaks'\n",
    "    meas = 'Intervals'\n",
    "    key = 'Mean1'\n",
    "https://github.com/drcgw/SWAN/wiki/Tutorial#frequency-plot"
   ]
  },
  {
   "cell_type": "code",
   "execution_count": null,
   "metadata": {
    "collapsed": false
   },
   "outputs": [],
   "source": [
    "event_type = 'Peaks'\n",
    "meas = 'Intervals'\n",
    "key = 'Mean1' #'Mean1' default for single wave\n",
    "frequency_plot(event_type, meas, key, Data, Settings, Results)"
   ]
  },
  {
   "cell_type": "markdown",
   "metadata": {},
   "source": [
    "# Power Spectral Density"
   ]
  },
  {
   "cell_type": "markdown",
   "metadata": {},
   "source": [
    "The following blocks allows you to asses the power of event measuments in the frequency domain. While you can call this block on any event measurement, it is intended to be used on interval data (or at least data with units in seconds). Reccomended:\n",
    "\n",
    "    event_type = 'Bursts'\n",
    "    meas = 'Total Cycle Time'\n",
    "    key = 'Mean1'\n",
    "    \n",
    "    event_type = 'Peaks'\n",
    "    meas = 'Intervals'\n",
    "    key = 'Mean1'\n",
    "\n",
    "Because this data is in the frequency domain, we must interpolate it in order to perform a FFT on it.\n",
    "https://github.com/drcgw/SWAN/wiki/Tutorial#power-spectral-density"
   ]
  },
  {
   "cell_type": "markdown",
   "metadata": {},
   "source": [
    "## Settings"
   ]
  },
  {
   "cell_type": "markdown",
   "metadata": {},
   "source": [
    "Use the code block below to specify your settings for event measurment PSD."
   ]
  },
  {
   "cell_type": "code",
   "execution_count": 33,
   "metadata": {
    "collapsed": false
   },
   "outputs": [],
   "source": [
    "Settings['PSD-Event'] = Series(index = ['Hz','ULF', 'VLF', 'LF','HF','dx'])\n",
    "#Set PSD ranges for power in band\n",
    "\n",
    "Settings['PSD-Event']['hz'] = 4.0 #freqency that the interpolation and PSD are performed with.\n",
    "Settings['PSD-Event']['ULF'] = 0.03 #max of the range of the ultra low freq band. range is 0:ulf\n",
    "Settings['PSD-Event']['VLF'] = 0.05 #max of the range of the very low freq band. range is ulf:vlf\n",
    "Settings['PSD-Event']['LF'] = 0.15 #max of the range of the low freq band. range is vlf:lf\n",
    "Settings['PSD-Event']['HF'] = 0.4 #max of the range of the high freq band. range is lf:hf. hf can be no more than (hz/2)\n",
    "Settings['PSD-Event']['dx'] = 10 #segmentation for the area under the curve. "
   ]
  },
  {
   "cell_type": "markdown",
   "metadata": {},
   "source": [
    "## Event PSD"
   ]
  },
  {
   "cell_type": "markdown",
   "metadata": {},
   "source": [
    "Use block below to return the PSD plot, as well as the power in the bands defined by the settings above."
   ]
  },
  {
   "cell_type": "code",
   "execution_count": 34,
   "metadata": {
    "collapsed": false
   },
   "outputs": [
    {
     "name": "stdout",
     "output_type": "stream",
     "text": [
      "Could not calculate power in band.\n"
     ]
    },
    {
     "data": {
      "text/html": [
       "<div style=\"max-height:1000px;max-width:1500px;overflow:auto;\">\n",
       "<table border=\"1\" class=\"dataframe\">\n",
       "  <thead>\n",
       "    <tr style=\"text-align: right;\">\n",
       "      <th></th>\n",
       "    </tr>\n",
       "  </thead>\n",
       "  <tbody>\n",
       "    <tr>\n",
       "      <th>ULF</th>\n",
       "    </tr>\n",
       "    <tr>\n",
       "      <th>VLF</th>\n",
       "    </tr>\n",
       "    <tr>\n",
       "      <th>LF</th>\n",
       "    </tr>\n",
       "    <tr>\n",
       "      <th>HF</th>\n",
       "    </tr>\n",
       "    <tr>\n",
       "      <th>LF/HF</th>\n",
       "    </tr>\n",
       "    <tr>\n",
       "      <th>Scale</th>\n",
       "    </tr>\n",
       "  </tbody>\n",
       "</table>\n",
       "</div>"
      ],
      "text/plain": [
       "Empty DataFrame\n",
       "Columns: []\n",
       "Index: [ULF, VLF, LF, HF, LF/HF, Scale]"
      ]
     },
     "execution_count": 34,
     "metadata": {},
     "output_type": "execute_result"
    }
   ],
   "source": [
    "event_type = 'Peaks'\n",
    "meas = 'Intervals'\n",
    "key = 'Mean1'\n",
    "scale = 'raw'\n",
    "Results = psd_event(event_type, meas, key, scale, Data, Settings, Results)\n",
    "Results['PSD-Event'][key]"
   ]
  },
  {
   "cell_type": "markdown",
   "metadata": {},
   "source": [
    "## Analyze Events by Measurement"
   ]
  },
  {
   "cell_type": "markdown",
   "metadata": {},
   "source": [
    "Generates a line plot with error bars for a given event measurement. X axis is the names of each time series. Display Only. Intended for more than one column of data.\n",
    "\n",
    "    event_type = 'peaks'\n",
    "    meas = 'Peaks Amplitude'"
   ]
  },
  {
   "cell_type": "code",
   "execution_count": null,
   "metadata": {
    "collapsed": false
   },
   "outputs": [],
   "source": [
    "#Get average plots, display only\n",
    "event_type = 'peaks'\n",
    "meas = 'Peaks Amplitude'\n",
    "average_measurement_plot(event_type, meas,Results)"
   ]
  },
  {
   "cell_type": "markdown",
   "metadata": {},
   "source": [
    "## Moving/Sliding Averages, Standard Deviation, and Count"
   ]
  },
  {
   "cell_type": "markdown",
   "metadata": {},
   "source": [
    "Generates the moving **mean**, **standard deviation**, and **count** for a given measurement across all columns of the Data in the form of a DataFrame (displayed as a table).\n",
    "Saves out the dataframes of these three results automatically with the window size in the name as a .csv.\n",
    "If **meas == 'All'**, then the function will loop and produce these tables for all measurements.\n",
    "\n",
    "    event_type = 'Peaks'\n",
    "    meas = 'all'\n",
    "    window = 30"
   ]
  },
  {
   "cell_type": "code",
   "execution_count": null,
   "metadata": {
    "collapsed": false
   },
   "outputs": [],
   "source": [
    "#Moving Stats\n",
    "event_type = 'Peaks'\n",
    "meas = 'all'\n",
    "window = 30 #seconds\n",
    "Results = moving_statistics(event_type, meas, window, Data, Settings, Results)"
   ]
  },
  {
   "cell_type": "markdown",
   "metadata": {},
   "source": [
    "# HistEntropy"
   ]
  },
  {
   "cell_type": "markdown",
   "metadata": {},
   "source": [
    "Calculates the histogram entropy of a measurement for each column of data. Also saves the histogram of each. If meas is set to 'all', then all available measurements from the event_type chosen will be calculated iteratevely. \n",
    "\n",
    "If all of the samples fall in one bin regardless of the bin size, it means we have the most predictable sitution and the entropy is 0. If we have uniformly dist function, the max entropy will be 1\n",
    "\n",
    "    event_type = 'Bursts'\n",
    "    meas = 'all'\n",
    "\n",
    "https://github.com/drcgw/SWAN/wiki/Tutorial#histentropy"
   ]
  },
  {
   "cell_type": "code",
   "execution_count": null,
   "metadata": {
    "collapsed": false
   },
   "outputs": [],
   "source": [
    "#Histogram Entropy\n",
    "event_type = 'Bursts'\n",
    "meas = 'all'\n",
    "Results = histent_wrapper(event_type, meas, Data, Settings, Results)\n",
    "Results['Histogram Entropy']"
   ]
  },
  {
   "cell_type": "markdown",
   "metadata": {},
   "source": [
    "# STOP HERE"
   ]
  },
  {
   "cell_type": "markdown",
   "metadata": {},
   "source": [
    "You can run another file be going back the the **Begin User Input** section and chose another file path."
   ]
  },
  {
   "cell_type": "markdown",
   "metadata": {},
   "source": [
    "# Advanced user options"
   ]
  },
  {
   "cell_type": "markdown",
   "metadata": {},
   "source": [
    "## Approximate entropy"
   ]
  },
  {
   "cell_type": "markdown",
   "metadata": {},
   "source": [
    "this only runs if you have pyEEG installed. **WARNING: THIS FUNCTION RUNS SLOWLY**\n",
    "\n",
    "run the below code to get the approximate entropy of any measurement. Returns the entropy of the entire results array (no windowing). I am using the following M and R values:\n",
    "\n",
    "    M = 2  \n",
    "    R = 0.2*std(measurement)\n",
    "    \n",
    "these values can be modified in the source code. alternatively, you can call ap_entropy directly. \n",
    "\n",
    "**Interpretation**: A time series containing many repetitive patterns has a relatively small ApEn; a less predictable process has a higher ApEn.\n",
    "\n",
    "https://github.com/drcgw/SWAN/wiki/Tutorial#approximate-entropy"
   ]
  },
  {
   "cell_type": "markdown",
   "metadata": {},
   "source": [
    "### Events"
   ]
  },
  {
   "cell_type": "code",
   "execution_count": null,
   "metadata": {
    "collapsed": false
   },
   "outputs": [],
   "source": [
    "#Approximate Entropy\n",
    "event_type = 'Peaks'\n",
    "meas = 'all'\n",
    "Results = ap_entropy_wrapper(event_type, meas, Data, Settings, Results)\n",
    "Results['Approximate Entropy']"
   ]
  },
  {
   "cell_type": "markdown",
   "metadata": {},
   "source": [
    "### Time Series"
   ]
  },
  {
   "cell_type": "code",
   "execution_count": null,
   "metadata": {
    "collapsed": false
   },
   "outputs": [],
   "source": [
    "#Approximate Entropy on raw signal\n",
    "#takes a VERY long time\n",
    "from pyeeg import ap_entropy\n",
    "\n",
    "version = 'original' #original, trans, shift, or rolling\n",
    "key = 'Mean1' #Mean1 default key for one time series\n",
    "start = 0 #seconds, where you want the slice to begin\n",
    "end = 1 #seconds, where you want the slice to end. The absolute end is -1\n",
    "\n",
    "ap_entropy(Data[version][key][start:end].tolist(), 2, (0.2*np.std(Data[version][key][start:end])))"
   ]
  },
  {
   "cell_type": "markdown",
   "metadata": {},
   "source": [
    "### Sample Entropy"
   ]
  },
  {
   "cell_type": "markdown",
   "metadata": {},
   "source": [
    "this only runs if you have pyEEG installed. **WARNING: THIS FUNCTION RUNS SLOWLY**\n",
    "\n",
    "run the below code to get the sample entropy of any measurement. Returns the entropy of the entire results array (no windowing). I am using the following M and R values:\n",
    "\n",
    "    M = 2  \n",
    "    R = 0.2*std(measurement)\n",
    "    \n",
    "these values can be modified in the source code. alternatively, you can call samp_entropy directly. "
   ]
  },
  {
   "cell_type": "markdown",
   "metadata": {},
   "source": [
    "### Events"
   ]
  },
  {
   "cell_type": "markdown",
   "metadata": {},
   "source": [
    "### Time Series"
   ]
  },
  {
   "cell_type": "code",
   "execution_count": null,
   "metadata": {
    "collapsed": false
   },
   "outputs": [],
   "source": [
    "#Sample Entropy on raw signal\n",
    "#takes a VERY long time\n",
    "from pyeeg import samp_entropy\n",
    "\n",
    "version = 'original' #original, trans, shift, or rolling\n",
    "key = 'Mean1' #Mean1 default key for one time series\n",
    "start = 0 #seconds, where you want the slice to begin\n",
    "end = 1 #seconds, where you want the slice to end. The absolute end is -1\n",
    "\n",
    "samp_entropy(Data[version][key][start:end].tolist(), 2, (0.2*np.std(Data[version][key][start:end])))"
   ]
  },
  {
   "cell_type": "code",
   "execution_count": null,
   "metadata": {
    "collapsed": false
   },
   "outputs": [],
   "source": [
    "#on raw signal\n",
    "#takes a VERY long time\n",
    "version = 'original' #original, trans, shift, or rolling\n",
    "key = 'Mean1' #Mean1 default key for one time series\n",
    "start = 0 #seconds, where you want the slice to begin\n",
    "end = 1 #seconds, where you want the slice to end. The absolute end is -1\n",
    "\n",
    "samp_entropy(Data[version][key][start:end].tolist(), 2, (0.2*np.std(Data[version][key][start:end])))"
   ]
  },
  {
   "cell_type": "markdown",
   "metadata": {},
   "source": [
    "# Blank Code block"
   ]
  },
  {
   "cell_type": "markdown",
   "metadata": {},
   "source": [
    "you're still here, reading? you must be a dedicated super user!\n",
    "\n",
    "If that is the case, then you must know how to code in Python. Use this space to get crazy with your own advanced analysis and stuff."
   ]
  },
  {
   "cell_type": "code",
   "execution_count": null,
   "metadata": {
    "collapsed": false
   },
   "outputs": [],
   "source": []
  }
 ],
 "metadata": {
  "kernelspec": {
   "display_name": "Python 2",
   "language": "python",
   "name": "python2"
  },
  "language_info": {
   "codemirror_mode": {
    "name": "ipython",
    "version": 2
   },
   "file_extension": ".py",
   "mimetype": "text/x-python",
   "name": "python",
   "nbconvert_exporter": "python",
   "pygments_lexer": "ipython2",
   "version": "2.7.6"
  }
 },
 "nbformat": 4,
 "nbformat_minor": 0
}
