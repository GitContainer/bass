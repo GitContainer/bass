{
 "metadata": {
  "name": "",
  "signature": "sha256:bec5b4e72e3af48d4cd0f5be91e92649dd27c527771f4104ce75d682d86bccc5"
 },
 "nbformat": 3,
 "nbformat_minor": 0,
 "worksheets": [
  {
   "cells": [
    {
     "cell_type": "heading",
     "level": 1,
     "metadata": {},
     "source": [
      "Welcome to SWAN"
     ]
    },
    {
     "cell_type": "markdown",
     "metadata": {},
     "source": [
      "Single Wave Analysis Notebook."
     ]
    },
    {
     "cell_type": "markdown",
     "metadata": {},
     "source": [
      "    SWAN: Single Wave Analysis Notebook for event detection and signal processing.\n",
      "    Copyright (C) 2014  Abigail Dobyns\n",
      "\n",
      "    This program is free software: you can redistribute it and/or modify\n",
      "    it under the terms of the GNU General Public License as published by\n",
      "    the Free Software Foundation, either version 3 of the License, or\n",
      "    (at your option) any later version.\n",
      "\n",
      "    This program is distributed in the hope that it will be useful,\n",
      "    but WITHOUT ANY WARRANTY; without even the implied warranty of\n",
      "    MERCHANTABILITY or FITNESS FOR A PARTICULAR PURPOSE.  See the\n",
      "    GNU General Public License for more details.\n",
      "\n",
      "    You should have received a copy of the GNU General Public License\n",
      "    along with this program.  If not, see <http://www.gnu.org/licenses/>"
     ]
    },
    {
     "cell_type": "heading",
     "level": 2,
     "metadata": {},
     "source": [
      "Initalize"
     ]
    },
    {
     "cell_type": "markdown",
     "metadata": {},
     "source": [
      "Run the following code block to intialize the program."
     ]
    },
    {
     "cell_type": "code",
     "collapsed": false,
     "input": [
      "import numpy as np\n",
      "import scipy\n",
      "from scipy import signal, fft, arange\n",
      "import matplotlib.pyplot as plt\n",
      "from pandas import Series, DataFrame\n",
      "import pandas as pd\n",
      "import sys\n",
      "import matplotlib.patches as patches\n",
      "import time as t\n",
      "import sys\n",
      "import os, errno\n",
      "from numpy import NaN, Inf, arange, isscalar, asarray, array\n",
      "from matplotlib.widgets import *\n",
      "import datetime\n",
      "from matplotlib import cbook\n",
      "from scipy.signal import butter, lfilter\n",
      "\n",
      "#\n",
      "#Upload\n",
      "#Data and Settings. \n",
      "#\n",
      "def mkdir_p(path):\n",
      "    '''\n",
      "    This function creates a folder at the end of the specified path, unless the folder already exsists. \n",
      "    '''\n",
      "    try:\n",
      "        os.makedirs(path)\n",
      "    except OSError as exc: # Python >2.5\n",
      "        if exc.errno == errno.EEXIST and os.path.isdir(path):\n",
      "            pass\n",
      "        else: raise\n",
      "            \n",
      "def load_data():\n",
      "    '''\n",
      "    this function loads in the data file, which should be a single wave in a tab seperated text file with no header.\n",
      "    '''\n",
      "    load_path = raw_input(\"Full File Path for data input: \")\n",
      "    path = raw_input(\"Full File Path for data output: \")\n",
      "\n",
      "    if path[-1] == '/':\n",
      "        path = path[:-1]\n",
      "\n",
      "    folder = raw_input(\"Sample Name: \")\n",
      "    #rate = float(raw_input(\"Sample rate in seconds/frame: \"))\n",
      "\n",
      "    time, data = np.loadtxt(load_path, delimiter=\"\\t\", usecols=(0,1),  unpack=True)\n",
      "    mkdir_p(path+'/'+folder)\n",
      "    rate = time[1] - time[0] #changed so that there isn't a prompt for it\n",
      "\n",
      "    Settings = {'Uploaded File Location':load_path, 'Save Location':path, \n",
      "                'Sample Folder':folder, 'Sample Rate (s/frame)':rate} \n",
      "    #this is the object that will contain all information about the analysis that was performed. it is saved out as a CSV later. \n",
      "    #A new one is initialized everytime the data is loaded in.\n",
      "\n",
      "    Data = {'original':Series(data = data, index = time)}\n",
      "    Results = {} #make this here to clean all old results\n",
      "\n",
      "    print 'Sample',folder, 'is', (time[-1]-time[0]), 'seconds long'\n",
      "    return Data, Settings, Results\n",
      "\n",
      "def string_eval(string):\n",
      "    try:\n",
      "        num = float(string)\n",
      "        return num\n",
      "    except ValueError:\n",
      "        return string\n",
      "\n",
      "def load_settings(Settings):\n",
      "    '''\n",
      "    '''\n",
      "    from ast import literal_eval\n",
      "    load_set_path = raw_input(\"Full File Path for Settings file: \")\n",
      "    \n",
      "    settings_temp = pd.read_csv(load_set_path, index_col=0, header=0)\n",
      "    exclusion_list = ['Uploaded File Location', 'Sample Folder', \n",
      "                      'Sample Rate (s/frame)', 'Save Location', \n",
      "                      'Baseline', 'Baseline rolling', 'Settings File']\n",
      "    settings_temp = settings_temp.ix[:,0]\n",
      "    for key, val in settings_temp.iteritems():\n",
      "        \n",
      "        if key in exclusion_list:\n",
      "            continue\n",
      "        else:\n",
      "            #print key, val\n",
      "            Settings[key] = string_eval(val)\n",
      "            \n",
      "            if val == 'True':\n",
      "                Settings[key] = True\n",
      "            if val == 'False':\n",
      "                Settings[key] = False\n",
      "                \n",
      "    Settings['Settings File'] = load_set_path\n",
      "    return Settings\n",
      "\n",
      "def display_settings(Settings):\n",
      "    '''\n",
      "    '''\n",
      "    Settings_copy = Settings.copy()\n",
      "    \n",
      "    if 'Baseline rolling' in Settings_copy.keys():\n",
      "        Settings_copy['Baseline rolling'] = True\n",
      "    Settings_copy = DataFrame.from_dict(Settings_copy, orient='index')\n",
      "    Settings_copy.columns = ['Value']\n",
      "    Settings_copy = Settings_copy.sort()\n",
      "    return Settings_copy\n",
      "\n",
      "#\n",
      "#Transform\n",
      "#wrappers and functions\n",
      "#\n",
      "def savitzky_golay(y, window_size, order, deriv=0, rate=1):\n",
      "    r\"\"\"Smooth (and optionally differentiate) data with a Savitzky-Golay filter.\n",
      "    The Savitzky-Golay filter removes high frequency noise from data.\n",
      "    It has the advantage of preserving the original shape and\n",
      "    features of the signal better than other types of filtering\n",
      "    approaches, such as moving averages techniques.\n",
      "    Parameters\n",
      "    ----------\n",
      "    y : array_like, shape (N,)\n",
      "        the values of the time history of the signal.\n",
      "    window_size : int\n",
      "        the length of the window. Must be an odd integer number.\n",
      "    order : int\n",
      "        the order of the polynomial used in the filtering.\n",
      "        Must be less then `window_size` - 1.\n",
      "    deriv: int\n",
      "        the order of the derivative to compute (default = 0 means only smoothing)\n",
      "    Returns\n",
      "    -------\n",
      "    ys : ndarray, shape (N)\n",
      "        the smoothed signal (or it's n-th derivative).\n",
      "    Notes\n",
      "    -----\n",
      "    The Savitzky-Golay is a type of low-pass filter, particularly\n",
      "    suited for smoothing noisy data. The main idea behind this\n",
      "    approach is to make for each point a least-square fit with a\n",
      "    polynomial of high order over a odd-sized window centered at\n",
      "    the point.\n",
      "    Examples\n",
      "    --------\n",
      "    t = np.linspace(-4, 4, 500)\n",
      "    y = np.exp( -t**2 ) + np.random.normal(0, 0.05, t.shape)\n",
      "    ysg = savitzky_golay(y, window_size=31, order=4)\n",
      "    import matplotlib.pyplot as plt\n",
      "    plt.plot(t, y, label='Noisy signal')\n",
      "    plt.plot(t, np.exp(-t**2), 'k', lw=1.5, label='Original signal')\n",
      "    plt.plot(t, ysg, 'r', label='Filtered signal')\n",
      "    plt.legend()\n",
      "    plt.show()\n",
      "    References\n",
      "    ----------\n",
      "    .. [1] A. Savitzky, M. J. E. Golay, Smoothing and Differentiation of\n",
      "       Data by Simplified Least Squares Procedures. Analytical\n",
      "       Chemistry, 1964, 36 (8), pp 1627-1639.\n",
      "    .. [2] Numerical Recipes 3rd Edition: The Art of Scientific Computing\n",
      "       W.H. Press, S.A. Teukolsky, W.T. Vetterling, B.P. Flannery\n",
      "       Cambridge University Press ISBN-13: 9780521880688\n",
      "    \"\"\"\n",
      "    import numpy as np\n",
      "    from math import factorial\n",
      "\n",
      "    try:\n",
      "        window_size = np.abs(np.int(window_size))\n",
      "        order = np.abs(np.int(order))\n",
      "    except ValueError, msg:\n",
      "        raise ValueError(\"window_size and order have to be of type int\")\n",
      "    if window_size % 2 != 1 or window_size < 1:\n",
      "        raise TypeError(\"window_size size must be a positive odd number\")\n",
      "    if window_size < order + 2:\n",
      "        raise TypeError(\"window_size is too small for the polynomials order\")\n",
      "    order_range = range(order+1)\n",
      "    half_window = (window_size -1) // 2\n",
      "    # precompute coefficients\n",
      "    b = np.mat([[k**i for i in order_range] for k in range(-half_window, half_window+1)])\n",
      "    m = np.linalg.pinv(b).A[deriv] * rate**deriv * factorial(deriv)\n",
      "    # pad the signal at the extremes with\n",
      "    # values taken from the signal itself\n",
      "    firstvals = y[0] - np.abs( y[1:half_window+1][::-1] - y[0] )\n",
      "    lastvals = y[-1] + np.abs(y[-half_window-1:-1][::-1] - y[-1])\n",
      "    y = np.concatenate((firstvals, y, lastvals))\n",
      "    return np.convolve( m[::-1], y, mode='valid')\n",
      "\n",
      "def butter_bandpass(lowcut, highcut, fs, order=5):\n",
      "    nyq = 0.5 * fs\n",
      "    low = lowcut / nyq\n",
      "    high = highcut / nyq\n",
      "    b, a = butter(order, [low, high], btype='band')\n",
      "    return b, a\n",
      "\n",
      "\n",
      "def butter_bandpass_filter(data, lowcut, highcut, fs, order=5):\n",
      "    b, a = butter_bandpass(lowcut, highcut, fs, order=order)\n",
      "    y = lfilter(b, a, data)\n",
      "    return y\n",
      "def user_input_trans(settings):\n",
      "    '''\n",
      "    this function allows the user to specify and save their settings for later \n",
      "    analysis in an interactive way.\n",
      "    The only argument passed in and out is the Settings Dictionary.\n",
      "    '''\n",
      "    \n",
      "    #print \"Enter the parameters of the functions you would like to use to transform your data. \"\n",
      "    #print \"If you do not want to use a function, enter 'none'\"\n",
      "    \n",
      "    if 'Linear Fit' in Settings.keys():\n",
      "        print \"Previous Linear Fit setting: %s\" %Settings['Linear Fit']\n",
      "    lin_param1 = linear_settings()\n",
      "    settings['Linear Fit'] = lin_param1\n",
      "    \n",
      "    if 'Bandpass Lowcut' in Settings.keys():\n",
      "        print \"Previous Bandpass setting: %s, %s, %s\" %(Settings['Bandpass Lowcut'], \n",
      "                                                        Settings['Bandpass Highcut'], \n",
      "                                                        Settings['Bandpass Polynomial'])\n",
      "    lowcut, highcut, poly_band = bandpass_settings()\n",
      "    settings['Bandpass Lowcut'] = lowcut\n",
      "    settings['Bandpass Highcut'] = highcut\n",
      "    settings['Bandpass Polynomial'] = poly_band\n",
      "    \n",
      "    if 'Savitsky-Golay Window Size' in Settings.keys():\n",
      "        print \"Previous Savitsky-Golay setting: %s, %s\" %(Settings['Savitsky-Golay Window Size'], \n",
      "                                                        Settings['Savitsky-Golay Polynomial'])\n",
      "    window_sav, poly_sav = savgolay_settings()\n",
      "    settings['Savitsky-Golay Window Size'] = window_sav\n",
      "    settings['Savitsky-Golay Polynomial'] = poly_sav\n",
      "    \n",
      "    if window_sav != 'none':\n",
      "        settings['Absolute Value'] = True\n",
      "    \n",
      "    else:\n",
      "        if 'Absolute Value' in Settings.keys():\n",
      "            print \"Previous Absolute Value: %s\" %Settings['Absolute Value']\n",
      "        abs_set = abs_settings()\n",
      "        settings['Absolute Value'] = abs_set\n",
      "    \n",
      "    print \"Settings Saved\"\n",
      "    return settings\n",
      "\n",
      "def savgolay_settings():\n",
      "    print \"Enter the Savitsky Golay filter settings seperated by a comma. Window size must be odd.\"\n",
      "    \n",
      "    temp_list = raw_input(\"Savitsky Golay Settings (window, polynomial): \").lower()\n",
      "    \n",
      "    temp_list = temp_list.split(',')\n",
      "    \n",
      "    if temp_list[0] == \"none\" or temp_list[0] == \"false\":\n",
      "        window = \"none\"\n",
      "        poly = \"none\"\n",
      "    else:\n",
      "        window = int(temp_list[0])\n",
      "        poly = int(temp_list[1])\n",
      "    return window, poly\n",
      "    '''\n",
      "    if len(temp_list) != 2:\n",
      "        print \"ERROR: There should be two parameters separated by a comma.\"\n",
      "        print \" \"\n",
      "        savgolay_settings()\n",
      "    if window % 2 == 0:\n",
      "        print \"ERROR: window size must be odd.\"\n",
      "        print \" \"\n",
      "        savgolay_settings()\n",
      "    '''\n",
      "def bandpass_settings():\n",
      "    print \"Enter the butterworth bandpass settings seperated by a comma. cuts are in hertz and poly should be an interger.\"\n",
      "    \n",
      "    temp_list = raw_input(\"Bandpass Settings (lowcut, highcut,polynomial): \").lower()\n",
      "    \n",
      "    temp_list = temp_list.split(',')\n",
      "    \n",
      "    if temp_list[0] == \"none\" or temp_list[0] == \"false\":\n",
      "        lowcut = \"none\"\n",
      "        highcut = \"none\"\n",
      "        poly = \"none\"\n",
      "    else:\n",
      "        lowcut = float(temp_list[0])\n",
      "        highcut = float(temp_list[1])\n",
      "        poly = int(temp_list[2])\n",
      "    return lowcut, highcut, poly\n",
      "\n",
      "def abs_settings():\n",
      "    print \"Enter True or False to turn on or off the absolute value.\"\n",
      "    abs_set = raw_input(\"Absolute Value (True/False): \").lower()\n",
      "    \n",
      "    if abs_set == \"true\":\n",
      "        abs_set = True\n",
      "    else:\n",
      "        abs_set = False\n",
      "    return abs_set\n",
      "\n",
      "def linear_settings():\n",
      "    print \"Enter True or False to turn on or off the linear fit.\"\n",
      "    lin_param = raw_input(\"Linear Fit (True/False): \").lower()\n",
      "    \n",
      "    if lin_param == \"true\":\n",
      "        lin_param = True\n",
      "    else:\n",
      "        lin_param = False\n",
      "    return lin_param\n",
      "\n",
      "def linear_subtraction(data):\n",
      "    '''\n",
      "    '''\n",
      "    time = arange(len(data)) #arb time array, each val an int\n",
      "\n",
      "    A = np.vstack([time, np.ones(len(time))]).T #matrix required for solving the lstsq, which we want for the fit\n",
      "    m, c = np.linalg.lstsq(A, data)[0] # find coef. for the y = m*x + c equation\n",
      "\n",
      "    count = 0\n",
      "    ls_tf = []\n",
      "\n",
      "    for point in data: #this is the line subtraction\n",
      "        x = (m * count) + c \n",
      "        y = point - x\n",
      "        ls_tf.append(y)\n",
      "        count = count +1\n",
      "    \n",
      "    return np.array(ls_tf)\n",
      "    \n",
      "def transformation(Data, Settings):\n",
      "    \n",
      "    data_trans = np.array(Data['original'])\n",
      "    \n",
      "    if Settings['Linear Fit'] == True:\n",
      "        data_trans = linear_subtraction(data_trans)\n",
      "        \n",
      "    if Settings['Bandpass Lowcut'] != 'none':\n",
      "        data_trans = butter_bandpass_filter(data_trans, Settings['Bandpass Lowcut'], \n",
      "                                            Settings['Bandpass Highcut'], \n",
      "                                            1/Settings['Sample Rate (s/frame)'], \n",
      "                                            order= Settings['Bandpass Polynomial'])\n",
      "    \n",
      "    if Settings['Absolute Value'] == True:\n",
      "        data_trans = abs(data_trans)\n",
      "    \n",
      "    if Settings['Savitsky-Golay Window Size'] != 'none':\n",
      "        data_trans =savitzky_golay(data_trans, Settings['Savitsky-Golay Window Size'], \n",
      "                                   Settings['Savitsky-Golay Polynomial'])\n",
      "    \n",
      "    #baseline and thresholding is moved to its own call threshold()\n",
      "    #base, data_shift =baseline(data_trans,settings['Sample Rate (s/frame)']) \n",
      "    #settings['Baseline'] = base\n",
      "    \n",
      "    data_trans = Series(data = data_trans, index = Data['original'].index)\n",
      "    Data['trans'] = data_trans\n",
      "    graph_trans(Data)\n",
      "    return Data, Settings\n",
      "\n",
      "def graph_trans(Data):\n",
      "    figure = plt.plot(Data['trans'].index, Data['trans'], 'k')\n",
      "    plt.title('Transformed Data')\n",
      "    plt.xlabel('Time (s)')\n",
      "    plt.ylabel('Relative Amplitude')\n",
      "    DataCursor(figure)\n",
      "    plt.show(figure)\n",
      "\n",
      "#\n",
      "#Baseline\n",
      "#\n",
      "#\n",
      "def user_input_base(Settings):\n",
      "    '''\n",
      "    \n",
      "    '''\n",
      "    if 'Baseline Type' in Settings.keys():\n",
      "        print \"Previous Baseline Type: %s\" %Settings['Baseline Type']\n",
      "        \n",
      "    baseline_type = raw_input('Enter Linear or Rolling: ').lower()\n",
      "    \n",
      "    if baseline_type == 'linear':\n",
      "        Settings['Baseline Type'] = baseline_type\n",
      "    \n",
      "    elif baseline_type == 'linear' or baseline_type == 'rolling':\n",
      "        \n",
      "        Settings['Baseline Type'] = baseline_type\n",
      "        if 'Rolling Baseline Window' in Settings.keys():\n",
      "            print \"Previous Rolling Baseline Window: %s\" %Settings['Rolling Baseline Window']\n",
      "        print \"Enter the window size of the rolling baseline in milliseconds.\"\n",
      "        Settings['Rolling Baseline Window'] = float(raw_input('Window size in ms: '))\n",
      "        window = float(Settings['Rolling Baseline Window'])\n",
      "        \n",
      "        #convert window (ms) to index\n",
      "        window = int((window/1000.0)/Settings['Sample Rate (s/frame)'])\n",
      "        \n",
      "        if window < 2:\n",
      "            print (\"You entered a window size so small it won't run. Give me a larger window size.\")\n",
      "            user_input_base(Settings)\n",
      "    \n",
      "    else:\n",
      "        print 'That was not an acceptable baseline type. Try again.'\n",
      "        user_input_base(Settings)\n",
      "    return Settings\n",
      "\n",
      "def baseline(Data, Settings):\n",
      "    '''\n",
      "    asks the user which type of thresholding they'd like to use: linear or rolling.\n",
      "    linear baseline assumes that the first .1s of data are 'baseline' and not an event\n",
      "    rolling will take a moving average of a given window size, but will clip one window \n",
      "    length of data (half of the window size from each end)\n",
      "    returns an array (either shift or rolling mean), the Settings dict, and the time and data_trans arrays (which are modified)\n",
      "    '''\n",
      "    if Settings['Baseline Type'] == 'linear':\n",
      "        base, data_shift =baseline_lin(np.array(Data['trans']),\n",
      "                                       Settings['Sample Rate (s/frame)'])\n",
      "        Settings['Baseline'] = base\n",
      "        data_shift = Series(data = data_shift, index = Data['original'].index)\n",
      "        Data['shift'] = data_shift\n",
      "        #return data_shift, Settings, time, data_trans\n",
      "    \n",
      "    elif Settings['Baseline Type'] == 'rolling':\n",
      "           \n",
      "        rolling_mean, data_roll, time_roll = baseline_rolling(Data['original'].index, \n",
      "                                                              np.array(Data['trans']), \n",
      "                                                              Settings['Rolling Baseline Window'])\n",
      "        data_roll = Series(data = data_roll, index = time_roll)\n",
      "        rolling_mean = Series(data = rolling_mean, index = time_roll)\n",
      "        Data['rolling'] = data_roll\n",
      "        Settings['Baseline rolling'] = rolling_mean\n",
      "        \n",
      "    graph_baseline(Data, Settings)\n",
      "    return Data, Settings\n",
      "\n",
      "def baseline_lin(data,rate):\n",
      "    '''\n",
      "    input data array (list) and rate value (capture rate in seconds), returns the baserate average and the shifted data array.\n",
      "    using the first 0.1 s of data, find average of all data values. this becomes the baseline. \n",
      "    this means that the first 0.5 seconds of data MUST be clean and not include and event.\n",
      "    baseline is used later in burst measurements\n",
      "    import numpy as np\n",
      "    '''\n",
      "    \n",
      "    index = 0.1/rate #find the index of the first 0.1 seconds of data\n",
      "    baserate = np.mean(data[:index]) #average all points to obtain baserate\n",
      "    \n",
      "    datashift = []\n",
      "    \n",
      "    #may be able to use np.subtract(data,base) instead, but this seems to work correctly.\n",
      "    for x in data:\n",
      "        foo = (x-baserate)\n",
      "        datashift.append(foo)\n",
      "        \n",
      "    return abs(baserate), datashift\n",
      "        \n",
      "def baseline_rolling(time, data_trans, window):\n",
      "    \n",
      "    rolling_mean = pd.rolling_mean(data_trans, window)\n",
      "    \n",
      "    time = time[(window/2):-(window/2)]\n",
      "    data_trans = data_trans[(window/2):-(window/2)]\n",
      "    rolling_mean = rolling_mean[window:]\n",
      "    \n",
      "    #sanity check\n",
      "    if len(data_trans) != len(rolling_mean):\n",
      "        raise Exception(\"Something has gone horribly wrong. The data arrays are no longer the same size nor aligning. Restart the notebooke and try again.\")\n",
      "    return rolling_mean, data_trans, time\n",
      "\n",
      "def graph_baseline(Data, Settings):\n",
      "    '''\n",
      "    plot the results of the baseline thresholding. will handle both linear and rolling\n",
      "    '''\n",
      "    \n",
      "    if Settings['Baseline Type'] == 'linear':\n",
      "        \n",
      "        plt.plot(Data['shift'].index, Data['shift'], 'k') #in this instance, baseline = shift\n",
      "        plt.xlabel('Time (s)')\n",
      "        plt.ylabel('Amp')\n",
      "        plt.hlines(0,Data['shift'].index[0],Data['shift'].index[-1],colors='b')\n",
      "        #plt.xlim(xmin = min(time), xmax = (min(time)+10))\n",
      "        #plt.ylim(ymin = min(data_baseline), ymax = max(data_baseline))\n",
      "        plt.title('Linear Baseline')\n",
      "\n",
      "        plt.show()\n",
      "    \n",
      "    elif Settings['Baseline Type'] == 'rolling':\n",
      "        \n",
      "        plt.plot(Data['rolling'].index, Data['rolling'], 'k')\n",
      "        plt.xlabel('Time (s)')\n",
      "        plt.ylabel('Amp')\n",
      "        plt.plot(Settings['Baseline rolling'].index, Settings['Baseline rolling'], 'b') #in this instance, baseline = rolling average\n",
      "        plt.title('Rolling Baseline')\n",
      "        #plt.xlim(xmin = min(time), xmax = (min(time)+10))\n",
      "       # plt.ylim(ymin = min(data_baseline), ymax = max(data_baseline))\n",
      "        \n",
      "        plt.show()\n",
      "\n",
      "#\n",
      "#Event-Peak Detection\n",
      "#\n",
      "#\n",
      "def event_peakdet_settings(Settings):\n",
      "    if 'Delta' in Settings.keys():\n",
      "        print \"Previous delta value: %s\" %Settings['Delta']\n",
      "    delta = raw_input(\"Enter delta value between 0 and %s: \" %round(max(Data['trans']),4))\n",
      "    delta = float(delta)\n",
      "    Settings['Delta'] = delta\n",
      "    return Settings\n",
      "\n",
      "def event_peakdet(Data, Settings, Results):\n",
      "    \n",
      "    if Settings['Baseline Type'] == 'linear':\n",
      "        maxtab, mintab = peakdet(np.array(Data['trans']), Settings['Delta'], None)\n",
      "        maxtab = np.array(maxtab)\n",
      "        maxptime = maxtab[:,0] #all of the rows and only the first column are time\n",
      "        maxptime_true = (np.multiply(maxptime, Settings['Sample Rate (s/frame)'])\n",
      "                         + Data['trans'].index[0]) #get the real time for each peak\n",
      "        maxpeaks = maxtab[:,1]\n",
      "        maxpeaks = (np.subtract(maxpeaks,Settings['Baseline']))\n",
      "            \n",
      "    elif Settings['Baseline Type'] == 'rolling':\n",
      "        maxtab, mintab = peakdet(np.array(Data['rolling']), Settings['Delta'], None)\n",
      "        maxtab = np.array(maxtab)\n",
      "        maxptime = maxtab[:,0] #all of the rows and only the first column are time\n",
      "        maxptime_true = (np.multiply(maxptime, Settings['Sample Rate (s/frame)'])\n",
      "                         + Data['rolling'].index[0]) #get the real time for each peak\n",
      "        maxpeaks = maxtab[:,1]\n",
      "\n",
      "    RR = rrinterval(maxptime_true)\n",
      "    RR.append(NaN)\n",
      "    results_peaks = DataFrame({'Peaks Amplitude':maxpeaks}, index=maxptime_true)\n",
      "    results_peaks['R-R intervals'] = RR\n",
      "    Results['Peaks'] = results_peaks\n",
      "    \n",
      "    Results['Peaks Summary'] = results_peaks.describe()\n",
      "    peak_plot(Data, Settings, Results)\n",
      "    \n",
      "    return Results\n",
      "\n",
      "def peak_plot(Data, Settings, Results):\n",
      "    '''\n",
      "    wrapper to plot the results of the peak detection. \n",
      "    use the time and data_shift arrays for the data. use maxptime and maxpeaks to plot peaks.\n",
      "    '''\n",
      "    if Settings['Baseline Type'] == 'linear':\n",
      "        \n",
      "        plt.plot(Data['shift'].index, Data['shift'], 'k') #in this instance, baseline = shift\n",
      "        plt.xlabel('Time (s)')\n",
      "        plt.ylabel('Amp')\n",
      "        plt.hlines(0,Data['shift'].index[0],Data['shift'].index[-1],colors='b')\n",
      "        #plt.xlim(xmin = min(time), xmax = (min(time)+10))\n",
      "        #plt.ylim(ymin = min(data_baseline), ymax = max(data_baseline))\n",
      "        plt.plot(Results['Peaks'].index,Results['Peaks']['Peaks Amplitude'], marker = \"^\", color=\"g\", linestyle= \"None\")\n",
      "        plt.title('Peak Detection')\n",
      "\n",
      "        plt.show()\n",
      "    \n",
      "    elif Settings['Baseline Type'] == 'rolling':\n",
      "        \n",
      "        plt.plot(Data['rolling'].index, Data['rolling'], 'k')\n",
      "        plt.xlabel('Time (s)')\n",
      "        plt.ylabel('Amp')\n",
      "        plt.plot(Settings['Baseline rolling'].index, Settings['Baseline rolling'], 'b') #in this instance, baseline = rolling average\n",
      "        plt.plot(Results['Peaks'].index,Results['Peaks']['Peaks Amplitude'], marker = \"^\", color=\"g\", linestyle= \"None\")\n",
      "        plt.title('Peak Detection')\n",
      "        #plt.xlim(xmin = min(time), xmax = (min(time)+10))\n",
      "       # plt.ylim(ymin = min(data_baseline), ymax = max(data_baseline))\n",
      "        \n",
      "        plt.show()\n",
      "\n",
      "def peakdet(v, delta, x = None):\n",
      "    \"\"\"\n",
      "    Converted from MATLAB script at http://billauer.co.il/peakdet.html\n",
      "    \n",
      "    Returns two arrays\n",
      "    \n",
      "    function [maxtab, mintab]=peakdet(v, delta, x)\n",
      "    %PEAKDET Detect peaks in a vector\n",
      "    %        [MAXTAB, MINTAB] = PEAKDET(V, DELTA) finds the local\n",
      "    %        maxima and minima (\"peaks\") in the vector V.\n",
      "    %        MAXTAB and MINTAB consists of two columns. Column 1\n",
      "    %        contains indices in V, and column 2 the found values.\n",
      "    %      \n",
      "    %        With [MAXTAB, MINTAB] = PEAKDET(V, DELTA, X) the indices\n",
      "    %        in MAXTAB and MINTAB are replaced with the corresponding\n",
      "    %        X-values.\n",
      "    %\n",
      "    %        A point is considered a maximum peak if it has the maximal\n",
      "    %        value, and was preceded (to the left) by a value lower by\n",
      "    %        DELTA.\n",
      "    \n",
      "    % Eli Billauer, 3.4.05 (Explicitly not copyrighted).\n",
      "    % This function is released to the public domain; Any use is allowed.\n",
      "    \n",
      "    \"\"\"\n",
      "    maxtab = []\n",
      "    mintab = []\n",
      "       \n",
      "    if x is None:\n",
      "        x = arange(len(v))\n",
      "    \n",
      "    v = asarray(v)\n",
      "    \n",
      "    if len(v) != len(x):\n",
      "        raise Exception('Input vectors v and x must have same length')\n",
      "    \n",
      "    if not isscalar(delta):\n",
      "        raise Exception('Input argument delta must be a scalar')\n",
      "    \n",
      "    if delta <= 0:\n",
      "        raise Exception('Input argument delta must be positive')\n",
      "    \n",
      "    mn, mx = Inf, -Inf\n",
      "    mnpos, mxpos = NaN, NaN\n",
      "    \n",
      "    lookformax = True\n",
      "    \n",
      "    for i in arange(len(v)):\n",
      "        this = v[i]\n",
      "        if this > mx:\n",
      "            mx = this\n",
      "            mxpos = x[i]\n",
      "        if this < mn:\n",
      "            mn = this\n",
      "            mnpos = x[i]\n",
      "        \n",
      "        if lookformax:\n",
      "            if this < mx-delta:\n",
      "                maxtab.append((mxpos, mx))\n",
      "                mn = this\n",
      "                mnpos = x[i]\n",
      "                lookformax = False\n",
      "        else:\n",
      "            if this > mn+delta:\n",
      "                mintab.append((mnpos, mn))\n",
      "                mx = this\n",
      "                mxpos = x[i]\n",
      "                lookformax = True\n",
      " \n",
      "    return array(maxtab), array(mintab)\n",
      "\n",
      "def rrinterval(maxptime): \n",
      "    \"\"\"\n",
      "    find time from r peak to r peak, called the R-R interval. Input array must be a list of numbers (float).\n",
      "    \"\"\"\n",
      "    maxptime = maxptime.tolist()\n",
      "    \n",
      "    rrint = [] #empty array for ttot to go into\n",
      "    \n",
      "    for time in maxptime[1:]: #for each r peak, starting with the second one\n",
      "        s2time = maxptime.index(time) \n",
      "        s2 = maxptime[s2time-1]\n",
      "        meas = time - s2 #measure the interval by subtracting\n",
      "        rrint.append(meas) #append the measurement to the ttotal array\n",
      "    return rrint #return array\n",
      "\n",
      "#\n",
      "#Event-Burst Detection\n",
      "#\n",
      "#\n",
      "def event_burstdet(time, data_shift, Settings):\n",
      "    '''\n",
      "    this function uses raw_input to take direct user input to do stuff. \n",
      "    '''\n",
      "    threshperc = raw_input(\"Enter a threshold percent value between 0 and %s: \" %round(max(data_shift)/Settings['Baseline'],4))\n",
      "    threshperc = float(threshperc)\n",
      "    Settings['Percent of Baseline Threshold'] = threshperc\n",
      "    \n",
      "    cluster_time = raw_input(\"Enter the minimum inter-event interval in seconds:\")\n",
      "    cluster_time = float(cluster_time)\n",
      "    Settings['Inter-event interval minimum (seconds)'] = cluster_time\n",
      "    base = Settings['Baseline']\n",
      "    \n",
      "    bstart, bend, bdur = burstduration(time, data_shift, base, threshperc, cluster_time) #change threshperc if too many or too few bursts are found\n",
      "\n",
      "    results_bursts = DataFrame({'Burst Start': bstart})\n",
      "    results_bursts['Burst End'] = bend\n",
      "    results_bursts['Burst Duration'] = bdur\n",
      "\n",
      "    interburst = interburstinterval(bstart, bend)\n",
      "    interburst.append(NaN)\n",
      "    results_bursts['Interburst Interval'] = interburst\n",
      "\n",
      "    tot = ttotal(bstart)\n",
      "    tot.append(NaN)\n",
      "    results_bursts['Total Cycle Time'] = tot\n",
      "    \n",
      "    results_bursts_sum = results_bursts.describe()\n",
      "    \n",
      "    return results_bursts, results_bursts_sum, Settings\n",
      "\n",
      "def burst_plot(time, data_shift, results_bursts, maxpeaks, maxptime, Settings):\n",
      "    '''\n",
      "    wrapper function to plot bursts results. requires that peakdetect was run first. \n",
      "    '''\n",
      "    bend = results_bursts['Burst End'].tolist()\n",
      "    bstart = results_bursts['Burst Start'].tolist()\n",
      "    base = Settings['Baseline']\n",
      "    threshperc = Settings['Percent of Baseline Threshold']\n",
      "    \n",
      "    bendy = []\n",
      "    for point in bend:\n",
      "        bendy.append(base*threshperc)\n",
      "\n",
      "    bstarty = []\n",
      "    for point in bstart:\n",
      "        bstarty.append(base*threshperc)\n",
      "\n",
      "\n",
      "    plt.plot(time, data_shift, 'k')\n",
      "    plt.xlabel('time')\n",
      "    plt.ylabel('amp')\n",
      "    plt.plot(maxptime,maxpeaks, marker = \"^\", color=\"g\", linestyle= \"None\")\n",
      "    plt.plot(bstart, bstarty, marker = \"v\", color=\"y\", linestyle= \"None\")\n",
      "    plt.plot(bend, bendy,marker = \"v\", color=\"m\", linestyle= \"None\")\n",
      "    plt.hlines(0,time[0],time[-1],colors='b')\n",
      "    plt.hlines((base*threshperc),time[0],time[-1], colors='r')\n",
      "    plt.xlim(xmin = min(time), xmax = (min(time)+10))\n",
      "    plt.ylim(ymin = min(data_shift), ymax = max(data_shift))\n",
      "    plt.title('Transformed Data')\n",
      "\n",
      "    plt.show()\n",
      "\n",
      "def burstarea_wrapper(time, data_trans, results_bursts):\n",
      "    '''\n",
      "    wrapper for burst area. since this function takes a while, it is seperated out for safety and effecency.\n",
      "    '''\n",
      "    start = t.clock()\n",
      "    bend = results_bursts['Burst End'].tolist()\n",
      "    bstart = results_bursts['Burst Start'].tolist()\n",
      "    \n",
      "    b_area = burstarea(data_trans, time, bstart, bend)\n",
      "    results_bursts['Burst Area'] = b_area\n",
      "    end = t.clock()\n",
      "    print 'burstarea took', (end-start), 'seconds to complete', len(bstart), 'integrals, or', round((len(bstart)/(end-start)),3), 'integrals/second. How impressive!'\n",
      "    \n",
      "    results_burst_sum = results_bursts.describe()\n",
      "    results_burst_sum\n",
      "    \n",
      "    return results_bursts, results_burst_sum\n",
      "\n",
      "def burstduration_lin(time, data, baserate, threshperc, cluster_time):\n",
      "    \"\"\"\n",
      "    threshperc is the percentage of the baseline that the threshold will be above; cluster_time should be changed based on the type of data (default for ECG is 0.006)\n",
      "    baserate needs to be calculated and passed into this argument\n",
      "    data should already be transformed, smoothed, and baseline shifted (shifting is technically optional, but it really doesn't matter)\n",
      "    returns the lists of start times, end times, and duration times\n",
      "    \"\"\"\n",
      "    \n",
      "    if len(time) != len(data): #logic check, are the number of data points and time points the same?\n",
      "        raise Exception('You cannot have more time points than there are data points. Get that sorted, buddy.')    \n",
      "    \n",
      "    burst_start = [] #empty array for burst start\n",
      "    burst_end = [] #empty array for burst end\n",
      "    burst_duration = [] #empty array to calculate burst durration\n",
      "    \n",
      "    threshold = baserate * threshperc #calculate the point at which a event is considered a peak\n",
      "    \n",
      "    burst = False #burst flag, should start not in a burst\n",
      "\n",
      "    index = -1\n",
      "    for point in data: #for each data point in the set\n",
      "        index = index +1\n",
      "        #print index, \"=\", t.clock()\n",
      "        \n",
      "        if burst == False and point > threshold: #if we are not in a burst already, the value is higher than the threshold, AND the last burst didn't end less than .2 ms ago\n",
      "            tpoint = time[index] #find the actual time given teh time index\n",
      "            burst_start.append(tpoint) #add the time at point as the begining of the burst\n",
      "            burst = True #burst flag, we are now in a burst \n",
      "        \n",
      "        if burst == True and  point <= threshold: #if we are in a burst and the point falls below the threshold\n",
      "            \n",
      "            if len(burst_end) == 0 or len(burst_start) == 0: #if this is the first end\n",
      "                tpoint = time[index] #find the actual time given teh time index\n",
      "                burst_end.append (tpoint) #add the time at point as the end of the burst\n",
      "                burst = False #burst flag, we are now out of the burst\n",
      "            \n",
      "            else:\n",
      "                tpoint = time[index] #find the actual time given teh time index\n",
      "                burst_end.append (tpoint) #add the time at point as the end of the burst\n",
      "                burst = False #burst flag, we are now out of the burst\n",
      "                if burst_start[-1] < (burst_end[-2] + cluster_time):#if the new burst is too close to the last one, delete the second to last end and the last start\n",
      "                    del burst_end[-2]\n",
      "                    del burst_start[-1]\n",
      "    \n",
      "    if burst == True and len(burst_start) == 1+len(burst_end): #we exit the for loop but are in a burst\n",
      "        del burst_start[-1] #delete the last burst start time\n",
      "    \n",
      "    if len(burst_start) != len(burst_end):\n",
      "        raise Exception('Unexpectedly, the number of burst start times and end times are not equal. Seeing as this is physically impossible, I quit the program for you. Begin hunting for the fatal flaw. Good luck!')\n",
      "        \n",
      "    #print t.clock(), \"- start duration array\"\n",
      "    for foo in burst_start: #for each burst\n",
      "        index = burst_start.index(foo)\n",
      "        duration = burst_end[index] - burst_start[index] #calculate duration by subtracting the start time from the end time, found by indexing\n",
      "        burst_duration.append(duration) #add the burst duration to the duration list\n",
      "    #print t.clock(), \"-end duration array\"\n",
      "    \n",
      "    return burst_start, burst_end, burst_duration\n",
      "\n",
      "def interburstinterval(burst_start, burst_end):\n",
      "    \"\"\"\n",
      "    this function is used to find the inter-burst interval. \n",
      "    this is defined as the difference between the last end and the new start time\n",
      "    Dependent on numpy, burst_start, and burst_end\n",
      "    \"\"\"\n",
      "    \n",
      "    ibi = []\n",
      "    \n",
      "    for end in burst_end[:-1]: #for each end time except the last one\n",
      "        tindex = burst_end.index(end) #find the start time index\n",
      "        start = burst_start[tindex+1] #find start time\n",
      "        ibi.append(start-end) #subtract the old end time from the start time\n",
      "    \n",
      "    return ibi\n",
      "\n",
      "def ttotal(burst_start): \n",
      "    \"\"\"\n",
      "    find time from start to start, called the interburst interval. Input array must be a list of numbers (float).\n",
      "    \"\"\"\n",
      "    \n",
      "    ttotal = [] #empty array for ttot to go into\n",
      "    \n",
      "    for time in burst_start[1:]: #for each start time, starting with the second one\n",
      "        s2time = burst_start.index(time) \n",
      "        s2 = burst_start[s2time-1]\n",
      "        meas = time - s2 #measure the interval by subtracting\n",
      "        ttotal.append(meas) #append the measurement to the ttotal array\n",
      "    return ttotal #return array\n",
      "\n",
      "def burstarea(data, time, burst_start, burst_end, dx = 10):\n",
      "    \"\"\"\n",
      "    integral, area under curve of each burst. Use start and end times to split the y values into short lists. \n",
      "    need the time array to do this\n",
      "    \"\"\"\n",
      "    from scipy.integrate import simps, trapz #import the integral functions\n",
      "    \n",
      "    time = list(time) #time array must be a list for the indexting to work.\n",
      "    \n",
      "    burst_area = [] #empty array for the areas to go into\n",
      "    \n",
      "    for i in np.arange(len(burst_start)): #for each index in the start array\n",
      "        end = time.index(burst_end[i]) #using the value at each i in the burst_end array, index in the time array to get the time index. this will be the same index # as the data array\n",
      "        start = time.index(burst_start[i])\n",
      "        area = trapz(data[start:end], x=time[start:end], dx= dx) #find area using the trapz function, but only \n",
      "        burst_area.append(area)\n",
      "    \n",
      "    return burst_area\n",
      "\n",
      "def burst_peaks(data, burst_start, burst_end, time=0, delta=0.04, rate=0.00025):#This code fails, do not use! use burst_peaks2\n",
      "    \"\"\"\n",
      "    given the burst start and end time, along with the looser peak detect, calculate the number of peaks in a given burst\n",
      "    dependent on burstduration, numpy, sys, and peakdet\n",
      "    default delta is 0.04, based on ECG data, seems to catch QRS and sometimes P and/or T\n",
      "    data MUST be transformed, but not shifted. peakdet will reject it if it has negative values\n",
      "    time varible is the value of time at the the first index of the time array. You can input it in as time=TIME_ARRAY[0]\n",
      "    rate is the collection rate of the data set. \n",
      "    \"\"\"\n",
      "    \n",
      "    if len(burst_start) != len(burst_end): #logic check, before we start\n",
      "        raise Exception('Unexpectedly, the number of burst start times and end times are not equal. Seeing as this is physically impossible, I quit the program for you. Begin hunting for the fatal flaw. Good luck!')\n",
      "    \n",
      "    if (len(burst_start) == 0) or (len(burst_end) == 0): #logic check, are they empty lists\n",
      "        raise Exception('One of the input arrays is an empty list')\n",
      "        \n",
      "    maxtab, mintab= peakdet(data, delta) #generate the maxtab array of times and heights\n",
      "    \n",
      "    maxptime = maxtab[:,0] #extract the time column\n",
      "    maxptime = (np.multiply(maxptime,rate) + time) #convert from index to ms\n",
      "    \n",
      "    index = 0 #initalize burst index to zero\n",
      "    burstpeaknum = [] #empty array for where the number of peaks will go. index # = burst #\n",
      "    burstpeaks = [] #empty tuple of peak locations. index # = burst #\n",
      "    plist= [] #make blank plist\n",
      "    \n",
      "    \n",
      "    for time in maxptime: #for each peak found in maxtab. remember that maxtab has multipule columns, so only take time.\n",
      "        \n",
      "        if index == (len(burst_start)-1) and time > burst_end[index]:\n",
      "            burstpeaks.append(plist) #put list of peaks in burst peaks list\n",
      "            burstpeaknum.append(len(plist)) #add count of peaks to burst peak num list\n",
      "            \n",
      "        \n",
      "        if time > burst_end[-1]:\n",
      "            break\n",
      "        \n",
      "        if burst_start[index] < time < burst_end[index]: # if the peak is within the duration of the burst\n",
      "            plist.append(time)\n",
      "            \n",
      "            if time == maxptime[-1]:#if the current peak is the last one\n",
      "                burstpeaks.append(plist) #put list of peaks in burst peaks list\n",
      "                burstpeaknum.append(len(plist)) #add count of peaks to burst peak num list\n",
      "        \n",
      "        if index < (len(burst_start)-1) and time > burst_start[index+1]: #if the next peak is actually in the NEXT burst AND it isn't the last burst\n",
      "            burstpeaks.append(plist) #put list of peaks in burst peaks list\n",
      "            burstpeaknum.append(len(plist)) #add count of peaks to burst peak num list\n",
      "            index = (index+1) #go to the next burst\n",
      "            plist=[] #make a new list for the new peak\n",
      "            plist.append(time) #add this timepoint to the new list\n",
      "          \n",
      "               \n",
      "    return burstpeaknum, burstpeaks, maxtab\n",
      "\n",
      "#\n",
      "#Save\n",
      "#\n",
      "#\n",
      "def Save_Results(Settings, results_bursts, results_burst_sum, results_peaks, results_peaks_sum, maxptime):\n",
      "    '''\n",
      "    Save function for all files out of SWAN. All files must be present, otherwise it will not save. all files in the same folder with the same name will be saved over, except for the Settings file, which always has a unique name.\n",
      "    '''\n",
      "    path = Settings['Save Location']\n",
      "    folder = Settings['Sample Folder']\n",
      "    rate = Settings['Sample Rate (s/frame)']\n",
      "    bstart = results_bursts['Burst Start']\n",
      "    \n",
      "    bstart_gHRV = (np.subtract(bstart,bstart[0])) #get the relative time for each burst start, needed for gHRV to run using the tot\n",
      "    np.savetxt(r'%s/%s/%s_ttot_times.txt' %(path, folder, folder), bstart_gHRV)\n",
      "    maxptime_gHRV = (np.subtract(maxptime, maxptime[0])) #get the relative time for each R peak, needed for gHRV to run\n",
      "    np.savetxt(r'%s/%s/%s_rr_times.txt' %(path,folder, folder), maxptime_gHRV)\n",
      "\n",
      "    results_bursts.to_csv(r'%s/%s/%s_burst_results.csv' %(path, folder, folder))\n",
      "    results_burst_sum.to_csv(r'%s/%s/%s_burst_results_summary.csv'%(path,folder, folder))\n",
      "    results_peaks.to_csv(r'%s/%s/%s_peak_results.csv'%(path, folder, folder))\n",
      "    results_peaks_sum.to_csv(r'%s/%s/%s_peak_results_summary.csv'%(path, folder, folder))\n",
      "    \n",
      "    Settings_panda = DataFrame.from_dict(Settings, orient='index')\n",
      "    colname = 'Settings: ' + str(datetime.datetime.now())\n",
      "    Settings_panda.columns = [colname]\n",
      "    Settings_panda = Settings_panda.sort()\n",
      "    Settings_panda.to_csv(r'%s/%s/%s_Settings_%s.csv'%(path, folder, folder,colname))\n",
      "    \n",
      "    print \"All results saved to\", path+'/'+folder\n",
      "    print \"Thank you for chosing SWAN for all your basic analysis needs. Proceed for graphs and advanced analysis.\"\n",
      "    \n",
      "#\n",
      "#Line Plots\n",
      "#general plots as well as graphing functions\n",
      "#several of the other functions have specific, paired functions, thus their code is not listed here\n",
      "#\n",
      "def line_plot(time, data, data_shift, maxptime, maxpeaks, results_bursts, Settings):\n",
      "    '''\n",
      "    plots a dual line plot of your raw signal and your transformed signal with events overlayed.\n",
      "    automatically the first 10 seconds of data are displayed. you can pan around inside to find the part you want to see.\n",
      "    '''\n",
      "    bend = results_bursts['Burst End'].tolist()\n",
      "    bstart = results_bursts['Burst Start'].tolist()\n",
      "    base = Settings['Baseline']\n",
      "    threshperc = Settings['Percent of Baseline Threshold']\n",
      "    \n",
      "    raw_title = 'Raw Data'\n",
      "    smooth_title = 'Transformed Data'\n",
      "\n",
      "    bendy = []\n",
      "    for point in bend:\n",
      "        bendy.append(base*threshperc)\n",
      "\n",
      "    bstarty = []\n",
      "    for point in bstart:\n",
      "        bstarty.append(base*threshperc)\n",
      "\n",
      "    plt.subplot(211)\n",
      "    plt.plot(time, data, 'k')\n",
      "    plt.ylabel('amp')\n",
      "    plt.xlim(xmin = min(time), xmax = (min(time)+10))\n",
      "    plt.ylim(ymin = min(data), ymax = max(data))\n",
      "    plt.title(raw_title)\n",
      "\n",
      "    plt.subplot(212)\n",
      "    plt.plot(time, data_shift, 'k')\n",
      "    #plt.xlabel('time')\n",
      "    plt.ylabel('amp')\n",
      "    plt.plot(maxptime,maxpeaks, marker = \"^\", color=\"g\", linestyle= \"None\")\n",
      "    plt.plot(bstart, bstarty, marker = \"v\", color=\"y\", linestyle= \"None\")\n",
      "    plt.plot(bend, bendy,marker = \"v\", color=\"m\", linestyle= \"None\")\n",
      "    plt.hlines(0,time[0],time[-1],colors='k')\n",
      "    plt.hlines((base*threshperc),time[0],time[-1], colors='r')\n",
      "    plt.xlim(xmin = min(time), xmax = (min(time)+10))\n",
      "    plt.ylim(ymin = min(data_shift), ymax = max(data_shift))\n",
      "    plt.title(smooth_title)\n",
      "\n",
      "    plt.show()\n",
      "\n",
      "def plot_rawdata(Data):\n",
      "    figure = plt.plot(Data['original'].index, Data['original'], 'k')\n",
      "    plt.title('Raw Data')\n",
      "    plt.xlabel('Time (s)')\n",
      "    plt.ylabel('Amplitude')\n",
      "    DataCursor(figure)\n",
      "    plt.show(figure) \n",
      "    \n",
      "class DataCursor(object):\n",
      "    \"\"\"A simple data cursor widget that displays the x,y location of a\n",
      "    matplotlib artist when it is selected.\"\"\"\n",
      "    def __init__(self, artists, tolerance=5, offsets=(-20, 20), \n",
      "                 template='x: %0.2f\\ny: %0.2f', display_all=False):\n",
      "        \"\"\"Create the data cursor and connect it to the relevant figure.\n",
      "        \"artists\" is the matplotlib artist or sequence of artists that will be \n",
      "            selected. \n",
      "        \"tolerance\" is the radius (in points) that the mouse click must be\n",
      "            within to select the artist.\n",
      "        \"offsets\" is a tuple of (x,y) offsets in points from the selected\n",
      "            point to the displayed annotation box\n",
      "        \"template\" is the format string to be used. Note: For compatibility\n",
      "            with older versions of python, this uses the old-style (%) \n",
      "            formatting specification.\n",
      "        \"display_all\" controls whether more than one annotation box will\n",
      "            be shown if there are multiple axes.  Only one will be shown\n",
      "            per-axis, regardless. \n",
      "        \"\"\"\n",
      "        self.template = template\n",
      "        self.offsets = offsets\n",
      "        self.display_all = display_all\n",
      "        if not cbook.iterable(artists):\n",
      "            artists = [artists]\n",
      "        self.artists = artists\n",
      "        self.axes = tuple(set(art.axes for art in self.artists))\n",
      "        self.figures = tuple(set(ax.figure for ax in self.axes))\n",
      "\n",
      "        self.annotations = {}\n",
      "        for ax in self.axes:\n",
      "            self.annotations[ax] = self.annotate(ax)\n",
      "\n",
      "        for artist in self.artists:\n",
      "            artist.set_picker(tolerance)\n",
      "        for fig in self.figures:\n",
      "            fig.canvas.mpl_connect('pick_event', self)\n",
      "\n",
      "    def annotate(self, ax):\n",
      "        \"\"\"Draws and hides the annotation box for the given axis \"ax\".\"\"\"\n",
      "        annotation = ax.annotate(self.template, xy=(0, 0), ha='right',\n",
      "                xytext=self.offsets, textcoords='offset points', va='bottom',\n",
      "                bbox=dict(boxstyle='round,pad=0.5', fc='yellow', alpha=0.5),\n",
      "                arrowprops=dict(arrowstyle='->', connectionstyle='arc3,rad=0')\n",
      "                )\n",
      "        annotation.set_visible(False)\n",
      "        return annotation\n",
      "\n",
      "    def __call__(self, event):\n",
      "        \"\"\"Intended to be called through \"mpl_connect\".\"\"\"\n",
      "        # Rather than trying to interpolate, just display the clicked coords\n",
      "        # This will only be called if it's within \"tolerance\", anyway.\n",
      "        x, y = event.mouseevent.xdata, event.mouseevent.ydata\n",
      "        annotation = self.annotations[event.artist.axes]\n",
      "        if x is not None:\n",
      "            if not self.display_all:\n",
      "                # Hide any other annotation boxes...\n",
      "                for ann in self.annotations.values():\n",
      "                    ann.set_visible(False)\n",
      "            # Update the annotation in the current axis..\n",
      "            annotation.xy = x, y\n",
      "            annotation.set_text(self.template % (x, y))\n",
      "            annotation.set_visible(True)\n",
      "            event.canvas.draw()\n",
      " \n",
      "#            \n",
      "# Poincare plots\n",
      "#\n",
      "#\n",
      "def poincare(data_array):\n",
      "    \"\"\"\n",
      "    Given a 1d array of data, create a Poincare plot along with the SD1 and SD2 parameters\n",
      "    usees matplotlib.patches.Ellipse to create the fit elipse\n",
      "    equations are derived from Brennan and http://www.mif.pg.gda.pl/homepages/graff/Tzaa/Guzik_geometry_asymetry.pdf cause OMG THIS MAKES SENSE NOW\n",
      "    \"\"\"\n",
      "    \n",
      "    x = data_array[:(len(data_array)-1)]\n",
      "    y = data_array[1:]\n",
      "    \n",
      "    xc = np.mean(x)\n",
      "    yc = np.mean(y)\n",
      "    \n",
      "    #SD1 = np.sqrt((1/len(x)) * sum(((x-y) - np.mean(x-y))^2)/2)\n",
      "    #SD2 = np.sqrt((1/len(x)) * sum(((x+y) - np.mean(x+y))^2)/2)    \n",
      "    \n",
      "    SD1 = 0\n",
      "    SD2 = 0\n",
      "    \n",
      "    for i in np.arange(len(x)):\n",
      "        \n",
      "        d1 = np.power(abs((x[i]-xc)-(y[i]-yc))/np.sqrt(2), 2)\n",
      "        SD1 = SD1 + d1\n",
      "        \n",
      "        d2 = np.power(abs((x[i]-xc)+(y[i]-yc))/np.sqrt(2), 2)\n",
      "        SD2 = SD2 + d2\n",
      "    \n",
      "    SD1 = np.sqrt(SD1/len(x))\n",
      "    SD2 = np.sqrt(SD2/len(x))\n",
      "    \n",
      "    return x, y, xc, yc, SD1, SD2 \n",
      "\n",
      "def poincare_plot(series):\n",
      "    '''\n",
      "    input a dataframe column or series to automatically generate a poincare plot. it will also print out the SD1 and SD2 Values.\n",
      "    '''\n",
      "    temp_series = series.tolist()\n",
      "    \n",
      "    x, y, xc, yc, SD1, SD2 = poincare(temp_series[:-1])\n",
      "\n",
      "    SD1RR = ('SD1 = ' +str(np.round(SD1,4)))\n",
      "    SD2RR = ('SD2 = ' +str(np.round(SD2,4)))\n",
      "    SDRR = (SD1RR, SD2RR)\n",
      "    ax = plt.subplot(111, aspect = \"equal\")\n",
      "    ellipse = patches.Ellipse(xy=(xc, yc), width = SD2, height = SD1, angle = 45, fill = False, color = \"r\")\n",
      "    ax.add_artist(ellipse)\n",
      "    plt.plot(xc, yc, color=\"r\", marker= \"+\")\n",
      "    plt.scatter(x, y, color = 'k', marker = '.')\n",
      "    plt.title('Poincare Plot-%s' %series.name)\n",
      "    #plt.text(-4,-4,SDRR) #this is commented out because it isn't running. not sure why.\n",
      "    plt.show()\n",
      "\n",
      "    print series.name, \"results:\"\n",
      "    print SD1RR+' s'\n",
      "    print SD2RR+' s'\n",
      "\n",
      "    \n",
      "#\n",
      "#Power Spectral Density and Event Freqency\n",
      "#\n",
      "#\n",
      "\n",
      "def PSD_rri(results_peaks, hz):\n",
      "    '''\n",
      "    Power spectral density plot of rr intervals. this argument takes the results_peaks dataframe\n",
      "    '''\n",
      "    #adopted form Rhenan Bartels Ferreira \n",
      "    #https://github.com/RhenanBartels/biosignalprocessing/blob/master/psdRRi.py\n",
      "\n",
      "    from numpy import arange, cumsum, logical_and\n",
      "    from scipy.signal import welch\n",
      "    from scipy.interpolate import splrep, splev\n",
      "\n",
      "    rri = results_peaks['R-R intervals'].tolist()\n",
      "    del rri[-1] #the last value is NaN, so we delete it.\n",
      "    rri_new = []\n",
      "    for i in rri:\n",
      "        bpm = 60/i\n",
      "        rri_new.append(bpm)\n",
      "    rri = rri_new\n",
      "    \n",
      "    t = results_peaks.index.tolist()\n",
      "    del t[-1] #must be the same length as rri\n",
      "    \n",
      "    #Evenly spaced time array using hz\n",
      "    tx = arange(t[0], t[-1], 1.0 / hz)\n",
      "\n",
      "    #Interpolate RRi serie\n",
      "    tck = splrep(t, rri, s = 0)\n",
      "    rrix = splev(tx, tck, der=0)\n",
      "\n",
      "    #Number os estimations\n",
      "    P = int((len(tx) - 256 / 128)) + 1 #AD doesn't know what this does, but i dare not touch a damn thing.\n",
      "\n",
      "    #PSD with Welch's Method\n",
      "    Fxx, Pxx = welch(rrix, fs=hz, window=\"hanning\", nperseg=256, noverlap=128, detrend=\"linear\")\n",
      "\n",
      "    return Fxx, Pxx\n",
      "\n",
      "def PSD_tct(results_bursts, hz):\n",
      "    '''\n",
      "    Power spectral density plot of total cycle time. this argument takes the results_burst dataframe\n",
      "    '''\n",
      "    #adopted form Rhenan Bartels Ferreira \n",
      "    #https://github.com/RhenanBartels/biosignalprocessing/blob/master/psdRRi.py\n",
      "\n",
      "    from numpy import arange, cumsum, logical_and\n",
      "    from scipy.signal import welch\n",
      "    from scipy.interpolate import splrep, splev\n",
      "\n",
      "    tct = results_bursts['Total Cycle Time'].tolist()\n",
      "    del tct[-1] #the last value is NaN, so we delete it.\n",
      "    tct_new = []\n",
      "    for i in tct:\n",
      "        bpm = 60/i\n",
      "        tct_new.append(bpm)\n",
      "    tct = tct_new\n",
      "    \n",
      "    t = results_bursts['Burst Start'].tolist()\n",
      "    del t[-1] #must be the same length as rri\n",
      "    \n",
      "    #Evenly spaced time array using hz\n",
      "    tx = arange(t[0], t[-1], 1.0 / hz)\n",
      "\n",
      "    #Interpolate RRi serie\n",
      "    tck = splrep(t, tct, s = 0)\n",
      "    tctx = splev(tx, tck, der=0)\n",
      "\n",
      "    #Number os estimations\n",
      "    P = int((len(tx) - 256 / 128)) + 1 #AD doesn't know what this does, but i dare not touch a damn thing.\n",
      "\n",
      "    #PSD with Welch's Method\n",
      "    Fxx, Pxx = welch(tctx, fs=hz, window=\"hanning\", nperseg=256, noverlap=128, detrend=\"linear\")\n",
      "\n",
      "    return Fxx, Pxx\n",
      "\n",
      "def Results_PSD(Fxx, Pxx):\n",
      "    '''\n",
      "    Generates the result for peakdet interval PSD (PSD_rri)\n",
      "    '''\n",
      "    from scipy.integrate import simps\n",
      "\n",
      "    results_psd = Series(index = ['ULF', 'VLF', 'LF','HF','LF/HF'])\n",
      "    FXX = Series(Fxx)\n",
      "    PXX = Series(Pxx)\n",
      "\n",
      "    results_psd['ULF'] = simps(PXX[FXX<ulf].tolist(), FXX[FXX<ulf].tolist(), dx =dx)\n",
      "    results_psd['VLF'] = simps(PXX[(ulf<FXX) & (FXX<=vlf)].tolist(),FXX[(ulf<FXX) & (FXX<=vlf)].tolist(), dx= dx)\n",
      "    results_psd['LF'] = simps(PXX[(vlf<FXX) & (FXX<=lf)].tolist(),FXX[(vlf<FXX) & (FXX<=lf)].tolist(), dx= dx)\n",
      "    results_psd['HF'] = simps(PXX[(lf<FXX) & (FXX<=hf)].tolist(),FXX[(lf<FXX) & (FXX<=hf)].tolist(), dx= dx)\n",
      "    results_psd['LF/HF'] = results_psd['LF']/results_psd['HF']\n",
      "    return results_psd\n",
      "\n",
      "print \"Load Successful!\""
     ],
     "language": "python",
     "metadata": {},
     "outputs": [
      {
       "output_type": "stream",
       "stream": "stdout",
       "text": [
        "Load Successful!\n"
       ]
      }
     ],
     "prompt_number": 132
    },
    {
     "cell_type": "heading",
     "level": 1,
     "metadata": {},
     "source": [
      "Begin User Input"
     ]
    },
    {
     "cell_type": "heading",
     "level": 2,
     "metadata": {},
     "source": [
      "Load"
     ]
    },
    {
     "cell_type": "markdown",
     "metadata": {},
     "source": [
      "First, load your data . change the file_path = \"/My/File/Location/file.txt\" to the location of the data file on your computer. This file should NOT have a header and the first column must be time. This name should have / in front, but no / at the end."
     ]
    },
    {
     "cell_type": "markdown",
     "metadata": {},
     "source": [
      "Designate the location of the folder where you would like your study to go. then, name the subfolder where all of the results from this file will go. If the folder does not exsist, the notebook will make it for you."
     ]
    },
    {
     "cell_type": "code",
     "collapsed": false,
     "input": [
      "Data, Settings, Results = load_data()"
     ],
     "language": "python",
     "metadata": {},
     "outputs": [
      {
       "name": "stdout",
       "output_type": "stream",
       "stream": "stdout",
       "text": [
        "Full File Path for data input: /Users/abigaildobyns/Desktop/rat34-ECG.txt\n"
       ]
      },
      {
       "name": "stdout",
       "output_type": "stream",
       "stream": "stdout",
       "text": [
        "Full File Path for data output: /Users/abigaildobyns/Desktop\n"
       ]
      },
      {
       "name": "stdout",
       "output_type": "stream",
       "stream": "stdout",
       "text": [
        "Sample Name: test\n"
       ]
      },
      {
       "output_type": "stream",
       "stream": "stdout",
       "text": [
        "Sample test is 606.94975 seconds long\n"
       ]
      }
     ],
     "prompt_number": 115
    },
    {
     "cell_type": "heading",
     "level": 3,
     "metadata": {},
     "source": [
      "Graph Data"
     ]
    },
    {
     "cell_type": "markdown",
     "metadata": {},
     "source": [
      "Use this block to check any slicing you need to do to cut out problematic data from the head or tail. you can click on any point in the wave to get the (x,y) location of that point. Clipping inside this notebook is not supported at this time."
     ]
    },
    {
     "cell_type": "code",
     "collapsed": false,
     "input": [
      "plot_rawdata(Data)"
     ],
     "language": "python",
     "metadata": {},
     "outputs": [],
     "prompt_number": 61
    },
    {
     "cell_type": "heading",
     "level": 2,
     "metadata": {},
     "source": [
      "Transform and shift data"
     ]
    },
    {
     "cell_type": "markdown",
     "metadata": {},
     "source": [
      "Must be done for each new uploaded data file."
     ]
    },
    {
     "cell_type": "heading",
     "level": 3,
     "metadata": {},
     "source": [
      "Load settings from a file"
     ]
    },
    {
     "cell_type": "markdown",
     "metadata": {},
     "source": [
      "Must be a previously outputed SWAN settings file, although the name can be changed. Expected format is .csv"
     ]
    },
    {
     "cell_type": "code",
     "collapsed": false,
     "input": [
      "Settings = load_settings(Settings)\n",
      "Settings_display = display_settings(Settings)\n",
      "Settings_display"
     ],
     "language": "python",
     "metadata": {},
     "outputs": [
      {
       "name": "stdout",
       "output_type": "stream",
       "stream": "stdout",
       "text": [
        "Full File Path for Settings file: /Users/abigaildobyns/Desktop/rat34_Settings.csv\n"
       ]
      },
      {
       "html": [
        "<div style=\"max-height:1000px;max-width:1500px;overflow:auto;\">\n",
        "<table border=\"1\" class=\"dataframe\">\n",
        "  <thead>\n",
        "    <tr style=\"text-align: right;\">\n",
        "      <th></th>\n",
        "      <th>Value</th>\n",
        "    </tr>\n",
        "  </thead>\n",
        "  <tbody>\n",
        "    <tr>\n",
        "      <th>Absolute Value</th>\n",
        "      <td>                                            True</td>\n",
        "    </tr>\n",
        "    <tr>\n",
        "      <th>Bandpass Highcut</th>\n",
        "      <td>                                            none</td>\n",
        "    </tr>\n",
        "    <tr>\n",
        "      <th>Bandpass Lowcut</th>\n",
        "      <td>                                            none</td>\n",
        "    </tr>\n",
        "    <tr>\n",
        "      <th>Bandpass Polynomial</th>\n",
        "      <td>                                            none</td>\n",
        "    </tr>\n",
        "    <tr>\n",
        "      <th>Delta</th>\n",
        "      <td>                                             0.3</td>\n",
        "    </tr>\n",
        "    <tr>\n",
        "      <th>Inter-event interval minimum (seconds)</th>\n",
        "      <td>                                            0.01</td>\n",
        "    </tr>\n",
        "    <tr>\n",
        "      <th>Linear Fit</th>\n",
        "      <td>                                           False</td>\n",
        "    </tr>\n",
        "    <tr>\n",
        "      <th>Percent of Baseline Threshold</th>\n",
        "      <td>                                               1</td>\n",
        "    </tr>\n",
        "    <tr>\n",
        "      <th>Sample Folder</th>\n",
        "      <td>                                            tset</td>\n",
        "    </tr>\n",
        "    <tr>\n",
        "      <th>Sample Rate (s/frame)</th>\n",
        "      <td>                                         0.00025</td>\n",
        "    </tr>\n",
        "    <tr>\n",
        "      <th>Save Location</th>\n",
        "      <td>                    /Users/abigaildobyns/Desktop</td>\n",
        "    </tr>\n",
        "    <tr>\n",
        "      <th>Savitsky-Golay Polynomial</th>\n",
        "      <td>                                               4</td>\n",
        "    </tr>\n",
        "    <tr>\n",
        "      <th>Savitsky-Golay Window Size</th>\n",
        "      <td>                                             251</td>\n",
        "    </tr>\n",
        "    <tr>\n",
        "      <th>Settings File</th>\n",
        "      <td> /Users/abigaildobyns/Desktop/rat34_Settings.csv</td>\n",
        "    </tr>\n",
        "    <tr>\n",
        "      <th>Uploaded File Location</th>\n",
        "      <td>      /Users/abigaildobyns/Desktop/rat34-ECG.txt</td>\n",
        "    </tr>\n",
        "  </tbody>\n",
        "</table>\n",
        "<p>15 rows \u00d7 1 columns</p>\n",
        "</div>"
       ],
       "metadata": {},
       "output_type": "pyout",
       "prompt_number": 69,
       "text": [
        "                                                                                  Value\n",
        "Absolute Value                                                                     True\n",
        "Bandpass Highcut                                                                   none\n",
        "Bandpass Lowcut                                                                    none\n",
        "Bandpass Polynomial                                                                none\n",
        "Delta                                                                               0.3\n",
        "Inter-event interval minimum (seconds)                                             0.01\n",
        "Linear Fit                                                                        False\n",
        "Percent of Baseline Threshold                                                         1\n",
        "Sample Folder                                                                      tset\n",
        "Sample Rate (s/frame)                                                           0.00025\n",
        "Save Location                                              /Users/abigaildobyns/Desktop\n",
        "Savitsky-Golay Polynomial                                                             4\n",
        "Savitsky-Golay Window Size                                                          251\n",
        "Settings File                           /Users/abigaildobyns/Desktop/rat34_Settings.csv\n",
        "Uploaded File Location                       /Users/abigaildobyns/Desktop/rat34-ECG.txt\n",
        "\n",
        "[15 rows x 1 columns]"
       ]
      }
     ],
     "prompt_number": 69
    },
    {
     "cell_type": "heading",
     "level": 3,
     "metadata": {},
     "source": [
      "Enter your settings for data transformation"
     ]
    },
    {
     "cell_type": "markdown",
     "metadata": {},
     "source": [
      "Enter the parameters of the functions you would like to use to transform your data. \n",
      "If you do not want to use a function, enter 'none'"
     ]
    },
    {
     "cell_type": "code",
     "collapsed": false,
     "input": [
      "Settings = user_input_trans(Settings)"
     ],
     "language": "python",
     "metadata": {},
     "outputs": [
      {
       "output_type": "stream",
       "stream": "stdout",
       "text": [
        "Previous Linear Fit setting: True\n",
        "Enter True or False to turn on or off the linear fit.\n"
       ]
      },
      {
       "name": "stdout",
       "output_type": "stream",
       "stream": "stdout",
       "text": [
        "Linear Fit (True/False): false\n"
       ]
      },
      {
       "output_type": "stream",
       "stream": "stdout",
       "text": [
        "Previous Bandpass setting: none, none, none\n",
        "Enter the butterworth bandpass settings seperated by a comma. cuts are in hertz and poly should be an interger.\n"
       ]
      },
      {
       "name": "stdout",
       "output_type": "stream",
       "stream": "stdout",
       "text": [
        "Bandpass Settings (lowcut, highcut,polynomial): none\n"
       ]
      },
      {
       "output_type": "stream",
       "stream": "stdout",
       "text": [
        "Previous Savitsky-Golay setting: 201, 4\n",
        "Enter the Savitsky Golay filter settings seperated by a comma. Window size must be odd.\n"
       ]
      },
      {
       "name": "stdout",
       "output_type": "stream",
       "stream": "stdout",
       "text": [
        "Savitsky Golay Settings (window, polynomial): 201, 4\n"
       ]
      },
      {
       "output_type": "stream",
       "stream": "stdout",
       "text": [
        "Settings Saved\n"
       ]
      }
     ],
     "prompt_number": 133
    },
    {
     "cell_type": "heading",
     "level": 3,
     "metadata": {},
     "source": [
      "Run data transformation"
     ]
    },
    {
     "cell_type": "code",
     "collapsed": false,
     "input": [
      "Data, Settings = transformation(Data, Settings)"
     ],
     "language": "python",
     "metadata": {},
     "outputs": [],
     "prompt_number": 125
    },
    {
     "cell_type": "heading",
     "level": 2,
     "metadata": {},
     "source": [
      "Set Baseline for Thresholding"
     ]
    },
    {
     "cell_type": "heading",
     "level": 3,
     "metadata": {},
     "source": [
      "Choose either linear or rolling baseline."
     ]
    },
    {
     "cell_type": "markdown",
     "metadata": {},
     "source": [
      "**Linear** - assumes that the first 0.1 seconds is a good representation of baseline. If the superstructure is linear but has a slope, use linear fit in the transformation to still use linear. Linear automatically shifts your data by the ammount of your baseline\n",
      "\n",
      "**Rolling** - rolling mean using a window. User provides the window size in miliseconds. there is no shift in the data with this method."
     ]
    },
    {
     "cell_type": "code",
     "collapsed": false,
     "input": [
      "Settings = user_input_base(Settings)"
     ],
     "language": "python",
     "metadata": {},
     "outputs": [
      {
       "output_type": "stream",
       "stream": "stdout",
       "text": [
        "Previous Baseline Type: linear\n"
       ]
      },
      {
       "name": "stdout",
       "output_type": "stream",
       "stream": "stdout",
       "text": [
        "Enter Linear or Rolling: rolling\n"
       ]
      },
      {
       "output_type": "stream",
       "stream": "stdout",
       "text": [
        "Previous Rolling Baseline Window: 300.0\n",
        "Enter the window size of the rolling baseline in milliseconds.\n"
       ]
      },
      {
       "name": "stdout",
       "output_type": "stream",
       "stream": "stdout",
       "text": [
        "Window size in ms: 300\n"
       ]
      }
     ],
     "prompt_number": 154
    },
    {
     "cell_type": "code",
     "collapsed": false,
     "input": [
      "Data, Settings = baseline(Data, Settings)"
     ],
     "language": "python",
     "metadata": {},
     "outputs": [],
     "prompt_number": 155
    },
    {
     "cell_type": "heading",
     "level": 2,
     "metadata": {},
     "source": [
      "Display Settings"
     ]
    },
    {
     "cell_type": "markdown",
     "metadata": {},
     "source": [
      "Optional block. Run this at any time to check what your settings are. If it does not appear, it has not been set yet."
     ]
    },
    {
     "cell_type": "code",
     "collapsed": false,
     "input": [
      "Settings_display = display_settings(Settings)\n",
      "print \"linear settings\"\n",
      "Settings_display"
     ],
     "language": "python",
     "metadata": {},
     "outputs": [
      {
       "output_type": "stream",
       "stream": "stdout",
       "text": [
        "linear settings\n"
       ]
      },
      {
       "html": [
        "<div style=\"max-height:1000px;max-width:1500px;overflow:auto;\">\n",
        "<table border=\"1\" class=\"dataframe\">\n",
        "  <thead>\n",
        "    <tr style=\"text-align: right;\">\n",
        "      <th></th>\n",
        "      <th>Value</th>\n",
        "    </tr>\n",
        "  </thead>\n",
        "  <tbody>\n",
        "    <tr>\n",
        "      <th>Absolute Value</th>\n",
        "      <td>                                       True</td>\n",
        "    </tr>\n",
        "    <tr>\n",
        "      <th>Bandpass Highcut</th>\n",
        "      <td>                                       none</td>\n",
        "    </tr>\n",
        "    <tr>\n",
        "      <th>Bandpass Lowcut</th>\n",
        "      <td>                                       none</td>\n",
        "    </tr>\n",
        "    <tr>\n",
        "      <th>Bandpass Polynomial</th>\n",
        "      <td>                                       none</td>\n",
        "    </tr>\n",
        "    <tr>\n",
        "      <th>Baseline</th>\n",
        "      <td>                                 0.05657545</td>\n",
        "    </tr>\n",
        "    <tr>\n",
        "      <th>Baseline Type</th>\n",
        "      <td>                                     linear</td>\n",
        "    </tr>\n",
        "    <tr>\n",
        "      <th>Baseline rolling</th>\n",
        "      <td>                                       True</td>\n",
        "    </tr>\n",
        "    <tr>\n",
        "      <th>Delta</th>\n",
        "      <td>                                        0.3</td>\n",
        "    </tr>\n",
        "    <tr>\n",
        "      <th>Inter-event interval minimum (seconds)</th>\n",
        "      <td>                                        0.1</td>\n",
        "    </tr>\n",
        "    <tr>\n",
        "      <th>Linear Fit</th>\n",
        "      <td>                                      False</td>\n",
        "    </tr>\n",
        "    <tr>\n",
        "      <th>Percent of Baseline Threshold</th>\n",
        "      <td>                                          1</td>\n",
        "    </tr>\n",
        "    <tr>\n",
        "      <th>Rolling Baseline Window</th>\n",
        "      <td>                                        300</td>\n",
        "    </tr>\n",
        "    <tr>\n",
        "      <th>Sample Folder</th>\n",
        "      <td>                                       test</td>\n",
        "    </tr>\n",
        "    <tr>\n",
        "      <th>Sample Rate (s/frame)</th>\n",
        "      <td>                                    0.00025</td>\n",
        "    </tr>\n",
        "    <tr>\n",
        "      <th>Save Location</th>\n",
        "      <td>               /Users/abigaildobyns/Desktop</td>\n",
        "    </tr>\n",
        "    <tr>\n",
        "      <th>Savitsky-Golay Polynomial</th>\n",
        "      <td>                                          4</td>\n",
        "    </tr>\n",
        "    <tr>\n",
        "      <th>Savitsky-Golay Window Size</th>\n",
        "      <td>                                        201</td>\n",
        "    </tr>\n",
        "    <tr>\n",
        "      <th>Uploaded File Location</th>\n",
        "      <td> /Users/abigaildobyns/Desktop/rat34-ECG.txt</td>\n",
        "    </tr>\n",
        "  </tbody>\n",
        "</table>\n",
        "<p>18 rows \u00d7 1 columns</p>\n",
        "</div>"
       ],
       "metadata": {},
       "output_type": "pyout",
       "prompt_number": 147,
       "text": [
        "                                                                             Value\n",
        "Absolute Value                                                                True\n",
        "Bandpass Highcut                                                              none\n",
        "Bandpass Lowcut                                                               none\n",
        "Bandpass Polynomial                                                           none\n",
        "Baseline                                                                0.05657545\n",
        "Baseline Type                                                               linear\n",
        "Baseline rolling                                                              True\n",
        "Delta                                                                          0.3\n",
        "Inter-event interval minimum (seconds)                                         0.1\n",
        "Linear Fit                                                                   False\n",
        "Percent of Baseline Threshold                                                    1\n",
        "Rolling Baseline Window                                                        300\n",
        "Sample Folder                                                                 test\n",
        "Sample Rate (s/frame)                                                      0.00025\n",
        "Save Location                                         /Users/abigaildobyns/Desktop\n",
        "Savitsky-Golay Polynomial                                                        4\n",
        "Savitsky-Golay Window Size                                                     201\n",
        "Uploaded File Location                  /Users/abigaildobyns/Desktop/rat34-ECG.txt\n",
        "\n",
        "[18 rows x 1 columns]"
       ]
      }
     ],
     "prompt_number": 147
    },
    {
     "cell_type": "code",
     "collapsed": false,
     "input": [
      "Settings_display = display_settings(Settings)\n",
      "print \"rolling settings\"\n",
      "Settings_display"
     ],
     "language": "python",
     "metadata": {},
     "outputs": [
      {
       "output_type": "stream",
       "stream": "stdout",
       "text": [
        "rolling settings\n"
       ]
      },
      {
       "html": [
        "<div style=\"max-height:1000px;max-width:1500px;overflow:auto;\">\n",
        "<table border=\"1\" class=\"dataframe\">\n",
        "  <thead>\n",
        "    <tr style=\"text-align: right;\">\n",
        "      <th></th>\n",
        "      <th>Value</th>\n",
        "    </tr>\n",
        "  </thead>\n",
        "  <tbody>\n",
        "    <tr>\n",
        "      <th>Absolute Value</th>\n",
        "      <td>                                       True</td>\n",
        "    </tr>\n",
        "    <tr>\n",
        "      <th>Bandpass Highcut</th>\n",
        "      <td>                                       none</td>\n",
        "    </tr>\n",
        "    <tr>\n",
        "      <th>Bandpass Lowcut</th>\n",
        "      <td>                                       none</td>\n",
        "    </tr>\n",
        "    <tr>\n",
        "      <th>Bandpass Polynomial</th>\n",
        "      <td>                                       none</td>\n",
        "    </tr>\n",
        "    <tr>\n",
        "      <th>Baseline</th>\n",
        "      <td>                                 0.05657545</td>\n",
        "    </tr>\n",
        "    <tr>\n",
        "      <th>Baseline Type</th>\n",
        "      <td>                                    rolling</td>\n",
        "    </tr>\n",
        "    <tr>\n",
        "      <th>Baseline rolling</th>\n",
        "      <td>                                       True</td>\n",
        "    </tr>\n",
        "    <tr>\n",
        "      <th>Delta</th>\n",
        "      <td>                                        0.3</td>\n",
        "    </tr>\n",
        "    <tr>\n",
        "      <th>Inter-event interval minimum (seconds)</th>\n",
        "      <td>                                        0.1</td>\n",
        "    </tr>\n",
        "    <tr>\n",
        "      <th>Linear Fit</th>\n",
        "      <td>                                      False</td>\n",
        "    </tr>\n",
        "    <tr>\n",
        "      <th>Percent of Baseline Threshold</th>\n",
        "      <td>                                          1</td>\n",
        "    </tr>\n",
        "    <tr>\n",
        "      <th>Rolling Baseline Window</th>\n",
        "      <td>                                        300</td>\n",
        "    </tr>\n",
        "    <tr>\n",
        "      <th>Sample Folder</th>\n",
        "      <td>                                       test</td>\n",
        "    </tr>\n",
        "    <tr>\n",
        "      <th>Sample Rate (s/frame)</th>\n",
        "      <td>                                    0.00025</td>\n",
        "    </tr>\n",
        "    <tr>\n",
        "      <th>Save Location</th>\n",
        "      <td>               /Users/abigaildobyns/Desktop</td>\n",
        "    </tr>\n",
        "    <tr>\n",
        "      <th>Savitsky-Golay Polynomial</th>\n",
        "      <td>                                          4</td>\n",
        "    </tr>\n",
        "    <tr>\n",
        "      <th>Savitsky-Golay Window Size</th>\n",
        "      <td>                                        201</td>\n",
        "    </tr>\n",
        "    <tr>\n",
        "      <th>Uploaded File Location</th>\n",
        "      <td> /Users/abigaildobyns/Desktop/rat34-ECG.txt</td>\n",
        "    </tr>\n",
        "  </tbody>\n",
        "</table>\n",
        "<p>18 rows \u00d7 1 columns</p>\n",
        "</div>"
       ],
       "metadata": {},
       "output_type": "pyout",
       "prompt_number": 144,
       "text": [
        "                                                                             Value\n",
        "Absolute Value                                                                True\n",
        "Bandpass Highcut                                                              none\n",
        "Bandpass Lowcut                                                               none\n",
        "Bandpass Polynomial                                                           none\n",
        "Baseline                                                                0.05657545\n",
        "Baseline Type                                                              rolling\n",
        "Baseline rolling                                                              True\n",
        "Delta                                                                          0.3\n",
        "Inter-event interval minimum (seconds)                                         0.1\n",
        "Linear Fit                                                                   False\n",
        "Percent of Baseline Threshold                                                    1\n",
        "Rolling Baseline Window                                                        300\n",
        "Sample Folder                                                                 test\n",
        "Sample Rate (s/frame)                                                      0.00025\n",
        "Save Location                                         /Users/abigaildobyns/Desktop\n",
        "Savitsky-Golay Polynomial                                                        4\n",
        "Savitsky-Golay Window Size                                                     201\n",
        "Uploaded File Location                  /Users/abigaildobyns/Desktop/rat34-ECG.txt\n",
        "\n",
        "[18 rows x 1 columns]"
       ]
      }
     ],
     "prompt_number": 144
    },
    {
     "cell_type": "heading",
     "level": 1,
     "metadata": {},
     "source": [
      "Event Detection"
     ]
    },
    {
     "cell_type": "heading",
     "level": 2,
     "metadata": {},
     "source": [
      "Peaks"
     ]
    },
    {
     "cell_type": "heading",
     "level": 3,
     "metadata": {},
     "source": [
      "Enter Delta value"
     ]
    },
    {
     "cell_type": "markdown",
     "metadata": {},
     "source": [
      "Choose a delta value (if not already specified) for peak detection. \n",
      "Delta is a 'top-down' threshold for peaks, where a point is considered a peak if there are points lower that it by delta.\n",
      "A larger delta will result in fewer, more selective peaks."
     ]
    },
    {
     "cell_type": "code",
     "collapsed": false,
     "input": [
      "Settings = event_peakdet_settings(Settings)"
     ],
     "language": "python",
     "metadata": {},
     "outputs": [
      {
       "name": "stdout",
       "output_type": "stream",
       "stream": "stdout",
       "text": [
        "Enter delta value between 0 and 0.6337: 0.3\n"
       ]
      }
     ],
     "prompt_number": 122
    },
    {
     "cell_type": "heading",
     "level": 3,
     "metadata": {},
     "source": [
      "Run Event Peak Detection"
     ]
    },
    {
     "cell_type": "markdown",
     "metadata": {},
     "source": [
      "Run block of code below to run peak deteaction. This block will display a plot of the detected events. It will also print a summary table of the peak amplitude and RR intervals."
     ]
    },
    {
     "cell_type": "code",
     "collapsed": false,
     "input": [
      "Results = event_peakdet(Data, Settings, Results)\n",
      "Results['Peaks Summary']"
     ],
     "language": "python",
     "metadata": {},
     "outputs": [
      {
       "html": [
        "<div style=\"max-height:1000px;max-width:1500px;overflow:auto;\">\n",
        "<table border=\"1\" class=\"dataframe\">\n",
        "  <thead>\n",
        "    <tr style=\"text-align: right;\">\n",
        "      <th></th>\n",
        "      <th>Peaks Amplitude</th>\n",
        "      <th>R-R intervals</th>\n",
        "    </tr>\n",
        "  </thead>\n",
        "  <tbody>\n",
        "    <tr>\n",
        "      <th>count</th>\n",
        "      <td> 3224.000000</td>\n",
        "      <td> 3223.000000</td>\n",
        "    </tr>\n",
        "    <tr>\n",
        "      <th>mean</th>\n",
        "      <td>    0.594499</td>\n",
        "      <td>    0.188253</td>\n",
        "    </tr>\n",
        "    <tr>\n",
        "      <th>std</th>\n",
        "      <td>    0.052936</td>\n",
        "      <td>    0.007367</td>\n",
        "    </tr>\n",
        "    <tr>\n",
        "      <th>min</th>\n",
        "      <td>    0.469029</td>\n",
        "      <td>    0.170500</td>\n",
        "    </tr>\n",
        "    <tr>\n",
        "      <th>25%</th>\n",
        "      <td>    0.543069</td>\n",
        "      <td>    0.183000</td>\n",
        "    </tr>\n",
        "    <tr>\n",
        "      <th>50%</th>\n",
        "      <td>    0.606563</td>\n",
        "      <td>    0.188500</td>\n",
        "    </tr>\n",
        "    <tr>\n",
        "      <th>75%</th>\n",
        "      <td>    0.635559</td>\n",
        "      <td>    0.194000</td>\n",
        "    </tr>\n",
        "    <tr>\n",
        "      <th>max</th>\n",
        "      <td>    0.725075</td>\n",
        "      <td>    0.201750</td>\n",
        "    </tr>\n",
        "  </tbody>\n",
        "</table>\n",
        "<p>8 rows \u00d7 2 columns</p>\n",
        "</div>"
       ],
       "metadata": {},
       "output_type": "pyout",
       "prompt_number": 175,
       "text": [
        "       Peaks Amplitude  R-R intervals\n",
        "count      3224.000000    3223.000000\n",
        "mean          0.594499       0.188253\n",
        "std           0.052936       0.007367\n",
        "min           0.469029       0.170500\n",
        "25%           0.543069       0.183000\n",
        "50%           0.606563       0.188500\n",
        "75%           0.635559       0.194000\n",
        "max           0.725075       0.201750\n",
        "\n",
        "[8 rows x 2 columns]"
       ]
      }
     ],
     "prompt_number": 175
    },
    {
     "cell_type": "heading",
     "level": 2,
     "metadata": {},
     "source": [
      "Bursts"
     ]
    },
    {
     "cell_type": "markdown",
     "metadata": {},
     "source": [
      "Change the threshperc to adjust the threshold line and cluster_time to adjust how close together bursts can be before the are considered the same event.\n",
      "\n",
      "All data is saved in the results_bursts Dataframe"
     ]
    },
    {
     "cell_type": "code",
     "collapsed": false,
     "input": [
      "results_bursts, results_burst_sum, Settings = event_burstdet(time, data_shift, Settings)\n",
      "burst_plot(time, data_shift, results_bursts, maxpeaks, maxptime, Settings)\n",
      "results_burst_sum"
     ],
     "language": "python",
     "metadata": {},
     "outputs": [
      {
       "name": "stdout",
       "output_type": "stream",
       "stream": "stdout",
       "text": [
        "Enter a threshold percent value between 0 and 10.2102: 1\n"
       ]
      },
      {
       "name": "stdout",
       "output_type": "stream",
       "stream": "stdout",
       "text": [
        "Enter the minimum inter-event interval in seconds:0.1\n"
       ]
      },
      {
       "html": [
        "<div style=\"max-height:1000px;max-width:1500px;overflow:auto;\">\n",
        "<table border=\"1\" class=\"dataframe\">\n",
        "  <thead>\n",
        "    <tr style=\"text-align: right;\">\n",
        "      <th></th>\n",
        "      <th>Burst Start</th>\n",
        "      <th>Burst End</th>\n",
        "      <th>Burst Duration</th>\n",
        "      <th>Interburst Interval</th>\n",
        "      <th>Total Cycle Time</th>\n",
        "    </tr>\n",
        "  </thead>\n",
        "  <tbody>\n",
        "    <tr>\n",
        "      <th>count</th>\n",
        "      <td> 3224.000000</td>\n",
        "      <td> 3224.000000</td>\n",
        "      <td> 3224.000000</td>\n",
        "      <td> 3223.000000</td>\n",
        "      <td> 3223.000000</td>\n",
        "    </tr>\n",
        "    <tr>\n",
        "      <th>mean</th>\n",
        "      <td>  297.233430</td>\n",
        "      <td>  297.265938</td>\n",
        "      <td>    0.032508</td>\n",
        "      <td>    0.155746</td>\n",
        "      <td>    0.188253</td>\n",
        "    </tr>\n",
        "    <tr>\n",
        "      <th>std</th>\n",
        "      <td>  176.070147</td>\n",
        "      <td>  176.070869</td>\n",
        "      <td>    0.001556</td>\n",
        "      <td>    0.006872</td>\n",
        "      <td>    0.007512</td>\n",
        "    </tr>\n",
        "    <tr>\n",
        "      <th>min</th>\n",
        "      <td>    0.119000</td>\n",
        "      <td>    0.149750</td>\n",
        "      <td>    0.029000</td>\n",
        "      <td>    0.139500</td>\n",
        "      <td>    0.169750</td>\n",
        "    </tr>\n",
        "    <tr>\n",
        "      <th>25%</th>\n",
        "      <td>  143.867750</td>\n",
        "      <td>  143.899125</td>\n",
        "      <td>    0.031500</td>\n",
        "      <td>    0.151500</td>\n",
        "      <td>    0.183000</td>\n",
        "    </tr>\n",
        "    <tr>\n",
        "      <th>50%</th>\n",
        "      <td>  293.385500</td>\n",
        "      <td>  293.417875</td>\n",
        "      <td>    0.032500</td>\n",
        "      <td>    0.155500</td>\n",
        "      <td>    0.188500</td>\n",
        "    </tr>\n",
        "    <tr>\n",
        "      <th>75%</th>\n",
        "      <td>  449.119687</td>\n",
        "      <td>  449.154063</td>\n",
        "      <td>    0.033500</td>\n",
        "      <td>    0.160750</td>\n",
        "      <td>    0.194500</td>\n",
        "    </tr>\n",
        "    <tr>\n",
        "      <th>max</th>\n",
        "      <td>  606.859500</td>\n",
        "      <td>  606.894750</td>\n",
        "      <td>    0.049250</td>\n",
        "      <td>    0.169500</td>\n",
        "      <td>    0.207500</td>\n",
        "    </tr>\n",
        "  </tbody>\n",
        "</table>\n",
        "<p>8 rows \u00d7 5 columns</p>\n",
        "</div>"
       ],
       "metadata": {},
       "output_type": "pyout",
       "prompt_number": 12,
       "text": [
        "       Burst Start    Burst End  Burst Duration  Interburst Interval  \\\n",
        "count  3224.000000  3224.000000     3224.000000          3223.000000   \n",
        "mean    297.233430   297.265938        0.032508             0.155746   \n",
        "std     176.070147   176.070869        0.001556             0.006872   \n",
        "min       0.119000     0.149750        0.029000             0.139500   \n",
        "25%     143.867750   143.899125        0.031500             0.151500   \n",
        "50%     293.385500   293.417875        0.032500             0.155500   \n",
        "75%     449.119687   449.154063        0.033500             0.160750   \n",
        "max     606.859500   606.894750        0.049250             0.169500   \n",
        "\n",
        "       Total Cycle Time  \n",
        "count       3223.000000  \n",
        "mean           0.188253  \n",
        "std            0.007512  \n",
        "min            0.169750  \n",
        "25%            0.183000  \n",
        "50%            0.188500  \n",
        "75%            0.194500  \n",
        "max            0.207500  \n",
        "\n",
        "[8 rows x 5 columns]"
       ]
      }
     ],
     "prompt_number": 12
    },
    {
     "cell_type": "code",
     "collapsed": false,
     "input": [
      "Settings = event_burstdet_settings(Settings)"
     ],
     "language": "python",
     "metadata": {},
     "outputs": [
      {
       "output_type": "stream",
       "stream": "stdout",
       "text": [
        "Previous threshold value: 1.5\n"
       ]
      },
      {
       "name": "stdout",
       "output_type": "stream",
       "stream": "stdout",
       "text": [
        "Enter a threshold percent value between 1 and 7.6149: 1.75\n"
       ]
      },
      {
       "output_type": "stream",
       "stream": "stdout",
       "text": [
        "Previous interval value: 0.1\n"
       ]
      },
      {
       "name": "stdout",
       "output_type": "stream",
       "stream": "stdout",
       "text": [
        "Enter the minimum inter-event interval in seconds:0.1\n"
       ]
      }
     ],
     "prompt_number": 178
    },
    {
     "cell_type": "code",
     "collapsed": false,
     "input": [
      "Data, Settings, Results = event_burstdet(Data, Settings, Results)\n",
      "burst_plot(Data, Settings, Results)\n",
      "Results['Bursts Summary']"
     ],
     "language": "python",
     "metadata": {},
     "outputs": [
      {
       "html": [
        "<div style=\"max-height:1000px;max-width:1500px;overflow:auto;\">\n",
        "<table border=\"1\" class=\"dataframe\">\n",
        "  <thead>\n",
        "    <tr style=\"text-align: right;\">\n",
        "      <th></th>\n",
        "      <th>Burst Start</th>\n",
        "      <th>Burst End</th>\n",
        "      <th>Burst Duration</th>\n",
        "      <th>Burst Start Amplitude</th>\n",
        "      <th>Burst End Amplitude</th>\n",
        "      <th>Interburst Interval</th>\n",
        "      <th>Total Cycle Time</th>\n",
        "    </tr>\n",
        "  </thead>\n",
        "  <tbody>\n",
        "    <tr>\n",
        "      <th>count</th>\n",
        "      <td> 3224.000000</td>\n",
        "      <td> 3224.000000</td>\n",
        "      <td> 3224.000000</td>\n",
        "      <td> 3224.000000</td>\n",
        "      <td> 3224.000000</td>\n",
        "      <td> 3223.000000</td>\n",
        "      <td> 3223.000000</td>\n",
        "    </tr>\n",
        "    <tr>\n",
        "      <th>mean</th>\n",
        "      <td>  297.239220</td>\n",
        "      <td>  297.259491</td>\n",
        "      <td>    0.020271</td>\n",
        "      <td>    0.303197</td>\n",
        "      <td>    0.303650</td>\n",
        "      <td>    0.167981</td>\n",
        "      <td>    0.188254</td>\n",
        "    </tr>\n",
        "    <tr>\n",
        "      <th>std</th>\n",
        "      <td>  176.071699</td>\n",
        "      <td>  176.070577</td>\n",
        "      <td>    0.006252</td>\n",
        "      <td>    0.052573</td>\n",
        "      <td>    0.037117</td>\n",
        "      <td>    0.010455</td>\n",
        "      <td>    0.011411</td>\n",
        "    </tr>\n",
        "    <tr>\n",
        "      <th>min</th>\n",
        "      <td>    0.125250</td>\n",
        "      <td>    0.144250</td>\n",
        "      <td>    0.016500</td>\n",
        "      <td>    0.028630</td>\n",
        "      <td>    0.214253</td>\n",
        "      <td>    0.110000</td>\n",
        "      <td>    0.129000</td>\n",
        "    </tr>\n",
        "    <tr>\n",
        "      <th>25%</th>\n",
        "      <td>  143.873938</td>\n",
        "      <td>  143.893687</td>\n",
        "      <td>    0.019000</td>\n",
        "      <td>    0.276014</td>\n",
        "      <td>    0.278385</td>\n",
        "      <td>    0.163500</td>\n",
        "      <td>    0.183750</td>\n",
        "    </tr>\n",
        "    <tr>\n",
        "      <th>50%</th>\n",
        "      <td>  293.392000</td>\n",
        "      <td>  293.411625</td>\n",
        "      <td>    0.019250</td>\n",
        "      <td>    0.305584</td>\n",
        "      <td>    0.302193</td>\n",
        "      <td>    0.169250</td>\n",
        "      <td>    0.189250</td>\n",
        "    </tr>\n",
        "    <tr>\n",
        "      <th>75%</th>\n",
        "      <td>  449.127625</td>\n",
        "      <td>  449.146625</td>\n",
        "      <td>    0.019750</td>\n",
        "      <td>    0.339753</td>\n",
        "      <td>    0.333322</td>\n",
        "      <td>    0.174500</td>\n",
        "      <td>    0.194500</td>\n",
        "    </tr>\n",
        "    <tr>\n",
        "      <th>max</th>\n",
        "      <td>  606.866500</td>\n",
        "      <td>  606.883000</td>\n",
        "      <td>    0.065500</td>\n",
        "      <td>    0.406837</td>\n",
        "      <td>    0.469592</td>\n",
        "      <td>    0.183250</td>\n",
        "      <td>    0.231750</td>\n",
        "    </tr>\n",
        "  </tbody>\n",
        "</table>\n",
        "<p>8 rows \u00d7 7 columns</p>\n",
        "</div>"
       ],
       "metadata": {},
       "output_type": "pyout",
       "prompt_number": 179,
       "text": [
        "       Burst Start    Burst End  Burst Duration  Burst Start Amplitude  \\\n",
        "count  3224.000000  3224.000000     3224.000000            3224.000000   \n",
        "mean    297.239220   297.259491        0.020271               0.303197   \n",
        "std     176.071699   176.070577        0.006252               0.052573   \n",
        "min       0.125250     0.144250        0.016500               0.028630   \n",
        "25%     143.873938   143.893687        0.019000               0.276014   \n",
        "50%     293.392000   293.411625        0.019250               0.305584   \n",
        "75%     449.127625   449.146625        0.019750               0.339753   \n",
        "max     606.866500   606.883000        0.065500               0.406837   \n",
        "\n",
        "       Burst End Amplitude  Interburst Interval  Total Cycle Time  \n",
        "count          3224.000000          3223.000000       3223.000000  \n",
        "mean              0.303650             0.167981          0.188254  \n",
        "std               0.037117             0.010455          0.011411  \n",
        "min               0.214253             0.110000          0.129000  \n",
        "25%               0.278385             0.163500          0.183750  \n",
        "50%               0.302193             0.169250          0.189250  \n",
        "75%               0.333322             0.174500          0.194500  \n",
        "max               0.469592             0.183250          0.231750  \n",
        "\n",
        "[8 rows x 7 columns]"
       ]
      }
     ],
     "prompt_number": 179
    },
    {
     "cell_type": "code",
     "collapsed": false,
     "input": [
      "def burst_plot(Data, Settings, Results):\n",
      "    '''\n",
      "    wrapper to plot the results of the peak detection. \n",
      "    use the time and data_shift arrays for the data. use maxptime and maxpeaks to plot peaks.\n",
      "    '''     \n",
      "    if Settings['Baseline Type'] == 'linear':\n",
      "        bend = results_bursts['Burst End'].tolist()\n",
      "        bstart = results_bursts['Burst Start'].tolist()\n",
      "        bendy = []\n",
      "        for point in bend:\n",
      "            bendy.append(Settings['Baseline']*Settings['Percent of Baseline Threshold'])\n",
      "\n",
      "        bstarty = []\n",
      "        for point in bstart:\n",
      "            bstarty.append(Settings['Baseline']*Settings['Percent of Baseline Threshold'])\n",
      "            \n",
      "        plt.plot(Data['shift'].index, Data['shift'], 'k') #in this instance, baseline = shift\n",
      "        plt.xlabel('Time (s)')\n",
      "        plt.ylabel('Amp')\n",
      "        plt.hlines(0,Data['shift'].index[0],Data['shift'].index[-1],colors='b')\n",
      "        plt.hlines((Settings['Baseline']*Settings['Percent of Baseline Threshold']),Data['shift'].index[0],Data['shift'].index[-1],colors='r')\n",
      "        #plt.xlim(xmin = min(time), xmax = (min(time)+10))\n",
      "        #plt.ylim(ymin = min(data_baseline), ymax = max(data_baseline))\n",
      "        plt.plot(Results['Peaks'].index,Results['Peaks']['Peaks Amplitude'], marker = \"^\", color=\"g\", linestyle= \"None\")\n",
      "        plt.plot(bstart, bstarty, marker = \"v\", color=\"y\", linestyle= \"None\")\n",
      "        plt.plot(bend, bendy, marker = \"v\", color=\"m\", linestyle= \"None\")\n",
      "        plt.title('Event Detection')\n",
      "\n",
      "        plt.show()\n",
      "    \n",
      "    elif Settings['Baseline Type'] == 'rolling':\n",
      "        \n",
      "        plt.plot(Data['rolling'].index, Data['rolling'], 'k')\n",
      "        plt.xlabel('Time (s)')\n",
      "        plt.ylabel('Amp')\n",
      "        plt.plot(Settings['Baseline rolling'].index, Settings['Baseline rolling'], 'b') #in this instance, baseline = rolling average\n",
      "        plt.plot(Settings['Baseline rolling'].index, Settings['Baseline rolling']*Settings['Percent of Baseline Threshold'], 'r')\n",
      "        plt.plot(Results['Peaks'].index,Results['Peaks']['Peaks Amplitude'], marker = \"^\", color=\"g\", linestyle= \"None\")\n",
      "        plt.plot(Results['Bursts']['Burst Start'], Results['Bursts']['Burst Start Amplitude'], marker = \"v\", color=\"y\", linestyle= \"None\")\n",
      "        plt.plot(Results['Bursts']['Burst End'], Results['Bursts']['Burst End Amplitude'], marker = \"v\", color=\"m\", linestyle= \"None\")\n",
      "        plt.title('Event Detection')\n",
      "        #plt.xlim(xmin = min(time), xmax = (min(time)+10))\n",
      "        #plt.ylim(ymin = min(data_baseline), ymax = max(data_baseline))\n",
      "        \n",
      "        plt.show()"
     ],
     "language": "python",
     "metadata": {},
     "outputs": [],
     "prompt_number": 174
    },
    {
     "cell_type": "code",
     "collapsed": false,
     "input": [
      "def burstarea_test(data, time, burst_start, burst_end, dx = 10):\n",
      "    \"\"\"\n",
      "    integral, area under curve of each burst. Use start and end times to split the y values into short lists. \n",
      "    need the time array to do this\n",
      "    \"\"\"\n",
      "    from scipy.integrate import simps, trapz #import the integral functions\n",
      "    \n",
      "    time = list(time) #time array must be a list for the indexting to work.\n",
      "    \n",
      "    burst_area = [] #empty array for the areas to go into\n",
      "    count = 0\n",
      "    for i in np.arange(len(burst_start)): #for each index in the start array\n",
      "        end = time.index(burst_end[i]) #using the value at each i in the burst_end array, index in the time array to get the time index. this will be the same index # as the data array\n",
      "        start = time.index(burst_start[i])\n",
      "        area = trapz(data[start:end], x=time[start:end], dx= dx) #find area using the trapz function, but only \n",
      "        burst_area.append(area)\n",
      "        count = count + 1\n",
      "        print \"%s = %s\" %(count,area)\n",
      "    return burst_area\n",
      "\n",
      "def burstarea_wrapper_test(Data, Results):\n",
      "    '''\n",
      "    wrapper for burst area. since this function takes a while, it is seperated out for safety and effecency.\n",
      "    '''\n",
      "    start = t.clock()\n",
      "    #bend = Results['Bursts']['Burst End'].tolist()\n",
      "    #bstart = Results['Bursts']['Burst Start'].tolist()\n",
      "    \n",
      "    if Settings['Baseline Type'] == 'linear':\n",
      "        b_area = burstarea_test(np.array(Data['trans']), \n",
      "                                Data['trans'].index, \n",
      "                                Results['Bursts']['Burst Start'].tolist(), \n",
      "                                Results['Bursts']['Burst End'].tolist())\n",
      "    \n",
      "    elif Settings['Baseline Type'] == 'rolling':\n",
      "        b_area = burstarea_test(np.array(Data['rolling']), \n",
      "                                Data['rolling'].index, \n",
      "                                Results['Bursts']['Burst Start'].tolist(), \n",
      "                                Results['Bursts']['Burst End'].tolist())\n",
      "    Results['Bursts']['Burst Area'] = b_area\n",
      "    end = t.clock()\n",
      "    print 'burstarea took', (end-start), 'seconds to complete', len(bstart), 'integrals, or', round((len(bstart)/(end-start)),3), 'integrals/second. How impressive!'\n",
      "    \n",
      "    Results['Bursts Summary'] = results_bursts.describe()\n",
      "    \n",
      "    return Results"
     ],
     "language": "python",
     "metadata": {},
     "outputs": [],
     "prompt_number": 195
    },
    {
     "cell_type": "code",
     "collapsed": false,
     "input": [
      "Settings['Baseline Type']"
     ],
     "language": "python",
     "metadata": {},
     "outputs": [
      {
       "metadata": {},
       "output_type": "pyout",
       "prompt_number": 197,
       "text": [
        "'rolling'"
       ]
      }
     ],
     "prompt_number": 197
    },
    {
     "cell_type": "code",
     "collapsed": false,
     "input": [
      "b_area = burstarea_test(np.array(Data['rolling']), Data['rolling'].index, Results['Bursts']['Burst Start'].tolist(), Results['Bursts']['Burst End'].tolist())"
     ],
     "language": "python",
     "metadata": {},
     "outputs": [
      {
       "output_type": "stream",
       "stream": "stdout",
       "text": [
        "1 = 0.00796805331206\n",
        "2 = 0.00860753160434\n",
        "3 = 0.00825367730377\n",
        "4 = 0.00801707012817\n",
        "5 = 0.00852189752244\n",
        "6 = 0.00818008256208\n",
        "7 = 0.0081295276437\n",
        "8 = 0.00883841986408\n",
        "9 = 0.00810008371654\n",
        "10 = 0.00787267292802\n",
        "11 = 0.00848015063564\n",
        "12 = 0.00820347755559\n",
        "13 = 0.00817956308458\n",
        "14 = 0.00855083451513\n",
        "15 = 0.00816475146723\n",
        "16 = 0.00795736526937\n",
        "17 = 0.00854944326055\n",
        "18 = 0.0100565110289\n",
        "19 = 0.00816829433348\n",
        "20 = 0.00847324109527\n",
        "21 = 0.0102728363391\n",
        "22 = 0.00827496121704\n",
        "23 = 0.00849623602693\n",
        "24 = 0.00829619897036\n",
        "25 = 0.0084983006931\n",
        "26 = 0.00822880421866\n",
        "27 = 0.00806100800975\n",
        "28 = 0.0085277848577\n",
        "29 = 0.0101884879803\n",
        "30 = 0.00861924165872\n",
        "31 = 0.00827572827108\n",
        "32 = 0.00794639289769\n",
        "33 = 0.00850951423904\n",
        "34 = 0.00997838941635\n",
        "35 = 0.00822435267551\n",
        "36 = 0.00832839166565\n",
        "37 = 0.00797938396174\n",
        "38 = 0.00843095103583\n",
        "39 = 0.00814562587729\n",
        "40 = 0.00834334349298"
       ]
      },
      {
       "output_type": "stream",
       "stream": "stdout",
       "text": [
        "\n",
        "41 = 0.00838812775852\n",
        "42 = 0.00798755681238\n",
        "43 = 0.00840775788418\n",
        "44 = 0.00955746146303\n",
        "45 = 0.00826329294347\n",
        "46 = 0.00842009815864\n",
        "47 = 0.00793885678039\n",
        "48 = 0.00853852102679\n",
        "49 = 0.00991786037771\n",
        "50 = 0.00821600463061\n",
        "51 = 0.00846372362828\n",
        "52 = 0.00799513767033\n",
        "53 = 0.00846796393554"
       ]
      },
      {
       "output_type": "stream",
       "stream": "stdout",
       "text": [
        "\n",
        "54 = 0.00792857606279\n",
        "55 = 0.00849151510293\n",
        "56 = 0.00990704649554\n",
        "57 = 0.00831419810352\n",
        "58 = 0.00826347579462\n",
        "59 = 0.00802794269025\n",
        "60 = 0.00848550506857\n",
        "61 = 0.0103357103883\n",
        "62 = 0.0086607501125\n",
        "63 = 0.00978545272117\n",
        "64 = 0.00828228308706\n",
        "65 = 0.00821660155443\n",
        "66 = 0.00801956808689"
       ]
      },
      {
       "output_type": "stream",
       "stream": "stdout",
       "text": [
        "\n",
        "67 = 0.00827340366282\n",
        "68 = 0.00812277976771\n",
        "69 = 0.00850624300637\n",
        "70 = 0.00797600745217\n",
        "71 = 0.00848600917682\n",
        "72 = 0.0100292401919\n",
        "73 = 0.00849722019251\n",
        "74 = 0.00811645122153\n",
        "75 = 0.00817164081097\n",
        "76 = 0.00817476939087"
       ]
      },
      {
       "output_type": "stream",
       "stream": "stdout",
       "text": [
        "\n",
        "77 = 0.00816341820269\n",
        "78 = 0.00854780766524\n",
        "79 = 0.00798692591235\n",
        "80 = 0.00841273264962\n",
        "81 = 0.00794571345163\n",
        "82 = 0.00840526330041\n",
        "83 = 0.0080455266459\n",
        "84 = 0.00866000302501\n",
        "85 = 0.00794482232389\n",
        "86 = 0.00846160285917"
       ]
      },
      {
       "output_type": "stream",
       "stream": "stdout",
       "text": [
        "\n",
        "87 = 0.0100651682698\n",
        "88 = 0.00849696813173\n",
        "89 = 0.00999132257779\n",
        "90 = 0.00854464414444\n",
        "91 = 0.0096960544494\n",
        "92 = 0.00835875619975\n",
        "93 = 0.00971898610164\n",
        "94 = 0.00833410312675"
       ]
      },
      {
       "output_type": "stream",
       "stream": "stdout",
       "text": [
        "\n",
        "95 = 0.00843344928164\n",
        "96 = 0.00818965174249\n",
        "97 = 0.0082038840764\n",
        "98 = 0.00817453142788\n",
        "99 = 0.00830486572925\n",
        "100 = 0.00822960571036\n",
        "101 = 0.00847935081915"
       ]
      },
      {
       "output_type": "stream",
       "stream": "stdout",
       "text": [
        "\n",
        "102 = 0.00817534421379\n",
        "103 = 0.00832036295639\n",
        "104 = 0.00813812679647\n",
        "105 = 0.00836350452181\n",
        "106 = 0.00826814140048\n",
        "107 = 0.00846580527202\n",
        "108 = 0.00806090280267"
       ]
      },
      {
       "output_type": "stream",
       "stream": "stdout",
       "text": [
        "\n",
        "109 = 0.00840653881863\n",
        "110 = 0.00808695409604\n",
        "111 = 0.00834153547563\n",
        "112 = 0.00835266366759\n",
        "113 = 0.0084689176402\n",
        "114 = 0.00818096185179\n",
        "115 = 0.00833596901786"
       ]
      },
      {
       "output_type": "stream",
       "stream": "stdout",
       "text": [
        "\n",
        "116 = 0.00821489909865\n",
        "117 = 0.00828681449749\n",
        "118 = 0.00838346244025\n",
        "119 = 0.00829375031571\n",
        "120 = 0.0083173946523\n",
        "121 = 0.00830054309819\n",
        "122 = 0.00846297985778"
       ]
      },
      {
       "output_type": "stream",
       "stream": "stdout",
       "text": [
        "\n",
        "123 = 0.0098259117268\n",
        "124 = 0.00875276181104\n",
        "125 = 0.00985964845171\n",
        "126 = 0.0085822671749\n",
        "127 = 0.00995068825644\n",
        "128 = 0.00859040773494"
       ]
      },
      {
       "output_type": "stream",
       "stream": "stdout",
       "text": [
        "\n",
        "129 = 0.0103440473027\n",
        "130 = 0.00895415183523\n",
        "131 = 0.00805177422724\n",
        "132 = 0.0086121595214\n",
        "133 = 0.00802246284243\n",
        "134 = 0.00856482614774"
       ]
      },
      {
       "output_type": "stream",
       "stream": "stdout",
       "text": [
        "\n",
        "135 = 0.00823312998057\n",
        "136 = 0.00873194419225\n",
        "137 = 0.00803725418655\n",
        "138 = 0.00847220146412\n",
        "139 = 0.00814078105254"
       ]
      },
      {
       "output_type": "stream",
       "stream": "stdout",
       "text": [
        "\n",
        "140 = 0.00834148898565\n",
        "141 = 0.00852906445253\n",
        "142 = 0.00836089892879\n",
        "143 = 0.00831464370379\n",
        "144 = 0.00834183329773"
       ]
      },
      {
       "output_type": "stream",
       "stream": "stdout",
       "text": [
        "\n",
        "145 = 0.00827643117939\n",
        "146 = 0.00852432685496\n",
        "147 = 0.00840740440508\n",
        "148 = 0.00827581919757\n",
        "149 = 0.00843472828671"
       ]
      },
      {
       "output_type": "stream",
       "stream": "stdout",
       "text": [
        "\n",
        "150 = 0.00981500568847\n",
        "151 = 0.00873916893164\n",
        "152 = 0.0101688024614\n",
        "153 = 0.00861098477324\n",
        "154 = 0.0101947491521"
       ]
      },
      {
       "output_type": "stream",
       "stream": "stdout",
       "text": [
        "\n",
        "155 = 0.00854004587071\n",
        "156 = 0.0103563926136\n",
        "157 = 0.00881355651734\n",
        "158 = 0.00821773147423"
       ]
      },
      {
       "output_type": "stream",
       "stream": "stdout",
       "text": [
        "\n",
        "159 = 0.00862862037025\n",
        "160 = 0.00815413823675\n",
        "161 = 0.00861886416138\n",
        "162 = 0.00802361991957\n",
        "163 = 0.00887939025841"
       ]
      },
      {
       "output_type": "stream",
       "stream": "stdout",
       "text": [
        "\n",
        "164 = 0.00810093223211\n",
        "165 = 0.00858509093761\n",
        "166 = 0.00816706045491\n",
        "167 = 0.00861115800627\n",
        "168 = 0.00829336578221"
       ]
      },
      {
       "output_type": "stream",
       "stream": "stdout",
       "text": [
        "\n",
        "169 = 0.00881739523305\n",
        "170 = 0.00805391759022\n",
        "171 = 0.00845984988656\n",
        "172 = 0.00816941438091"
       ]
      },
      {
       "output_type": "stream",
       "stream": "stdout",
       "text": [
        "\n",
        "173 = 0.00840951085957\n",
        "174 = 0.00858756507925\n",
        "175 = 0.00851595606567\n",
        "176 = 0.00832104110531"
       ]
      },
      {
       "output_type": "stream",
       "stream": "stdout",
       "text": [
        "\n",
        "177 = 0.00830216080748\n",
        "178 = 0.00841278899242\n",
        "179 = 0.00826579625659\n",
        "180 = 0.00881206014959"
       ]
      },
      {
       "output_type": "stream",
       "stream": "stdout",
       "text": [
        "\n",
        "181 = 0.00994430658503\n",
        "182 = 0.00857789428264\n",
        "183 = 0.010110857275\n",
        "184 = 0.00867736024747"
       ]
      },
      {
       "output_type": "stream",
       "stream": "stdout",
       "text": [
        "\n",
        "185 = 0.010295916085\n",
        "186 = 0.0089589390355\n",
        "187 = 0.00816750084299\n",
        "188 = 0.0086081220913"
       ]
      },
      {
       "output_type": "stream",
       "stream": "stdout",
       "text": [
        "\n",
        "189 = 0.00813876492385\n",
        "190 = 0.00854274627496\n",
        "191 = 0.00812226169691\n",
        "192 = 0.00866127513817"
       ]
      },
      {
       "output_type": "stream",
       "stream": "stdout",
       "text": [
        "\n",
        "193 = 0.00822615219262\n",
        "194 = 0.00833555793766\n",
        "195 = 0.00831632519992\n",
        "196 = 0.00831617557749"
       ]
      },
      {
       "output_type": "stream",
       "stream": "stdout",
       "text": [
        "\n",
        "197 = 0.00859794299936\n",
        "198 = 0.0104875093119\n",
        "199 = 0.0086217959316\n",
        "200 = 0.00821147754798"
       ]
      },
      {
       "output_type": "stream",
       "stream": "stdout",
       "text": [
        "\n",
        "201 = 0.00855772154316\n",
        "202 = 0.0081090078561\n",
        "203 = 0.0087501496695\n",
        "204 = 0.0082680986574"
       ]
      },
      {
       "output_type": "stream",
       "stream": "stdout",
       "text": [
        "\n",
        "205 = 0.00845273883639\n",
        "206 = 0.00830709086708\n",
        "207 = 0.00831604211683\n",
        "208 = 0.00847872135838"
       ]
      },
      {
       "output_type": "stream",
       "stream": "stdout",
       "text": [
        "\n",
        "209 = 0.0103197463872\n",
        "210 = 0.00868937930498\n",
        "211 = 0.0103927806628\n",
        "212 = 0.0086437978561"
       ]
      },
      {
       "output_type": "stream",
       "stream": "stdout",
       "text": [
        "\n",
        "213 = 0.00815979554964\n",
        "214 = 0.00871998811067\n",
        "215 = 0.00868468395184\n",
        "216 = 0.0082656616969"
       ]
      },
      {
       "output_type": "stream",
       "stream": "stdout",
       "text": [
        "\n",
        "217 = 0.00845250858694\n",
        "218 = 0.00983557491437\n",
        "219 = 0.00864339512393\n",
        "220 = 0.00808871375344"
       ]
      },
      {
       "output_type": "stream",
       "stream": "stdout",
       "text": [
        "\n",
        "221 = 0.00887037700703\n",
        "222 = 0.0080715712847\n",
        "223 = 0.00838131375159\n",
        "224 = 0.00829118571639"
       ]
      },
      {
       "output_type": "stream",
       "stream": "stdout",
       "text": [
        "\n",
        "225 = 0.00833960636854\n",
        "226 = 0.00870420435807\n",
        "227 = 0.0104379470267\n",
        "228 = 0.00861206900839"
       ]
      },
      {
       "output_type": "stream",
       "stream": "stdout",
       "text": [
        "\n",
        "229 = 0.00811162721553\n",
        "230 = 0.00853370767964\n",
        "231 = 0.00829488029471"
       ]
      },
      {
       "output_type": "stream",
       "stream": "stdout",
       "text": [
        "\n",
        "232 = 0.00867711514049\n",
        "233 = 0.00886880794556\n",
        "234 = 0.0101068420528\n",
        "235 = 0.00865700757647"
       ]
      },
      {
       "output_type": "stream",
       "stream": "stdout",
       "text": [
        "\n",
        "236 = 0.00817169910351\n",
        "237 = 0.00848024592915\n",
        "238 = 0.00842523747642"
       ]
      },
      {
       "output_type": "stream",
       "stream": "stdout",
       "text": [
        "\n",
        "239 = 0.01005062768\n",
        "240 = 0.00856257130357\n",
        "241 = 0.00819848744892"
       ]
      },
      {
       "output_type": "stream",
       "stream": "stdout",
       "text": [
        "\n",
        "242 = 0.00862907076276\n",
        "243 = 0.00815852459194\n",
        "244 = 0.00861435940984\n",
        "245 = 0.00850682627921"
       ]
      },
      {
       "output_type": "stream",
       "stream": "stdout",
       "text": [
        "\n",
        "246 = 0.00999517022691\n",
        "247 = 0.00861726267414\n",
        "248 = 0.00822653984879"
       ]
      },
      {
       "output_type": "stream",
       "stream": "stdout",
       "text": [
        "\n",
        "249 = 0.00847410235287\n",
        "250 = 0.00864818889999\n",
        "251 = 0.00968738131015"
       ]
      },
      {
       "output_type": "stream",
       "stream": "stdout",
       "text": [
        "\n",
        "252 = 0.00864055707258\n",
        "253 = 0.00822086455167\n",
        "254 = 0.00848912633587"
       ]
      },
      {
       "output_type": "stream",
       "stream": "stdout",
       "text": [
        "\n",
        "255 = 0.00821320344101\n",
        "256 = 0.00860016470674\n",
        "257 = 0.00873287587908"
       ]
      },
      {
       "output_type": "stream",
       "stream": "stdout",
       "text": [
        "\n",
        "258 = 0.00822138298306\n",
        "259 = 0.0085666511849\n",
        "260 = 0.00831339010809"
       ]
      },
      {
       "output_type": "stream",
       "stream": "stdout",
       "text": [
        "\n",
        "261 = 0.00835218125692\n",
        "262 = 0.00892885720442\n",
        "263 = 0.00825595366551"
       ]
      },
      {
       "output_type": "stream",
       "stream": "stdout",
       "text": [
        "\n",
        "264 = 0.00854574670712\n",
        "265 = 0.00829581066764\n",
        "266 = 0.00834339425925"
       ]
      },
      {
       "output_type": "stream",
       "stream": "stdout",
       "text": [
        "\n",
        "267 = 0.00861519928317\n",
        "268 = 0.00854303208505\n",
        "269 = 0.00857816030524"
       ]
      },
      {
       "output_type": "stream",
       "stream": "stdout",
       "text": [
        "\n",
        "270 = 0.00833915665215\n",
        "271 = 0.00966821579539\n",
        "272 = 0.0086122740004"
       ]
      },
      {
       "output_type": "stream",
       "stream": "stdout",
       "text": [
        "\n",
        "273 = 0.00849099271682\n",
        "274 = 0.00856389854242\n",
        "275 = 0.0084172447928"
       ]
      },
      {
       "output_type": "stream",
       "stream": "stdout",
       "text": [
        "\n",
        "276 = 0.00992853008584\n",
        "277 = 0.00861365830399\n",
        "278 = 0.00827821782811"
       ]
      },
      {
       "output_type": "stream",
       "stream": "stdout",
       "text": [
        "\n",
        "279 = 0.00854763551371\n",
        "280 = 0.00906585693085\n",
        "281 = 0.00819213753585"
       ]
      },
      {
       "output_type": "stream",
       "stream": "stdout",
       "text": [
        "\n",
        "282 = 0.00852525176639\n",
        "283 = 0.00838690278596\n",
        "284 = 0.00966893810994"
       ]
      },
      {
       "output_type": "stream",
       "stream": "stdout",
       "text": [
        "\n",
        "285 = 0.00892125701319\n",
        "286 = 0.00852347361\n",
        "287 = 0.00829834377505"
       ]
      },
      {
       "output_type": "stream",
       "stream": "stdout",
       "text": [
        "\n",
        "288 = 0.00862544838103\n",
        "289 = 0.00816666517285\n",
        "290 = 0.00852913860923"
       ]
      },
      {
       "output_type": "stream",
       "stream": "stdout",
       "text": [
        "\n",
        "291 = 0.00836013815831\n",
        "292 = 0.0103737835922\n",
        "293 = 0.00856723318369"
       ]
      },
      {
       "output_type": "stream",
       "stream": "stdout",
       "text": [
        "\n",
        "294 = 0.00818108289313\n",
        "295 = 0.00837447018101"
       ]
      },
      {
       "output_type": "stream",
       "stream": "stdout",
       "text": [
        "\n",
        "296 = 0.00866637588775\n",
        "297 = 0.00851307535287\n",
        "298 = 0.00862135318805"
       ]
      },
      {
       "output_type": "stream",
       "stream": "stdout",
       "text": [
        "\n",
        "299 = 0.00854334672426\n",
        "300 = 0.00814640679207\n",
        "301 = 0.00845910151889"
       ]
      },
      {
       "output_type": "stream",
       "stream": "stdout",
       "text": [
        "\n",
        "302 = 0.00841185898533\n",
        "303 = 0.0104578221322\n",
        "304 = 0.00891418761992"
       ]
      },
      {
       "output_type": "stream",
       "stream": "stdout",
       "text": [
        "\n",
        "305 = 0.00822623522747\n",
        "306 = 0.00964839034314\n",
        "307 = 0.00869413570733"
       ]
      },
      {
       "output_type": "stream",
       "stream": "stdout",
       "text": [
        "\n",
        "308 = 0.00815831099193\n",
        "309 = 0.00855135564092\n",
        "310 = 0.00893194560957"
       ]
      },
      {
       "output_type": "stream",
       "stream": "stdout",
       "text": [
        "\n",
        "311 = 0.00812310272097\n",
        "312 = 0.00841494241999\n",
        "313 = 0.00855484577466"
       ]
      },
      {
       "output_type": "stream",
       "stream": "stdout",
       "text": [
        "\n",
        "314 = 0.00824499428419\n",
        "315 = 0.00867957216484\n",
        "316 = 0.00869617107053"
       ]
      },
      {
       "output_type": "stream",
       "stream": "stdout",
       "text": [
        "\n",
        "317 = 0.0100153169818\n",
        "318 = 0.00845962805923\n",
        "319 = 0.0082637797324"
       ]
      },
      {
       "output_type": "stream",
       "stream": "stdout",
       "text": [
        "\n",
        "320 = 0.00967872314138\n",
        "321 = 0.0088978166797"
       ]
      },
      {
       "output_type": "stream",
       "stream": "stdout",
       "text": [
        "\n",
        "322 = 0.00832961599104\n",
        "323 = 0.00832817665381\n",
        "324 = 0.00867791053207"
       ]
      },
      {
       "output_type": "stream",
       "stream": "stdout",
       "text": [
        "\n",
        "325 = 0.00818223680612\n",
        "326 = 0.00830386839861\n",
        "327 = 0.00888279010178"
       ]
      },
      {
       "output_type": "stream",
       "stream": "stdout",
       "text": [
        "\n",
        "328 = 0.00814249576119\n",
        "329 = 0.00841313235079\n",
        "330 = 0.00848682745678"
       ]
      },
      {
       "output_type": "stream",
       "stream": "stdout",
       "text": [
        "\n",
        "331 = 0.00821639920519\n",
        "332 = 0.00861090585774\n",
        "333 = 0.00874323702717"
       ]
      },
      {
       "output_type": "stream",
       "stream": "stdout",
       "text": [
        "\n",
        "334 = 0.010026696362\n",
        "335 = 0.00847254835924\n",
        "336 = 0.00835924082111"
       ]
      },
      {
       "output_type": "stream",
       "stream": "stdout",
       "text": [
        "\n",
        "337 = 0.00999313003287\n",
        "338 = 0.00854844123909"
       ]
      },
      {
       "output_type": "stream",
       "stream": "stdout",
       "text": [
        "\n",
        "339 = 0.00873512662739\n",
        "340 = 0.00979127314313"
       ]
      },
      {
       "output_type": "stream",
       "stream": "stdout",
       "text": [
        "\n",
        "341 = 0.00847165265961\n",
        "342 = 0.00834107694262"
       ]
      },
      {
       "output_type": "stream",
       "stream": "stdout",
       "text": [
        "\n",
        "343 = 0.0101846859992\n",
        "344 = 0.00860189342291"
       ]
      },
      {
       "output_type": "stream",
       "stream": "stdout",
       "text": [
        "\n",
        "345 = 0.00834576895561\n",
        "346 = 0.00844987272707\n",
        "347 = 0.00892913031157"
       ]
      },
      {
       "output_type": "stream",
       "stream": "stdout",
       "text": [
        "\n",
        "348 = 0.00820519835455\n",
        "349 = 0.00836484871289\n",
        "350 = 0.00861161724705"
       ]
      },
      {
       "output_type": "stream",
       "stream": "stdout",
       "text": [
        "\n",
        "351 = 0.00836231079944\n",
        "352 = 0.00845705999492"
       ]
      },
      {
       "output_type": "stream",
       "stream": "stdout",
       "text": [
        "\n",
        "353 = 0.00856063638891\n",
        "354 = 0.00826804530197"
       ]
      },
      {
       "output_type": "stream",
       "stream": "stdout",
       "text": [
        "\n",
        "355 = 0.00846299600604\n",
        "356 = 0.00856896645913"
       ]
      },
      {
       "output_type": "stream",
       "stream": "stdout",
       "text": [
        "\n",
        "357 = 0.0102825477325\n",
        "358 = 0.00846970395061"
       ]
      },
      {
       "output_type": "stream",
       "stream": "stdout",
       "text": [
        "\n",
        "359 = 0.00826415610545\n",
        "360 = 0.00829933420612"
       ]
      },
      {
       "output_type": "stream",
       "stream": "stdout",
       "text": [
        "\n",
        "361 = 0.00858955525513\n",
        "362 = 0.00823979803712"
       ]
      },
      {
       "output_type": "stream",
       "stream": "stdout",
       "text": [
        "\n",
        "363 = 0.00848443933169\n",
        "364 = 0.00851993342902"
       ]
      },
      {
       "output_type": "stream",
       "stream": "stdout",
       "text": [
        "\n",
        "365 = 0.00815802596207\n",
        "366 = 0.00844851625008"
       ]
      },
      {
       "output_type": "stream",
       "stream": "stdout",
       "text": [
        "\n",
        "367 = 0.00833620940072\n",
        "368 = 0.0100690640163"
       ]
      },
      {
       "output_type": "stream",
       "stream": "stdout",
       "text": [
        "\n",
        "369 = 0.00872813849889\n",
        "370 = 0.0082039585518"
       ]
      },
      {
       "output_type": "stream",
       "stream": "stdout",
       "text": [
        "\n",
        "371 = 0.00832659445771\n",
        "372 = 0.00870051360642"
       ]
      },
      {
       "output_type": "stream",
       "stream": "stdout",
       "text": [
        "\n",
        "373 = 0.00813832092438\n",
        "374 = 0.00847208520213"
       ]
      },
      {
       "output_type": "stream",
       "stream": "stdout",
       "text": [
        "\n",
        "375 = 0.00864438305409\n",
        "376 = 0.00830065251635"
       ]
      },
      {
       "output_type": "stream",
       "stream": "stdout",
       "text": [
        "\n",
        "377 = 0.00846992638385\n",
        "378 = 0.00841568943588"
       ]
      },
      {
       "output_type": "stream",
       "stream": "stdout",
       "text": [
        "\n",
        "379 = 0.0100058816884\n",
        "380 = 0.00857690287442"
       ]
      },
      {
       "output_type": "stream",
       "stream": "stdout",
       "text": [
        "\n",
        "381 = 0.0082098978621\n",
        "382 = 0.00854778496596"
       ]
      },
      {
       "output_type": "stream",
       "stream": "stdout",
       "text": [
        "\n",
        "383 = 0.00868856547028\n",
        "384 = 0.00826726274632"
       ]
      },
      {
       "output_type": "stream",
       "stream": "stdout",
       "text": [
        "\n",
        "385 = 0.00841914279166\n",
        "386 = 0.00867909227239"
       ]
      },
      {
       "output_type": "stream",
       "stream": "stdout",
       "text": [
        "\n",
        "387 = 0.00820283021914\n",
        "388 = 0.00861785958175"
       ]
      },
      {
       "output_type": "stream",
       "stream": "stdout",
       "text": [
        "\n",
        "389 = 0.00880218167926\n",
        "390 = 0.00831326158769"
       ]
      },
      {
       "output_type": "stream",
       "stream": "stdout",
       "text": [
        "\n",
        "391 = 0.00840672672574\n",
        "392 = 0.00876804254786"
       ]
      },
      {
       "output_type": "stream",
       "stream": "stdout",
       "text": [
        "\n",
        "393 = 0.00823126111184\n",
        "394 = 0.00858839109021"
       ]
      },
      {
       "output_type": "stream",
       "stream": "stdout",
       "text": [
        "\n",
        "395 = 0.00888746938991\n",
        "396 = 0.00823038696847"
       ]
      },
      {
       "output_type": "stream",
       "stream": "stdout",
       "text": [
        "\n",
        "397 = 0.00840607155926\n",
        "398 = 0.00877720249599"
       ]
      },
      {
       "output_type": "stream",
       "stream": "stdout",
       "text": [
        "\n",
        "399 = 0.00830397286559\n",
        "400 = 0.00831730037038"
       ]
      },
      {
       "output_type": "stream",
       "stream": "stdout",
       "text": [
        "\n",
        "401 = 0.00899505964037\n",
        "402 = 0.0083815335316"
       ]
      },
      {
       "output_type": "stream",
       "stream": "stdout",
       "text": [
        "\n",
        "403 = 0.00969263146088\n",
        "404 = 0.00868060074451"
       ]
      },
      {
       "output_type": "stream",
       "stream": "stdout",
       "text": [
        "\n",
        "405 = 0.00844450841329\n",
        "406 = 0.0100443686786"
       ]
      },
      {
       "output_type": "stream",
       "stream": "stdout",
       "text": [
        "\n",
        "407 = 0.00883687499095\n",
        "408 = 0.00872677930398"
       ]
      },
      {
       "output_type": "stream",
       "stream": "stdout",
       "text": [
        "\n",
        "409 = 0.00827720134569\n",
        "410 = 0.00854439475504"
       ]
      },
      {
       "output_type": "stream",
       "stream": "stdout",
       "text": [
        "\n",
        "411 = 0.00883687136736\n",
        "412 = 0.00838076793772"
       ]
      },
      {
       "output_type": "stream",
       "stream": "stdout",
       "text": [
        "\n",
        "413 = 0.00870458106666\n",
        "414 = 0.00904206664883"
       ]
      },
      {
       "output_type": "stream",
       "stream": "stdout",
       "text": [
        "\n",
        "415 = 0.00840687006807\n",
        "416 = 0.00838611182598"
       ]
      },
      {
       "output_type": "stream",
       "stream": "stdout",
       "text": [
        "\n",
        "417 = 0.00862797160155\n",
        "418 = 0.00873113103281"
       ]
      },
      {
       "output_type": "stream",
       "stream": "stdout",
       "text": [
        "\n",
        "419 = 0.00834375393308\n",
        "420 = 0.00879896768802"
       ]
      },
      {
       "output_type": "stream",
       "stream": "stdout",
       "text": [
        "\n",
        "421 = 0.00870860868709\n",
        "422 = 0.0084316302041"
       ]
      },
      {
       "output_type": "stream",
       "stream": "stdout",
       "text": [
        "\n",
        "423 = 0.00838936715112\n",
        "424 = 0.00861390358557"
       ]
      },
      {
       "output_type": "stream",
       "stream": "stdout",
       "text": [
        "\n",
        "425 = 0.00868687033246\n",
        "426 = 0.00873731687016"
       ]
      },
      {
       "output_type": "stream",
       "stream": "stdout",
       "text": [
        "\n",
        "427 = 0.00844509054412\n",
        "428 = 0.00860153407193"
       ]
      },
      {
       "output_type": "stream",
       "stream": "stdout",
       "text": [
        "\n",
        "429 = 0.00864716207798\n",
        "430 = 0.00832596477614"
       ]
      },
      {
       "output_type": "stream",
       "stream": "stdout",
       "text": [
        "\n",
        "431 = 0.00851591969355\n",
        "432 = 0.00887617947394"
       ]
      },
      {
       "output_type": "stream",
       "stream": "stdout",
       "text": [
        "\n",
        "433 = 0.00863179070735\n",
        "434 = 0.00832940882276"
       ]
      },
      {
       "output_type": "stream",
       "stream": "stdout",
       "text": [
        "\n",
        "435 = 0.00846849319916\n",
        "436 = 0.0087571912331"
       ]
      },
      {
       "output_type": "stream",
       "stream": "stdout",
       "text": [
        "\n",
        "437 = 0.00842007268469\n",
        "438 = 0.0105039889761"
       ]
      },
      {
       "output_type": "stream",
       "stream": "stdout",
       "text": [
        "\n",
        "439 = 0.00865335566738\n",
        "440 = 0.00874091570713"
       ]
      },
      {
       "output_type": "stream",
       "stream": "stdout",
       "text": [
        "\n",
        "441 = 0.0085030285352\n",
        "442 = 0.0101739411502"
       ]
      },
      {
       "output_type": "stream",
       "stream": "stdout",
       "text": [
        "\n",
        "443 = 0.00852719867547\n",
        "444 = 0.00904490251236"
       ]
      },
      {
       "output_type": "stream",
       "stream": "stdout",
       "text": [
        "\n",
        "445 = 0.00862600121171\n",
        "446 = 0.00834498508645"
       ]
      },
      {
       "output_type": "stream",
       "stream": "stdout",
       "text": [
        "\n",
        "447 = 0.00854445061292\n",
        "448 = 0.00876550671907"
       ]
      },
      {
       "output_type": "stream",
       "stream": "stdout",
       "text": [
        "\n",
        "449 = 0.00857405505026\n",
        "450 = 0.00858318913599"
       ]
      },
      {
       "output_type": "stream",
       "stream": "stdout",
       "text": [
        "\n",
        "451 = 0.00883339258931\n",
        "452 = 0.00858068110448"
       ]
      },
      {
       "output_type": "stream",
       "stream": "stdout",
       "text": [
        "\n",
        "453 = 0.00868743802116\n",
        "454 = 0.00841273594969"
       ]
      },
      {
       "output_type": "stream",
       "stream": "stdout",
       "text": [
        "\n",
        "455 = 0.00971005991392\n",
        "456 = 0.00867677747581"
       ]
      },
      {
       "output_type": "stream",
       "stream": "stdout",
       "text": [
        "\n",
        "457 = 0.00896326318514\n",
        "458 = 0.0084689880738"
       ]
      },
      {
       "output_type": "stream",
       "stream": "stdout",
       "text": [
        "\n",
        "459 = 0.00836480984498\n",
        "460 = 0.00853261751098"
       ]
      },
      {
       "output_type": "stream",
       "stream": "stdout",
       "text": [
        "\n",
        "461 = 0.0086762925973\n",
        "462 = 0.00869742676587"
       ]
      },
      {
       "output_type": "stream",
       "stream": "stdout",
       "text": [
        "\n",
        "463 = 0.00876569765746\n",
        "464 = 0.00851295029058"
       ]
      },
      {
       "output_type": "stream",
       "stream": "stdout",
       "text": [
        "\n",
        "465 = 0.00856144580546\n",
        "466 = 0.00882297639759"
       ]
      },
      {
       "output_type": "stream",
       "stream": "stdout",
       "text": [
        "\n",
        "467 = 0.00855310406124\n",
        "468 = 0.00844015264594"
       ]
      },
      {
       "output_type": "stream",
       "stream": "stdout",
       "text": [
        "\n",
        "469 = 0.00873049176467\n",
        "470 = 0.00867157556316"
       ]
      },
      {
       "output_type": "stream",
       "stream": "stdout",
       "text": [
        "\n",
        "471 = 0.00876982375728\n",
        "472 = 0.00850415785092"
       ]
      },
      {
       "output_type": "stream",
       "stream": "stdout",
       "text": [
        "\n",
        "473 = 0.00847902060622\n",
        "474 = 0.0085757490331"
       ]
      },
      {
       "output_type": "stream",
       "stream": "stdout",
       "text": [
        "\n",
        "475 = 0.0088946786654\n",
        "476 = 0.00893844711762"
       ]
      },
      {
       "output_type": "stream",
       "stream": "stdout",
       "text": [
        "\n",
        "477 = 0.00844444867527\n",
        "478 = 0.00842001137862"
       ]
      },
      {
       "output_type": "stream",
       "stream": "stdout",
       "text": [
        "\n",
        "479 = 0.00849055849771\n",
        "480 = 0.0086157433901"
       ]
      },
      {
       "output_type": "stream",
       "stream": "stdout",
       "text": [
        "\n",
        "481 = 0.00902362691512\n",
        "482 = 0.0085728528338"
       ]
      },
      {
       "output_type": "stream",
       "stream": "stdout",
       "text": [
        "\n",
        "483 = 0.0083321107127\n",
        "484 = 0.00847742598165"
       ]
      },
      {
       "output_type": "stream",
       "stream": "stdout",
       "text": [
        "\n",
        "485 = 0.00861882383537\n",
        "486 = 0.00878387045819"
       ]
      },
      {
       "output_type": "stream",
       "stream": "stdout",
       "text": [
        "\n",
        "487 = 0.00888200724206\n",
        "488 = 0.0084975956209"
       ]
      },
      {
       "output_type": "stream",
       "stream": "stdout",
       "text": [
        "\n",
        "489 = 0.00996973605793\n",
        "490 = 0.00855687153148"
       ]
      },
      {
       "output_type": "stream",
       "stream": "stdout",
       "text": [
        "\n",
        "491 = 0.00877854981883\n",
        "492 = 0.00871151196732"
       ]
      },
      {
       "output_type": "stream",
       "stream": "stdout",
       "text": [
        "\n",
        "493 = 0.00883317962445\n",
        "494 = 0.0102765034043"
       ]
      },
      {
       "output_type": "stream",
       "stream": "stdout",
       "text": [
        "\n",
        "495 = 0.00852078301912\n",
        "496 = 0.00872784508811"
       ]
      },
      {
       "output_type": "stream",
       "stream": "stdout",
       "text": [
        "\n",
        "497 = 0.00887237158155\n",
        "498 = 0.00841092480275"
       ]
      },
      {
       "output_type": "stream",
       "stream": "stdout",
       "text": [
        "\n",
        "499 = 0.00873232560225\n",
        "500 = 0.00844795504074"
       ]
      },
      {
       "output_type": "stream",
       "stream": "stdout",
       "text": [
        "\n",
        "501 = 0.00856939457505\n",
        "502 = 0.00879302284902"
       ]
      },
      {
       "output_type": "stream",
       "stream": "stdout",
       "text": [
        "\n",
        "503 = 0.00860503017556\n",
        "504 = 0.00845152615809"
       ]
      },
      {
       "output_type": "stream",
       "stream": "stdout",
       "text": [
        "\n",
        "505 = 0.00872019253288\n",
        "506 = 0.00848954900105"
       ]
      },
      {
       "output_type": "stream",
       "stream": "stdout",
       "text": [
        "\n",
        "507 = 0.00872037328249\n",
        "508 = 0.00875224304952"
       ]
      },
      {
       "output_type": "stream",
       "stream": "stdout",
       "text": [
        "\n",
        "509 = 0.00840836486\n",
        "510 = 0.00874180318608"
       ]
      },
      {
       "output_type": "stream",
       "stream": "stdout",
       "text": [
        "\n",
        "511 = 0.00864047712013\n",
        "512 = 0.00860536871001"
       ]
      },
      {
       "output_type": "stream",
       "stream": "stdout",
       "text": [
        "\n",
        "513 = 0.00881553606748\n",
        "514 = 0.00859976213683"
       ]
      },
      {
       "output_type": "stream",
       "stream": "stdout",
       "text": [
        "\n",
        "515 = 0.00844162932291\n",
        "516 = 0.0102110323695"
       ]
      },
      {
       "output_type": "stream",
       "stream": "stdout",
       "text": [
        "\n",
        "517 = 0.00856030124331\n",
        "518 = 0.00871641516316"
       ]
      },
      {
       "output_type": "stream",
       "stream": "stdout",
       "text": [
        "\n",
        "519 = 0.00876844275755\n",
        "520 = 0.00854484280593"
       ]
      },
      {
       "output_type": "stream",
       "stream": "stdout",
       "text": [
        "\n",
        "521 = 0.00853002537503\n",
        "522 = 0.0089013854112"
       ]
      },
      {
       "output_type": "stream",
       "stream": "stdout",
       "text": [
        "\n",
        "523 = 0.00859995691898\n",
        "524 = 0.00879363833703"
       ]
      },
      {
       "output_type": "stream",
       "stream": "stdout",
       "text": [
        "\n",
        "525 = 0.0086630306101\n",
        "526 = 0.00848603434541"
       ]
      },
      {
       "output_type": "stream",
       "stream": "stdout",
       "text": [
        "\n",
        "527 = 0.00875822863449\n",
        "528 = 0.00871453993373"
       ]
      },
      {
       "output_type": "stream",
       "stream": "stdout",
       "text": [
        "\n",
        "529 = 0.0086343320544\n",
        "530 = 0.00881668980558"
       ]
      },
      {
       "output_type": "stream",
       "stream": "stdout",
       "text": [
        "\n",
        "531 = 0.00856177367273\n",
        "532 = 0.00838411958267"
       ]
      },
      {
       "output_type": "stream",
       "stream": "stdout",
       "text": [
        "\n",
        "533 = 0.0089017643155\n",
        "534 = 0.0086896214047"
       ]
      },
      {
       "output_type": "stream",
       "stream": "stdout",
       "text": [
        "\n",
        "535 = 0.0087602881528\n",
        "536 = 0.00879194366551"
       ]
      },
      {
       "output_type": "stream",
       "stream": "stdout",
       "text": [
        "\n",
        "537 = 0.00848625423087\n",
        "538 = 0.00845196144075"
       ]
      },
      {
       "output_type": "stream",
       "stream": "stdout",
       "text": [
        "\n",
        "539 = 0.00989352697855\n",
        "540 = 0.00856874091112"
       ]
      },
      {
       "output_type": "stream",
       "stream": "stdout",
       "text": [
        "\n",
        "541 = 0.00878529044925\n",
        "542 = 0.00881676334964"
       ]
      },
      {
       "output_type": "stream",
       "stream": "stdout",
       "text": [
        "\n",
        "543 = 0.00854251441233\n",
        "544 = 0.00837346848912"
       ]
      },
      {
       "output_type": "stream",
       "stream": "stdout",
       "text": [
        "\n",
        "545 = 0.00886150085469\n",
        "546 = 0.00856866687716"
       ]
      },
      {
       "output_type": "stream",
       "stream": "stdout",
       "text": [
        "\n",
        "547 = 0.00871587405457\n",
        "548 = 0.00879912556019"
       ]
      },
      {
       "output_type": "stream",
       "stream": "stdout",
       "text": [
        "\n",
        "549 = 0.00874509468145\n",
        "550 = 0.00856312535819"
       ]
      },
      {
       "output_type": "stream",
       "stream": "stdout",
       "text": [
        "\n",
        "551 = 0.00884668674194\n",
        "552 = 0.00852032885317"
       ]
      },
      {
       "output_type": "stream",
       "stream": "stdout",
       "text": [
        "\n",
        "553 = 0.00859574407218\n",
        "554 = 0.00883845627592"
       ]
      },
      {
       "output_type": "stream",
       "stream": "stdout",
       "text": [
        "\n",
        "555 = 0.00873046895907\n",
        "556 = 0.00888090614757"
       ]
      },
      {
       "output_type": "stream",
       "stream": "stdout",
       "text": [
        "\n",
        "557 = 0.00868200636755\n",
        "558 = 0.0084388675882"
       ]
      },
      {
       "output_type": "stream",
       "stream": "stdout",
       "text": [
        "\n",
        "559 = 0.00854360262873\n",
        "560 = 0.00873490445487"
       ]
      },
      {
       "output_type": "stream",
       "stream": "stdout",
       "text": [
        "\n",
        "561 = 0.00887743394513\n",
        "562 = 0.00851554699591"
       ]
      },
      {
       "output_type": "stream",
       "stream": "stdout",
       "text": [
        "\n",
        "563 = 0.00880294270226\n",
        "564 = 0.00842749952995"
       ]
      },
      {
       "output_type": "stream",
       "stream": "stdout",
       "text": [
        "\n",
        "565 = 0.00846722934157\n",
        "566 = 0.00869977065482"
       ]
      },
      {
       "output_type": "stream",
       "stream": "stdout",
       "text": [
        "\n",
        "567 = 0.00881860168426\n",
        "568 = 0.00858763172813"
       ]
      },
      {
       "output_type": "stream",
       "stream": "stdout",
       "text": [
        "\n",
        "569 = 0.0089487706744\n",
        "570 = 0.00839943179484"
       ]
      },
      {
       "output_type": "stream",
       "stream": "stdout",
       "text": [
        "\n",
        "571 = 0.0084920300919\n",
        "572 = 0.00857309740509"
       ]
      },
      {
       "output_type": "stream",
       "stream": "stdout",
       "text": [
        "\n",
        "573 = 0.00874775366286\n",
        "574 = 0.00880332968606"
       ]
      },
      {
       "output_type": "stream",
       "stream": "stdout",
       "text": [
        "\n",
        "575 = 0.00899664627018\n",
        "576 = 0.00844055248296"
       ]
      },
      {
       "output_type": "stream",
       "stream": "stdout",
       "text": [
        "\n",
        "577 = 0.00845772961711\n",
        "578 = 0.00855134942827"
       ]
      },
      {
       "output_type": "stream",
       "stream": "stdout",
       "text": [
        "\n",
        "579 = 0.00857443352436\n",
        "580 = 0.00899311187827"
       ]
      },
      {
       "output_type": "stream",
       "stream": "stdout",
       "text": [
        "\n",
        "581 = 0.00916112219876\n",
        "582 = 0.0085099431496"
       ]
      },
      {
       "output_type": "stream",
       "stream": "stdout",
       "text": [
        "\n",
        "583 = 0.0084855245396\n",
        "584 = 0.00843416431991"
       ]
      },
      {
       "output_type": "stream",
       "stream": "stdout",
       "text": [
        "\n",
        "585 = 0.00853746066951\n",
        "586 = 0.0084458999838"
       ]
      },
      {
       "output_type": "stream",
       "stream": "stdout",
       "text": [
        "\n",
        "587 = 0.00898904783491\n",
        "588 = 0.0088995917107"
       ]
      },
      {
       "output_type": "stream",
       "stream": "stdout",
       "text": [
        "\n",
        "589 = 0.00870049663664\n",
        "590 = 0.0084859048386"
       ]
      },
      {
       "output_type": "stream",
       "stream": "stdout",
       "text": [
        "\n",
        "591 = 0.00842472058864\n",
        "592 = 0.00876989918228"
       ]
      },
      {
       "output_type": "stream",
       "stream": "stdout",
       "text": [
        "\n",
        "593 = 0.00856409211877\n",
        "594 = 0.00852847196716"
       ]
      },
      {
       "output_type": "stream",
       "stream": "stdout",
       "text": [
        "\n",
        "595 = 0.00869950262851\n",
        "596 = 0.00883529848826"
       ]
      },
      {
       "output_type": "stream",
       "stream": "stdout",
       "text": [
        "\n",
        "597 = 0.00869325079893\n",
        "598 = 0.00897507314885"
       ]
      },
      {
       "output_type": "stream",
       "stream": "stdout",
       "text": [
        "\n",
        "599 = 0.00839392358524\n",
        "600 = 0.00842128891536"
       ]
      },
      {
       "output_type": "stream",
       "stream": "stdout",
       "text": [
        "\n",
        "601 = 0.00854562194614\n",
        "602 = 0.00864173097295"
       ]
      },
      {
       "output_type": "stream",
       "stream": "stdout",
       "text": [
        "\n",
        "603 = 0.0090474676572\n",
        "604 = 0.0090244828383"
       ]
      },
      {
       "output_type": "stream",
       "stream": "stdout",
       "text": [
        "\n",
        "605 = 0.00872019093952"
       ]
      },
      {
       "output_type": "stream",
       "stream": "stdout",
       "text": [
        "\n",
        "606 = 0.0086163388685\n",
        "607 = 0.0084658165289"
       ]
      },
      {
       "output_type": "stream",
       "stream": "stdout",
       "text": [
        "\n",
        "608 = 0.00849583810258\n",
        "609 = 0.00874361511417"
       ]
      },
      {
       "output_type": "stream",
       "stream": "stdout",
       "text": [
        "\n",
        "610 = 0.0088400909756\n",
        "611 = 0.00855629042981"
       ]
      },
      {
       "output_type": "stream",
       "stream": "stdout",
       "text": [
        "\n",
        "612 = 0.00879661967588\n",
        "613 = 0.00877118954035"
       ]
      },
      {
       "output_type": "stream",
       "stream": "stdout",
       "text": [
        "\n",
        "614 = 0.00854299415132"
       ]
      },
      {
       "output_type": "stream",
       "stream": "stdout",
       "text": [
        "\n",
        "615 = 0.00861779565091\n",
        "616 = 0.00864096451071"
       ]
      },
      {
       "output_type": "stream",
       "stream": "stdout",
       "text": [
        "\n",
        "617 = 0.0084221972653\n",
        "618 = 0.0085563519556"
       ]
      },
      {
       "output_type": "stream",
       "stream": "stdout",
       "text": [
        "\n",
        "619 = 0.00860082401185\n",
        "620 = 0.00872495154182"
       ]
      },
      {
       "output_type": "stream",
       "stream": "stdout",
       "text": [
        "\n",
        "621 = 0.00876626229214\n",
        "622 = 0.00912262396271"
       ]
      },
      {
       "output_type": "stream",
       "stream": "stdout",
       "text": [
        "\n",
        "623 = 0.00854067930974\n",
        "624 = 0.00842698416056"
       ]
      },
      {
       "output_type": "stream",
       "stream": "stdout",
       "text": [
        "\n",
        "625 = 0.0084113302524"
       ]
      },
      {
       "output_type": "stream",
       "stream": "stdout",
       "text": [
        "\n",
        "626 = 0.00851401022797\n",
        "627 = 0.00882510165773"
       ]
      },
      {
       "output_type": "stream",
       "stream": "stdout",
       "text": [
        "\n",
        "628 = 0.00876375779684\n",
        "629 = 0.00856736848347"
       ]
      },
      {
       "output_type": "stream",
       "stream": "stdout",
       "text": [
        "\n",
        "630 = 0.00874302638642\n",
        "631 = 0.00875808741224"
       ]
      },
      {
       "output_type": "stream",
       "stream": "stdout",
       "text": [
        "\n",
        "632 = 0.0085729800836\n",
        "633 = 0.00833420706561"
       ]
      },
      {
       "output_type": "stream",
       "stream": "stdout",
       "text": [
        "\n",
        "634 = 0.00877696169529"
       ]
      },
      {
       "output_type": "stream",
       "stream": "stdout",
       "text": [
        "\n",
        "635 = 0.00839257460432"
       ]
      },
      {
       "output_type": "stream",
       "stream": "stdout",
       "text": [
        "\n",
        "636 = 0.00848578897298"
       ]
      },
      {
       "output_type": "stream",
       "stream": "stdout",
       "text": [
        "\n",
        "637 = 0.00852215644617"
       ]
      },
      {
       "output_type": "stream",
       "stream": "stdout",
       "text": [
        "\n",
        "638 = 0.00861929888058\n",
        "639 = 0.00893368151724"
       ]
      },
      {
       "output_type": "stream",
       "stream": "stdout",
       "text": [
        "\n",
        "640 = 0.00921726540836\n",
        "641 = 0.00865979035122"
       ]
      },
      {
       "output_type": "stream",
       "stream": "stdout",
       "text": [
        "\n",
        "642 = 0.00845435606305\n",
        "643 = 0.00840682477449"
       ]
      },
      {
       "output_type": "stream",
       "stream": "stdout",
       "text": [
        "\n",
        "644 = 0.00838822607022"
       ]
      },
      {
       "output_type": "stream",
       "stream": "stdout",
       "text": [
        "\n",
        "645 = 0.00844870062831\n",
        "646 = 0.00891126830915"
       ]
      },
      {
       "output_type": "stream",
       "stream": "stdout",
       "text": [
        "\n",
        "647 = 0.00849594240618\n",
        "648 = 0.00864444444367"
       ]
      },
      {
       "output_type": "stream",
       "stream": "stdout",
       "text": [
        "\n",
        "649 = 0.00876048310955"
       ]
      },
      {
       "output_type": "stream",
       "stream": "stdout",
       "text": [
        "\n",
        "650 = 0.00877410608108\n",
        "651 = 0.00861216365729"
       ]
      },
      {
       "output_type": "stream",
       "stream": "stdout",
       "text": [
        "\n",
        "652 = 0.00871421251602\n",
        "653 = 0.00865721619011"
       ]
      },
      {
       "output_type": "stream",
       "stream": "stdout",
       "text": [
        "\n",
        "654 = 0.00836378568427\n",
        "655 = 0.00850911164382"
       ]
      },
      {
       "output_type": "stream",
       "stream": "stdout",
       "text": [
        "\n",
        "656 = 0.0085193556003"
       ]
      },
      {
       "output_type": "stream",
       "stream": "stdout",
       "text": [
        "\n",
        "657 = 0.00857684754481\n",
        "658 = 0.00861881380611"
       ]
      },
      {
       "output_type": "stream",
       "stream": "stdout",
       "text": [
        "\n",
        "659 = 0.00914094228551\n",
        "660 = 0.00872805382563"
       ]
      },
      {
       "output_type": "stream",
       "stream": "stdout",
       "text": [
        "\n",
        "661 = 0.00842538747272"
       ]
      },
      {
       "output_type": "stream",
       "stream": "stdout",
       "text": [
        "\n",
        "662 = 0.00844532476586\n",
        "663 = 0.00845335258465"
       ]
      },
      {
       "output_type": "stream",
       "stream": "stdout",
       "text": [
        "\n",
        "664 = 0.00875209534249"
       ]
      },
      {
       "output_type": "stream",
       "stream": "stdout",
       "text": [
        "\n",
        "665 = 0.00877498630074"
       ]
      },
      {
       "output_type": "stream",
       "stream": "stdout",
       "text": [
        "\n",
        "666 = 0.0084810082808"
       ]
      },
      {
       "output_type": "stream",
       "stream": "stdout",
       "text": [
        "\n",
        "667 = 0.00864944579475\n",
        "668 = 0.00879416317524"
       ]
      },
      {
       "output_type": "stream",
       "stream": "stdout",
       "text": [
        "\n",
        "669 = 0.00879221633887"
       ]
      },
      {
       "output_type": "stream",
       "stream": "stdout",
       "text": [
        "\n",
        "670 = 0.00852007426772\n",
        "671 = 0.00889276171267"
       ]
      },
      {
       "output_type": "stream",
       "stream": "stdout",
       "text": [
        "\n",
        "672 = 0.00836064902764\n",
        "673 = 0.00837348935609"
       ]
      },
      {
       "output_type": "stream",
       "stream": "stdout",
       "text": [
        "\n",
        "674 = 0.00854301375116"
       ]
      },
      {
       "output_type": "stream",
       "stream": "stdout",
       "text": [
        "\n",
        "675 = 0.0084961435384\n",
        "676 = 0.00868214148503"
       ]
      },
      {
       "output_type": "stream",
       "stream": "stdout",
       "text": [
        "\n",
        "677 = 0.0091371773298"
       ]
      },
      {
       "output_type": "stream",
       "stream": "stdout",
       "text": [
        "\n",
        "678 = 0.00872017839458\n",
        "679 = 0.00860162697253"
       ]
      },
      {
       "output_type": "stream",
       "stream": "stdout",
       "text": [
        "\n",
        "680 = 0.0084811000251\n",
        "681 = 0.00845452810775"
       ]
      },
      {
       "output_type": "stream",
       "stream": "stdout",
       "text": [
        "\n",
        "682 = 0.00845852113459\n",
        "683 = 0.00901846289437"
       ]
      },
      {
       "output_type": "stream",
       "stream": "stdout",
       "text": [
        "\n",
        "684 = 0.00851233272176"
       ]
      },
      {
       "output_type": "stream",
       "stream": "stdout",
       "text": [
        "\n",
        "685 = 0.00858443478035"
       ]
      },
      {
       "output_type": "stream",
       "stream": "stdout",
       "text": [
        "\n",
        "686 = 0.00871219134293"
       ]
      },
      {
       "output_type": "stream",
       "stream": "stdout",
       "text": [
        "\n",
        "687 = 0.0088095074663"
       ]
      },
      {
       "output_type": "stream",
       "stream": "stdout",
       "text": [
        "\n",
        "688 = 0.00870756089144\n",
        "689 = 0.00900427583456"
       ]
      },
      {
       "output_type": "stream",
       "stream": "stdout",
       "text": [
        "\n",
        "690 = 0.00835145215658"
       ]
      },
      {
       "output_type": "stream",
       "stream": "stdout",
       "text": [
        "\n",
        "691 = 0.00839053901066"
       ]
      },
      {
       "output_type": "stream",
       "stream": "stdout",
       "text": [
        "\n",
        "692 = 0.00841199749237\n",
        "693 = 0.00853106961703"
       ]
      },
      {
       "output_type": "stream",
       "stream": "stdout",
       "text": [
        "\n",
        "694 = 0.00853277358577"
       ]
      },
      {
       "output_type": "stream",
       "stream": "stdout",
       "text": [
        "\n",
        "695 = 0.00900098249036"
       ]
      },
      {
       "output_type": "stream",
       "stream": "stdout",
       "text": [
        "\n",
        "696 = 0.00865914743114"
       ]
      },
      {
       "output_type": "stream",
       "stream": "stdout",
       "text": [
        "\n",
        "697 = 0.00877685703312"
       ]
      },
      {
       "output_type": "stream",
       "stream": "stdout",
       "text": [
        "\n",
        "698 = 0.00883176558583"
       ]
      },
      {
       "output_type": "stream",
       "stream": "stdout",
       "text": [
        "\n",
        "699 = 0.00866141367231"
       ]
      },
      {
       "output_type": "stream",
       "stream": "stdout",
       "text": [
        "\n",
        "700 = 0.00840936932215"
       ]
      },
      {
       "output_type": "stream",
       "stream": "stdout",
       "text": [
        "\n",
        "701 = 0.00893080324207\n",
        "702 = 0.00842272645452"
       ]
      },
      {
       "output_type": "stream",
       "stream": "stdout",
       "text": [
        "\n",
        "703 = 0.00851492828073"
       ]
      },
      {
       "output_type": "stream",
       "stream": "stdout",
       "text": [
        "\n",
        "704 = 0.00856183435778"
       ]
      },
      {
       "output_type": "stream",
       "stream": "stdout",
       "text": [
        "\n",
        "705 = 0.0085415767837"
       ]
      },
      {
       "output_type": "stream",
       "stream": "stdout",
       "text": [
        "\n",
        "706 = 0.00888573325513"
       ]
      },
      {
       "output_type": "stream",
       "stream": "stdout",
       "text": [
        "\n",
        "707 = 0.00895939143057"
       ]
      },
      {
       "output_type": "stream",
       "stream": "stdout",
       "text": [
        "\n",
        "708 = 0.00874287477586"
       ]
      },
      {
       "output_type": "stream",
       "stream": "stdout",
       "text": [
        "\n",
        "709 = 0.00878662904448"
       ]
      },
      {
       "output_type": "stream",
       "stream": "stdout",
       "text": [
        "\n",
        "710 = 0.00868204605024"
       ]
      },
      {
       "output_type": "stream",
       "stream": "stdout",
       "text": [
        "\n",
        "711 = 0.00853249291256"
       ]
      },
      {
       "output_type": "stream",
       "stream": "stdout",
       "text": [
        "\n",
        "712 = 0.00843406291903"
       ]
      },
      {
       "output_type": "stream",
       "stream": "stdout",
       "text": [
        "\n",
        "713 = 0.00886508775622\n",
        "714 = 0.00848171881139"
       ]
      },
      {
       "output_type": "stream",
       "stream": "stdout",
       "text": [
        "\n",
        "715 = 0.00850460178097"
       ]
      },
      {
       "output_type": "stream",
       "stream": "stdout",
       "text": [
        "\n",
        "716 = 0.00857247592322"
       ]
      },
      {
       "output_type": "stream",
       "stream": "stdout",
       "text": [
        "\n",
        "717 = 0.00860047601009"
       ]
      },
      {
       "output_type": "stream",
       "stream": "stdout",
       "text": [
        "\n",
        "718 = 0.00896833919055"
       ]
      },
      {
       "output_type": "stream",
       "stream": "stdout",
       "text": [
        "\n",
        "719 = 0.00919138048469"
       ]
      },
      {
       "output_type": "stream",
       "stream": "stdout",
       "text": [
        "\n",
        "720 = 0.00876395155398"
       ]
      },
      {
       "output_type": "stream",
       "stream": "stdout",
       "text": [
        "\n",
        "721 = 0.00879936301777"
       ]
      },
      {
       "output_type": "stream",
       "stream": "stdout",
       "text": [
        "\n",
        "722 = 0.00863551756361"
       ]
      },
      {
       "output_type": "stream",
       "stream": "stdout",
       "text": [
        "\n",
        "723 = 0.00857316561935"
       ]
      },
      {
       "output_type": "stream",
       "stream": "stdout",
       "text": [
        "\n",
        "724 = 0.00846918319376"
       ]
      },
      {
       "output_type": "stream",
       "stream": "stdout",
       "text": [
        "\n",
        "725 = 0.0089267948546"
       ]
      },
      {
       "output_type": "stream",
       "stream": "stdout",
       "text": [
        "\n",
        "726 = 0.00850028518175"
       ]
      },
      {
       "output_type": "stream",
       "stream": "stdout",
       "text": [
        "\n",
        "727 = 0.00854227526252"
       ]
      },
      {
       "output_type": "stream",
       "stream": "stdout",
       "text": [
        "\n",
        "728 = 0.00858754466669"
       ]
      },
      {
       "output_type": "stream",
       "stream": "stdout",
       "text": [
        "\n",
        "729 = 0.00857410041687"
       ]
      },
      {
       "output_type": "stream",
       "stream": "stdout",
       "text": [
        "\n",
        "730 = 0.00865310575679\n",
        "731 = 0.0091452529393"
       ]
      },
      {
       "output_type": "stream",
       "stream": "stdout",
       "text": [
        "\n",
        "732 = 0.00888387472287\n",
        "733 = 0.00877052174776"
       ]
      },
      {
       "output_type": "stream",
       "stream": "stdout",
       "text": [
        "\n",
        "734 = 0.00880904766126"
       ]
      },
      {
       "output_type": "stream",
       "stream": "stdout",
       "text": [
        "\n",
        "735 = 0.00869658188017"
       ]
      },
      {
       "output_type": "stream",
       "stream": "stdout",
       "text": [
        "\n",
        "736 = 0.00869614828277"
       ]
      },
      {
       "output_type": "stream",
       "stream": "stdout",
       "text": [
        "\n",
        "737 = 0.0084026519175"
       ]
      },
      {
       "output_type": "stream",
       "stream": "stdout",
       "text": [
        "\n",
        "738 = 0.00901112819704"
       ]
      },
      {
       "output_type": "stream",
       "stream": "stdout",
       "text": [
        "\n",
        "739 = 0.00843264190696"
       ]
      },
      {
       "output_type": "stream",
       "stream": "stdout",
       "text": [
        "\n",
        "740 = 0.00851047342181"
       ]
      },
      {
       "output_type": "stream",
       "stream": "stdout",
       "text": [
        "\n",
        "741 = 0.00852170061524"
       ]
      },
      {
       "output_type": "stream",
       "stream": "stdout",
       "text": [
        "\n",
        "742 = 0.00862188020316"
       ]
      },
      {
       "output_type": "stream",
       "stream": "stdout",
       "text": [
        "\n",
        "743 = 0.00852940442906"
       ]
      },
      {
       "output_type": "stream",
       "stream": "stdout",
       "text": [
        "\n",
        "744 = 0.00899216592058"
       ]
      },
      {
       "output_type": "stream",
       "stream": "stdout",
       "text": [
        "\n",
        "745 = 0.00857458706416"
       ]
      },
      {
       "output_type": "stream",
       "stream": "stdout",
       "text": [
        "\n",
        "746 = 0.00867293582627"
       ]
      },
      {
       "output_type": "stream",
       "stream": "stdout",
       "text": [
        "\n",
        "747 = 0.00876478843026"
       ]
      },
      {
       "output_type": "stream",
       "stream": "stdout",
       "text": [
        "\n",
        "748 = 0.00883361827277\n",
        "749 = 0.00879589884776"
       ]
      },
      {
       "output_type": "stream",
       "stream": "stdout",
       "text": [
        "\n",
        "750 = 0.00905112877641"
       ]
      },
      {
       "output_type": "stream",
       "stream": "stdout",
       "text": [
        "\n",
        "751 = 0.00854903742404\n",
        "752 = 0.00847023689203"
       ]
      },
      {
       "output_type": "stream",
       "stream": "stdout",
       "text": [
        "\n",
        "753 = 0.0085360579049\n",
        "754 = 0.00849847950314"
       ]
      },
      {
       "output_type": "stream",
       "stream": "stdout",
       "text": [
        "\n",
        "755 = 0.00847317165837"
       ]
      },
      {
       "output_type": "stream",
       "stream": "stdout",
       "text": [
        "\n",
        "756 = 0.00888251517186"
       ]
      },
      {
       "output_type": "stream",
       "stream": "stdout",
       "text": [
        "\n",
        "757 = 0.00851567025"
       ]
      },
      {
       "output_type": "stream",
       "stream": "stdout",
       "text": [
        "\n",
        "758 = 0.0085894139306"
       ]
      },
      {
       "output_type": "stream",
       "stream": "stdout",
       "text": [
        "\n",
        "759 = 0.00861935019471"
       ]
      },
      {
       "output_type": "stream",
       "stream": "stdout",
       "text": [
        "\n",
        "760 = 0.00857706737149"
       ]
      },
      {
       "output_type": "stream",
       "stream": "stdout",
       "text": [
        "\n",
        "761 = 0.00860319005817"
       ]
      },
      {
       "output_type": "stream",
       "stream": "stdout",
       "text": [
        "\n",
        "762 = 0.00898416622937"
       ]
      },
      {
       "output_type": "stream",
       "stream": "stdout",
       "text": [
        "\n",
        "763 = 0.00872878238545"
       ]
      },
      {
       "output_type": "stream",
       "stream": "stdout",
       "text": [
        "\n",
        "764 = 0.00869874108065"
       ]
      },
      {
       "output_type": "stream",
       "stream": "stdout",
       "text": [
        "\n",
        "765 = 0.00873612919683"
       ]
      },
      {
       "output_type": "stream",
       "stream": "stdout",
       "text": [
        "\n",
        "766 = 0.00881696818457"
       ]
      },
      {
       "output_type": "stream",
       "stream": "stdout",
       "text": [
        "\n",
        "767 = 0.00884148296876"
       ]
      },
      {
       "output_type": "stream",
       "stream": "stdout",
       "text": [
        "\n",
        "768 = 0.00917586334345"
       ]
      },
      {
       "output_type": "stream",
       "stream": "stdout",
       "text": [
        "\n",
        "769 = 0.00876999597612"
       ]
      },
      {
       "output_type": "stream",
       "stream": "stdout",
       "text": [
        "\n",
        "770 = 0.0086472132334"
       ]
      },
      {
       "output_type": "stream",
       "stream": "stdout",
       "text": [
        "\n",
        "771 = 0.00870969840015"
       ]
      },
      {
       "output_type": "stream",
       "stream": "stdout",
       "text": [
        "\n",
        "772 = 0.00859608430248"
       ]
      },
      {
       "output_type": "stream",
       "stream": "stdout",
       "text": [
        "\n",
        "773 = 0.00862429986659"
       ]
      },
      {
       "output_type": "stream",
       "stream": "stdout",
       "text": [
        "\n",
        "774 = 0.00851069939406\n",
        "775 = 0.00890121290775"
       ]
      },
      {
       "output_type": "stream",
       "stream": "stdout",
       "text": [
        "\n",
        "776 = 0.00843651860145"
       ]
      },
      {
       "output_type": "stream",
       "stream": "stdout",
       "text": [
        "\n",
        "777 = 0.00847046830931"
       ]
      },
      {
       "output_type": "stream",
       "stream": "stdout",
       "text": [
        "\n",
        "778 = 0.00852430860022"
       ]
      },
      {
       "output_type": "stream",
       "stream": "stdout",
       "text": [
        "\n",
        "779 = 0.00857263646728"
       ]
      },
      {
       "output_type": "stream",
       "stream": "stdout",
       "text": [
        "\n",
        "780 = 0.00852748107808"
       ]
      },
      {
       "output_type": "stream",
       "stream": "stdout",
       "text": [
        "\n",
        "781 = 0.00909008287505"
       ]
      },
      {
       "output_type": "stream",
       "stream": "stdout",
       "text": [
        "\n",
        "782 = 0.00855201319309"
       ]
      },
      {
       "output_type": "stream",
       "stream": "stdout",
       "text": [
        "\n",
        "783 = 0.00851486825199"
       ]
      },
      {
       "output_type": "stream",
       "stream": "stdout",
       "text": [
        "\n",
        "784 = 0.00855370164909"
       ]
      },
      {
       "output_type": "stream",
       "stream": "stdout",
       "text": [
        "\n",
        "785 = 0.0086170910839"
       ]
      },
      {
       "output_type": "stream",
       "stream": "stdout",
       "text": [
        "\n",
        "786 = 0.00867708762662"
       ]
      },
      {
       "output_type": "stream",
       "stream": "stdout",
       "text": [
        "\n",
        "787 = 0.00886684045076"
       ]
      },
      {
       "output_type": "stream",
       "stream": "stdout",
       "text": [
        "\n",
        "788 = 0.0091209987377"
       ]
      },
      {
       "output_type": "stream",
       "stream": "stdout",
       "text": [
        "\n",
        "789 = 0.0087076302364"
       ]
      },
      {
       "output_type": "stream",
       "stream": "stdout",
       "text": [
        "\n",
        "790 = 0.00879405976976"
       ]
      },
      {
       "output_type": "stream",
       "stream": "stdout",
       "text": [
        "\n",
        "791 = 0.00879920473112"
       ]
      },
      {
       "output_type": "stream",
       "stream": "stdout",
       "text": [
        "\n",
        "792 = 0.00880781809886"
       ]
      },
      {
       "output_type": "stream",
       "stream": "stdout",
       "text": [
        "\n",
        "793 = 0.00877919760074"
       ]
      },
      {
       "output_type": "stream",
       "stream": "stdout",
       "text": [
        "\n",
        "794 = 0.00917924237048"
       ]
      },
      {
       "output_type": "stream",
       "stream": "stdout",
       "text": [
        "\n",
        "795 = 0.00873566513884"
       ]
      },
      {
       "output_type": "stream",
       "stream": "stdout",
       "text": [
        "\n",
        "796 = 0.00870088285703"
       ]
      },
      {
       "output_type": "stream",
       "stream": "stdout",
       "text": [
        "\n",
        "797 = 0.00863933445311"
       ]
      },
      {
       "output_type": "stream",
       "stream": "stdout",
       "text": [
        "\n",
        "798 = 0.00867398315169"
       ]
      },
      {
       "output_type": "stream",
       "stream": "stdout",
       "text": [
        "\n",
        "799 = 0.00862411127325"
       ]
      },
      {
       "output_type": "stream",
       "stream": "stdout",
       "text": [
        "\n",
        "800 = 0.00892527369649"
       ]
      },
      {
       "output_type": "stream",
       "stream": "stdout",
       "text": [
        "\n",
        "801 = 0.00864449383806"
       ]
      },
      {
       "output_type": "stream",
       "stream": "stdout",
       "text": [
        "\n",
        "802 = 0.00842517324539"
       ]
      },
      {
       "output_type": "stream",
       "stream": "stdout",
       "text": [
        "\n",
        "803 = 0.0084237517696"
       ]
      },
      {
       "output_type": "stream",
       "stream": "stdout",
       "text": [
        "\n",
        "804 = 0.0084831183597\n",
        "805 = 0.00844067957932"
       ]
      },
      {
       "output_type": "stream",
       "stream": "stdout",
       "text": [
        "\n",
        "806 = 0.00858018653538"
       ]
      },
      {
       "output_type": "stream",
       "stream": "stdout",
       "text": [
        "\n",
        "807 = 0.0089584538226"
       ]
      },
      {
       "output_type": "stream",
       "stream": "stdout",
       "text": [
        "\n",
        "808 = 0.00843330148222"
       ]
      },
      {
       "output_type": "stream",
       "stream": "stdout",
       "text": [
        "\n",
        "809 = 0.00849974636642"
       ]
      },
      {
       "output_type": "stream",
       "stream": "stdout",
       "text": [
        "\n",
        "810 = 0.00850616974722"
       ]
      },
      {
       "output_type": "stream",
       "stream": "stdout",
       "text": [
        "\n",
        "811 = 0.00850193913737"
       ]
      },
      {
       "output_type": "stream",
       "stream": "stdout",
       "text": [
        "\n",
        "812 = 0.0101099761108"
       ]
      },
      {
       "output_type": "stream",
       "stream": "stdout",
       "text": [
        "\n",
        "813 = 0.00900252007046"
       ]
      },
      {
       "output_type": "stream",
       "stream": "stdout",
       "text": [
        "\n",
        "814 = 0.00853523200671"
       ]
      },
      {
       "output_type": "stream",
       "stream": "stdout",
       "text": [
        "\n",
        "815 = 0.00844254116202"
       ]
      },
      {
       "output_type": "stream",
       "stream": "stdout",
       "text": [
        "\n",
        "816 = 0.00857831335017"
       ]
      },
      {
       "output_type": "stream",
       "stream": "stdout",
       "text": [
        "\n",
        "817 = 0.00860306356108"
       ]
      },
      {
       "output_type": "stream",
       "stream": "stdout",
       "text": [
        "\n",
        "818 = 0.00854310283445"
       ]
      },
      {
       "output_type": "stream",
       "stream": "stdout",
       "text": [
        "\n",
        "819 = 0.0090767149645"
       ]
      },
      {
       "output_type": "stream",
       "stream": "stdout",
       "text": [
        "\n",
        "820 = 0.0086172716865"
       ]
      },
      {
       "output_type": "stream",
       "stream": "stdout",
       "text": [
        "\n",
        "821 = 0.00847637603118"
       ]
      },
      {
       "output_type": "stream",
       "stream": "stdout",
       "text": [
        "\n",
        "822 = 0.00853700406608"
       ]
      },
      {
       "output_type": "stream",
       "stream": "stdout",
       "text": [
        "\n",
        "823 = 0.00856832776111"
       ]
      },
      {
       "output_type": "stream",
       "stream": "stdout",
       "text": [
        "\n",
        "824 = 0.00854473951522"
       ]
      },
      {
       "output_type": "stream",
       "stream": "stdout",
       "text": [
        "\n",
        "825 = 0.00857454849257"
       ]
      },
      {
       "output_type": "stream",
       "stream": "stdout",
       "text": [
        "\n",
        "826 = 0.00901781392018"
       ]
      },
      {
       "output_type": "stream",
       "stream": "stdout",
       "text": [
        "\n",
        "827 = 0.00853038653462"
       ]
      },
      {
       "output_type": "stream",
       "stream": "stdout",
       "text": [
        "\n",
        "828 = 0.00854943710383"
       ]
      },
      {
       "output_type": "stream",
       "stream": "stdout",
       "text": [
        "\n",
        "829 = 0.0085461781922"
       ]
      },
      {
       "output_type": "stream",
       "stream": "stdout",
       "text": [
        "\n",
        "830 = 0.00863739213876"
       ]
      },
      {
       "output_type": "stream",
       "stream": "stdout",
       "text": [
        "\n",
        "831 = 0.00855154613246"
       ]
      },
      {
       "output_type": "stream",
       "stream": "stdout",
       "text": [
        "\n",
        "832 = 0.00858303451121"
       ]
      },
      {
       "output_type": "stream",
       "stream": "stdout",
       "text": [
        "\n",
        "833 = 0.00903325270846"
       ]
      },
      {
       "output_type": "stream",
       "stream": "stdout",
       "text": [
        "\n",
        "834 = 0.00854220279896"
       ]
      },
      {
       "output_type": "stream",
       "stream": "stdout",
       "text": [
        "\n",
        "835 = 0.00864097527269"
       ]
      },
      {
       "output_type": "stream",
       "stream": "stdout",
       "text": [
        "\n",
        "836 = 0.00846425871496"
       ]
      },
      {
       "output_type": "stream",
       "stream": "stdout",
       "text": [
        "\n",
        "837 = 0.00838551719449"
       ]
      },
      {
       "output_type": "stream",
       "stream": "stdout",
       "text": [
        "\n",
        "838 = 0.00868214072043"
       ]
      },
      {
       "output_type": "stream",
       "stream": "stdout",
       "text": [
        "\n",
        "839 = 0.00855395329094"
       ]
      },
      {
       "output_type": "stream",
       "stream": "stdout",
       "text": [
        "\n",
        "840 = 0.00841172289708"
       ]
      },
      {
       "output_type": "stream",
       "stream": "stdout",
       "text": [
        "\n",
        "841 = 0.00823684129757"
       ]
      },
      {
       "output_type": "stream",
       "stream": "stdout",
       "text": [
        "\n",
        "842 = 0.00800430838784"
       ]
      },
      {
       "output_type": "stream",
       "stream": "stdout",
       "text": [
        "\n",
        "843 = 0.00794328244365"
       ]
      },
      {
       "output_type": "stream",
       "stream": "stdout",
       "text": [
        "\n",
        "844 = 0.00832126382084"
       ]
      },
      {
       "output_type": "stream",
       "stream": "stdout",
       "text": [
        "\n",
        "845 = 0.00785153102885"
       ]
      },
      {
       "output_type": "stream",
       "stream": "stdout",
       "text": [
        "\n",
        "846 = 0.00790872076009"
       ]
      },
      {
       "output_type": "stream",
       "stream": "stdout",
       "text": [
        "\n",
        "847 = 0.00792060070077"
       ]
      },
      {
       "output_type": "stream",
       "stream": "stdout",
       "text": [
        "\n",
        "848 = 0.0078746062578"
       ]
      },
      {
       "output_type": "stream",
       "stream": "stdout",
       "text": [
        "\n",
        "849 = 0.00774993180625"
       ]
      },
      {
       "output_type": "stream",
       "stream": "stdout",
       "text": [
        "\n",
        "850 = 0.00833313208317"
       ]
      },
      {
       "output_type": "stream",
       "stream": "stdout",
       "text": [
        "\n",
        "851 = 0.00786898921786"
       ]
      },
      {
       "output_type": "stream",
       "stream": "stdout",
       "text": [
        "\n",
        "852 = 0.00780315512023"
       ]
      },
      {
       "output_type": "stream",
       "stream": "stdout",
       "text": [
        "\n",
        "853 = 0.00775134435668"
       ]
      },
      {
       "output_type": "stream",
       "stream": "stdout",
       "text": [
        "\n",
        "854 = 0.00779243750183"
       ]
      },
      {
       "output_type": "stream",
       "stream": "stdout",
       "text": [
        "\n",
        "855 = 0.00773430178949"
       ]
      },
      {
       "output_type": "stream",
       "stream": "stdout",
       "text": [
        "\n",
        "856 = 0.00793355326877"
       ]
      },
      {
       "output_type": "stream",
       "stream": "stdout",
       "text": [
        "\n",
        "857 = 0.00780867887399"
       ]
      },
      {
       "output_type": "stream",
       "stream": "stdout",
       "text": [
        "\n",
        "858 = 0.00761217238276"
       ]
      },
      {
       "output_type": "stream",
       "stream": "stdout",
       "text": [
        "\n",
        "859 = 0.00757128141864"
       ]
      },
      {
       "output_type": "stream",
       "stream": "stdout",
       "text": [
        "\n",
        "860 = 0.00754540566083"
       ]
      },
      {
       "output_type": "stream",
       "stream": "stdout",
       "text": [
        "\n",
        "861 = 0.00759858574827"
       ]
      },
      {
       "output_type": "stream",
       "stream": "stdout",
       "text": [
        "\n",
        "862 = 0.00766384711995"
       ]
      },
      {
       "output_type": "stream",
       "stream": "stdout",
       "text": [
        "\n",
        "863 = 0.00798683824995"
       ]
      },
      {
       "output_type": "stream",
       "stream": "stdout",
       "text": [
        "\n",
        "864 = 0.00779632482255"
       ]
      },
      {
       "output_type": "stream",
       "stream": "stdout",
       "text": [
        "\n",
        "865 = 0.00779575561812"
       ]
      },
      {
       "output_type": "stream",
       "stream": "stdout",
       "text": [
        "\n",
        "866 = 0.00780751387034"
       ]
      },
      {
       "output_type": "stream",
       "stream": "stdout",
       "text": [
        "\n",
        "867 = 0.00765996809876"
       ]
      },
      {
       "output_type": "stream",
       "stream": "stdout",
       "text": [
        "\n",
        "868 = 0.00760381378727"
       ]
      },
      {
       "output_type": "stream",
       "stream": "stdout",
       "text": [
        "\n",
        "869 = 0.00758421751596"
       ]
      },
      {
       "output_type": "stream",
       "stream": "stdout",
       "text": [
        "\n",
        "870 = 0.0079985957903"
       ]
      },
      {
       "output_type": "stream",
       "stream": "stdout",
       "text": [
        "\n",
        "871 = 0.00755095151307"
       ]
      },
      {
       "output_type": "stream",
       "stream": "stdout",
       "text": [
        "\n",
        "872 = 0.00755547399037"
       ]
      },
      {
       "output_type": "stream",
       "stream": "stdout",
       "text": [
        "\n",
        "873 = 0.00747282619192"
       ]
      },
      {
       "output_type": "stream",
       "stream": "stdout",
       "text": [
        "\n",
        "874 = 0.00753788855636"
       ]
      },
      {
       "output_type": "stream",
       "stream": "stdout",
       "text": [
        "\n",
        "875 = 0.00789898999972"
       ]
      },
      {
       "output_type": "stream",
       "stream": "stdout",
       "text": [
        "\n",
        "876 = 0.00787266482257"
       ]
      },
      {
       "output_type": "stream",
       "stream": "stdout",
       "text": [
        "\n",
        "877 = 0.00769413925185"
       ]
      },
      {
       "output_type": "stream",
       "stream": "stdout",
       "text": [
        "\n",
        "878 = 0.00773208392743"
       ]
      },
      {
       "output_type": "stream",
       "stream": "stdout",
       "text": [
        "\n",
        "879 = 0.00780543802962"
       ]
      },
      {
       "output_type": "stream",
       "stream": "stdout",
       "text": [
        "\n",
        "880 = 0.00776974318471"
       ]
      },
      {
       "output_type": "stream",
       "stream": "stdout",
       "text": [
        "\n",
        "881 = 0.00807579768232"
       ]
      },
      {
       "output_type": "stream",
       "stream": "stdout",
       "text": [
        "\n",
        "882 = 0.00810452352325"
       ]
      },
      {
       "output_type": "stream",
       "stream": "stdout",
       "text": [
        "\n",
        "883 = 0.0086231096407"
       ]
      },
      {
       "output_type": "stream",
       "stream": "stdout",
       "text": [
        "\n",
        "884 = 0.00910998691399"
       ]
      },
      {
       "output_type": "stream",
       "stream": "stdout",
       "text": [
        "\n",
        "885 = 0.00761880809071"
       ]
      },
      {
       "output_type": "stream",
       "stream": "stdout",
       "text": [
        "\n",
        "886 = 0.00762200494468"
       ]
      },
      {
       "output_type": "stream",
       "stream": "stdout",
       "text": [
        "\n",
        "887 = 0.00764095230661"
       ]
      },
      {
       "output_type": "stream",
       "stream": "stdout",
       "text": [
        "\n",
        "888 = 0.00801406388695"
       ]
      },
      {
       "output_type": "stream",
       "stream": "stdout",
       "text": [
        "\n",
        "889 = 0.00781520862321"
       ]
      },
      {
       "output_type": "stream",
       "stream": "stdout",
       "text": [
        "\n",
        "890 = 0.00764958302982"
       ]
      },
      {
       "output_type": "stream",
       "stream": "stdout",
       "text": [
        "\n",
        "891 = 0.0080284694805"
       ]
      },
      {
       "output_type": "stream",
       "stream": "stdout",
       "text": [
        "\n",
        "892 = 0.00769247393726"
       ]
      },
      {
       "output_type": "stream",
       "stream": "stdout",
       "text": [
        "\n",
        "893 = 0.00784652834956"
       ]
      },
      {
       "output_type": "stream",
       "stream": "stdout",
       "text": [
        "\n",
        "894 = 0.00752757874633"
       ]
      },
      {
       "output_type": "stream",
       "stream": "stdout",
       "text": [
        "\n",
        "895 = 0.00747372557455"
       ]
      },
      {
       "output_type": "stream",
       "stream": "stdout",
       "text": [
        "\n",
        "896 = 0.00761544255054"
       ]
      },
      {
       "output_type": "stream",
       "stream": "stdout",
       "text": [
        "\n",
        "897 = 0.00768928728752"
       ]
      },
      {
       "output_type": "stream",
       "stream": "stdout",
       "text": [
        "\n",
        "898 = 0.00795149857962"
       ]
      },
      {
       "output_type": "stream",
       "stream": "stdout",
       "text": [
        "\n",
        "899 = 0.00772840522299"
       ]
      },
      {
       "output_type": "stream",
       "stream": "stdout",
       "text": [
        "\n",
        "900 = 0.0076068174472"
       ]
      },
      {
       "output_type": "stream",
       "stream": "stdout",
       "text": [
        "\n",
        "901 = 0.00755582257986"
       ]
      },
      {
       "output_type": "stream",
       "stream": "stdout",
       "text": [
        "\n",
        "902 = 0.00886464613838"
       ]
      },
      {
       "output_type": "stream",
       "stream": "stdout",
       "text": [
        "\n",
        "903 = 0.00755012344218"
       ]
      },
      {
       "output_type": "stream",
       "stream": "stdout",
       "text": [
        "\n",
        "904 = 0.00790675594161"
       ]
      },
      {
       "output_type": "stream",
       "stream": "stdout",
       "text": [
        "\n",
        "905 = 0.00787540243006"
       ]
      },
      {
       "output_type": "stream",
       "stream": "stdout",
       "text": [
        "\n",
        "906 = 0.007944361266"
       ]
      },
      {
       "output_type": "stream",
       "stream": "stdout",
       "text": [
        "\n",
        "907 = 0.00802948116967"
       ]
      },
      {
       "output_type": "stream",
       "stream": "stdout",
       "text": [
        "\n",
        "908 = 0.00788754023225"
       ]
      },
      {
       "output_type": "stream",
       "stream": "stdout",
       "text": [
        "\n",
        "909 = 0.00781283676409"
       ]
      },
      {
       "output_type": "stream",
       "stream": "stdout",
       "text": [
        "\n",
        "910 = 0.00985725542825"
       ]
      },
      {
       "output_type": "stream",
       "stream": "stdout",
       "text": [
        "\n",
        "911 = 0.00754584275509"
       ]
      },
      {
       "output_type": "stream",
       "stream": "stdout",
       "text": [
        "\n",
        "912 = 0.00758128099699"
       ]
      },
      {
       "output_type": "stream",
       "stream": "stdout",
       "text": [
        "\n",
        "913 = 0.0077446701528"
       ]
      },
      {
       "output_type": "stream",
       "stream": "stdout",
       "text": [
        "\n",
        "914 = 0.00778551352965"
       ]
      },
      {
       "output_type": "stream",
       "stream": "stdout",
       "text": [
        "\n",
        "915 = 0.00770111367955"
       ]
      },
      {
       "output_type": "stream",
       "stream": "stdout",
       "text": [
        "\n",
        "916 = 0.00770825415364"
       ]
      },
      {
       "output_type": "stream",
       "stream": "stdout",
       "text": [
        "\n",
        "917 = 0.00787559967491"
       ]
      },
      {
       "output_type": "stream",
       "stream": "stdout",
       "text": [
        "\n",
        "918 = 0.00813434333236"
       ]
      },
      {
       "output_type": "stream",
       "stream": "stdout",
       "text": [
        "\n",
        "919 = 0.00785658584693"
       ]
      },
      {
       "output_type": "stream",
       "stream": "stdout",
       "text": [
        "\n",
        "920 = 0.00778688956221"
       ]
      },
      {
       "output_type": "stream",
       "stream": "stdout",
       "text": [
        "\n",
        "921 = 0.00793317757744"
       ]
      },
      {
       "output_type": "stream",
       "stream": "stdout",
       "text": [
        "\n",
        "922 = 0.00796210176873"
       ]
      },
      {
       "output_type": "stream",
       "stream": "stdout",
       "text": [
        "\n",
        "923 = 0.00799136013167"
       ]
      },
      {
       "output_type": "stream",
       "stream": "stdout",
       "text": [
        "\n",
        "924 = 0.00793449750916"
       ]
      },
      {
       "output_type": "stream",
       "stream": "stdout",
       "text": [
        "\n",
        "925 = 0.00813253558196"
       ]
      },
      {
       "output_type": "stream",
       "stream": "stdout",
       "text": [
        "\n",
        "926 = 0.00796606575125"
       ]
      },
      {
       "output_type": "stream",
       "stream": "stdout",
       "text": [
        "\n",
        "927 = 0.00809269045548"
       ]
      },
      {
       "output_type": "stream",
       "stream": "stdout",
       "text": [
        "\n",
        "928 = 0.00802615246472"
       ]
      },
      {
       "output_type": "stream",
       "stream": "stdout",
       "text": [
        "\n",
        "929 = 0.0079693799482"
       ]
      },
      {
       "output_type": "stream",
       "stream": "stdout",
       "text": [
        "\n",
        "930 = 0.00802598935253"
       ]
      },
      {
       "output_type": "stream",
       "stream": "stdout",
       "text": [
        "\n",
        "931 = 0.00856951522531"
       ]
      },
      {
       "output_type": "stream",
       "stream": "stdout",
       "text": [
        "\n",
        "932 = 0.00812768269092"
       ]
      },
      {
       "output_type": "stream",
       "stream": "stdout",
       "text": [
        "\n",
        "933 = 0.00826112404838"
       ]
      },
      {
       "output_type": "stream",
       "stream": "stdout",
       "text": [
        "\n",
        "934 = 0.00836321282749"
       ]
      },
      {
       "output_type": "stream",
       "stream": "stdout",
       "text": [
        "\n",
        "935 = 0.00828934720929"
       ]
      },
      {
       "output_type": "stream",
       "stream": "stdout",
       "text": [
        "\n",
        "936 = 0.00833032914632"
       ]
      },
      {
       "output_type": "stream",
       "stream": "stdout",
       "text": [
        "\n",
        "937 = 0.00852633574807"
       ]
      },
      {
       "output_type": "stream",
       "stream": "stdout",
       "text": [
        "\n",
        "938 = 0.00816572209581"
       ]
      },
      {
       "output_type": "stream",
       "stream": "stdout",
       "text": [
        "\n",
        "939 = 0.00815174337428"
       ]
      },
      {
       "output_type": "stream",
       "stream": "stdout",
       "text": [
        "\n",
        "940 = 0.00809768539128"
       ]
      },
      {
       "output_type": "stream",
       "stream": "stdout",
       "text": [
        "\n",
        "941 = 0.00819101723058"
       ]
      },
      {
       "output_type": "stream",
       "stream": "stdout",
       "text": [
        "\n",
        "942 = 0.00815216543057"
       ]
      },
      {
       "output_type": "stream",
       "stream": "stdout",
       "text": [
        "\n",
        "943 = 0.00813403027553"
       ]
      },
      {
       "output_type": "stream",
       "stream": "stdout",
       "text": [
        "\n",
        "944 = 0.00804908430886"
       ]
      },
      {
       "output_type": "stream",
       "stream": "stdout",
       "text": [
        "\n",
        "945 = 0.00832793637155"
       ]
      },
      {
       "output_type": "stream",
       "stream": "stdout",
       "text": [
        "\n",
        "946 = 0.00825452599075"
       ]
      },
      {
       "output_type": "stream",
       "stream": "stdout",
       "text": [
        "\n",
        "947 = 0.00822519064933"
       ]
      },
      {
       "output_type": "stream",
       "stream": "stdout",
       "text": [
        "\n",
        "948 = 0.00832294385753"
       ]
      },
      {
       "output_type": "stream",
       "stream": "stdout",
       "text": [
        "\n",
        "949 = 0.00841428004962"
       ]
      },
      {
       "output_type": "stream",
       "stream": "stdout",
       "text": [
        "\n",
        "950 = 0.00847546278277"
       ]
      },
      {
       "output_type": "stream",
       "stream": "stdout",
       "text": [
        "\n",
        "951 = 0.00834727643817"
       ]
      },
      {
       "output_type": "stream",
       "stream": "stdout",
       "text": [
        "\n",
        "952 = 0.00857371291992"
       ]
      },
      {
       "output_type": "stream",
       "stream": "stdout",
       "text": [
        "\n",
        "953 = 0.00829592224007"
       ]
      },
      {
       "output_type": "stream",
       "stream": "stdout",
       "text": [
        "\n",
        "954 = 0.00819444050805"
       ]
      },
      {
       "output_type": "stream",
       "stream": "stdout",
       "text": [
        "\n",
        "955 = 0.00825934629071"
       ]
      },
      {
       "output_type": "stream",
       "stream": "stdout",
       "text": [
        "\n",
        "956 = 0.00820294075915"
       ]
      },
      {
       "output_type": "stream",
       "stream": "stdout",
       "text": [
        "\n",
        "957 = 0.00822293090135"
       ]
      },
      {
       "output_type": "stream",
       "stream": "stdout",
       "text": [
        "\n",
        "958 = 0.0082494339338"
       ]
      },
      {
       "output_type": "stream",
       "stream": "stdout",
       "text": [
        "\n",
        "959 = 0.00822443208833"
       ]
      },
      {
       "output_type": "stream",
       "stream": "stdout",
       "text": [
        "\n",
        "960 = 0.00853520448975"
       ]
      },
      {
       "output_type": "stream",
       "stream": "stdout",
       "text": [
        "\n",
        "961 = 0.00814964837072"
       ]
      },
      {
       "output_type": "stream",
       "stream": "stdout",
       "text": [
        "\n",
        "962 = 0.00816510842281"
       ]
      },
      {
       "output_type": "stream",
       "stream": "stdout",
       "text": [
        "\n",
        "963 = 0.0082956594158"
       ]
      },
      {
       "output_type": "stream",
       "stream": "stdout",
       "text": [
        "\n",
        "964 = 0.00832862444979"
       ]
      },
      {
       "output_type": "stream",
       "stream": "stdout",
       "text": [
        "\n",
        "965 = 0.00846447399688"
       ]
      },
      {
       "output_type": "stream",
       "stream": "stdout",
       "text": [
        "\n",
        "966 = 0.00847949844593"
       ]
      },
      {
       "output_type": "stream",
       "stream": "stdout",
       "text": [
        "\n",
        "967 = 0.00892554746968"
       ]
      },
      {
       "output_type": "stream",
       "stream": "stdout",
       "text": [
        "\n",
        "968 = 0.00857512359316"
       ]
      },
      {
       "output_type": "stream",
       "stream": "stdout",
       "text": [
        "\n",
        "969 = 0.0085034880642"
       ]
      },
      {
       "output_type": "stream",
       "stream": "stdout",
       "text": [
        "\n",
        "970 = 0.00836489523901"
       ]
      },
      {
       "output_type": "stream",
       "stream": "stdout",
       "text": [
        "\n",
        "971 = 0.00838562507687"
       ]
      },
      {
       "output_type": "stream",
       "stream": "stdout",
       "text": [
        "\n",
        "972 = 0.00836672086546"
       ]
      },
      {
       "output_type": "stream",
       "stream": "stdout",
       "text": [
        "\n",
        "973 = 0.00835259888676"
       ]
      },
      {
       "output_type": "stream",
       "stream": "stdout",
       "text": [
        "\n",
        "974 = 0.00835785121277"
       ]
      },
      {
       "output_type": "stream",
       "stream": "stdout",
       "text": [
        "\n",
        "975 = 0.00860704783411"
       ]
      },
      {
       "output_type": "stream",
       "stream": "stdout",
       "text": [
        "\n",
        "976 = 0.00830710494586"
       ]
      },
      {
       "output_type": "stream",
       "stream": "stdout",
       "text": [
        "\n",
        "977 = 0.00829014192817"
       ]
      },
      {
       "output_type": "stream",
       "stream": "stdout",
       "text": [
        "\n",
        "978 = 0.00826721195568"
       ]
      },
      {
       "output_type": "stream",
       "stream": "stdout",
       "text": [
        "\n",
        "979 = 0.00831130364518"
       ]
      },
      {
       "output_type": "stream",
       "stream": "stdout",
       "text": [
        "\n",
        "980 = 0.00827919619867"
       ]
      },
      {
       "output_type": "stream",
       "stream": "stdout",
       "text": [
        "\n",
        "981 = 0.0082078249801"
       ]
      },
      {
       "output_type": "stream",
       "stream": "stdout",
       "text": [
        "\n",
        "982 = 0.0080720396928"
       ]
      },
      {
       "output_type": "stream",
       "stream": "stdout",
       "text": [
        "\n",
        "983 = 0.00864987460066"
       ]
      },
      {
       "output_type": "stream",
       "stream": "stdout",
       "text": [
        "\n",
        "984 = 0.00830589082583"
       ]
      },
      {
       "output_type": "stream",
       "stream": "stdout",
       "text": [
        "\n",
        "985 = 0.00829727348631"
       ]
      },
      {
       "output_type": "stream",
       "stream": "stdout",
       "text": [
        "\n",
        "986 = 0.00838213039534"
       ]
      },
      {
       "output_type": "stream",
       "stream": "stdout",
       "text": [
        "\n",
        "987 = 0.00847412880219"
       ]
      },
      {
       "output_type": "stream",
       "stream": "stdout",
       "text": [
        "\n",
        "988 = 0.00853392643393"
       ]
      },
      {
       "output_type": "stream",
       "stream": "stdout",
       "text": [
        "\n",
        "989 = 0.00858501229358"
       ]
      },
      {
       "output_type": "stream",
       "stream": "stdout",
       "text": [
        "\n",
        "990 = 0.00871601296614"
       ]
      },
      {
       "output_type": "stream",
       "stream": "stdout",
       "text": [
        "\n",
        "991 = 0.00863423744549"
       ]
      },
      {
       "output_type": "stream",
       "stream": "stdout",
       "text": [
        "\n",
        "992 = 0.00839206425709"
       ]
      },
      {
       "output_type": "stream",
       "stream": "stdout",
       "text": [
        "\n",
        "993 = 0.00829690114304"
       ]
      },
      {
       "output_type": "stream",
       "stream": "stdout",
       "text": [
        "\n",
        "994 = 0.00827752064064"
       ]
      },
      {
       "output_type": "stream",
       "stream": "stdout",
       "text": [
        "\n",
        "995 = 0.00825876798528"
       ]
      },
      {
       "output_type": "stream",
       "stream": "stdout",
       "text": [
        "\n",
        "996 = 0.00828070531324"
       ]
      },
      {
       "output_type": "stream",
       "stream": "stdout",
       "text": [
        "\n",
        "997 = 0.00829373273201"
       ]
      },
      {
       "output_type": "stream",
       "stream": "stdout",
       "text": [
        "\n",
        "998 = 0.00846768038275"
       ]
      },
      {
       "output_type": "stream",
       "stream": "stdout",
       "text": [
        "\n",
        "999 = 0.00829443240267"
       ]
      },
      {
       "output_type": "stream",
       "stream": "stdout",
       "text": [
        "\n",
        "1000 = 0.00824228559725"
       ]
      },
      {
       "output_type": "stream",
       "stream": "stdout",
       "text": [
        "\n",
        "1001 = 0.00816590571305"
       ]
      },
      {
       "output_type": "stream",
       "stream": "stdout",
       "text": [
        "\n",
        "1002 = 0.00825150983996"
       ]
      },
      {
       "output_type": "stream",
       "stream": "stdout",
       "text": [
        "\n",
        "1003 = 0.00827237734421"
       ]
      },
      {
       "output_type": "stream",
       "stream": "stdout",
       "text": [
        "\n",
        "1004 = 0.0083278699737"
       ]
      },
      {
       "output_type": "stream",
       "stream": "stdout",
       "text": [
        "\n",
        "1005 = 0.00819487833791"
       ]
      },
      {
       "output_type": "stream",
       "stream": "stdout",
       "text": [
        "\n",
        "1006 = 0.00872740643504"
       ]
      },
      {
       "output_type": "stream",
       "stream": "stdout",
       "text": [
        "\n",
        "1007 = 0.00851938979898"
       ]
      },
      {
       "output_type": "stream",
       "stream": "stdout",
       "text": [
        "\n",
        "1008 = 0.00848851821067"
       ]
      },
      {
       "output_type": "stream",
       "stream": "stdout",
       "text": [
        "\n",
        "1009 = 0.00851649950096"
       ]
      },
      {
       "output_type": "stream",
       "stream": "stdout",
       "text": [
        "\n",
        "1010 = 0.0085458266835"
       ]
      },
      {
       "output_type": "stream",
       "stream": "stdout",
       "text": [
        "\n",
        "1011 = 0.0085828828785"
       ]
      },
      {
       "output_type": "stream",
       "stream": "stdout",
       "text": [
        "\n",
        "1012 = 0.00847008680177"
       ]
      },
      {
       "output_type": "stream",
       "stream": "stdout",
       "text": [
        "\n",
        "1013 = 0.00849395587963"
       ]
      },
      {
       "output_type": "stream",
       "stream": "stdout",
       "text": [
        "\n",
        "1014 = 0.00846551496188"
       ]
      },
      {
       "output_type": "stream",
       "stream": "stdout",
       "text": [
        "\n",
        "1015 = 0.00829099843365"
       ]
      },
      {
       "output_type": "stream",
       "stream": "stdout",
       "text": [
        "\n",
        "1016 = 0.00832432771361"
       ]
      },
      {
       "output_type": "stream",
       "stream": "stdout",
       "text": [
        "\n",
        "1017 = 0.00836356960478"
       ]
      },
      {
       "output_type": "stream",
       "stream": "stdout",
       "text": [
        "\n",
        "1018 = 0.00834376548056"
       ]
      },
      {
       "output_type": "stream",
       "stream": "stdout",
       "text": [
        "\n",
        "1019 = 0.00828302763195"
       ]
      },
      {
       "output_type": "stream",
       "stream": "stdout",
       "text": [
        "\n",
        "1020 = 0.00846178042527"
       ]
      },
      {
       "output_type": "stream",
       "stream": "stdout",
       "text": [
        "\n",
        "1021 = 0.008284209675"
       ]
      },
      {
       "output_type": "stream",
       "stream": "stdout",
       "text": [
        "\n",
        "1022 = 0.00827319102172"
       ]
      },
      {
       "output_type": "stream",
       "stream": "stdout",
       "text": [
        "\n",
        "1023 = 0.00834870930699"
       ]
      },
      {
       "output_type": "stream",
       "stream": "stdout",
       "text": [
        "\n",
        "1024 = 0.00839876133195"
       ]
      },
      {
       "output_type": "stream",
       "stream": "stdout",
       "text": [
        "\n",
        "1025 = 0.00841885739805"
       ]
      },
      {
       "output_type": "stream",
       "stream": "stdout",
       "text": [
        "\n",
        "1026 = 0.00878214139685"
       ]
      },
      {
       "output_type": "stream",
       "stream": "stdout",
       "text": [
        "\n",
        "1027 = 0.00874894009107"
       ]
      },
      {
       "output_type": "stream",
       "stream": "stdout",
       "text": [
        "\n",
        "1028 = 0.00858972639529"
       ]
      },
      {
       "output_type": "stream",
       "stream": "stdout",
       "text": [
        "\n",
        "1029 = 0.00855505425538"
       ]
      },
      {
       "output_type": "stream",
       "stream": "stdout",
       "text": [
        "\n",
        "1030 = 0.00846163428187"
       ]
      },
      {
       "output_type": "stream",
       "stream": "stdout",
       "text": [
        "\n",
        "1031 = 0.00845929795043"
       ]
      },
      {
       "output_type": "stream",
       "stream": "stdout",
       "text": [
        "\n",
        "1032 = 0.00853765174248"
       ]
      },
      {
       "output_type": "stream",
       "stream": "stdout",
       "text": [
        "\n",
        "1033 = 0.00849431240772"
       ]
      },
      {
       "output_type": "stream",
       "stream": "stdout",
       "text": [
        "\n",
        "1034 = 0.00826181987435"
       ]
      },
      {
       "output_type": "stream",
       "stream": "stdout",
       "text": [
        "\n",
        "1035 = 0.00836480671918"
       ]
      },
      {
       "output_type": "stream",
       "stream": "stdout",
       "text": [
        "\n",
        "1036 = 0.00835373887244"
       ]
      },
      {
       "output_type": "stream",
       "stream": "stdout",
       "text": [
        "\n",
        "1037 = 0.00830387186381"
       ]
      },
      {
       "output_type": "stream",
       "stream": "stdout",
       "text": [
        "\n",
        "1038 = 0.00833233105123"
       ]
      },
      {
       "output_type": "stream",
       "stream": "stdout",
       "text": [
        "\n",
        "1039 = 0.00864956072978"
       ]
      },
      {
       "output_type": "stream",
       "stream": "stdout",
       "text": [
        "\n",
        "1040 = 0.00842319456217"
       ]
      },
      {
       "output_type": "stream",
       "stream": "stdout",
       "text": [
        "\n",
        "1041 = 0.00843094431981"
       ]
      },
      {
       "output_type": "stream",
       "stream": "stdout",
       "text": [
        "\n",
        "1042 = 0.00848872551905"
       ]
      },
      {
       "output_type": "stream",
       "stream": "stdout",
       "text": [
        "\n",
        "1043 = 0.0085171832895"
       ]
      },
      {
       "output_type": "stream",
       "stream": "stdout",
       "text": [
        "\n",
        "1044 = 0.00859748489754"
       ]
      },
      {
       "output_type": "stream",
       "stream": "stdout",
       "text": [
        "\n",
        "1045 = 0.00882532519558"
       ]
      },
      {
       "output_type": "stream",
       "stream": "stdout",
       "text": [
        "\n",
        "1046 = 0.00872700284927"
       ]
      },
      {
       "output_type": "stream",
       "stream": "stdout",
       "text": [
        "\n",
        "1047 = 0.00849804001786"
       ]
      },
      {
       "output_type": "stream",
       "stream": "stdout",
       "text": [
        "\n",
        "1048 = 0.00840836282556"
       ]
      },
      {
       "output_type": "stream",
       "stream": "stdout",
       "text": [
        "\n",
        "1049 = 0.00834487555175"
       ]
      },
      {
       "output_type": "stream",
       "stream": "stdout",
       "text": [
        "\n",
        "1050 = 0.00831097162928"
       ]
      },
      {
       "output_type": "stream",
       "stream": "stdout",
       "text": [
        "\n",
        "1051 = 0.00834319258994"
       ]
      },
      {
       "output_type": "stream",
       "stream": "stdout",
       "text": [
        "\n",
        "1052 = 0.00866112219453"
       ]
      },
      {
       "output_type": "stream",
       "stream": "stdout",
       "text": [
        "\n",
        "1053 = 0.00836406746284"
       ]
      },
      {
       "output_type": "stream",
       "stream": "stdout",
       "text": [
        "\n",
        "1054 = 0.0083061475818"
       ]
      },
      {
       "output_type": "stream",
       "stream": "stdout",
       "text": [
        "\n",
        "1055 = 0.00833918576859"
       ]
      },
      {
       "output_type": "stream",
       "stream": "stdout",
       "text": [
        "\n",
        "1056 = 0.00837502646993"
       ]
      },
      {
       "output_type": "stream",
       "stream": "stdout",
       "text": [
        "\n",
        "1057 = 0.00831554015459"
       ]
      },
      {
       "output_type": "stream",
       "stream": "stdout",
       "text": [
        "\n",
        "1058 = 0.00874164268599"
       ]
      },
      {
       "output_type": "stream",
       "stream": "stdout",
       "text": [
        "\n",
        "1059 = 0.00855766489555"
       ]
      },
      {
       "output_type": "stream",
       "stream": "stdout",
       "text": [
        "\n",
        "1060 = 0.00852692999149"
       ]
      },
      {
       "output_type": "stream",
       "stream": "stdout",
       "text": [
        "\n",
        "1061 = 0.00861753631712"
       ]
      },
      {
       "output_type": "stream",
       "stream": "stdout",
       "text": [
        "\n",
        "1062 = 0.00862029054441"
       ]
      },
      {
       "output_type": "stream",
       "stream": "stdout",
       "text": [
        "\n",
        "1063 = 0.0085826738179"
       ]
      },
      {
       "output_type": "stream",
       "stream": "stdout",
       "text": [
        "\n",
        "1064 = 0.0086505032912"
       ]
      },
      {
       "output_type": "stream",
       "stream": "stdout",
       "text": [
        "\n",
        "1065 = 0.00836328156772"
       ]
      },
      {
       "output_type": "stream",
       "stream": "stdout",
       "text": [
        "\n",
        "1066 = 0.00828618926779"
       ]
      },
      {
       "output_type": "stream",
       "stream": "stdout",
       "text": [
        "\n",
        "1067 = 0.00836151474039"
       ]
      },
      {
       "output_type": "stream",
       "stream": "stdout",
       "text": [
        "\n",
        "1068 = 0.00834872978937"
       ]
      },
      {
       "output_type": "stream",
       "stream": "stdout",
       "text": [
        "\n",
        "1069 = 0.00831379274903"
       ]
      },
      {
       "output_type": "stream",
       "stream": "stdout",
       "text": [
        "\n",
        "1070 = 0.00860925026444"
       ]
      },
      {
       "output_type": "stream",
       "stream": "stdout",
       "text": [
        "\n",
        "1071 = 0.00836220329489"
       ]
      },
      {
       "output_type": "stream",
       "stream": "stdout",
       "text": [
        "\n",
        "1072 = 0.00830859560287"
       ]
      },
      {
       "output_type": "stream",
       "stream": "stdout",
       "text": [
        "\n",
        "1073 = 0.00834472827704"
       ]
      },
      {
       "output_type": "stream",
       "stream": "stdout",
       "text": [
        "\n",
        "1074 = 0.00835879283619"
       ]
      },
      {
       "output_type": "stream",
       "stream": "stdout",
       "text": [
        "\n",
        "1075 = 0.00844664713799"
       ]
      },
      {
       "output_type": "stream",
       "stream": "stdout",
       "text": [
        "\n",
        "1076 = 0.00879867932802"
       ]
      },
      {
       "output_type": "stream",
       "stream": "stdout",
       "text": [
        "\n",
        "1077 = 0.00870935573794"
       ]
      },
      {
       "output_type": "stream",
       "stream": "stdout",
       "text": [
        "\n",
        "1078 = 0.00860003027711"
       ]
      },
      {
       "output_type": "stream",
       "stream": "stdout",
       "text": [
        "\n",
        "1079 = 0.0085615579479"
       ]
      },
      {
       "output_type": "stream",
       "stream": "stdout",
       "text": [
        "\n",
        "1080 = 0.00847725184469"
       ]
      },
      {
       "output_type": "stream",
       "stream": "stdout",
       "text": [
        "\n",
        "1081 = 0.00876268588745"
       ]
      },
      {
       "output_type": "stream",
       "stream": "stdout",
       "text": [
        "\n",
        "1082 = 0.00839890427315"
       ]
      },
      {
       "output_type": "stream",
       "stream": "stdout",
       "text": [
        "\n",
        "1083 = 0.00838041348347"
       ]
      },
      {
       "output_type": "stream",
       "stream": "stdout",
       "text": [
        "\n",
        "1084 = 0.00838896871266"
       ]
      },
      {
       "output_type": "stream",
       "stream": "stdout",
       "text": [
        "\n",
        "1085 = 0.00835265229654"
       ]
      },
      {
       "output_type": "stream",
       "stream": "stdout",
       "text": [
        "\n",
        "1086 = 0.00870896652925"
       ]
      },
      {
       "output_type": "stream",
       "stream": "stdout",
       "text": [
        "\n",
        "1087 = 0.00915116078348"
       ]
      },
      {
       "output_type": "stream",
       "stream": "stdout",
       "text": [
        "\n",
        "1088 = 0.00863814109021"
       ]
      },
      {
       "output_type": "stream",
       "stream": "stdout",
       "text": [
        "\n",
        "1089 = 0.00856962516246"
       ]
      },
      {
       "output_type": "stream",
       "stream": "stdout",
       "text": [
        "\n",
        "1090 = 0.00864792701189"
       ]
      },
      {
       "output_type": "stream",
       "stream": "stdout",
       "text": [
        "\n",
        "1091 = 0.00872888990262"
       ]
      },
      {
       "output_type": "stream",
       "stream": "stdout",
       "text": [
        "\n",
        "1092 = 0.00869428818803"
       ]
      },
      {
       "output_type": "stream",
       "stream": "stdout",
       "text": [
        "\n",
        "1093 = 0.00914417359034"
       ]
      },
      {
       "output_type": "stream",
       "stream": "stdout",
       "text": [
        "\n",
        "1094 = 0.00845126332001"
       ]
      },
      {
       "output_type": "stream",
       "stream": "stdout",
       "text": [
        "\n",
        "1095 = 0.00860643973066"
       ]
      },
      {
       "output_type": "stream",
       "stream": "stdout",
       "text": [
        "\n",
        "1096 = 0.00858516008531"
       ]
      },
      {
       "output_type": "stream",
       "stream": "stdout",
       "text": [
        "\n",
        "1097 = 0.00858622341376"
       ]
      },
      {
       "output_type": "stream",
       "stream": "stdout",
       "text": [
        "\n",
        "1098 = 0.00847518302191"
       ]
      },
      {
       "output_type": "stream",
       "stream": "stdout",
       "text": [
        "\n",
        "1099 = 0.00887597840854"
       ]
      },
      {
       "output_type": "stream",
       "stream": "stdout",
       "text": [
        "\n",
        "1100 = 0.00866730098674"
       ]
      },
      {
       "output_type": "stream",
       "stream": "stdout",
       "text": [
        "\n",
        "1101 = 0.00851126989705"
       ]
      },
      {
       "output_type": "stream",
       "stream": "stdout",
       "text": [
        "\n",
        "1102 = 0.00850625623812"
       ]
      },
      {
       "output_type": "stream",
       "stream": "stdout",
       "text": [
        "\n",
        "1103 = 0.00858150711309"
       ]
      },
      {
       "output_type": "stream",
       "stream": "stdout",
       "text": [
        "\n",
        "1104 = 0.00864570933181"
       ]
      },
      {
       "output_type": "stream",
       "stream": "stdout",
       "text": [
        "\n",
        "1105 = 0.00892746605522"
       ]
      },
      {
       "output_type": "stream",
       "stream": "stdout",
       "text": [
        "\n",
        "1106 = 0.00908347608982"
       ]
      },
      {
       "output_type": "stream",
       "stream": "stdout",
       "text": [
        "\n",
        "1107 = 0.00839608758001"
       ]
      },
      {
       "output_type": "stream",
       "stream": "stdout",
       "text": [
        "\n",
        "1108 = 0.00816567997164"
       ]
      },
      {
       "output_type": "stream",
       "stream": "stdout",
       "text": [
        "\n",
        "1109 = 0.00840932365378"
       ]
      },
      {
       "output_type": "stream",
       "stream": "stdout",
       "text": [
        "\n",
        "1110 = 0.00857622095055"
       ]
      },
      {
       "output_type": "stream",
       "stream": "stdout",
       "text": [
        "\n",
        "1111 = 0.00855185512504"
       ]
      },
      {
       "output_type": "stream",
       "stream": "stdout",
       "text": [
        "\n",
        "1112 = 0.00854465132337"
       ]
      },
      {
       "output_type": "stream",
       "stream": "stdout",
       "text": [
        "\n",
        "1113 = 0.00831955356378"
       ]
      },
      {
       "output_type": "stream",
       "stream": "stdout",
       "text": [
        "\n",
        "1114 = 0.00886777711767"
       ]
      },
      {
       "output_type": "stream",
       "stream": "stdout",
       "text": [
        "\n",
        "1115 = 0.00831848696655"
       ]
      },
      {
       "output_type": "stream",
       "stream": "stdout",
       "text": [
        "\n",
        "1116 = 0.00833057019499"
       ]
      },
      {
       "output_type": "stream",
       "stream": "stdout",
       "text": [
        "\n",
        "1117 = 0.00838969157151"
       ]
      },
      {
       "output_type": "stream",
       "stream": "stdout",
       "text": [
        "\n",
        "1118 = 0.00844073095013"
       ]
      },
      {
       "output_type": "stream",
       "stream": "stdout",
       "text": [
        "\n",
        "1119 = 0.00873194649773"
       ]
      },
      {
       "output_type": "stream",
       "stream": "stdout",
       "text": [
        "\n",
        "1120 = 0.00903356671292"
       ]
      },
      {
       "output_type": "stream",
       "stream": "stdout",
       "text": [
        "\n",
        "1121 = 0.00869770467797"
       ]
      },
      {
       "output_type": "stream",
       "stream": "stdout",
       "text": [
        "\n",
        "1122 = 0.00838987032104"
       ]
      },
      {
       "output_type": "stream",
       "stream": "stdout",
       "text": [
        "\n",
        "1123 = 0.00847320181105"
       ]
      },
      {
       "output_type": "stream",
       "stream": "stdout",
       "text": [
        "\n",
        "1124 = 0.00838252196149"
       ]
      },
      {
       "output_type": "stream",
       "stream": "stdout",
       "text": [
        "\n",
        "1125 = 0.00839275896436"
       ]
      },
      {
       "output_type": "stream",
       "stream": "stdout",
       "text": [
        "\n",
        "1126 = 0.00878623279366"
       ]
      },
      {
       "output_type": "stream",
       "stream": "stdout",
       "text": [
        "\n",
        "1127 = 0.0086385926202"
       ]
      },
      {
       "output_type": "stream",
       "stream": "stdout",
       "text": [
        "\n",
        "1128 = 0.00860364051386"
       ]
      },
      {
       "output_type": "stream",
       "stream": "stdout",
       "text": [
        "\n",
        "1129 = 0.00854529195307"
       ]
      },
      {
       "output_type": "stream",
       "stream": "stdout",
       "text": [
        "\n",
        "1130 = 0.00855540391773"
       ]
      },
      {
       "output_type": "stream",
       "stream": "stdout",
       "text": [
        "\n",
        "1131 = 0.00854971068137"
       ]
      },
      {
       "output_type": "stream",
       "stream": "stdout",
       "text": [
        "\n",
        "1132 = 0.0084396992529"
       ]
      },
      {
       "output_type": "stream",
       "stream": "stdout",
       "text": [
        "\n",
        "1133 = 0.00893417762598"
       ]
      },
      {
       "output_type": "stream",
       "stream": "stdout",
       "text": [
        "\n",
        "1134 = 0.00862897495959"
       ]
      },
      {
       "output_type": "stream",
       "stream": "stdout",
       "text": [
        "\n",
        "1135 = 0.00860276471629"
       ]
      },
      {
       "output_type": "stream",
       "stream": "stdout",
       "text": [
        "\n",
        "1136 = 0.00868025106745"
       ]
      },
      {
       "output_type": "stream",
       "stream": "stdout",
       "text": [
        "\n",
        "1137 = 0.00855349014607"
       ]
      },
      {
       "output_type": "stream",
       "stream": "stdout",
       "text": [
        "\n",
        "1138 = 0.00854941511154"
       ]
      },
      {
       "output_type": "stream",
       "stream": "stdout",
       "text": [
        "\n",
        "1139 = 0.00850014758512"
       ]
      },
      {
       "output_type": "stream",
       "stream": "stdout",
       "text": [
        "\n",
        "1140 = 0.0086358753168"
       ]
      },
      {
       "output_type": "stream",
       "stream": "stdout",
       "text": [
        "\n",
        "1141 = 0.00844830143769"
       ]
      },
      {
       "output_type": "stream",
       "stream": "stdout",
       "text": [
        "\n",
        "1142 = 0.00825170358808"
       ]
      },
      {
       "output_type": "stream",
       "stream": "stdout",
       "text": [
        "\n",
        "1143 = 0.00816248362177"
       ]
      },
      {
       "output_type": "stream",
       "stream": "stdout",
       "text": [
        "\n",
        "1144 = 0.00814233764306"
       ]
      },
      {
       "output_type": "stream",
       "stream": "stdout",
       "text": [
        "\n",
        "1145 = 0.00822977462787"
       ]
      },
      {
       "output_type": "stream",
       "stream": "stdout",
       "text": [
        "\n",
        "1146 = 0.00862040284733"
       ]
      },
      {
       "output_type": "stream",
       "stream": "stdout",
       "text": [
        "\n",
        "1147 = 0.0085505749489"
       ]
      },
      {
       "output_type": "stream",
       "stream": "stdout",
       "text": [
        "\n",
        "1148 = 0.00839720072483"
       ]
      },
      {
       "output_type": "stream",
       "stream": "stdout",
       "text": [
        "\n",
        "1149 = 0.00849140671078"
       ]
      },
      {
       "output_type": "stream",
       "stream": "stdout",
       "text": [
        "\n",
        "1150 = 0.00847091525575"
       ]
      },
      {
       "output_type": "stream",
       "stream": "stdout",
       "text": [
        "\n",
        "1151 = 0.00844842184599"
       ]
      },
      {
       "output_type": "stream",
       "stream": "stdout",
       "text": [
        "\n",
        "1152 = 0.0086922893916"
       ]
      },
      {
       "output_type": "stream",
       "stream": "stdout",
       "text": [
        "\n",
        "1153 = 0.0086760366635"
       ]
      },
      {
       "output_type": "stream",
       "stream": "stdout",
       "text": [
        "\n",
        "1154 = 0.00839540259825"
       ]
      },
      {
       "output_type": "stream",
       "stream": "stdout",
       "text": [
        "\n",
        "1155 = 0.00845021747352"
       ]
      },
      {
       "output_type": "stream",
       "stream": "stdout",
       "text": [
        "\n",
        "1156 = 0.0084218965511"
       ]
      },
      {
       "output_type": "stream",
       "stream": "stdout",
       "text": [
        "\n",
        "1157 = 0.00844899966143"
       ]
      },
      {
       "output_type": "stream",
       "stream": "stdout",
       "text": [
        "\n",
        "1158 = 0.00844476152902"
       ]
      },
      {
       "output_type": "stream",
       "stream": "stdout",
       "text": [
        "\n",
        "1159 = 0.00896293868328"
       ]
      },
      {
       "output_type": "stream",
       "stream": "stdout",
       "text": [
        "\n",
        "1160 = 0.00869736546914"
       ]
      },
      {
       "output_type": "stream",
       "stream": "stdout",
       "text": [
        "\n",
        "1161 = 0.00872654290873"
       ]
      },
      {
       "output_type": "stream",
       "stream": "stdout",
       "text": [
        "\n",
        "1162 = 0.00871033441076"
       ]
      },
      {
       "output_type": "stream",
       "stream": "stdout",
       "text": [
        "\n",
        "1163 = 0.00857330141231"
       ]
      },
      {
       "output_type": "stream",
       "stream": "stdout",
       "text": [
        "\n",
        "1164 = 0.00847901975583"
       ]
      },
      {
       "output_type": "stream",
       "stream": "stdout",
       "text": [
        "\n",
        "1165 = 0.00874260854366"
       ]
      },
      {
       "output_type": "stream",
       "stream": "stdout",
       "text": [
        "\n",
        "1166 = 0.00863108479592"
       ]
      },
      {
       "output_type": "stream",
       "stream": "stdout",
       "text": [
        "\n",
        "1167 = 0.00845192237461"
       ]
      },
      {
       "output_type": "stream",
       "stream": "stdout",
       "text": [
        "\n",
        "1168 = 0.00843294699817"
       ]
      },
      {
       "output_type": "stream",
       "stream": "stdout",
       "text": [
        "\n",
        "1169 = 0.00848851884401"
       ]
      },
      {
       "output_type": "stream",
       "stream": "stdout",
       "text": [
        "\n",
        "1170 = 0.00859877255923"
       ]
      },
      {
       "output_type": "stream",
       "stream": "stdout",
       "text": [
        "\n",
        "1171 = 0.00866532712173"
       ]
      },
      {
       "output_type": "stream",
       "stream": "stdout",
       "text": [
        "\n",
        "1172 = 0.00909476546046"
       ]
      },
      {
       "output_type": "stream",
       "stream": "stdout",
       "text": [
        "\n",
        "1173 = 0.00879127757443"
       ]
      },
      {
       "output_type": "stream",
       "stream": "stdout",
       "text": [
        "\n",
        "1174 = 0.00856551129411"
       ]
      },
      {
       "output_type": "stream",
       "stream": "stdout",
       "text": [
        "\n",
        "1175 = 0.00847793778844"
       ]
      },
      {
       "output_type": "stream",
       "stream": "stdout",
       "text": [
        "\n",
        "1176 = 0.0085131391754"
       ]
      },
      {
       "output_type": "stream",
       "stream": "stdout",
       "text": [
        "\n",
        "1177 = 0.00851181614634"
       ]
      },
      {
       "output_type": "stream",
       "stream": "stdout",
       "text": [
        "\n",
        "1178 = 0.008674362364"
       ]
      },
      {
       "output_type": "stream",
       "stream": "stdout",
       "text": [
        "\n",
        "1179 = 0.00900475563884"
       ]
      },
      {
       "output_type": "stream",
       "stream": "stdout",
       "text": [
        "\n",
        "1180 = 0.00865453410746"
       ]
      },
      {
       "output_type": "stream",
       "stream": "stdout",
       "text": [
        "\n",
        "1181 = 0.00863556821449"
       ]
      },
      {
       "output_type": "stream",
       "stream": "stdout",
       "text": [
        "\n",
        "1182 = 0.00868557932734"
       ]
      },
      {
       "output_type": "stream",
       "stream": "stdout",
       "text": [
        "\n",
        "1183 = 0.00868727420053"
       ]
      },
      {
       "output_type": "stream",
       "stream": "stdout",
       "text": [
        "\n",
        "1184 = 0.00852678530014"
       ]
      },
      {
       "output_type": "stream",
       "stream": "stdout",
       "text": [
        "\n",
        "1185 = 0.00837987310647"
       ]
      },
      {
       "output_type": "stream",
       "stream": "stdout",
       "text": [
        "\n",
        "1186 = 0.00885820003532"
       ]
      },
      {
       "output_type": "stream",
       "stream": "stdout",
       "text": [
        "\n",
        "1187 = 0.00846616514079"
       ]
      },
      {
       "output_type": "stream",
       "stream": "stdout",
       "text": [
        "\n",
        "1188 = 0.00850526017938"
       ]
      },
      {
       "output_type": "stream",
       "stream": "stdout",
       "text": [
        "\n",
        "1189 = 0.0086083021748"
       ]
      },
      {
       "output_type": "stream",
       "stream": "stdout",
       "text": [
        "\n",
        "1190 = 0.00872652360484"
       ]
      },
      {
       "output_type": "stream",
       "stream": "stdout",
       "text": [
        "\n",
        "1191 = 0.00872826844564"
       ]
      },
      {
       "output_type": "stream",
       "stream": "stdout",
       "text": [
        "\n",
        "1192 = 0.00889173137804"
       ]
      },
      {
       "output_type": "stream",
       "stream": "stdout",
       "text": [
        "\n",
        "1193 = 0.00868104491957"
       ]
      },
      {
       "output_type": "stream",
       "stream": "stdout",
       "text": [
        "\n",
        "1194 = 0.00850553237673"
       ]
      },
      {
       "output_type": "stream",
       "stream": "stdout",
       "text": [
        "\n",
        "1195 = 0.00847941829723"
       ]
      },
      {
       "output_type": "stream",
       "stream": "stdout",
       "text": [
        "\n",
        "1196 = 0.0084931753831"
       ]
      },
      {
       "output_type": "stream",
       "stream": "stdout",
       "text": [
        "\n",
        "1197 = 0.00854771615741"
       ]
      },
      {
       "output_type": "stream",
       "stream": "stdout",
       "text": [
        "\n",
        "1198 = 0.0087026140423"
       ]
      },
      {
       "output_type": "stream",
       "stream": "stdout",
       "text": [
        "\n",
        "1199 = 0.00903010533344"
       ]
      },
      {
       "output_type": "stream",
       "stream": "stdout",
       "text": [
        "\n",
        "1200 = 0.00885265895397"
       ]
      },
      {
       "output_type": "stream",
       "stream": "stdout",
       "text": [
        "\n",
        "1201 = 0.00854166487465"
       ]
      },
      {
       "output_type": "stream",
       "stream": "stdout",
       "text": [
        "\n",
        "1202 = 0.00844118484619"
       ]
      },
      {
       "output_type": "stream",
       "stream": "stdout",
       "text": [
        "\n",
        "1203 = 0.00853660961036"
       ]
      },
      {
       "output_type": "stream",
       "stream": "stdout",
       "text": [
        "\n",
        "1204 = 0.00853945629439"
       ]
      },
      {
       "output_type": "stream",
       "stream": "stdout",
       "text": [
        "\n",
        "1205 = 0.00862102413449"
       ]
      },
      {
       "output_type": "stream",
       "stream": "stdout",
       "text": [
        "\n",
        "1206 = 0.00918243225146"
       ]
      },
      {
       "output_type": "stream",
       "stream": "stdout",
       "text": [
        "\n",
        "1207 = 0.0089400405052"
       ]
      },
      {
       "output_type": "stream",
       "stream": "stdout",
       "text": [
        "\n",
        "1208 = 0.00863947166605"
       ]
      },
      {
       "output_type": "stream",
       "stream": "stdout",
       "text": [
        "\n",
        "1209 = 0.0084767865638"
       ]
      },
      {
       "output_type": "stream",
       "stream": "stdout",
       "text": [
        "\n",
        "1210 = 0.00853268866767"
       ]
      },
      {
       "output_type": "stream",
       "stream": "stdout",
       "text": [
        "\n",
        "1211 = 0.00860781276589"
       ]
      },
      {
       "output_type": "stream",
       "stream": "stdout",
       "text": [
        "\n",
        "1212 = 0.00853051684554"
       ]
      },
      {
       "output_type": "stream",
       "stream": "stdout",
       "text": [
        "\n",
        "1213 = 0.00908045215544"
       ]
      },
      {
       "output_type": "stream",
       "stream": "stdout",
       "text": [
        "\n",
        "1214 = 0.00880830579149"
       ]
      },
      {
       "output_type": "stream",
       "stream": "stdout",
       "text": [
        "\n",
        "1215 = 0.00866430431915"
       ]
      },
      {
       "output_type": "stream",
       "stream": "stdout",
       "text": [
        "\n",
        "1216 = 0.00853498042022"
       ]
      },
      {
       "output_type": "stream",
       "stream": "stdout",
       "text": [
        "\n",
        "1217 = 0.00850513464643"
       ]
      },
      {
       "output_type": "stream",
       "stream": "stdout",
       "text": [
        "\n",
        "1218 = 0.00855946109666"
       ]
      },
      {
       "output_type": "stream",
       "stream": "stdout",
       "text": [
        "\n",
        "1219 = 0.0089285094352"
       ]
      },
      {
       "output_type": "stream",
       "stream": "stdout",
       "text": [
        "\n",
        "1220 = 0.00891061637186"
       ]
      },
      {
       "output_type": "stream",
       "stream": "stdout",
       "text": [
        "\n",
        "1221 = 0.00879991366212"
       ]
      },
      {
       "output_type": "stream",
       "stream": "stdout",
       "text": [
        "\n",
        "1222 = 0.00853117602043"
       ]
      },
      {
       "output_type": "stream",
       "stream": "stdout",
       "text": [
        "\n",
        "1223 = 0.00857829146134"
       ]
      },
      {
       "output_type": "stream",
       "stream": "stdout",
       "text": [
        "\n",
        "1224 = 0.0086102216222"
       ]
      },
      {
       "output_type": "stream",
       "stream": "stdout",
       "text": [
        "\n",
        "1225 = 0.00868550191688"
       ]
      },
      {
       "output_type": "stream",
       "stream": "stdout",
       "text": [
        "\n",
        "1226 = 0.00933102743492"
       ]
      },
      {
       "output_type": "stream",
       "stream": "stdout",
       "text": [
        "\n",
        "1227 = 0.00909799882941"
       ]
      },
      {
       "output_type": "stream",
       "stream": "stdout",
       "text": [
        "\n",
        "1228 = 0.00874165086841"
       ]
      },
      {
       "output_type": "stream",
       "stream": "stdout",
       "text": [
        "\n",
        "1229 = 0.00844001375253"
       ]
      },
      {
       "output_type": "stream",
       "stream": "stdout",
       "text": [
        "\n",
        "1230 = 0.00833556050161"
       ]
      },
      {
       "output_type": "stream",
       "stream": "stdout",
       "text": [
        "\n",
        "1231 = 0.00845179121236"
       ]
      },
      {
       "output_type": "stream",
       "stream": "stdout",
       "text": [
        "\n",
        "1232 = 0.00893197979721"
       ]
      },
      {
       "output_type": "stream",
       "stream": "stdout",
       "text": [
        "\n",
        "1233 = 0.00846428736846"
       ]
      },
      {
       "output_type": "stream",
       "stream": "stdout",
       "text": [
        "\n",
        "1234 = 0.00819902324269"
       ]
      },
      {
       "output_type": "stream",
       "stream": "stdout",
       "text": [
        "\n",
        "1235 = 0.00838336571937"
       ]
      },
      {
       "output_type": "stream",
       "stream": "stdout",
       "text": [
        "\n",
        "1236 = 0.00901253434471"
       ]
      },
      {
       "output_type": "stream",
       "stream": "stdout",
       "text": [
        "\n",
        "1237 = 0.00856469744952"
       ]
      },
      {
       "output_type": "stream",
       "stream": "stdout",
       "text": [
        "\n",
        "1238 = 0.00840142054906"
       ]
      },
      {
       "output_type": "stream",
       "stream": "stdout",
       "text": [
        "\n",
        "1239 = 0.00827455251026"
       ]
      },
      {
       "output_type": "stream",
       "stream": "stdout",
       "text": [
        "\n",
        "1240 = 0.00823072688525"
       ]
      },
      {
       "output_type": "stream",
       "stream": "stdout",
       "text": [
        "\n",
        "1241 = 0.00835439739482"
       ]
      },
      {
       "output_type": "stream",
       "stream": "stdout",
       "text": [
        "\n",
        "1242 = 0.00957440318149"
       ]
      },
      {
       "output_type": "stream",
       "stream": "stdout",
       "text": [
        "\n",
        "1243 = 0.00811938183627"
       ]
      },
      {
       "output_type": "stream",
       "stream": "stdout",
       "text": [
        "\n",
        "1244 = 0.00825539399481"
       ]
      },
      {
       "output_type": "stream",
       "stream": "stdout",
       "text": [
        "\n",
        "1245 = 0.00830071110682"
       ]
      },
      {
       "output_type": "stream",
       "stream": "stdout",
       "text": [
        "\n",
        "1246 = 0.00820681586028"
       ]
      },
      {
       "output_type": "stream",
       "stream": "stdout",
       "text": [
        "\n",
        "1247 = 0.00849281593947"
       ]
      },
      {
       "output_type": "stream",
       "stream": "stdout",
       "text": [
        "\n",
        "1248 = 0.00825170820141"
       ]
      },
      {
       "output_type": "stream",
       "stream": "stdout",
       "text": [
        "\n",
        "1249 = 0.00812913667052"
       ]
      },
      {
       "output_type": "stream",
       "stream": "stdout",
       "text": [
        "\n",
        "1250 = 0.00822703685246"
       ]
      },
      {
       "output_type": "stream",
       "stream": "stdout",
       "text": [
        "\n",
        "1251 = 0.00810317491512"
       ]
      },
      {
       "output_type": "stream",
       "stream": "stdout",
       "text": [
        "\n",
        "1252 = 0.00804749399553"
       ]
      },
      {
       "output_type": "stream",
       "stream": "stdout",
       "text": [
        "\n",
        "1253 = 0.00829806794446"
       ]
      },
      {
       "output_type": "stream",
       "stream": "stdout",
       "text": [
        "\n",
        "1254 = 0.00824085395452"
       ]
      },
      {
       "output_type": "stream",
       "stream": "stdout",
       "text": [
        "\n",
        "1255 = 0.00816099208522"
       ]
      },
      {
       "output_type": "stream",
       "stream": "stdout",
       "text": [
        "\n",
        "1256 = 0.00823861573315"
       ]
      },
      {
       "output_type": "stream",
       "stream": "stdout",
       "text": [
        "\n",
        "1257 = 0.0080889076859"
       ]
      },
      {
       "output_type": "stream",
       "stream": "stdout",
       "text": [
        "\n",
        "1258 = 0.00809622191024"
       ]
      },
      {
       "output_type": "stream",
       "stream": "stdout",
       "text": [
        "\n",
        "1259 = 0.00873704083779"
       ]
      },
      {
       "output_type": "stream",
       "stream": "stdout",
       "text": [
        "\n",
        "1260 = 0.00824421521134"
       ]
      },
      {
       "output_type": "stream",
       "stream": "stdout",
       "text": [
        "\n",
        "1261 = 0.00815221090605"
       ]
      },
      {
       "output_type": "stream",
       "stream": "stdout",
       "text": [
        "\n",
        "1262 = 0.00807157792"
       ]
      },
      {
       "output_type": "stream",
       "stream": "stdout",
       "text": [
        "\n",
        "1263 = 0.00799346095476"
       ]
      },
      {
       "output_type": "stream",
       "stream": "stdout",
       "text": [
        "\n",
        "1264 = 0.00842178995722"
       ]
      },
      {
       "output_type": "stream",
       "stream": "stdout",
       "text": [
        "\n",
        "1265 = 0.00813761797348"
       ]
      },
      {
       "output_type": "stream",
       "stream": "stdout",
       "text": [
        "\n",
        "1266 = 0.00811009800371"
       ]
      },
      {
       "output_type": "stream",
       "stream": "stdout",
       "text": [
        "\n",
        "1267 = 0.00806597834381"
       ]
      },
      {
       "output_type": "stream",
       "stream": "stdout",
       "text": [
        "\n",
        "1268 = 0.00801485504907"
       ]
      },
      {
       "output_type": "stream",
       "stream": "stdout",
       "text": [
        "\n",
        "1269 = 0.00847938020724"
       ]
      },
      {
       "output_type": "stream",
       "stream": "stdout",
       "text": [
        "\n",
        "1270 = 0.00812807567325"
       ]
      },
      {
       "output_type": "stream",
       "stream": "stdout",
       "text": [
        "\n",
        "1271 = 0.00922015268597"
       ]
      },
      {
       "output_type": "stream",
       "stream": "stdout",
       "text": [
        "\n",
        "1272 = 0.00802904962803"
       ]
      },
      {
       "output_type": "stream",
       "stream": "stdout",
       "text": [
        "\n",
        "1273 = 0.0081727307959"
       ]
      },
      {
       "output_type": "stream",
       "stream": "stdout",
       "text": [
        "\n",
        "1274 = 0.00855761131031"
       ]
      },
      {
       "output_type": "stream",
       "stream": "stdout",
       "text": [
        "\n",
        "1275 = 0.00830920274855"
       ]
      },
      {
       "output_type": "stream",
       "stream": "stdout",
       "text": [
        "\n",
        "1276 = 0.00825034550236"
       ]
      },
      {
       "output_type": "stream",
       "stream": "stdout",
       "text": [
        "\n",
        "1277 = 0.00834190670004"
       ]
      },
      {
       "output_type": "stream",
       "stream": "stdout",
       "text": [
        "\n",
        "1278 = 0.00835659245104"
       ]
      },
      {
       "output_type": "stream",
       "stream": "stdout",
       "text": [
        "\n",
        "1279 = 0.00838642892709"
       ]
      },
      {
       "output_type": "stream",
       "stream": "stdout",
       "text": [
        "\n",
        "1280 = 0.00918710991497"
       ]
      },
      {
       "output_type": "stream",
       "stream": "stdout",
       "text": [
        "\n",
        "1281 = 0.00885808332915"
       ]
      },
      {
       "output_type": "stream",
       "stream": "stdout",
       "text": [
        "\n",
        "1282 = 0.00871118186984"
       ]
      },
      {
       "output_type": "stream",
       "stream": "stdout",
       "text": [
        "\n",
        "1283 = 0.00869931842252"
       ]
      },
      {
       "output_type": "stream",
       "stream": "stdout",
       "text": [
        "\n",
        "1284 = 0.00885510722335"
       ]
      },
      {
       "output_type": "stream",
       "stream": "stdout",
       "text": [
        "\n",
        "1285 = 0.00914747964743"
       ]
      },
      {
       "output_type": "stream",
       "stream": "stdout",
       "text": [
        "\n",
        "1286 = 0.0094229467921"
       ]
      },
      {
       "output_type": "stream",
       "stream": "stdout",
       "text": [
        "\n",
        "1287 = 0.0092462103037"
       ]
      },
      {
       "output_type": "stream",
       "stream": "stdout",
       "text": [
        "\n",
        "1288 = 0.00940927958747"
       ]
      },
      {
       "output_type": "stream",
       "stream": "stdout",
       "text": [
        "\n",
        "1289 = 0.00955541205865"
       ]
      },
      {
       "output_type": "stream",
       "stream": "stdout",
       "text": [
        "\n",
        "1290 = 0.00953282249128"
       ]
      },
      {
       "output_type": "stream",
       "stream": "stdout",
       "text": [
        "\n",
        "1291 = 0.00949204795776"
       ]
      },
      {
       "output_type": "stream",
       "stream": "stdout",
       "text": [
        "\n",
        "1292 = 0.00984685783293"
       ]
      },
      {
       "output_type": "stream",
       "stream": "stdout",
       "text": [
        "\n",
        "1293 = 0.00959945235035"
       ]
      },
      {
       "output_type": "stream",
       "stream": "stdout",
       "text": [
        "\n",
        "1294 = 0.00958902232103"
       ]
      },
      {
       "output_type": "stream",
       "stream": "stdout",
       "text": [
        "\n",
        "1295 = 0.00956015483031"
       ]
      },
      {
       "output_type": "stream",
       "stream": "stdout",
       "text": [
        "\n",
        "1296 = 0.00952053490791"
       ]
      },
      {
       "output_type": "stream",
       "stream": "stdout",
       "text": [
        "\n",
        "1297 = 0.00975136625218"
       ]
      },
      {
       "output_type": "stream",
       "stream": "stdout",
       "text": [
        "\n",
        "1298 = 0.0101831255636"
       ]
      },
      {
       "output_type": "stream",
       "stream": "stdout",
       "text": [
        "\n",
        "1299 = 0.0100697064351"
       ]
      },
      {
       "output_type": "stream",
       "stream": "stdout",
       "text": [
        "\n",
        "1300 = 0.00985293950568"
       ]
      },
      {
       "output_type": "stream",
       "stream": "stdout",
       "text": [
        "\n",
        "1301 = 0.00968591823431"
       ]
      },
      {
       "output_type": "stream",
       "stream": "stdout",
       "text": [
        "\n",
        "1302 = 0.00956111199068"
       ]
      },
      {
       "output_type": "stream",
       "stream": "stdout",
       "text": [
        "\n",
        "1303 = 0.00962793847108"
       ]
      },
      {
       "output_type": "stream",
       "stream": "stdout",
       "text": [
        "\n",
        "1304 = 0.0095886411288"
       ]
      },
      {
       "output_type": "stream",
       "stream": "stdout",
       "text": [
        "\n",
        "1305 = 0.00992036354374"
       ]
      },
      {
       "output_type": "stream",
       "stream": "stdout",
       "text": [
        "\n",
        "1306 = 0.00969762353545"
       ]
      },
      {
       "output_type": "stream",
       "stream": "stdout",
       "text": [
        "\n",
        "1307 = 0.00968395433145"
       ]
      },
      {
       "output_type": "stream",
       "stream": "stdout",
       "text": [
        "\n",
        "1308 = 0.00984655087508"
       ]
      },
      {
       "output_type": "stream",
       "stream": "stdout",
       "text": [
        "\n",
        "1309 = 0.00980935371454"
       ]
      },
      {
       "output_type": "stream",
       "stream": "stdout",
       "text": [
        "\n",
        "1310 = 0.00993894389025"
       ]
      },
      {
       "output_type": "stream",
       "stream": "stdout",
       "text": [
        "\n",
        "1311 = 0.0100783925091"
       ]
      },
      {
       "output_type": "stream",
       "stream": "stdout",
       "text": [
        "\n",
        "1312 = 0.00966672796597"
       ]
      },
      {
       "output_type": "stream",
       "stream": "stdout",
       "text": [
        "\n",
        "1313 = 0.00959310037396"
       ]
      },
      {
       "output_type": "stream",
       "stream": "stdout",
       "text": [
        "\n",
        "1314 = 0.00959140323418"
       ]
      },
      {
       "output_type": "stream",
       "stream": "stdout",
       "text": [
        "\n",
        "1315 = 0.00955395298053"
       ]
      },
      {
       "output_type": "stream",
       "stream": "stdout",
       "text": [
        "\n",
        "1316 = 0.00952998753193"
       ]
      },
      {
       "output_type": "stream",
       "stream": "stdout",
       "text": [
        "\n",
        "1317 = 0.00968265946719"
       ]
      },
      {
       "output_type": "stream",
       "stream": "stdout",
       "text": [
        "\n",
        "1318 = 0.0100845033095"
       ]
      },
      {
       "output_type": "stream",
       "stream": "stdout",
       "text": [
        "\n",
        "1319 = 0.00980159921123"
       ]
      },
      {
       "output_type": "stream",
       "stream": "stdout",
       "text": [
        "\n",
        "1320 = 0.0097680298625"
       ]
      },
      {
       "output_type": "stream",
       "stream": "stdout",
       "text": [
        "\n",
        "1321 = 0.00968549176457"
       ]
      },
      {
       "output_type": "stream",
       "stream": "stdout",
       "text": [
        "\n",
        "1322 = 0.00961424485963"
       ]
      },
      {
       "output_type": "stream",
       "stream": "stdout",
       "text": [
        "\n",
        "1323 = 0.0095350686441"
       ]
      },
      {
       "output_type": "stream",
       "stream": "stdout",
       "text": [
        "\n",
        "1324 = 0.00984099381173"
       ]
      },
      {
       "output_type": "stream",
       "stream": "stdout",
       "text": [
        "\n",
        "1325 = 0.00970419225293"
       ]
      },
      {
       "output_type": "stream",
       "stream": "stdout",
       "text": [
        "\n",
        "1326 = 0.00956760696717"
       ]
      },
      {
       "output_type": "stream",
       "stream": "stdout",
       "text": [
        "\n",
        "1327 = 0.00953605698305"
       ]
      },
      {
       "output_type": "stream",
       "stream": "stdout",
       "text": [
        "\n",
        "1328 = 0.00961860573916"
       ]
      },
      {
       "output_type": "stream",
       "stream": "stdout",
       "text": [
        "\n",
        "1329 = 0.00976648671671"
       ]
      },
      {
       "output_type": "stream",
       "stream": "stdout",
       "text": [
        "\n",
        "1330 = 0.00976129635107"
       ]
      },
      {
       "output_type": "stream",
       "stream": "stdout",
       "text": [
        "\n",
        "1331 = 0.010033274224"
       ]
      },
      {
       "output_type": "stream",
       "stream": "stdout",
       "text": [
        "\n",
        "1332 = 0.00958246240598"
       ]
      },
      {
       "output_type": "stream",
       "stream": "stdout",
       "text": [
        "\n",
        "1333 = 0.00958366603805"
       ]
      },
      {
       "output_type": "stream",
       "stream": "stdout",
       "text": [
        "\n",
        "1334 = 0.00961478282528"
       ]
      },
      {
       "output_type": "stream",
       "stream": "stdout",
       "text": [
        "\n",
        "1335 = 0.00955330913006"
       ]
      },
      {
       "output_type": "stream",
       "stream": "stdout",
       "text": [
        "\n",
        "1336 = 0.00949925889946"
       ]
      },
      {
       "output_type": "stream",
       "stream": "stdout",
       "text": [
        "\n",
        "1337 = 0.00960448151748"
       ]
      },
      {
       "output_type": "stream",
       "stream": "stdout",
       "text": [
        "\n",
        "1338 = 0.0101018530798"
       ]
      },
      {
       "output_type": "stream",
       "stream": "stdout",
       "text": [
        "\n",
        "1339 = 0.00991579434849"
       ]
      },
      {
       "output_type": "stream",
       "stream": "stdout",
       "text": [
        "\n",
        "1340 = 0.00977799356926"
       ]
      },
      {
       "output_type": "stream",
       "stream": "stdout",
       "text": [
        "\n",
        "1341 = 0.00960824468186"
       ]
      },
      {
       "output_type": "stream",
       "stream": "stdout",
       "text": [
        "\n",
        "1342 = 0.0094414406258"
       ]
      },
      {
       "output_type": "stream",
       "stream": "stdout",
       "text": [
        "\n",
        "1343 = 0.00947636806438"
       ]
      },
      {
       "output_type": "stream",
       "stream": "stdout",
       "text": [
        "\n",
        "1344 = 0.00945279427058"
       ]
      },
      {
       "output_type": "stream",
       "stream": "stdout",
       "text": [
        "\n",
        "1345 = 0.0100432871627"
       ]
      },
      {
       "output_type": "stream",
       "stream": "stdout",
       "text": [
        "\n",
        "1346 = 0.00959139425968"
       ]
      },
      {
       "output_type": "stream",
       "stream": "stdout",
       "text": [
        "\n",
        "1347 = 0.00970506245824"
       ]
      },
      {
       "output_type": "stream",
       "stream": "stdout",
       "text": [
        "\n",
        "1348 = 0.00974490449635"
       ]
      },
      {
       "output_type": "stream",
       "stream": "stdout",
       "text": [
        "\n",
        "1349 = 0.00978270126842"
       ]
      },
      {
       "output_type": "stream",
       "stream": "stdout",
       "text": [
        "\n",
        "1350 = 0.00965102666545"
       ]
      },
      {
       "output_type": "stream",
       "stream": "stdout",
       "text": [
        "\n",
        "1351 = 0.00992597071561"
       ]
      },
      {
       "output_type": "stream",
       "stream": "stdout",
       "text": [
        "\n",
        "1352 = 0.00978503147855"
       ]
      },
      {
       "output_type": "stream",
       "stream": "stdout",
       "text": [
        "\n",
        "1353 = 0.00949797395635"
       ]
      },
      {
       "output_type": "stream",
       "stream": "stdout",
       "text": [
        "\n",
        "1354 = 0.00950621855568"
       ]
      },
      {
       "output_type": "stream",
       "stream": "stdout",
       "text": [
        "\n",
        "1355 = 0.00963525791851"
       ]
      },
      {
       "output_type": "stream",
       "stream": "stdout",
       "text": [
        "\n",
        "1356 = 0.00976505374751"
       ]
      },
      {
       "output_type": "stream",
       "stream": "stdout",
       "text": [
        "\n",
        "1357 = 0.00967678784137"
       ]
      },
      {
       "output_type": "stream",
       "stream": "stdout",
       "text": [
        "\n",
        "1358 = 0.00998966033962"
       ]
      },
      {
       "output_type": "stream",
       "stream": "stdout",
       "text": [
        "\n",
        "1359 = 0.00956575293744"
       ]
      },
      {
       "output_type": "stream",
       "stream": "stdout",
       "text": [
        "\n",
        "1360 = 0.00962651780522"
       ]
      },
      {
       "output_type": "stream",
       "stream": "stdout",
       "text": [
        "\n",
        "1361 = 0.00954186734787"
       ]
      },
      {
       "output_type": "stream",
       "stream": "stdout",
       "text": [
        "\n",
        "1362 = 0.00967301279312"
       ]
      },
      {
       "output_type": "stream",
       "stream": "stdout",
       "text": [
        "\n",
        "1363 = 0.00979233647648"
       ]
      },
      {
       "output_type": "stream",
       "stream": "stdout",
       "text": [
        "\n",
        "1364 = 0.00994703472439"
       ]
      },
      {
       "output_type": "stream",
       "stream": "stdout",
       "text": [
        "\n",
        "1365 = 0.0101559896478"
       ]
      },
      {
       "output_type": "stream",
       "stream": "stdout",
       "text": [
        "\n",
        "1366 = 0.00965658207695"
       ]
      },
      {
       "output_type": "stream",
       "stream": "stdout",
       "text": [
        "\n",
        "1367 = 0.00973738263584"
       ]
      },
      {
       "output_type": "stream",
       "stream": "stdout",
       "text": [
        "\n",
        "1368 = 0.00960844709933"
       ]
      },
      {
       "output_type": "stream",
       "stream": "stdout",
       "text": [
        "\n",
        "1369 = 0.00974246814694"
       ]
      },
      {
       "output_type": "stream",
       "stream": "stdout",
       "text": [
        "\n",
        "1370 = 0.00983282132446"
       ]
      },
      {
       "output_type": "stream",
       "stream": "stdout",
       "text": [
        "\n",
        "1371 = 0.0100131600773"
       ]
      },
      {
       "output_type": "stream",
       "stream": "stdout",
       "text": [
        "\n",
        "1372 = 0.0101396430102"
       ]
      },
      {
       "output_type": "stream",
       "stream": "stdout",
       "text": [
        "\n",
        "1373 = 0.00961713514728"
       ]
      },
      {
       "output_type": "stream",
       "stream": "stdout",
       "text": [
        "\n",
        "1374 = 0.00967819673324"
       ]
      },
      {
       "output_type": "stream",
       "stream": "stdout",
       "text": [
        "\n",
        "1375 = 0.00962078439207"
       ]
      },
      {
       "output_type": "stream",
       "stream": "stdout",
       "text": [
        "\n",
        "1376 = 0.0098236567924"
       ]
      },
      {
       "output_type": "stream",
       "stream": "stdout",
       "text": [
        "\n",
        "1377 = 0.00987184902426"
       ]
      },
      {
       "output_type": "stream",
       "stream": "stdout",
       "text": [
        "\n",
        "1378 = 0.00979650066233"
       ]
      },
      {
       "output_type": "stream",
       "stream": "stdout",
       "text": [
        "\n",
        "1379 = 0.0100818744851"
       ]
      },
      {
       "output_type": "stream",
       "stream": "stdout",
       "text": [
        "\n",
        "1380 = 0.00966727574225"
       ]
      },
      {
       "output_type": "stream",
       "stream": "stdout",
       "text": [
        "\n",
        "1381 = 0.00965136722193"
       ]
      },
      {
       "output_type": "stream",
       "stream": "stdout",
       "text": [
        "\n",
        "1382 = 0.00974020510718"
       ]
      },
      {
       "output_type": "stream",
       "stream": "stdout",
       "text": [
        "\n",
        "1383 = 0.00986526993999"
       ]
      },
      {
       "output_type": "stream",
       "stream": "stdout",
       "text": [
        "\n",
        "1384 = 0.00973660418644"
       ]
      },
      {
       "output_type": "stream",
       "stream": "stdout",
       "text": [
        "\n",
        "1385 = 0.00970078735297"
       ]
      },
      {
       "output_type": "stream",
       "stream": "stdout",
       "text": [
        "\n",
        "1386 = 0.0101542386782"
       ]
      },
      {
       "output_type": "stream",
       "stream": "stdout",
       "text": [
        "\n",
        "1387 = 0.00962363534341"
       ]
      },
      {
       "output_type": "stream",
       "stream": "stdout",
       "text": [
        "\n",
        "1388 = 0.00982469417091"
       ]
      },
      {
       "output_type": "stream",
       "stream": "stdout",
       "text": [
        "\n",
        "1389 = 0.00987106962728"
       ]
      },
      {
       "output_type": "stream",
       "stream": "stdout",
       "text": [
        "\n",
        "1390 = 0.00962318908116"
       ]
      },
      {
       "output_type": "stream",
       "stream": "stdout",
       "text": [
        "\n",
        "1391 = 0.00956736819832"
       ]
      },
      {
       "output_type": "stream",
       "stream": "stdout",
       "text": [
        "\n",
        "1392 = 0.00982623806075"
       ]
      },
      {
       "output_type": "stream",
       "stream": "stdout",
       "text": [
        "\n",
        "1393 = 0.010129539581"
       ]
      },
      {
       "output_type": "stream",
       "stream": "stdout",
       "text": [
        "\n",
        "1394 = 0.00986084152876"
       ]
      },
      {
       "output_type": "stream",
       "stream": "stdout",
       "text": [
        "\n",
        "1395 = 0.00970627960931"
       ]
      },
      {
       "output_type": "stream",
       "stream": "stdout",
       "text": [
        "\n",
        "1396 = 0.00958238791536"
       ]
      },
      {
       "output_type": "stream",
       "stream": "stdout",
       "text": [
        "\n",
        "1397 = 0.00964411816768"
       ]
      },
      {
       "output_type": "stream",
       "stream": "stdout",
       "text": [
        "\n",
        "1398 = 0.00960133581546"
       ]
      },
      {
       "output_type": "stream",
       "stream": "stdout",
       "text": [
        "\n",
        "1399 = 0.0101224232179"
       ]
      },
      {
       "output_type": "stream",
       "stream": "stdout",
       "text": [
        "\n",
        "1400 = 0.0100372196306"
       ]
      },
      {
       "output_type": "stream",
       "stream": "stdout",
       "text": [
        "\n",
        "1401 = 0.00958673910271"
       ]
      },
      {
       "output_type": "stream",
       "stream": "stdout",
       "text": [
        "\n",
        "1402 = 0.00964226846827"
       ]
      },
      {
       "output_type": "stream",
       "stream": "stdout",
       "text": [
        "\n",
        "1403 = 0.00962069396699"
       ]
      },
      {
       "output_type": "stream",
       "stream": "stdout",
       "text": [
        "\n",
        "1404 = 0.00964286394378"
       ]
      },
      {
       "output_type": "stream",
       "stream": "stdout",
       "text": [
        "\n",
        "1405 = 0.00977805858991"
       ]
      },
      {
       "output_type": "stream",
       "stream": "stdout",
       "text": [
        "\n",
        "1406 = 0.0101098449774"
       ]
      },
      {
       "output_type": "stream",
       "stream": "stdout",
       "text": [
        "\n",
        "1407 = 0.00962349488738"
       ]
      },
      {
       "output_type": "stream",
       "stream": "stdout",
       "text": [
        "\n",
        "1408 = 0.00964673635068"
       ]
      },
      {
       "output_type": "stream",
       "stream": "stdout",
       "text": [
        "\n",
        "1409 = 0.00964073788502"
       ]
      },
      {
       "output_type": "stream",
       "stream": "stdout",
       "text": [
        "\n",
        "1410 = 0.00985545425456"
       ]
      },
      {
       "output_type": "stream",
       "stream": "stdout",
       "text": [
        "\n",
        "1411 = 0.00969632168756"
       ]
      },
      {
       "output_type": "stream",
       "stream": "stdout",
       "text": [
        "\n",
        "1412 = 0.00991739517427"
       ]
      },
      {
       "output_type": "stream",
       "stream": "stdout",
       "text": [
        "\n",
        "1413 = 0.00977760852129"
       ]
      },
      {
       "output_type": "stream",
       "stream": "stdout",
       "text": [
        "\n",
        "1414 = 0.00973497043327"
       ]
      },
      {
       "output_type": "stream",
       "stream": "stdout",
       "text": [
        "\n",
        "1415 = 0.0098588871739"
       ]
      },
      {
       "output_type": "stream",
       "stream": "stdout",
       "text": [
        "\n",
        "1416 = 0.00965501942162"
       ]
      },
      {
       "output_type": "stream",
       "stream": "stdout",
       "text": [
        "\n",
        "1417 = 0.00966588178271"
       ]
      },
      {
       "output_type": "stream",
       "stream": "stdout",
       "text": [
        "\n",
        "1418 = 0.0095919139541"
       ]
      },
      {
       "output_type": "stream",
       "stream": "stdout",
       "text": [
        "\n",
        "1419 = 0.010414360433"
       ]
      },
      {
       "output_type": "stream",
       "stream": "stdout",
       "text": [
        "\n",
        "1420 = 0.00983606628221"
       ]
      },
      {
       "output_type": "stream",
       "stream": "stdout",
       "text": [
        "\n",
        "1421 = 0.00961494093638"
       ]
      },
      {
       "output_type": "stream",
       "stream": "stdout",
       "text": [
        "\n",
        "1422 = 0.0095976374632"
       ]
      },
      {
       "output_type": "stream",
       "stream": "stdout",
       "text": [
        "\n",
        "1423 = 0.00966669153159"
       ]
      },
      {
       "output_type": "stream",
       "stream": "stdout",
       "text": [
        "\n",
        "1424 = 0.00993799492508"
       ]
      },
      {
       "output_type": "stream",
       "stream": "stdout",
       "text": [
        "\n",
        "1425 = 0.0101444273806"
       ]
      },
      {
       "output_type": "stream",
       "stream": "stdout",
       "text": [
        "\n",
        "1426 = 0.00970049483724"
       ]
      },
      {
       "output_type": "stream",
       "stream": "stdout",
       "text": [
        "\n",
        "1427 = 0.00964653611659"
       ]
      },
      {
       "output_type": "stream",
       "stream": "stdout",
       "text": [
        "\n",
        "1428 = 0.00980089187876"
       ]
      },
      {
       "output_type": "stream",
       "stream": "stdout",
       "text": [
        "\n",
        "1429 = 0.00986149123858"
       ]
      },
      {
       "output_type": "stream",
       "stream": "stdout",
       "text": [
        "\n",
        "1430 = 0.00958560401717"
       ]
      },
      {
       "output_type": "stream",
       "stream": "stdout",
       "text": [
        "\n",
        "1431 = 0.0102211167924"
       ]
      },
      {
       "output_type": "stream",
       "stream": "stdout",
       "text": [
        "\n",
        "1432 = 0.00994187960414"
       ]
      },
      {
       "output_type": "stream",
       "stream": "stdout",
       "text": [
        "\n",
        "1433 = 0.00986371773303"
       ]
      },
      {
       "output_type": "stream",
       "stream": "stdout",
       "text": [
        "\n",
        "1434 = 0.00961952337038"
       ]
      },
      {
       "output_type": "stream",
       "stream": "stdout",
       "text": [
        "\n",
        "1435 = 0.00969649972393"
       ]
      },
      {
       "output_type": "stream",
       "stream": "stdout",
       "text": [
        "\n",
        "1436 = 0.00969854828215"
       ]
      },
      {
       "output_type": "stream",
       "stream": "stdout",
       "text": [
        "\n",
        "1437 = 0.00979076372031"
       ]
      },
      {
       "output_type": "stream",
       "stream": "stdout",
       "text": [
        "\n",
        "1438 = 0.0101520991754"
       ]
      },
      {
       "output_type": "stream",
       "stream": "stdout",
       "text": [
        "\n",
        "1439 = 0.00969289804041"
       ]
      },
      {
       "output_type": "stream",
       "stream": "stdout",
       "text": [
        "\n",
        "1440 = 0.00964283704191"
       ]
      },
      {
       "output_type": "stream",
       "stream": "stdout",
       "text": [
        "\n",
        "1441 = 0.00981689282611"
       ]
      },
      {
       "output_type": "stream",
       "stream": "stdout",
       "text": [
        "\n",
        "1442 = 0.00991696743625"
       ]
      },
      {
       "output_type": "stream",
       "stream": "stdout",
       "text": [
        "\n",
        "1443 = 0.00962000501761"
       ]
      },
      {
       "output_type": "stream",
       "stream": "stdout",
       "text": [
        "\n",
        "1444 = 0.00978499792064"
       ]
      },
      {
       "output_type": "stream",
       "stream": "stdout",
       "text": [
        "\n",
        "1445 = 0.0102503915698"
       ]
      },
      {
       "output_type": "stream",
       "stream": "stdout",
       "text": [
        "\n",
        "1446 = 0.00988063830051"
       ]
      },
      {
       "output_type": "stream",
       "stream": "stdout",
       "text": [
        "\n",
        "1447 = 0.00962214701976"
       ]
      },
      {
       "output_type": "stream",
       "stream": "stdout",
       "text": [
        "\n",
        "1448 = 0.0097383662776"
       ]
      },
      {
       "output_type": "stream",
       "stream": "stdout",
       "text": [
        "\n",
        "1449 = 0.0097345397667"
       ]
      },
      {
       "output_type": "stream",
       "stream": "stdout",
       "text": [
        "\n",
        "1450 = 0.00991926995704"
       ]
      },
      {
       "output_type": "stream",
       "stream": "stdout",
       "text": [
        "\n",
        "1451 = 0.0101636218624"
       ]
      },
      {
       "output_type": "stream",
       "stream": "stdout",
       "text": [
        "\n",
        "1452 = 0.00984998518338"
       ]
      },
      {
       "output_type": "stream",
       "stream": "stdout",
       "text": [
        "\n",
        "1453 = 0.00969315737804"
       ]
      },
      {
       "output_type": "stream",
       "stream": "stdout",
       "text": [
        "\n",
        "1454 = 0.0100203271187"
       ]
      },
      {
       "output_type": "stream",
       "stream": "stdout",
       "text": [
        "\n",
        "1455 = 0.00971985506648"
       ]
      },
      {
       "output_type": "stream",
       "stream": "stdout",
       "text": [
        "\n",
        "1456 = 0.009776041052"
       ]
      },
      {
       "output_type": "stream",
       "stream": "stdout",
       "text": [
        "\n",
        "1457 = 0.00953761359636"
       ]
      },
      {
       "output_type": "stream",
       "stream": "stdout",
       "text": [
        "\n",
        "1458 = 0.0103851269447"
       ]
      },
      {
       "output_type": "stream",
       "stream": "stdout",
       "text": [
        "\n",
        "1459 = 0.00972343231119"
       ]
      },
      {
       "output_type": "stream",
       "stream": "stdout",
       "text": [
        "\n",
        "1460 = 0.00975740679719"
       ]
      },
      {
       "output_type": "stream",
       "stream": "stdout",
       "text": [
        "\n",
        "1461 = 0.00978066242818"
       ]
      },
      {
       "output_type": "stream",
       "stream": "stdout",
       "text": [
        "\n",
        "1462 = 0.00995059116207"
       ]
      },
      {
       "output_type": "stream",
       "stream": "stdout",
       "text": [
        "\n",
        "1463 = 0.00960943124828"
       ]
      },
      {
       "output_type": "stream",
       "stream": "stdout",
       "text": [
        "\n",
        "1464 = 0.0102014818777"
       ]
      },
      {
       "output_type": "stream",
       "stream": "stdout",
       "text": [
        "\n",
        "1465 = 0.00983379617288"
       ]
      },
      {
       "output_type": "stream",
       "stream": "stdout",
       "text": [
        "\n",
        "1466 = 0.00993627899365"
       ]
      },
      {
       "output_type": "stream",
       "stream": "stdout",
       "text": [
        "\n",
        "1467 = 0.00958725193357"
       ]
      },
      {
       "output_type": "stream",
       "stream": "stdout",
       "text": [
        "\n",
        "1468 = 0.00973671686844"
       ]
      },
      {
       "output_type": "stream",
       "stream": "stdout",
       "text": [
        "\n",
        "1469 = 0.00987126678952"
       ]
      },
      {
       "output_type": "stream",
       "stream": "stdout",
       "text": [
        "\n",
        "1470 = 0.0102364022467"
       ]
      },
      {
       "output_type": "stream",
       "stream": "stdout",
       "text": [
        "\n",
        "1471 = 0.00977761431563"
       ]
      },
      {
       "output_type": "stream",
       "stream": "stdout",
       "text": [
        "\n",
        "1472 = 0.00974148766148"
       ]
      },
      {
       "output_type": "stream",
       "stream": "stdout",
       "text": [
        "\n",
        "1473 = 0.00987170296051"
       ]
      },
      {
       "output_type": "stream",
       "stream": "stdout",
       "text": [
        "\n",
        "1474 = 0.00977764648547"
       ]
      },
      {
       "output_type": "stream",
       "stream": "stdout",
       "text": [
        "\n",
        "1475 = 0.00960609481333"
       ]
      },
      {
       "output_type": "stream",
       "stream": "stdout",
       "text": [
        "\n",
        "1476 = 0.00967195084655"
       ]
      },
      {
       "output_type": "stream",
       "stream": "stdout",
       "text": [
        "\n",
        "1477 = 0.0104775653032"
       ]
      },
      {
       "output_type": "stream",
       "stream": "stdout",
       "text": [
        "\n",
        "1478 = 0.00972670954242"
       ]
      },
      {
       "output_type": "stream",
       "stream": "stdout",
       "text": [
        "\n",
        "1479 = 0.00972413371242"
       ]
      },
      {
       "output_type": "stream",
       "stream": "stdout",
       "text": [
        "\n",
        "1480 = 0.00968272012163"
       ]
      },
      {
       "output_type": "stream",
       "stream": "stdout",
       "text": [
        "\n",
        "1481 = 0.00987902898399"
       ]
      },
      {
       "output_type": "stream",
       "stream": "stdout",
       "text": [
        "\n",
        "1482 = 0.00974551673255"
       ]
      },
      {
       "output_type": "stream",
       "stream": "stdout",
       "text": [
        "\n",
        "1483 = 0.0101929636321"
       ]
      },
      {
       "output_type": "stream",
       "stream": "stdout",
       "text": [
        "\n",
        "1484 = 0.00974249830268"
       ]
      },
      {
       "output_type": "stream",
       "stream": "stdout",
       "text": [
        "\n",
        "1485 = 0.00990078337439"
       ]
      },
      {
       "output_type": "stream",
       "stream": "stdout",
       "text": [
        "\n",
        "1486 = 0.00969758692225"
       ]
      },
      {
       "output_type": "stream",
       "stream": "stdout",
       "text": [
        "\n",
        "1487 = 0.00964265318508"
       ]
      },
      {
       "output_type": "stream",
       "stream": "stdout",
       "text": [
        "\n",
        "1488 = 0.00970384718254"
       ]
      },
      {
       "output_type": "stream",
       "stream": "stdout",
       "text": [
        "\n",
        "1489 = 0.0103718577094"
       ]
      },
      {
       "output_type": "stream",
       "stream": "stdout",
       "text": [
        "\n",
        "1490 = 0.0098759633776"
       ]
      },
      {
       "output_type": "stream",
       "stream": "stdout",
       "text": [
        "\n",
        "1491 = 0.00969906351862"
       ]
      },
      {
       "output_type": "stream",
       "stream": "stdout",
       "text": [
        "\n",
        "1492 = 0.00968802393112"
       ]
      },
      {
       "output_type": "stream",
       "stream": "stdout",
       "text": [
        "\n",
        "1493 = 0.0098808706764"
       ]
      },
      {
       "output_type": "stream",
       "stream": "stdout",
       "text": [
        "\n",
        "1494 = 0.00978370108578"
       ]
      },
      {
       "output_type": "stream",
       "stream": "stdout",
       "text": [
        "\n",
        "1495 = 0.00950449099268"
       ]
      },
      {
       "output_type": "stream",
       "stream": "stdout",
       "text": [
        "\n",
        "1496 = 0.0102174119966"
       ]
      },
      {
       "output_type": "stream",
       "stream": "stdout",
       "text": [
        "\n",
        "1497 = 0.00983993611892"
       ]
      },
      {
       "output_type": "stream",
       "stream": "stdout",
       "text": [
        "\n",
        "1498 = 0.00982174171259"
       ]
      },
      {
       "output_type": "stream",
       "stream": "stdout",
       "text": [
        "\n",
        "1499 = 0.00963037150331"
       ]
      },
      {
       "output_type": "stream",
       "stream": "stdout",
       "text": [
        "\n",
        "1500 = 0.00966805407702"
       ]
      },
      {
       "output_type": "stream",
       "stream": "stdout",
       "text": [
        "\n",
        "1501 = 0.00976405807894"
       ]
      },
      {
       "output_type": "stream",
       "stream": "stdout",
       "text": [
        "\n",
        "1502 = 0.00997363270985"
       ]
      },
      {
       "output_type": "stream",
       "stream": "stdout",
       "text": [
        "\n",
        "1503 = 0.0100839708568"
       ]
      },
      {
       "output_type": "stream",
       "stream": "stdout",
       "text": [
        "\n",
        "1504 = 0.00970435344325"
       ]
      },
      {
       "output_type": "stream",
       "stream": "stdout",
       "text": [
        "\n",
        "1505 = 0.00982362084598"
       ]
      },
      {
       "output_type": "stream",
       "stream": "stdout",
       "text": [
        "\n",
        "1506 = 0.00990156096723"
       ]
      },
      {
       "output_type": "stream",
       "stream": "stdout",
       "text": [
        "\n",
        "1507 = 0.00963003390459"
       ]
      },
      {
       "output_type": "stream",
       "stream": "stdout",
       "text": [
        "\n",
        "1508 = 0.00963210131995"
       ]
      },
      {
       "output_type": "stream",
       "stream": "stdout",
       "text": [
        "\n",
        "1509 = 0.00966041179953"
       ]
      },
      {
       "output_type": "stream",
       "stream": "stdout",
       "text": [
        "\n",
        "1510 = 0.0104703824259"
       ]
      },
      {
       "output_type": "stream",
       "stream": "stdout",
       "text": [
        "\n",
        "1511 = 0.00965233353145"
       ]
      },
      {
       "output_type": "stream",
       "stream": "stdout",
       "text": [
        "\n",
        "1512 = 0.00964524678718"
       ]
      },
      {
       "output_type": "stream",
       "stream": "stdout",
       "text": [
        "\n",
        "1513 = 0.00973286465695"
       ]
      },
      {
       "output_type": "stream",
       "stream": "stdout",
       "text": [
        "\n",
        "1514 = 0.0099580793344"
       ]
      },
      {
       "output_type": "stream",
       "stream": "stdout",
       "text": [
        "\n",
        "1515 = 0.00974729792759"
       ]
      },
      {
       "output_type": "stream",
       "stream": "stdout",
       "text": [
        "\n",
        "1516 = 0.00949807456769"
       ]
      },
      {
       "output_type": "stream",
       "stream": "stdout",
       "text": [
        "\n",
        "1517 = 0.0102237921677"
       ]
      },
      {
       "output_type": "stream",
       "stream": "stdout",
       "text": [
        "\n",
        "1518 = 0.00987460407018"
       ]
      },
      {
       "output_type": "stream",
       "stream": "stdout",
       "text": [
        "\n",
        "1519 = 0.00979739572517"
       ]
      },
      {
       "output_type": "stream",
       "stream": "stdout",
       "text": [
        "\n",
        "1520 = 0.00969520215206"
       ]
      },
      {
       "output_type": "stream",
       "stream": "stdout",
       "text": [
        "\n",
        "1521 = 0.00966931800178"
       ]
      },
      {
       "output_type": "stream",
       "stream": "stdout",
       "text": [
        "\n",
        "1522 = 0.00979175483122"
       ]
      },
      {
       "output_type": "stream",
       "stream": "stdout",
       "text": [
        "\n",
        "1523 = 0.00984717780609"
       ]
      },
      {
       "output_type": "stream",
       "stream": "stdout",
       "text": [
        "\n",
        "1524 = 0.0101820346341"
       ]
      },
      {
       "output_type": "stream",
       "stream": "stdout",
       "text": [
        "\n",
        "1525 = 0.00968556496725"
       ]
      },
      {
       "output_type": "stream",
       "stream": "stdout",
       "text": [
        "\n",
        "1526 = 0.00971162007807"
       ]
      },
      {
       "output_type": "stream",
       "stream": "stdout",
       "text": [
        "\n",
        "1527 = 0.00991848728265"
       ]
      },
      {
       "output_type": "stream",
       "stream": "stdout",
       "text": [
        "\n",
        "1528 = 0.00964226636443"
       ]
      },
      {
       "output_type": "stream",
       "stream": "stdout",
       "text": [
        "\n",
        "1529 = 0.00977682830494"
       ]
      },
      {
       "output_type": "stream",
       "stream": "stdout",
       "text": [
        "\n",
        "1530 = 0.00976160894416"
       ]
      },
      {
       "output_type": "stream",
       "stream": "stdout",
       "text": [
        "\n",
        "1531 = 0.00987424610314"
       ]
      },
      {
       "output_type": "stream",
       "stream": "stdout",
       "text": [
        "\n",
        "1532 = 0.0100320970598"
       ]
      },
      {
       "output_type": "stream",
       "stream": "stdout",
       "text": [
        "\n",
        "1533 = 0.00968117362657"
       ]
      },
      {
       "output_type": "stream",
       "stream": "stdout",
       "text": [
        "\n",
        "1534 = 0.0097447255571"
       ]
      },
      {
       "output_type": "stream",
       "stream": "stdout",
       "text": [
        "\n",
        "1535 = 0.00998864096521"
       ]
      },
      {
       "output_type": "stream",
       "stream": "stdout",
       "text": [
        "\n",
        "1536 = 0.00971504862921"
       ]
      },
      {
       "output_type": "stream",
       "stream": "stdout",
       "text": [
        "\n",
        "1537 = 0.00976136468134"
       ]
      },
      {
       "output_type": "stream",
       "stream": "stdout",
       "text": [
        "\n",
        "1538 = 0.00974617642723"
       ]
      },
      {
       "output_type": "stream",
       "stream": "stdout",
       "text": [
        "\n",
        "1539 = 0.0103976993995"
       ]
      },
      {
       "output_type": "stream",
       "stream": "stdout",
       "text": [
        "\n",
        "1540 = 0.00986716571752"
       ]
      },
      {
       "output_type": "stream",
       "stream": "stdout",
       "text": [
        "\n",
        "1541 = 0.00972473394863"
       ]
      },
      {
       "output_type": "stream",
       "stream": "stdout",
       "text": [
        "\n",
        "1542 = 0.00976770207701"
       ]
      },
      {
       "output_type": "stream",
       "stream": "stdout",
       "text": [
        "\n",
        "1543 = 0.0099465145856"
       ]
      },
      {
       "output_type": "stream",
       "stream": "stdout",
       "text": [
        "\n",
        "1544 = 0.00978465051047"
       ]
      },
      {
       "output_type": "stream",
       "stream": "stdout",
       "text": [
        "\n",
        "1545 = 0.00976409987493"
       ]
      },
      {
       "output_type": "stream",
       "stream": "stdout",
       "text": [
        "\n",
        "1546 = 0.00999805282973"
       ]
      },
      {
       "output_type": "stream",
       "stream": "stdout",
       "text": [
        "\n",
        "1547 = 0.0101552538621"
       ]
      },
      {
       "output_type": "stream",
       "stream": "stdout",
       "text": [
        "\n",
        "1548 = 0.00970555299441"
       ]
      },
      {
       "output_type": "stream",
       "stream": "stdout",
       "text": [
        "\n",
        "1549 = 0.00974400618312"
       ]
      },
      {
       "output_type": "stream",
       "stream": "stdout",
       "text": [
        "\n",
        "1550 = 0.00977732509399"
       ]
      },
      {
       "output_type": "stream",
       "stream": "stdout",
       "text": [
        "\n",
        "1551 = 0.0099222869022"
       ]
      },
      {
       "output_type": "stream",
       "stream": "stdout",
       "text": [
        "\n",
        "1552 = 0.00975898525265"
       ]
      },
      {
       "output_type": "stream",
       "stream": "stdout",
       "text": [
        "\n",
        "1553 = 0.00966805171829"
       ]
      },
      {
       "output_type": "stream",
       "stream": "stdout",
       "text": [
        "\n",
        "1554 = 0.0102956931697"
       ]
      },
      {
       "output_type": "stream",
       "stream": "stdout",
       "text": [
        "\n",
        "1555 = 0.0100132504715"
       ]
      },
      {
       "output_type": "stream",
       "stream": "stdout",
       "text": [
        "\n",
        "1556 = 0.00969527392858"
       ]
      },
      {
       "output_type": "stream",
       "stream": "stdout",
       "text": [
        "\n",
        "1557 = 0.00978033613542"
       ]
      },
      {
       "output_type": "stream",
       "stream": "stdout",
       "text": [
        "\n",
        "1558 = 0.00982062482517"
       ]
      },
      {
       "output_type": "stream",
       "stream": "stdout",
       "text": [
        "\n",
        "1559 = 0.00993416207233"
       ]
      },
      {
       "output_type": "stream",
       "stream": "stdout",
       "text": [
        "\n",
        "1560 = 0.00965986689333"
       ]
      },
      {
       "output_type": "stream",
       "stream": "stdout",
       "text": [
        "\n",
        "1561 = 0.0102528460078"
       ]
      },
      {
       "output_type": "stream",
       "stream": "stdout",
       "text": [
        "\n",
        "1562 = 0.00987376548899"
       ]
      },
      {
       "output_type": "stream",
       "stream": "stdout",
       "text": [
        "\n",
        "1563 = 0.00992136279948"
       ]
      },
      {
       "output_type": "stream",
       "stream": "stdout",
       "text": [
        "\n",
        "1564 = 0.00971089548367"
       ]
      },
      {
       "output_type": "stream",
       "stream": "stdout",
       "text": [
        "\n",
        "1565 = 0.00970302756057"
       ]
      },
      {
       "output_type": "stream",
       "stream": "stdout",
       "text": [
        "\n",
        "1566 = 0.00982768059853"
       ]
      },
      {
       "output_type": "stream",
       "stream": "stdout",
       "text": [
        "\n",
        "1567 = 0.00993130387334"
       ]
      },
      {
       "output_type": "stream",
       "stream": "stdout",
       "text": [
        "\n",
        "1568 = 0.00997583696191"
       ]
      },
      {
       "output_type": "stream",
       "stream": "stdout",
       "text": [
        "\n",
        "1569 = 0.0100921452799"
       ]
      },
      {
       "output_type": "stream",
       "stream": "stdout",
       "text": [
        "\n",
        "1570 = 0.00992775621271"
       ]
      },
      {
       "output_type": "stream",
       "stream": "stdout",
       "text": [
        "\n",
        "1571 = 0.00983702654775"
       ]
      },
      {
       "output_type": "stream",
       "stream": "stdout",
       "text": [
        "\n",
        "1572 = 0.00975976684407"
       ]
      },
      {
       "output_type": "stream",
       "stream": "stdout",
       "text": [
        "\n",
        "1573 = 0.00978084703944"
       ]
      },
      {
       "output_type": "stream",
       "stream": "stdout",
       "text": [
        "\n",
        "1574 = 0.0099799764346"
       ]
      },
      {
       "output_type": "stream",
       "stream": "stdout",
       "text": [
        "\n",
        "1575 = 0.00961977783486"
       ]
      },
      {
       "output_type": "stream",
       "stream": "stdout",
       "text": [
        "\n",
        "1576 = 0.0102064146872"
       ]
      },
      {
       "output_type": "stream",
       "stream": "stdout",
       "text": [
        "\n",
        "1577 = 0.00985406831868"
       ]
      },
      {
       "output_type": "stream",
       "stream": "stdout",
       "text": [
        "\n",
        "1578 = 0.00978388485362"
       ]
      },
      {
       "output_type": "stream",
       "stream": "stdout",
       "text": [
        "\n",
        "1579 = 0.00970372088347"
       ]
      },
      {
       "output_type": "stream",
       "stream": "stdout",
       "text": [
        "\n",
        "1580 = 0.00976694301332"
       ]
      },
      {
       "output_type": "stream",
       "stream": "stdout",
       "text": [
        "\n",
        "1581 = 0.00999957457066"
       ]
      },
      {
       "output_type": "stream",
       "stream": "stdout",
       "text": [
        "\n",
        "1582 = 0.0096379252298"
       ]
      },
      {
       "output_type": "stream",
       "stream": "stdout",
       "text": [
        "\n",
        "1583 = 0.00969381008667"
       ]
      },
      {
       "output_type": "stream",
       "stream": "stdout",
       "text": [
        "\n",
        "1584 = 0.0104047591399"
       ]
      },
      {
       "output_type": "stream",
       "stream": "stdout",
       "text": [
        "\n",
        "1585 = 0.00976772399903"
       ]
      },
      {
       "output_type": "stream",
       "stream": "stdout",
       "text": [
        "\n",
        "1586 = 0.00967997834064"
       ]
      },
      {
       "output_type": "stream",
       "stream": "stdout",
       "text": [
        "\n",
        "1587 = 0.00967743246943"
       ]
      },
      {
       "output_type": "stream",
       "stream": "stdout",
       "text": [
        "\n",
        "1588 = 0.00990761797448"
       ]
      },
      {
       "output_type": "stream",
       "stream": "stdout",
       "text": [
        "\n",
        "1589 = 0.00969758801769"
       ]
      },
      {
       "output_type": "stream",
       "stream": "stdout",
       "text": [
        "\n",
        "1590 = 0.00962577979217"
       ]
      },
      {
       "output_type": "stream",
       "stream": "stdout",
       "text": [
        "\n",
        "1591 = 0.0104351679199"
       ]
      },
      {
       "output_type": "stream",
       "stream": "stdout",
       "text": [
        "\n",
        "1592 = 0.00967736965602"
       ]
      },
      {
       "output_type": "stream",
       "stream": "stdout",
       "text": [
        "\n",
        "1593 = 0.00976026309711"
       ]
      },
      {
       "output_type": "stream",
       "stream": "stdout",
       "text": [
        "\n",
        "1594 = 0.00974386465347"
       ]
      },
      {
       "output_type": "stream",
       "stream": "stdout",
       "text": [
        "\n",
        "1595 = 0.00990145332818"
       ]
      },
      {
       "output_type": "stream",
       "stream": "stdout",
       "text": [
        "\n",
        "1596 = 0.00965932975171"
       ]
      },
      {
       "output_type": "stream",
       "stream": "stdout",
       "text": [
        "\n",
        "1597 = 0.00976726727796"
       ]
      },
      {
       "output_type": "stream",
       "stream": "stdout",
       "text": [
        "\n",
        "1598 = 0.010342491428"
       ]
      },
      {
       "output_type": "stream",
       "stream": "stdout",
       "text": [
        "\n",
        "1599 = 0.00975409466093"
       ]
      },
      {
       "output_type": "stream",
       "stream": "stdout",
       "text": [
        "\n",
        "1600 = 0.00970801048767"
       ]
      },
      {
       "output_type": "stream",
       "stream": "stdout",
       "text": [
        "\n",
        "1601 = 0.00989118827825"
       ]
      },
      {
       "output_type": "stream",
       "stream": "stdout",
       "text": [
        "\n",
        "1602 = 0.00974496017076"
       ]
      },
      {
       "output_type": "stream",
       "stream": "stdout",
       "text": [
        "\n",
        "1603 = 0.00982460406311"
       ]
      },
      {
       "output_type": "stream",
       "stream": "stdout",
       "text": [
        "\n",
        "1604 = 0.00988809950163"
       ]
      },
      {
       "output_type": "stream",
       "stream": "stdout",
       "text": [
        "\n",
        "1605 = 0.00960582978935"
       ]
      },
      {
       "output_type": "stream",
       "stream": "stdout",
       "text": [
        "\n",
        "1606 = 0.0102539039298"
       ]
      },
      {
       "output_type": "stream",
       "stream": "stdout",
       "text": [
        "\n",
        "1607 = 0.00971058573971"
       ]
      },
      {
       "output_type": "stream",
       "stream": "stdout",
       "text": [
        "\n",
        "1608 = 0.00996647553043"
       ]
      },
      {
       "output_type": "stream",
       "stream": "stdout",
       "text": [
        "\n",
        "1609 = 0.00972676606242"
       ]
      },
      {
       "output_type": "stream",
       "stream": "stdout",
       "text": [
        "\n",
        "1610 = 0.00986213028264"
       ]
      },
      {
       "output_type": "stream",
       "stream": "stdout",
       "text": [
        "\n",
        "1611 = 0.0100593014097"
       ]
      },
      {
       "output_type": "stream",
       "stream": "stdout",
       "text": [
        "\n",
        "1612 = 0.00969327455518"
       ]
      },
      {
       "output_type": "stream",
       "stream": "stdout",
       "text": [
        "\n",
        "1613 = 0.0100622171168"
       ]
      },
      {
       "output_type": "stream",
       "stream": "stdout",
       "text": [
        "\n",
        "1614 = 0.0101891289093"
       ]
      },
      {
       "output_type": "stream",
       "stream": "stdout",
       "text": [
        "\n",
        "1615 = 0.00957069169021"
       ]
      },
      {
       "output_type": "stream",
       "stream": "stdout",
       "text": [
        "\n",
        "1616 = 0.00974619935256"
       ]
      },
      {
       "output_type": "stream",
       "stream": "stdout",
       "text": [
        "\n",
        "1617 = 0.00991927926347"
       ]
      },
      {
       "output_type": "stream",
       "stream": "stdout",
       "text": [
        "\n",
        "1618 = 0.00973941082284"
       ]
      },
      {
       "output_type": "stream",
       "stream": "stdout",
       "text": [
        "\n",
        "1619 = 0.00975292658788"
       ]
      },
      {
       "output_type": "stream",
       "stream": "stdout",
       "text": [
        "\n",
        "1620 = 0.00992782677016"
       ]
      },
      {
       "output_type": "stream",
       "stream": "stdout",
       "text": [
        "\n",
        "1621 = 0.0100480359819"
       ]
      },
      {
       "output_type": "stream",
       "stream": "stdout",
       "text": [
        "\n",
        "1622 = 0.00973277486611"
       ]
      },
      {
       "output_type": "stream",
       "stream": "stdout",
       "text": [
        "\n",
        "1623 = 0.00986618762496"
       ]
      },
      {
       "output_type": "stream",
       "stream": "stdout",
       "text": [
        "\n",
        "1624 = 0.00972746545535"
       ]
      },
      {
       "output_type": "stream",
       "stream": "stdout",
       "text": [
        "\n",
        "1625 = 0.00973709738886"
       ]
      },
      {
       "output_type": "stream",
       "stream": "stdout",
       "text": [
        "\n",
        "1626 = 0.00987814580913"
       ]
      },
      {
       "output_type": "stream",
       "stream": "stdout",
       "text": [
        "\n",
        "1627 = 0.00966864751681"
       ]
      },
      {
       "output_type": "stream",
       "stream": "stdout",
       "text": [
        "\n",
        "1628 = 0.0102010830037"
       ]
      },
      {
       "output_type": "stream",
       "stream": "stdout",
       "text": [
        "\n",
        "1629 = 0.00992859881131"
       ]
      },
      {
       "output_type": "stream",
       "stream": "stdout",
       "text": [
        "\n",
        "1630 = 0.00967653948046"
       ]
      },
      {
       "output_type": "stream",
       "stream": "stdout",
       "text": [
        "\n",
        "1631 = 0.0097708555942"
       ]
      },
      {
       "output_type": "stream",
       "stream": "stdout",
       "text": [
        "\n",
        "1632 = 0.00989533977857"
       ]
      },
      {
       "output_type": "stream",
       "stream": "stdout",
       "text": [
        "\n",
        "1633 = 0.00978470295527"
       ]
      },
      {
       "output_type": "stream",
       "stream": "stdout",
       "text": [
        "\n",
        "1634 = 0.0098073712282"
       ]
      },
      {
       "output_type": "stream",
       "stream": "stdout",
       "text": [
        "\n",
        "1635 = 0.00972059185514"
       ]
      },
      {
       "output_type": "stream",
       "stream": "stdout",
       "text": [
        "\n",
        "1636 = 0.010304274806"
       ]
      },
      {
       "output_type": "stream",
       "stream": "stdout",
       "text": [
        "\n",
        "1637 = 0.00977989563229"
       ]
      },
      {
       "output_type": "stream",
       "stream": "stdout",
       "text": [
        "\n",
        "1638 = 0.0099037383719"
       ]
      },
      {
       "output_type": "stream",
       "stream": "stdout",
       "text": [
        "\n",
        "1639 = 0.00968385402526"
       ]
      },
      {
       "output_type": "stream",
       "stream": "stdout",
       "text": [
        "\n",
        "1640 = 0.00978154125834"
       ]
      },
      {
       "output_type": "stream",
       "stream": "stdout",
       "text": [
        "\n",
        "1641 = 0.00995117466047"
       ]
      },
      {
       "output_type": "stream",
       "stream": "stdout",
       "text": [
        "\n",
        "1642 = 0.0102556574233"
       ]
      },
      {
       "output_type": "stream",
       "stream": "stdout",
       "text": [
        "\n",
        "1643 = 0.00994779434521"
       ]
      },
      {
       "output_type": "stream",
       "stream": "stdout",
       "text": [
        "\n",
        "1644 = 0.0101488657286"
       ]
      },
      {
       "output_type": "stream",
       "stream": "stdout",
       "text": [
        "\n",
        "1645 = 0.00970213823924"
       ]
      },
      {
       "output_type": "stream",
       "stream": "stdout",
       "text": [
        "\n",
        "1646 = 0.00987147346648"
       ]
      },
      {
       "output_type": "stream",
       "stream": "stdout",
       "text": [
        "\n",
        "1647 = 0.0100452560656"
       ]
      },
      {
       "output_type": "stream",
       "stream": "stdout",
       "text": [
        "\n",
        "1648 = 0.00986511078203"
       ]
      },
      {
       "output_type": "stream",
       "stream": "stdout",
       "text": [
        "\n",
        "1649 = 0.0104164820579"
       ]
      },
      {
       "output_type": "stream",
       "stream": "stdout",
       "text": [
        "\n",
        "1650 = 0.0100314894543"
       ]
      },
      {
       "output_type": "stream",
       "stream": "stdout",
       "text": [
        "\n",
        "1651 = 0.00983091459296"
       ]
      },
      {
       "output_type": "stream",
       "stream": "stdout",
       "text": [
        "\n",
        "1652 = 0.00989051312409"
       ]
      },
      {
       "output_type": "stream",
       "stream": "stdout",
       "text": [
        "\n",
        "1653 = 0.010161025766"
       ]
      },
      {
       "output_type": "stream",
       "stream": "stdout",
       "text": [
        "\n",
        "1654 = 0.00989583635764"
       ]
      },
      {
       "output_type": "stream",
       "stream": "stdout",
       "text": [
        "\n",
        "1655 = 0.0100023733172"
       ]
      },
      {
       "output_type": "stream",
       "stream": "stdout",
       "text": [
        "\n",
        "1656 = 0.0106162402795"
       ]
      },
      {
       "output_type": "stream",
       "stream": "stdout",
       "text": [
        "\n",
        "1657 = 0.00989106914017"
       ]
      },
      {
       "output_type": "stream",
       "stream": "stdout",
       "text": [
        "\n",
        "1658 = 0.0099207654364"
       ]
      },
      {
       "output_type": "stream",
       "stream": "stdout",
       "text": [
        "\n",
        "1659 = 0.0100685431553"
       ]
      },
      {
       "output_type": "stream",
       "stream": "stdout",
       "text": [
        "\n",
        "1660 = 0.00984904304206"
       ]
      },
      {
       "output_type": "stream",
       "stream": "stdout",
       "text": [
        "\n",
        "1661 = 0.00999057077585"
       ]
      },
      {
       "output_type": "stream",
       "stream": "stdout",
       "text": [
        "\n",
        "1662 = 0.0105074850659"
       ]
      },
      {
       "output_type": "stream",
       "stream": "stdout",
       "text": [
        "\n",
        "1663 = 0.010111291382"
       ]
      },
      {
       "output_type": "stream",
       "stream": "stdout",
       "text": [
        "\n",
        "1664 = 0.00982695298303"
       ]
      },
      {
       "output_type": "stream",
       "stream": "stdout",
       "text": [
        "\n",
        "1665 = 0.00995985979007"
       ]
      },
      {
       "output_type": "stream",
       "stream": "stdout",
       "text": [
        "\n",
        "1666 = 0.00974744341574"
       ]
      },
      {
       "output_type": "stream",
       "stream": "stdout",
       "text": [
        "\n",
        "1667 = 0.00989385974699"
       ]
      },
      {
       "output_type": "stream",
       "stream": "stdout",
       "text": [
        "\n",
        "1668 = 0.0100511368515"
       ]
      },
      {
       "output_type": "stream",
       "stream": "stdout",
       "text": [
        "\n",
        "1669 = 0.00976394974225"
       ]
      },
      {
       "output_type": "stream",
       "stream": "stdout",
       "text": [
        "\n",
        "1670 = 0.00982242774935"
       ]
      },
      {
       "output_type": "stream",
       "stream": "stdout",
       "text": [
        "\n",
        "1671 = 0.0103375783282"
       ]
      },
      {
       "output_type": "stream",
       "stream": "stdout",
       "text": [
        "\n",
        "1672 = 0.0100064421424"
       ]
      },
      {
       "output_type": "stream",
       "stream": "stdout",
       "text": [
        "\n",
        "1673 = 0.00978961163226"
       ]
      },
      {
       "output_type": "stream",
       "stream": "stdout",
       "text": [
        "\n",
        "1674 = 0.00997224425156"
       ]
      },
      {
       "output_type": "stream",
       "stream": "stdout",
       "text": [
        "\n",
        "1675 = 0.00974567231476"
       ]
      },
      {
       "output_type": "stream",
       "stream": "stdout",
       "text": [
        "\n",
        "1676 = 0.00991142460621"
       ]
      },
      {
       "output_type": "stream",
       "stream": "stdout",
       "text": [
        "\n",
        "1677 = 0.00991405671383"
       ]
      },
      {
       "output_type": "stream",
       "stream": "stdout",
       "text": [
        "\n",
        "1678 = 0.009759939026"
       ]
      },
      {
       "output_type": "stream",
       "stream": "stdout",
       "text": [
        "\n",
        "1679 = 0.0104074643764"
       ]
      },
      {
       "output_type": "stream",
       "stream": "stdout",
       "text": [
        "\n",
        "1680 = 0.00989371592407"
       ]
      },
      {
       "output_type": "stream",
       "stream": "stdout",
       "text": [
        "\n",
        "1681 = 0.00977908714675"
       ]
      },
      {
       "output_type": "stream",
       "stream": "stdout",
       "text": [
        "\n",
        "1682 = 0.00991723329468"
       ]
      },
      {
       "output_type": "stream",
       "stream": "stdout",
       "text": [
        "\n",
        "1683 = 0.00971919319697"
       ]
      },
      {
       "output_type": "stream",
       "stream": "stdout",
       "text": [
        "\n",
        "1684 = 0.00971789707283"
       ]
      },
      {
       "output_type": "stream",
       "stream": "stdout",
       "text": [
        "\n",
        "1685 = 0.00996115770709"
       ]
      },
      {
       "output_type": "stream",
       "stream": "stdout",
       "text": [
        "\n",
        "1686 = 0.00976063983214"
       ]
      },
      {
       "output_type": "stream",
       "stream": "stdout",
       "text": [
        "\n",
        "1687 = 0.0102662339577"
       ]
      },
      {
       "output_type": "stream",
       "stream": "stdout",
       "text": [
        "\n",
        "1688 = 0.00988338943539"
       ]
      },
      {
       "output_type": "stream",
       "stream": "stdout",
       "text": [
        "\n",
        "1689 = 0.00965678547444"
       ]
      },
      {
       "output_type": "stream",
       "stream": "stdout",
       "text": [
        "\n",
        "1690 = 0.00984012741055"
       ]
      },
      {
       "output_type": "stream",
       "stream": "stdout",
       "text": [
        "\n",
        "1691 = 0.00990016321051"
       ]
      },
      {
       "output_type": "stream",
       "stream": "stdout",
       "text": [
        "\n",
        "1692 = 0.00974771645802"
       ]
      },
      {
       "output_type": "stream",
       "stream": "stdout",
       "text": [
        "\n",
        "1693 = 0.00986059250227"
       ]
      },
      {
       "output_type": "stream",
       "stream": "stdout",
       "text": [
        "\n",
        "1694 = 0.00976935338372"
       ]
      },
      {
       "output_type": "stream",
       "stream": "stdout",
       "text": [
        "\n",
        "1695 = 0.0102997115248"
       ]
      },
      {
       "output_type": "stream",
       "stream": "stdout",
       "text": [
        "\n",
        "1696 = 0.0100245690721"
       ]
      },
      {
       "output_type": "stream",
       "stream": "stdout",
       "text": [
        "\n",
        "1697 = 0.00961052598858"
       ]
      },
      {
       "output_type": "stream",
       "stream": "stdout",
       "text": [
        "\n",
        "1698 = 0.0097689039176"
       ]
      },
      {
       "output_type": "stream",
       "stream": "stdout",
       "text": [
        "\n",
        "1699 = 0.00986246063758"
       ]
      },
      {
       "output_type": "stream",
       "stream": "stdout",
       "text": [
        "\n",
        "1700 = 0.00964420483693"
       ]
      },
      {
       "output_type": "stream",
       "stream": "stdout",
       "text": [
        "\n",
        "1701 = 0.00976865875267"
       ]
      },
      {
       "output_type": "stream",
       "stream": "stdout",
       "text": [
        "\n",
        "1702 = 0.00978704881475"
       ]
      },
      {
       "output_type": "stream",
       "stream": "stdout",
       "text": [
        "\n",
        "1703 = 0.0101836072089"
       ]
      },
      {
       "output_type": "stream",
       "stream": "stdout",
       "text": [
        "\n",
        "1704 = 0.00992187545956"
       ]
      },
      {
       "output_type": "stream",
       "stream": "stdout",
       "text": [
        "\n",
        "1705 = 0.00971933548872"
       ]
      },
      {
       "output_type": "stream",
       "stream": "stdout",
       "text": [
        "\n",
        "1706 = 0.00971877196885"
       ]
      },
      {
       "output_type": "stream",
       "stream": "stdout",
       "text": [
        "\n",
        "1707 = 0.00995221010531"
       ]
      },
      {
       "output_type": "stream",
       "stream": "stdout",
       "text": [
        "\n",
        "1708 = 0.00970461540674"
       ]
      },
      {
       "output_type": "stream",
       "stream": "stdout",
       "text": [
        "\n",
        "1709 = 0.00981821947142"
       ]
      },
      {
       "output_type": "stream",
       "stream": "stdout",
       "text": [
        "\n",
        "1710 = 0.00989687324893"
       ]
      },
      {
       "output_type": "stream",
       "stream": "stdout",
       "text": [
        "\n",
        "1711 = 0.0102638420362"
       ]
      },
      {
       "output_type": "stream",
       "stream": "stdout",
       "text": [
        "\n",
        "1712 = 0.00991843503515"
       ]
      },
      {
       "output_type": "stream",
       "stream": "stdout",
       "text": [
        "\n",
        "1713 = 0.00968631891542"
       ]
      },
      {
       "output_type": "stream",
       "stream": "stdout",
       "text": [
        "\n",
        "1714 = 0.00979115182274"
       ]
      },
      {
       "output_type": "stream",
       "stream": "stdout",
       "text": [
        "\n",
        "1715 = 0.0100509767356"
       ]
      },
      {
       "output_type": "stream",
       "stream": "stdout",
       "text": [
        "\n",
        "1716 = 0.00971310725563"
       ]
      },
      {
       "output_type": "stream",
       "stream": "stdout",
       "text": [
        "\n",
        "1717 = 0.00982576408894"
       ]
      },
      {
       "output_type": "stream",
       "stream": "stdout",
       "text": [
        "\n",
        "1718 = 0.00982502535206"
       ]
      },
      {
       "output_type": "stream",
       "stream": "stdout",
       "text": [
        "\n",
        "1719 = 0.0102266032238"
       ]
      },
      {
       "output_type": "stream",
       "stream": "stdout",
       "text": [
        "\n",
        "1720 = 0.00998328979769"
       ]
      },
      {
       "output_type": "stream",
       "stream": "stdout",
       "text": [
        "\n",
        "1721 = 0.00974060480237"
       ]
      },
      {
       "output_type": "stream",
       "stream": "stdout",
       "text": [
        "\n",
        "1722 = 0.00982730139073"
       ]
      },
      {
       "output_type": "stream",
       "stream": "stdout",
       "text": [
        "\n",
        "1723 = 0.00978924508735"
       ]
      },
      {
       "output_type": "stream",
       "stream": "stdout",
       "text": [
        "\n",
        "1724 = 0.00975759151319"
       ]
      },
      {
       "output_type": "stream",
       "stream": "stdout",
       "text": [
        "\n",
        "1725 = 0.0100543445468"
       ]
      },
      {
       "output_type": "stream",
       "stream": "stdout",
       "text": [
        "\n",
        "1726 = 0.00956945910931"
       ]
      },
      {
       "output_type": "stream",
       "stream": "stdout",
       "text": [
        "\n",
        "1727 = 0.0104341557756"
       ]
      },
      {
       "output_type": "stream",
       "stream": "stdout",
       "text": [
        "\n",
        "1728 = 0.00979134832741"
       ]
      },
      {
       "output_type": "stream",
       "stream": "stdout",
       "text": [
        "\n",
        "1729 = 0.00979680796302"
       ]
      },
      {
       "output_type": "stream",
       "stream": "stdout",
       "text": [
        "\n",
        "1730 = 0.0099550459064"
       ]
      },
      {
       "output_type": "stream",
       "stream": "stdout",
       "text": [
        "\n",
        "1731 = 0.00973203986261"
       ]
      },
      {
       "output_type": "stream",
       "stream": "stdout",
       "text": [
        "\n",
        "1732 = 0.00985052613914"
       ]
      },
      {
       "output_type": "stream",
       "stream": "stdout",
       "text": [
        "\n",
        "1733 = 0.0098524512841"
       ]
      },
      {
       "output_type": "stream",
       "stream": "stdout",
       "text": [
        "\n",
        "1734 = 0.00993602751475"
       ]
      },
      {
       "output_type": "stream",
       "stream": "stdout",
       "text": [
        "\n",
        "1735 = 0.0105566081635"
       ]
      },
      {
       "output_type": "stream",
       "stream": "stdout",
       "text": [
        "\n",
        "1736 = 0.0097589285403"
       ]
      },
      {
       "output_type": "stream",
       "stream": "stdout",
       "text": [
        "\n",
        "1737 = 0.00983477933607"
       ]
      },
      {
       "output_type": "stream",
       "stream": "stdout",
       "text": [
        "\n",
        "1738 = 0.00982956091008"
       ]
      },
      {
       "output_type": "stream",
       "stream": "stdout",
       "text": [
        "\n",
        "1739 = 0.00985416787505"
       ]
      },
      {
       "output_type": "stream",
       "stream": "stdout",
       "text": [
        "\n",
        "1740 = 0.00994078208926"
       ]
      },
      {
       "output_type": "stream",
       "stream": "stdout",
       "text": [
        "\n",
        "1741 = 0.00970038402147"
       ]
      },
      {
       "output_type": "stream",
       "stream": "stdout",
       "text": [
        "\n",
        "1742 = 0.0103623443892"
       ]
      },
      {
       "output_type": "stream",
       "stream": "stdout",
       "text": [
        "\n",
        "1743 = 0.00991840839363"
       ]
      },
      {
       "output_type": "stream",
       "stream": "stdout",
       "text": [
        "\n",
        "1744 = 0.00969162396478"
       ]
      },
      {
       "output_type": "stream",
       "stream": "stdout",
       "text": [
        "\n",
        "1745 = 0.00998659744313"
       ]
      },
      {
       "output_type": "stream",
       "stream": "stdout",
       "text": [
        "\n",
        "1746 = 0.00979354399746"
       ]
      },
      {
       "output_type": "stream",
       "stream": "stdout",
       "text": [
        "\n",
        "1747 = 0.009932698217"
       ]
      },
      {
       "output_type": "stream",
       "stream": "stdout",
       "text": [
        "\n",
        "1748 = 0.00972931788566"
       ]
      },
      {
       "output_type": "stream",
       "stream": "stdout",
       "text": [
        "\n",
        "1749 = 0.00977152965021"
       ]
      },
      {
       "output_type": "stream",
       "stream": "stdout",
       "text": [
        "\n",
        "1750 = 0.0104006752292"
       ]
      },
      {
       "output_type": "stream",
       "stream": "stdout",
       "text": [
        "\n",
        "1751 = 0.0099245976348"
       ]
      },
      {
       "output_type": "stream",
       "stream": "stdout",
       "text": [
        "\n",
        "1752 = 0.0100699755987"
       ]
      },
      {
       "output_type": "stream",
       "stream": "stdout",
       "text": [
        "\n",
        "1753 = 0.00977169792987"
       ]
      },
      {
       "output_type": "stream",
       "stream": "stdout",
       "text": [
        "\n",
        "1754 = 0.00995101574277"
       ]
      },
      {
       "output_type": "stream",
       "stream": "stdout",
       "text": [
        "\n",
        "1755 = 0.00982708613622"
       ]
      },
      {
       "output_type": "stream",
       "stream": "stdout",
       "text": [
        "\n",
        "1756 = 0.00984716399425"
       ]
      },
      {
       "output_type": "stream",
       "stream": "stdout",
       "text": [
        "\n",
        "1757 = 0.00998941349669"
       ]
      },
      {
       "output_type": "stream",
       "stream": "stdout",
       "text": [
        "\n",
        "1758 = 0.0104079035401"
       ]
      },
      {
       "output_type": "stream",
       "stream": "stdout",
       "text": [
        "\n",
        "1759 = 0.0100583366208"
       ]
      },
      {
       "output_type": "stream",
       "stream": "stdout",
       "text": [
        "\n",
        "1760 = 0.00963778712917"
       ]
      },
      {
       "output_type": "stream",
       "stream": "stdout",
       "text": [
        "\n",
        "1761 = 0.00986697697067"
       ]
      },
      {
       "output_type": "stream",
       "stream": "stdout",
       "text": [
        "\n",
        "1762 = 0.00980348869821"
       ]
      },
      {
       "output_type": "stream",
       "stream": "stdout",
       "text": [
        "\n",
        "1763 = 0.00983235010879"
       ]
      },
      {
       "output_type": "stream",
       "stream": "stdout",
       "text": [
        "\n",
        "1764 = 0.0100022026086"
       ]
      },
      {
       "output_type": "stream",
       "stream": "stdout",
       "text": [
        "\n",
        "1765 = 0.0098401260123"
       ]
      },
      {
       "output_type": "stream",
       "stream": "stdout",
       "text": [
        "\n",
        "1766 = 0.0105234466202"
       ]
      },
      {
       "output_type": "stream",
       "stream": "stdout",
       "text": [
        "\n",
        "1767 = 0.00978431231275"
       ]
      },
      {
       "output_type": "stream",
       "stream": "stdout",
       "text": [
        "\n",
        "1768 = 0.0098395588931"
       ]
      },
      {
       "output_type": "stream",
       "stream": "stdout",
       "text": [
        "\n",
        "1769 = 0.00973675517951"
       ]
      },
      {
       "output_type": "stream",
       "stream": "stdout",
       "text": [
        "\n",
        "1770 = 0.00976554727336"
       ]
      },
      {
       "output_type": "stream",
       "stream": "stdout",
       "text": [
        "\n",
        "1771 = 0.00984418911314"
       ]
      },
      {
       "output_type": "stream",
       "stream": "stdout",
       "text": [
        "\n",
        "1772 = 0.00979887049187"
       ]
      },
      {
       "output_type": "stream",
       "stream": "stdout",
       "text": [
        "\n",
        "1773 = 0.00983228401445"
       ]
      },
      {
       "output_type": "stream",
       "stream": "stdout",
       "text": [
        "\n",
        "1774 = 0.0102449457914"
       ]
      },
      {
       "output_type": "stream",
       "stream": "stdout",
       "text": [
        "\n",
        "1775 = 0.00986732440994"
       ]
      },
      {
       "output_type": "stream",
       "stream": "stdout",
       "text": [
        "\n",
        "1776 = 0.00968434223921"
       ]
      },
      {
       "output_type": "stream",
       "stream": "stdout",
       "text": [
        "\n",
        "1777 = 0.00980136053827"
       ]
      },
      {
       "output_type": "stream",
       "stream": "stdout",
       "text": [
        "\n",
        "1778 = 0.00980819143711"
       ]
      },
      {
       "output_type": "stream",
       "stream": "stdout",
       "text": [
        "\n",
        "1779 = 0.00982032989757"
       ]
      },
      {
       "output_type": "stream",
       "stream": "stdout",
       "text": [
        "\n",
        "1780 = 0.00999611217774"
       ]
      },
      {
       "output_type": "stream",
       "stream": "stdout",
       "text": [
        "\n",
        "1781 = 0.00971245151351"
       ]
      },
      {
       "output_type": "stream",
       "stream": "stdout",
       "text": [
        "\n",
        "1782 = 0.0107049733009"
       ]
      },
      {
       "output_type": "stream",
       "stream": "stdout",
       "text": [
        "\n",
        "1783 = 0.00962532316282"
       ]
      },
      {
       "output_type": "stream",
       "stream": "stdout",
       "text": [
        "\n",
        "1784 = 0.00987351267763"
       ]
      },
      {
       "output_type": "stream",
       "stream": "stdout",
       "text": [
        "\n",
        "1785 = 0.00978332947722"
       ]
      },
      {
       "output_type": "stream",
       "stream": "stdout",
       "text": [
        "\n",
        "1786 = 0.00976965392841"
       ]
      },
      {
       "output_type": "stream",
       "stream": "stdout",
       "text": [
        "\n",
        "1787 = 0.00982779414479"
       ]
      },
      {
       "output_type": "stream",
       "stream": "stdout",
       "text": [
        "\n",
        "1788 = 0.00973506587435"
       ]
      },
      {
       "output_type": "stream",
       "stream": "stdout",
       "text": [
        "\n",
        "1789 = 0.0100072657265"
       ]
      },
      {
       "output_type": "stream",
       "stream": "stdout",
       "text": [
        "\n",
        "1790 = 0.0104391002566"
       ]
      },
      {
       "output_type": "stream",
       "stream": "stdout",
       "text": [
        "\n",
        "1791 = 0.0099784826002"
       ]
      },
      {
       "output_type": "stream",
       "stream": "stdout",
       "text": [
        "\n",
        "1792 = 0.0097048851888"
       ]
      },
      {
       "output_type": "stream",
       "stream": "stdout",
       "text": [
        "\n",
        "1793 = 0.00991984177429"
       ]
      },
      {
       "output_type": "stream",
       "stream": "stdout",
       "text": [
        "\n",
        "1794 = 0.00971201288467"
       ]
      },
      {
       "output_type": "stream",
       "stream": "stdout",
       "text": [
        "\n",
        "1795 = 0.00980310119895"
       ]
      },
      {
       "output_type": "stream",
       "stream": "stdout",
       "text": [
        "\n",
        "1796 = 0.00977468850632"
       ]
      },
      {
       "output_type": "stream",
       "stream": "stdout",
       "text": [
        "\n",
        "1797 = 0.00985037067034"
       ]
      },
      {
       "output_type": "stream",
       "stream": "stdout",
       "text": [
        "\n",
        "1798 = 0.0103918501886"
       ]
      },
      {
       "output_type": "stream",
       "stream": "stdout",
       "text": [
        "\n",
        "1799 = 0.00990377650072"
       ]
      },
      {
       "output_type": "stream",
       "stream": "stdout",
       "text": [
        "\n",
        "1800 = 0.00992695959672"
       ]
      },
      {
       "output_type": "stream",
       "stream": "stdout",
       "text": [
        "\n",
        "1801 = 0.00982919484871"
       ]
      },
      {
       "output_type": "stream",
       "stream": "stdout",
       "text": [
        "\n",
        "1802 = 0.0100107551643"
       ]
      },
      {
       "output_type": "stream",
       "stream": "stdout",
       "text": [
        "\n",
        "1803 = 0.00973953777405"
       ]
      },
      {
       "output_type": "stream",
       "stream": "stdout",
       "text": [
        "\n",
        "1804 = 0.00990964263982"
       ]
      },
      {
       "output_type": "stream",
       "stream": "stdout",
       "text": [
        "\n",
        "1805 = 0.00975112675029"
       ]
      },
      {
       "output_type": "stream",
       "stream": "stdout",
       "text": [
        "\n",
        "1806 = 0.0105886448312"
       ]
      },
      {
       "output_type": "stream",
       "stream": "stdout",
       "text": [
        "\n",
        "1807 = 0.00978510439959"
       ]
      },
      {
       "output_type": "stream",
       "stream": "stdout",
       "text": [
        "\n",
        "1808 = 0.00979491296254"
       ]
      },
      {
       "output_type": "stream",
       "stream": "stdout",
       "text": [
        "\n",
        "1809 = 0.00969246605303"
       ]
      },
      {
       "output_type": "stream",
       "stream": "stdout",
       "text": [
        "\n",
        "1810 = 0.00979288435116"
       ]
      },
      {
       "output_type": "stream",
       "stream": "stdout",
       "text": [
        "\n",
        "1811 = 0.00980982939324"
       ]
      },
      {
       "output_type": "stream",
       "stream": "stdout",
       "text": [
        "\n",
        "1812 = 0.00978166164431"
       ]
      },
      {
       "output_type": "stream",
       "stream": "stdout",
       "text": [
        "\n",
        "1813 = 0.00993789017644"
       ]
      },
      {
       "output_type": "stream",
       "stream": "stdout",
       "text": [
        "\n",
        "1814 = 0.00993424471175"
       ]
      },
      {
       "output_type": "stream",
       "stream": "stdout",
       "text": [
        "\n",
        "1815 = 0.010404559324"
       ]
      },
      {
       "output_type": "stream",
       "stream": "stdout",
       "text": [
        "\n",
        "1816 = 0.00974285659343"
       ]
      },
      {
       "output_type": "stream",
       "stream": "stdout",
       "text": [
        "\n",
        "1817 = 0.0100038421578"
       ]
      },
      {
       "output_type": "stream",
       "stream": "stdout",
       "text": [
        "\n",
        "1818 = 0.00985499654883"
       ]
      },
      {
       "output_type": "stream",
       "stream": "stdout",
       "text": [
        "\n",
        "1819 = 0.00993576299713"
       ]
      },
      {
       "output_type": "stream",
       "stream": "stdout",
       "text": [
        "\n",
        "1820 = 0.00975735920407"
       ]
      },
      {
       "output_type": "stream",
       "stream": "stdout",
       "text": [
        "\n",
        "1821 = 0.00995548368831"
       ]
      },
      {
       "output_type": "stream",
       "stream": "stdout",
       "text": [
        "\n",
        "1822 = 0.00973694241468"
       ]
      },
      {
       "output_type": "stream",
       "stream": "stdout",
       "text": [
        "\n",
        "1823 = 0.0105283511633"
       ]
      },
      {
       "output_type": "stream",
       "stream": "stdout",
       "text": [
        "\n",
        "1824 = 0.00981111286479"
       ]
      },
      {
       "output_type": "stream",
       "stream": "stdout",
       "text": [
        "\n",
        "1825 = 0.00991607013883"
       ]
      },
      {
       "output_type": "stream",
       "stream": "stdout",
       "text": [
        "\n",
        "1826 = 0.00975476861291"
       ]
      },
      {
       "output_type": "stream",
       "stream": "stdout",
       "text": [
        "\n",
        "1827 = 0.0098503015831"
       ]
      },
      {
       "output_type": "stream",
       "stream": "stdout",
       "text": [
        "\n",
        "1828 = 0.0098654985706"
       ]
      },
      {
       "output_type": "stream",
       "stream": "stdout",
       "text": [
        "\n",
        "1829 = 0.00988203056915"
       ]
      },
      {
       "output_type": "stream",
       "stream": "stdout",
       "text": [
        "\n",
        "1830 = 0.00982431534104"
       ]
      },
      {
       "output_type": "stream",
       "stream": "stdout",
       "text": [
        "\n",
        "1831 = 0.0105340461939"
       ]
      },
      {
       "output_type": "stream",
       "stream": "stdout",
       "text": [
        "\n",
        "1832 = 0.00989415594139"
       ]
      },
      {
       "output_type": "stream",
       "stream": "stdout",
       "text": [
        "\n",
        "1833 = 0.00989537134803"
       ]
      },
      {
       "output_type": "stream",
       "stream": "stdout",
       "text": [
        "\n",
        "1834 = 0.0100026313787"
       ]
      },
      {
       "output_type": "stream",
       "stream": "stdout",
       "text": [
        "\n",
        "1835 = 0.00988537519583"
       ]
      },
      {
       "output_type": "stream",
       "stream": "stdout",
       "text": [
        "\n",
        "1836 = 0.0100072464223"
       ]
      },
      {
       "output_type": "stream",
       "stream": "stdout",
       "text": [
        "\n",
        "1837 = 0.00987341685211"
       ]
      },
      {
       "output_type": "stream",
       "stream": "stdout",
       "text": [
        "\n",
        "1838 = 0.0101861051516"
       ]
      },
      {
       "output_type": "stream",
       "stream": "stdout",
       "text": [
        "\n",
        "1839 = 0.0104504195827"
       ]
      },
      {
       "output_type": "stream",
       "stream": "stdout",
       "text": [
        "\n",
        "1840 = 0.00995608564346"
       ]
      },
      {
       "output_type": "stream",
       "stream": "stdout",
       "text": [
        "\n",
        "1841 = 0.00979712689224"
       ]
      },
      {
       "output_type": "stream",
       "stream": "stdout",
       "text": [
        "\n",
        "1842 = 0.0100475554547"
       ]
      },
      {
       "output_type": "stream",
       "stream": "stdout",
       "text": [
        "\n",
        "1843 = 0.00980056626447"
       ]
      },
      {
       "output_type": "stream",
       "stream": "stdout",
       "text": [
        "\n",
        "1844 = 0.00999373763892"
       ]
      },
      {
       "output_type": "stream",
       "stream": "stdout",
       "text": [
        "\n",
        "1845 = 0.00978493670085"
       ]
      },
      {
       "output_type": "stream",
       "stream": "stdout",
       "text": [
        "\n",
        "1846 = 0.00991976459387"
       ]
      },
      {
       "output_type": "stream",
       "stream": "stdout",
       "text": [
        "\n",
        "1847 = 0.0096971806978"
       ]
      },
      {
       "output_type": "stream",
       "stream": "stdout",
       "text": [
        "\n",
        "1848 = 0.0106671863395"
       ]
      },
      {
       "output_type": "stream",
       "stream": "stdout",
       "text": [
        "\n",
        "1849 = 0.0097151880632"
       ]
      },
      {
       "output_type": "stream",
       "stream": "stdout",
       "text": [
        "\n",
        "1850 = 0.00989265235017"
       ]
      },
      {
       "output_type": "stream",
       "stream": "stdout",
       "text": [
        "\n",
        "1851 = 0.00974859025785"
       ]
      },
      {
       "output_type": "stream",
       "stream": "stdout",
       "text": [
        "\n",
        "1852 = 0.00989911971831"
       ]
      },
      {
       "output_type": "stream",
       "stream": "stdout",
       "text": [
        "\n",
        "1853 = 0.00977019141492"
       ]
      },
      {
       "output_type": "stream",
       "stream": "stdout",
       "text": [
        "\n",
        "1854 = 0.00991849304761"
       ]
      },
      {
       "output_type": "stream",
       "stream": "stdout",
       "text": [
        "\n",
        "1855 = 0.00970617000867"
       ]
      },
      {
       "output_type": "stream",
       "stream": "stdout",
       "text": [
        "\n",
        "1856 = 0.0105814036971"
       ]
      },
      {
       "output_type": "stream",
       "stream": "stdout",
       "text": [
        "\n",
        "1857 = 0.00978224725878"
       ]
      },
      {
       "output_type": "stream",
       "stream": "stdout",
       "text": [
        "\n",
        "1858 = 0.00990754632876"
       ]
      },
      {
       "output_type": "stream",
       "stream": "stdout",
       "text": [
        "\n",
        "1859 = 0.0097928248129"
       ]
      },
      {
       "output_type": "stream",
       "stream": "stdout",
       "text": [
        "\n",
        "1860 = 0.00984238603345"
       ]
      },
      {
       "output_type": "stream",
       "stream": "stdout",
       "text": [
        "\n",
        "1861 = 0.00974031961034"
       ]
      },
      {
       "output_type": "stream",
       "stream": "stdout",
       "text": [
        "\n",
        "1862 = 0.00978501028129"
       ]
      },
      {
       "output_type": "stream",
       "stream": "stdout",
       "text": [
        "\n",
        "1863 = 0.0097625035415"
       ]
      },
      {
       "output_type": "stream",
       "stream": "stdout",
       "text": [
        "\n",
        "1864 = 0.0105191537562"
       ]
      },
      {
       "output_type": "stream",
       "stream": "stdout",
       "text": [
        "\n",
        "1865 = 0.00992774443651"
       ]
      },
      {
       "output_type": "stream",
       "stream": "stdout",
       "text": [
        "\n",
        "1866 = 0.00977124100719"
       ]
      },
      {
       "output_type": "stream",
       "stream": "stdout",
       "text": [
        "\n",
        "1867 = 0.00991977752927"
       ]
      },
      {
       "output_type": "stream",
       "stream": "stdout",
       "text": [
        "\n",
        "1868 = 0.00975040183687"
       ]
      },
      {
       "output_type": "stream",
       "stream": "stdout",
       "text": [
        "\n",
        "1869 = 0.00990219404979"
       ]
      },
      {
       "output_type": "stream",
       "stream": "stdout",
       "text": [
        "\n",
        "1870 = 0.00986130844331"
       ]
      },
      {
       "output_type": "stream",
       "stream": "stdout",
       "text": [
        "\n",
        "1871 = 0.009941773385"
       ]
      },
      {
       "output_type": "stream",
       "stream": "stdout",
       "text": [
        "\n",
        "1872 = 0.0103743420616"
       ]
      },
      {
       "output_type": "stream",
       "stream": "stdout",
       "text": [
        "\n",
        "1873 = 0.0100777716495"
       ]
      },
      {
       "output_type": "stream",
       "stream": "stdout",
       "text": [
        "\n",
        "1874 = 0.00973126383734"
       ]
      },
      {
       "output_type": "stream",
       "stream": "stdout",
       "text": [
        "\n",
        "1875 = 0.00997623854279"
       ]
      },
      {
       "output_type": "stream",
       "stream": "stdout",
       "text": [
        "\n",
        "1876 = 0.00979522138423"
       ]
      },
      {
       "output_type": "stream",
       "stream": "stdout",
       "text": [
        "\n",
        "1877 = 0.0100046896092"
       ]
      },
      {
       "output_type": "stream",
       "stream": "stdout",
       "text": [
        "\n",
        "1878 = 0.00984916111286"
       ]
      },
      {
       "output_type": "stream",
       "stream": "stdout",
       "text": [
        "\n",
        "1879 = 0.0100089438751"
       ]
      },
      {
       "output_type": "stream",
       "stream": "stdout",
       "text": [
        "\n",
        "1880 = 0.0104811639055"
       ]
      },
      {
       "output_type": "stream",
       "stream": "stdout",
       "text": [
        "\n",
        "1881 = 0.0101429803412"
       ]
      },
      {
       "output_type": "stream",
       "stream": "stdout",
       "text": [
        "\n",
        "1882 = 0.00979024291055"
       ]
      },
      {
       "output_type": "stream",
       "stream": "stdout",
       "text": [
        "\n",
        "1883 = 0.00999494153104"
       ]
      },
      {
       "output_type": "stream",
       "stream": "stdout",
       "text": [
        "\n",
        "1884 = 0.00981756739561"
       ]
      },
      {
       "output_type": "stream",
       "stream": "stdout",
       "text": [
        "\n",
        "1885 = 0.0100042573484"
       ]
      },
      {
       "output_type": "stream",
       "stream": "stdout",
       "text": [
        "\n",
        "1886 = 0.00984504650412"
       ]
      },
      {
       "output_type": "stream",
       "stream": "stdout",
       "text": [
        "\n",
        "1887 = 0.0100131354273"
       ]
      },
      {
       "output_type": "stream",
       "stream": "stdout",
       "text": [
        "\n",
        "1888 = 0.0104449029504"
       ]
      },
      {
       "output_type": "stream",
       "stream": "stdout",
       "text": [
        "\n",
        "1889 = 0.0101966414401"
       ]
      },
      {
       "output_type": "stream",
       "stream": "stdout",
       "text": [
        "\n",
        "1890 = 0.0097755182511"
       ]
      },
      {
       "output_type": "stream",
       "stream": "stdout",
       "text": [
        "\n",
        "1891 = 0.00999622287125"
       ]
      },
      {
       "output_type": "stream",
       "stream": "stdout",
       "text": [
        "\n",
        "1892 = 0.00980236132349"
       ]
      },
      {
       "output_type": "stream",
       "stream": "stdout",
       "text": [
        "\n",
        "1893 = 0.0100223899834"
       ]
      },
      {
       "output_type": "stream",
       "stream": "stdout",
       "text": [
        "\n",
        "1894 = 0.00983378357305"
       ]
      },
      {
       "output_type": "stream",
       "stream": "stdout",
       "text": [
        "\n",
        "1895 = 0.0100385017539"
       ]
      },
      {
       "output_type": "stream",
       "stream": "stdout",
       "text": [
        "\n",
        "1896 = 0.0103239087573"
       ]
      },
      {
       "output_type": "stream",
       "stream": "stdout",
       "text": [
        "\n",
        "1897 = 0.0101330333245"
       ]
      },
      {
       "output_type": "stream",
       "stream": "stdout",
       "text": [
        "\n",
        "1898 = 0.00980525995237"
       ]
      },
      {
       "output_type": "stream",
       "stream": "stdout",
       "text": [
        "\n",
        "1899 = 0.010004643511"
       ]
      },
      {
       "output_type": "stream",
       "stream": "stdout",
       "text": [
        "\n",
        "1900 = 0.00981483010595"
       ]
      },
      {
       "output_type": "stream",
       "stream": "stdout",
       "text": [
        "\n",
        "1901 = 0.00997645512258"
       ]
      },
      {
       "output_type": "stream",
       "stream": "stdout",
       "text": [
        "\n",
        "1902 = 0.00973978733865"
       ]
      },
      {
       "output_type": "stream",
       "stream": "stdout",
       "text": [
        "\n",
        "1903 = 0.00999400073996"
       ]
      },
      {
       "output_type": "stream",
       "stream": "stdout",
       "text": [
        "\n",
        "1904 = 0.00981197879116"
       ]
      },
      {
       "output_type": "stream",
       "stream": "stdout",
       "text": [
        "\n",
        "1905 = 0.0105258953821"
       ]
      },
      {
       "output_type": "stream",
       "stream": "stdout",
       "text": [
        "\n",
        "1906 = 0.00987187348068"
       ]
      },
      {
       "output_type": "stream",
       "stream": "stdout",
       "text": [
        "\n",
        "1907 = 0.00995780008152"
       ]
      },
      {
       "output_type": "stream",
       "stream": "stdout",
       "text": [
        "\n",
        "1908 = 0.00981893027501"
       ]
      },
      {
       "output_type": "stream",
       "stream": "stdout",
       "text": [
        "\n",
        "1909 = 0.00988795373958"
       ]
      },
      {
       "output_type": "stream",
       "stream": "stdout",
       "text": [
        "\n",
        "1910 = 0.00983391590271"
       ]
      },
      {
       "output_type": "stream",
       "stream": "stdout",
       "text": [
        "\n",
        "1911 = 0.00994567888647"
       ]
      },
      {
       "output_type": "stream",
       "stream": "stdout",
       "text": [
        "\n",
        "1912 = 0.00978808858083"
       ]
      },
      {
       "output_type": "stream",
       "stream": "stdout",
       "text": [
        "\n",
        "1913 = 0.010389460859"
       ]
      },
      {
       "output_type": "stream",
       "stream": "stdout",
       "text": [
        "\n",
        "1914 = 0.0100077970591"
       ]
      },
      {
       "output_type": "stream",
       "stream": "stdout",
       "text": [
        "\n",
        "1915 = 0.00969329612102"
       ]
      },
      {
       "output_type": "stream",
       "stream": "stdout",
       "text": [
        "\n",
        "1916 = 0.00977397804222"
       ]
      },
      {
       "output_type": "stream",
       "stream": "stdout",
       "text": [
        "\n",
        "1917 = 0.00978334394472"
       ]
      },
      {
       "output_type": "stream",
       "stream": "stdout",
       "text": [
        "\n",
        "1918 = 0.00972813054519"
       ]
      },
      {
       "output_type": "stream",
       "stream": "stdout",
       "text": [
        "\n",
        "1919 = 0.00985399378283"
       ]
      },
      {
       "output_type": "stream",
       "stream": "stdout",
       "text": [
        "\n",
        "1920 = 0.0098688713571"
       ]
      },
      {
       "output_type": "stream",
       "stream": "stdout",
       "text": [
        "\n",
        "1921 = 0.00979479428534"
       ]
      },
      {
       "output_type": "stream",
       "stream": "stdout",
       "text": [
        "\n",
        "1922 = 0.0105445311358"
       ]
      },
      {
       "output_type": "stream",
       "stream": "stdout",
       "text": [
        "\n",
        "1923 = 0.00981658104411"
       ]
      },
      {
       "output_type": "stream",
       "stream": "stdout",
       "text": [
        "\n",
        "1924 = 0.00984899716829"
       ]
      },
      {
       "output_type": "stream",
       "stream": "stdout",
       "text": [
        "\n",
        "1925 = 0.00965610573117"
       ]
      },
      {
       "output_type": "stream",
       "stream": "stdout",
       "text": [
        "\n",
        "1926 = 0.00995676817161"
       ]
      },
      {
       "output_type": "stream",
       "stream": "stdout",
       "text": [
        "\n",
        "1927 = 0.00977951544972"
       ]
      },
      {
       "output_type": "stream",
       "stream": "stdout",
       "text": [
        "\n",
        "1928 = 0.00993671528253"
       ]
      },
      {
       "output_type": "stream",
       "stream": "stdout",
       "text": [
        "\n",
        "1929 = 0.00984829925532"
       ]
      },
      {
       "output_type": "stream",
       "stream": "stdout",
       "text": [
        "\n",
        "1930 = 0.0100214954462"
       ]
      },
      {
       "output_type": "stream",
       "stream": "stdout",
       "text": [
        "\n",
        "1931 = 0.0104576202932"
       ]
      },
      {
       "output_type": "stream",
       "stream": "stdout",
       "text": [
        "\n",
        "1932 = 0.0100150552009"
       ]
      },
      {
       "output_type": "stream",
       "stream": "stdout",
       "text": [
        "\n",
        "1933 = 0.0097851884999"
       ]
      },
      {
       "output_type": "stream",
       "stream": "stdout",
       "text": [
        "\n",
        "1934 = 0.0099878739342"
       ]
      },
      {
       "output_type": "stream",
       "stream": "stdout",
       "text": [
        "\n",
        "1935 = 0.0098003463029"
       ]
      },
      {
       "output_type": "stream",
       "stream": "stdout",
       "text": [
        "\n",
        "1936 = 0.00991801953685"
       ]
      },
      {
       "output_type": "stream",
       "stream": "stdout",
       "text": [
        "\n",
        "1937 = 0.00977511710322"
       ]
      },
      {
       "output_type": "stream",
       "stream": "stdout",
       "text": [
        "\n",
        "1938 = 0.00988170507094"
       ]
      },
      {
       "output_type": "stream",
       "stream": "stdout",
       "text": [
        "\n",
        "1939 = 0.0100940592404"
       ]
      },
      {
       "output_type": "stream",
       "stream": "stdout",
       "text": [
        "\n",
        "1940 = 0.0102302443416"
       ]
      },
      {
       "output_type": "stream",
       "stream": "stdout",
       "text": [
        "\n",
        "1941 = 0.00981925059438"
       ]
      },
      {
       "output_type": "stream",
       "stream": "stdout",
       "text": [
        "\n",
        "1942 = 0.00964999898378"
       ]
      },
      {
       "output_type": "stream",
       "stream": "stdout",
       "text": [
        "\n",
        "1943 = 0.00993743232526"
       ]
      },
      {
       "output_type": "stream",
       "stream": "stdout",
       "text": [
        "\n",
        "1944 = 0.00970114746018"
       ]
      },
      {
       "output_type": "stream",
       "stream": "stdout",
       "text": [
        "\n",
        "1945 = 0.0100170637793"
       ]
      },
      {
       "output_type": "stream",
       "stream": "stdout",
       "text": [
        "\n",
        "1946 = 0.00973421655549"
       ]
      },
      {
       "output_type": "stream",
       "stream": "stdout",
       "text": [
        "\n",
        "1947 = 0.00994195660101"
       ]
      },
      {
       "output_type": "stream",
       "stream": "stdout",
       "text": [
        "\n",
        "1948 = 0.00982042793597"
       ]
      },
      {
       "output_type": "stream",
       "stream": "stdout",
       "text": [
        "\n",
        "1949 = 0.0104076250837"
       ]
      },
      {
       "output_type": "stream",
       "stream": "stdout",
       "text": [
        "\n",
        "1950 = 0.00969129449666"
       ]
      },
      {
       "output_type": "stream",
       "stream": "stdout",
       "text": [
        "\n",
        "1951 = 0.00979179777892"
       ]
      },
      {
       "output_type": "stream",
       "stream": "stdout",
       "text": [
        "\n",
        "1952 = 0.00977619519953"
       ]
      },
      {
       "output_type": "stream",
       "stream": "stdout",
       "text": [
        "\n",
        "1953 = 0.00965341136192"
       ]
      },
      {
       "output_type": "stream",
       "stream": "stdout",
       "text": [
        "\n",
        "1954 = 0.00988981867083"
       ]
      },
      {
       "output_type": "stream",
       "stream": "stdout",
       "text": [
        "\n",
        "1955 = 0.00968673394394"
       ]
      },
      {
       "output_type": "stream",
       "stream": "stdout",
       "text": [
        "\n",
        "1956 = 0.00993455075717"
       ]
      },
      {
       "output_type": "stream",
       "stream": "stdout",
       "text": [
        "\n",
        "1957 = 0.0103695138615"
       ]
      },
      {
       "output_type": "stream",
       "stream": "stdout",
       "text": [
        "\n",
        "1958 = 0.0100955788493"
       ]
      },
      {
       "output_type": "stream",
       "stream": "stdout",
       "text": [
        "\n",
        "1959 = 0.00972876278156"
       ]
      },
      {
       "output_type": "stream",
       "stream": "stdout",
       "text": [
        "\n",
        "1960 = 0.0099438997819"
       ]
      },
      {
       "output_type": "stream",
       "stream": "stdout",
       "text": [
        "\n",
        "1961 = 0.00980818125332"
       ]
      },
      {
       "output_type": "stream",
       "stream": "stdout",
       "text": [
        "\n",
        "1962 = 0.0097585706642"
       ]
      },
      {
       "output_type": "stream",
       "stream": "stdout",
       "text": [
        "\n",
        "1963 = 0.00984111768396"
       ]
      },
      {
       "output_type": "stream",
       "stream": "stdout",
       "text": [
        "\n",
        "1964 = 0.00978544853195"
       ]
      },
      {
       "output_type": "stream",
       "stream": "stdout",
       "text": [
        "\n",
        "1965 = 0.0098640191969"
       ]
      },
      {
       "output_type": "stream",
       "stream": "stdout",
       "text": [
        "\n",
        "1966 = 0.0104446666846"
       ]
      },
      {
       "output_type": "stream",
       "stream": "stdout",
       "text": [
        "\n",
        "1967 = 0.00994259320734"
       ]
      },
      {
       "output_type": "stream",
       "stream": "stdout",
       "text": [
        "\n",
        "1968 = 0.0096567147264"
       ]
      },
      {
       "output_type": "stream",
       "stream": "stdout",
       "text": [
        "\n",
        "1969 = 0.00989402615142"
       ]
      },
      {
       "output_type": "stream",
       "stream": "stdout",
       "text": [
        "\n",
        "1970 = 0.00983267882685"
       ]
      },
      {
       "output_type": "stream",
       "stream": "stdout",
       "text": [
        "\n",
        "1971 = 0.00996927076742"
       ]
      },
      {
       "output_type": "stream",
       "stream": "stdout",
       "text": [
        "\n",
        "1972 = 0.00983899264136"
       ]
      },
      {
       "output_type": "stream",
       "stream": "stdout",
       "text": [
        "\n",
        "1973 = 0.00995099805263"
       ]
      },
      {
       "output_type": "stream",
       "stream": "stdout",
       "text": [
        "\n",
        "1974 = 0.00968861207284"
       ]
      },
      {
       "output_type": "stream",
       "stream": "stdout",
       "text": [
        "\n",
        "1975 = 0.0104294195116"
       ]
      },
      {
       "output_type": "stream",
       "stream": "stdout",
       "text": [
        "\n",
        "1976 = 0.00979572867635"
       ]
      },
      {
       "output_type": "stream",
       "stream": "stdout",
       "text": [
        "\n",
        "1977 = 0.00967169463869"
       ]
      },
      {
       "output_type": "stream",
       "stream": "stdout",
       "text": [
        "\n",
        "1978 = 0.00995898828014"
       ]
      },
      {
       "output_type": "stream",
       "stream": "stdout",
       "text": [
        "\n",
        "1979 = 0.00971383334254"
       ]
      },
      {
       "output_type": "stream",
       "stream": "stdout",
       "text": [
        "\n",
        "1980 = 0.00991305752756"
       ]
      },
      {
       "output_type": "stream",
       "stream": "stdout",
       "text": [
        "\n",
        "1981 = 0.00980192472298"
       ]
      },
      {
       "output_type": "stream",
       "stream": "stdout",
       "text": [
        "\n",
        "1982 = 0.00995707673823"
       ]
      },
      {
       "output_type": "stream",
       "stream": "stdout",
       "text": [
        "\n",
        "1983 = 0.0105177382317"
       ]
      },
      {
       "output_type": "stream",
       "stream": "stdout",
       "text": [
        "\n",
        "1984 = 0.00980241878687"
       ]
      },
      {
       "output_type": "stream",
       "stream": "stdout",
       "text": [
        "\n",
        "1985 = 0.00976596122262"
       ]
      },
      {
       "output_type": "stream",
       "stream": "stdout",
       "text": [
        "\n",
        "1986 = 0.00963331726234"
       ]
      },
      {
       "output_type": "stream",
       "stream": "stdout",
       "text": [
        "\n",
        "1987 = 0.0097868048317"
       ]
      },
      {
       "output_type": "stream",
       "stream": "stdout",
       "text": [
        "\n",
        "1988 = 0.009622684224"
       ]
      },
      {
       "output_type": "stream",
       "stream": "stdout",
       "text": [
        "\n",
        "1989 = 0.00988041721395"
       ]
      },
      {
       "output_type": "stream",
       "stream": "stdout",
       "text": [
        "\n",
        "1990 = 0.00973381228703"
       ]
      },
      {
       "output_type": "stream",
       "stream": "stdout",
       "text": [
        "\n",
        "1991 = 0.0107014372141"
       ]
      },
      {
       "output_type": "stream",
       "stream": "stdout",
       "text": [
        "\n",
        "1992 = 0.00979812049913"
       ]
      },
      {
       "output_type": "stream",
       "stream": "stdout",
       "text": [
        "\n",
        "1993 = 0.00969521572537"
       ]
      },
      {
       "output_type": "stream",
       "stream": "stdout",
       "text": [
        "\n",
        "1994 = 0.00980226864143"
       ]
      },
      {
       "output_type": "stream",
       "stream": "stdout",
       "text": [
        "\n",
        "1995 = 0.00968555675427"
       ]
      },
      {
       "output_type": "stream",
       "stream": "stdout",
       "text": [
        "\n",
        "1996 = 0.00999243994941"
       ]
      },
      {
       "output_type": "stream",
       "stream": "stdout",
       "text": [
        "\n",
        "1997 = 0.00971525667463"
       ]
      },
      {
       "output_type": "stream",
       "stream": "stdout",
       "text": [
        "\n",
        "1998 = 0.00991444159508"
       ]
      },
      {
       "output_type": "stream",
       "stream": "stdout",
       "text": [
        "\n",
        "1999 = 0.00971662099429"
       ]
      },
      {
       "output_type": "stream",
       "stream": "stdout",
       "text": [
        "\n",
        "2000 = 0.0105115359281"
       ]
      },
      {
       "output_type": "stream",
       "stream": "stdout",
       "text": [
        "\n",
        "2001 = 0.00981000677219"
       ]
      },
      {
       "output_type": "stream",
       "stream": "stdout",
       "text": [
        "\n",
        "2002 = 0.00962865172428"
       ]
      },
      {
       "output_type": "stream",
       "stream": "stdout",
       "text": [
        "\n",
        "2003 = 0.00990673975196"
       ]
      },
      {
       "output_type": "stream",
       "stream": "stdout",
       "text": [
        "\n",
        "2004 = 0.00964481172347"
       ]
      },
      {
       "output_type": "stream",
       "stream": "stdout",
       "text": [
        "\n",
        "2005 = 0.00992322220201"
       ]
      },
      {
       "output_type": "stream",
       "stream": "stdout",
       "text": [
        "\n",
        "2006 = 0.00969324954164"
       ]
      },
      {
       "output_type": "stream",
       "stream": "stdout",
       "text": [
        "\n",
        "2007 = 0.00989019974541"
       ]
      },
      {
       "output_type": "stream",
       "stream": "stdout",
       "text": [
        "\n",
        "2008 = 0.00969224178098"
       ]
      },
      {
       "output_type": "stream",
       "stream": "stdout",
       "text": [
        "\n",
        "2009 = 0.0104113987779"
       ]
      },
      {
       "output_type": "stream",
       "stream": "stdout",
       "text": [
        "\n",
        "2010 = 0.00981123864384"
       ]
      },
      {
       "output_type": "stream",
       "stream": "stdout",
       "text": [
        "\n",
        "2011 = 0.00966871820779"
       ]
      },
      {
       "output_type": "stream",
       "stream": "stdout",
       "text": [
        "\n",
        "2012 = 0.010030745003"
       ]
      },
      {
       "output_type": "stream",
       "stream": "stdout",
       "text": [
        "\n",
        "2013 = 0.00976885596157"
       ]
      },
      {
       "output_type": "stream",
       "stream": "stdout",
       "text": [
        "\n",
        "2014 = 0.00985660283026"
       ]
      },
      {
       "output_type": "stream",
       "stream": "stdout",
       "text": [
        "\n",
        "2015 = 0.00975931225878"
       ]
      },
      {
       "output_type": "stream",
       "stream": "stdout",
       "text": [
        "\n",
        "2016 = 0.00965983921288"
       ]
      },
      {
       "output_type": "stream",
       "stream": "stdout",
       "text": [
        "\n",
        "2017 = 0.0106339496333"
       ]
      },
      {
       "output_type": "stream",
       "stream": "stdout",
       "text": [
        "\n",
        "2018 = 0.00983420330271"
       ]
      },
      {
       "output_type": "stream",
       "stream": "stdout",
       "text": [
        "\n",
        "2019 = 0.00998757590992"
       ]
      },
      {
       "output_type": "stream",
       "stream": "stdout",
       "text": [
        "\n",
        "2020 = 0.00978964659207"
       ]
      },
      {
       "output_type": "stream",
       "stream": "stdout",
       "text": [
        "\n",
        "2021 = 0.00973687494819"
       ]
      },
      {
       "output_type": "stream",
       "stream": "stdout",
       "text": [
        "\n",
        "2022 = 0.00985132100894"
       ]
      },
      {
       "output_type": "stream",
       "stream": "stdout",
       "text": [
        "\n",
        "2023 = 0.00972437867811"
       ]
      },
      {
       "output_type": "stream",
       "stream": "stdout",
       "text": [
        "\n",
        "2024 = 0.00997816671751"
       ]
      },
      {
       "output_type": "stream",
       "stream": "stdout",
       "text": [
        "\n",
        "2025 = 0.00966999355654"
       ]
      },
      {
       "output_type": "stream",
       "stream": "stdout",
       "text": [
        "\n",
        "2026 = 0.0102429387837"
       ]
      },
      {
       "output_type": "stream",
       "stream": "stdout",
       "text": [
        "\n",
        "2027 = 0.0101662639763"
       ]
      },
      {
       "output_type": "stream",
       "stream": "stdout",
       "text": [
        "\n",
        "2028 = 0.00979127180671"
       ]
      },
      {
       "output_type": "stream",
       "stream": "stdout",
       "text": [
        "\n",
        "2029 = 0.00978317146935"
       ]
      },
      {
       "output_type": "stream",
       "stream": "stdout",
       "text": [
        "\n",
        "2030 = 0.00967404705062"
       ]
      },
      {
       "output_type": "stream",
       "stream": "stdout",
       "text": [
        "\n",
        "2031 = 0.00995026727807"
       ]
      },
      {
       "output_type": "stream",
       "stream": "stdout",
       "text": [
        "\n",
        "2032 = 0.00980410157451"
       ]
      },
      {
       "output_type": "stream",
       "stream": "stdout",
       "text": [
        "\n",
        "2033 = 0.0100009549812"
       ]
      },
      {
       "output_type": "stream",
       "stream": "stdout",
       "text": [
        "\n",
        "2034 = 0.00986025121284"
       ]
      },
      {
       "output_type": "stream",
       "stream": "stdout",
       "text": [
        "\n",
        "2035 = 0.0102200574001"
       ]
      },
      {
       "output_type": "stream",
       "stream": "stdout",
       "text": [
        "\n",
        "2036 = 0.0100762142863"
       ]
      },
      {
       "output_type": "stream",
       "stream": "stdout",
       "text": [
        "\n",
        "2037 = 0.00963015953595"
       ]
      },
      {
       "output_type": "stream",
       "stream": "stdout",
       "text": [
        "\n",
        "2038 = 0.0100915640498"
       ]
      },
      {
       "output_type": "stream",
       "stream": "stdout",
       "text": [
        "\n",
        "2039 = 0.00985961410946"
       ]
      },
      {
       "output_type": "stream",
       "stream": "stdout",
       "text": [
        "\n",
        "2040 = 0.00988969829613"
       ]
      },
      {
       "output_type": "stream",
       "stream": "stdout",
       "text": [
        "\n",
        "2041 = 0.00987518675936"
       ]
      },
      {
       "output_type": "stream",
       "stream": "stdout",
       "text": [
        "\n",
        "2042 = 0.00976584025831"
       ]
      },
      {
       "output_type": "stream",
       "stream": "stdout",
       "text": [
        "\n",
        "2043 = 0.0100101323811"
       ]
      },
      {
       "output_type": "stream",
       "stream": "stdout",
       "text": [
        "\n",
        "2044 = 0.0105884149796"
       ]
      },
      {
       "output_type": "stream",
       "stream": "stdout",
       "text": [
        "\n",
        "2045 = 0.0100219443288"
       ]
      },
      {
       "output_type": "stream",
       "stream": "stdout",
       "text": [
        "\n",
        "2046 = 0.00977910677486"
       ]
      },
      {
       "output_type": "stream",
       "stream": "stdout",
       "text": [
        "\n",
        "2047 = 0.0096579935769"
       ]
      },
      {
       "output_type": "stream",
       "stream": "stdout",
       "text": [
        "\n",
        "2048 = 0.00991477928446"
       ]
      },
      {
       "output_type": "stream",
       "stream": "stdout",
       "text": [
        "\n",
        "2049 = 0.00976649043401"
       ]
      },
      {
       "output_type": "stream",
       "stream": "stdout",
       "text": [
        "\n",
        "2050 = 0.00973312968612"
       ]
      },
      {
       "output_type": "stream",
       "stream": "stdout",
       "text": [
        "\n",
        "2051 = 0.00983990662591"
       ]
      },
      {
       "output_type": "stream",
       "stream": "stdout",
       "text": [
        "\n",
        "2052 = 0.00966025928749"
       ]
      },
      {
       "output_type": "stream",
       "stream": "stdout",
       "text": [
        "\n",
        "2053 = 0.010471231093"
       ]
      },
      {
       "output_type": "stream",
       "stream": "stdout",
       "text": [
        "\n",
        "2054 = 0.00993092676194"
       ]
      },
      {
       "output_type": "stream",
       "stream": "stdout",
       "text": [
        "\n",
        "2055 = 0.00957332875907"
       ]
      },
      {
       "output_type": "stream",
       "stream": "stdout",
       "text": [
        "\n",
        "2056 = 0.0099295047606"
       ]
      },
      {
       "output_type": "stream",
       "stream": "stdout",
       "text": [
        "\n",
        "2057 = 0.00967043125643"
       ]
      },
      {
       "output_type": "stream",
       "stream": "stdout",
       "text": [
        "\n",
        "2058 = 0.0098487101588"
       ]
      },
      {
       "output_type": "stream",
       "stream": "stdout",
       "text": [
        "\n",
        "2059 = 0.00980395544133"
       ]
      },
      {
       "output_type": "stream",
       "stream": "stdout",
       "text": [
        "\n",
        "2060 = 0.00970425217963"
       ]
      },
      {
       "output_type": "stream",
       "stream": "stdout",
       "text": [
        "\n",
        "2061 = 0.00993328676831"
       ]
      },
      {
       "output_type": "stream",
       "stream": "stdout",
       "text": [
        "\n",
        "2062 = 0.0100873516026"
       ]
      },
      {
       "output_type": "stream",
       "stream": "stdout",
       "text": [
        "\n",
        "2063 = 0.0100483597998"
       ]
      },
      {
       "output_type": "stream",
       "stream": "stdout",
       "text": [
        "\n",
        "2064 = 0.0098660491896"
       ]
      },
      {
       "output_type": "stream",
       "stream": "stdout",
       "text": [
        "\n",
        "2065 = 0.00969312667705"
       ]
      },
      {
       "output_type": "stream",
       "stream": "stdout",
       "text": [
        "\n",
        "2066 = 0.00980398039304"
       ]
      },
      {
       "output_type": "stream",
       "stream": "stdout",
       "text": [
        "\n",
        "2067 = 0.00980946875731"
       ]
      },
      {
       "output_type": "stream",
       "stream": "stdout",
       "text": [
        "\n",
        "2068 = 0.00968699747419"
       ]
      },
      {
       "output_type": "stream",
       "stream": "stdout",
       "text": [
        "\n",
        "2069 = 0.0099667648195"
       ]
      },
      {
       "output_type": "stream",
       "stream": "stdout",
       "text": [
        "\n",
        "2070 = 0.00970819126915"
       ]
      },
      {
       "output_type": "stream",
       "stream": "stdout",
       "text": [
        "\n",
        "2071 = 0.0101754510269"
       ]
      },
      {
       "output_type": "stream",
       "stream": "stdout",
       "text": [
        "\n",
        "2072 = 0.0102779692161"
       ]
      },
      {
       "output_type": "stream",
       "stream": "stdout",
       "text": [
        "\n",
        "2073 = 0.00959101351662"
       ]
      },
      {
       "output_type": "stream",
       "stream": "stdout",
       "text": [
        "\n",
        "2074 = 0.00972133682282"
       ]
      },
      {
       "output_type": "stream",
       "stream": "stdout",
       "text": [
        "\n",
        "2075 = 0.00986329851484"
       ]
      },
      {
       "output_type": "stream",
       "stream": "stdout",
       "text": [
        "\n",
        "2076 = 0.00974986045419"
       ]
      },
      {
       "output_type": "stream",
       "stream": "stdout",
       "text": [
        "\n",
        "2077 = 0.00996944173242"
       ]
      },
      {
       "output_type": "stream",
       "stream": "stdout",
       "text": [
        "\n",
        "2078 = 0.00980248577642"
       ]
      },
      {
       "output_type": "stream",
       "stream": "stdout",
       "text": [
        "\n",
        "2079 = 0.00975095639613"
       ]
      },
      {
       "output_type": "stream",
       "stream": "stdout",
       "text": [
        "\n",
        "2080 = 0.00995769460106"
       ]
      },
      {
       "output_type": "stream",
       "stream": "stdout",
       "text": [
        "\n",
        "2081 = 0.0103511683999"
       ]
      },
      {
       "output_type": "stream",
       "stream": "stdout",
       "text": [
        "\n",
        "2082 = 0.00987504713229"
       ]
      },
      {
       "output_type": "stream",
       "stream": "stdout",
       "text": [
        "\n",
        "2083 = 0.00984423290363"
       ]
      },
      {
       "output_type": "stream",
       "stream": "stdout",
       "text": [
        "\n",
        "2084 = 0.00979062347832"
       ]
      },
      {
       "output_type": "stream",
       "stream": "stdout",
       "text": [
        "\n",
        "2085 = 0.00979753582537"
       ]
      },
      {
       "output_type": "stream",
       "stream": "stdout",
       "text": [
        "\n",
        "2086 = 0.00979010636157"
       ]
      },
      {
       "output_type": "stream",
       "stream": "stdout",
       "text": [
        "\n",
        "2087 = 0.00975933637715"
       ]
      },
      {
       "output_type": "stream",
       "stream": "stdout",
       "text": [
        "\n",
        "2088 = 0.00994743620341"
       ]
      },
      {
       "output_type": "stream",
       "stream": "stdout",
       "text": [
        "\n",
        "2089 = 0.00980031243175"
       ]
      },
      {
       "output_type": "stream",
       "stream": "stdout",
       "text": [
        "\n",
        "2090 = 0.00967696229721"
       ]
      },
      {
       "output_type": "stream",
       "stream": "stdout",
       "text": [
        "\n",
        "2091 = 0.010779274035"
       ]
      },
      {
       "output_type": "stream",
       "stream": "stdout",
       "text": [
        "\n",
        "2092 = 0.00971437654383"
       ]
      },
      {
       "output_type": "stream",
       "stream": "stdout",
       "text": [
        "\n",
        "2093 = 0.00960505519752"
       ]
      },
      {
       "output_type": "stream",
       "stream": "stdout",
       "text": [
        "\n",
        "2094 = 0.00989425895698"
       ]
      },
      {
       "output_type": "stream",
       "stream": "stdout",
       "text": [
        "\n",
        "2095 = 0.0097342890657"
       ]
      },
      {
       "output_type": "stream",
       "stream": "stdout",
       "text": [
        "\n",
        "2096 = 0.0097025036189"
       ]
      },
      {
       "output_type": "stream",
       "stream": "stdout",
       "text": [
        "\n",
        "2097 = 0.00985436643839"
       ]
      },
      {
       "output_type": "stream",
       "stream": "stdout",
       "text": [
        "\n",
        "2098 = 0.00977792605525"
       ]
      },
      {
       "output_type": "stream",
       "stream": "stdout",
       "text": [
        "\n",
        "2099 = 0.00970495650584"
       ]
      },
      {
       "output_type": "stream",
       "stream": "stdout",
       "text": [
        "\n",
        "2100 = 0.0107484720847"
       ]
      },
      {
       "output_type": "stream",
       "stream": "stdout",
       "text": [
        "\n",
        "2101 = 0.00967388464698"
       ]
      },
      {
       "output_type": "stream",
       "stream": "stdout",
       "text": [
        "\n",
        "2102 = 0.00983867372797"
       ]
      },
      {
       "output_type": "stream",
       "stream": "stdout",
       "text": [
        "\n",
        "2103 = 0.00983589580705"
       ]
      },
      {
       "output_type": "stream",
       "stream": "stdout",
       "text": [
        "\n",
        "2104 = 0.00975079570328"
       ]
      },
      {
       "output_type": "stream",
       "stream": "stdout",
       "text": [
        "\n",
        "2105 = 0.00982631711684"
       ]
      },
      {
       "output_type": "stream",
       "stream": "stdout",
       "text": [
        "\n",
        "2106 = 0.00990689453038"
       ]
      },
      {
       "output_type": "stream",
       "stream": "stdout",
       "text": [
        "\n",
        "2107 = 0.00975115548706"
       ]
      },
      {
       "output_type": "stream",
       "stream": "stdout",
       "text": [
        "\n",
        "2108 = 0.0100059803788"
       ]
      },
      {
       "output_type": "stream",
       "stream": "stdout",
       "text": [
        "\n",
        "2109 = 0.0106961299558"
       ]
      },
      {
       "output_type": "stream",
       "stream": "stdout",
       "text": [
        "\n",
        "2110 = 0.00965912382018"
       ]
      },
      {
       "output_type": "stream",
       "stream": "stdout",
       "text": [
        "\n",
        "2111 = 0.0100075675392"
       ]
      },
      {
       "output_type": "stream",
       "stream": "stdout",
       "text": [
        "\n",
        "2112 = 0.00977629292813"
       ]
      },
      {
       "output_type": "stream",
       "stream": "stdout",
       "text": [
        "\n",
        "2113 = 0.00969728193522"
       ]
      },
      {
       "output_type": "stream",
       "stream": "stdout",
       "text": [
        "\n",
        "2114 = 0.00987991798243"
       ]
      },
      {
       "output_type": "stream",
       "stream": "stdout",
       "text": [
        "\n",
        "2115 = 0.00985795526966"
       ]
      },
      {
       "output_type": "stream",
       "stream": "stdout",
       "text": [
        "\n",
        "2116 = 0.00971067509514"
       ]
      },
      {
       "output_type": "stream",
       "stream": "stdout",
       "text": [
        "\n",
        "2117 = 0.00999213845665"
       ]
      },
      {
       "output_type": "stream",
       "stream": "stdout",
       "text": [
        "\n",
        "2118 = 0.0107817912553"
       ]
      },
      {
       "output_type": "stream",
       "stream": "stdout",
       "text": [
        "\n",
        "2119 = 0.0097083734021"
       ]
      },
      {
       "output_type": "stream",
       "stream": "stdout",
       "text": [
        "\n",
        "2120 = 0.0100169419984"
       ]
      },
      {
       "output_type": "stream",
       "stream": "stdout",
       "text": [
        "\n",
        "2121 = 0.00991212794131"
       ]
      },
      {
       "output_type": "stream",
       "stream": "stdout",
       "text": [
        "\n",
        "2122 = 0.00970911116368"
       ]
      },
      {
       "output_type": "stream",
       "stream": "stdout",
       "text": [
        "\n",
        "2123 = 0.0100140906703"
       ]
      },
      {
       "output_type": "stream",
       "stream": "stdout",
       "text": [
        "\n",
        "2124 = 0.00985144165236"
       ]
      },
      {
       "output_type": "stream",
       "stream": "stdout",
       "text": [
        "\n",
        "2125 = 0.00978583815645"
       ]
      },
      {
       "output_type": "stream",
       "stream": "stdout",
       "text": [
        "\n",
        "2126 = 0.0100181569375"
       ]
      },
      {
       "output_type": "stream",
       "stream": "stdout",
       "text": [
        "\n",
        "2127 = 0.0104735959233"
       ]
      },
      {
       "output_type": "stream",
       "stream": "stdout",
       "text": [
        "\n",
        "2128 = 0.00988816033505"
       ]
      },
      {
       "output_type": "stream",
       "stream": "stdout",
       "text": [
        "\n",
        "2129 = 0.00999395467984"
       ]
      },
      {
       "output_type": "stream",
       "stream": "stdout",
       "text": [
        "\n",
        "2130 = 0.009855659431"
       ]
      },
      {
       "output_type": "stream",
       "stream": "stdout",
       "text": [
        "\n",
        "2131 = 0.00974649282598"
       ]
      },
      {
       "output_type": "stream",
       "stream": "stdout",
       "text": [
        "\n",
        "2132 = 0.0100045526167"
       ]
      },
      {
       "output_type": "stream",
       "stream": "stdout",
       "text": [
        "\n",
        "2133 = 0.00978201856079"
       ]
      },
      {
       "output_type": "stream",
       "stream": "stdout",
       "text": [
        "\n",
        "2134 = 0.00970832364685"
       ]
      },
      {
       "output_type": "stream",
       "stream": "stdout",
       "text": [
        "\n",
        "2135 = 0.0099968131851"
       ]
      },
      {
       "output_type": "stream",
       "stream": "stdout",
       "text": [
        "\n",
        "2136 = 0.0104075050856"
       ]
      },
      {
       "output_type": "stream",
       "stream": "stdout",
       "text": [
        "\n",
        "2137 = 0.0099241001806"
       ]
      },
      {
       "output_type": "stream",
       "stream": "stdout",
       "text": [
        "\n",
        "2138 = 0.00991486922023"
       ]
      },
      {
       "output_type": "stream",
       "stream": "stdout",
       "text": [
        "\n",
        "2139 = 0.00986965917509"
       ]
      },
      {
       "output_type": "stream",
       "stream": "stdout",
       "text": [
        "\n",
        "2140 = 0.00978557003002"
       ]
      },
      {
       "output_type": "stream",
       "stream": "stdout",
       "text": [
        "\n",
        "2141 = 0.00997929647591"
       ]
      },
      {
       "output_type": "stream",
       "stream": "stdout",
       "text": [
        "\n",
        "2142 = 0.00987773564852"
       ]
      },
      {
       "output_type": "stream",
       "stream": "stdout",
       "text": [
        "\n",
        "2143 = 0.00978514485776"
       ]
      },
      {
       "output_type": "stream",
       "stream": "stdout",
       "text": [
        "\n",
        "2144 = 0.0100238988165"
       ]
      },
      {
       "output_type": "stream",
       "stream": "stdout",
       "text": [
        "\n",
        "2145 = 0.00990717349096"
       ]
      },
      {
       "output_type": "stream",
       "stream": "stdout",
       "text": [
        "\n",
        "2146 = 0.0106288667483"
       ]
      },
      {
       "output_type": "stream",
       "stream": "stdout",
       "text": [
        "\n",
        "2147 = 0.0100200661457"
       ]
      },
      {
       "output_type": "stream",
       "stream": "stdout",
       "text": [
        "\n",
        "2148 = 0.00985633583629"
       ]
      },
      {
       "output_type": "stream",
       "stream": "stdout",
       "text": [
        "\n",
        "2149 = 0.009790619052"
       ]
      },
      {
       "output_type": "stream",
       "stream": "stdout",
       "text": [
        "\n",
        "2150 = 0.00995734919415"
       ]
      },
      {
       "output_type": "stream",
       "stream": "stdout",
       "text": [
        "\n",
        "2151 = 0.0098953512477"
       ]
      },
      {
       "output_type": "stream",
       "stream": "stdout",
       "text": [
        "\n",
        "2152 = 0.00976546815509"
       ]
      },
      {
       "output_type": "stream",
       "stream": "stdout",
       "text": [
        "\n",
        "2153 = 0.00997495629336"
       ]
      },
      {
       "output_type": "stream",
       "stream": "stdout",
       "text": [
        "\n",
        "2154 = 0.00983217209236"
       ]
      },
      {
       "output_type": "stream",
       "stream": "stdout",
       "text": [
        "\n",
        "2155 = 0.00980232548736"
       ]
      },
      {
       "output_type": "stream",
       "stream": "stdout",
       "text": [
        "\n",
        "2156 = 0.0108126686774"
       ]
      },
      {
       "output_type": "stream",
       "stream": "stdout",
       "text": [
        "\n",
        "2157 = 0.00982604316661"
       ]
      },
      {
       "output_type": "stream",
       "stream": "stdout",
       "text": [
        "\n",
        "2158 = 0.00986387253374"
       ]
      },
      {
       "output_type": "stream",
       "stream": "stdout",
       "text": [
        "\n",
        "2159 = 0.00997490047154"
       ]
      },
      {
       "output_type": "stream",
       "stream": "stdout",
       "text": [
        "\n",
        "2160 = 0.00979784723088"
       ]
      },
      {
       "output_type": "stream",
       "stream": "stdout",
       "text": [
        "\n",
        "2161 = 0.00977312362103"
       ]
      },
      {
       "output_type": "stream",
       "stream": "stdout",
       "text": [
        "\n",
        "2162 = 0.00998447672709"
       ]
      },
      {
       "output_type": "stream",
       "stream": "stdout",
       "text": [
        "\n",
        "2163 = 0.00988771028846"
       ]
      },
      {
       "output_type": "stream",
       "stream": "stdout",
       "text": [
        "\n",
        "2164 = 0.0098154351284"
       ]
      },
      {
       "output_type": "stream",
       "stream": "stdout",
       "text": [
        "\n",
        "2165 = 0.0109895523563"
       ]
      },
      {
       "output_type": "stream",
       "stream": "stdout",
       "text": [
        "\n",
        "2166 = 0.00988657201562"
       ]
      },
      {
       "output_type": "stream",
       "stream": "stdout",
       "text": [
        "\n",
        "2167 = 0.00973164036103"
       ]
      },
      {
       "output_type": "stream",
       "stream": "stdout",
       "text": [
        "\n",
        "2168 = 0.0100385819566"
       ]
      },
      {
       "output_type": "stream",
       "stream": "stdout",
       "text": [
        "\n",
        "2169 = 0.00985476702101"
       ]
      },
      {
       "output_type": "stream",
       "stream": "stdout",
       "text": [
        "\n",
        "2170 = 0.00965465588907"
       ]
      },
      {
       "output_type": "stream",
       "stream": "stdout",
       "text": [
        "\n",
        "2171 = 0.0100171237045"
       ]
      },
      {
       "output_type": "stream",
       "stream": "stdout",
       "text": [
        "\n",
        "2172 = 0.00988437908503"
       ]
      },
      {
       "output_type": "stream",
       "stream": "stdout",
       "text": [
        "\n",
        "2173 = 0.00968395375574"
       ]
      },
      {
       "output_type": "stream",
       "stream": "stdout",
       "text": [
        "\n",
        "2174 = 0.0100692790228"
       ]
      },
      {
       "output_type": "stream",
       "stream": "stdout",
       "text": [
        "\n",
        "2175 = 0.0107596523287"
       ]
      },
      {
       "output_type": "stream",
       "stream": "stdout",
       "text": [
        "\n",
        "2176 = 0.0097290107659"
       ]
      },
      {
       "output_type": "stream",
       "stream": "stdout",
       "text": [
        "\n",
        "2177 = 0.0100307619999"
       ]
      },
      {
       "output_type": "stream",
       "stream": "stdout",
       "text": [
        "\n",
        "2178 = 0.00983226271589"
       ]
      },
      {
       "output_type": "stream",
       "stream": "stdout",
       "text": [
        "\n",
        "2179 = 0.00981083194745"
       ]
      },
      {
       "output_type": "stream",
       "stream": "stdout",
       "text": [
        "\n",
        "2180 = 0.0100142001383"
       ]
      },
      {
       "output_type": "stream",
       "stream": "stdout",
       "text": [
        "\n",
        "2181 = 0.00984507085952"
       ]
      },
      {
       "output_type": "stream",
       "stream": "stdout",
       "text": [
        "\n",
        "2182 = 0.00975162662689"
       ]
      },
      {
       "output_type": "stream",
       "stream": "stdout",
       "text": [
        "\n",
        "2183 = 0.00996453592954"
       ]
      },
      {
       "output_type": "stream",
       "stream": "stdout",
       "text": [
        "\n",
        "2184 = 0.00991169295232"
       ]
      },
      {
       "output_type": "stream",
       "stream": "stdout",
       "text": [
        "\n",
        "2185 = 0.0106577929229"
       ]
      },
      {
       "output_type": "stream",
       "stream": "stdout",
       "text": [
        "\n",
        "2186 = 0.00981445970704"
       ]
      },
      {
       "output_type": "stream",
       "stream": "stdout",
       "text": [
        "\n",
        "2187 = 0.0100398578236"
       ]
      },
      {
       "output_type": "stream",
       "stream": "stdout",
       "text": [
        "\n",
        "2188 = 0.00987544313108"
       ]
      },
      {
       "output_type": "stream",
       "stream": "stdout",
       "text": [
        "\n",
        "2189 = 0.00973433973088"
       ]
      },
      {
       "output_type": "stream",
       "stream": "stdout",
       "text": [
        "\n",
        "2190 = 0.0101291721354"
       ]
      },
      {
       "output_type": "stream",
       "stream": "stdout",
       "text": [
        "\n",
        "2191 = 0.00989701456464"
       ]
      },
      {
       "output_type": "stream",
       "stream": "stdout",
       "text": [
        "\n",
        "2192 = 0.00979178931883"
       ]
      },
      {
       "output_type": "stream",
       "stream": "stdout",
       "text": [
        "\n",
        "2193 = 0.0100828248319"
       ]
      },
      {
       "output_type": "stream",
       "stream": "stdout",
       "text": [
        "\n",
        "2194 = 0.00990466112801"
       ]
      },
      {
       "output_type": "stream",
       "stream": "stdout",
       "text": [
        "\n",
        "2195 = 0.0107342879174"
       ]
      },
      {
       "output_type": "stream",
       "stream": "stdout",
       "text": [
        "\n",
        "2196 = 0.00993877685186"
       ]
      },
      {
       "output_type": "stream",
       "stream": "stdout",
       "text": [
        "\n",
        "2197 = 0.00993664090043"
       ]
      },
      {
       "output_type": "stream",
       "stream": "stdout",
       "text": [
        "\n",
        "2198 = 0.00988266723393"
       ]
      },
      {
       "output_type": "stream",
       "stream": "stdout",
       "text": [
        "\n",
        "2199 = 0.00982476986352"
       ]
      },
      {
       "output_type": "stream",
       "stream": "stdout",
       "text": [
        "\n",
        "2200 = 0.0100998010709"
       ]
      },
      {
       "output_type": "stream",
       "stream": "stdout",
       "text": [
        "\n",
        "2201 = 0.00988680091966"
       ]
      },
      {
       "output_type": "stream",
       "stream": "stdout",
       "text": [
        "\n",
        "2202 = 0.0097798996078"
       ]
      },
      {
       "output_type": "stream",
       "stream": "stdout",
       "text": [
        "\n",
        "2203 = 0.0100619992553"
       ]
      },
      {
       "output_type": "stream",
       "stream": "stdout",
       "text": [
        "\n",
        "2204 = 0.00998207350144"
       ]
      },
      {
       "output_type": "stream",
       "stream": "stdout",
       "text": [
        "\n",
        "2205 = 0.0105573021124"
       ]
      },
      {
       "output_type": "stream",
       "stream": "stdout",
       "text": [
        "\n",
        "2206 = 0.00991554241105"
       ]
      },
      {
       "output_type": "stream",
       "stream": "stdout",
       "text": [
        "\n",
        "2207 = 0.00998100198722"
       ]
      },
      {
       "output_type": "stream",
       "stream": "stdout",
       "text": [
        "\n",
        "2208 = 0.00980640779707"
       ]
      },
      {
       "output_type": "stream",
       "stream": "stdout",
       "text": [
        "\n",
        "2209 = 0.00980846996045"
       ]
      },
      {
       "output_type": "stream",
       "stream": "stdout",
       "text": [
        "\n",
        "2210 = 0.0100228997759"
       ]
      },
      {
       "output_type": "stream",
       "stream": "stdout",
       "text": [
        "\n",
        "2211 = 0.00988701710781"
       ]
      },
      {
       "output_type": "stream",
       "stream": "stdout",
       "text": [
        "\n",
        "2212 = 0.00978638753234"
       ]
      },
      {
       "output_type": "stream",
       "stream": "stdout",
       "text": [
        "\n",
        "2213 = 0.00993700467314"
       ]
      },
      {
       "output_type": "stream",
       "stream": "stdout",
       "text": [
        "\n",
        "2214 = 0.0109791885643"
       ]
      },
      {
       "output_type": "stream",
       "stream": "stdout",
       "text": [
        "\n",
        "2215 = 0.009858371236"
       ]
      },
      {
       "output_type": "stream",
       "stream": "stdout",
       "text": [
        "\n",
        "2216 = 0.00974029510279"
       ]
      },
      {
       "output_type": "stream",
       "stream": "stdout",
       "text": [
        "\n",
        "2217 = 0.010015910125"
       ]
      },
      {
       "output_type": "stream",
       "stream": "stdout",
       "text": [
        "\n",
        "2218 = 0.00991837995878"
       ]
      },
      {
       "output_type": "stream",
       "stream": "stdout",
       "text": [
        "\n",
        "2219 = 0.00981709697069"
       ]
      },
      {
       "output_type": "stream",
       "stream": "stdout",
       "text": [
        "\n",
        "2220 = 0.00983909092339"
       ]
      },
      {
       "output_type": "stream",
       "stream": "stdout",
       "text": [
        "\n",
        "2221 = 0.0101237860907"
       ]
      },
      {
       "output_type": "stream",
       "stream": "stdout",
       "text": [
        "\n",
        "2222 = 0.00984510892915"
       ]
      },
      {
       "output_type": "stream",
       "stream": "stdout",
       "text": [
        "\n",
        "2223 = 0.00979302742937"
       ]
      },
      {
       "output_type": "stream",
       "stream": "stdout",
       "text": [
        "\n",
        "2224 = 0.0107138882143"
       ]
      },
      {
       "output_type": "stream",
       "stream": "stdout",
       "text": [
        "\n",
        "2225 = 0.0101056718125"
       ]
      },
      {
       "output_type": "stream",
       "stream": "stdout",
       "text": [
        "\n",
        "2226 = 0.00989517922412"
       ]
      },
      {
       "output_type": "stream",
       "stream": "stdout",
       "text": [
        "\n",
        "2227 = 0.00975798220796"
       ]
      },
      {
       "output_type": "stream",
       "stream": "stdout",
       "text": [
        "\n",
        "2228 = 0.0100106067851"
       ]
      },
      {
       "output_type": "stream",
       "stream": "stdout",
       "text": [
        "\n",
        "2229 = 0.0100040891478"
       ]
      },
      {
       "output_type": "stream",
       "stream": "stdout",
       "text": [
        "\n",
        "2230 = 0.00987857941414"
       ]
      },
      {
       "output_type": "stream",
       "stream": "stdout",
       "text": [
        "\n",
        "2231 = 0.00982895199256"
       ]
      },
      {
       "output_type": "stream",
       "stream": "stdout",
       "text": [
        "\n",
        "2232 = 0.0100776348344"
       ]
      },
      {
       "output_type": "stream",
       "stream": "stdout",
       "text": [
        "\n",
        "2233 = 0.00995292575126"
       ]
      },
      {
       "output_type": "stream",
       "stream": "stdout",
       "text": [
        "\n",
        "2234 = 0.0105754401121"
       ]
      },
      {
       "output_type": "stream",
       "stream": "stdout",
       "text": [
        "\n",
        "2235 = 0.00988260209761"
       ]
      },
      {
       "output_type": "stream",
       "stream": "stdout",
       "text": [
        "\n",
        "2236 = 0.0100984629534"
       ]
      },
      {
       "output_type": "stream",
       "stream": "stdout",
       "text": [
        "\n",
        "2237 = 0.00991596892393"
       ]
      },
      {
       "output_type": "stream",
       "stream": "stdout",
       "text": [
        "\n",
        "2238 = 0.00979530961076"
       ]
      },
      {
       "output_type": "stream",
       "stream": "stdout",
       "text": [
        "\n",
        "2239 = 0.00987012156288"
       ]
      },
      {
       "output_type": "stream",
       "stream": "stdout",
       "text": [
        "\n",
        "2240 = 0.0101281762891"
       ]
      },
      {
       "output_type": "stream",
       "stream": "stdout",
       "text": [
        "\n",
        "2241 = 0.0099698609109"
       ]
      },
      {
       "output_type": "stream",
       "stream": "stdout",
       "text": [
        "\n",
        "2242 = 0.00985643934358"
       ]
      },
      {
       "output_type": "stream",
       "stream": "stdout",
       "text": [
        "\n",
        "2243 = 0.00989192942603"
       ]
      },
      {
       "output_type": "stream",
       "stream": "stdout",
       "text": [
        "\n",
        "2244 = 0.0108595801598"
       ]
      },
      {
       "output_type": "stream",
       "stream": "stdout",
       "text": [
        "\n",
        "2245 = 0.00993175340244"
       ]
      },
      {
       "output_type": "stream",
       "stream": "stdout",
       "text": [
        "\n",
        "2246 = 0.00985338364593"
       ]
      },
      {
       "output_type": "stream",
       "stream": "stdout",
       "text": [
        "\n",
        "2247 = 0.00978138506157"
       ]
      },
      {
       "output_type": "stream",
       "stream": "stdout",
       "text": [
        "\n",
        "2248 = 0.0100618226245"
       ]
      },
      {
       "output_type": "stream",
       "stream": "stdout",
       "text": [
        "\n",
        "2249 = 0.0099762865054"
       ]
      },
      {
       "output_type": "stream",
       "stream": "stdout",
       "text": [
        "\n",
        "2250 = 0.00984643078281"
       ]
      },
      {
       "output_type": "stream",
       "stream": "stdout",
       "text": [
        "\n",
        "2251 = 0.0098327358987"
       ]
      },
      {
       "output_type": "stream",
       "stream": "stdout",
       "text": [
        "\n",
        "2252 = 0.0100255261132"
       ]
      },
      {
       "output_type": "stream",
       "stream": "stdout",
       "text": [
        "\n",
        "2253 = 0.00995340788946"
       ]
      },
      {
       "output_type": "stream",
       "stream": "stdout",
       "text": [
        "\n",
        "2254 = 0.0106255728067"
       ]
      },
      {
       "output_type": "stream",
       "stream": "stdout",
       "text": [
        "\n",
        "2255 = 0.00992908991522"
       ]
      },
      {
       "output_type": "stream",
       "stream": "stdout",
       "text": [
        "\n",
        "2256 = 0.00980482959345"
       ]
      },
      {
       "output_type": "stream",
       "stream": "stdout",
       "text": [
        "\n",
        "2257 = 0.0100017461483"
       ]
      },
      {
       "output_type": "stream",
       "stream": "stdout",
       "text": [
        "\n",
        "2258 = 0.00984516683126"
       ]
      },
      {
       "output_type": "stream",
       "stream": "stdout",
       "text": [
        "\n",
        "2259 = 0.00977033294897"
       ]
      },
      {
       "output_type": "stream",
       "stream": "stdout",
       "text": [
        "\n",
        "2260 = 0.00976286134504"
       ]
      },
      {
       "output_type": "stream",
       "stream": "stdout",
       "text": [
        "\n",
        "2261 = 0.0100361481727"
       ]
      },
      {
       "output_type": "stream",
       "stream": "stdout",
       "text": [
        "\n",
        "2262 = 0.00993214832715"
       ]
      },
      {
       "output_type": "stream",
       "stream": "stdout",
       "text": [
        "\n",
        "2263 = 0.00970813312044"
       ]
      },
      {
       "output_type": "stream",
       "stream": "stdout",
       "text": [
        "\n",
        "2264 = 0.010518232179"
       ]
      },
      {
       "output_type": "stream",
       "stream": "stdout",
       "text": [
        "\n",
        "2265 = 0.00994083719746"
       ]
      },
      {
       "output_type": "stream",
       "stream": "stdout",
       "text": [
        "\n",
        "2266 = 0.0100001059493"
       ]
      },
      {
       "output_type": "stream",
       "stream": "stdout",
       "text": [
        "\n",
        "2267 = 0.00982442064516"
       ]
      },
      {
       "output_type": "stream",
       "stream": "stdout",
       "text": [
        "\n",
        "2268 = 0.00982915773409"
       ]
      },
      {
       "output_type": "stream",
       "stream": "stdout",
       "text": [
        "\n",
        "2269 = 0.00978735372327"
       ]
      },
      {
       "output_type": "stream",
       "stream": "stdout",
       "text": [
        "\n",
        "2270 = 0.00999998963354"
       ]
      },
      {
       "output_type": "stream",
       "stream": "stdout",
       "text": [
        "\n",
        "2271 = 0.00991073000253"
       ]
      },
      {
       "output_type": "stream",
       "stream": "stdout",
       "text": [
        "\n",
        "2272 = 0.0098052248945"
       ]
      },
      {
       "output_type": "stream",
       "stream": "stdout",
       "text": [
        "\n",
        "2273 = 0.0097500239478"
       ]
      },
      {
       "output_type": "stream",
       "stream": "stdout",
       "text": [
        "\n",
        "2274 = 0.0102771910336"
       ]
      },
      {
       "output_type": "stream",
       "stream": "stdout",
       "text": [
        "\n",
        "2275 = 0.0100513743557"
       ]
      },
      {
       "output_type": "stream",
       "stream": "stdout",
       "text": [
        "\n",
        "2276 = 0.00998450408454"
       ]
      },
      {
       "output_type": "stream",
       "stream": "stdout",
       "text": [
        "\n",
        "2277 = 0.00984068331434"
       ]
      },
      {
       "output_type": "stream",
       "stream": "stdout",
       "text": [
        "\n",
        "2278 = 0.00973865921905"
       ]
      },
      {
       "output_type": "stream",
       "stream": "stdout",
       "text": [
        "\n",
        "2279 = 0.00995112217203"
       ]
      },
      {
       "output_type": "stream",
       "stream": "stdout",
       "text": [
        "\n",
        "2280 = 0.0100215423747"
       ]
      },
      {
       "output_type": "stream",
       "stream": "stdout",
       "text": [
        "\n",
        "2281 = 0.00990110837559"
       ]
      },
      {
       "output_type": "stream",
       "stream": "stdout",
       "text": [
        "\n",
        "2282 = 0.00988573260465"
       ]
      },
      {
       "output_type": "stream",
       "stream": "stdout",
       "text": [
        "\n",
        "2283 = 0.0106491984913"
       ]
      },
      {
       "output_type": "stream",
       "stream": "stdout",
       "text": [
        "\n",
        "2284 = 0.0100767495873"
       ]
      },
      {
       "output_type": "stream",
       "stream": "stdout",
       "text": [
        "\n",
        "2285 = 0.00994475291094"
       ]
      },
      {
       "output_type": "stream",
       "stream": "stdout",
       "text": [
        "\n",
        "2286 = 0.00990939726086"
       ]
      },
      {
       "output_type": "stream",
       "stream": "stdout",
       "text": [
        "\n",
        "2287 = 0.0098068380833"
       ]
      },
      {
       "output_type": "stream",
       "stream": "stdout",
       "text": [
        "\n",
        "2288 = 0.00971164241943"
       ]
      },
      {
       "output_type": "stream",
       "stream": "stdout",
       "text": [
        "\n",
        "2289 = 0.0100538897764"
       ]
      },
      {
       "output_type": "stream",
       "stream": "stdout",
       "text": [
        "\n",
        "2290 = 0.0100423457371"
       ]
      },
      {
       "output_type": "stream",
       "stream": "stdout",
       "text": [
        "\n",
        "2291 = 0.00987928433"
       ]
      },
      {
       "output_type": "stream",
       "stream": "stdout",
       "text": [
        "\n",
        "2292 = 0.00987529024577"
       ]
      },
      {
       "output_type": "stream",
       "stream": "stdout",
       "text": [
        "\n",
        "2293 = 0.00975875313084"
       ]
      },
      {
       "output_type": "stream",
       "stream": "stdout",
       "text": [
        "\n",
        "2294 = 0.0108370771433"
       ]
      },
      {
       "output_type": "stream",
       "stream": "stdout",
       "text": [
        "\n",
        "2295 = 0.0100573693985"
       ]
      },
      {
       "output_type": "stream",
       "stream": "stdout",
       "text": [
        "\n",
        "2296 = 0.0100052587249"
       ]
      },
      {
       "output_type": "stream",
       "stream": "stdout",
       "text": [
        "\n",
        "2297 = 0.00980440264934"
       ]
      },
      {
       "output_type": "stream",
       "stream": "stdout",
       "text": [
        "\n",
        "2298 = 0.00976723253192"
       ]
      },
      {
       "output_type": "stream",
       "stream": "stdout",
       "text": [
        "\n",
        "2299 = 0.00985222558915"
       ]
      },
      {
       "output_type": "stream",
       "stream": "stdout",
       "text": [
        "\n",
        "2300 = 0.0100579976427"
       ]
      },
      {
       "output_type": "stream",
       "stream": "stdout",
       "text": [
        "\n",
        "2301 = 0.00992039205821"
       ]
      },
      {
       "output_type": "stream",
       "stream": "stdout",
       "text": [
        "\n",
        "2302 = 0.00988555220752"
       ]
      },
      {
       "output_type": "stream",
       "stream": "stdout",
       "text": [
        "\n",
        "2303 = 0.0106726547322"
       ]
      },
      {
       "output_type": "stream",
       "stream": "stdout",
       "text": [
        "\n",
        "2304 = 0.00979512177203"
       ]
      },
      {
       "output_type": "stream",
       "stream": "stdout",
       "text": [
        "\n",
        "2305 = 0.00994143352923"
       ]
      },
      {
       "output_type": "stream",
       "stream": "stdout",
       "text": [
        "\n",
        "2306 = 0.00996001196347"
       ]
      },
      {
       "output_type": "stream",
       "stream": "stdout",
       "text": [
        "\n",
        "2307 = 0.00984434344505"
       ]
      },
      {
       "output_type": "stream",
       "stream": "stdout",
       "text": [
        "\n",
        "2308 = 0.00985637855129"
       ]
      },
      {
       "output_type": "stream",
       "stream": "stdout",
       "text": [
        "\n",
        "2309 = 0.00970889856324"
       ]
      },
      {
       "output_type": "stream",
       "stream": "stdout",
       "text": [
        "\n",
        "2310 = 0.00988394967166"
       ]
      },
      {
       "output_type": "stream",
       "stream": "stdout",
       "text": [
        "\n",
        "2311 = 0.0100178398563"
       ]
      },
      {
       "output_type": "stream",
       "stream": "stdout",
       "text": [
        "\n",
        "2312 = 0.00998360443827"
       ]
      },
      {
       "output_type": "stream",
       "stream": "stdout",
       "text": [
        "\n",
        "2313 = 0.0108179388199"
       ]
      },
      {
       "output_type": "stream",
       "stream": "stdout",
       "text": [
        "\n",
        "2314 = 0.00985177844428"
       ]
      },
      {
       "output_type": "stream",
       "stream": "stdout",
       "text": [
        "\n",
        "2315 = 0.00973550897911"
       ]
      },
      {
       "output_type": "stream",
       "stream": "stdout",
       "text": [
        "\n",
        "2316 = 0.00987970877146"
       ]
      },
      {
       "output_type": "stream",
       "stream": "stdout",
       "text": [
        "\n",
        "2317 = 0.0100988223979"
       ]
      },
      {
       "output_type": "stream",
       "stream": "stdout",
       "text": [
        "\n",
        "2318 = 0.00988194964296"
       ]
      },
      {
       "output_type": "stream",
       "stream": "stdout",
       "text": [
        "\n",
        "2319 = 0.00980295887281"
       ]
      },
      {
       "output_type": "stream",
       "stream": "stdout",
       "text": [
        "\n",
        "2320 = 0.00980770632141"
       ]
      },
      {
       "output_type": "stream",
       "stream": "stdout",
       "text": [
        "\n",
        "2321 = 0.00975691820813"
       ]
      },
      {
       "output_type": "stream",
       "stream": "stdout",
       "text": [
        "\n",
        "2322 = 0.00995262104925"
       ]
      },
      {
       "output_type": "stream",
       "stream": "stdout",
       "text": [
        "\n",
        "2323 = 0.0109635036045"
       ]
      },
      {
       "output_type": "stream",
       "stream": "stdout",
       "text": [
        "\n",
        "2324 = 0.00988047522544"
       ]
      },
      {
       "output_type": "stream",
       "stream": "stdout",
       "text": [
        "\n",
        "2325 = 0.00983166111599"
       ]
      },
      {
       "output_type": "stream",
       "stream": "stdout",
       "text": [
        "\n",
        "2326 = 0.00983454641815"
       ]
      },
      {
       "output_type": "stream",
       "stream": "stdout",
       "text": [
        "\n",
        "2327 = 0.00970345303699"
       ]
      },
      {
       "output_type": "stream",
       "stream": "stdout",
       "text": [
        "\n",
        "2328 = 0.010016823904"
       ]
      },
      {
       "output_type": "stream",
       "stream": "stdout",
       "text": [
        "\n",
        "2329 = 0.0100603866065"
       ]
      },
      {
       "output_type": "stream",
       "stream": "stdout",
       "text": [
        "\n",
        "2330 = 0.00992457509992"
       ]
      },
      {
       "output_type": "stream",
       "stream": "stdout",
       "text": [
        "\n",
        "2331 = 0.00981149550018"
       ]
      },
      {
       "output_type": "stream",
       "stream": "stdout",
       "text": [
        "\n",
        "2332 = 0.0104613581877"
       ]
      },
      {
       "output_type": "stream",
       "stream": "stdout",
       "text": [
        "\n",
        "2333 = 0.00994685280786"
       ]
      },
      {
       "output_type": "stream",
       "stream": "stdout",
       "text": [
        "\n",
        "2334 = 0.00979487024754"
       ]
      },
      {
       "output_type": "stream",
       "stream": "stdout",
       "text": [
        "\n",
        "2335 = 0.0100113365169"
       ]
      },
      {
       "output_type": "stream",
       "stream": "stdout",
       "text": [
        "\n",
        "2336 = 0.00991401269916"
       ]
      },
      {
       "output_type": "stream",
       "stream": "stdout",
       "text": [
        "\n",
        "2337 = 0.00983248878716"
       ]
      },
      {
       "output_type": "stream",
       "stream": "stdout",
       "text": [
        "\n",
        "2338 = 0.00987642189349"
       ]
      },
      {
       "output_type": "stream",
       "stream": "stdout",
       "text": [
        "\n",
        "2339 = 0.00982748452544"
       ]
      },
      {
       "output_type": "stream",
       "stream": "stdout",
       "text": [
        "\n",
        "2340 = 0.00982841407398"
       ]
      },
      {
       "output_type": "stream",
       "stream": "stdout",
       "text": [
        "\n",
        "2341 = 0.0100496301727"
       ]
      },
      {
       "output_type": "stream",
       "stream": "stdout",
       "text": [
        "\n",
        "2342 = 0.0107126081797"
       ]
      },
      {
       "output_type": "stream",
       "stream": "stdout",
       "text": [
        "\n",
        "2343 = 0.0101889466985"
       ]
      },
      {
       "output_type": "stream",
       "stream": "stdout",
       "text": [
        "\n",
        "2344 = 0.00975674484061"
       ]
      },
      {
       "output_type": "stream",
       "stream": "stdout",
       "text": [
        "\n",
        "2345 = 0.00974821354599"
       ]
      },
      {
       "output_type": "stream",
       "stream": "stdout",
       "text": [
        "\n",
        "2346 = 0.00969970619034"
       ]
      },
      {
       "output_type": "stream",
       "stream": "stdout",
       "text": [
        "\n",
        "2347 = 0.00983523047426"
       ]
      },
      {
       "output_type": "stream",
       "stream": "stdout",
       "text": [
        "\n",
        "2348 = 0.0100400147819"
       ]
      },
      {
       "output_type": "stream",
       "stream": "stdout",
       "text": [
        "\n",
        "2349 = 0.0100710302592"
       ]
      },
      {
       "output_type": "stream",
       "stream": "stdout",
       "text": [
        "\n",
        "2350 = 0.00988539905628"
       ]
      },
      {
       "output_type": "stream",
       "stream": "stdout",
       "text": [
        "\n",
        "2351 = 0.00983583072135"
       ]
      },
      {
       "output_type": "stream",
       "stream": "stdout",
       "text": [
        "\n",
        "2352 = 0.00977560138363"
       ]
      },
      {
       "output_type": "stream",
       "stream": "stdout",
       "text": [
        "\n",
        "2353 = 0.0103032823509"
       ]
      },
      {
       "output_type": "stream",
       "stream": "stdout",
       "text": [
        "\n",
        "2354 = 0.0100432621655"
       ]
      },
      {
       "output_type": "stream",
       "stream": "stdout",
       "text": [
        "\n",
        "2355 = 0.0099430725685"
       ]
      },
      {
       "output_type": "stream",
       "stream": "stdout",
       "text": [
        "\n",
        "2356 = 0.0100091812282"
       ]
      },
      {
       "output_type": "stream",
       "stream": "stdout",
       "text": [
        "\n",
        "2357 = 0.00990468040033"
       ]
      },
      {
       "output_type": "stream",
       "stream": "stdout",
       "text": [
        "\n",
        "2358 = 0.0098129105604"
       ]
      },
      {
       "output_type": "stream",
       "stream": "stdout",
       "text": [
        "\n",
        "2359 = 0.00984528246306"
       ]
      },
      {
       "output_type": "stream",
       "stream": "stdout",
       "text": [
        "\n",
        "2360 = 0.00975999880018"
       ]
      },
      {
       "output_type": "stream",
       "stream": "stdout",
       "text": [
        "\n",
        "2361 = 0.00980387507108"
       ]
      },
      {
       "output_type": "stream",
       "stream": "stdout",
       "text": [
        "\n",
        "2362 = 0.00999816873574"
       ]
      },
      {
       "output_type": "stream",
       "stream": "stdout",
       "text": [
        "\n",
        "2363 = 0.00999888108629"
       ]
      },
      {
       "output_type": "stream",
       "stream": "stdout",
       "text": [
        "\n",
        "2364 = 0.0108861763631"
       ]
      },
      {
       "output_type": "stream",
       "stream": "stdout",
       "text": [
        "\n",
        "2365 = 0.00984200337847"
       ]
      },
      {
       "output_type": "stream",
       "stream": "stdout",
       "text": [
        "\n",
        "2366 = 0.00979975607459"
       ]
      },
      {
       "output_type": "stream",
       "stream": "stdout",
       "text": [
        "\n",
        "2367 = 0.00978711311112"
       ]
      },
      {
       "output_type": "stream",
       "stream": "stdout",
       "text": [
        "\n",
        "2368 = 0.00972498688897"
       ]
      },
      {
       "output_type": "stream",
       "stream": "stdout",
       "text": [
        "\n",
        "2369 = 0.00978796132626"
       ]
      },
      {
       "output_type": "stream",
       "stream": "stdout",
       "text": [
        "\n",
        "2370 = 0.0100037073378"
       ]
      },
      {
       "output_type": "stream",
       "stream": "stdout",
       "text": [
        "\n",
        "2371 = 0.00999995335727"
       ]
      },
      {
       "output_type": "stream",
       "stream": "stdout",
       "text": [
        "\n",
        "2372 = 0.0100353439576"
       ]
      },
      {
       "output_type": "stream",
       "stream": "stdout",
       "text": [
        "\n",
        "2373 = 0.0106726948476"
       ]
      },
      {
       "output_type": "stream",
       "stream": "stdout",
       "text": [
        "\n",
        "2374 = 0.00991789980291"
       ]
      },
      {
       "output_type": "stream",
       "stream": "stdout",
       "text": [
        "\n",
        "2375 = 0.00972507985413"
       ]
      },
      {
       "output_type": "stream",
       "stream": "stdout",
       "text": [
        "\n",
        "2376 = 0.00972917344367"
       ]
      },
      {
       "output_type": "stream",
       "stream": "stdout",
       "text": [
        "\n",
        "2377 = 0.0097878166797"
       ]
      },
      {
       "output_type": "stream",
       "stream": "stdout",
       "text": [
        "\n",
        "2378 = 0.00991362643808"
       ]
      },
      {
       "output_type": "stream",
       "stream": "stdout",
       "text": [
        "\n",
        "2379 = 0.0100374622037"
       ]
      },
      {
       "output_type": "stream",
       "stream": "stdout",
       "text": [
        "\n",
        "2380 = 0.0100723730789"
       ]
      },
      {
       "output_type": "stream",
       "stream": "stdout",
       "text": [
        "\n",
        "2381 = 0.00990387575135"
       ]
      },
      {
       "output_type": "stream",
       "stream": "stdout",
       "text": [
        "\n",
        "2382 = 0.00984320631005"
       ]
      },
      {
       "output_type": "stream",
       "stream": "stdout",
       "text": [
        "\n",
        "2383 = 0.00978908113318"
       ]
      },
      {
       "output_type": "stream",
       "stream": "stdout",
       "text": [
        "\n",
        "2384 = 0.0105409752562"
       ]
      },
      {
       "output_type": "stream",
       "stream": "stdout",
       "text": [
        "\n",
        "2385 = 0.00972908350369"
       ]
      },
      {
       "output_type": "stream",
       "stream": "stdout",
       "text": [
        "\n",
        "2386 = 0.00971371122343"
       ]
      },
      {
       "output_type": "stream",
       "stream": "stdout",
       "text": [
        "\n",
        "2387 = 0.00989243428964"
       ]
      },
      {
       "output_type": "stream",
       "stream": "stdout",
       "text": [
        "\n",
        "2388 = 0.0100617536122"
       ]
      },
      {
       "output_type": "stream",
       "stream": "stdout",
       "text": [
        "\n",
        "2389 = 0.010086263151"
       ]
      },
      {
       "output_type": "stream",
       "stream": "stdout",
       "text": [
        "\n",
        "2390 = 0.00999258849346"
       ]
      },
      {
       "output_type": "stream",
       "stream": "stdout",
       "text": [
        "\n",
        "2391 = 0.00990732243516"
       ]
      },
      {
       "output_type": "stream",
       "stream": "stdout",
       "text": [
        "\n",
        "2392 = 0.00981846201456"
       ]
      },
      {
       "output_type": "stream",
       "stream": "stdout",
       "text": [
        "\n",
        "2393 = 0.00977754581128"
       ]
      },
      {
       "output_type": "stream",
       "stream": "stdout",
       "text": [
        "\n",
        "2394 = 0.0106395454536"
       ]
      },
      {
       "output_type": "stream",
       "stream": "stdout",
       "text": [
        "\n",
        "2395 = 0.00973247597549"
       ]
      },
      {
       "output_type": "stream",
       "stream": "stdout",
       "text": [
        "\n",
        "2396 = 0.00985848776033"
       ]
      },
      {
       "output_type": "stream",
       "stream": "stdout",
       "text": [
        "\n",
        "2397 = 0.0100284908273"
       ]
      },
      {
       "output_type": "stream",
       "stream": "stdout",
       "text": [
        "\n",
        "2398 = 0.0100480638521"
       ]
      },
      {
       "output_type": "stream",
       "stream": "stdout",
       "text": [
        "\n",
        "2399 = 0.00993151826912"
       ]
      },
      {
       "output_type": "stream",
       "stream": "stdout",
       "text": [
        "\n",
        "2400 = 0.00988189475843"
       ]
      },
      {
       "output_type": "stream",
       "stream": "stdout",
       "text": [
        "\n",
        "2401 = 0.00981022500006"
       ]
      },
      {
       "output_type": "stream",
       "stream": "stdout",
       "text": [
        "\n",
        "2402 = 0.00978991979193"
       ]
      },
      {
       "output_type": "stream",
       "stream": "stdout",
       "text": [
        "\n",
        "2403 = 0.00972176861663"
       ]
      },
      {
       "output_type": "stream",
       "stream": "stdout",
       "text": [
        "\n",
        "2404 = 0.0105252645994"
       ]
      },
      {
       "output_type": "stream",
       "stream": "stdout",
       "text": [
        "\n",
        "2405 = 0.0098850129046"
       ]
      },
      {
       "output_type": "stream",
       "stream": "stdout",
       "text": [
        "\n",
        "2406 = 0.00995802733459"
       ]
      },
      {
       "output_type": "stream",
       "stream": "stdout",
       "text": [
        "\n",
        "2407 = 0.0100470540266"
       ]
      },
      {
       "output_type": "stream",
       "stream": "stdout",
       "text": [
        "\n",
        "2408 = 0.0100199463895"
       ]
      },
      {
       "output_type": "stream",
       "stream": "stdout",
       "text": [
        "\n",
        "2409 = 0.00995131941827"
       ]
      },
      {
       "output_type": "stream",
       "stream": "stdout",
       "text": [
        "\n",
        "2410 = 0.00986318711832"
       ]
      },
      {
       "output_type": "stream",
       "stream": "stdout",
       "text": [
        "\n",
        "2411 = 0.00987026054694"
       ]
      },
      {
       "output_type": "stream",
       "stream": "stdout",
       "text": [
        "\n",
        "2412 = 0.00985544928171"
       ]
      },
      {
       "output_type": "stream",
       "stream": "stdout",
       "text": [
        "\n",
        "2413 = 0.00971930016081"
       ]
      },
      {
       "output_type": "stream",
       "stream": "stdout",
       "text": [
        "\n",
        "2414 = 0.0101350980283"
       ]
      },
      {
       "output_type": "stream",
       "stream": "stdout",
       "text": [
        "\n",
        "2415 = 0.010294193369"
       ]
      },
      {
       "output_type": "stream",
       "stream": "stdout",
       "text": [
        "\n",
        "2416 = 0.00985839564468"
       ]
      },
      {
       "output_type": "stream",
       "stream": "stdout",
       "text": [
        "\n",
        "2417 = 0.0100327514118"
       ]
      },
      {
       "output_type": "stream",
       "stream": "stdout",
       "text": [
        "\n",
        "2418 = 0.0101168005964"
       ]
      },
      {
       "output_type": "stream",
       "stream": "stdout",
       "text": [
        "\n",
        "2419 = 0.0100731070384"
       ]
      },
      {
       "output_type": "stream",
       "stream": "stdout",
       "text": [
        "\n",
        "2420 = 0.0100332435609"
       ]
      },
      {
       "output_type": "stream",
       "stream": "stdout",
       "text": [
        "\n",
        "2421 = 0.00999102564882"
       ]
      },
      {
       "output_type": "stream",
       "stream": "stdout",
       "text": [
        "\n",
        "2422 = 0.00998878157782"
       ]
      },
      {
       "output_type": "stream",
       "stream": "stdout",
       "text": [
        "\n",
        "2423 = 0.0107218255196"
       ]
      },
      {
       "output_type": "stream",
       "stream": "stdout",
       "text": [
        "\n",
        "2424 = 0.00999149361419"
       ]
      },
      {
       "output_type": "stream",
       "stream": "stdout",
       "text": [
        "\n",
        "2425 = 0.00979674018038"
       ]
      },
      {
       "output_type": "stream",
       "stream": "stdout",
       "text": [
        "\n",
        "2426 = 0.00982814863306"
       ]
      },
      {
       "output_type": "stream",
       "stream": "stdout",
       "text": [
        "\n",
        "2427 = 0.00982628637767"
       ]
      },
      {
       "output_type": "stream",
       "stream": "stdout",
       "text": [
        "\n",
        "2428 = 0.0100231583559"
       ]
      },
      {
       "output_type": "stream",
       "stream": "stdout",
       "text": [
        "\n",
        "2429 = 0.010073827281"
       ]
      },
      {
       "output_type": "stream",
       "stream": "stdout",
       "text": [
        "\n",
        "2430 = 0.0101405393668"
       ]
      },
      {
       "output_type": "stream",
       "stream": "stdout",
       "text": [
        "\n",
        "2431 = 0.0101642917908"
       ]
      },
      {
       "output_type": "stream",
       "stream": "stdout",
       "text": [
        "\n",
        "2432 = 0.0100878145179"
       ]
      },
      {
       "output_type": "stream",
       "stream": "stdout",
       "text": [
        "\n",
        "2433 = 0.00999530144707"
       ]
      },
      {
       "output_type": "stream",
       "stream": "stdout",
       "text": [
        "\n",
        "2434 = 0.0106252254941"
       ]
      },
      {
       "output_type": "stream",
       "stream": "stdout",
       "text": [
        "\n",
        "2435 = 0.00984342241351"
       ]
      },
      {
       "output_type": "stream",
       "stream": "stdout",
       "text": [
        "\n",
        "2436 = 0.00985044210609"
       ]
      },
      {
       "output_type": "stream",
       "stream": "stdout",
       "text": [
        "\n",
        "2437 = 0.00977376079435"
       ]
      },
      {
       "output_type": "stream",
       "stream": "stdout",
       "text": [
        "\n",
        "2438 = 0.00980931945761"
       ]
      },
      {
       "output_type": "stream",
       "stream": "stdout",
       "text": [
        "\n",
        "2439 = 0.0099462012351"
       ]
      },
      {
       "output_type": "stream",
       "stream": "stdout",
       "text": [
        "\n",
        "2440 = 0.010025179341"
       ]
      },
      {
       "output_type": "stream",
       "stream": "stdout",
       "text": [
        "\n",
        "2441 = 0.0100694015801"
       ]
      },
      {
       "output_type": "stream",
       "stream": "stdout",
       "text": [
        "\n",
        "2442 = 0.0100512159826"
       ]
      },
      {
       "output_type": "stream",
       "stream": "stdout",
       "text": [
        "\n",
        "2443 = 0.0100358810578"
       ]
      },
      {
       "output_type": "stream",
       "stream": "stdout",
       "text": [
        "\n",
        "2444 = 0.00980802029146"
       ]
      },
      {
       "output_type": "stream",
       "stream": "stdout",
       "text": [
        "\n",
        "2445 = 0.0108117751007"
       ]
      },
      {
       "output_type": "stream",
       "stream": "stdout",
       "text": [
        "\n",
        "2446 = 0.00979000766888"
       ]
      },
      {
       "output_type": "stream",
       "stream": "stdout",
       "text": [
        "\n",
        "2447 = 0.00978585692683"
       ]
      },
      {
       "output_type": "stream",
       "stream": "stdout",
       "text": [
        "\n",
        "2448 = 0.00974154648173"
       ]
      },
      {
       "output_type": "stream",
       "stream": "stdout",
       "text": [
        "\n",
        "2449 = 0.00966428448716"
       ]
      },
      {
       "output_type": "stream",
       "stream": "stdout",
       "text": [
        "\n",
        "2450 = 0.00973684654819"
       ]
      },
      {
       "output_type": "stream",
       "stream": "stdout",
       "text": [
        "\n",
        "2451 = 0.00984045732224"
       ]
      },
      {
       "output_type": "stream",
       "stream": "stdout",
       "text": [
        "\n",
        "2452 = 0.00988530637476"
       ]
      },
      {
       "output_type": "stream",
       "stream": "stdout",
       "text": [
        "\n",
        "2453 = 0.0100126356076"
       ]
      },
      {
       "output_type": "stream",
       "stream": "stdout",
       "text": [
        "\n",
        "2454 = 0.0100318601941"
       ]
      },
      {
       "output_type": "stream",
       "stream": "stdout",
       "text": [
        "\n",
        "2455 = 0.0100436452656"
       ]
      },
      {
       "output_type": "stream",
       "stream": "stdout",
       "text": [
        "\n",
        "2456 = 0.0111256702388"
       ]
      },
      {
       "output_type": "stream",
       "stream": "stdout",
       "text": [
        "\n",
        "2457 = 0.00991495095354"
       ]
      },
      {
       "output_type": "stream",
       "stream": "stdout",
       "text": [
        "\n",
        "2458 = 0.00988740004918"
       ]
      },
      {
       "output_type": "stream",
       "stream": "stdout",
       "text": [
        "\n",
        "2459 = 0.00987543072238"
       ]
      },
      {
       "output_type": "stream",
       "stream": "stdout",
       "text": [
        "\n",
        "2460 = 0.00980781905568"
       ]
      },
      {
       "output_type": "stream",
       "stream": "stdout",
       "text": [
        "\n",
        "2461 = 0.00978905748725"
       ]
      },
      {
       "output_type": "stream",
       "stream": "stdout",
       "text": [
        "\n",
        "2462 = 0.00980871578741"
       ]
      },
      {
       "output_type": "stream",
       "stream": "stdout",
       "text": [
        "\n",
        "2463 = 0.00975089780068"
       ]
      },
      {
       "output_type": "stream",
       "stream": "stdout",
       "text": [
        "\n",
        "2464 = 0.00979002018345"
       ]
      },
      {
       "output_type": "stream",
       "stream": "stdout",
       "text": [
        "\n",
        "2465 = 0.00977329623957"
       ]
      },
      {
       "output_type": "stream",
       "stream": "stdout",
       "text": [
        "\n",
        "2466 = 0.00995366097531"
       ]
      },
      {
       "output_type": "stream",
       "stream": "stdout",
       "text": [
        "\n",
        "2467 = 0.0102731663189"
       ]
      },
      {
       "output_type": "stream",
       "stream": "stdout",
       "text": [
        "\n",
        "2468 = 0.00994024035055"
       ]
      },
      {
       "output_type": "stream",
       "stream": "stdout",
       "text": [
        "\n",
        "2469 = 0.0101049845738"
       ]
      },
      {
       "output_type": "stream",
       "stream": "stdout",
       "text": [
        "\n",
        "2470 = 0.0100398485593"
       ]
      },
      {
       "output_type": "stream",
       "stream": "stdout",
       "text": [
        "\n",
        "2471 = 0.00999153210715"
       ]
      },
      {
       "output_type": "stream",
       "stream": "stdout",
       "text": [
        "\n",
        "2472 = 0.0099915084726"
       ]
      },
      {
       "output_type": "stream",
       "stream": "stdout",
       "text": [
        "\n",
        "2473 = 0.00998603865762"
       ]
      },
      {
       "output_type": "stream",
       "stream": "stdout",
       "text": [
        "\n",
        "2474 = 0.00998724914182"
       ]
      },
      {
       "output_type": "stream",
       "stream": "stdout",
       "text": [
        "\n",
        "2475 = 0.00996320774905"
       ]
      },
      {
       "output_type": "stream",
       "stream": "stdout",
       "text": [
        "\n",
        "2476 = 0.00984618303759"
       ]
      },
      {
       "output_type": "stream",
       "stream": "stdout",
       "text": [
        "\n",
        "2477 = 0.0107822389392"
       ]
      },
      {
       "output_type": "stream",
       "stream": "stdout",
       "text": [
        "\n",
        "2478 = 0.00985411292246"
       ]
      },
      {
       "output_type": "stream",
       "stream": "stdout",
       "text": [
        "\n",
        "2479 = 0.00973815258324"
       ]
      },
      {
       "output_type": "stream",
       "stream": "stdout",
       "text": [
        "\n",
        "2480 = 0.00981695148118"
       ]
      },
      {
       "output_type": "stream",
       "stream": "stdout",
       "text": [
        "\n",
        "2481 = 0.00982720660292"
       ]
      },
      {
       "output_type": "stream",
       "stream": "stdout",
       "text": [
        "\n",
        "2482 = 0.00969971515304"
       ]
      },
      {
       "output_type": "stream",
       "stream": "stdout",
       "text": [
        "\n",
        "2483 = 0.00976641778243"
       ]
      },
      {
       "output_type": "stream",
       "stream": "stdout",
       "text": [
        "\n",
        "2484 = 0.00976156166867"
       ]
      },
      {
       "output_type": "stream",
       "stream": "stdout",
       "text": [
        "\n",
        "2485 = 0.0097262246309"
       ]
      },
      {
       "output_type": "stream",
       "stream": "stdout",
       "text": [
        "\n",
        "2486 = 0.0097979297285"
       ]
      },
      {
       "output_type": "stream",
       "stream": "stdout",
       "text": [
        "\n",
        "2487 = 0.0102899729842"
       ]
      },
      {
       "output_type": "stream",
       "stream": "stdout",
       "text": [
        "\n",
        "2488 = 0.0101487992156"
       ]
      },
      {
       "output_type": "stream",
       "stream": "stdout",
       "text": [
        "\n",
        "2489 = 0.00980595616824"
       ]
      },
      {
       "output_type": "stream",
       "stream": "stdout",
       "text": [
        "\n",
        "2490 = 0.00983836389145"
       ]
      },
      {
       "output_type": "stream",
       "stream": "stdout",
       "text": [
        "\n",
        "2491 = 0.00996753758578"
       ]
      },
      {
       "output_type": "stream",
       "stream": "stdout",
       "text": [
        "\n",
        "2492 = 0.00990271687093"
       ]
      },
      {
       "output_type": "stream",
       "stream": "stdout",
       "text": [
        "\n",
        "2493 = 0.0100144851876"
       ]
      },
      {
       "output_type": "stream",
       "stream": "stdout",
       "text": [
        "\n",
        "2494 = 0.0101144608227"
       ]
      },
      {
       "output_type": "stream",
       "stream": "stdout",
       "text": [
        "\n",
        "2495 = 0.0100509496433"
       ]
      },
      {
       "output_type": "stream",
       "stream": "stdout",
       "text": [
        "\n",
        "2496 = 0.0100159332311"
       ]
      },
      {
       "output_type": "stream",
       "stream": "stdout",
       "text": [
        "\n",
        "2497 = 0.00996334341585"
       ]
      },
      {
       "output_type": "stream",
       "stream": "stdout",
       "text": [
        "\n",
        "2498 = 0.0101301300567"
       ]
      },
      {
       "output_type": "stream",
       "stream": "stdout",
       "text": [
        "\n",
        "2499 = 0.0106479149415"
       ]
      },
      {
       "output_type": "stream",
       "stream": "stdout",
       "text": [
        "\n",
        "2500 = 0.00984185202738"
       ]
      },
      {
       "output_type": "stream",
       "stream": "stdout",
       "text": [
        "\n",
        "2501 = 0.00980970790424"
       ]
      },
      {
       "output_type": "stream",
       "stream": "stdout",
       "text": [
        "\n",
        "2502 = 0.00985375628097"
       ]
      },
      {
       "output_type": "stream",
       "stream": "stdout",
       "text": [
        "\n",
        "2503 = 0.00980552291182"
       ]
      },
      {
       "output_type": "stream",
       "stream": "stdout",
       "text": [
        "\n",
        "2504 = 0.00982840291359"
       ]
      },
      {
       "output_type": "stream",
       "stream": "stdout",
       "text": [
        "\n",
        "2505 = 0.00978661531917"
       ]
      },
      {
       "output_type": "stream",
       "stream": "stdout",
       "text": [
        "\n",
        "2506 = 0.00982326563329"
       ]
      },
      {
       "output_type": "stream",
       "stream": "stdout",
       "text": [
        "\n",
        "2507 = 0.00982702341117"
       ]
      },
      {
       "output_type": "stream",
       "stream": "stdout",
       "text": [
        "\n",
        "2508 = 0.00974449435328"
       ]
      },
      {
       "output_type": "stream",
       "stream": "stdout",
       "text": [
        "\n",
        "2509 = 0.00967534708644"
       ]
      },
      {
       "output_type": "stream",
       "stream": "stdout",
       "text": [
        "\n",
        "2510 = 0.0106491995343"
       ]
      },
      {
       "output_type": "stream",
       "stream": "stdout",
       "text": [
        "\n",
        "2511 = 0.00980036036869"
       ]
      },
      {
       "output_type": "stream",
       "stream": "stdout",
       "text": [
        "\n",
        "2512 = 0.00974581252596"
       ]
      },
      {
       "output_type": "stream",
       "stream": "stdout",
       "text": [
        "\n",
        "2513 = 0.00983858537421"
       ]
      },
      {
       "output_type": "stream",
       "stream": "stdout",
       "text": [
        "\n",
        "2514 = 0.00981803414495"
       ]
      },
      {
       "output_type": "stream",
       "stream": "stdout",
       "text": [
        "\n",
        "2515 = 0.00978004071943"
       ]
      },
      {
       "output_type": "stream",
       "stream": "stdout",
       "text": [
        "\n",
        "2516 = 0.00979123033051"
       ]
      },
      {
       "output_type": "stream",
       "stream": "stdout",
       "text": [
        "\n",
        "2517 = 0.00973759762946"
       ]
      },
      {
       "output_type": "stream",
       "stream": "stdout",
       "text": [
        "\n",
        "2518 = 0.00982225179922"
       ]
      },
      {
       "output_type": "stream",
       "stream": "stdout",
       "text": [
        "\n",
        "2519 = 0.00993848869643"
       ]
      },
      {
       "output_type": "stream",
       "stream": "stdout",
       "text": [
        "\n",
        "2520 = 0.00999888556966"
       ]
      },
      {
       "output_type": "stream",
       "stream": "stdout",
       "text": [
        "\n",
        "2521 = 0.00968888819456"
       ]
      },
      {
       "output_type": "stream",
       "stream": "stdout",
       "text": [
        "\n",
        "2522 = 0.00974374734425"
       ]
      },
      {
       "output_type": "stream",
       "stream": "stdout",
       "text": [
        "\n",
        "2523 = 0.00968701034347"
       ]
      },
      {
       "output_type": "stream",
       "stream": "stdout",
       "text": [
        "\n",
        "2524 = 0.00970296854509"
       ]
      },
      {
       "output_type": "stream",
       "stream": "stdout",
       "text": [
        "\n",
        "2525 = 0.00981141727357"
       ]
      },
      {
       "output_type": "stream",
       "stream": "stdout",
       "text": [
        "\n",
        "2526 = 0.00972267877784"
       ]
      },
      {
       "output_type": "stream",
       "stream": "stdout",
       "text": [
        "\n",
        "2527 = 0.00977813276264"
       ]
      },
      {
       "output_type": "stream",
       "stream": "stdout",
       "text": [
        "\n",
        "2528 = 0.00976264540273"
       ]
      },
      {
       "output_type": "stream",
       "stream": "stdout",
       "text": [
        "\n",
        "2529 = 0.00977920423159"
       ]
      },
      {
       "output_type": "stream",
       "stream": "stdout",
       "text": [
        "\n",
        "2530 = 0.0103979271151"
       ]
      },
      {
       "output_type": "stream",
       "stream": "stdout",
       "text": [
        "\n",
        "2531 = 0.0097680708421"
       ]
      },
      {
       "output_type": "stream",
       "stream": "stdout",
       "text": [
        "\n",
        "2532 = 0.00966554935656"
       ]
      },
      {
       "output_type": "stream",
       "stream": "stdout",
       "text": [
        "\n",
        "2533 = 0.00970129244284"
       ]
      },
      {
       "output_type": "stream",
       "stream": "stdout",
       "text": [
        "\n",
        "2534 = 0.00966288028051"
       ]
      },
      {
       "output_type": "stream",
       "stream": "stdout",
       "text": [
        "\n",
        "2535 = 0.00966794986595"
       ]
      },
      {
       "output_type": "stream",
       "stream": "stdout",
       "text": [
        "\n",
        "2536 = 0.00968625117081"
       ]
      },
      {
       "output_type": "stream",
       "stream": "stdout",
       "text": [
        "\n",
        "2537 = 0.00977240524096"
       ]
      },
      {
       "output_type": "stream",
       "stream": "stdout",
       "text": [
        "\n",
        "2538 = 0.00977901302312"
       ]
      },
      {
       "output_type": "stream",
       "stream": "stdout",
       "text": [
        "\n",
        "2539 = 0.00972009071749"
       ]
      },
      {
       "output_type": "stream",
       "stream": "stdout",
       "text": [
        "\n",
        "2540 = 0.00976921884265"
       ]
      },
      {
       "output_type": "stream",
       "stream": "stdout",
       "text": [
        "\n",
        "2541 = 0.0105345649091"
       ]
      },
      {
       "output_type": "stream",
       "stream": "stdout",
       "text": [
        "\n",
        "2542 = 0.00967899723135"
       ]
      },
      {
       "output_type": "stream",
       "stream": "stdout",
       "text": [
        "\n",
        "2543 = 0.00974458593736"
       ]
      },
      {
       "output_type": "stream",
       "stream": "stdout",
       "text": [
        "\n",
        "2544 = 0.00976525672892"
       ]
      },
      {
       "output_type": "stream",
       "stream": "stdout",
       "text": [
        "\n",
        "2545 = 0.00965867078384"
       ]
      },
      {
       "output_type": "stream",
       "stream": "stdout",
       "text": [
        "\n",
        "2546 = 0.00978485726015"
       ]
      },
      {
       "output_type": "stream",
       "stream": "stdout",
       "text": [
        "\n",
        "2547 = 0.00976488203393"
       ]
      },
      {
       "output_type": "stream",
       "stream": "stdout",
       "text": [
        "\n",
        "2548 = 0.00975683636383"
       ]
      },
      {
       "output_type": "stream",
       "stream": "stdout",
       "text": [
        "\n",
        "2549 = 0.00972206985253"
       ]
      },
      {
       "output_type": "stream",
       "stream": "stdout",
       "text": [
        "\n",
        "2550 = 0.00980349821215"
       ]
      },
      {
       "output_type": "stream",
       "stream": "stdout",
       "text": [
        "\n",
        "2551 = 0.0104698575939"
       ]
      },
      {
       "output_type": "stream",
       "stream": "stdout",
       "text": [
        "\n",
        "2552 = 0.00991034893848"
       ]
      },
      {
       "output_type": "stream",
       "stream": "stdout",
       "text": [
        "\n",
        "2553 = 0.00973966873295"
       ]
      },
      {
       "output_type": "stream",
       "stream": "stdout",
       "text": [
        "\n",
        "2554 = 0.00967848525471"
       ]
      },
      {
       "output_type": "stream",
       "stream": "stdout",
       "text": [
        "\n",
        "2555 = 0.00972000736846"
       ]
      },
      {
       "output_type": "stream",
       "stream": "stdout",
       "text": [
        "\n",
        "2556 = 0.00981685075172"
       ]
      },
      {
       "output_type": "stream",
       "stream": "stdout",
       "text": [
        "\n",
        "2557 = 0.00975692546776"
       ]
      },
      {
       "output_type": "stream",
       "stream": "stdout",
       "text": [
        "\n",
        "2558 = 0.00975478963756"
       ]
      },
      {
       "output_type": "stream",
       "stream": "stdout",
       "text": [
        "\n",
        "2559 = 0.00976260052002"
       ]
      },
      {
       "output_type": "stream",
       "stream": "stdout",
       "text": [
        "\n",
        "2560 = 0.00978119636326"
       ]
      },
      {
       "output_type": "stream",
       "stream": "stdout",
       "text": [
        "\n",
        "2561 = 0.0098345967331"
       ]
      },
      {
       "output_type": "stream",
       "stream": "stdout",
       "text": [
        "\n",
        "2562 = 0.0104175992501"
       ]
      },
      {
       "output_type": "stream",
       "stream": "stdout",
       "text": [
        "\n",
        "2563 = 0.00989296536041"
       ]
      },
      {
       "output_type": "stream",
       "stream": "stdout",
       "text": [
        "\n",
        "2564 = 0.00973137969534"
       ]
      },
      {
       "output_type": "stream",
       "stream": "stdout",
       "text": [
        "\n",
        "2565 = 0.00977637529533"
       ]
      },
      {
       "output_type": "stream",
       "stream": "stdout",
       "text": [
        "\n",
        "2566 = 0.00977754437616"
       ]
      },
      {
       "output_type": "stream",
       "stream": "stdout",
       "text": [
        "\n",
        "2567 = 0.00976650479158"
       ]
      },
      {
       "output_type": "stream",
       "stream": "stdout",
       "text": [
        "\n",
        "2568 = 0.00979823973302"
       ]
      },
      {
       "output_type": "stream",
       "stream": "stdout",
       "text": [
        "\n",
        "2569 = 0.00986823006591"
       ]
      },
      {
       "output_type": "stream",
       "stream": "stdout",
       "text": [
        "\n",
        "2570 = 0.00977973969774"
       ]
      },
      {
       "output_type": "stream",
       "stream": "stdout",
       "text": [
        "\n",
        "2571 = 0.00978900770895"
       ]
      },
      {
       "output_type": "stream",
       "stream": "stdout",
       "text": [
        "\n",
        "2572 = 0.0103156192032"
       ]
      },
      {
       "output_type": "stream",
       "stream": "stdout",
       "text": [
        "\n",
        "2573 = 0.0100284825148"
       ]
      },
      {
       "output_type": "stream",
       "stream": "stdout",
       "text": [
        "\n",
        "2574 = 0.009712904144"
       ]
      },
      {
       "output_type": "stream",
       "stream": "stdout",
       "text": [
        "\n",
        "2575 = 0.00982302125215"
       ]
      },
      {
       "output_type": "stream",
       "stream": "stdout",
       "text": [
        "\n",
        "2576 = 0.0097928967832"
       ]
      },
      {
       "output_type": "stream",
       "stream": "stdout",
       "text": [
        "\n",
        "2577 = 0.00980687064434"
       ]
      },
      {
       "output_type": "stream",
       "stream": "stdout",
       "text": [
        "\n",
        "2578 = 0.00985933849401"
       ]
      },
      {
       "output_type": "stream",
       "stream": "stdout",
       "text": [
        "\n",
        "2579 = 0.0098779364051"
       ]
      },
      {
       "output_type": "stream",
       "stream": "stdout",
       "text": [
        "\n",
        "2580 = 0.00985640104437"
       ]
      },
      {
       "output_type": "stream",
       "stream": "stdout",
       "text": [
        "\n",
        "2581 = 0.00987782485766"
       ]
      },
      {
       "output_type": "stream",
       "stream": "stdout",
       "text": [
        "\n",
        "2582 = 0.00990106327229"
       ]
      },
      {
       "output_type": "stream",
       "stream": "stdout",
       "text": [
        "\n",
        "2583 = 0.00977604106401"
       ]
      },
      {
       "output_type": "stream",
       "stream": "stdout",
       "text": [
        "\n",
        "2584 = 0.0109427865589"
       ]
      },
      {
       "output_type": "stream",
       "stream": "stdout",
       "text": [
        "\n",
        "2585 = 0.00984052577896"
       ]
      },
      {
       "output_type": "stream",
       "stream": "stdout",
       "text": [
        "\n",
        "2586 = 0.0098984069595"
       ]
      },
      {
       "output_type": "stream",
       "stream": "stdout",
       "text": [
        "\n",
        "2587 = 0.00992822895501"
       ]
      },
      {
       "output_type": "stream",
       "stream": "stdout",
       "text": [
        "\n",
        "2588 = 0.0100077312981"
       ]
      },
      {
       "output_type": "stream",
       "stream": "stdout",
       "text": [
        "\n",
        "2589 = 0.0100180487587"
       ]
      },
      {
       "output_type": "stream",
       "stream": "stdout",
       "text": [
        "\n",
        "2590 = 0.0100532502582"
       ]
      },
      {
       "output_type": "stream",
       "stream": "stdout",
       "text": [
        "\n",
        "2591 = 0.0101287821849"
       ]
      },
      {
       "output_type": "stream",
       "stream": "stdout",
       "text": [
        "\n",
        "2592 = 0.0100673284442"
       ]
      },
      {
       "output_type": "stream",
       "stream": "stdout",
       "text": [
        "\n",
        "2593 = 0.0100890220669"
       ]
      },
      {
       "output_type": "stream",
       "stream": "stdout",
       "text": [
        "\n",
        "2594 = 0.0101158025047"
       ]
      },
      {
       "output_type": "stream",
       "stream": "stdout",
       "text": [
        "\n",
        "2595 = 0.0109206734282"
       ]
      },
      {
       "output_type": "stream",
       "stream": "stdout",
       "text": [
        "\n",
        "2596 = 0.0100928982756"
       ]
      },
      {
       "output_type": "stream",
       "stream": "stdout",
       "text": [
        "\n",
        "2597 = 0.0100246214853"
       ]
      },
      {
       "output_type": "stream",
       "stream": "stdout",
       "text": [
        "\n",
        "2598 = 0.00999133495618"
       ]
      },
      {
       "output_type": "stream",
       "stream": "stdout",
       "text": [
        "\n",
        "2599 = 0.0099376860079"
       ]
      },
      {
       "output_type": "stream",
       "stream": "stdout",
       "text": [
        "\n",
        "2600 = 0.00988292341405"
       ]
      },
      {
       "output_type": "stream",
       "stream": "stdout",
       "text": [
        "\n",
        "2601 = 0.00990379324391"
       ]
      },
      {
       "output_type": "stream",
       "stream": "stdout",
       "text": [
        "\n",
        "2602 = 0.00984039721276"
       ]
      },
      {
       "output_type": "stream",
       "stream": "stdout",
       "text": [
        "\n",
        "2603 = 0.0098254857529"
       ]
      },
      {
       "output_type": "stream",
       "stream": "stdout",
       "text": [
        "\n",
        "2604 = 0.0097652796257"
       ]
      },
      {
       "output_type": "stream",
       "stream": "stdout",
       "text": [
        "\n",
        "2605 = 0.00974280787082"
       ]
      },
      {
       "output_type": "stream",
       "stream": "stdout",
       "text": [
        "\n",
        "2606 = 0.0108153062783"
       ]
      },
      {
       "output_type": "stream",
       "stream": "stdout",
       "text": [
        "\n",
        "2607 = 0.0097348085816"
       ]
      },
      {
       "output_type": "stream",
       "stream": "stdout",
       "text": [
        "\n",
        "2608 = 0.00993389537414"
       ]
      },
      {
       "output_type": "stream",
       "stream": "stdout",
       "text": [
        "\n",
        "2609 = 0.00979151563002"
       ]
      },
      {
       "output_type": "stream",
       "stream": "stdout",
       "text": [
        "\n",
        "2610 = 0.00981525676387"
       ]
      },
      {
       "output_type": "stream",
       "stream": "stdout",
       "text": [
        "\n",
        "2611 = 0.00987017298858"
       ]
      },
      {
       "output_type": "stream",
       "stream": "stdout",
       "text": [
        "\n",
        "2612 = 0.0099024052368"
       ]
      },
      {
       "output_type": "stream",
       "stream": "stdout",
       "text": [
        "\n",
        "2613 = 0.00997509074454"
       ]
      },
      {
       "output_type": "stream",
       "stream": "stdout",
       "text": [
        "\n",
        "2614 = 0.00986562536511"
       ]
      },
      {
       "output_type": "stream",
       "stream": "stdout",
       "text": [
        "\n",
        "2615 = 0.00998831922167"
       ]
      },
      {
       "output_type": "stream",
       "stream": "stdout",
       "text": [
        "\n",
        "2616 = 0.0100602791511"
       ]
      },
      {
       "output_type": "stream",
       "stream": "stdout",
       "text": [
        "\n",
        "2617 = 0.0108537774097"
       ]
      },
      {
       "output_type": "stream",
       "stream": "stdout",
       "text": [
        "\n",
        "2618 = 0.0102220799758"
       ]
      },
      {
       "output_type": "stream",
       "stream": "stdout",
       "text": [
        "\n",
        "2619 = 0.01008444836"
       ]
      },
      {
       "output_type": "stream",
       "stream": "stdout",
       "text": [
        "\n",
        "2620 = 0.010140738106"
       ]
      },
      {
       "output_type": "stream",
       "stream": "stdout",
       "text": [
        "\n",
        "2621 = 0.0100866497404"
       ]
      },
      {
       "output_type": "stream",
       "stream": "stdout",
       "text": [
        "\n",
        "2622 = 0.0100329553574"
       ]
      },
      {
       "output_type": "stream",
       "stream": "stdout",
       "text": [
        "\n",
        "2623 = 0.0099651682609"
       ]
      },
      {
       "output_type": "stream",
       "stream": "stdout",
       "text": [
        "\n",
        "2624 = 0.00985808159614"
       ]
      },
      {
       "output_type": "stream",
       "stream": "stdout",
       "text": [
        "\n",
        "2625 = 0.00991680604235"
       ]
      },
      {
       "output_type": "stream",
       "stream": "stdout",
       "text": [
        "\n",
        "2626 = 0.00982246565978"
       ]
      },
      {
       "output_type": "stream",
       "stream": "stdout",
       "text": [
        "\n",
        "2627 = 0.0100185528237"
       ]
      },
      {
       "output_type": "stream",
       "stream": "stdout",
       "text": [
        "\n",
        "2628 = 0.0103925175842"
       ]
      },
      {
       "output_type": "stream",
       "stream": "stdout",
       "text": [
        "\n",
        "2629 = 0.0097789367576"
       ]
      },
      {
       "output_type": "stream",
       "stream": "stdout",
       "text": [
        "\n",
        "2630 = 0.00990141029475"
       ]
      },
      {
       "output_type": "stream",
       "stream": "stdout",
       "text": [
        "\n",
        "2631 = 0.00993183093617"
       ]
      },
      {
       "output_type": "stream",
       "stream": "stdout",
       "text": [
        "\n",
        "2632 = 0.00993234254309"
       ]
      },
      {
       "output_type": "stream",
       "stream": "stdout",
       "text": [
        "\n",
        "2633 = 0.00993197666225"
       ]
      },
      {
       "output_type": "stream",
       "stream": "stdout",
       "text": [
        "\n",
        "2634 = 0.0107484655505"
       ]
      },
      {
       "output_type": "stream",
       "stream": "stdout",
       "text": [
        "\n",
        "2635 = 0.0101605328297"
       ]
      },
      {
       "output_type": "stream",
       "stream": "stdout",
       "text": [
        "\n",
        "2636 = 0.0100387949834"
       ]
      },
      {
       "output_type": "stream",
       "stream": "stdout",
       "text": [
        "\n",
        "2637 = 0.009975283589"
       ]
      },
      {
       "output_type": "stream",
       "stream": "stdout",
       "text": [
        "\n",
        "2638 = 0.00985534209178"
       ]
      },
      {
       "output_type": "stream",
       "stream": "stdout",
       "text": [
        "\n",
        "2639 = 0.010105479628"
       ]
      },
      {
       "output_type": "stream",
       "stream": "stdout",
       "text": [
        "\n",
        "2640 = 0.0107368635203"
       ]
      },
      {
       "output_type": "stream",
       "stream": "stdout",
       "text": [
        "\n",
        "2641 = 0.0101607697176"
       ]
      },
      {
       "output_type": "stream",
       "stream": "stdout",
       "text": [
        "\n",
        "2642 = 0.00953626331192"
       ]
      },
      {
       "output_type": "stream",
       "stream": "stdout",
       "text": [
        "\n",
        "2643 = 0.00962856080033"
       ]
      },
      {
       "output_type": "stream",
       "stream": "stdout",
       "text": [
        "\n",
        "2644 = 0.00965321647206"
       ]
      },
      {
       "output_type": "stream",
       "stream": "stdout",
       "text": [
        "\n",
        "2645 = 0.00973371637892"
       ]
      },
      {
       "output_type": "stream",
       "stream": "stdout",
       "text": [
        "\n",
        "2646 = 0.00967926684857"
       ]
      },
      {
       "output_type": "stream",
       "stream": "stdout",
       "text": [
        "\n",
        "2647 = 0.00973293257026"
       ]
      },
      {
       "output_type": "stream",
       "stream": "stdout",
       "text": [
        "\n",
        "2648 = 0.010530524303"
       ]
      },
      {
       "output_type": "stream",
       "stream": "stdout",
       "text": [
        "\n",
        "2649 = 0.00994740728084"
       ]
      },
      {
       "output_type": "stream",
       "stream": "stdout",
       "text": [
        "\n",
        "2650 = 0.00984447265054"
       ]
      },
      {
       "output_type": "stream",
       "stream": "stdout",
       "text": [
        "\n",
        "2651 = 0.00986006228845"
       ]
      },
      {
       "output_type": "stream",
       "stream": "stdout",
       "text": [
        "\n",
        "2652 = 0.00981715193533"
       ]
      },
      {
       "output_type": "stream",
       "stream": "stdout",
       "text": [
        "\n",
        "2653 = 0.00976189265401"
       ]
      },
      {
       "output_type": "stream",
       "stream": "stdout",
       "text": [
        "\n",
        "2654 = 0.01054413075"
       ]
      },
      {
       "output_type": "stream",
       "stream": "stdout",
       "text": [
        "\n",
        "2655 = 0.0095871210447"
       ]
      },
      {
       "output_type": "stream",
       "stream": "stdout",
       "text": [
        "\n",
        "2656 = 0.00967995724981"
       ]
      },
      {
       "output_type": "stream",
       "stream": "stdout",
       "text": [
        "\n",
        "2657 = 0.00971829721023"
       ]
      },
      {
       "output_type": "stream",
       "stream": "stdout",
       "text": [
        "\n",
        "2658 = 0.00965670495243"
       ]
      },
      {
       "output_type": "stream",
       "stream": "stdout",
       "text": [
        "\n",
        "2659 = 0.0095231171426"
       ]
      },
      {
       "output_type": "stream",
       "stream": "stdout",
       "text": [
        "\n",
        "2660 = 0.010188500784"
       ]
      },
      {
       "output_type": "stream",
       "stream": "stdout",
       "text": [
        "\n",
        "2661 = 0.00942312658936"
       ]
      },
      {
       "output_type": "stream",
       "stream": "stdout",
       "text": [
        "\n",
        "2662 = 0.00951676041706"
       ]
      },
      {
       "output_type": "stream",
       "stream": "stdout",
       "text": [
        "\n",
        "2663 = 0.00954420628529"
       ]
      },
      {
       "output_type": "stream",
       "stream": "stdout",
       "text": [
        "\n",
        "2664 = 0.00953009782289"
       ]
      },
      {
       "output_type": "stream",
       "stream": "stdout",
       "text": [
        "\n",
        "2665 = 0.00985956144397"
       ]
      },
      {
       "output_type": "stream",
       "stream": "stdout",
       "text": [
        "\n",
        "2666 = 0.0100678245012"
       ]
      },
      {
       "output_type": "stream",
       "stream": "stdout",
       "text": [
        "\n",
        "2667 = 0.00951891773367"
       ]
      },
      {
       "output_type": "stream",
       "stream": "stdout",
       "text": [
        "\n",
        "2668 = 0.00966599874347"
       ]
      },
      {
       "output_type": "stream",
       "stream": "stdout",
       "text": [
        "\n",
        "2669 = 0.00957858697162"
       ]
      },
      {
       "output_type": "stream",
       "stream": "stdout",
       "text": [
        "\n",
        "2670 = 0.00955734646104"
       ]
      },
      {
       "output_type": "stream",
       "stream": "stdout",
       "text": [
        "\n",
        "2671 = 0.0103894800565"
       ]
      },
      {
       "output_type": "stream",
       "stream": "stdout",
       "text": [
        "\n",
        "2672 = 0.00991045608378"
       ]
      },
      {
       "output_type": "stream",
       "stream": "stdout",
       "text": [
        "\n",
        "2673 = 0.00956141058905"
       ]
      },
      {
       "output_type": "stream",
       "stream": "stdout",
       "text": [
        "\n",
        "2674 = 0.00967989644083"
       ]
      },
      {
       "output_type": "stream",
       "stream": "stdout",
       "text": [
        "\n",
        "2675 = 0.0097625846993"
       ]
      },
      {
       "output_type": "stream",
       "stream": "stdout",
       "text": [
        "\n",
        "2676 = 0.0097542355754"
       ]
      },
      {
       "output_type": "stream",
       "stream": "stdout",
       "text": [
        "\n",
        "2677 = 0.0100812490597"
       ]
      },
      {
       "output_type": "stream",
       "stream": "stdout",
       "text": [
        "\n",
        "2678 = 0.0100917948487"
       ]
      },
      {
       "output_type": "stream",
       "stream": "stdout",
       "text": [
        "\n",
        "2679 = 0.00983867054256"
       ]
      },
      {
       "output_type": "stream",
       "stream": "stdout",
       "text": [
        "\n",
        "2680 = 0.00992140957751"
       ]
      },
      {
       "output_type": "stream",
       "stream": "stdout",
       "text": [
        "\n",
        "2681 = 0.00988261358968"
       ]
      },
      {
       "output_type": "stream",
       "stream": "stdout",
       "text": [
        "\n",
        "2682 = 0.00987999558424"
       ]
      },
      {
       "output_type": "stream",
       "stream": "stdout",
       "text": [
        "\n",
        "2683 = 0.0104223687612"
       ]
      },
      {
       "output_type": "stream",
       "stream": "stdout",
       "text": [
        "\n",
        "2684 = 0.0101542714965"
       ]
      },
      {
       "output_type": "stream",
       "stream": "stdout",
       "text": [
        "\n",
        "2685 = 0.00987744342883"
       ]
      },
      {
       "output_type": "stream",
       "stream": "stdout",
       "text": [
        "\n",
        "2686 = 0.00983012255771"
       ]
      },
      {
       "output_type": "stream",
       "stream": "stdout",
       "text": [
        "\n",
        "2687 = 0.00973338563654"
       ]
      },
      {
       "output_type": "stream",
       "stream": "stdout",
       "text": [
        "\n",
        "2688 = 0.00978456359934"
       ]
      },
      {
       "output_type": "stream",
       "stream": "stdout",
       "text": [
        "\n",
        "2689 = 0.0103432118814"
       ]
      },
      {
       "output_type": "stream",
       "stream": "stdout",
       "text": [
        "\n",
        "2690 = 0.00978460149156"
       ]
      },
      {
       "output_type": "stream",
       "stream": "stdout",
       "text": [
        "\n",
        "2691 = 0.00967455907722"
       ]
      },
      {
       "output_type": "stream",
       "stream": "stdout",
       "text": [
        "\n",
        "2692 = 0.00975458438384"
       ]
      },
      {
       "output_type": "stream",
       "stream": "stdout",
       "text": [
        "\n",
        "2693 = 0.00999825137276"
       ]
      },
      {
       "output_type": "stream",
       "stream": "stdout",
       "text": [
        "\n",
        "2694 = 0.00994005090373"
       ]
      },
      {
       "output_type": "stream",
       "stream": "stdout",
       "text": [
        "\n",
        "2695 = 0.0107736699373"
       ]
      },
      {
       "output_type": "stream",
       "stream": "stdout",
       "text": [
        "\n",
        "2696 = 0.0102103885748"
       ]
      },
      {
       "output_type": "stream",
       "stream": "stdout",
       "text": [
        "\n",
        "2697 = 0.00976105161431"
       ]
      },
      {
       "output_type": "stream",
       "stream": "stdout",
       "text": [
        "\n",
        "2698 = 0.00985956845105"
       ]
      },
      {
       "output_type": "stream",
       "stream": "stdout",
       "text": [
        "\n",
        "2699 = 0.00988852613221"
       ]
      },
      {
       "output_type": "stream",
       "stream": "stdout",
       "text": [
        "\n",
        "2700 = 0.00983512257662"
       ]
      },
      {
       "output_type": "stream",
       "stream": "stdout",
       "text": [
        "\n",
        "2701 = 0.010517908329"
       ]
      },
      {
       "output_type": "stream",
       "stream": "stdout",
       "text": [
        "\n",
        "2702 = 0.0100784035879"
       ]
      },
      {
       "output_type": "stream",
       "stream": "stdout",
       "text": [
        "\n",
        "2703 = 0.00995914538013"
       ]
      },
      {
       "output_type": "stream",
       "stream": "stdout",
       "text": [
        "\n",
        "2704 = 0.0100219289051"
       ]
      },
      {
       "output_type": "stream",
       "stream": "stdout",
       "text": [
        "\n",
        "2705 = 0.0100599895466"
       ]
      },
      {
       "output_type": "stream",
       "stream": "stdout",
       "text": [
        "\n",
        "2706 = 0.00988050734776"
       ]
      },
      {
       "output_type": "stream",
       "stream": "stdout",
       "text": [
        "\n",
        "2707 = 0.0104638431193"
       ]
      },
      {
       "output_type": "stream",
       "stream": "stdout",
       "text": [
        "\n",
        "2708 = 0.00999116665172"
       ]
      },
      {
       "output_type": "stream",
       "stream": "stdout",
       "text": [
        "\n",
        "2709 = 0.00975862047137"
       ]
      },
      {
       "output_type": "stream",
       "stream": "stdout",
       "text": [
        "\n",
        "2710 = 0.00996529483891"
       ]
      },
      {
       "output_type": "stream",
       "stream": "stdout",
       "text": [
        "\n",
        "2711 = 0.00997423263878"
       ]
      },
      {
       "output_type": "stream",
       "stream": "stdout",
       "text": [
        "\n",
        "2712 = 0.0101525153079"
       ]
      },
      {
       "output_type": "stream",
       "stream": "stdout",
       "text": [
        "\n",
        "2713 = 0.0106669943515"
       ]
      },
      {
       "output_type": "stream",
       "stream": "stdout",
       "text": [
        "\n",
        "2714 = 0.00994415453671"
       ]
      },
      {
       "output_type": "stream",
       "stream": "stdout",
       "text": [
        "\n",
        "2715 = 0.00988505800884"
       ]
      },
      {
       "output_type": "stream",
       "stream": "stdout",
       "text": [
        "\n",
        "2716 = 0.0098141995298"
       ]
      },
      {
       "output_type": "stream",
       "stream": "stdout",
       "text": [
        "\n",
        "2717 = 0.00989435568325"
       ]
      },
      {
       "output_type": "stream",
       "stream": "stdout",
       "text": [
        "\n",
        "2718 = 0.0100033569059"
       ]
      },
      {
       "output_type": "stream",
       "stream": "stdout",
       "text": [
        "\n",
        "2719 = 0.0107861511002"
       ]
      },
      {
       "output_type": "stream",
       "stream": "stdout",
       "text": [
        "\n",
        "2720 = 0.0100545940395"
       ]
      },
      {
       "output_type": "stream",
       "stream": "stdout",
       "text": [
        "\n",
        "2721 = 0.00999157146373"
       ]
      },
      {
       "output_type": "stream",
       "stream": "stdout",
       "text": [
        "\n",
        "2722 = 0.00994657209163"
       ]
      },
      {
       "output_type": "stream",
       "stream": "stdout",
       "text": [
        "\n",
        "2723 = 0.00988862098978"
       ]
      },
      {
       "output_type": "stream",
       "stream": "stdout",
       "text": [
        "\n",
        "2724 = 0.0100797175489"
       ]
      },
      {
       "output_type": "stream",
       "stream": "stdout",
       "text": [
        "\n",
        "2725 = 0.0108995419408"
       ]
      },
      {
       "output_type": "stream",
       "stream": "stdout",
       "text": [
        "\n",
        "2726 = 0.0100234342337"
       ]
      },
      {
       "output_type": "stream",
       "stream": "stdout",
       "text": [
        "\n",
        "2727 = 0.0099145950369"
       ]
      },
      {
       "output_type": "stream",
       "stream": "stdout",
       "text": [
        "\n",
        "2728 = 0.00996064697438"
       ]
      },
      {
       "output_type": "stream",
       "stream": "stdout",
       "text": [
        "\n",
        "2729 = 0.00998184392623"
       ]
      },
      {
       "output_type": "stream",
       "stream": "stdout",
       "text": [
        "\n",
        "2730 = 0.0102425406576"
       ]
      },
      {
       "output_type": "stream",
       "stream": "stdout",
       "text": [
        "\n",
        "2731 = 0.0109974884083"
       ]
      },
      {
       "output_type": "stream",
       "stream": "stdout",
       "text": [
        "\n",
        "2732 = 0.00992887703671"
       ]
      },
      {
       "output_type": "stream",
       "stream": "stdout",
       "text": [
        "\n",
        "2733 = 0.0100406329627"
       ]
      },
      {
       "output_type": "stream",
       "stream": "stdout",
       "text": [
        "\n",
        "2734 = 0.00987061829357"
       ]
      },
      {
       "output_type": "stream",
       "stream": "stdout",
       "text": [
        "\n",
        "2735 = 0.0102004746875"
       ]
      },
      {
       "output_type": "stream",
       "stream": "stdout",
       "text": [
        "\n",
        "2736 = 0.0101992138928"
       ]
      },
      {
       "output_type": "stream",
       "stream": "stdout",
       "text": [
        "\n",
        "2737 = 0.0108394360207"
       ]
      },
      {
       "output_type": "stream",
       "stream": "stdout",
       "text": [
        "\n",
        "2738 = 0.0098899433826"
       ]
      },
      {
       "output_type": "stream",
       "stream": "stdout",
       "text": [
        "\n",
        "2739 = 0.0100057034557"
       ]
      },
      {
       "output_type": "stream",
       "stream": "stdout",
       "text": [
        "\n",
        "2740 = 0.0102329888031"
       ]
      },
      {
       "output_type": "stream",
       "stream": "stdout",
       "text": [
        "\n",
        "2741 = 0.0102153576809"
       ]
      },
      {
       "output_type": "stream",
       "stream": "stdout",
       "text": [
        "\n",
        "2742 = 0.00997366099688"
       ]
      },
      {
       "output_type": "stream",
       "stream": "stdout",
       "text": [
        "\n",
        "2743 = 0.0107084521304"
       ]
      },
      {
       "output_type": "stream",
       "stream": "stdout",
       "text": [
        "\n",
        "2744 = 0.00995816803195"
       ]
      },
      {
       "output_type": "stream",
       "stream": "stdout",
       "text": [
        "\n",
        "2745 = 0.0102630327423"
       ]
      },
      {
       "output_type": "stream",
       "stream": "stdout",
       "text": [
        "\n",
        "2746 = 0.0101926482361"
       ]
      },
      {
       "output_type": "stream",
       "stream": "stdout",
       "text": [
        "\n",
        "2747 = 0.0101039561301"
       ]
      },
      {
       "output_type": "stream",
       "stream": "stdout",
       "text": [
        "\n",
        "2748 = 0.0105983617422"
       ]
      },
      {
       "output_type": "stream",
       "stream": "stdout",
       "text": [
        "\n",
        "2749 = 0.0104911970195"
       ]
      },
      {
       "output_type": "stream",
       "stream": "stdout",
       "text": [
        "\n",
        "2750 = 0.0101652158255"
       ]
      },
      {
       "output_type": "stream",
       "stream": "stdout",
       "text": [
        "\n",
        "2751 = 0.01018132397"
       ]
      },
      {
       "output_type": "stream",
       "stream": "stdout",
       "text": [
        "\n",
        "2752 = 0.0101139257624"
       ]
      },
      {
       "output_type": "stream",
       "stream": "stdout",
       "text": [
        "\n",
        "2753 = 0.0100829141673"
       ]
      },
      {
       "output_type": "stream",
       "stream": "stdout",
       "text": [
        "\n",
        "2754 = 0.0105094375744"
       ]
      },
      {
       "output_type": "stream",
       "stream": "stdout",
       "text": [
        "\n",
        "2755 = 0.0108077451138"
       ]
      },
      {
       "output_type": "stream",
       "stream": "stdout",
       "text": [
        "\n",
        "2756 = 0.0100398358483"
       ]
      },
      {
       "output_type": "stream",
       "stream": "stdout",
       "text": [
        "\n",
        "2757 = 0.0100126163626"
       ]
      },
      {
       "output_type": "stream",
       "stream": "stdout",
       "text": [
        "\n",
        "2758 = 0.0102133276566"
       ]
      },
      {
       "output_type": "stream",
       "stream": "stdout",
       "text": [
        "\n",
        "2759 = 0.0103690382013"
       ]
      },
      {
       "output_type": "stream",
       "stream": "stdout",
       "text": [
        "\n",
        "2760 = 0.0101755294285"
       ]
      },
      {
       "output_type": "stream",
       "stream": "stdout",
       "text": [
        "\n",
        "2761 = 0.0105719867475"
       ]
      },
      {
       "output_type": "stream",
       "stream": "stdout",
       "text": [
        "\n",
        "2762 = 0.0100475172678"
       ]
      },
      {
       "output_type": "stream",
       "stream": "stdout",
       "text": [
        "\n",
        "2763 = 0.0102573921192"
       ]
      },
      {
       "output_type": "stream",
       "stream": "stdout",
       "text": [
        "\n",
        "2764 = 0.0101487704077"
       ]
      },
      {
       "output_type": "stream",
       "stream": "stdout",
       "text": [
        "\n",
        "2765 = 0.0100287277806"
       ]
      },
      {
       "output_type": "stream",
       "stream": "stdout",
       "text": [
        "\n",
        "2766 = 0.0106721607195"
       ]
      },
      {
       "output_type": "stream",
       "stream": "stdout",
       "text": [
        "\n",
        "2767 = 0.0106310874286"
       ]
      },
      {
       "output_type": "stream",
       "stream": "stdout",
       "text": [
        "\n",
        "2768 = 0.00996378585487"
       ]
      },
      {
       "output_type": "stream",
       "stream": "stdout",
       "text": [
        "\n",
        "2769 = 0.0100407259171"
       ]
      },
      {
       "output_type": "stream",
       "stream": "stdout",
       "text": [
        "\n",
        "2770 = 0.0102020084478"
       ]
      },
      {
       "output_type": "stream",
       "stream": "stdout",
       "text": [
        "\n",
        "2771 = 0.0102736532642"
       ]
      },
      {
       "output_type": "stream",
       "stream": "stdout",
       "text": [
        "\n",
        "2772 = 0.0104466358267"
       ]
      },
      {
       "output_type": "stream",
       "stream": "stdout",
       "text": [
        "\n",
        "2773 = 0.0101164217381"
       ]
      },
      {
       "output_type": "stream",
       "stream": "stdout",
       "text": [
        "\n",
        "2774 = 0.010286649872"
       ]
      },
      {
       "output_type": "stream",
       "stream": "stdout",
       "text": [
        "\n",
        "2775 = 0.0102419345529"
       ]
      },
      {
       "output_type": "stream",
       "stream": "stdout",
       "text": [
        "\n",
        "2776 = 0.0101471259913"
       ]
      },
      {
       "output_type": "stream",
       "stream": "stdout",
       "text": [
        "\n",
        "2777 = 0.0100219062829"
       ]
      },
      {
       "output_type": "stream",
       "stream": "stdout",
       "text": [
        "\n",
        "2778 = 0.0107495669993"
       ]
      },
      {
       "output_type": "stream",
       "stream": "stdout",
       "text": [
        "\n",
        "2779 = 0.0102036001285"
       ]
      },
      {
       "output_type": "stream",
       "stream": "stdout",
       "text": [
        "\n",
        "2780 = 0.0100279537711"
       ]
      },
      {
       "output_type": "stream",
       "stream": "stdout",
       "text": [
        "\n",
        "2781 = 0.010204003836"
       ]
      },
      {
       "output_type": "stream",
       "stream": "stdout",
       "text": [
        "\n",
        "2782 = 0.0102505795298"
       ]
      },
      {
       "output_type": "stream",
       "stream": "stdout",
       "text": [
        "\n",
        "2783 = 0.00995391821626"
       ]
      },
      {
       "output_type": "stream",
       "stream": "stdout",
       "text": [
        "\n",
        "2784 = 0.0106039826099"
       ]
      },
      {
       "output_type": "stream",
       "stream": "stdout",
       "text": [
        "\n",
        "2785 = 0.0102233482152"
       ]
      },
      {
       "output_type": "stream",
       "stream": "stdout",
       "text": [
        "\n",
        "2786 = 0.0102106303087"
       ]
      },
      {
       "output_type": "stream",
       "stream": "stdout",
       "text": [
        "\n",
        "2787 = 0.0100999630193"
       ]
      },
      {
       "output_type": "stream",
       "stream": "stdout",
       "text": [
        "\n",
        "2788 = 0.0103165426398"
       ]
      },
      {
       "output_type": "stream",
       "stream": "stdout",
       "text": [
        "\n",
        "2789 = 0.0104863594717"
       ]
      },
      {
       "output_type": "stream",
       "stream": "stdout",
       "text": [
        "\n",
        "2790 = 0.010670325164"
       ]
      },
      {
       "output_type": "stream",
       "stream": "stdout",
       "text": [
        "\n",
        "2791 = 0.00989151674146"
       ]
      },
      {
       "output_type": "stream",
       "stream": "stdout",
       "text": [
        "\n",
        "2792 = 0.0103500248447"
       ]
      },
      {
       "output_type": "stream",
       "stream": "stdout",
       "text": [
        "\n",
        "2793 = 0.0102796356065"
       ]
      },
      {
       "output_type": "stream",
       "stream": "stdout",
       "text": [
        "\n",
        "2794 = 0.0100102399388"
       ]
      },
      {
       "output_type": "stream",
       "stream": "stdout",
       "text": [
        "\n",
        "2795 = 0.0106921821741"
       ]
      },
      {
       "output_type": "stream",
       "stream": "stdout",
       "text": [
        "\n",
        "2796 = 0.0105941633436"
       ]
      },
      {
       "output_type": "stream",
       "stream": "stdout",
       "text": [
        "\n",
        "2797 = 0.00999646574877"
       ]
      },
      {
       "output_type": "stream",
       "stream": "stdout",
       "text": [
        "\n",
        "2798 = 0.010176908103"
       ]
      },
      {
       "output_type": "stream",
       "stream": "stdout",
       "text": [
        "\n",
        "2799 = 0.010246976872"
       ]
      },
      {
       "output_type": "stream",
       "stream": "stdout",
       "text": [
        "\n",
        "2800 = 0.0102397778024"
       ]
      },
      {
       "output_type": "stream",
       "stream": "stdout",
       "text": [
        "\n",
        "2801 = 0.0103657128915"
       ]
      },
      {
       "output_type": "stream",
       "stream": "stdout",
       "text": [
        "\n",
        "2802 = 0.0105444589556"
       ]
      },
      {
       "output_type": "stream",
       "stream": "stdout",
       "text": [
        "\n",
        "2803 = 0.0101087110862"
       ]
      },
      {
       "output_type": "stream",
       "stream": "stdout",
       "text": [
        "\n",
        "2804 = 0.0101769636599"
       ]
      },
      {
       "output_type": "stream",
       "stream": "stdout",
       "text": [
        "\n",
        "2805 = 0.010329332711"
       ]
      },
      {
       "output_type": "stream",
       "stream": "stdout",
       "text": [
        "\n",
        "2806 = 0.0104070357984"
       ]
      },
      {
       "output_type": "stream",
       "stream": "stdout",
       "text": [
        "\n",
        "2807 = 0.0105386979085"
       ]
      },
      {
       "output_type": "stream",
       "stream": "stdout",
       "text": [
        "\n",
        "2808 = 0.0103255205398"
       ]
      },
      {
       "output_type": "stream",
       "stream": "stdout",
       "text": [
        "\n",
        "2809 = 0.0102833208047"
       ]
      },
      {
       "output_type": "stream",
       "stream": "stdout",
       "text": [
        "\n",
        "2810 = 0.0101991778804"
       ]
      },
      {
       "output_type": "stream",
       "stream": "stdout",
       "text": [
        "\n",
        "2811 = 0.0101512527712"
       ]
      },
      {
       "output_type": "stream",
       "stream": "stdout",
       "text": [
        "\n",
        "2812 = 0.0103531110199"
       ]
      },
      {
       "output_type": "stream",
       "stream": "stdout",
       "text": [
        "\n",
        "2813 = 0.0106015831028"
       ]
      },
      {
       "output_type": "stream",
       "stream": "stdout",
       "text": [
        "\n",
        "2814 = 0.0102623478468"
       ]
      },
      {
       "output_type": "stream",
       "stream": "stdout",
       "text": [
        "\n",
        "2815 = 0.0103447666742"
       ]
      },
      {
       "output_type": "stream",
       "stream": "stdout",
       "text": [
        "\n",
        "2816 = 0.0102448935448"
       ]
      },
      {
       "output_type": "stream",
       "stream": "stdout",
       "text": [
        "\n",
        "2817 = 0.0102214528045"
       ]
      },
      {
       "output_type": "stream",
       "stream": "stdout",
       "text": [
        "\n",
        "2818 = 0.0103380251422"
       ]
      },
      {
       "output_type": "stream",
       "stream": "stdout",
       "text": [
        "\n",
        "2819 = 0.0107015833839"
       ]
      },
      {
       "output_type": "stream",
       "stream": "stdout",
       "text": [
        "\n",
        "2820 = 0.0103559711113"
       ]
      },
      {
       "output_type": "stream",
       "stream": "stdout",
       "text": [
        "\n",
        "2821 = 0.0102033206034"
       ]
      },
      {
       "output_type": "stream",
       "stream": "stdout",
       "text": [
        "\n",
        "2822 = 0.0103111437009"
       ]
      },
      {
       "output_type": "stream",
       "stream": "stdout",
       "text": [
        "\n",
        "2823 = 0.0101512878368"
       ]
      },
      {
       "output_type": "stream",
       "stream": "stdout",
       "text": [
        "\n",
        "2824 = 0.0102621912246"
       ]
      },
      {
       "output_type": "stream",
       "stream": "stdout",
       "text": [
        "\n",
        "2825 = 0.0107287128674"
       ]
      },
      {
       "output_type": "stream",
       "stream": "stdout",
       "text": [
        "\n",
        "2826 = 0.0102530493942"
       ]
      },
      {
       "output_type": "stream",
       "stream": "stdout",
       "text": [
        "\n",
        "2827 = 0.0101099901093"
       ]
      },
      {
       "output_type": "stream",
       "stream": "stdout",
       "text": [
        "\n",
        "2828 = 0.0103353059658"
       ]
      },
      {
       "output_type": "stream",
       "stream": "stdout",
       "text": [
        "\n",
        "2829 = 0.0101326749619"
       ]
      },
      {
       "output_type": "stream",
       "stream": "stdout",
       "text": [
        "\n",
        "2830 = 0.0101626097128"
       ]
      },
      {
       "output_type": "stream",
       "stream": "stdout",
       "text": [
        "\n",
        "2831 = 0.0109400917754"
       ]
      },
      {
       "output_type": "stream",
       "stream": "stdout",
       "text": [
        "\n",
        "2832 = 0.010173397035"
       ]
      },
      {
       "output_type": "stream",
       "stream": "stdout",
       "text": [
        "\n",
        "2833 = 0.0101577221921"
       ]
      },
      {
       "output_type": "stream",
       "stream": "stdout",
       "text": [
        "\n",
        "2834 = 0.0103996358624"
       ]
      },
      {
       "output_type": "stream",
       "stream": "stdout",
       "text": [
        "\n",
        "2835 = 0.0102223559626"
       ]
      },
      {
       "output_type": "stream",
       "stream": "stdout",
       "text": [
        "\n",
        "2836 = 0.0101678041599"
       ]
      },
      {
       "output_type": "stream",
       "stream": "stdout",
       "text": [
        "\n",
        "2837 = 0.0107614039792"
       ]
      },
      {
       "output_type": "stream",
       "stream": "stdout",
       "text": [
        "\n",
        "2838 = 0.0103312651488"
       ]
      },
      {
       "output_type": "stream",
       "stream": "stdout",
       "text": [
        "\n",
        "2839 = 0.0101647546811"
       ]
      },
      {
       "output_type": "stream",
       "stream": "stdout",
       "text": [
        "\n",
        "2840 = 0.0104407416993"
       ]
      },
      {
       "output_type": "stream",
       "stream": "stdout",
       "text": [
        "\n",
        "2841 = 0.0101236578775"
       ]
      },
      {
       "output_type": "stream",
       "stream": "stdout",
       "text": [
        "\n",
        "2842 = 0.0103308938663"
       ]
      },
      {
       "output_type": "stream",
       "stream": "stdout",
       "text": [
        "\n",
        "2843 = 0.0106833478293"
       ]
      },
      {
       "output_type": "stream",
       "stream": "stdout",
       "text": [
        "\n",
        "2844 = 0.010181172106"
       ]
      },
      {
       "output_type": "stream",
       "stream": "stdout",
       "text": [
        "\n",
        "2845 = 0.0102394000467"
       ]
      },
      {
       "output_type": "stream",
       "stream": "stdout",
       "text": [
        "\n",
        "2846 = 0.0103336052139"
       ]
      },
      {
       "output_type": "stream",
       "stream": "stdout",
       "text": [
        "\n",
        "2847 = 0.0102365382041"
       ]
      },
      {
       "output_type": "stream",
       "stream": "stdout",
       "text": [
        "\n",
        "2848 = 0.0104409197197"
       ]
      },
      {
       "output_type": "stream",
       "stream": "stdout",
       "text": [
        "\n",
        "2849 = 0.0106446718625"
       ]
      },
      {
       "output_type": "stream",
       "stream": "stdout",
       "text": [
        "\n",
        "2850 = 0.0103689935884"
       ]
      },
      {
       "output_type": "stream",
       "stream": "stdout",
       "text": [
        "\n",
        "2851 = 0.0102957239767"
       ]
      },
      {
       "output_type": "stream",
       "stream": "stdout",
       "text": [
        "\n",
        "2852 = 0.0102407652856"
       ]
      },
      {
       "output_type": "stream",
       "stream": "stdout",
       "text": [
        "\n",
        "2853 = 0.0102259466385"
       ]
      },
      {
       "output_type": "stream",
       "stream": "stdout",
       "text": [
        "\n",
        "2854 = 0.0104880572433"
       ]
      },
      {
       "output_type": "stream",
       "stream": "stdout",
       "text": [
        "\n",
        "2855 = 0.0107043400936"
       ]
      },
      {
       "output_type": "stream",
       "stream": "stdout",
       "text": [
        "\n",
        "2856 = 0.010445345913"
       ]
      },
      {
       "output_type": "stream",
       "stream": "stdout",
       "text": [
        "\n",
        "2857 = 0.0103890433465"
       ]
      },
      {
       "output_type": "stream",
       "stream": "stdout",
       "text": [
        "\n",
        "2858 = 0.0102613282825"
       ]
      },
      {
       "output_type": "stream",
       "stream": "stdout",
       "text": [
        "\n",
        "2859 = 0.0104001212005"
       ]
      },
      {
       "output_type": "stream",
       "stream": "stdout",
       "text": [
        "\n",
        "2860 = 0.0105318949531"
       ]
      },
      {
       "output_type": "stream",
       "stream": "stdout",
       "text": [
        "\n",
        "2861 = 0.0106758914679"
       ]
      },
      {
       "output_type": "stream",
       "stream": "stdout",
       "text": [
        "\n",
        "2862 = 0.0106133411819"
       ]
      },
      {
       "output_type": "stream",
       "stream": "stdout",
       "text": [
        "\n",
        "2863 = 0.0101583439823"
       ]
      },
      {
       "output_type": "stream",
       "stream": "stdout",
       "text": [
        "\n",
        "2864 = 0.0102492558308"
       ]
      },
      {
       "output_type": "stream",
       "stream": "stdout",
       "text": [
        "\n",
        "2865 = 0.0106530380073"
       ]
      },
      {
       "output_type": "stream",
       "stream": "stdout",
       "text": [
        "\n",
        "2866 = 0.0104276097829"
       ]
      },
      {
       "output_type": "stream",
       "stream": "stdout",
       "text": [
        "\n",
        "2867 = 0.0107652826514"
       ]
      },
      {
       "output_type": "stream",
       "stream": "stdout",
       "text": [
        "\n",
        "2868 = 0.0108138443543"
       ]
      },
      {
       "output_type": "stream",
       "stream": "stdout",
       "text": [
        "\n",
        "2869 = 0.0101155543646"
       ]
      },
      {
       "output_type": "stream",
       "stream": "stdout",
       "text": [
        "\n",
        "2870 = 0.0104023213939"
       ]
      },
      {
       "output_type": "stream",
       "stream": "stdout",
       "text": [
        "\n",
        "2871 = 0.0105861536668"
       ]
      },
      {
       "output_type": "stream",
       "stream": "stdout",
       "text": [
        "\n",
        "2872 = 0.0103577109518"
       ]
      },
      {
       "output_type": "stream",
       "stream": "stdout",
       "text": [
        "\n",
        "2873 = 0.0106813887988"
       ]
      },
      {
       "output_type": "stream",
       "stream": "stdout",
       "text": [
        "\n",
        "2874 = 0.0108123614418"
       ]
      },
      {
       "output_type": "stream",
       "stream": "stdout",
       "text": [
        "\n",
        "2875 = 0.0101977967026"
       ]
      },
      {
       "output_type": "stream",
       "stream": "stdout",
       "text": [
        "\n",
        "2876 = 0.0105151524725"
       ]
      },
      {
       "output_type": "stream",
       "stream": "stdout",
       "text": [
        "\n",
        "2877 = 0.0103550200701"
       ]
      },
      {
       "output_type": "stream",
       "stream": "stdout",
       "text": [
        "\n",
        "2878 = 0.0102521879469"
       ]
      },
      {
       "output_type": "stream",
       "stream": "stdout",
       "text": [
        "\n",
        "2879 = 0.0107207234943"
       ]
      },
      {
       "output_type": "stream",
       "stream": "stdout",
       "text": [
        "\n",
        "2880 = 0.0109619096078"
       ]
      },
      {
       "output_type": "stream",
       "stream": "stdout",
       "text": [
        "\n",
        "2881 = 0.0102993658019"
       ]
      },
      {
       "output_type": "stream",
       "stream": "stdout",
       "text": [
        "\n",
        "2882 = 0.0104103802377"
       ]
      },
      {
       "output_type": "stream",
       "stream": "stdout",
       "text": [
        "\n",
        "2883 = 0.0103004396778"
       ]
      },
      {
       "output_type": "stream",
       "stream": "stdout",
       "text": [
        "\n",
        "2884 = 0.0106930216684"
       ]
      },
      {
       "output_type": "stream",
       "stream": "stdout",
       "text": [
        "\n",
        "2885 = 0.0104657830226"
       ]
      },
      {
       "output_type": "stream",
       "stream": "stdout",
       "text": [
        "\n",
        "2886 = 0.0108979074303"
       ]
      },
      {
       "output_type": "stream",
       "stream": "stdout",
       "text": [
        "\n",
        "2887 = 0.0102982925717"
       ]
      },
      {
       "output_type": "stream",
       "stream": "stdout",
       "text": [
        "\n",
        "2888 = 0.0102866029515"
       ]
      },
      {
       "output_type": "stream",
       "stream": "stdout",
       "text": [
        "\n",
        "2889 = 0.0104668553398"
       ]
      },
      {
       "output_type": "stream",
       "stream": "stdout",
       "text": [
        "\n",
        "2890 = 0.0104888886431"
       ]
      },
      {
       "output_type": "stream",
       "stream": "stdout",
       "text": [
        "\n",
        "2891 = 0.0104293164716"
       ]
      },
      {
       "output_type": "stream",
       "stream": "stdout",
       "text": [
        "\n",
        "2892 = 0.0110959676383"
       ]
      },
      {
       "output_type": "stream",
       "stream": "stdout",
       "text": [
        "\n",
        "2893 = 0.0101668548855"
       ]
      },
      {
       "output_type": "stream",
       "stream": "stdout",
       "text": [
        "\n",
        "2894 = 0.0103547508758"
       ]
      },
      {
       "output_type": "stream",
       "stream": "stdout",
       "text": [
        "\n",
        "2895 = 0.0105383427344"
       ]
      },
      {
       "output_type": "stream",
       "stream": "stdout",
       "text": [
        "\n",
        "2896 = 0.0103944483576"
       ]
      },
      {
       "output_type": "stream",
       "stream": "stdout",
       "text": [
        "\n",
        "2897 = 0.0108822717738"
       ]
      },
      {
       "output_type": "stream",
       "stream": "stdout",
       "text": [
        "\n",
        "2898 = 0.0107587187785"
       ]
      },
      {
       "output_type": "stream",
       "stream": "stdout",
       "text": [
        "\n",
        "2899 = 0.0100258039027"
       ]
      },
      {
       "output_type": "stream",
       "stream": "stdout",
       "text": [
        "\n",
        "2900 = 0.010586103508"
       ]
      },
      {
       "output_type": "stream",
       "stream": "stdout",
       "text": [
        "\n",
        "2901 = 0.0104061509667"
       ]
      },
      {
       "output_type": "stream",
       "stream": "stdout",
       "text": [
        "\n",
        "2902 = 0.0103976260104"
       ]
      },
      {
       "output_type": "stream",
       "stream": "stdout",
       "text": [
        "\n",
        "2903 = 0.0108302923102"
       ]
      },
      {
       "output_type": "stream",
       "stream": "stdout",
       "text": [
        "\n",
        "2904 = 0.0108006834348"
       ]
      },
      {
       "output_type": "stream",
       "stream": "stdout",
       "text": [
        "\n",
        "2905 = 0.0104680549086"
       ]
      },
      {
       "output_type": "stream",
       "stream": "stdout",
       "text": [
        "\n",
        "2906 = 0.0103238816021"
       ]
      },
      {
       "output_type": "stream",
       "stream": "stdout",
       "text": [
        "\n",
        "2907 = 0.0103816221107"
       ]
      },
      {
       "output_type": "stream",
       "stream": "stdout",
       "text": [
        "\n",
        "2908 = 0.0105596720087"
       ]
      },
      {
       "output_type": "stream",
       "stream": "stdout",
       "text": [
        "\n",
        "2909 = 0.0108296365652"
       ]
      },
      {
       "output_type": "stream",
       "stream": "stdout",
       "text": [
        "\n",
        "2910 = 0.0110192785762"
       ]
      },
      {
       "output_type": "stream",
       "stream": "stdout",
       "text": [
        "\n",
        "2911 = 0.0102715322003"
       ]
      },
      {
       "output_type": "stream",
       "stream": "stdout",
       "text": [
        "\n",
        "2912 = 0.0104082760839"
       ]
      },
      {
       "output_type": "stream",
       "stream": "stdout",
       "text": [
        "\n",
        "2913 = 0.010622147212"
       ]
      },
      {
       "output_type": "stream",
       "stream": "stdout",
       "text": [
        "\n",
        "2914 = 0.0104398050321"
       ]
      },
      {
       "output_type": "stream",
       "stream": "stdout",
       "text": [
        "\n",
        "2915 = 0.011093942532"
       ]
      },
      {
       "output_type": "stream",
       "stream": "stdout",
       "text": [
        "\n",
        "2916 = 0.0107086457044"
       ]
      },
      {
       "output_type": "stream",
       "stream": "stdout",
       "text": [
        "\n",
        "2917 = 0.0101281957885"
       ]
      },
      {
       "output_type": "stream",
       "stream": "stdout",
       "text": [
        "\n",
        "2918 = 0.0105522196293"
       ]
      },
      {
       "output_type": "stream",
       "stream": "stdout",
       "text": [
        "\n",
        "2919 = 0.0104002461193"
       ]
      },
      {
       "output_type": "stream",
       "stream": "stdout",
       "text": [
        "\n",
        "2920 = 0.0106341255433"
       ]
      },
      {
       "output_type": "stream",
       "stream": "stdout",
       "text": [
        "\n",
        "2921 = 0.0109020495262"
       ]
      },
      {
       "output_type": "stream",
       "stream": "stdout",
       "text": [
        "\n",
        "2922 = 0.0108531908668"
       ]
      },
      {
       "output_type": "stream",
       "stream": "stdout",
       "text": [
        "\n",
        "2923 = 0.0103857104322"
       ]
      },
      {
       "output_type": "stream",
       "stream": "stdout",
       "text": [
        "\n",
        "2924 = 0.0104223169568"
       ]
      },
      {
       "output_type": "stream",
       "stream": "stdout",
       "text": [
        "\n",
        "2925 = 0.0106148703791"
       ]
      },
      {
       "output_type": "stream",
       "stream": "stdout",
       "text": [
        "\n",
        "2926 = 0.0105521304231"
       ]
      },
      {
       "output_type": "stream",
       "stream": "stdout",
       "text": [
        "\n",
        "2927 = 0.0109528092154"
       ]
      },
      {
       "output_type": "stream",
       "stream": "stdout",
       "text": [
        "\n",
        "2928 = 0.0111222699108"
       ]
      },
      {
       "output_type": "stream",
       "stream": "stdout",
       "text": [
        "\n",
        "2929 = 0.0101782169335"
       ]
      },
      {
       "output_type": "stream",
       "stream": "stdout",
       "text": [
        "\n",
        "2930 = 0.0106427449999"
       ]
      },
      {
       "output_type": "stream",
       "stream": "stdout",
       "text": [
        "\n",
        "2931 = 0.0105359768179"
       ]
      },
      {
       "output_type": "stream",
       "stream": "stdout",
       "text": [
        "\n",
        "2932 = 0.0103914546439"
       ]
      },
      {
       "output_type": "stream",
       "stream": "stdout",
       "text": [
        "\n",
        "2933 = 0.0108430729325"
       ]
      },
      {
       "output_type": "stream",
       "stream": "stdout",
       "text": [
        "\n",
        "2934 = 0.0109649414319"
       ]
      },
      {
       "output_type": "stream",
       "stream": "stdout",
       "text": [
        "\n",
        "2935 = 0.0105242075459"
       ]
      },
      {
       "output_type": "stream",
       "stream": "stdout",
       "text": [
        "\n",
        "2936 = 0.0104676161133"
       ]
      },
      {
       "output_type": "stream",
       "stream": "stdout",
       "text": [
        "\n",
        "2937 = 0.0103500279424"
       ]
      },
      {
       "output_type": "stream",
       "stream": "stdout",
       "text": [
        "\n",
        "2938 = 0.0106451660208"
       ]
      },
      {
       "output_type": "stream",
       "stream": "stdout",
       "text": [
        "\n",
        "2939 = 0.0104403192391"
       ]
      },
      {
       "output_type": "stream",
       "stream": "stdout",
       "text": [
        "\n",
        "2940 = 0.0112217891064"
       ]
      },
      {
       "output_type": "stream",
       "stream": "stdout",
       "text": [
        "\n",
        "2941 = 0.0102552658138"
       ]
      },
      {
       "output_type": "stream",
       "stream": "stdout",
       "text": [
        "\n",
        "2942 = 0.0105522262736"
       ]
      },
      {
       "output_type": "stream",
       "stream": "stdout",
       "text": [
        "\n",
        "2943 = 0.0107079358623"
       ]
      },
      {
       "output_type": "stream",
       "stream": "stdout",
       "text": [
        "\n",
        "2944 = 0.0104721145508"
       ]
      },
      {
       "output_type": "stream",
       "stream": "stdout",
       "text": [
        "\n",
        "2945 = 0.0106794319028"
       ]
      },
      {
       "output_type": "stream",
       "stream": "stdout",
       "text": [
        "\n",
        "2946 = 0.0108020451587"
       ]
      },
      {
       "output_type": "stream",
       "stream": "stdout",
       "text": [
        "\n",
        "2947 = 0.0104744463464"
       ]
      },
      {
       "output_type": "stream",
       "stream": "stdout",
       "text": [
        "\n",
        "2948 = 0.0104557861638"
       ]
      },
      {
       "output_type": "stream",
       "stream": "stdout",
       "text": [
        "\n",
        "2949 = 0.0104892925293"
       ]
      },
      {
       "output_type": "stream",
       "stream": "stdout",
       "text": [
        "\n",
        "2950 = 0.0107512504139"
       ]
      },
      {
       "output_type": "stream",
       "stream": "stdout",
       "text": [
        "\n",
        "2951 = 0.0105291242577"
       ]
      },
      {
       "output_type": "stream",
       "stream": "stdout",
       "text": [
        "\n",
        "2952 = 0.011260319234"
       ]
      },
      {
       "output_type": "stream",
       "stream": "stdout",
       "text": [
        "\n",
        "2953 = 0.010390393379"
       ]
      },
      {
       "output_type": "stream",
       "stream": "stdout",
       "text": [
        "\n",
        "2954 = 0.0104144788045"
       ]
      },
      {
       "output_type": "stream",
       "stream": "stdout",
       "text": [
        "\n",
        "2955 = 0.0106971051093"
       ]
      },
      {
       "output_type": "stream",
       "stream": "stdout",
       "text": [
        "\n",
        "2956 = 0.0104650126269"
       ]
      },
      {
       "output_type": "stream",
       "stream": "stdout",
       "text": [
        "\n",
        "2957 = 0.0107117826186"
       ]
      },
      {
       "output_type": "stream",
       "stream": "stdout",
       "text": [
        "\n",
        "2958 = 0.0108344058812"
       ]
      },
      {
       "output_type": "stream",
       "stream": "stdout",
       "text": [
        "\n",
        "2959 = 0.0107717047754"
       ]
      },
      {
       "output_type": "stream",
       "stream": "stdout",
       "text": [
        "\n",
        "2960 = 0.0103730897471"
       ]
      },
      {
       "output_type": "stream",
       "stream": "stdout",
       "text": [
        "\n",
        "2961 = 0.0105418605424"
       ]
      },
      {
       "output_type": "stream",
       "stream": "stdout",
       "text": [
        "\n",
        "2962 = 0.0106237249595"
       ]
      },
      {
       "output_type": "stream",
       "stream": "stdout",
       "text": [
        "\n",
        "2963 = 0.010489275768"
       ]
      },
      {
       "output_type": "stream",
       "stream": "stdout",
       "text": [
        "\n",
        "2964 = 0.0111075372341"
       ]
      },
      {
       "output_type": "stream",
       "stream": "stdout",
       "text": [
        "\n",
        "2965 = 0.0107569424726"
       ]
      },
      {
       "output_type": "stream",
       "stream": "stdout",
       "text": [
        "\n",
        "2966 = 0.0105618465244"
       ]
      },
      {
       "output_type": "stream",
       "stream": "stdout",
       "text": [
        "\n",
        "2967 = 0.0105486913324"
       ]
      },
      {
       "output_type": "stream",
       "stream": "stdout",
       "text": [
        "\n",
        "2968 = 0.0106046839283"
       ]
      },
      {
       "output_type": "stream",
       "stream": "stdout",
       "text": [
        "\n",
        "2969 = 0.0107014594518"
       ]
      },
      {
       "output_type": "stream",
       "stream": "stdout",
       "text": [
        "\n",
        "2970 = 0.010503408578"
       ]
      },
      {
       "output_type": "stream",
       "stream": "stdout",
       "text": [
        "\n",
        "2971 = 0.0111220515401"
       ]
      },
      {
       "output_type": "stream",
       "stream": "stdout",
       "text": [
        "\n",
        "2972 = 0.0104037265598"
       ]
      },
      {
       "output_type": "stream",
       "stream": "stdout",
       "text": [
        "\n",
        "2973 = 0.0107686736383"
       ]
      },
      {
       "output_type": "stream",
       "stream": "stdout",
       "text": [
        "\n",
        "2974 = 0.0105295357281"
       ]
      },
      {
       "output_type": "stream",
       "stream": "stdout",
       "text": [
        "\n",
        "2975 = 0.0106571218233"
       ]
      },
      {
       "output_type": "stream",
       "stream": "stdout",
       "text": [
        "\n",
        "2976 = 0.0104577517913"
       ]
      },
      {
       "output_type": "stream",
       "stream": "stdout",
       "text": [
        "\n",
        "2977 = 0.0108922339367"
       ]
      },
      {
       "output_type": "stream",
       "stream": "stdout",
       "text": [
        "\n",
        "2978 = 0.0106298922911"
       ]
      },
      {
       "output_type": "stream",
       "stream": "stdout",
       "text": [
        "\n",
        "2979 = 0.0103222004493"
       ]
      },
      {
       "output_type": "stream",
       "stream": "stdout",
       "text": [
        "\n",
        "2980 = 0.0107228096614"
       ]
      },
      {
       "output_type": "stream",
       "stream": "stdout",
       "text": [
        "\n",
        "2981 = 0.0106440248831"
       ]
      },
      {
       "output_type": "stream",
       "stream": "stdout",
       "text": [
        "\n",
        "2982 = 0.0105843911955"
       ]
      },
      {
       "output_type": "stream",
       "stream": "stdout",
       "text": [
        "\n",
        "2983 = 0.010938877338"
       ]
      },
      {
       "output_type": "stream",
       "stream": "stdout",
       "text": [
        "\n",
        "2984 = 0.0103316991935"
       ]
      },
      {
       "output_type": "stream",
       "stream": "stdout",
       "text": [
        "\n",
        "2985 = 0.0104689432083"
       ]
      },
      {
       "output_type": "stream",
       "stream": "stdout",
       "text": [
        "\n",
        "2986 = 0.0103808438465"
       ]
      },
      {
       "output_type": "stream",
       "stream": "stdout",
       "text": [
        "\n",
        "2987 = 0.0109187022551"
       ]
      },
      {
       "output_type": "stream",
       "stream": "stdout",
       "text": [
        "\n",
        "2988 = 0.0105257835514"
       ]
      },
      {
       "output_type": "stream",
       "stream": "stdout",
       "text": [
        "\n",
        "2989 = 0.011097533551"
       ]
      },
      {
       "output_type": "stream",
       "stream": "stdout",
       "text": [
        "\n",
        "2990 = 0.0109080375423"
       ]
      },
      {
       "output_type": "stream",
       "stream": "stdout",
       "text": [
        "\n",
        "2991 = 0.0103518255598"
       ]
      },
      {
       "output_type": "stream",
       "stream": "stdout",
       "text": [
        "\n",
        "2992 = 0.0105485793053"
       ]
      },
      {
       "output_type": "stream",
       "stream": "stdout",
       "text": [
        "\n",
        "2993 = 0.0105854454073"
       ]
      },
      {
       "output_type": "stream",
       "stream": "stdout",
       "text": [
        "\n",
        "2994 = 0.0107069293922"
       ]
      },
      {
       "output_type": "stream",
       "stream": "stdout",
       "text": [
        "\n",
        "2995 = 0.0102948247418"
       ]
      },
      {
       "output_type": "stream",
       "stream": "stdout",
       "text": [
        "\n",
        "2996 = 0.0112132108036"
       ]
      },
      {
       "output_type": "stream",
       "stream": "stdout",
       "text": [
        "\n",
        "2997 = 0.0104361765749"
       ]
      },
      {
       "output_type": "stream",
       "stream": "stdout",
       "text": [
        "\n",
        "2998 = 0.0107046839737"
       ]
      },
      {
       "output_type": "stream",
       "stream": "stdout",
       "text": [
        "\n",
        "2999 = 0.0106844541448"
       ]
      },
      {
       "output_type": "stream",
       "stream": "stdout",
       "text": [
        "\n",
        "3000 = 0.0106042020456"
       ]
      },
      {
       "output_type": "stream",
       "stream": "stdout",
       "text": [
        "\n",
        "3001 = 0.0105622541758"
       ]
      },
      {
       "output_type": "stream",
       "stream": "stdout",
       "text": [
        "\n",
        "3002 = 0.0108388804763"
       ]
      },
      {
       "output_type": "stream",
       "stream": "stdout",
       "text": [
        "\n",
        "3003 = 0.0105440729284"
       ]
      },
      {
       "output_type": "stream",
       "stream": "stdout",
       "text": [
        "\n",
        "3004 = 0.0104314915776"
       ]
      },
      {
       "output_type": "stream",
       "stream": "stdout",
       "text": [
        "\n",
        "3005 = 0.010844428544"
       ]
      },
      {
       "output_type": "stream",
       "stream": "stdout",
       "text": [
        "\n",
        "3006 = 0.0105192512025"
       ]
      },
      {
       "output_type": "stream",
       "stream": "stdout",
       "text": [
        "\n",
        "3007 = 0.0108193680088"
       ]
      },
      {
       "output_type": "stream",
       "stream": "stdout",
       "text": [
        "\n",
        "3008 = 0.0109498558114"
       ]
      },
      {
       "output_type": "stream",
       "stream": "stdout",
       "text": [
        "\n",
        "3009 = 0.0104885868344"
       ]
      },
      {
       "output_type": "stream",
       "stream": "stdout",
       "text": [
        "\n",
        "3010 = 0.0105914464838"
       ]
      },
      {
       "output_type": "stream",
       "stream": "stdout",
       "text": [
        "\n",
        "3011 = 0.0105709758732"
       ]
      },
      {
       "output_type": "stream",
       "stream": "stdout",
       "text": [
        "\n",
        "3012 = 0.0107999901674"
       ]
      },
      {
       "output_type": "stream",
       "stream": "stdout",
       "text": [
        "\n",
        "3013 = 0.0105826998832"
       ]
      },
      {
       "output_type": "stream",
       "stream": "stdout",
       "text": [
        "\n",
        "3014 = 0.0112885374358"
       ]
      },
      {
       "output_type": "stream",
       "stream": "stdout",
       "text": [
        "\n",
        "3015 = 0.0108370562747"
       ]
      },
      {
       "output_type": "stream",
       "stream": "stdout",
       "text": [
        "\n",
        "3016 = 0.0104093233167"
       ]
      },
      {
       "output_type": "stream",
       "stream": "stdout",
       "text": [
        "\n",
        "3017 = 0.0104910939922"
       ]
      },
      {
       "output_type": "stream",
       "stream": "stdout",
       "text": [
        "\n",
        "3018 = 0.010642353475"
       ]
      },
      {
       "output_type": "stream",
       "stream": "stdout",
       "text": [
        "\n",
        "3019 = 0.0106469426019"
       ]
      },
      {
       "output_type": "stream",
       "stream": "stdout",
       "text": [
        "\n",
        "3020 = 0.0105845242083"
       ]
      },
      {
       "output_type": "stream",
       "stream": "stdout",
       "text": [
        "\n",
        "3021 = 0.0111087631824"
       ]
      },
      {
       "output_type": "stream",
       "stream": "stdout",
       "text": [
        "\n",
        "3022 = 0.0105509342031"
       ]
      },
      {
       "output_type": "stream",
       "stream": "stdout",
       "text": [
        "\n",
        "3023 = 0.0104873933028"
       ]
      },
      {
       "output_type": "stream",
       "stream": "stdout",
       "text": [
        "\n",
        "3024 = 0.0105351488366"
       ]
      },
      {
       "output_type": "stream",
       "stream": "stdout",
       "text": [
        "\n",
        "3025 = 0.0108042540991"
       ]
      },
      {
       "output_type": "stream",
       "stream": "stdout",
       "text": [
        "\n",
        "3026 = 0.0106257766955"
       ]
      },
      {
       "output_type": "stream",
       "stream": "stdout",
       "text": [
        "\n",
        "3027 = 0.0108186682215"
       ]
      },
      {
       "output_type": "stream",
       "stream": "stdout",
       "text": [
        "\n",
        "3028 = 0.0110164375105"
       ]
      },
      {
       "output_type": "stream",
       "stream": "stdout",
       "text": [
        "\n",
        "3029 = 0.0104115173565"
       ]
      },
      {
       "output_type": "stream",
       "stream": "stdout",
       "text": [
        "\n",
        "3030 = 0.0105675417484"
       ]
      },
      {
       "output_type": "stream",
       "stream": "stdout",
       "text": [
        "\n",
        "3031 = 0.0106540640631"
       ]
      },
      {
       "output_type": "stream",
       "stream": "stdout",
       "text": [
        "\n",
        "3032 = 0.0107981865084"
       ]
      },
      {
       "output_type": "stream",
       "stream": "stdout",
       "text": [
        "\n",
        "3033 = 0.010389561312"
       ]
      },
      {
       "output_type": "stream",
       "stream": "stdout",
       "text": [
        "\n",
        "3034 = 0.0112650704878"
       ]
      },
      {
       "output_type": "stream",
       "stream": "stdout",
       "text": [
        "\n",
        "3035 = 0.0104038147979"
       ]
      },
      {
       "output_type": "stream",
       "stream": "stdout",
       "text": [
        "\n",
        "3036 = 0.0106602676075"
       ]
      },
      {
       "output_type": "stream",
       "stream": "stdout",
       "text": [
        "\n",
        "3037 = 0.0105641872863"
       ]
      },
      {
       "output_type": "stream",
       "stream": "stdout",
       "text": [
        "\n",
        "3038 = 0.0108142142525"
       ]
      },
      {
       "output_type": "stream",
       "stream": "stdout",
       "text": [
        "\n",
        "3039 = 0.0106357247443"
       ]
      },
      {
       "output_type": "stream",
       "stream": "stdout",
       "text": [
        "\n",
        "3040 = 0.0109638767889"
       ]
      },
      {
       "output_type": "stream",
       "stream": "stdout",
       "text": [
        "\n",
        "3041 = 0.0111917668034"
       ]
      },
      {
       "output_type": "stream",
       "stream": "stdout",
       "text": [
        "\n",
        "3042 = 0.0101927351832"
       ]
      },
      {
       "output_type": "stream",
       "stream": "stdout",
       "text": [
        "\n",
        "3043 = 0.0106950265345"
       ]
      },
      {
       "output_type": "stream",
       "stream": "stdout",
       "text": [
        "\n",
        "3044 = 0.0106007993206"
       ]
      },
      {
       "output_type": "stream",
       "stream": "stdout",
       "text": [
        "\n",
        "3045 = 0.0108346141165"
       ]
      },
      {
       "output_type": "stream",
       "stream": "stdout",
       "text": [
        "\n",
        "3046 = 0.0107345114697"
       ]
      },
      {
       "output_type": "stream",
       "stream": "stdout",
       "text": [
        "\n",
        "3047 = 0.0111140377297"
       ]
      },
      {
       "output_type": "stream",
       "stream": "stdout",
       "text": [
        "\n",
        "3048 = 0.0103284703878"
       ]
      },
      {
       "output_type": "stream",
       "stream": "stdout",
       "text": [
        "\n",
        "3049 = 0.0105684821326"
       ]
      },
      {
       "output_type": "stream",
       "stream": "stdout",
       "text": [
        "\n",
        "3050 = 0.0106433066167"
       ]
      },
      {
       "output_type": "stream",
       "stream": "stdout",
       "text": [
        "\n",
        "3051 = 0.0106214998983"
       ]
      },
      {
       "output_type": "stream",
       "stream": "stdout",
       "text": [
        "\n",
        "3052 = 0.0107595558733"
       ]
      },
      {
       "output_type": "stream",
       "stream": "stdout",
       "text": [
        "\n",
        "3053 = 0.0109887402265"
       ]
      },
      {
       "output_type": "stream",
       "stream": "stdout",
       "text": [
        "\n",
        "3054 = 0.010863498968"
       ]
      },
      {
       "output_type": "stream",
       "stream": "stdout",
       "text": [
        "\n",
        "3055 = 0.0103260755557"
       ]
      },
      {
       "output_type": "stream",
       "stream": "stdout",
       "text": [
        "\n",
        "3056 = 0.0108644612548"
       ]
      },
      {
       "output_type": "stream",
       "stream": "stdout",
       "text": [
        "\n",
        "3057 = 0.0106346489001"
       ]
      },
      {
       "output_type": "stream",
       "stream": "stdout",
       "text": [
        "\n",
        "3058 = 0.0108518010057"
       ]
      },
      {
       "output_type": "stream",
       "stream": "stdout",
       "text": [
        "\n",
        "3059 = 0.0105513368894"
       ]
      },
      {
       "output_type": "stream",
       "stream": "stdout",
       "text": [
        "\n",
        "3060 = 0.0110483292374"
       ]
      },
      {
       "output_type": "stream",
       "stream": "stdout",
       "text": [
        "\n",
        "3061 = 0.0104241229626"
       ]
      },
      {
       "output_type": "stream",
       "stream": "stdout",
       "text": [
        "\n",
        "3062 = 0.0105278397711"
       ]
      },
      {
       "output_type": "stream",
       "stream": "stdout",
       "text": [
        "\n",
        "3063 = 0.0107424146648"
       ]
      },
      {
       "output_type": "stream",
       "stream": "stdout",
       "text": [
        "\n",
        "3064 = 0.0106119346633"
       ]
      },
      {
       "output_type": "stream",
       "stream": "stdout",
       "text": [
        "\n",
        "3065 = 0.0108105432975"
       ]
      },
      {
       "output_type": "stream",
       "stream": "stdout",
       "text": [
        "\n",
        "3066 = 0.0108728534536"
       ]
      },
      {
       "output_type": "stream",
       "stream": "stdout",
       "text": [
        "\n",
        "3067 = 0.010730887273"
       ]
      },
      {
       "output_type": "stream",
       "stream": "stdout",
       "text": [
        "\n",
        "3068 = 0.0104497430182"
       ]
      },
      {
       "output_type": "stream",
       "stream": "stdout",
       "text": [
        "\n",
        "3069 = 0.0107383315821"
       ]
      },
      {
       "output_type": "stream",
       "stream": "stdout",
       "text": [
        "\n",
        "3070 = 0.0107587917544"
       ]
      },
      {
       "output_type": "stream",
       "stream": "stdout",
       "text": [
        "\n",
        "3071 = 0.0106555940515"
       ]
      },
      {
       "output_type": "stream",
       "stream": "stdout",
       "text": [
        "\n",
        "3072 = 0.0113059799192"
       ]
      },
      {
       "output_type": "stream",
       "stream": "stdout",
       "text": [
        "\n",
        "3073 = 0.0106177331674"
       ]
      },
      {
       "output_type": "stream",
       "stream": "stdout",
       "text": [
        "\n",
        "3074 = 0.0105372980102"
       ]
      },
      {
       "output_type": "stream",
       "stream": "stdout",
       "text": [
        "\n",
        "3075 = 0.0105961883857"
       ]
      },
      {
       "output_type": "stream",
       "stream": "stdout",
       "text": [
        "\n",
        "3076 = 0.0107814250472"
       ]
      },
      {
       "output_type": "stream",
       "stream": "stdout",
       "text": [
        "\n",
        "3077 = 0.0106321430353"
       ]
      },
      {
       "output_type": "stream",
       "stream": "stdout",
       "text": [
        "\n",
        "3078 = 0.0108591009462"
       ]
      },
      {
       "output_type": "stream",
       "stream": "stdout",
       "text": [
        "\n",
        "3079 = 0.0109680299442"
       ]
      },
      {
       "output_type": "stream",
       "stream": "stdout",
       "text": [
        "\n",
        "3080 = 0.0104108916359"
       ]
      },
      {
       "output_type": "stream",
       "stream": "stdout",
       "text": [
        "\n",
        "3081 = 0.0106246280349"
       ]
      },
      {
       "output_type": "stream",
       "stream": "stdout",
       "text": [
        "\n",
        "3082 = 0.0105621336957"
       ]
      },
      {
       "output_type": "stream",
       "stream": "stdout",
       "text": [
        "\n",
        "3083 = 0.0106922313057"
       ]
      },
      {
       "output_type": "stream",
       "stream": "stdout",
       "text": [
        "\n",
        "3084 = 0.0105801511634"
       ]
      },
      {
       "output_type": "stream",
       "stream": "stdout",
       "text": [
        "\n",
        "3085 = 0.0112608392102"
       ]
      },
      {
       "output_type": "stream",
       "stream": "stdout",
       "text": [
        "\n",
        "3086 = 0.0105686349811"
       ]
      },
      {
       "output_type": "stream",
       "stream": "stdout",
       "text": [
        "\n",
        "3087 = 0.0104552517755"
       ]
      },
      {
       "output_type": "stream",
       "stream": "stdout",
       "text": [
        "\n",
        "3088 = 0.0105135336796"
       ]
      },
      {
       "output_type": "stream",
       "stream": "stdout",
       "text": [
        "\n",
        "3089 = 0.0109441090543"
       ]
      },
      {
       "output_type": "stream",
       "stream": "stdout",
       "text": [
        "\n",
        "3090 = 0.0106155003476"
       ]
      },
      {
       "output_type": "stream",
       "stream": "stdout",
       "text": [
        "\n",
        "3091 = 0.0107392114793"
       ]
      },
      {
       "output_type": "stream",
       "stream": "stdout",
       "text": [
        "\n",
        "3092 = 0.0110614494996"
       ]
      },
      {
       "output_type": "stream",
       "stream": "stdout",
       "text": [
        "\n",
        "3093 = 0.0103783120982"
       ]
      },
      {
       "output_type": "stream",
       "stream": "stdout",
       "text": [
        "\n",
        "3094 = 0.0106277495243"
       ]
      },
      {
       "output_type": "stream",
       "stream": "stdout",
       "text": [
        "\n",
        "3095 = 0.0105621931331"
       ]
      },
      {
       "output_type": "stream",
       "stream": "stdout",
       "text": [
        "\n",
        "3096 = 0.0107125631596"
       ]
      },
      {
       "output_type": "stream",
       "stream": "stdout",
       "text": [
        "\n",
        "3097 = 0.0105609117223"
       ]
      },
      {
       "output_type": "stream",
       "stream": "stdout",
       "text": [
        "\n",
        "3098 = 0.0112441288808"
       ]
      },
      {
       "output_type": "stream",
       "stream": "stdout",
       "text": [
        "\n",
        "3099 = 0.0110520003285"
       ]
      },
      {
       "output_type": "stream",
       "stream": "stdout",
       "text": [
        "\n",
        "3100 = 0.0104360700547"
       ]
      },
      {
       "output_type": "stream",
       "stream": "stdout",
       "text": [
        "\n",
        "3101 = 0.0105866670956"
       ]
      },
      {
       "output_type": "stream",
       "stream": "stdout",
       "text": [
        "\n",
        "3102 = 0.0108400319723"
       ]
      },
      {
       "output_type": "stream",
       "stream": "stdout",
       "text": [
        "\n",
        "3103 = 0.0106190492192"
       ]
      },
      {
       "output_type": "stream",
       "stream": "stdout",
       "text": [
        "\n",
        "3104 = 0.0106218363919"
       ]
      },
      {
       "output_type": "stream",
       "stream": "stdout",
       "text": [
        "\n",
        "3105 = 0.0111309461732"
       ]
      },
      {
       "output_type": "stream",
       "stream": "stdout",
       "text": [
        "\n",
        "3106 = 0.0102497412302"
       ]
      },
      {
       "output_type": "stream",
       "stream": "stdout",
       "text": [
        "\n",
        "3107 = 0.0105689082685"
       ]
      },
      {
       "output_type": "stream",
       "stream": "stdout",
       "text": [
        "\n",
        "3108 = 0.0105594730891"
       ]
      },
      {
       "output_type": "stream",
       "stream": "stdout",
       "text": [
        "\n",
        "3109 = 0.0108095055563"
       ]
      },
      {
       "output_type": "stream",
       "stream": "stdout",
       "text": [
        "\n",
        "3110 = 0.0106667736482"
       ]
      },
      {
       "output_type": "stream",
       "stream": "stdout",
       "text": [
        "\n",
        "3111 = 0.0111858165759"
       ]
      },
      {
       "output_type": "stream",
       "stream": "stdout",
       "text": [
        "\n",
        "3112 = 0.0107531249807"
       ]
      },
      {
       "output_type": "stream",
       "stream": "stdout",
       "text": [
        "\n",
        "3113 = 0.0103211451072"
       ]
      },
      {
       "output_type": "stream",
       "stream": "stdout",
       "text": [
        "\n",
        "3114 = 0.0105874497162"
       ]
      },
      {
       "output_type": "stream",
       "stream": "stdout",
       "text": [
        "\n",
        "3115 = 0.0105829405159"
       ]
      },
      {
       "output_type": "stream",
       "stream": "stdout",
       "text": [
        "\n",
        "3116 = 0.010830117976"
       ]
      },
      {
       "output_type": "stream",
       "stream": "stdout",
       "text": [
        "\n",
        "3117 = 0.0104836738148"
       ]
      },
      {
       "output_type": "stream",
       "stream": "stdout",
       "text": [
        "\n",
        "3118 = 0.0112830324621"
       ]
      },
      {
       "output_type": "stream",
       "stream": "stdout",
       "text": [
        "\n",
        "3119 = 0.0103568377113"
       ]
      },
      {
       "output_type": "stream",
       "stream": "stdout",
       "text": [
        "\n",
        "3120 = 0.0106525621513"
       ]
      },
      {
       "output_type": "stream",
       "stream": "stdout",
       "text": [
        "\n",
        "3121 = 0.0105359043727"
       ]
      },
      {
       "output_type": "stream",
       "stream": "stdout",
       "text": [
        "\n",
        "3122 = 0.0107976075427"
       ]
      },
      {
       "output_type": "stream",
       "stream": "stdout",
       "text": [
        "\n",
        "3123 = 0.010657527083"
       ]
      },
      {
       "output_type": "stream",
       "stream": "stdout",
       "text": [
        "\n",
        "3124 = 0.0109808442988"
       ]
      },
      {
       "output_type": "stream",
       "stream": "stdout",
       "text": [
        "\n",
        "3125 = 0.0110831756875"
       ]
      },
      {
       "output_type": "stream",
       "stream": "stdout",
       "text": [
        "\n",
        "3126 = 0.0103246012126"
       ]
      },
      {
       "output_type": "stream",
       "stream": "stdout",
       "text": [
        "\n",
        "3127 = 0.0107259364314"
       ]
      },
      {
       "output_type": "stream",
       "stream": "stdout",
       "text": [
        "\n",
        "3128 = 0.0105556902631"
       ]
      },
      {
       "output_type": "stream",
       "stream": "stdout",
       "text": [
        "\n",
        "3129 = 0.0108855094137"
       ]
      },
      {
       "output_type": "stream",
       "stream": "stdout",
       "text": [
        "\n",
        "3130 = 0.0105458609619"
       ]
      },
      {
       "output_type": "stream",
       "stream": "stdout",
       "text": [
        "\n",
        "3131 = 0.0113102290986"
       ]
      },
      {
       "output_type": "stream",
       "stream": "stdout",
       "text": [
        "\n",
        "3132 = 0.0104272924489"
       ]
      },
      {
       "output_type": "stream",
       "stream": "stdout",
       "text": [
        "\n",
        "3133 = 0.0105877545455"
       ]
      },
      {
       "output_type": "stream",
       "stream": "stdout",
       "text": [
        "\n",
        "3134 = 0.0106810626206"
       ]
      },
      {
       "output_type": "stream",
       "stream": "stdout",
       "text": [
        "\n",
        "3135 = 0.0107626343629"
       ]
      },
      {
       "output_type": "stream",
       "stream": "stdout",
       "text": [
        "\n",
        "3136 = 0.0107557137261"
       ]
      },
      {
       "output_type": "stream",
       "stream": "stdout",
       "text": [
        "\n",
        "3137 = 0.0107926742486"
       ]
      },
      {
       "output_type": "stream",
       "stream": "stdout",
       "text": [
        "\n",
        "3138 = 0.0114121412094"
       ]
      },
      {
       "output_type": "stream",
       "stream": "stdout",
       "text": [
        "\n",
        "3139 = 0.0102300953"
       ]
      },
      {
       "output_type": "stream",
       "stream": "stdout",
       "text": [
        "\n",
        "3140 = 0.0107807348387"
       ]
      },
      {
       "output_type": "stream",
       "stream": "stdout",
       "text": [
        "\n",
        "3141 = 0.0106151602781"
       ]
      },
      {
       "output_type": "stream",
       "stream": "stdout",
       "text": [
        "\n",
        "3142 = 0.0108786543041"
       ]
      },
      {
       "output_type": "stream",
       "stream": "stdout",
       "text": [
        "\n",
        "3143 = 0.010677056924"
       ]
      },
      {
       "output_type": "stream",
       "stream": "stdout",
       "text": [
        "\n",
        "3144 = 0.0113604982458"
       ]
      },
      {
       "output_type": "stream",
       "stream": "stdout",
       "text": [
        "\n",
        "3145 = 0.0107124018834"
       ]
      },
      {
       "output_type": "stream",
       "stream": "stdout",
       "text": [
        "\n",
        "3146 = 0.010421700424"
       ]
      },
      {
       "output_type": "stream",
       "stream": "stdout",
       "text": [
        "\n",
        "3147 = 0.0106752157568"
       ]
      },
      {
       "output_type": "stream",
       "stream": "stdout",
       "text": [
        "\n",
        "3148 = 0.0106478510364"
       ]
      },
      {
       "output_type": "stream",
       "stream": "stdout",
       "text": [
        "\n",
        "3149 = 0.010883824658"
       ]
      },
      {
       "output_type": "stream",
       "stream": "stdout",
       "text": [
        "\n",
        "3150 = 0.0106492859655"
       ]
      },
      {
       "output_type": "stream",
       "stream": "stdout",
       "text": [
        "\n",
        "3151 = 0.0111654103323"
       ]
      },
      {
       "output_type": "stream",
       "stream": "stdout",
       "text": [
        "\n",
        "3152 = 0.0104451275375"
       ]
      },
      {
       "output_type": "stream",
       "stream": "stdout",
       "text": [
        "\n",
        "3153 = 0.0106660477036"
       ]
      },
      {
       "output_type": "stream",
       "stream": "stdout",
       "text": [
        "\n",
        "3154 = 0.0107407127178"
       ]
      },
      {
       "output_type": "stream",
       "stream": "stdout",
       "text": [
        "\n",
        "3155 = 0.0108335135692"
       ]
      },
      {
       "output_type": "stream",
       "stream": "stdout",
       "text": [
        "\n",
        "3156 = 0.0107082225004"
       ]
      },
      {
       "output_type": "stream",
       "stream": "stdout",
       "text": [
        "\n",
        "3157 = 0.0106503544309"
       ]
      },
      {
       "output_type": "stream",
       "stream": "stdout",
       "text": [
        "\n",
        "3158 = 0.0110733796704"
       ]
      },
      {
       "output_type": "stream",
       "stream": "stdout",
       "text": [
        "\n",
        "3159 = 0.0103049114726"
       ]
      },
      {
       "output_type": "stream",
       "stream": "stdout",
       "text": [
        "\n",
        "3160 = 0.0107328618015"
       ]
      },
      {
       "output_type": "stream",
       "stream": "stdout",
       "text": [
        "\n",
        "3161 = 0.0106402296233"
       ]
      },
      {
       "output_type": "stream",
       "stream": "stdout",
       "text": [
        "\n",
        "3162 = 0.0107829852882"
       ]
      },
      {
       "output_type": "stream",
       "stream": "stdout",
       "text": [
        "\n",
        "3163 = 0.0105702274807"
       ]
      },
      {
       "output_type": "stream",
       "stream": "stdout",
       "text": [
        "\n",
        "3164 = 0.0113221507384"
       ]
      },
      {
       "output_type": "stream",
       "stream": "stdout",
       "text": [
        "\n",
        "3165 = 0.0107559727516"
       ]
      },
      {
       "output_type": "stream",
       "stream": "stdout",
       "text": [
        "\n",
        "3166 = 0.0102720875513"
       ]
      },
      {
       "output_type": "stream",
       "stream": "stdout",
       "text": [
        "\n",
        "3167 = 0.0107584470711"
       ]
      },
      {
       "output_type": "stream",
       "stream": "stdout",
       "text": [
        "\n",
        "3168 = 0.0105374168838"
       ]
      },
      {
       "output_type": "stream",
       "stream": "stdout",
       "text": [
        "\n",
        "3169 = 0.0107438507784"
       ]
      },
      {
       "output_type": "stream",
       "stream": "stdout",
       "text": [
        "\n",
        "3170 = 0.0105455841626"
       ]
      },
      {
       "output_type": "stream",
       "stream": "stdout",
       "text": [
        "\n",
        "3171 = 0.0113125635986"
       ]
      },
      {
       "output_type": "stream",
       "stream": "stdout",
       "text": [
        "\n",
        "3172 = 0.0106547295442"
       ]
      },
      {
       "output_type": "stream",
       "stream": "stdout",
       "text": [
        "\n",
        "3173 = 0.0104211930022"
       ]
      },
      {
       "output_type": "stream",
       "stream": "stdout",
       "text": [
        "\n",
        "3174 = 0.0105823753796"
       ]
      },
      {
       "output_type": "stream",
       "stream": "stdout",
       "text": [
        "\n",
        "3175 = 0.0107139966765"
       ]
      },
      {
       "output_type": "stream",
       "stream": "stdout",
       "text": [
        "\n",
        "3176 = 0.0106324812678"
       ]
      },
      {
       "output_type": "stream",
       "stream": "stdout",
       "text": [
        "\n",
        "3177 = 0.0105768955874"
       ]
      },
      {
       "output_type": "stream",
       "stream": "stdout",
       "text": [
        "\n",
        "3178 = 0.0110953161892"
       ]
      },
      {
       "output_type": "stream",
       "stream": "stdout",
       "text": [
        "\n",
        "3179 = 0.0104895174199"
       ]
      },
      {
       "output_type": "stream",
       "stream": "stdout",
       "text": [
        "\n",
        "3180 = 0.0106974040423"
       ]
      },
      {
       "output_type": "stream",
       "stream": "stdout",
       "text": [
        "\n",
        "3181 = 0.0105767542375"
       ]
      },
      {
       "output_type": "stream",
       "stream": "stdout",
       "text": [
        "\n",
        "3182 = 0.0107612378891"
       ]
      },
      {
       "output_type": "stream",
       "stream": "stdout",
       "text": [
        "\n",
        "3183 = 0.010686094869"
       ]
      },
      {
       "output_type": "stream",
       "stream": "stdout",
       "text": [
        "\n",
        "3184 = 0.0110422525858"
       ]
      },
      {
       "output_type": "stream",
       "stream": "stdout",
       "text": [
        "\n",
        "3185 = 0.0112601153537"
       ]
      },
      {
       "output_type": "stream",
       "stream": "stdout",
       "text": [
        "\n",
        "3186 = 0.0101453283441"
       ]
      },
      {
       "output_type": "stream",
       "stream": "stdout",
       "text": [
        "\n",
        "3187 = 0.010697660377"
       ]
      },
      {
       "output_type": "stream",
       "stream": "stdout",
       "text": [
        "\n",
        "3188 = 0.0106655942041"
       ]
      },
      {
       "output_type": "stream",
       "stream": "stdout",
       "text": [
        "\n",
        "3189 = 0.0109314714454"
       ]
      },
      {
       "output_type": "stream",
       "stream": "stdout",
       "text": [
        "\n",
        "3190 = 0.0105857366946"
       ]
      },
      {
       "output_type": "stream",
       "stream": "stdout",
       "text": [
        "\n",
        "3191 = 0.0111468143698"
       ]
      },
      {
       "output_type": "stream",
       "stream": "stdout",
       "text": [
        "\n",
        "3192 = 0.0105151299675"
       ]
      },
      {
       "output_type": "stream",
       "stream": "stdout",
       "text": [
        "\n",
        "3193 = 0.010531980535"
       ]
      },
      {
       "output_type": "stream",
       "stream": "stdout",
       "text": [
        "\n",
        "3194 = 0.0107840627929"
       ]
      },
      {
       "output_type": "stream",
       "stream": "stdout",
       "text": [
        "\n",
        "3195 = 0.0106762102621"
       ]
      },
      {
       "output_type": "stream",
       "stream": "stdout",
       "text": [
        "\n",
        "3196 = 0.0108253236755"
       ]
      },
      {
       "output_type": "stream",
       "stream": "stdout",
       "text": [
        "\n",
        "3197 = 0.0110341390873"
       ]
      },
      {
       "output_type": "stream",
       "stream": "stdout",
       "text": [
        "\n",
        "3198 = 0.0112481380194"
       ]
      },
      {
       "output_type": "stream",
       "stream": "stdout",
       "text": [
        "\n",
        "3199 = 0.0103351862689"
       ]
      },
      {
       "output_type": "stream",
       "stream": "stdout",
       "text": [
        "\n",
        "3200 = 0.0107368838427"
       ]
      },
      {
       "output_type": "stream",
       "stream": "stdout",
       "text": [
        "\n",
        "3201 = 0.010655211063"
       ]
      },
      {
       "output_type": "stream",
       "stream": "stdout",
       "text": [
        "\n",
        "3202 = 0.0107682415014"
       ]
      },
      {
       "output_type": "stream",
       "stream": "stdout",
       "text": [
        "\n",
        "3203 = 0.0107401618737"
       ]
      },
      {
       "output_type": "stream",
       "stream": "stdout",
       "text": [
        "\n",
        "3204 = 0.0111699495075"
       ]
      },
      {
       "output_type": "stream",
       "stream": "stdout",
       "text": [
        "\n",
        "3205 = 0.0109371413658"
       ]
      },
      {
       "output_type": "stream",
       "stream": "stdout",
       "text": [
        "\n",
        "3206 = 0.0102298875935"
       ]
      },
      {
       "output_type": "stream",
       "stream": "stdout",
       "text": [
        "\n",
        "3207 = 0.0108412079469"
       ]
      },
      {
       "output_type": "stream",
       "stream": "stdout",
       "text": [
        "\n",
        "3208 = 0.010580788166"
       ]
      },
      {
       "output_type": "stream",
       "stream": "stdout",
       "text": [
        "\n",
        "3209 = 0.0107873314725"
       ]
      },
      {
       "output_type": "stream",
       "stream": "stdout",
       "text": [
        "\n",
        "3210 = 0.0105876638297"
       ]
      },
      {
       "output_type": "stream",
       "stream": "stdout",
       "text": [
        "\n",
        "3211 = 0.0110842354163"
       ]
      },
      {
       "output_type": "stream",
       "stream": "stdout",
       "text": [
        "\n",
        "3212 = 0.0105600668412"
       ]
      },
      {
       "output_type": "stream",
       "stream": "stdout",
       "text": [
        "\n",
        "3213 = 0.0104503006311"
       ]
      },
      {
       "output_type": "stream",
       "stream": "stdout",
       "text": [
        "\n",
        "3214 = 0.0108579778541"
       ]
      },
      {
       "output_type": "stream",
       "stream": "stdout",
       "text": [
        "\n",
        "3215 = 0.0106368324246"
       ]
      },
      {
       "output_type": "stream",
       "stream": "stdout",
       "text": [
        "\n",
        "3216 = 0.0108930194536"
       ]
      },
      {
       "output_type": "stream",
       "stream": "stdout",
       "text": [
        "\n",
        "3217 = 0.0110750421905"
       ]
      },
      {
       "output_type": "stream",
       "stream": "stdout",
       "text": [
        "\n",
        "3218 = 0.0111807587802"
       ]
      },
      {
       "output_type": "stream",
       "stream": "stdout",
       "text": [
        "\n",
        "3219 = 0.0102397214981"
       ]
      },
      {
       "output_type": "stream",
       "stream": "stdout",
       "text": [
        "\n",
        "3220 = 0.0105183617266"
       ]
      },
      {
       "output_type": "stream",
       "stream": "stdout",
       "text": [
        "\n",
        "3221 = 0.0107279273597"
       ]
      },
      {
       "output_type": "stream",
       "stream": "stdout",
       "text": [
        "\n",
        "3222 = 0.0105593739866"
       ]
      },
      {
       "output_type": "stream",
       "stream": "stdout",
       "text": [
        "\n",
        "3223 = 0.0108486474219"
       ]
      },
      {
       "output_type": "stream",
       "stream": "stdout",
       "text": [
        "\n",
        "3224 = 0.00962340663619"
       ]
      },
      {
       "output_type": "stream",
       "stream": "stdout",
       "text": [
        "\n"
       ]
      }
     ],
     "prompt_number": 196
    },
    {
     "cell_type": "code",
     "collapsed": false,
     "input": [
      "Results = burstarea_wrapper(Data, Results)\n",
      "Results['Bursts Summary']"
     ],
     "language": "python",
     "metadata": {},
     "outputs": [
      {
       "ename": "KeyboardInterrupt",
       "evalue": "",
       "output_type": "pyerr",
       "traceback": [
        "\u001b[0;31m---------------------------------------------------------------------------\u001b[0m\n\u001b[0;31mKeyboardInterrupt\u001b[0m                         Traceback (most recent call last)",
        "\u001b[0;32m<ipython-input-191-a2665cbd6679>\u001b[0m in \u001b[0;36m<module>\u001b[0;34m()\u001b[0m\n\u001b[0;32m----> 1\u001b[0;31m \u001b[0mResults\u001b[0m \u001b[0;34m=\u001b[0m \u001b[0mburstarea_wrapper\u001b[0m\u001b[0;34m(\u001b[0m\u001b[0mData\u001b[0m\u001b[0;34m,\u001b[0m \u001b[0mResults\u001b[0m\u001b[0;34m)\u001b[0m\u001b[0;34m\u001b[0m\u001b[0m\n\u001b[0m\u001b[1;32m      2\u001b[0m \u001b[0mResults\u001b[0m\u001b[0;34m[\u001b[0m\u001b[0;34m'Bursts Summary'\u001b[0m\u001b[0;34m]\u001b[0m\u001b[0;34m\u001b[0m\u001b[0m\n",
        "\u001b[0;32m<ipython-input-187-0ce6772a6fd8>\u001b[0m in \u001b[0;36mburstarea_wrapper\u001b[0;34m(Data, Results)\u001b[0m\n\u001b[1;32m     12\u001b[0m \u001b[0;34m\u001b[0m\u001b[0m\n\u001b[1;32m     13\u001b[0m     \u001b[0;32melif\u001b[0m \u001b[0mSettings\u001b[0m\u001b[0;34m[\u001b[0m\u001b[0;34m'Baseline Type'\u001b[0m\u001b[0;34m]\u001b[0m \u001b[0;34m==\u001b[0m \u001b[0;34m'rolling'\u001b[0m\u001b[0;34m:\u001b[0m\u001b[0;34m\u001b[0m\u001b[0m\n\u001b[0;32m---> 14\u001b[0;31m         \u001b[0mb_area\u001b[0m \u001b[0;34m=\u001b[0m \u001b[0mburstarea\u001b[0m\u001b[0;34m(\u001b[0m\u001b[0mnp\u001b[0m\u001b[0;34m.\u001b[0m\u001b[0marray\u001b[0m\u001b[0;34m(\u001b[0m\u001b[0mData\u001b[0m\u001b[0;34m[\u001b[0m\u001b[0;34m'rolling'\u001b[0m\u001b[0;34m]\u001b[0m\u001b[0;34m)\u001b[0m\u001b[0;34m,\u001b[0m \u001b[0mData\u001b[0m\u001b[0;34m[\u001b[0m\u001b[0;34m'rolling'\u001b[0m\u001b[0;34m]\u001b[0m\u001b[0;34m.\u001b[0m\u001b[0mindex\u001b[0m\u001b[0;34m,\u001b[0m \u001b[0mbstart\u001b[0m\u001b[0;34m,\u001b[0m \u001b[0mbend\u001b[0m\u001b[0;34m)\u001b[0m\u001b[0;34m\u001b[0m\u001b[0m\n\u001b[0m\u001b[1;32m     15\u001b[0m     \u001b[0mResults\u001b[0m\u001b[0;34m[\u001b[0m\u001b[0;34m'Bursts'\u001b[0m\u001b[0;34m]\u001b[0m\u001b[0;34m[\u001b[0m\u001b[0;34m'Burst Area'\u001b[0m\u001b[0;34m]\u001b[0m \u001b[0;34m=\u001b[0m \u001b[0mb_area\u001b[0m\u001b[0;34m\u001b[0m\u001b[0m\n\u001b[1;32m     16\u001b[0m     \u001b[0mend\u001b[0m \u001b[0;34m=\u001b[0m \u001b[0mt\u001b[0m\u001b[0;34m.\u001b[0m\u001b[0mclock\u001b[0m\u001b[0;34m(\u001b[0m\u001b[0;34m)\u001b[0m\u001b[0;34m\u001b[0m\u001b[0m\n",
        "\u001b[0;32m<ipython-input-185-de86e44e580d>\u001b[0m in \u001b[0;36mburstarea\u001b[0;34m(data, time, burst_start, burst_end, dx)\u001b[0m\n\u001b[1;32m    231\u001b[0m     \u001b[0;32mfor\u001b[0m \u001b[0mi\u001b[0m \u001b[0;32min\u001b[0m \u001b[0mnp\u001b[0m\u001b[0;34m.\u001b[0m\u001b[0marange\u001b[0m\u001b[0;34m(\u001b[0m\u001b[0mlen\u001b[0m\u001b[0;34m(\u001b[0m\u001b[0mburst_start\u001b[0m\u001b[0;34m)\u001b[0m\u001b[0;34m)\u001b[0m\u001b[0;34m:\u001b[0m \u001b[0;31m#for each index in the start array\u001b[0m\u001b[0;34m\u001b[0m\u001b[0m\n\u001b[1;32m    232\u001b[0m         \u001b[0mend\u001b[0m \u001b[0;34m=\u001b[0m \u001b[0mtime\u001b[0m\u001b[0;34m.\u001b[0m\u001b[0mindex\u001b[0m\u001b[0;34m(\u001b[0m\u001b[0mburst_end\u001b[0m\u001b[0;34m[\u001b[0m\u001b[0mi\u001b[0m\u001b[0;34m]\u001b[0m\u001b[0;34m)\u001b[0m \u001b[0;31m#using the value at each i in the burst_end array, index in the time array to get the time index. this will be the same index # as the data array\u001b[0m\u001b[0;34m\u001b[0m\u001b[0m\n\u001b[0;32m--> 233\u001b[0;31m         \u001b[0mstart\u001b[0m \u001b[0;34m=\u001b[0m \u001b[0mtime\u001b[0m\u001b[0;34m.\u001b[0m\u001b[0mindex\u001b[0m\u001b[0;34m(\u001b[0m\u001b[0mburst_start\u001b[0m\u001b[0;34m[\u001b[0m\u001b[0mi\u001b[0m\u001b[0;34m]\u001b[0m\u001b[0;34m)\u001b[0m\u001b[0;34m\u001b[0m\u001b[0m\n\u001b[0m\u001b[1;32m    234\u001b[0m         \u001b[0marea\u001b[0m \u001b[0;34m=\u001b[0m \u001b[0mtrapz\u001b[0m\u001b[0;34m(\u001b[0m\u001b[0mdata\u001b[0m\u001b[0;34m[\u001b[0m\u001b[0mstart\u001b[0m\u001b[0;34m:\u001b[0m\u001b[0mend\u001b[0m\u001b[0;34m]\u001b[0m\u001b[0;34m,\u001b[0m \u001b[0mx\u001b[0m\u001b[0;34m=\u001b[0m\u001b[0mtime\u001b[0m\u001b[0;34m[\u001b[0m\u001b[0mstart\u001b[0m\u001b[0;34m:\u001b[0m\u001b[0mend\u001b[0m\u001b[0;34m]\u001b[0m\u001b[0;34m,\u001b[0m \u001b[0mdx\u001b[0m\u001b[0;34m=\u001b[0m \u001b[0mdx\u001b[0m\u001b[0;34m)\u001b[0m \u001b[0;31m#find area using the trapz function, but only\u001b[0m\u001b[0;34m\u001b[0m\u001b[0m\n\u001b[1;32m    235\u001b[0m         \u001b[0mburst_area\u001b[0m\u001b[0;34m.\u001b[0m\u001b[0mappend\u001b[0m\u001b[0;34m(\u001b[0m\u001b[0marea\u001b[0m\u001b[0;34m)\u001b[0m\u001b[0;34m\u001b[0m\u001b[0m\n",
        "\u001b[0;31mKeyboardInterrupt\u001b[0m: "
       ]
      }
     ],
     "prompt_number": 191
    },
    {
     "cell_type": "code",
     "collapsed": false,
     "input": [
      "\n",
      "def burstarea_wrapper(Data, Results):\n",
      "    '''\n",
      "    wrapper for burst area. since this function takes a while, it is seperated out for safety and effecency.\n",
      "    '''\n",
      "    start = t.clock()\n",
      "    bend = Results['Bursts']['Burst End'].tolist()\n",
      "    bstart = Results['Bursts']['Burst Start'].tolist()\n",
      "    \n",
      "    if Settings['Baseline Type'] == 'linear':\n",
      "        b_area = burstarea(np.array(Data['trans']), Data['trans'].index, bstart, bend)\n",
      "    \n",
      "    elif Settings['Baseline Type'] == 'rolling':\n",
      "        b_area = burstarea(np.array(Data['rolling']), Data['rolling'].index, bstart, bend)\n",
      "    Results['Bursts']['Burst Area'] = b_area\n",
      "    end = t.clock()\n",
      "    print 'burstarea took', (end-start), 'seconds to complete', len(bstart), 'integrals, or', round((len(bstart)/(end-start)),3), 'integrals/second. How impressive!'\n",
      "    \n",
      "    Results['Bursts Summary'] = results_bursts.describe()\n",
      "    \n",
      "    return Results\n",
      "\n"
     ],
     "language": "python",
     "metadata": {},
     "outputs": [],
     "prompt_number": 187
    },
    {
     "cell_type": "code",
     "collapsed": false,
     "input": [
      "def event_burstdet_settings(Settings):\n",
      "    \n",
      "    if 'Percent of Baseline Threshold' in Settings.keys():\n",
      "        print \"Previous threshold value: %s\" %Settings['Percent of Baseline Threshold']\n",
      "    \n",
      "    if Settings['Baseline Type'] == 'linear':\n",
      "        threshperc = raw_input(\"Enter a threshold percent value between 0 and %s: \" %round(max(Data['shift'])/Settings['Baseline'],4))\n",
      "        threshperc = float(threshperc)\n",
      "        Settings['Percent of Baseline Threshold'] = threshperc\n",
      "        \n",
      "    if Settings['Baseline Type'] == 'rolling':\n",
      "        threshperc = raw_input(\"Enter a threshold percent value between 1 and %s: \" %round(max(Data['rolling'])/Settings['Baseline rolling'].mean(),4))\n",
      "        threshperc = float(threshperc)\n",
      "        if threshperc <=1:\n",
      "            print \"For rolling baseline, percent cannot be less than or equal to 1.\"\n",
      "            event_burstdet_settings(Settings)\n",
      "        Settings['Percent of Baseline Threshold'] = threshperc\n",
      "    \n",
      "    if 'Inter-event interval minimum (seconds)' in Settings.keys():\n",
      "        print \"Previous interval value: %s\" %Settings['Inter-event interval minimum (seconds)']\n",
      "        \n",
      "    cluster_time = raw_input(\"Enter the minimum inter-event interval in seconds:\")\n",
      "    cluster_time = float(cluster_time)\n",
      "    Settings['Inter-event interval minimum (seconds)'] = cluster_time\n",
      "    \n",
      "    return Settings\n",
      "\n",
      "def event_burstdet(Data, Settings, Results):\n",
      "    \n",
      "    if Settings['Baseline Type'] == 'linear': #data[shift]\n",
      "        bstart, bend, bdur = burstduration_lin(Data['shift'].index, np.array(Data['shift']), \n",
      "                                               Settings['Baseline'], \n",
      "                                               Settings['Percent of Baseline Threshold'], \n",
      "                                               Settings['Inter-event interval minimum (seconds)'])\n",
      "        \n",
      "        \n",
      "    elif Settings['Baseline Type'] == 'rolling': #data[rolling]\n",
      "        bstart, bend, bdur, b_start_amp, b_end_amp = burstduration_rolling(Data['rolling'].index, \n",
      "                                                                           np.array(Data['rolling']), \n",
      "                                                                           Settings['Baseline rolling'], \n",
      "                                                                           Settings['Percent of Baseline Threshold'], \n",
      "                                                                           Settings['Inter-event interval minimum (seconds)'])\n",
      "        \n",
      "    results_bursts = DataFrame({'Burst Start': bstart})\n",
      "    results_bursts['Burst End'] = bend\n",
      "    results_bursts['Burst Duration'] = bdur\n",
      "    if Settings['Baseline Type'] == 'rolling':\n",
      "        results_bursts['Burst Start Amplitude'] = b_start_amp\n",
      "        results_bursts['Burst End Amplitude'] = b_end_amp\n",
      "    \n",
      "    interburst = interburstinterval(bstart, bend)\n",
      "    interburst.append(NaN)\n",
      "    results_bursts['Interburst Interval'] = interburst\n",
      "\n",
      "    tot = ttotal(bstart)\n",
      "    tot.append(NaN)\n",
      "    results_bursts['Total Cycle Time'] = tot\n",
      "    \n",
      "    Results['Bursts'] = results_bursts\n",
      "    Results['Bursts Summary'] = results_bursts.describe()\n",
      "    return Data, Settings, Results\n",
      "\n",
      "def burstduration_rolling(time, data, baseline_rolling, threshperc, cluster_time):\n",
      "    \"\"\"\n",
      "    threshperc is the percentage of the baseline that the threshold will be above; cluster_time should be changed based on the type of data (default for ECG is 0.006)\n",
      "    baserate needs to be calculated and passed into this argument\n",
      "    data should already be transformed, smoothed, and baseline shifted (shifting is technically optional, but it really doesn't matter)\n",
      "    returns the lists of start times, end times, and duration times\n",
      "    \"\"\"\n",
      "    \n",
      "    if len(time) != len(data): #logic check, are the number of data points and time points the same?\n",
      "        raise Exception('You cannot have more time points than there are data points. Get that sorted, buddy.')    \n",
      "    \n",
      "    burst_start = [] #empty array for burst start\n",
      "    burst_end = [] #empty array for burst end\n",
      "    burst_duration = [] #empty array to calculate burst durration\n",
      "    b_start_amp = []\n",
      "    b_end_amp = []\n",
      "    \n",
      "    threshold = np.array(baseline_rolling * threshperc) #calculate the point at which a event is considered a peak\n",
      "    \n",
      "    burst = False #burst flag, should start not in a burst\n",
      "\n",
      "    index = -1\n",
      "    for point in data: #for each data point in the set\n",
      "        index = index +1\n",
      "        #print index, \"=\", t.clock()\n",
      "        \n",
      "        if burst == False and point > threshold[index]: #if we are not in a burst already, the value is higher than the threshold, AND the last burst didn't end less than .2 ms ago\n",
      "            tpoint = time[index] #find the actual time given teh time index\n",
      "            burst_start.append(tpoint) #add the time at point as the begining of the burst\n",
      "            b_start_amp.append(threshold[index])\n",
      "            burst = True #burst flag, we are now in a burst \n",
      "        \n",
      "        if burst == True and  point <= threshold[index]: #if we are in a burst and the point falls below the threshold\n",
      "            \n",
      "            if len(burst_end) == 0 or len(burst_start) == 0: #if this is the first end\n",
      "                tpoint = time[index] #find the actual time given teh time index\n",
      "                burst_end.append (tpoint) #add the time at point as the end of the burst\n",
      "                b_end_amp.append(threshold[index])\n",
      "                burst = False #burst flag, we are now out of the burst\n",
      "            \n",
      "            else:\n",
      "                tpoint = time[index] #find the actual time given teh time index\n",
      "                burst_end.append (tpoint) #add the time at point as the end of the burst\n",
      "                b_end_amp.append(threshold[index])\n",
      "                burst = False #burst flag, we are now out of the burst\n",
      "                if burst_start[-1] < (burst_end[-2] + cluster_time):#if the new burst is too close to the last one, delete the second to last end and the last start\n",
      "                    del burst_end[-2]\n",
      "                    del b_end_amp[-2]\n",
      "                    del burst_start[-1]\n",
      "                    del b_start_amp[-1]\n",
      "    \n",
      "    if burst == True and len(burst_start) == 1+len(burst_end): #we exit the for loop but are in a burst\n",
      "        del burst_start[-1] #delete the last burst start time\n",
      "        del b_start_amp[-1]\n",
      "        \n",
      "    if len(burst_start) != len(burst_end):\n",
      "        raise Exception('Unexpectedly, the number of burst start times and end times are not equal. Seeing as this is physically impossible, I quit the program for you. Begin hunting for the fatal flaw. Good luck!')\n",
      "        \n",
      "    #print t.clock(), \"- start duration array\"\n",
      "    for foo in burst_start: #for each burst\n",
      "        index = burst_start.index(foo)\n",
      "        duration = burst_end[index] - burst_start[index] #calculate duration by subtracting the start time from the end time, found by indexing\n",
      "        burst_duration.append(duration) #add the burst duration to the duration list\n",
      "    #print t.clock(), \"-end duration array\"\n",
      "    \n",
      "    return burst_start, burst_end, burst_duration, b_start_amp, b_end_amp\n",
      "\n",
      "def burstduration_lin(time, data, baserate, threshperc, cluster_time):\n",
      "    \"\"\"\n",
      "    threshperc is the percentage of the baseline that the threshold will be above; cluster_time should be changed based on the type of data (default for ECG is 0.006)\n",
      "    baserate needs to be calculated and passed into this argument\n",
      "    data should already be transformed, smoothed, and baseline shifted (shifting is technically optional, but it really doesn't matter)\n",
      "    returns the lists of start times, end times, and duration times\n",
      "    \"\"\"\n",
      "    \n",
      "    if len(time) != len(data): #logic check, are the number of data points and time points the same?\n",
      "        raise Exception('You cannot have more time points than there are data points. Get that sorted, buddy.')    \n",
      "    \n",
      "    burst_start = [] #empty array for burst start\n",
      "    burst_end = [] #empty array for burst end\n",
      "    burst_duration = [] #empty array to calculate burst durration\n",
      "    \n",
      "    threshold = baserate * threshperc #calculate the point at which a event is considered a peak\n",
      "    \n",
      "    burst = False #burst flag, should start not in a burst\n",
      "\n",
      "    index = -1\n",
      "    for point in data: #for each data point in the set\n",
      "        index = index +1\n",
      "        #print index, \"=\", t.clock()\n",
      "        \n",
      "        if burst == False and point > threshold: #if we are not in a burst already, the value is higher than the threshold, AND the last burst didn't end less than .2 ms ago\n",
      "            tpoint = time[index] #find the actual time given teh time index\n",
      "            burst_start.append(tpoint) #add the time at point as the begining of the burst\n",
      "            burst = True #burst flag, we are now in a burst \n",
      "        \n",
      "        if burst == True and  point <= threshold: #if we are in a burst and the point falls below the threshold\n",
      "            \n",
      "            if len(burst_end) == 0 or len(burst_start) == 0: #if this is the first end\n",
      "                tpoint = time[index] #find the actual time given teh time index\n",
      "                burst_end.append (tpoint) #add the time at point as the end of the burst\n",
      "                burst = False #burst flag, we are now out of the burst\n",
      "            \n",
      "            else:\n",
      "                tpoint = time[index] #find the actual time given teh time index\n",
      "                burst_end.append (tpoint) #add the time at point as the end of the burst\n",
      "                burst = False #burst flag, we are now out of the burst\n",
      "                if burst_start[-1] < (burst_end[-2] + cluster_time):#if the new burst is too close to the last one, delete the second to last end and the last start\n",
      "                    del burst_end[-2]\n",
      "                    del burst_start[-1]\n",
      "    \n",
      "    if burst == True and len(burst_start) == 1+len(burst_end): #we exit the for loop but are in a burst\n",
      "        del burst_start[-1] #delete the last burst start time\n",
      "    \n",
      "    if len(burst_start) != len(burst_end):\n",
      "        raise Exception('Unexpectedly, the number of burst start times and end times are not equal. Seeing as this is physically impossible, I quit the program for you. Begin hunting for the fatal flaw. Good luck!')\n",
      "        \n",
      "    #print t.clock(), \"- start duration array\"\n",
      "    for foo in burst_start: #for each burst\n",
      "        index = burst_start.index(foo)\n",
      "        duration = burst_end[index] - burst_start[index] #calculate duration by subtracting the start time from the end time, found by indexing\n",
      "        burst_duration.append(duration) #add the burst duration to the duration list\n",
      "    #print t.clock(), \"-end duration array\"\n",
      "    \n",
      "    return burst_start, burst_end, burst_duration\n",
      "\n",
      "\n",
      "def interburstinterval(burst_start, burst_end):\n",
      "    \"\"\"\n",
      "    this function is used to find the inter-burst interval. \n",
      "    this is defined as the difference between the last end and the new start time\n",
      "    Dependent on numpy, burst_start, and burst_end\n",
      "    \"\"\"\n",
      "    \n",
      "    ibi = []\n",
      "    \n",
      "    for end in burst_end[:-1]: #for each end time except the last one\n",
      "        tindex = burst_end.index(end) #find the start time index\n",
      "        start = burst_start[tindex+1] #find start time\n",
      "        ibi.append(start-end) #subtract the old end time from the start time\n",
      "    \n",
      "    return ibi\n",
      "\n",
      "def ttotal(burst_start): \n",
      "    \"\"\"\n",
      "    find time from start to start, called the interburst interval. Input array must be a list of numbers (float).\n",
      "    \"\"\"\n",
      "    \n",
      "    ttotal = [] #empty array for ttot to go into\n",
      "    \n",
      "    for time in burst_start[1:]: #for each start time, starting with the second one\n",
      "        s2time = burst_start.index(time) \n",
      "        s2 = burst_start[s2time-1]\n",
      "        meas = time - s2 #measure the interval by subtracting\n",
      "        ttotal.append(meas) #append the measurement to the ttotal array\n",
      "    return ttotal #return array\n",
      "\n",
      "def burstarea(data, time, burst_start, burst_end, dx = 10):\n",
      "    \"\"\"\n",
      "    integral, area under curve of each burst. Use start and end times to split the y values into short lists. \n",
      "    need the time array to do this\n",
      "    \"\"\"\n",
      "    from scipy.integrate import simps, trapz #import the integral functions\n",
      "    \n",
      "    time = list(time) #time array must be a list for the indexting to work.\n",
      "    \n",
      "    burst_area = [] #empty array for the areas to go into\n",
      "    count = 0\n",
      "    for i in np.arange(len(burst_start)): #for each index in the start array\n",
      "        end = time.index(burst_end[i]) #using the value at each i in the burst_end array, index in the time array to get the time index. this will be the same index # as the data array\n",
      "        start = time.index(burst_start[i])\n",
      "        area = trapz(data[start:end], x=time[start:end], dx= dx) #find area using the trapz function, but only \n",
      "        burst_area.append(area)\n",
      "        count =+ 1\n",
      "        if count%100 == 0:\n",
      "            print \"%s integrals complete\"%count\n",
      "    return burst_area"
     ],
     "language": "python",
     "metadata": {},
     "outputs": [],
     "prompt_number": 185
    },
    {
     "cell_type": "heading",
     "level": 3,
     "metadata": {},
     "source": [
      "Burst Area"
     ]
    },
    {
     "cell_type": "markdown",
     "metadata": {},
     "source": [
      "OPTIONAL: Run the block below to get the area under the curve for each event. This may take a while."
     ]
    },
    {
     "cell_type": "code",
     "collapsed": false,
     "input": [
      "results_bursts, results_burst_sum = burstarea_wrapper(time, data_trans, results_bursts)\n",
      "results_burst_sum"
     ],
     "language": "python",
     "metadata": {},
     "outputs": [
      {
       "output_type": "stream",
       "stream": "stdout",
       "text": [
        "burstarea took 231.057491 seconds to complete 3224 integrals, or 13.953 integrals/second. How impressive!\n"
       ]
      },
      {
       "html": [
        "<div style=\"max-height:1000px;max-width:1500px;overflow:auto;\">\n",
        "<table border=\"1\" class=\"dataframe\">\n",
        "  <thead>\n",
        "    <tr style=\"text-align: right;\">\n",
        "      <th></th>\n",
        "      <th>Burst Start</th>\n",
        "      <th>Burst End</th>\n",
        "      <th>Burst Duration</th>\n",
        "      <th>Interburst Interval</th>\n",
        "      <th>Total Cycle Time</th>\n",
        "      <th>Burst Area</th>\n",
        "    </tr>\n",
        "  </thead>\n",
        "  <tbody>\n",
        "    <tr>\n",
        "      <th>count</th>\n",
        "      <td> 3224.000000</td>\n",
        "      <td> 3224.000000</td>\n",
        "      <td> 3224.000000</td>\n",
        "      <td> 3223.000000</td>\n",
        "      <td> 3223.000000</td>\n",
        "      <td> 3224.000000</td>\n",
        "    </tr>\n",
        "    <tr>\n",
        "      <th>mean</th>\n",
        "      <td>  297.233432</td>\n",
        "      <td>  297.265937</td>\n",
        "      <td>    0.032506</td>\n",
        "      <td>    0.155749</td>\n",
        "      <td>    0.188253</td>\n",
        "      <td>    0.011720</td>\n",
        "    </tr>\n",
        "    <tr>\n",
        "      <th>std</th>\n",
        "      <td>  176.070147</td>\n",
        "      <td>  176.070869</td>\n",
        "      <td>    0.001557</td>\n",
        "      <td>    0.006871</td>\n",
        "      <td>    0.007512</td>\n",
        "      <td>    0.001316</td>\n",
        "    </tr>\n",
        "    <tr>\n",
        "      <th>min</th>\n",
        "      <td>    0.119000</td>\n",
        "      <td>    0.149750</td>\n",
        "      <td>    0.029000</td>\n",
        "      <td>    0.139500</td>\n",
        "      <td>    0.169750</td>\n",
        "      <td>    0.008595</td>\n",
        "    </tr>\n",
        "    <tr>\n",
        "      <th>25%</th>\n",
        "      <td>  143.867750</td>\n",
        "      <td>  143.899125</td>\n",
        "      <td>    0.031500</td>\n",
        "      <td>    0.151500</td>\n",
        "      <td>    0.183000</td>\n",
        "      <td>    0.010646</td>\n",
        "    </tr>\n",
        "    <tr>\n",
        "      <th>50%</th>\n",
        "      <td>  293.385500</td>\n",
        "      <td>  293.417875</td>\n",
        "      <td>    0.032500</td>\n",
        "      <td>    0.155500</td>\n",
        "      <td>    0.188500</td>\n",
        "      <td>    0.011719</td>\n",
        "    </tr>\n",
        "    <tr>\n",
        "      <th>75%</th>\n",
        "      <td>  449.119687</td>\n",
        "      <td>  449.154063</td>\n",
        "      <td>    0.033500</td>\n",
        "      <td>    0.160750</td>\n",
        "      <td>    0.194500</td>\n",
        "      <td>    0.012800</td>\n",
        "    </tr>\n",
        "    <tr>\n",
        "      <th>max</th>\n",
        "      <td>  606.859500</td>\n",
        "      <td>  606.894750</td>\n",
        "      <td>    0.049250</td>\n",
        "      <td>    0.169500</td>\n",
        "      <td>    0.207500</td>\n",
        "      <td>    0.015662</td>\n",
        "    </tr>\n",
        "  </tbody>\n",
        "</table>\n",
        "<p>8 rows \u00d7 6 columns</p>\n",
        "</div>"
       ],
       "metadata": {},
       "output_type": "pyout",
       "prompt_number": 312,
       "text": [
        "       Burst Start    Burst End  Burst Duration  Interburst Interval  \\\n",
        "count  3224.000000  3224.000000     3224.000000          3223.000000   \n",
        "mean    297.233432   297.265937        0.032506             0.155749   \n",
        "std     176.070147   176.070869        0.001557             0.006871   \n",
        "min       0.119000     0.149750        0.029000             0.139500   \n",
        "25%     143.867750   143.899125        0.031500             0.151500   \n",
        "50%     293.385500   293.417875        0.032500             0.155500   \n",
        "75%     449.119687   449.154063        0.033500             0.160750   \n",
        "max     606.859500   606.894750        0.049250             0.169500   \n",
        "\n",
        "       Total Cycle Time   Burst Area  \n",
        "count       3223.000000  3224.000000  \n",
        "mean           0.188253     0.011720  \n",
        "std            0.007512     0.001316  \n",
        "min            0.169750     0.008595  \n",
        "25%            0.183000     0.010646  \n",
        "50%            0.188500     0.011719  \n",
        "75%            0.194500     0.012800  \n",
        "max            0.207500     0.015662  \n",
        "\n",
        "[8 rows x 6 columns]"
       ]
      }
     ],
     "prompt_number": 312
    },
    {
     "cell_type": "heading",
     "level": 2,
     "metadata": {},
     "source": [
      "Save all files and settings"
     ]
    },
    {
     "cell_type": "code",
     "collapsed": false,
     "input": [
      "Save_Results(Settings, results_bursts, results_burst_sum, results_peaks, results_peaks_sum, maxptime)"
     ],
     "language": "python",
     "metadata": {},
     "outputs": [
      {
       "output_type": "stream",
       "stream": "stdout",
       "text": [
        "All results saved to /Users/abigaildobyns/Desktop/Tutorial\n"
       ]
      }
     ],
     "prompt_number": 29
    },
    {
     "cell_type": "heading",
     "level": 2,
     "metadata": {},
     "source": [
      "Results Plots"
     ]
    },
    {
     "cell_type": "heading",
     "level": 3,
     "metadata": {},
     "source": [
      "Poincare Plots"
     ]
    },
    {
     "cell_type": "markdown",
     "metadata": {},
     "source": [
      "Create a Poinare Plot of your favorite varible. Make sure that whichever varible you chose is only composed of numbers (No NaN or missing values).\n",
      "\n",
      "Plots are saved by clicking the save button in the pop-up window with your graph."
     ]
    },
    {
     "cell_type": "code",
     "collapsed": false,
     "input": [
      "poincare_plot(results_bursts['Total Cycle Time'])"
     ],
     "language": "python",
     "metadata": {},
     "outputs": [
      {
       "output_type": "stream",
       "stream": "stdout",
       "text": [
        "Total Cycle Time results:\n",
        "SD1 = 0.0021 s\n",
        "SD2 = 0.0104 s\n"
       ]
      }
     ],
     "prompt_number": 14
    },
    {
     "cell_type": "code",
     "collapsed": false,
     "input": [
      "poincare_plot(results_peaks['R-R intervals'])"
     ],
     "language": "python",
     "metadata": {},
     "outputs": [
      {
       "output_type": "stream",
       "stream": "stdout",
       "text": [
        "R-R intervals results:\n",
        "SD1 = 0.0015 s\n",
        "SD2 = 0.0104 s\n"
       ]
      }
     ],
     "prompt_number": 15
    },
    {
     "cell_type": "heading",
     "level": 3,
     "metadata": {},
     "source": [
      "Line Plots"
     ]
    },
    {
     "cell_type": "markdown",
     "metadata": {},
     "source": [
      "Create line plots of the raw data as well as the smoothed data. \n",
      "\n",
      "Plots are saved by clicking the save button in the pop-up window with your graph."
     ]
    },
    {
     "cell_type": "code",
     "collapsed": false,
     "input": [
      "line_plot(time, data, data_shift, maxptime, maxpeaks, results_bursts, Settings)"
     ],
     "language": "python",
     "metadata": {},
     "outputs": [],
     "prompt_number": 16
    },
    {
     "cell_type": "heading",
     "level": 1,
     "metadata": {},
     "source": [
      "Power Spectral Density"
     ]
    },
    {
     "cell_type": "markdown",
     "metadata": {},
     "source": [
      "The following blocks allows you to asses the power of the interval data (from peakdet() and burstdet()). there are two seperate sets of the same commands to run this for each. You can do both, one, or neither. it is completely optional."
     ]
    },
    {
     "cell_type": "heading",
     "level": 2,
     "metadata": {},
     "source": [
      "Settings"
     ]
    },
    {
     "cell_type": "markdown",
     "metadata": {},
     "source": [
      "use code below to get LF/HF  for rr or ttot interval data sets"
     ]
    },
    {
     "cell_type": "code",
     "collapsed": false,
     "input": [
      "hz = 4.0 #freqency that the interpolation and PSD are performed with. \n",
      "ulf = 0.03 #max of the range of the ultra low freq band. range is 0:ulf\n",
      "vlf = 0.05 #max of the range of the very low freq band. range is ulf:vlf\n",
      "lf = 0.15 #max of the range of the low freq band. range is vlf:lf\n",
      "hf = 0.4 #max of the range of the high freq band. range is lf:hf. hf can be no more than (hz/2)\n",
      "dx = 10 #segmentation for the area under the curve. \n",
      "\n",
      "results_PSD = DataFrame(index = ['ULF', 'VLF', 'LF','HF','LF/HF'])\n",
      "Settings_PSD = Series(index = ['Hz','ULF', 'VLF', 'LF','HF','dx'], \n",
      "                      data=[hz, ulf, vlf, lf, hf, dx])\n",
      "Settings_PSD"
     ],
     "language": "python",
     "metadata": {},
     "outputs": [
      {
       "metadata": {},
       "output_type": "pyout",
       "prompt_number": 17,
       "text": [
        "Hz      4.00\n",
        "ULF     0.03\n",
        "VLF     0.05\n",
        "LF      0.15\n",
        "HF      0.40\n",
        "dx     10.00\n",
        "dtype: float64"
       ]
      }
     ],
     "prompt_number": 17
    },
    {
     "cell_type": "heading",
     "level": 2,
     "metadata": {},
     "source": [
      "Peaks"
     ]
    },
    {
     "cell_type": "heading",
     "level": 3,
     "metadata": {},
     "source": [
      "Frequency Plot"
     ]
    },
    {
     "cell_type": "markdown",
     "metadata": {},
     "source": [
      "Use the block below to plot the peak interval data over time in peaks/min."
     ]
    },
    {
     "cell_type": "code",
     "collapsed": false,
     "input": [
      "rri = results_peaks['R-R intervals'].tolist()\n",
      "del rri[-1] #the last value is NaN, so we delete it.\n",
      "rri_new = []\n",
      "for i in rri:\n",
      "    bpm = 60/i\n",
      "    rri_new.append(bpm)\n",
      "time_int = results_peaks.index.tolist()\n",
      "del time_int[-1] #must be the same length as rri\n",
      "\n",
      "plt.ylabel('Event Rate (events/min.)')\n",
      "plt.xlabel('Time (s)')\n",
      "plt.title('Event Freqency-Peak detection')\n",
      "plt.plot(time_int, rri_new)\n",
      "plt.show()"
     ],
     "language": "python",
     "metadata": {},
     "outputs": [],
     "prompt_number": 18
    },
    {
     "cell_type": "heading",
     "level": 3,
     "metadata": {},
     "source": [
      "PSD"
     ]
    },
    {
     "cell_type": "markdown",
     "metadata": {},
     "source": [
      "Use block below to return the PSD plot, as well as the power in the bands defined by the settings above."
     ]
    },
    {
     "cell_type": "code",
     "collapsed": false,
     "input": [
      "Fxx_rii, Pxx_rii = PSD_rri(results_peaks, hz)\n",
      "results_PSD['Peakdet'] = Results_PSD(Fxx_rii, Pxx_rii)\n",
      "plt.plot(Fxx_rii, Pxx_rii)\n",
      "plt.xlim(xmin = 0, xmax = hz/2)\n",
      "plt.xlabel(\"Frequency (Hz)\")\n",
      "plt.ylabel(r\"PSD $(ms^ 2$/Hz)\")\n",
      "plt.title(\"PSD-Peaks\")\n",
      "plt.show()\n",
      "results_PSD"
     ],
     "language": "python",
     "metadata": {},
     "outputs": [
      {
       "html": [
        "<div style=\"max-height:1000px;max-width:1500px;overflow:auto;\">\n",
        "<table border=\"1\" class=\"dataframe\">\n",
        "  <thead>\n",
        "    <tr style=\"text-align: right;\">\n",
        "      <th></th>\n",
        "      <th>Peakdet</th>\n",
        "    </tr>\n",
        "  </thead>\n",
        "  <tbody>\n",
        "    <tr>\n",
        "      <th>ULF</th>\n",
        "      <td> 0.164940</td>\n",
        "    </tr>\n",
        "    <tr>\n",
        "      <th>VLF</th>\n",
        "      <td> 0.095360</td>\n",
        "    </tr>\n",
        "    <tr>\n",
        "      <th>LF</th>\n",
        "      <td> 0.013654</td>\n",
        "    </tr>\n",
        "    <tr>\n",
        "      <th>HF</th>\n",
        "      <td> 0.045412</td>\n",
        "    </tr>\n",
        "    <tr>\n",
        "      <th>LF/HF</th>\n",
        "      <td> 0.300671</td>\n",
        "    </tr>\n",
        "  </tbody>\n",
        "</table>\n",
        "<p>5 rows \u00d7 1 columns</p>\n",
        "</div>"
       ],
       "metadata": {},
       "output_type": "pyout",
       "prompt_number": 21,
       "text": [
        "        Peakdet\n",
        "ULF    0.164940\n",
        "VLF    0.095360\n",
        "LF     0.013654\n",
        "HF     0.045412\n",
        "LF/HF  0.300671\n",
        "\n",
        "[5 rows x 1 columns]"
       ]
      }
     ],
     "prompt_number": 21
    },
    {
     "cell_type": "heading",
     "level": 1,
     "metadata": {},
     "source": [
      "Bursts"
     ]
    },
    {
     "cell_type": "heading",
     "level": 3,
     "metadata": {},
     "source": [
      "Frequency Plot"
     ]
    },
    {
     "cell_type": "markdown",
     "metadata": {},
     "source": [
      "Use the block below to plot the burst interval data over time"
     ]
    },
    {
     "cell_type": "code",
     "collapsed": false,
     "input": [
      "tct = results_bursts['Total Cycle Time'].tolist()\n",
      "del tct[-1] #the last value is NaN, so we delete it.\n",
      "\n",
      "tct_new = []\n",
      "for i in tct:\n",
      "    bpm = 60/i\n",
      "    tct_new.append(bpm)\n",
      "tct = tct_new\n",
      "\n",
      "time_int = results_bursts['Burst Start'].tolist()\n",
      "del time_int[-1] #must be the same length as rri\n",
      "plt.plot(time_int, tct)\n",
      "plt.show()"
     ],
     "language": "python",
     "metadata": {},
     "outputs": [],
     "prompt_number": 22
    },
    {
     "cell_type": "heading",
     "level": 3,
     "metadata": {},
     "source": [
      "PSD"
     ]
    },
    {
     "cell_type": "code",
     "collapsed": false,
     "input": [
      "Fxx_tct, Pxx_tct = PSD_tct(results_bursts, hz)\n",
      "results_PSD['Burstdet'] = Results_PSD(Fxx_tct, Pxx_tct)\n",
      "plt.plot(Fxx_tct, Pxx_tct)\n",
      "plt.xlim(xmin = 0, xmax = hz/2)\n",
      "plt.xlabel(\"Frequency (Hz)\")\n",
      "plt.ylabel(r\"PSD $(ms^ 2$/Hz)\")\n",
      "plt.title(\"PSD-Bursts\")\n",
      "plt.show()\n",
      "results_PSD"
     ],
     "language": "python",
     "metadata": {},
     "outputs": [
      {
       "html": [
        "<div style=\"max-height:1000px;max-width:1500px;overflow:auto;\">\n",
        "<table border=\"1\" class=\"dataframe\">\n",
        "  <thead>\n",
        "    <tr style=\"text-align: right;\">\n",
        "      <th></th>\n",
        "      <th>Peakdet</th>\n",
        "      <th>Burstdet</th>\n",
        "    </tr>\n",
        "  </thead>\n",
        "  <tbody>\n",
        "    <tr>\n",
        "      <th>ULF</th>\n",
        "      <td> 0.164940</td>\n",
        "      <td> 0.164405</td>\n",
        "    </tr>\n",
        "    <tr>\n",
        "      <th>VLF</th>\n",
        "      <td> 0.095360</td>\n",
        "      <td> 0.095906</td>\n",
        "    </tr>\n",
        "    <tr>\n",
        "      <th>LF</th>\n",
        "      <td> 0.013654</td>\n",
        "      <td> 0.014429</td>\n",
        "    </tr>\n",
        "    <tr>\n",
        "      <th>HF</th>\n",
        "      <td> 0.045412</td>\n",
        "      <td> 0.062709</td>\n",
        "    </tr>\n",
        "    <tr>\n",
        "      <th>LF/HF</th>\n",
        "      <td> 0.300671</td>\n",
        "      <td> 0.230090</td>\n",
        "    </tr>\n",
        "  </tbody>\n",
        "</table>\n",
        "<p>5 rows \u00d7 2 columns</p>\n",
        "</div>"
       ],
       "metadata": {},
       "output_type": "pyout",
       "prompt_number": 23,
       "text": [
        "        Peakdet  Burstdet\n",
        "ULF    0.164940  0.164405\n",
        "VLF    0.095360  0.095906\n",
        "LF     0.013654  0.014429\n",
        "HF     0.045412  0.062709\n",
        "LF/HF  0.300671  0.230090\n",
        "\n",
        "[5 rows x 2 columns]"
       ]
      }
     ],
     "prompt_number": 23
    },
    {
     "cell_type": "heading",
     "level": 2,
     "metadata": {},
     "source": [
      "Save PSD results and settings"
     ]
    },
    {
     "cell_type": "code",
     "collapsed": false,
     "input": [
      "results_PSD.to_csv(r'%s/%s/%s_PSD_results.csv' %(Settings['Save Location'], Settings['Sample Folder'], Settings['Sample Folder']))\n",
      "Settings_PSD.to_csv(r'%s/%s/%s_PSD_settings_%s.csv' %(Settings['Save Location'], Settings['Sample Folder'], Settings['Sample Folder'], datetime.datetime.now()))"
     ],
     "language": "python",
     "metadata": {},
     "outputs": [],
     "prompt_number": 24
    },
    {
     "cell_type": "heading",
     "level": 1,
     "metadata": {},
     "source": [
      "STOP HERE"
     ]
    },
    {
     "cell_type": "markdown",
     "metadata": {},
     "source": [
      "You can run another file be going back the the **Begin User Input** section and chose another file path."
     ]
    },
    {
     "cell_type": "heading",
     "level": 1,
     "metadata": {},
     "source": [
      "Advanced user options"
     ]
    },
    {
     "cell_type": "heading",
     "level": 3,
     "metadata": {},
     "source": [
      "Approximate entropy"
     ]
    },
    {
     "cell_type": "markdown",
     "metadata": {},
     "source": [
      "run the below code to get the approximate entropy of the RR and Ttot results. Returns the entropy of the entire array (no windowing). I assume you want to do this on the RR interval or Ttotal arrays, so i have included an example of code I wrote than runs. Your settings may be different.\n",
      "\n",
      "this only runs if you have pyEEG installed."
     ]
    },
    {
     "cell_type": "code",
     "collapsed": false,
     "input": [
      "from pyeeg import *\n",
      "\n",
      "RR = results_peaks['R-R intervals'].tolist()\n",
      "tot = results_bursts['Total Cycle Time'].tolist()\n",
      "\n",
      "rr_ap_ent = ap_entropy(RR[:-1], 2, (0.2*np.std(RR[:-1])))\n",
      "ttot_ap_ent = ap_entropy(tot[:-1], 2, (0.2*np.std(tot[:-1])))\n",
      "\n",
      "print \"RR approximate entropy =\", np.round(rr_ap_ent,3)\n",
      "print \"T Total approximate entropy =\", np.round(ttot_ap_ent,3)"
     ],
     "language": "python",
     "metadata": {},
     "outputs": [
      {
       "output_type": "stream",
       "stream": "stdout",
       "text": [
        "RR approximate entropy = 0.497\n",
        "T Total approximate entropy = 0.475\n"
       ]
      }
     ],
     "prompt_number": 28
    },
    {
     "cell_type": "heading",
     "level": 3,
     "metadata": {},
     "source": [
      "HistEntropy"
     ]
    },
    {
     "cell_type": "markdown",
     "metadata": {},
     "source": [
      "use the blocks below to get histogram plot and histogram entropy"
     ]
    },
    {
     "cell_type": "code",
     "collapsed": false,
     "input": [
      "#For RR\n",
      "from __future__ import division\n",
      "from math import log\n",
      "RR = results_peaks['R-R intervals'].tolist()\n",
      "NumBin = int(2 * (log(len(RR), 2))); print 'Number of Bins=', NumBin\n",
      "binarray = np.linspace(min(RR), max(RR), NumBin)\n",
      "no, xo = np.histogram(RR, binarray); #print no\n",
      "\n",
      "# normalize the distribution to make area under distribution function unity\n",
      "no = no/sum(no); #print no\n",
      "\n",
      "# find the bins that have no samples to prevent log(0) in calculation\n",
      "no = no[np.nonzero(no)]    \n",
      "\n",
      "# if all of the samples fall in one bin regardless of the bin size\n",
      "# means we have the most predictable sitution and the entropy is 0\n",
      "# if we have uniformly dist function, the max entropy will be 1\n",
      "\n",
      "HistEntropy = [-1*(x * log(x, 2))/(log(NumBin,2)) for x in no]\n",
      "print 'HistEntropy=', sum(HistEntropy)\n",
      "\n",
      "#plot that hot hot interval\n",
      "plt.hist(RR,binarray)\n",
      "plt.xlabel('Peak Intervals')\n",
      "plt.ylabel('Count')\n",
      "plt.title('Peak Interval Histogram')\n",
      "plt.show()"
     ],
     "language": "python",
     "metadata": {},
     "outputs": [
      {
       "output_type": "stream",
       "stream": "stdout",
       "text": [
        "Number of Bins= 23\n",
        "HistEntropy= 0.93392724168\n"
       ]
      }
     ],
     "prompt_number": 26
    },
    {
     "cell_type": "code",
     "collapsed": false,
     "input": [
      "#For Total cycle time\n",
      "from __future__ import division\n",
      "from math import log\n",
      "tot = results_bursts['Total Cycle Time'].tolist()\n",
      "tot = np.array(tot, dtype= 'float')\n",
      "NumBin = int(2 * (log(len(tot), 2))); print 'Number of Bins=', NumBin\n",
      "binarray = np.linspace(min(tot), max(tot), NumBin)\n",
      "no, xo = np.histogram(tot, binarray); #print no\n",
      "\n",
      "# normalize the distribution to make area under distribution function unity\n",
      "no = no/sum(no); #print no\n",
      "\n",
      "# find the bins that have no samples to prevent log(0) in calculation\n",
      "no = no[np.nonzero(no)]    \n",
      "\n",
      "# if all of the samples fall in one bin regardless of the bin size\n",
      "# means we have the most predictable sitution and the entropy is 0\n",
      "# if we have uniformly dist function, the max entropy will be 1\n",
      "\n",
      "HistEntropy = [-1*(x * log(x, 2))/(log(NumBin,2)) for x in no]\n",
      "print 'HistEntropy=',  sum(HistEntropy)\n",
      "\n",
      "#plot that hot hot interval\n",
      "plt.hist(tot,binarray)\n",
      "plt.xlabel('Burst Total Cycle Time')\n",
      "plt.ylabel('Count')\n",
      "plt.title('Burst Total Cycle Time Histogram')\n",
      "plt.show()"
     ],
     "language": "python",
     "metadata": {},
     "outputs": [
      {
       "output_type": "stream",
       "stream": "stdout",
       "text": [
        "Number of Bins= 23\n",
        "HistEntropy= 0.896103685049\n"
       ]
      }
     ],
     "prompt_number": 27
    },
    {
     "cell_type": "heading",
     "level": 2,
     "metadata": {},
     "source": [
      "Rolling baseline pracice section"
     ]
    },
    {
     "cell_type": "code",
     "collapsed": false,
     "input": [
      "rolling_mean = pd.rolling_mean(data_trans, 500.5)"
     ],
     "language": "python",
     "metadata": {},
     "outputs": [],
     "prompt_number": 103
    },
    {
     "cell_type": "code",
     "collapsed": false,
     "input": [
      "plt.plot(time[250:-250], data_trans[250:-250], 'k')\n",
      "plt.plot(time[250:-250], rolling_mean[500:], 'r')\n",
      "plt.xlim(0,10)\n",
      "plt.show()"
     ],
     "language": "python",
     "metadata": {},
     "outputs": [],
     "prompt_number": 44
    },
    {
     "cell_type": "code",
     "collapsed": false,
     "input": [
      "print len(data_trans)\n",
      "print len(roll_mean)"
     ],
     "language": "python",
     "metadata": {},
     "outputs": [
      {
       "output_type": "stream",
       "stream": "stdout",
       "text": [
        "2427800\n",
        "2427550\n"
       ]
      }
     ],
     "prompt_number": 34
    },
    {
     "cell_type": "code",
     "collapsed": false,
     "input": [
      "roll_mean = Series(data = rolling_mean[500:], index = time[250:-250])\n",
      "roll_data = Series(data = data_trans[250:-250], index = time[250:-250])"
     ],
     "language": "python",
     "metadata": {},
     "outputs": [],
     "prompt_number": 45
    },
    {
     "cell_type": "code",
     "collapsed": false,
     "input": [
      "roll_mean.tail()"
     ],
     "language": "python",
     "metadata": {},
     "outputs": [
      {
       "metadata": {},
       "output_type": "pyout",
       "prompt_number": 49,
       "text": [
        "606.88625    0.244961\n",
        "606.88650    0.245567\n",
        "606.88675    0.246174\n",
        "606.88700    0.246781\n",
        "606.88725    0.247389\n",
        "dtype: float64"
       ]
      }
     ],
     "prompt_number": 49
    },
    {
     "cell_type": "code",
     "collapsed": false,
     "input": [
      "roll_data.tail()"
     ],
     "language": "python",
     "metadata": {},
     "outputs": [
      {
       "metadata": {},
       "output_type": "pyout",
       "prompt_number": 50,
       "text": [
        "606.88625    0.357897\n",
        "606.88650    0.349750\n",
        "606.88675    0.341599\n",
        "606.88700    0.333404\n",
        "606.88725    0.325205\n",
        "dtype: float64"
       ]
      }
     ],
     "prompt_number": 50
    },
    {
     "cell_type": "code",
     "collapsed": false,
     "input": [
      "plt.plot(roll_data, 'k')\n",
      "plt.plot(roll_mean, 'r')\n",
      "plt.show()"
     ],
     "language": "python",
     "metadata": {},
     "outputs": [],
     "prompt_number": 48
    },
    {
     "cell_type": "code",
     "collapsed": false,
     "input": [
      "print len(roll_data) == len(roll_mean)"
     ],
     "language": "python",
     "metadata": {},
     "outputs": [
      {
       "output_type": "stream",
       "stream": "stdout",
       "text": [
        "True\n"
       ]
      }
     ],
     "prompt_number": 51
    },
    {
     "cell_type": "code",
     "collapsed": false,
     "input": [
      "roll_data_shift = roll_data - roll_mean"
     ],
     "language": "python",
     "metadata": {},
     "outputs": [],
     "prompt_number": 52
    },
    {
     "cell_type": "code",
     "collapsed": false,
     "input": [
      "plt.plot(roll_data, 'k')\n",
      "plt.plot(roll_mean, 'r')\n",
      "plt.plot(roll_data_shift, 'b')\n",
      "plt.show()"
     ],
     "language": "python",
     "metadata": {},
     "outputs": [],
     "prompt_number": 54
    },
    {
     "cell_type": "code",
     "collapsed": false,
     "input": [
      "type(Settings)"
     ],
     "language": "python",
     "metadata": {},
     "outputs": [
      {
       "metadata": {},
       "output_type": "pyout",
       "prompt_number": 76,
       "text": [
        "dict"
       ]
      }
     ],
     "prompt_number": 76
    },
    {
     "cell_type": "code",
     "collapsed": false,
     "input": [
      "time_copy = Data['trans'].index\n",
      "data_trans_copy = Data['trans']"
     ],
     "language": "python",
     "metadata": {},
     "outputs": [],
     "prompt_number": 39
    },
    {
     "cell_type": "code",
     "collapsed": false,
     "input": [
      "data_baseline, Settings, time_copy, data_trans_copy = threshold(time_copy, data_trans_copy, Settings)\n",
      "graph_baseline(time_copy, data_trans_copy, data_baseline, Settings)"
     ],
     "language": "python",
     "metadata": {},
     "outputs": [
      {
       "ename": "TypeError",
       "evalue": "threshold() takes exactly 2 arguments (3 given)",
       "output_type": "pyerr",
       "traceback": [
        "\u001b[0;31m---------------------------------------------------------------------------\u001b[0m\n\u001b[0;31mTypeError\u001b[0m                                 Traceback (most recent call last)",
        "\u001b[0;32m<ipython-input-40-7b959b604f8d>\u001b[0m in \u001b[0;36m<module>\u001b[0;34m()\u001b[0m\n\u001b[0;32m----> 1\u001b[0;31m \u001b[0mdata_baseline\u001b[0m\u001b[0;34m,\u001b[0m \u001b[0mSettings\u001b[0m\u001b[0;34m,\u001b[0m \u001b[0mtime_copy\u001b[0m\u001b[0;34m,\u001b[0m \u001b[0mdata_trans_copy\u001b[0m \u001b[0;34m=\u001b[0m \u001b[0mthreshold\u001b[0m\u001b[0;34m(\u001b[0m\u001b[0mtime_copy\u001b[0m\u001b[0;34m,\u001b[0m \u001b[0mdata_trans_copy\u001b[0m\u001b[0;34m,\u001b[0m \u001b[0mSettings\u001b[0m\u001b[0;34m)\u001b[0m\u001b[0;34m\u001b[0m\u001b[0m\n\u001b[0m\u001b[1;32m      2\u001b[0m \u001b[0mgraph_baseline\u001b[0m\u001b[0;34m(\u001b[0m\u001b[0mtime_copy\u001b[0m\u001b[0;34m,\u001b[0m \u001b[0mdata_trans_copy\u001b[0m\u001b[0;34m,\u001b[0m \u001b[0mdata_baseline\u001b[0m\u001b[0;34m,\u001b[0m \u001b[0mSettings\u001b[0m\u001b[0;34m)\u001b[0m\u001b[0;34m\u001b[0m\u001b[0m\n",
        "\u001b[0;31mTypeError\u001b[0m: threshold() takes exactly 2 arguments (3 given)"
       ]
      }
     ],
     "prompt_number": 40
    },
    {
     "cell_type": "code",
     "collapsed": false,
     "input": [
      "window = 50\n",
      "r_window = (window/1000.0)/Settings['Sample Rate (s/frame)']\n",
      "#baseline_rolling(time, data_trans, window)\n",
      "print r_window\n",
      "\n",
      "rolling_mean, data_trans_r, time_r = baseline_rolling(time_copy, data_trans_copy, r_window)\n",
      "\n",
      "plt.plot(time_r, data_trans_r, 'k')\n",
      "plt.plot(time_r, rolling_mean, 'b')\n",
      "plt.show()"
     ],
     "language": "python",
     "metadata": {},
     "outputs": [
      {
       "output_type": "stream",
       "stream": "stdout",
       "text": [
        "200.0\n"
       ]
      },
      {
       "ename": "Exception",
       "evalue": "Something has gone horribly wrong. The data arrays are no longer the same size nor aligning. Restart the notebooke and try again.",
       "output_type": "pyerr",
       "traceback": [
        "\u001b[0;31m---------------------------------------------------------------------------\u001b[0m\n\u001b[0;31mException\u001b[0m                                 Traceback (most recent call last)",
        "\u001b[0;32m<ipython-input-41-25c733b39036>\u001b[0m in \u001b[0;36m<module>\u001b[0;34m()\u001b[0m\n\u001b[1;32m      4\u001b[0m \u001b[0;32mprint\u001b[0m \u001b[0mr_window\u001b[0m\u001b[0;34m\u001b[0m\u001b[0m\n\u001b[1;32m      5\u001b[0m \u001b[0;34m\u001b[0m\u001b[0m\n\u001b[0;32m----> 6\u001b[0;31m \u001b[0mrolling_mean\u001b[0m\u001b[0;34m,\u001b[0m \u001b[0mdata_trans_r\u001b[0m\u001b[0;34m,\u001b[0m \u001b[0mtime_r\u001b[0m \u001b[0;34m=\u001b[0m \u001b[0mbaseline_rolling\u001b[0m\u001b[0;34m(\u001b[0m\u001b[0mtime_copy\u001b[0m\u001b[0;34m,\u001b[0m \u001b[0mdata_trans_copy\u001b[0m\u001b[0;34m,\u001b[0m \u001b[0mr_window\u001b[0m\u001b[0;34m)\u001b[0m\u001b[0;34m\u001b[0m\u001b[0m\n\u001b[0m\u001b[1;32m      7\u001b[0m \u001b[0;34m\u001b[0m\u001b[0m\n\u001b[1;32m      8\u001b[0m \u001b[0mplt\u001b[0m\u001b[0;34m.\u001b[0m\u001b[0mplot\u001b[0m\u001b[0;34m(\u001b[0m\u001b[0mtime_r\u001b[0m\u001b[0;34m,\u001b[0m \u001b[0mdata_trans_r\u001b[0m\u001b[0;34m,\u001b[0m \u001b[0;34m'k'\u001b[0m\u001b[0;34m)\u001b[0m\u001b[0;34m\u001b[0m\u001b[0m\n",
        "\u001b[0;32m<ipython-input-35-a6b82681a3b4>\u001b[0m in \u001b[0;36mbaseline_rolling\u001b[0;34m(time, data_trans, window)\u001b[0m\n\u001b[1;32m     66\u001b[0m     \u001b[0;31m#sanity check\u001b[0m\u001b[0;34m\u001b[0m\u001b[0;34m\u001b[0m\u001b[0m\n\u001b[1;32m     67\u001b[0m     \u001b[0;32mif\u001b[0m \u001b[0mlen\u001b[0m\u001b[0;34m(\u001b[0m\u001b[0mdata_trans\u001b[0m\u001b[0;34m)\u001b[0m \u001b[0;34m!=\u001b[0m \u001b[0mlen\u001b[0m\u001b[0;34m(\u001b[0m\u001b[0mrolling_mean\u001b[0m\u001b[0;34m)\u001b[0m\u001b[0;34m:\u001b[0m\u001b[0;34m\u001b[0m\u001b[0m\n\u001b[0;32m---> 68\u001b[0;31m         \u001b[0;32mraise\u001b[0m \u001b[0mException\u001b[0m\u001b[0;34m(\u001b[0m\u001b[0;34m\"Something has gone horribly wrong. The data arrays are no longer the same size nor aligning. Restart the notebooke and try again.\"\u001b[0m\u001b[0;34m)\u001b[0m\u001b[0;34m\u001b[0m\u001b[0m\n\u001b[0m\u001b[1;32m     69\u001b[0m     \u001b[0;32mreturn\u001b[0m \u001b[0mrolling_mean\u001b[0m\u001b[0;34m,\u001b[0m \u001b[0mdata_trans\u001b[0m\u001b[0;34m,\u001b[0m \u001b[0mtime\u001b[0m\u001b[0;34m\u001b[0m\u001b[0m\n\u001b[1;32m     70\u001b[0m \u001b[0;34m\u001b[0m\u001b[0m\n",
        "\u001b[0;31mException\u001b[0m: Something has gone horribly wrong. The data arrays are no longer the same size nor aligning. Restart the notebooke and try again."
       ]
      }
     ],
     "prompt_number": 41
    },
    {
     "cell_type": "code",
     "collapsed": false,
     "input": [
      "Settings['Sample Rate (s/frame)']\n"
     ],
     "language": "python",
     "metadata": {},
     "outputs": [
      {
       "metadata": {},
       "output_type": "pyout",
       "prompt_number": 101,
       "text": [
        "0.00025000000000000001"
       ]
      }
     ],
     "prompt_number": 101
    },
    {
     "cell_type": "code",
     "collapsed": false,
     "input": [],
     "language": "python",
     "metadata": {},
     "outputs": []
    },
    {
     "cell_type": "code",
     "collapsed": false,
     "input": [],
     "language": "python",
     "metadata": {},
     "outputs": []
    },
    {
     "cell_type": "code",
     "collapsed": false,
     "input": [],
     "language": "python",
     "metadata": {},
     "outputs": []
    },
    {
     "cell_type": "code",
     "collapsed": false,
     "input": [
      "type(Settings['Sample Rate (s/frame)'])"
     ],
     "language": "python",
     "metadata": {},
     "outputs": [
      {
       "metadata": {},
       "output_type": "pyout",
       "prompt_number": 82,
       "text": [
        "numpy.float64"
       ]
      }
     ],
     "prompt_number": 82
    },
    {
     "cell_type": "code",
     "collapsed": false,
     "input": [
      "def baseline(data,rate):\n",
      "    \n",
      "    '''\n",
      "    input data array (list) and rate value (capture rate in seconds), returns the baserate average and the shifted data array.\n",
      "    using the first 0.1 s of data, find average of all data values. this becomes the baseline. \n",
      "    this means that the first 0.5 seconds of data MUST be clean and not include and event.\n",
      "    baseline is used later in burst measurements\n",
      "    import numpy as np\n",
      "    '''\n",
      "    \n",
      "    index = 0.1/rate #find the index of the first 0.2 seconds of data\n",
      "    baserate = np.mean(data[:index]) #average all points to obtain baserate\n",
      "    \n",
      "    datashift = []\n",
      "    \n",
      "    #may be able to use np.subtract(data,base) instead, but this seems to work correctly.\n",
      "    for x in data:\n",
      "        foo = (x-baserate)\n",
      "        datashift.append(foo)\n",
      "        \n",
      "    return abs(baserate), datashift"
     ],
     "language": "python",
     "metadata": {},
     "outputs": []
    },
    {
     "cell_type": "code",
     "collapsed": false,
     "input": [
      "#baseline and thresholding is moved to its own call threshold()\n",
      "    #base, data_shift =baseline(data_trans,settings['Sample Rate (s/frame)']) #capture rate for ECG is each frame is 0.00025 s\n",
      "    #settings['Baseline'] = base"
     ],
     "language": "python",
     "metadata": {},
     "outputs": []
    },
    {
     "cell_type": "markdown",
     "metadata": {},
     "source": [
      "playing with loading window"
     ]
    },
    {
     "cell_type": "code",
     "collapsed": false,
     "input": [
      "from PySide import QtCore, QtGui\n",
      "def gui_fname(dir=None):\n",
      "    \"\"\"Select a file via a dialog and returns the file name.\n",
      "    \"\"\"\n",
      "    if dir is None: dir ='./'\n",
      "    fname = QtGui.QFileDialog.getOpenFileName(None, \"Select data file...\", \n",
      "            dir, filter=\"All files (*);; SM Files (*.sm)\")\n",
      "    return fname[0]"
     ],
     "language": "python",
     "metadata": {},
     "outputs": [],
     "prompt_number": 4
    },
    {
     "cell_type": "code",
     "collapsed": false,
     "input": [
      "#%gui qt"
     ],
     "language": "python",
     "metadata": {},
     "outputs": [],
     "prompt_number": 5
    },
    {
     "cell_type": "code",
     "collapsed": false,
     "input": [
      "#%gui qt\n",
      "file_name = gui_fname()"
     ],
     "language": "python",
     "metadata": {},
     "outputs": [],
     "prompt_number": 6
    }
   ],
   "metadata": {}
  }
 ]
}