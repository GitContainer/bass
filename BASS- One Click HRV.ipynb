{
 "cells": [
  {
   "cell_type": "markdown",
   "metadata": {},
   "source": [
    "# Welcome to BASS!"
   ]
  },
  {
   "cell_type": "markdown",
   "metadata": {},
   "source": [
    "One Click HRV\n",
    "\n",
    "This notebok was custom designed by Abigail Dobyns for Dr. Curras-Collazo's lab."
   ]
  },
  {
   "cell_type": "markdown",
   "metadata": {},
   "source": [
    "    BASS: Biomedical Analysis Software Suite for event detection and signal processing.\n",
    "    Copyright (C) 2015  Abigail Dobyns\n",
    "\n",
    "    This program is free software: you can redistribute it and/or modify\n",
    "    it under the terms of the GNU General Public License as published by\n",
    "    the Free Software Foundation, either version 3 of the License, or\n",
    "    (at your option) any later version.\n",
    "\n",
    "    This program is distributed in the hope that it will be useful,\n",
    "    but WITHOUT ANY WARRANTY; without even the implied warranty of\n",
    "    MERCHANTABILITY or FITNESS FOR A PARTICULAR PURPOSE.  See the\n",
    "    GNU General Public License for more details.\n",
    "\n",
    "    You should have received a copy of the GNU General Public License\n",
    "    along with this program.  If not, see <http://www.gnu.org/licenses/>"
   ]
  },
  {
   "cell_type": "markdown",
   "metadata": {},
   "source": [
    "## Initalize"
   ]
  },
  {
   "cell_type": "markdown",
   "metadata": {},
   "source": [
    "Run the following code block to intialize the program.\n",
    "\n",
    "*run this block* **one** *time*"
   ]
  },
  {
   "cell_type": "code",
   "execution_count": 1,
   "metadata": {
    "collapsed": false
   },
   "outputs": [
    {
     "name": "stdout",
     "output_type": "stream",
     "text": [
      "BASS ready!\n"
     ]
    }
   ],
   "source": [
    "from bass import *"
   ]
  },
  {
   "cell_type": "markdown",
   "metadata": {},
   "source": [
    "# Begin User Input\n",
    "\n",
    "For help, check out the wiki: [Protocol](https://github.com/drcgw/bass/wiki/Single-Wave-Interactive-Protocol)\n",
    "\n",
    "Or the video tutorial: Coming Soon!\n",
    "\n",
    "## Load Data File\n",
    "Use the following block to change your settings. You **must** use this block.\n",
    "\n",
    "Here are some helpful information about the loading settings:\n",
    "\n",
    "**Settings['folder']= Full File Path for data input:**\n",
    "Designate the path to your file to load. It can also be the relative path to the folder where this notebook is stored. This does not include the file itself.\n",
    "\n",
    "    Mac OSX Example: '/Users/MYNAME/Documents/bass'\n",
    "    Microsoft Example: r'C:\\\\Users\\MYNAME\\Documents\\bass'\n",
    "    \n",
    "\n",
    "**Settings['Label']= File name:**\n",
    "This is the name of your data file. It should include the file type. This file should NOT have a header and the first column must be time in seconds. Note: This file name will also appear as part of the output files names.\n",
    "\n",
    "    'rat34_ECG.txt' \n",
    "\n",
    "**Settings['Output Folder'] = Full File Path for data output:** Designate the location of the folder where you would like the folder containing your results to go. If the folder does not exist, then it will be created. A plots folder, called 'plots' will be created inside this folder for you if it does not already exist. \n",
    "\n",
    "    Mac OSX Example: '/Users/MYNAME/Documents/output'\n",
    "    Microsoft Example: r'C:\\\\Users\\MYNAME\\Documents\\output' \n",
    "\n",
    "[Loading a file](https://github.com/drcgw/bass/wiki/Single-Wave-Interactive-Protocol#load)\n",
    "\n",
    "**WARNING** All text input should be raw, especially if in Windows.\n",
    "    \n",
    "    r'string!'\n",
    "    r\"string!\"\n",
    "    \n",
    "## Other Settings\n",
    "\n",
    "For more information about other settings, go to: \n",
    "\n",
    "[Transforming Data](https://github.com/drcgw/bass/wiki/Single-Wave-Interactive-Protocol#enter-your-settings-for-data-transformation)\n",
    "\n",
    "[Baseline Settings](https://github.com/drcgw/bass/wiki/Single-Wave-Interactive-Protocol#set-baseline-for-thresholding)\n",
    "\n",
    "[Peak Detection Settings](https://github.com/drcgw/bass/wiki/Single-Wave-Interactive-Protocol#peak-detection-settings)\n",
    "\n",
    "[Burst Detection Settings](https://github.com/drcgw/bass/wiki/Single-Wave-Interactive-Protocol#enter-burst-settings)"
   ]
  },
  {
   "cell_type": "code",
   "execution_count": 2,
   "metadata": {
    "collapsed": false
   },
   "outputs": [
    {
     "name": "stdout",
     "output_type": "stream",
     "text": [
      "Made plots folder\n",
      "Data Loaded\n",
      "Rounded Sampling Rate (s/frame): 0.00025\n",
      "2014-06-10rat70-ECG.txt is 7278.94975 seconds long.\n",
      "Rounded Sampling Rate (s/frame): 0.00025\n",
      "Transformation completed\n",
      "Baseline set completed\n",
      "Peak Detection completed\n",
      "Burst Detection completed\n",
      "Analysis Complete:  458.7132  Seconds\n",
      "\n",
      "--------------------------------------------\n",
      "Data Column Names/Keys\n",
      "-----\n",
      "2014-06-10rat70-ECG.txt\n",
      "\n",
      "--------------------------------------------\n",
      "Available Measurements from Peaks for further analysis:\n",
      "-----\n",
      "Peaks Amplitude\n",
      "Intervals\n",
      "\n",
      "--------------------------------------------\n",
      "Available Measurements from Bursts for further analysis:\n",
      "-----\n",
      "Burst Start\n",
      "Burst End\n",
      "Burst Duration\n",
      "Edge Event\n",
      "Interburst Interval\n",
      "Total Cycle Time\n",
      "Peaks per Burst\n",
      "Peak Amp\n",
      "Peak Time\n",
      "Attack\n",
      "Decay\n",
      "Intraburst Frequency\n",
      "\n",
      "---------------------------\n",
      "|Event Detection Complete!|\n",
      "---------------------------\n",
      "\n",
      "Heart Rate Varibility Analysis Complete: 676.847 sec\n"
     ]
    },
    {
     "data": {
      "text/html": [
       "<div style=\"max-height:1000px;max-width:1500px;overflow:auto;\">\n",
       "<table border=\"1\" class=\"dataframe\">\n",
       "  <thead>\n",
       "    <tr style=\"text-align: right;\">\n",
       "      <th></th>\n",
       "      <th>Beats</th>\n",
       "      <th>Recording Length (s)</th>\n",
       "      <th>Mean HR</th>\n",
       "      <th>Mean RR</th>\n",
       "      <th>STD RR</th>\n",
       "      <th>pNN50</th>\n",
       "      <th>rMSSD</th>\n",
       "      <th>IRRR</th>\n",
       "      <th>MADRR</th>\n",
       "      <th>TINN</th>\n",
       "      <th>HRV index</th>\n",
       "      <th>ApEn</th>\n",
       "      <th>Sample Ent</th>\n",
       "      <th>HistEnt</th>\n",
       "      <th>SD1</th>\n",
       "      <th>SD2</th>\n",
       "      <th>ULF</th>\n",
       "      <th>VLF</th>\n",
       "      <th>LF</th>\n",
       "      <th>HF</th>\n",
       "      <th>Total Power</th>\n",
       "      <th>LF/HF Ratio</th>\n",
       "    </tr>\n",
       "  </thead>\n",
       "  <tbody>\n",
       "    <tr>\n",
       "      <th>2014-06-10rat70-ECG.txt</th>\n",
       "      <td>50028</td>\n",
       "      <td>7278.95</td>\n",
       "      <td>412.3782</td>\n",
       "      <td>0.1454966</td>\n",
       "      <td>0.05323405</td>\n",
       "      <td>44</td>\n",
       "      <td>0.1549293</td>\n",
       "      <td>0.06275</td>\n",
       "      <td>0.16475</td>\n",
       "      <td>0.0326547</td>\n",
       "      <td>130</td>\n",
       "      <td>NaN</td>\n",
       "      <td>NaN</td>\n",
       "      <td>0.6596976</td>\n",
       "      <td>NaN</td>\n",
       "      <td>NaN</td>\n",
       "      <td>9.612133e-06</td>\n",
       "      <td>1.827792e-05</td>\n",
       "      <td>8.877986e-05</td>\n",
       "      <td>0.0003129404</td>\n",
       "      <td>0.0004829241</td>\n",
       "      <td>0.2836957</td>\n",
       "    </tr>\n",
       "  </tbody>\n",
       "</table>\n",
       "</div>"
      ],
      "text/plain": [
       "                         Beats Recording Length (s)   Mean HR    Mean RR  \\\n",
       "2014-06-10rat70-ECG.txt  50028              7278.95  412.3782  0.1454966   \n",
       "\n",
       "                             STD RR pNN50      rMSSD     IRRR    MADRR  \\\n",
       "2014-06-10rat70-ECG.txt  0.05323405    44  0.1549293  0.06275  0.16475   \n",
       "\n",
       "                              TINN HRV index ApEn Sample Ent    HistEnt  SD1  \\\n",
       "2014-06-10rat70-ECG.txt  0.0326547       130  NaN        NaN  0.6596976  NaN   \n",
       "\n",
       "                         SD2           ULF           VLF            LF  \\\n",
       "2014-06-10rat70-ECG.txt  NaN  9.612133e-06  1.827792e-05  8.877986e-05   \n",
       "\n",
       "                                   HF   Total Power LF/HF Ratio  \n",
       "2014-06-10rat70-ECG.txt  0.0003129404  0.0004829241   0.2836957  "
      ]
     },
     "execution_count": 2,
     "metadata": {},
     "output_type": "execute_result"
    }
   ],
   "source": [
    "#initialize new file\n",
    "Data = {}\n",
    "Settings = {}\n",
    "Results ={}\n",
    "\n",
    "############################################################################################\n",
    "#manual Setting block\n",
    "Settings['folder']= r\"/Users/abigaildobyns/Downloads\"\n",
    "Settings['Label'] = r'2014-06-10rat70-ECG.txt'\n",
    "Settings['Output Folder'] = r\"/Users/abigaildobyns/Desktop/2014-06-10rat70-ECG\"\n",
    "\n",
    "#transformation Settings\n",
    "Settings['Absolute Value'] = True #Must be True if Savitzky-Golay is being used\n",
    "\n",
    "Settings['Bandpass Highcut'] = 100 #in Hz\n",
    "Settings['Bandpass Lowcut'] = 30 #in Hz\n",
    "Settings['Bandpass Polynomial'] = 4 #integer\n",
    "\n",
    "Settings['Linear Fit'] = False #between 0 and 1 on the whole time series\n",
    "Settings['Linear Fit-Rolling R'] = 0.75 #between 0 and 1\n",
    "Settings['Linear Fit-Rolling Window'] = 1000 #window for rolling mean for fit, unit is index not time\n",
    "Settings['Relative Baseline'] = 0 #default 0, unless data is normalized, then 1.0. Can be any float\n",
    "\n",
    "Settings['Savitzky-Golay Polynomial'] = 4 #integer\n",
    "Settings['Savitzky-Golay Window Size'] = 301 #must be odd. units are index not time\n",
    "\n",
    "#Baseline Settings\n",
    "Settings['Baseline Type'] = r'static' #'linear', 'rolling', or 'static'\n",
    "#For Linear\n",
    "Settings['Baseline Start'] = 0.0 #start time in seconds\n",
    "Settings['Baseline Stop'] = 1.0 #end time in seconds\n",
    "#For Rolling\n",
    "Settings['Rolling Baseline Window'] = r'none' #leave as 'none' if linear or static\n",
    "\n",
    "#Peaks\n",
    "Settings['Delta'] = 0.03\n",
    "Settings['Peak Minimum'] = 0.02 #amplitude value\n",
    "Settings['Peak Maximum'] = 0.2  #amplitude value\n",
    "\n",
    "#Bursts\n",
    "Settings['Burst Area'] = False #calculate burst area\n",
    "Settings['Exclude Edges'] = True #False to keep edges, True to discard them\n",
    "Settings['Inter-event interval minimum (seconds)'] = 0.0100 #only for bursts, not for peaks\n",
    "Settings['Maximum Burst Duration (s)'] = 10 \n",
    "Settings['Minimum Burst Duration (s)'] = 0\n",
    "Settings['Minimum Peak Number'] = 1 #minimum number of peaks/burst, integer\n",
    "Settings['Threshold']= 0.025 #linear: proportion of baseline. \n",
    "                           #static: literal value.\n",
    "                           #rolling, linear ammount grater than rolling baseline at each time point.\n",
    "\n",
    "#Outputs\n",
    "Settings['Generate Graphs'] = False #create and save the fancy graph outputs\n",
    "\n",
    "\n",
    "#Settings that you should not change unless you are a super advanced user:\n",
    "#These are settings that are still in development\n",
    "Settings['Graph LCpro events'] = False\n",
    "Settings['File Type'] = r'Plain' #'LCPro', 'ImageJ', 'SIMA', 'Plain', 'Morgan'\n",
    "Settings['Milliseconds'] = False\n",
    "############################################################################################\n",
    "##DO NOT TYPE BELOW THIS LINE\n",
    "############################################################################################\n",
    "\n",
    "def analyze(Data, Settings, Results):\n",
    "    \"\"\"\n",
    "    The pipeline for event detection. Follows the strict '3 arguments in, 3 arguments out'\n",
    "    rule. These dictionaries must be intalized before this, as well as all of the Settings values.\n",
    "    Detects bursts and peaks for the data file that is uploaded.\n",
    "    Settings used are saved out automatically with a time stamp as a receipt of each analysis performed.\n",
    "    This version of analyze was made specifically for the UCSD HRV group.\n",
    "\n",
    "    Parameters\n",
    "    ----------\n",
    "    Data: dictionary\n",
    "        an empty dictionary named Data.\n",
    "    Settings: dictionary\n",
    "        dictionary that contains the user's settings.\n",
    "    Results: dictionary\n",
    "        an empty dictionary named Results.\n",
    "    \n",
    "    Returns\n",
    "    -------\n",
    "    Data: dictionary\n",
    "        Contains the DataFrames with the time series data. Keys define which version of the data it is.\n",
    "    Settings: dictionary\n",
    "        dictionary that contains the user's settings.\n",
    "    Results: dictionary\n",
    "        Contains the following objects:\n",
    "            Peaks: dictionary\n",
    "                keys are the column names from the Data DataFrames. objects are DataFrames that contain information about each peak detected, indexed by peak time.\n",
    "            Peaks-Master: DataFrame\n",
    "                multi-indexed DataFrame, created by concatenating all Peaks DataFrames. Column names and peak time are the two indexes. Automatically saved in the Settings['output folder'] location.\n",
    "            Bursts: dictionary\n",
    "                keys are the column names from the Data DataFrames. objects are DataFrames that contain information about each burst detected. has an arbitrary index, which can be roughly thought of as burst number.\n",
    "            Bursts-Master: DataFrame\n",
    "                multi-indexed DataFrame, created by concatenating all Bursts DataFrames. Column names and burst number are the two indexes. Automatically saved in the Settings['output folder'] location.\n",
    "            \n",
    "\n",
    "    Notes\n",
    "    -----\n",
    "    This function is the top level function of the bass pipeline. \n",
    "    It has a few handy printed outputs, such as how long an analysis took, which step was just completed, lists of which objects contained no peaks or bursts. it also prints a list of key names and analysis measurements, which can be used in further analysis steps.\n",
    "    \n",
    "    \"\"\"\n",
    "    start = t.clock()\n",
    "    #Load\n",
    "    Data, Settings = load_wrapper(Data, Settings)\n",
    "    \n",
    "    Data['original'].columns = [Settings['Label']]\n",
    "    \n",
    "    #For this data set, we know the frame rate\n",
    "    frames = np.round(1/Settings['Sample Rate (s/frame)'])\n",
    "    Settings['Sample Rate (s/frame)'] = 1/float(frames)\n",
    "    print \"Rounded Sampling Rate (s/frame): %s\" %Settings['Sample Rate (s/frame)']\n",
    "\n",
    "    #transform data\n",
    "    Data, Settings = transform_wrapper(Data, Settings)\n",
    "    print 'Transformation completed'\n",
    "\n",
    "    #set baseline\n",
    "    Data, Settings, Results = baseline_wrapper(Data, Settings, Results)\n",
    "    print 'Baseline set completed'\n",
    "\n",
    "    #run peak detection\n",
    "    Results = event_peakdet_wrapper(Data, Settings, Results)\n",
    "    print 'Peak Detection completed'\n",
    "\n",
    "    #run burst detection\n",
    "    Results = event_burstdet_wrapper(Data, Settings, Results)\n",
    "    print 'Burst Detection completed'\n",
    "\n",
    "    #Save all the graphs\n",
    "    if Settings['Generate Graphs'] == True:\n",
    "        for label, col in Data['original'].iteritems():\n",
    "            graph_detected_events_save(Data, Settings, Results, \n",
    "                                  roi = label, lcpro = Settings['Graph LCpro events'])\n",
    "        print \"Graphs Saved\"\n",
    "\n",
    "    #Save master files \n",
    "    Results['Peaks-Master'].to_csv(r'%s/%s_Peak_Results.csv'\n",
    "                                   %(Settings['Output Folder'], Settings['Label']))\n",
    "    Results['Bursts-Master'].to_csv(r'%s/%s_Bursts_Results.csv'\n",
    "                                    %(Settings['Output Folder'], Settings['Label']))\n",
    "\n",
    "    #Save Master Summary Files\n",
    "    burst_grouped = Results['Bursts-Master'].groupby(level=0)\n",
    "    burst_grouped = burst_grouped.describe()\n",
    "    burst_grouped.to_csv(r'%s/%s_Bursts_Results_Summary.csv'\n",
    "                                           %(Settings['Output Folder'], Settings['Label']))\n",
    "    \n",
    "    peak_grouped = Results['Peaks-Master'].groupby(level=0)\n",
    "    peak_grouped= peak_grouped.describe()\n",
    "    peak_grouped.to_csv(r'%s/%s_Peaks_Results_Summary.csv'\n",
    "                                           %(Settings['Output Folder'], Settings['Label']))\n",
    "\n",
    "    #save settings\n",
    "    Settings_panda = DataFrame.from_dict(Settings, orient='index')\n",
    "    now = datetime.datetime.now()\n",
    "    colname = 'Settings: ' + str(now)\n",
    "    Settings_panda.columns = [colname]\n",
    "    Settings_panda = Settings_panda.sort()\n",
    "    Settings_panda.to_csv(r\"%s/%s_Settings_%s.csv\"%(Settings['Output Folder'], \n",
    "                                                 Settings['Label'], \n",
    "                                                 now.strftime('%Y_%m_%d__%H_%M_%S')))\n",
    "\n",
    "    end = t.clock()\n",
    "    run_time = end-start\n",
    "    print \"Analysis Complete: \", np.round(run_time,4), \" Seconds\"\n",
    "    \n",
    "    print \"\\n--------------------------------------------\"\n",
    "\n",
    "    print \"Data Column Names/Keys\"\n",
    "    print \"-----\"\n",
    "    for name in Data['original']:\n",
    "        print name\n",
    "    print \"\\n--------------------------------------------\"\n",
    "    print \"Available Measurements from Peaks for further analysis:\"\n",
    "    print \"-----\"\n",
    "    for label, col in Results['Peaks-Master'].iteritems():\n",
    "        print label\n",
    "    print \"\\n--------------------------------------------\"\n",
    "    print \"Available Measurements from Bursts for further analysis:\"\n",
    "    print \"-----\"\n",
    "    for label, col in Results['Bursts-Master'].iteritems():\n",
    "        print label\n",
    "    \n",
    "    print \"\\n---------------------------\"\n",
    "    print '|Event Detection Complete!|'\n",
    "    print \"---------------------------\\n\"\n",
    "    return Data, Settings, Results\n",
    "\n",
    "def psd_event(event_type, meas, key, scale, Data, Settings, Results):\n",
    "    '''\n",
    "    Wrapper that plots the power spectral density of one column's event measurement by calling scipy.signal.welch\n",
    "    The measurments must first be interpolated so that they can be handled like a regularly sampled descrete series.\n",
    "    User can choose the scale calling either 'raw' or 'db'.\n",
    "    the varibles inside this call are set to functions of the sampling rate of the time series. \n",
    "    nperseg and nfft are 256, noverlap is 128. scale defaults to raw.\n",
    "    \n",
    "    Parameters\n",
    "    ----------\n",
    "    Data: dictionary\n",
    "        must contain Data['original']\n",
    "    Settings: dictionary\n",
    "        dictionary that contains the user's settings. requires Settings['Sample Rate (s/frame)']\n",
    "    Results: dictionary\n",
    "        an dictionary named Results.\n",
    "    \n",
    "    Returns\n",
    "    -------\n",
    "    Results: dictionary\n",
    "        Updated to contains the following objects if bands are specified:\n",
    "        Results['PSD-Events']: a dictionary where each key is a dataframe with area in band data\n",
    "        \n",
    "    Notes\n",
    "    -----\n",
    "    raw plots in units of V**2/Hertz. db plots in units of dB/Hertz. the conversion is dB = 10*log10(raw)\n",
    "    hvaing varibles from the psd call as functions of the sampling rate of the signal is an appropreate way to handle the variblity of data collected.\n",
    "\n",
    "    changing the interpolation frequency to something appropreate for you species and measurement is critical! this can drastically change the \n",
    "    Examples\n",
    "    --------\n",
    "    #These settings are for human heart rate\n",
    "\n",
    "    Settings['PSD-Event'] = Series(index = ['Hz','ULF', 'VLF', 'LF','HF','dx'])\n",
    "    #Set PSD ranges for power in band\n",
    "\n",
    "    Settings['PSD-Event']['hz'] = 4.0 #freqency that the interpolation and PSD are performed with.\n",
    "    Settings['PSD-Event']['ULF'] = 0.03 #max of the range of the ultra low freq band. range is 0:ulf\n",
    "    Settings['PSD-Event']['VLF'] = 0.05 #max of the range of the very low freq band. range is ulf:vlf\n",
    "    Settings['PSD-Event']['LF'] = 0.15 #max of the range of the low freq band. range is vlf:lf\n",
    "    Settings['PSD-Event']['HF'] = 0.4 #max of the range of the high freq band. range is lf:hf. hf can be no more than (hz/2)\n",
    "    Settings['PSD-Event']['dx'] = 10 #segmentation for the area under the curve. \n",
    "\n",
    "    event_type = 'Peaks'\n",
    "    meas = 'Intervals'\n",
    "    key = 'Mean1'\n",
    "    scale = 'raw'\n",
    "    \n",
    "    Results = psd_event(event_type, meas, key, scale, Data, Settings, Results)\n",
    "    Results['PSD-Event'][key]\n",
    "\n",
    "    References\n",
    "    ----------\n",
    "    http://docs.scipy.org/doc/scipy-dev/reference/generated/scipy.signal.welch.html\n",
    "    interpolation adopted form Rhenan Bartels Ferreira \n",
    "    https://github.com/RhenanBartels/biosignalprocessing/blob/master/psdRRi.py\n",
    "    '''\n",
    "    try:\n",
    "        psd_e_folder = Settings['Output Folder'] +\"/PSD-Event\"\n",
    "        mkdir_p(psd_e_folder) #makes a plots folder if does not exist\n",
    "        \n",
    "    except:\n",
    "        try:\n",
    "            psd_e_folder = Settings['Output Folder'] +\"\\PSD-Event\"\n",
    "            mkdir_p(psd_e_folder) #makes a plots folder if does not exist\n",
    "            \n",
    "        except:\n",
    "            print \"Could not make psd events folder. :(\"\n",
    "\n",
    "    if event_type.lower() == 'peaks':\n",
    "        measurement = Results['Peaks']\n",
    "        columns = Results['Peaks-Master']\n",
    "\n",
    "    elif event_type.lower() == 'bursts':\n",
    "        measurement = Results['Bursts']\n",
    "        columns = Results['Bursts-Master']\n",
    "    else:\n",
    "        raise ValueError('Not an acceptable event type measurement.\\n Must be \"Peaks\" or \"Bursts\" ')\n",
    "\n",
    "\n",
    "    freq_list = measurement[key][meas].tolist()\n",
    "    time_list = measurement[key].index.tolist()\n",
    "\n",
    "    if freq_list[-1] != freq_list[-1]: #check if NaN\n",
    "        freq_list = freq_list[:-1]\n",
    "        time_list = time_list[:-1]\n",
    "        \n",
    "    #for this group, convert to niHR which is in intervals/min\n",
    "    '''\n",
    "    y = []\n",
    "    for x in freq_list:\n",
    "        x = 60/x\n",
    "        y.append(x)\n",
    "    freq_list = y\n",
    "    '''\n",
    "    #evenly spaced array using interpolation hertz        \n",
    "    \n",
    "    tx = np.arange(time_list[0], time_list[-1], (1.0/(Settings['PSD-Event']['hz'])))\n",
    "   \n",
    "    #interpolate!\n",
    "    tck = scipy.interpolate.splrep(time_list, freq_list, s = 0)\n",
    "    \n",
    "    freq_x = scipy.interpolate.splev(tx, tck, der = 0)\n",
    "    \n",
    "    #Number os estimations\n",
    "    P = int((len(tx) - 256 / 128)) + 1 #AD doesn't know what this does, but i dare not touch a damn thing.\n",
    "    \n",
    "    hertz = int(Settings['PSD-Event']['hz'])\n",
    "\n",
    "\n",
    "    Fxx, Pxx = scipy.signal.welch(freq_x, fs = hertz, window=\"hanning\", \n",
    "                                  nperseg=256, noverlap=128, nfft=256, \n",
    "                                  detrend='linear', return_onesided=True, \n",
    "                                  scaling='density')\n",
    "    \n",
    "    if scale.lower() == 'db':\n",
    "        plt.plot(Fxx,10*np.log10(Pxx))\n",
    "        plt.ylabel('Power (dB/Hz)')\n",
    "        plt.title(\"Welch's PSD of %s in dB/Hz\" %(key))\n",
    "\n",
    "    else:\n",
    "        plt.plot(Fxx, Pxx)\n",
    "        plt.ylabel(r\"PSD $(s^2$/Hz)\")\n",
    "        plt.title(r\"Welch's PSD of %s- %s in (s^2/Hz)\" %(meas, key))\n",
    "    \n",
    "    plt.xlabel(\"Frequency (Hz)\")\n",
    "    \n",
    "    try:\n",
    "        plt.savefig(r'%s/%s-%s PSD - %s.pdf'%(psd_e_folder, event_type,meas, key))\n",
    "    except:\n",
    "        plt.savefig(r'%s\\%s-%s PSD - %s.pdf'%(psd_e_folder, event_type,meas, key))\n",
    "    \n",
    "    #plt.show()\n",
    "    \n",
    "\n",
    "    \n",
    "    try:\n",
    "        if 'PSD-Event'not in Results.keys():\n",
    "            Results['PSD-Event'] = {}\n",
    "        \n",
    "        if key not in Results['PSD-Event'].keys():\n",
    "            Results['PSD-Event'][key] = DataFrame(index = ['ULF', 'VLF', 'LF','HF',\n",
    "                                                           'LF/HF', 'Total', 'Scale'])\n",
    "        \n",
    "        df_power = DataFrame( index = Fxx, data = Pxx)\n",
    "        df_power.columns = ['Power']\n",
    "        results_psd = Series(index = ['ULF', 'VLF', 'LF','HF','LF/HF', 'Total' 'Scale'])\n",
    "\n",
    "        #ULF\n",
    "        df_ulf = df_power[df_power.index<Settings['PSD-Event']['ULF']]\n",
    "        results_psd['ULF'] = scipy.integrate.simps(df_ulf['Power'], \n",
    "                                                   df_ulf.index, \n",
    "                                                   dx =Settings['PSD-Event']['dx'])\n",
    "\n",
    "        #VLF\n",
    "        df_vlf = df_power[(df_power.index>Settings['PSD-Event']['ULF']) & (df_power.index<=Settings['PSD-Event']['VLF'])]\n",
    "        results_psd['VLF'] = scipy.integrate.simps(df_vlf['Power'], df_vlf.index, dx =Settings['PSD-Event']['dx'])\n",
    "\n",
    "        #LF\n",
    "        df_lf = df_power[(df_power.index>Settings['PSD-Event']['VLF']) & (df_power.index<=Settings['PSD-Event']['LF'])]\n",
    "        results_psd['LF'] = scipy.integrate.simps(df_lf['Power'], df_lf.index, dx =Settings['PSD-Event']['dx'])\n",
    "\n",
    "        #HF\n",
    "        df_hf = df_power[(df_power.index>Settings['PSD-Event']['LF']) & (df_power.index<=Settings['PSD-Event']['HF'])]\n",
    "        results_psd['HF'] = scipy.integrate.simps(df_hf['Power'], df_hf.index, dx =Settings['PSD-Event']['dx'])\n",
    "        \n",
    "        #HF\n",
    "        df_t = df_power[df_power.index<=Settings['PSD-Event']['HF']]\n",
    "        results_psd['Total'] = scipy.integrate.simps(df_t['Power'], df_t.index, \n",
    "                                                  dx =Settings['PSD-Event']['dx'])\n",
    "\n",
    "        #LF/HF\n",
    "        results_psd['LF/HF'] = results_psd['LF']/results_psd['HF']\n",
    "        results_psd['Scale'] = NaN\n",
    "        \n",
    "        if scale.lower() == 'db':\n",
    "            try:\n",
    "                results_psd = 10*np.log10(results_psd)\n",
    "                results_psd['Scale'] = 'dB/Hz'\n",
    "            except:\n",
    "                results_psd['Scale'] = 's^2/Hz'\n",
    "        else:\n",
    "            results_psd['Scale'] = 's^2/Hz'\n",
    "        \n",
    "        Results['PSD-Event'][key][meas] = results_psd\n",
    "        \n",
    "        temp_psd_master = pd.concat(Results['PSD-Event'])\n",
    "        try:\n",
    "            temp_psd_master.to_csv(r'%s/%s_PSD_Events.csv' %(psd_e_folder, Settings['Label']))\n",
    "            Settings['PSD-Event'].to_csv(r'%s/%s_PSD_Events_Settings.csv' %(psd_e_folder, Settings['Label']))\n",
    "        except: #for windows\n",
    "            temp_psd_master.to_csv(r'%s\\%s_PSD_Events.csv' %(psd_e_folder, Settings['Label']))\n",
    "            Settings['PSD-Event'].to_csv(r'%s\\%s_PSD_Events_Settings.csv' %(psd_e_folder, Settings['Label']))\n",
    "    except:\n",
    "        print \"Could not calculate power in band.\"\n",
    "    return Results\n",
    "\n",
    "pd.options.display.max_columns = 25\n",
    "\n",
    "#Run detection\n",
    "Data, Settings, Results = analyze(Data, Settings, Results)\n",
    "\n",
    "#New HRV stuff\n",
    "event_type = 'Peaks'\n",
    "meas = 'Intervals'\n",
    "key = Settings['Label']\n",
    "start_time = t.clock()\n",
    "#create results table\n",
    "hrv = pd.DataFrame(columns=['Beats', 'Recording Length (s)','Mean HR', 'Mean RR', \n",
    "                            'STD RR', 'pNN50', 'rMSSD', 'IRRR', 'MADRR','TINN', \n",
    "                            'HRV index', 'ApEn', 'Sample Ent', 'HistEnt', 'SD1', 'SD2',\n",
    "                            'ULF', 'VLF', 'LF', 'HF', 'Total Power', 'LF/HF Ratio'],\n",
    "                  index = [key])\n",
    "\n",
    "#total number of beats\n",
    "try:\n",
    "    hrv.ix[key]['Beats'] = Results['Peaks-Master']['Peaks Amplitude'].count()\n",
    "except:\n",
    "    hrv.ix[key]['Beats'] = NaN\n",
    "    \n",
    "#Mean Heart Rate, beats/min\n",
    "try:\n",
    "    t_sec = Data['trans'].index[-1]-Data['trans'].index[0]\n",
    "    hrv.ix[key]['Recording Length (s)'] = t_sec\n",
    "except:\n",
    "    hrv.ix[key]['Recording Length (s)'] = NaN\n",
    "    \n",
    "try:\n",
    "    t_min = t_sec/60\n",
    "    hrv.ix[key]['Mean HR'] = hrv.ix[key]['Beats']/t_min\n",
    "except:\n",
    "    hrv.ix[key]['Mean HR'] = NaN\n",
    "    \n",
    "#mean r-r interval\n",
    "try:\n",
    "    hrv.ix[key]['Mean RR'] = Results['Peaks-Master']['Intervals'].mean()\n",
    "except:\n",
    "    hrv.ix[key]['Mean RR'] = NaN\n",
    "#std r-r interval\n",
    "try:\n",
    "    hrv.ix[key]['STD RR'] = Results['Peaks-Master']['Intervals'].std()\n",
    "except:\n",
    "    hrv.ix[key]['STD RR'] = NaN\n",
    "    \n",
    "#PSD of frequency domain, in beats/min\n",
    "Settings['PSD-Event'] = Series(index = ['Hz','ULF', 'VLF', 'LF','HF','dx'])\n",
    "#Set PSD ranges for power in band\n",
    "\n",
    "Settings['PSD-Event']['hz'] = 4.0 #freqency that the interpolation and PSD are performed with.\n",
    "Settings['PSD-Event']['ULF'] = 0.03 #max of the range of the ultra low freq band. range is 0:ulf\n",
    "Settings['PSD-Event']['VLF'] = 0.05 #max of the range of the very low freq band. range is ulf:vlf\n",
    "Settings['PSD-Event']['LF'] = 0.15 #max of the range of the low freq band. range is vlf:lf\n",
    "Settings['PSD-Event']['HF'] = 0.4 #max of the range of the high freq band. range is lf:hf. hf can be no more than (hz/2)\n",
    "Settings['PSD-Event']['dx'] = 10 #segmentation for the area under the curve. \n",
    "scale = 'raw'\n",
    "\n",
    "Results = psd_event(event_type, meas, key, scale, Data, Settings, Results)\n",
    "plt.close()\n",
    "\n",
    "try:\n",
    "    hrv.ix[key]['ULF'] = Results['PSD-Event'][key].ix['ULF'][meas]\n",
    "except:\n",
    "    hrv.ix[key]['ULF'] = NaN\n",
    "try:\n",
    "    hrv.ix[key]['VLF'] = Results['PSD-Event'][key].ix['VLF'][meas]\n",
    "except:\n",
    "    hrv.ix[key]['VLF'] = NaN\n",
    "try:    \n",
    "    hrv.ix[key]['LF'] = Results['PSD-Event'][key].ix['LF'][meas]\n",
    "except:\n",
    "    hrv.ix[key]['LF'] = NaN\n",
    "try:\n",
    "    hrv.ix[key]['HF'] = Results['PSD-Event'][key].ix['HF'][meas]\n",
    "except:\n",
    "    hrv.ix[key]['HF'] = NaN\n",
    "try:\n",
    "    hrv.ix[key]['LF/HF Ratio'] = Results['PSD-Event'][key].ix['LF/HF'][meas]\n",
    "except:\n",
    "    hrv.ix[key]['LF/HF Ratio'] = NaN\n",
    "try:\n",
    "    hrv.ix[key]['Total Power'] = Results['PSD-Event'][key].ix['Total'][meas]\n",
    "except:\n",
    "    hrv.ix[key]['Total Power'] = NaN\n",
    "\n",
    "#pNN50\n",
    "try:\n",
    "    rr_diffs = np.diff(Results[event_type][key][meas])\n",
    "    rr_ints50 = rr_diffs[abs(rr_diffs)>0.05]\n",
    "    pNN50 = 100*len(rr_ints50)/Results[event_type][key][meas].count()\n",
    "    hrv.ix[key]['pNN50'] = pNN50\n",
    "except:\n",
    "    hrv.ix[key]['pNN50'] = NaN\n",
    "    \n",
    "#root mean square of successive differences (rMSSD)\n",
    "try:\n",
    "    hrv.ix[key]['rMSSD'] = np.sqrt(np.mean(Results[event_type][key][meas]**2))\n",
    "except:\n",
    "    hrv.ix[key]['rMSSD'] = NaN\n",
    "#IRRR\n",
    "try:\n",
    "    rr_quants = scipy.stats.mstats.mquantiles(Results[event_type][key][meas])\n",
    "    hrv.ix[key]['IRRR'] = rr_quants[-1] - rr_quants[0]\n",
    "except:\n",
    "    hrv.ix[key]['IRRR'] = NaN\n",
    "#MADRR\n",
    "try:\n",
    "    hrv.ix[key]['MADRR'] = np.median(np.abs(Results[event_type][key][meas]))\n",
    "except:\n",
    "    hrv.ix[key]['MADRR'] = NaN\n",
    "#TINN\n",
    "#taken and adapted from gHRV\n",
    "\n",
    "min_rr = Results[event_type][key][meas].min()\n",
    "max_rr = Results[event_type][key][meas].max()\n",
    "med_rr = (min_rr + max_rr)/2\n",
    "\n",
    "#i believe that interval here is the sampling frequency, \n",
    "#based on gHRV documentation\n",
    "try:\n",
    "    interval = Data['original'].index[1]-Data['original'].index[0]\n",
    "    lowhist = med_rr * interval * np.ceil((med_rr - min_rr)/interval)\n",
    "    longhist = int(np.ceil((max_rr - lowhist)/interval) +1)\n",
    "    vecthist=np.array([lowhist+interval*i for i in range(longhist)])\n",
    "    h=np.histogram(Results[event_type][key][meas],vecthist)\n",
    "    area = float(Results[event_type][key][meas].count()) * interval\n",
    "    maxhist = max(h[0])\n",
    "    hrv.ix[key]['TINN'] = area/maxhist\n",
    "    #HRV index\n",
    "    hrv.ix[key]['HRV index'] = Results[event_type][key][meas].count()/maxhist\n",
    "\n",
    "except:\n",
    "    hrv.ix[key]['TINN'] = NaN\n",
    "    #HRV index\n",
    "    hrv.ix[key]['HRV index'] = NaN\n",
    "    \n",
    "#Hist Ent\n",
    "try:\n",
    "    Results = histent_wrapper(event_type, meas, Data, Settings, Results)\n",
    "    hrv.ix[key]['HistEnt'] = Results['Histogram Entropy'].ix[key][meas]\n",
    "except:\n",
    "    hrv.ix[key]['HistEnt'] = NaN\n",
    "\n",
    "#poincare\n",
    "try:\n",
    "    Results = poincare_batch(event_type, meas, Data, Settings, Results)\n",
    "    hrv.ix[key]['SD1'] =Results['Poincare SD1'].ix[key][meas]\n",
    "    hrv.ix[key]['SD2'] =Results['Poincare SD2'].ix[key][meas]\n",
    "except:\n",
    "    hrv.ix[key]['SD1'] =NaN\n",
    "    hrv.ix[key]['SD2'] =NaN\n",
    "    \n",
    "#Approximate Ent\n",
    "try:\n",
    "    Results = ap_entropy_wrapper(event_type, meas, Data, Settings, Results)\n",
    "    hrv.ix[key]['ApEn'] = Results['Approximate Entropy'].ix[key][meas]\n",
    "except:\n",
    "    hrv.ix[key]['ApEn'] = NaN\n",
    "#Sample Ent\n",
    "try:\n",
    "    Results = samp_entropy_wrapper(event_type, meas, Data, Settings, Results)\n",
    "    hrv.ix[key]['Sample Ent'] = Results['Sample Entropy'].ix[key][meas]\n",
    "except:\n",
    "    hrv.ix[key]['Sample Ent'] = NaN\n",
    "\n",
    "    \n",
    "hrv.to_csv(r\"%s/%s_HRV.csv\"%(Settings['Output Folder'],Settings['Label']))\n",
    "end_time = t.clock()\n",
    "\n",
    "print 'Heart Rate Varibility Analysis Complete: %s sec' %np.round((end_time- start_time), 4)\n",
    "hrv"
   ]
  },
  {
   "cell_type": "markdown",
   "metadata": {},
   "source": [
    "#OPTIONAL GRAPHS AND ANALYSIS\n",
    "\n",
    "The following blocks are optional calls to other figures and analysis"
   ]
  },
  {
   "cell_type": "markdown",
   "metadata": {},
   "source": [
    "## Display Event Detection Tables\n",
    "#### Display Settings used for analysis"
   ]
  },
  {
   "cell_type": "code",
   "execution_count": null,
   "metadata": {
    "collapsed": false
   },
   "outputs": [],
   "source": [
    "display_settings(Settings)"
   ]
  },
  {
   "cell_type": "markdown",
   "metadata": {},
   "source": [
    "#### Display Summary Results for Peaks"
   ]
  },
  {
   "cell_type": "code",
   "execution_count": null,
   "metadata": {
    "collapsed": false
   },
   "outputs": [],
   "source": [
    "#grouped summary for peaks\n",
    "Results['Peaks-Master'].groupby(level=0).describe()"
   ]
  },
  {
   "cell_type": "markdown",
   "metadata": {},
   "source": [
    "#### Display Summary Results for Bursts"
   ]
  },
  {
   "cell_type": "code",
   "execution_count": null,
   "metadata": {
    "collapsed": false
   },
   "outputs": [],
   "source": [
    "#grouped summary for bursts\n",
    "Results['Bursts-Master'].groupby(level=0).describe()"
   ]
  },
  {
   "cell_type": "markdown",
   "metadata": {},
   "source": [
    "# Interactive Graphs\n",
    "## Line Graphs\n",
    "####One pannel, detected events\n",
    "Plot one time series by calling it's name"
   ]
  },
  {
   "cell_type": "code",
   "execution_count": 4,
   "metadata": {
    "collapsed": false
   },
   "outputs": [],
   "source": [
    "#Interactive, single time series by Key\n",
    "key = Settings['Label']\n",
    "graph_ts(Data, Settings, Results, key)"
   ]
  },
  {
   "cell_type": "markdown",
   "metadata": {},
   "source": [
    "####Two pannel\n",
    "Create line plots of the raw data as well as the data analysis. \n",
    "\n",
    "Plots are saved by clicking the save button in the pop-up window with your graph.\n",
    "\n",
    "    key = 'Mean1'\n",
    "    start =100 \n",
    "    end= 101\n",
    "\n",
    "[Results Line Plot](https://github.com/drcgw/bass/wiki/Single-Wave-Interactive-Protocol#line-plots)"
   ]
  },
  {
   "cell_type": "code",
   "execution_count": 5,
   "metadata": {
    "collapsed": false
   },
   "outputs": [],
   "source": [
    "key = Settings['Label']\n",
    "start =100 #start time in seconds\n",
    "end= 101#end time in seconds\n",
    "results_timeseries_plot(key, start, end, Data, Settings, Results)"
   ]
  },
  {
   "cell_type": "markdown",
   "metadata": {},
   "source": [
    "## Autocorrelation"
   ]
  },
  {
   "cell_type": "markdown",
   "metadata": {},
   "source": [
    "Display the Autocorrelation plot of your transformed data.\n",
    "\n",
    "Choose the start and end time in seconds. to capture whole time series, use end = -1. May be slow\n",
    "\n",
    "    key = 'Mean1'\n",
    "    start = 0 \n",
    "    end = 10\n",
    "    \n",
    "[Autocorrelation Plot](https://github.com/drcgw/bass/wiki/Single-Wave-Interactive-Protocol#autocorrelation)"
   ]
  },
  {
   "cell_type": "code",
   "execution_count": null,
   "metadata": {
    "collapsed": false
   },
   "outputs": [],
   "source": [
    "#autocorrelation\n",
    "key = Settings['Label']\n",
    "start = 0 #seconds, where you want the slice to begin\n",
    "end = 1 #seconds, where you want the slice to end.\n",
    "autocorrelation_plot(Data['trans'][key][start:end])\n",
    "plt.show()"
   ]
  },
  {
   "cell_type": "markdown",
   "metadata": {},
   "source": [
    "## Raster Plot"
   ]
  },
  {
   "cell_type": "markdown",
   "metadata": {},
   "source": [
    "Shows the temporal relationship of peaks in each column. Auto scales. Display only. Intended for more than one column of data"
   ]
  },
  {
   "cell_type": "code",
   "execution_count": null,
   "metadata": {
    "collapsed": false
   },
   "outputs": [],
   "source": [
    "#raster\n",
    "raster(Data, Results)"
   ]
  },
  {
   "cell_type": "markdown",
   "metadata": {},
   "source": [
    "## Frequency Plot\n",
    "Use this block to plot changes of any measurement over time. Does not support 'all'. Example:\n",
    "\n",
    "    event_type = 'Peaks'\n",
    "    meas = 'Intervals'\n",
    "    key = 'Mean1'\n",
    "\n",
    "[Frequency Plot](https://github.com/drcgw/bass/wiki/Single-Wave-Interactive-Protocol#frequency-plot)"
   ]
  },
  {
   "cell_type": "code",
   "execution_count": 5,
   "metadata": {
    "collapsed": false
   },
   "outputs": [],
   "source": [
    "event_type = 'Peaks'\n",
    "meas = 'Intervals'\n",
    "key = Settings['Label']\n",
    "frequency_plot(event_type, meas, key, Data, Settings, Results)"
   ]
  },
  {
   "cell_type": "markdown",
   "metadata": {},
   "source": [
    "## Analyze Events by Measurement\n",
    "Generates a line plot with error bars for a given event measurement. X axis is the names of each time series. Display Only. Intended for more than one column of data. This is not a box and whiskers plot.\n",
    "\n",
    "    event_type = 'peaks'\n",
    "    meas = 'Peaks Amplitude'\n",
    "    \n",
    "[Analyze Events by Measurement](https://github.com/drcgw/bass/wiki/Single-Wave-Interactive-Protocol#analyze-events-by-measurement)"
   ]
  },
  {
   "cell_type": "code",
   "execution_count": null,
   "metadata": {
    "collapsed": false
   },
   "outputs": [],
   "source": [
    "#Get average plots, display only\n",
    "event_type = 'Peaks'\n",
    "meas = 'Intervals'\n",
    "average_measurement_plot(event_type, meas,Results)"
   ]
  },
  {
   "cell_type": "markdown",
   "metadata": {},
   "source": [
    "## Poincare Plots\n",
    "\n",
    "Create a Poincare Plot of your favorite varible. Choose an event type (Peaks or Bursts), measurement type. Calling meas = 'All' is supported.\n",
    "\n",
    "Plots and tables are saved automatically\n",
    "\n",
    "Example:\n",
    "\n",
    "    event_type = 'Bursts'\n",
    "    meas = 'Burst Duration'\n",
    "\n",
    "[More on Poincare Plots](https://github.com/drcgw/bass/wiki/Single-Wave-Interactive-Protocol#poincare-plots)\n",
    "\n",
    "####Batch Poincare\n",
    "\n",
    "[Batch Poincare](https://github.com/drcgw/bass/wiki/Single-Wave-Interactive-Protocol#batch-poincare)"
   ]
  },
  {
   "cell_type": "code",
   "execution_count": null,
   "metadata": {
    "collapsed": false
   },
   "outputs": [],
   "source": [
    "#Batch\n",
    "event_type = 'Peaks'\n",
    "meas = 'Intervals'\n",
    "Results = poincare_batch(event_type, meas, Data, Settings, Results)\n",
    "pd.concat({'SD1':Results['Poincare SD1'],'SD2':Results['Poincare SD2']})"
   ]
  },
  {
   "cell_type": "markdown",
   "metadata": {},
   "source": [
    "####Quick Poincare Plot\n",
    "\n",
    "Quickly call one poincare plot for display. Plot and Table are not saved automatically. Choose an event type (Peaks or Bursts), measurement type, and key. Calling meas = 'All' is not supported.\n",
    "\n",
    "[Quick Poincare](https://github.com/drcgw/bass/wiki/Single-Wave-Interactive-Protocol#quick-poincare-plots)"
   ]
  },
  {
   "cell_type": "code",
   "execution_count": 4,
   "metadata": {
    "collapsed": false
   },
   "outputs": [
    {
     "name": "stdout",
     "output_type": "stream",
     "text": [
      "Intervals results:\n",
      "SD1 = 0.0517 s\n",
      "SD2 = 0.0548 s\n"
     ]
    }
   ],
   "source": [
    "#quick\n",
    "event_type = 'Peaks'\n",
    "meas = 'Intervals'\n",
    "key = Settings['Label']\n",
    "poincare_plot(Results[event_type][key][meas])"
   ]
  },
  {
   "cell_type": "markdown",
   "metadata": {},
   "source": [
    "## Power Spectral Density\n",
    "The following blocks allows you to asses the power of event measuments in the frequency domain. While you can call this block on any event measurement, it is intended to be used on interval data (or at least data with units in seconds). Reccomended:\n",
    "\n",
    "    event_type = 'Bursts'\n",
    "    meas = 'Total Cycle Time'\n",
    "    key = 'Mean1'\n",
    "    scale = 'raw'\n",
    "    \n",
    "    event_type = 'Peaks'\n",
    "    meas = 'Intervals'\n",
    "    key = 'Mean1'\n",
    "    scale = 'raw'\n",
    "\n",
    "Because this data is in the frequency domain, we must interpolate it in order to perform a FFT on it. Does not support 'all'.\n",
    "\n",
    "[Power Spectral Density: Events](https://github.com/drcgw/bass/wiki/Single-Wave-Interactive-Protocol#power-spectral-density)"
   ]
  },
  {
   "cell_type": "markdown",
   "metadata": {},
   "source": [
    "### Events"
   ]
  },
  {
   "cell_type": "markdown",
   "metadata": {},
   "source": [
    "Use the code block below to specify your settings for event measurment PSD."
   ]
  },
  {
   "cell_type": "code",
   "execution_count": null,
   "metadata": {
    "collapsed": false
   },
   "outputs": [],
   "source": [
    "Settings['PSD-Event'] = Series(index = ['Hz','ULF', 'VLF', 'LF','HF','dx'])\n",
    "#Set PSD ranges for power in band\n",
    "\n",
    "Settings['PSD-Event']['hz'] = 4.0 #freqency that the interpolation and PSD are performed with.\n",
    "Settings['PSD-Event']['ULF'] = 0.03 #max of the range of the ultra low freq band. range is 0:ulf\n",
    "Settings['PSD-Event']['VLF'] = 0.05 #max of the range of the very low freq band. range is ulf:vlf\n",
    "Settings['PSD-Event']['LF'] = 0.15 #max of the range of the low freq band. range is vlf:lf\n",
    "Settings['PSD-Event']['HF'] = 0.4 #max of the range of the high freq band. range is lf:hf. hf can be no more than (hz/2)\n",
    "Settings['PSD-Event']['dx'] = 10 #segmentation for the area under the curve. "
   ]
  },
  {
   "cell_type": "code",
   "execution_count": null,
   "metadata": {
    "collapsed": false
   },
   "outputs": [],
   "source": [
    "event_type = 'Peaks'\n",
    "meas = 'Intervals'\n",
    "key = Settings['Label']\n",
    "scale = 'raw'\n",
    "Results = psd_event(event_type, meas, key, scale, Data, Settings, Results)\n",
    "Results['PSD-Event'][key]"
   ]
  },
  {
   "cell_type": "markdown",
   "metadata": {},
   "source": [
    "### Time Series"
   ]
  },
  {
   "cell_type": "markdown",
   "metadata": {},
   "source": [
    "Use the settings code block to set your frequency bands to calculate area under the curve. This block is not required. band output is always in raw power, even if the graph scale is dB/Hz.\n",
    "\n",
    "[Power Spectral Density: Signal](https://github.com/drcgw/bass/wiki/Single-Wave-Interactive-Protocol#power-spectral-density-optional)"
   ]
  },
  {
   "cell_type": "code",
   "execution_count": null,
   "metadata": {
    "collapsed": false
   },
   "outputs": [],
   "source": [
    "#optional\n",
    "Settings['PSD-Signal'] = Series(index = ['ULF', 'VLF', 'LF','HF','dx'])\n",
    "\n",
    "#Set PSD ranges for power in band\n",
    "Settings['PSD-Signal']['ULF'] = 25 #max of the range of the ultra low freq band. range is 0:ulf\n",
    "Settings['PSD-Signal']['VLF'] = 75 #max of the range of the very low freq band. range is ulf:vlf\n",
    "Settings['PSD-Signal']['LF'] = 150 #max of the range of the low freq band. range is vlf:lf\n",
    "Settings['PSD-Signal']['HF'] = 300 #max of the range of the high freq band. range is lf:hf. hf can be no more than (hz/2) where hz is the sampling frequency\n",
    "Settings['PSD-Signal']['dx'] = 2 #segmentation for integration of the area under the curve. "
   ]
  },
  {
   "cell_type": "markdown",
   "metadata": {},
   "source": [
    "Use the block below to generate the PSD graph and power in bands results (if selected). scale toggles which units to use for the graph:\n",
    "    \n",
    "    raw = s^2/Hz\n",
    "    db = dB/Hz = 10*log10(s^2/Hz)\n",
    "    \n",
    "Graph and table are automatically saved in the `PSD-Signal` subfolder."
   ]
  },
  {
   "cell_type": "code",
   "execution_count": null,
   "metadata": {
    "collapsed": false
   },
   "outputs": [],
   "source": [
    "scale = 'raw' #raw or db\n",
    "Results = psd_signal(version = 'original', key = 'Mean1', scale = scale, \n",
    "                     Data = Data, Settings = Settings, Results = Results)\n",
    "Results['PSD-Signal']"
   ]
  },
  {
   "cell_type": "markdown",
   "metadata": {},
   "source": [
    "### Spectrogram"
   ]
  },
  {
   "cell_type": "markdown",
   "metadata": {},
   "source": [
    "Use the block below to get the spectrogram of the signal. The frequency (y-axis) scales automatically to only show 'active' frequencies. This can take some time to run. \n",
    "\n",
    "    version = 'original'\n",
    "    key = 'Mean1'\n",
    "\n",
    "After transformation is run, you can call version = 'trans'. This graph is not automatically saved.\n",
    "\n",
    "[Spectrogram](https://github.com/drcgw/bass/wiki/Single-Wave-Interactive-Protocol#spectrogram)"
   ]
  },
  {
   "cell_type": "code",
   "execution_count": null,
   "metadata": {
    "collapsed": false
   },
   "outputs": [],
   "source": [
    "version = 'original'\n",
    "key = Settings['Label']\n",
    "spectogram(version, key, Data, Settings, Results)"
   ]
  },
  {
   "cell_type": "markdown",
   "metadata": {},
   "source": [
    "## Descriptive Statistics"
   ]
  },
  {
   "cell_type": "markdown",
   "metadata": {},
   "source": [
    "#### Moving/Sliding Averages, Standard Deviation, and Count\n",
    "Generates the moving **mean**, **standard deviation**, and **count** for a given measurement across all columns of the Data in the form of a DataFrame (displayed as a table).\n",
    "Saves out the dataframes of these three results automatically with the window size in the name as a .csv.\n",
    "If **meas == 'All'**, then the function will loop and produce these tables for all measurements.\n",
    "\n",
    "    event_type = 'Peaks'\n",
    "    meas = 'all'\n",
    "    window = 30\n",
    "    \n",
    "[Moving Stats](https://github.com/drcgw/bass/wiki/Single-Wave-Interactive-Protocol#analyze-events-by-measurement)"
   ]
  },
  {
   "cell_type": "code",
   "execution_count": null,
   "metadata": {
    "collapsed": false
   },
   "outputs": [],
   "source": [
    "#Moving Stats\n",
    "event_type = 'Peaks'\n",
    "meas = 'Intervals'\n",
    "window = 30 #seconds\n",
    "Results = moving_statistics(event_type, meas, window, Data, Settings, Results)"
   ]
  },
  {
   "cell_type": "markdown",
   "metadata": {},
   "source": [
    "## Entropy"
   ]
  },
  {
   "cell_type": "markdown",
   "metadata": {},
   "source": [
    "### Histogram Entropy\n",
    "Calculates the histogram entropy of a measurement for each column of data. Also saves the histogram of each. If meas is set to 'all', then all available measurements from the event_type chosen will be calculated iteratevely. \n",
    "\n",
    "If all of the samples fall in one bin regardless of the bin size, it means we have the most predictable sitution and the entropy is 0. If we have uniformly dist function, the max entropy will be 1\n",
    "\n",
    "    event_type = 'Bursts'\n",
    "    meas = 'all'\n",
    "\n",
    "[Histogram Entropy](https://github.com/drcgw/bass/wiki/Single-Wave-Interactive-Protocol#histentropy)"
   ]
  },
  {
   "cell_type": "code",
   "execution_count": 9,
   "metadata": {
    "collapsed": false
   },
   "outputs": [
    {
     "data": {
      "text/html": [
       "<div style=\"max-height:1000px;max-width:1500px;overflow:auto;\">\n",
       "<table border=\"1\" class=\"dataframe\">\n",
       "  <thead>\n",
       "    <tr style=\"text-align: right;\">\n",
       "      <th></th>\n",
       "      <th>Intervals</th>\n",
       "    </tr>\n",
       "  </thead>\n",
       "  <tbody>\n",
       "    <tr>\n",
       "      <th>2014-06-10rat70-ECG.txt</th>\n",
       "      <td>0.197255</td>\n",
       "    </tr>\n",
       "  </tbody>\n",
       "</table>\n",
       "</div>"
      ],
      "text/plain": [
       "                         Intervals\n",
       "2014-06-10rat70-ECG.txt   0.197255"
      ]
     },
     "execution_count": 9,
     "metadata": {},
     "output_type": "execute_result"
    }
   ],
   "source": [
    "#Histogram Entropy\n",
    "event_type = 'Peaks'\n",
    "meas = 'Intervals'\n",
    "Results = histent_wrapper(event_type, meas, Data, Settings, Results)\n",
    "Results['Histogram Entropy']"
   ]
  },
  {
   "cell_type": "markdown",
   "metadata": {},
   "source": [
    "## Approximate entropy\n",
    "this only runs if you have pyeeg.py in the same folder as this notebook and bass.py. **WARNING: THIS FUNCTION RUNS SLOWLY**\n",
    "\n",
    "run the below code to get the approximate entropy of any measurement or raw signal. Returns the entropy of the entire results array (no windowing). I am using the following M and R values:\n",
    "\n",
    "    M = 2  \n",
    "    R = 0.2*std(measurement)\n",
    "    \n",
    "these values can be modified in the source code. alternatively, you can call ap_entropy directly. supports 'all'\n",
    "\n",
    "**Interpretation**: A time series containing many repetitive patterns has a relatively small ApEn; a less predictable process has a higher ApEn.\n",
    "\n",
    "[Approximate Entropy in BASS](https://github.com/drcgw/bass/wiki/Single-Wave-Interactive-Protocol#approximate-entropy)\n",
    "\n",
    "[Aproximate Entropy Source](http://pyeeg.sourceforge.net/)\n",
    "\n",
    "###Events"
   ]
  },
  {
   "cell_type": "code",
   "execution_count": null,
   "metadata": {
    "collapsed": true
   },
   "outputs": [],
   "source": [
    "#Approximate Entropy\n",
    "event_type = 'Peaks'\n",
    "meas = 'Intervals'\n",
    "Results = ap_entropy_wrapper(event_type, meas, Data, Settings, Results)\n",
    "Results['Approximate Entropy']"
   ]
  },
  {
   "cell_type": "markdown",
   "metadata": {},
   "source": [
    "###Time Series"
   ]
  },
  {
   "cell_type": "code",
   "execution_count": null,
   "metadata": {
    "collapsed": true
   },
   "outputs": [],
   "source": [
    "#Approximate Entropy on raw signal\n",
    "#takes a VERY long time\n",
    "from pyeeg import ap_entropy\n",
    "\n",
    "version = 'original' #original, trans, shift, or rolling\n",
    "key = Settings['Label'] #Mean1 default key for one time series\n",
    "start = 0 #seconds, where you want the slice to begin\n",
    "end = 1 #seconds, where you want the slice to end. The absolute end is -1\n",
    "\n",
    "ap_entropy(Data[version][key][start:end].tolist(), 2, (0.2*np.std(Data[version][key][start:end])))"
   ]
  },
  {
   "cell_type": "markdown",
   "metadata": {},
   "source": [
    "### Sample Entropy\n",
    "this only runs if you have pyeeg.py in the same folder as this notebook and bass.py. **WARNING: THIS FUNCTION RUNS SLOWLY**\n",
    "\n",
    "run the below code to get the sample entropy of any measurement. Returns the entropy of the entire results array (no windowing). I am using the following M and R values:\n",
    "\n",
    "    M = 2  \n",
    "    R = 0.2*std(measurement)\n",
    "    \n",
    "these values can be modified in the source code. alternatively, you can call samp_entropy directly. \n",
    "Supports 'all'\n",
    "\n",
    "[Sample Entropy in BASS](https://github.com/drcgw/bass/wiki/Single-Wave-Interactive-Protocol#sample-entropy)\n",
    "\n",
    "[Sample Entropy Source](http://pyeeg.sourceforge.net/)\n",
    "\n",
    "###Events"
   ]
  },
  {
   "cell_type": "code",
   "execution_count": null,
   "metadata": {
    "collapsed": true
   },
   "outputs": [],
   "source": [
    "#Sample Entropy\n",
    "event_type = 'Peaks'\n",
    "meas = 'Intervals'\n",
    "Results = samp_entropy_wrapper(event_type, meas, Data, Settings, Results)\n",
    "Results['Sample Entropy']"
   ]
  },
  {
   "cell_type": "markdown",
   "metadata": {},
   "source": [
    "###Time Series"
   ]
  },
  {
   "cell_type": "code",
   "execution_count": null,
   "metadata": {
    "collapsed": true
   },
   "outputs": [],
   "source": [
    "#on raw signal\n",
    "#takes a VERY long time\n",
    "version = 'original' #original, trans, shift, or rolling\n",
    "key = Settings['Label']\n",
    "start = 0 #seconds, where you want the slice to begin\n",
    "end = 1 #seconds, where you want the slice to end. The absolute end is -1\n",
    "\n",
    "samp_entropy(Data[version][key][start:end].tolist(), 2, (0.2*np.std(Data[version][key][start:end])))"
   ]
  },
  {
   "cell_type": "markdown",
   "metadata": {},
   "source": [
    "# Helpful Stuff"
   ]
  },
  {
   "cell_type": "markdown",
   "metadata": {},
   "source": [
    "While not completely up to date with some of the new changes, the Wiki can be useful if you have questions about some of the settings: https://github.com/drcgw/SWAN/wiki/Tutorial"
   ]
  },
  {
   "cell_type": "markdown",
   "metadata": {},
   "source": [
    "# More Help?"
   ]
  },
  {
   "cell_type": "markdown",
   "metadata": {},
   "source": [
    "Stuck on a particular step or function?\n",
    "Try typing the function name followed by two ??. This will pop up the docstring and source code.\n",
    "You can also call help() to have the notebook print the doc string.\n",
    "\n",
    "    Example:\n",
    "    analyze??\n",
    "    help(analyze)"
   ]
  },
  {
   "cell_type": "code",
   "execution_count": null,
   "metadata": {
    "collapsed": false
   },
   "outputs": [],
   "source": [
    "help(moving_statistics)"
   ]
  },
  {
   "cell_type": "code",
   "execution_count": null,
   "metadata": {
    "collapsed": false
   },
   "outputs": [],
   "source": [
    "moving_statistics??"
   ]
  },
  {
   "cell_type": "markdown",
   "metadata": {},
   "source": [
    "##Blank Code Block\n",
    "you're still here, reading? you must be a dedicated super user!\n",
    "\n",
    "If that is the case, then you must know how to code in Python. Use this space to get crazy with your own advanced analysis and stuff.\n",
    "\n",
    "[Blank Code Block](https://github.com/drcgw/bass/wiki/Single-Wave-Interactive-Protocol#blank-code-block)"
   ]
  },
  {
   "cell_type": "code",
   "execution_count": null,
   "metadata": {
    "collapsed": true
   },
   "outputs": [],
   "source": []
  }
 ],
 "metadata": {
  "kernelspec": {
   "display_name": "Python 2",
   "language": "python",
   "name": "python2"
  },
  "language_info": {
   "codemirror_mode": {
    "name": "ipython",
    "version": 2
   },
   "file_extension": ".py",
   "mimetype": "text/x-python",
   "name": "python",
   "nbconvert_exporter": "python",
   "pygments_lexer": "ipython2",
   "version": "2.7.6"
  }
 },
 "nbformat": 4,
 "nbformat_minor": 0
}
